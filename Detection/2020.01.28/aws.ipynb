{
 "cells": [
  {
   "cell_type": "markdown",
   "metadata": {},
   "source": [
    "### jupyter notebook --generate-config 을 입력하면\n",
    "\n",
    "/home/username/.jupyter :  jupyter_notebook_config.py 확인할 수 있음\n",
    "\n",
    "### python3 입력\n",
    "\n",
    "### from notebook.auth import passwd 입력\n",
    "\n",
    "### passwd()가 나오면 --> 아무거나 치고(예를 들면 1234)\n",
    "verify passwd가 나오면 1234 똑같이 치고\n",
    "\n",
    "'sha1:f037c1b0ce87:81a0da7d8dea975636213c64507aab1f0bfe3d6a' 를 확인 할 수 있는데 **이거 미리 복사!!!!**\n",
    "\n",
    "\n",
    "vi ~/.jupyter/jupyter_notebook_config.py 를 입력하고\n",
    "(또는 vim ~/.jupyter/jupyter_notebook_config.py)\n",
    "\n",
    "c = get_config() --> 이건 안해도 되는듯\n",
    "\n",
    "맨 마지막 줄에서\n",
    "### c.NotebookApp.password = u'sha1:f037c1b0ce87:81a0da7d8dea975636213c64507aab1f0bfe3d6a' 입력하고\n",
    "esc+ :wq! 입력 후 빠져나오기\n",
    "\n",
    "### cd detection로 경로 이동후에 jupyter notebook --ip 0.0.0.0 --port 8891(자기포트번호) 입력\n",
    "\n",
    "\n",
    "이후 크롬창에 주소로 http://13.124.193.28:8891/ (my아이피/my포트번호) 이동하면\n",
    "비밀번호 입력하는 창이 뜨는데 거기서 아까 입력했던 비밀번호 1234를 입력함\n",
    "\n",
    "그러면 이제 주피터 노트북을 쓸 수 있음"
   ]
  },
  {
   "cell_type": "markdown",
   "metadata": {},
   "source": [
    "git clone https://github.com/pjreddie/darknet.git\n",
    "\n",
    "vi Makefile\n",
    "\n",
    "CUDA 사용 GPU=1\n",
    "\n",
    "opencv 사용  OPENCV=1\n",
    "\n",
    "make\n",
    "\n",
    "wget https://pjreddie.com/media/files/yolov3.weights\n",
    "\n",
    "./darknet detect cfg/yolov3.cfg yolov3.weights data/dog.jpg"
   ]
  }
 ],
 "metadata": {
  "kernelspec": {
   "display_name": "Python 3",
   "language": "python",
   "name": "python3"
  },
  "language_info": {
   "codemirror_mode": {
    "name": "ipython",
    "version": 3
   },
   "file_extension": ".py",
   "mimetype": "text/x-python",
   "name": "python",
   "nbconvert_exporter": "python",
   "pygments_lexer": "ipython3",
   "version": "3.7.5"
  },
  "varInspector": {
   "cols": {
    "lenName": 16,
    "lenType": 16,
    "lenVar": 40
   },
   "kernels_config": {
    "python": {
     "delete_cmd_postfix": "",
     "delete_cmd_prefix": "del ",
     "library": "var_list.py",
     "varRefreshCmd": "print(var_dic_list())"
    },
    "r": {
     "delete_cmd_postfix": ") ",
     "delete_cmd_prefix": "rm(",
     "library": "var_list.r",
     "varRefreshCmd": "cat(var_dic_list()) "
    }
   },
   "types_to_exclude": [
    "module",
    "function",
    "builtin_function_or_method",
    "instance",
    "_Feature"
   ],
   "window_display": false
  }
 },
 "nbformat": 4,
 "nbformat_minor": 2
}
