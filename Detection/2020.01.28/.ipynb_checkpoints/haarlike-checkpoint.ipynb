{
 "cells": [
  {
   "cell_type": "code",
   "execution_count": null,
   "metadata": {},
   "outputs": [],
   "source": [
    "import cv2, numpy as np\n",
    "import math\n",
    "import time\n",
    "import random\n",
    "from matplotlib import pyplot as plt\n",
    "%matplotlib inline\n",
    "from bokeh.plotting import figure\n",
    "from bokeh.io import output_notebook, show, push_notebook\n",
    "\n",
    "\n",
    "output_notebook()\n",
    "\n",
    "\n",
    "def imshow(tit, image) :\n",
    "    plt.title(tit)    \n",
    "    if len(image.shape) == 3 :\n",
    "        plt.imshow(cv2.cvtColor(image, cv2.COLOR_BGR2RGB))\n",
    "    else :\n",
    "        plt.imshow(image, cmap=\"gray\")\n",
    "    plt.show()\n",
    "    \n",
    "    \n",
    "def create_win(frames, scale=1.0) :    \n",
    "    global myImage\n",
    "    \n",
    "    all = []\n",
    "    for f in frames :\n",
    "        if len(f.shape ) !=  3 : f = cv2.cvtColor(f, cv2.COLOR_GRAY2BGR)\n",
    "        all.append(f)\n",
    "    frame = np.vstack(all)\n",
    "    \n",
    "    fr=cv2.cvtColor(frame, cv2.COLOR_BGR2RGBA) # because Bokeh expects a RGBA image\n",
    "    fr=cv2.flip(fr, -1) # because Bokeh flips vertically\n",
    "    width=fr.shape[1]\n",
    "    height=fr.shape[0]    \n",
    "\n",
    "    p = figure(x_range=(0,width), y_range=(0,height), output_backend=\"webgl\", width=int(width*scale), height=int(height*scale))    \n",
    "    myImage = p.image_rgba(image=[fr], x=0, y=0, dw=width, dh=height)\n",
    "    show(p, notebook_handle=True)   \n",
    "    \n",
    "    \n",
    "def update_win(frames) :\n",
    "    \n",
    "    all = []\n",
    "    for f in frames :\n",
    "        if len(f.shape ) !=  3 : f = cv2.cvtColor(f, cv2.COLOR_GRAY2BGR)\n",
    "        all.append(f)\n",
    "    frame = np.vstack(all)\n",
    "    \n",
    "    fr=cv2.cvtColor(frame, cv2.COLOR_BGR2RGBA)\n",
    "    fr=cv2.flip(fr, -1)\n",
    "    myImage.data_source.data['image']=[fr]\n",
    "    push_notebook()\n"
   ]
  }
 ],
 "metadata": {
  "kernelspec": {
   "display_name": "Python 3",
   "language": "python",
   "name": "python3"
  },
  "language_info": {
   "codemirror_mode": {
    "name": "ipython",
    "version": 3
   },
   "file_extension": ".py",
   "mimetype": "text/x-python",
   "name": "python",
   "nbconvert_exporter": "python",
   "pygments_lexer": "ipython3",
   "version": "3.7.5"
  },
  "varInspector": {
   "cols": {
    "lenName": 16,
    "lenType": 16,
    "lenVar": 40
   },
   "kernels_config": {
    "python": {
     "delete_cmd_postfix": "",
     "delete_cmd_prefix": "del ",
     "library": "var_list.py",
     "varRefreshCmd": "print(var_dic_list())"
    },
    "r": {
     "delete_cmd_postfix": ") ",
     "delete_cmd_prefix": "rm(",
     "library": "var_list.r",
     "varRefreshCmd": "cat(var_dic_list()) "
    }
   },
   "types_to_exclude": [
    "module",
    "function",
    "builtin_function_or_method",
    "instance",
    "_Feature"
   ],
   "window_display": false
  }
 },
 "nbformat": 4,
 "nbformat_minor": 2
}
