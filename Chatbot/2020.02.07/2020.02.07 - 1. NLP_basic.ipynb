{
 "cells": [
  {
   "cell_type": "code",
   "execution_count": 1,
   "metadata": {
    "ExecuteTime": {
     "end_time": "2020-02-07T01:17:59.044975Z",
     "start_time": "2020-02-07T01:17:55.898021Z"
    }
   },
   "outputs": [],
   "source": [
    "import numpy as np\n",
    "from sklearn.naive_bayes import GaussianNB\n",
    "from sklearn.metrics import accuracy_score\n",
    "from sklearn.feature_extraction.text import CountVectorizer\n",
    "from sklearn.feature_extraction.text import TfidfVectorizer\n",
    "from sklearn.metrics.pairwise import cosine_similarity\n",
    "from sklearn.linear_model import SGDClassifier\n",
    "from sklearn.svm import LinearSVC\n",
    "from tensorflow.keras.datasets import imdb\n",
    "from konlpy.tag import Twitter  # konlpy 설치필요\n",
    "from konlpy.tag import Okt\n",
    "from konlpy.tag import Kkma \n",
    "from konlpy.tag import Twitter\n",
    "from pprint import pprint\n",
    "import nltk   # 설치 필요\n",
    "from nltk.classify.scikitlearn import SklearnClassifier\n",
    "from wordcloud import WordCloud, STOPWORDS      # wordcloud 설치필요\n",
    "from gensim import corpora, models      # 설치필요\n",
    "import numpy  as np\n",
    "from PIL import Image\n",
    "from wordcloud import ImageColorGenerator\n",
    "import glob\n",
    "import re\n",
    "import matplotlib.pyplot as plt\n",
    "from tensorflow.keras.preprocessing.text import Tokenizer\n",
    "from tensorflow.keras.preprocessing.sequence import pad_sequences\n",
    "%matplotlib inline\n"
   ]
  },
  {
   "cell_type": "markdown",
   "metadata": {},
   "source": [
    "## 1. Char코드 기반의 NLP\n",
    "### 유니코드\n",
    "- 각 글자들은 아스키 코드를 갖고 있음.\n",
    "- 코드값의 범위가 있기 때문에 범위를 보고 대충 어떤 언어인지 알 수 있음\n",
    "- 영어와 한글은 범위가 다르기 때문에 범위만 보고 분류가 가능하지만\n",
    "- 같은 알파벳을 쓰는 영어와 스페인어는 분류가 불가\n",
    "- 유니코드는 총 65536개이기 때문에 어떤 문자든 한 글자당 65536차원 배열을 가짐"
   ]
  },
  {
   "cell_type": "markdown",
   "metadata": {},
   "source": []
  },
  {
   "cell_type": "markdown",
   "metadata": {},
   "source": [
    "### 한국어, 일어, 영어, 중국어 인식"
   ]
  },
  {
   "cell_type": "code",
   "execution_count": 2,
   "metadata": {
    "ExecuteTime": {
     "end_time": "2020-02-07T01:22:37.290363Z",
     "start_time": "2020-02-07T01:22:37.286405Z"
    }
   },
   "outputs": [],
   "source": [
    "# 학습 전용 데이터 준비하기\n",
    "\n",
    "ko_str = '이것은 한국어 문장입니다.'\n",
    "ja_str = 'これは日本語 文章です。'\n",
    "en_str = 'This is English Sentences.'\n",
    "ch_str = '统一码'"
   ]
  },
  {
   "cell_type": "code",
   "execution_count": 5,
   "metadata": {
    "ExecuteTime": {
     "end_time": "2020-02-07T01:25:41.657220Z",
     "start_time": "2020-02-07T01:25:41.653182Z"
    }
   },
   "outputs": [
    {
     "name": "stdout",
     "output_type": "stream",
     "text": [
      "이\n"
     ]
    }
   ],
   "source": [
    "print(ko_str[0])"
   ]
  },
  {
   "cell_type": "markdown",
   "metadata": {},
   "source": [
    "### ord() \n",
    "> Return the Unicode code point for a one-character string."
   ]
  },
  {
   "cell_type": "code",
   "execution_count": 6,
   "metadata": {
    "ExecuteTime": {
     "end_time": "2020-02-07T01:26:15.385402Z",
     "start_time": "2020-02-07T01:26:15.380389Z"
    }
   },
   "outputs": [
    {
     "name": "stdout",
     "output_type": "stream",
     "text": [
      "51060\n",
      "12371\n",
      "84\n",
      "32479\n"
     ]
    }
   ],
   "source": [
    "#  숫자값들의 분포가 확연하게 다름을 알 수 있음\n",
    "print(ord(ko_str[0]))\n",
    "print(ord(ja_str[0]))\n",
    "print(ord(en_str[0]))\n",
    "print(ord(ch_str[0]))"
   ]
  },
  {
   "cell_type": "code",
   "execution_count": 7,
   "metadata": {
    "ExecuteTime": {
     "end_time": "2020-02-07T01:34:51.650088Z",
     "start_time": "2020-02-07T01:34:51.645101Z"
    }
   },
   "outputs": [],
   "source": [
    "# Unicode 코드 포인트로 출현 빈도 판정하는 함수 만들기\n",
    "def count_codePoint(str):\n",
    "    \n",
    "    counter = np.zeros(65535)   # Unicode 코드 포인트를 저장할 배열 준비하기\n",
    "    \n",
    "    for i in range(len(str)):    # 각 문자를 Unicode 코드 포인트로 변환하기\n",
    "        code_point = ord(str[i])\n",
    "        if code_point > 65535 :\n",
    "            continue\n",
    "            \n",
    "        counter[code_point] += 1    # 출현 횟수 세기\n",
    "        \n",
    "    counter = counter/len(str)     # 각 요소를 문자 수로 나눠 정규화하기\n",
    "    \n",
    "    return counter"
   ]
  },
  {
   "cell_type": "code",
   "execution_count": 8,
   "metadata": {
    "ExecuteTime": {
     "end_time": "2020-02-07T01:35:44.600784Z",
     "start_time": "2020-02-07T01:35:44.595830Z"
    }
   },
   "outputs": [],
   "source": [
    "x_train = [count_codePoint(ko_str),\n",
    "           count_codePoint(ja_str),\n",
    "           count_codePoint(en_str)]\n",
    "y_train = ['ko','ja','en']"
   ]
  },
  {
   "cell_type": "code",
   "execution_count": 17,
   "metadata": {
    "ExecuteTime": {
     "end_time": "2020-02-07T01:38:44.441191Z",
     "start_time": "2020-02-07T01:38:44.435154Z"
    }
   },
   "outputs": [
    {
     "name": "stdout",
     "output_type": "stream",
     "text": [
      "[0. 0. 0. ... 0. 0. 0.]\n",
      "(array([   32,    46, 44163, 44397, 45768, 45796, 47928, 50612, 51008,\n",
      "       51060, 51077, 51109, 54620], dtype=int64),)\n",
      "\n",
      "\n",
      "[0.14285714 0.07142857 0.07142857 0.07142857 0.07142857 0.07142857\n",
      " 0.07142857 0.07142857 0.07142857 0.07142857 0.07142857 0.07142857\n",
      " 0.07142857]\n"
     ]
    }
   ],
   "source": [
    "print(x_train[0])\n",
    "print(np.where((x_train[0] > 0)))\n",
    "print('\\n')\n",
    "\n",
    "idx = np.where((x_train[0] > 0))\n",
    "data = x_train[0]\n",
    "\n",
    "print(data[idx])\n"
   ]
  },
  {
   "cell_type": "markdown",
   "metadata": {},
   "source": [
    "### 1.1 GaussianNB 분류기\n",
    "- 평균(mean), 표준편차(standard deviation)을 이용\n",
    "    - 데이터들끼리 거리를 모두 비교하는 K-nearest Neighbor) 방법도 있지만 overfitting이 심해서 잘 안쓰고 Gaussian을 씀\n",
    "\n",
    "- 정규화해서\n",
    "    - 샘플데이터를 평균으로 모델링해서\n",
    "    - class간에 평균, 표준편차를 이용해서\n",
    "    - 데이터가 어느 class에 가까운지 ㅣ교하기\n",
    "    - 정규화해서 mean, standard deviation을 구하면 -> 확률값을 구할 수 있음\n",
    "    - class간 속할 확률을 구해서, 큰 쪽으로 분류하면 됌\n",
    "    \n",
    "- 학습시킨다는 의미\n",
    "    - 평균, 분산을 구한다는 의미\n",
    "    - 데이터가 1개면 그 데이터가 평균이 됌\n",
    "    - K-nearest Neighbors 학습이 필요 없음\n",
    "    \n",
    "- y 값\n",
    "    - 딥러닝에서 err를 계산하기 위해 반드시 숫자였어야 함.\n",
    "    - 이 분류기에서는 참고하는 역할만 하기 때문에 숫자가 아니어도 됌"
   ]
  },
  {
   "cell_type": "code",
   "execution_count": 25,
   "metadata": {
    "ExecuteTime": {
     "end_time": "2020-02-07T02:10:48.877638Z",
     "start_time": "2020-02-07T02:10:48.775892Z"
    }
   },
   "outputs": [
    {
     "data": {
      "text/plain": [
       "<matplotlib.collections.PathCollection at 0x1c21246bcc8>"
      ]
     },
     "execution_count": 25,
     "metadata": {},
     "output_type": "execute_result"
    },
    {
     "data": {
      "image/png": "[encoded data removed]",
      "text/plain": [
       "<Figure size 432x288 with 1 Axes>"
      ]
     },
     "metadata": {
      "needs_background": "light"
     },
     "output_type": "display_data"
    }
   ],
   "source": [
    "#X = np.array([[-1, -1], [3, 2]])\n",
    "#Y = np.array([1,  2])\n",
    "\n",
    "X = np.array([[-1, -1], [-2, -1], [-3, -2], [1, 1], [2, 1], [3, 2]])\n",
    "Y = np.array([1, 1, 1, 2, 2, 2])\n",
    "Y2 = ['r', 'r', 'r', 'b', 'b', 'b']\n",
    "\n",
    "\n",
    "color = [ 'red' if y == 1 else 'blue' for y in Y]\n",
    "\n",
    "plt.scatter(X[:, 0], X[:, 1], color=color)\n",
    "\n",
    "t = np.array([[-0.8, -1]])\n",
    "\n",
    "plt.scatter(t[:,0], t[:,1], color='yellow')"
   ]
  },
  {
   "cell_type": "code",
   "execution_count": 27,
   "metadata": {
    "ExecuteTime": {
     "end_time": "2020-02-07T02:10:58.231604Z",
     "start_time": "2020-02-07T02:10:58.223626Z"
    }
   },
   "outputs": [
    {
     "name": "stdout",
     "output_type": "stream",
     "text": [
      "[1]\n",
      "[2 1]\n",
      "\n",
      "\n",
      "['r']\n",
      "['b' 'b']\n"
     ]
    }
   ],
   "source": [
    "clf = GaussianNB()\n",
    "clf.fit(X,Y)\n",
    "print(clf.predict([[-0.8, -1]]))\n",
    "print(clf.predict([[2.5, 1.3], [0,0]]))\n",
    "print('\\n')\n",
    "\n",
    "clf.fit(X,Y2)\n",
    "print(clf.predict([[-0.8, -1]]))\n",
    "print(clf.predict([[2.5, 1.3], [0,0]]))"
   ]
  },
  {
   "cell_type": "markdown",
   "metadata": {},
   "source": [
    "---"
   ]
  },
  {
   "cell_type": "code",
   "execution_count": 28,
   "metadata": {
    "ExecuteTime": {
     "end_time": "2020-02-07T02:12:47.611006Z",
     "start_time": "2020-02-07T02:12:47.600035Z"
    }
   },
   "outputs": [
    {
     "data": {
      "text/plain": [
       "GaussianNB(priors=None, var_smoothing=1e-09)"
      ]
     },
     "execution_count": 28,
     "metadata": {},
     "output_type": "execute_result"
    }
   ],
   "source": [
    "# 학습하기 --- (*6)\n",
    "clf = GaussianNB() \n",
    "clf.fit(x_train, y_train)"
   ]
  },
  {
   "cell_type": "code",
   "execution_count": 40,
   "metadata": {
    "ExecuteTime": {
     "end_time": "2020-02-07T02:16:35.982889Z",
     "start_time": "2020-02-07T02:16:35.975950Z"
    }
   },
   "outputs": [
    {
     "name": "stdout",
     "output_type": "stream",
     "text": [
      "['en']\n"
     ]
    }
   ],
   "source": [
    "y_pred = clf.predict([count_codePoint('')])\n",
    "print(y_pred)"
   ]
  },
  {
   "cell_type": "code",
   "execution_count": 33,
   "metadata": {
    "ExecuteTime": {
     "end_time": "2020-02-07T02:13:43.182822Z",
     "start_time": "2020-02-07T02:13:43.167910Z"
    }
   },
   "outputs": [
    {
     "name": "stdout",
     "output_type": "stream",
     "text": [
      "['en' 'ja' 'ko']\n",
      "정답률 =  1.0\n"
     ]
    }
   ],
   "source": [
    "# 평가 전용 데이터 준비하기\n",
    "ko_test_str = '안녕. 어디야'\n",
    "ja_test_str = 'こんにちは'\n",
    "en_test_str = 'Hello'\n",
    "x_test = [count_codePoint(en_test_str),count_codePoint(ja_test_str),count_codePoint(ko_test_str)]\n",
    "y_test = ['en', 'ja', 'ko']\n",
    "\n",
    "# 평가하기 --- (*7)\n",
    "y_pred = clf.predict(x_test)\n",
    "print(y_pred)\n",
    "print(\"정답률 = \" , accuracy_score(y_test, y_pred))"
   ]
  },
  {
   "cell_type": "code",
   "execution_count": 41,
   "metadata": {
    "ExecuteTime": {
     "end_time": "2020-02-07T02:20:15.974630Z",
     "start_time": "2020-02-07T02:20:15.960713Z"
    }
   },
   "outputs": [
    {
     "name": "stdout",
     "output_type": "stream",
     "text": [
      "['en' 'ja' 'ja']\n",
      "정답률 =  0.6666666666666666\n"
     ]
    }
   ],
   "source": [
    "# 평가 전용 데이터 준비하기\n",
    "ko_test_str = '안녕'\n",
    "ja_test_str = 'こんにちは'\n",
    "en_test_str = 'Hello'\n",
    "x_test = [count_codePoint(en_test_str),count_codePoint(ja_test_str),count_codePoint(ko_test_str)]\n",
    "y_test = ['en', 'ja', 'ko']\n",
    "\n",
    "# 평가하기 --- (*7)\n",
    "y_pred = clf.predict(x_test)\n",
    "print(y_pred)\n",
    "print(\"정답률 = \" , accuracy_score(y_test, y_pred))"
   ]
  },
  {
   "cell_type": "markdown",
   "metadata": {},
   "source": [
    "---"
   ]
  },
  {
   "cell_type": "markdown",
   "metadata": {},
   "source": [
    "- 문자set이 동일한 경우"
   ]
  },
  {
   "cell_type": "code",
   "execution_count": 42,
   "metadata": {
    "ExecuteTime": {
     "end_time": "2020-02-07T02:37:25.702388Z",
     "start_time": "2020-02-07T02:37:25.495888Z"
    }
   },
   "outputs": [
    {
     "name": "stdout",
     "output_type": "stream",
     "text": [
      "./train\\de_cat.txt\n",
      "./train\\de_dog.txt\n",
      "./train\\de_elephant.txt\n",
      "./train\\en_cat.txt\n",
      "./train\\en_dog.txt\n",
      "./train\\en_elephant.txt\n",
      "./train\\es_cat.txt\n",
      "./train\\es_dog.txt\n",
      "./train\\es_elephant.txt\n"
     ]
    }
   ],
   "source": [
    "# 학습 데이터 준비하기 --- (*1)\n",
    "x_train = []\n",
    "y_train = []\n",
    "for file in glob.glob('./train/*.txt'):\n",
    "    # 언어 정보를 추출하고 레이블로 지정하기 --- (*2)\n",
    "    print(file)\n",
    "    y_train.append(file[8:10])\n",
    "    \n",
    "    # 파일 내부의 문자열을 모두 추출한 뒤 빈도 배열로 변환한 뒤 입력 데이터로 사용하기 --- (*3)\n",
    "    file_str = ''\n",
    "    for line in open(file, 'r', encoding='UTF8'):\n",
    "        file_str = file_str + line\n",
    "    x_train.append(count_codePoint(file_str))"
   ]
  },
  {
   "cell_type": "code",
   "execution_count": 43,
   "metadata": {
    "ExecuteTime": {
     "end_time": "2020-02-07T02:37:32.488487Z",
     "start_time": "2020-02-07T02:37:32.470481Z"
    }
   },
   "outputs": [
    {
     "data": {
      "text/plain": [
       "GaussianNB(priors=None, var_smoothing=1e-09)"
      ]
     },
     "execution_count": 43,
     "metadata": {},
     "output_type": "execute_result"
    }
   ],
   "source": [
    "# 학습하기\n",
    "clf = GaussianNB() \n",
    "clf.fit(x_train, y_train)"
   ]
  },
  {
   "cell_type": "code",
   "execution_count": 46,
   "metadata": {
    "ExecuteTime": {
     "end_time": "2020-02-07T02:39:10.997404Z",
     "start_time": "2020-02-07T02:39:10.989426Z"
    }
   },
   "outputs": [
    {
     "name": "stdout",
     "output_type": "stream",
     "text": [
      "['de']\n"
     ]
    }
   ],
   "source": [
    "# 평가하기\n",
    "y_pred = clf.predict([count_codePoint('hello. my name is ')])\n",
    "print(y_pred)"
   ]
  },
  {
   "cell_type": "code",
   "execution_count": null,
   "metadata": {},
   "outputs": [],
   "source": []
  }
 ],
 "metadata": {
  "kernelspec": {
   "display_name": "Python 3",
   "language": "python",
   "name": "python3"
  },
  "language_info": {
   "codemirror_mode": {
    "name": "ipython",
    "version": 3
   },
   "file_extension": ".py",
   "mimetype": "text/x-python",
   "name": "python",
   "nbconvert_exporter": "python",
   "pygments_lexer": "ipython3",
   "version": "3.7.5"
  },
  "varInspector": {
   "cols": {
    "lenName": 16,
    "lenType": 16,
    "lenVar": 40
   },
   "kernels_config": {
    "python": {
     "delete_cmd_postfix": "",
     "delete_cmd_prefix": "del ",
     "library": "var_list.py",
     "varRefreshCmd": "print(var_dic_list())"
    },
    "r": {
     "delete_cmd_postfix": ") ",
     "delete_cmd_prefix": "rm(",
     "library": "var_list.r",
     "varRefreshCmd": "cat(var_dic_list()) "
    }
   },
   "types_to_exclude": [
    "module",
    "function",
    "builtin_function_or_method",
    "instance",
    "_Feature"
   ],
   "window_display": false
  }
 },
 "nbformat": 4,
 "nbformat_minor": 2
}
