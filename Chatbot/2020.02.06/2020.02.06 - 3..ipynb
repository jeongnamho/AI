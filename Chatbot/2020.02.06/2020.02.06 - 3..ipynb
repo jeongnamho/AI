{
 "cells": [
  {
   "cell_type": "code",
   "execution_count": 1,
   "metadata": {
    "ExecuteTime": {
     "end_time": "2020-02-06T06:40:12.770908Z",
     "start_time": "2020-02-06T06:40:12.708076Z"
    }
   },
   "outputs": [
    {
     "ename": "ModuleNotFoundError",
     "evalue": "No module named 'flask'",
     "output_type": "error",
     "traceback": [
      "\u001b[1;31m---------------------------------------------------------------------------\u001b[0m",
      "\u001b[1;31mModuleNotFoundError\u001b[0m                       Traceback (most recent call last)",
      "\u001b[1;32m<ipython-input-1-b506e0e33df1>\u001b[0m in \u001b[0;36m<module>\u001b[1;34m\u001b[0m\n\u001b[1;32m----> 1\u001b[1;33m \u001b[1;32mfrom\u001b[0m \u001b[0mflask\u001b[0m \u001b[1;32mimport\u001b[0m \u001b[0mFlask\u001b[0m\u001b[1;33m,\u001b[0m \u001b[0mrequest\u001b[0m\u001b[1;33m,\u001b[0m \u001b[0mjsonify\u001b[0m\u001b[1;33m\u001b[0m\u001b[1;33m\u001b[0m\u001b[0m\n\u001b[0m\u001b[0;32m      2\u001b[0m \u001b[1;32mimport\u001b[0m \u001b[0mrequests\u001b[0m\u001b[1;33m\u001b[0m\u001b[1;33m\u001b[0m\u001b[0m\n\u001b[0;32m      3\u001b[0m \u001b[1;32mimport\u001b[0m \u001b[0murllib\u001b[0m\u001b[1;33m\u001b[0m\u001b[1;33m\u001b[0m\u001b[0m\n\u001b[0;32m      4\u001b[0m \u001b[1;32mfrom\u001b[0m \u001b[0mbs4\u001b[0m \u001b[1;32mimport\u001b[0m \u001b[0mBeautifulSoup\u001b[0m\u001b[1;33m\u001b[0m\u001b[1;33m\u001b[0m\u001b[0m\n\u001b[0;32m      5\u001b[0m \u001b[1;32mimport\u001b[0m \u001b[0mjson\u001b[0m\u001b[1;33m\u001b[0m\u001b[1;33m\u001b[0m\u001b[0m\n",
      "\u001b[1;31mModuleNotFoundError\u001b[0m: No module named 'flask'"
     ]
    }
   ],
   "source": [
    "from flask import Flask, request, jsonify\n",
    "import requests\n",
    "import urllib\n",
    "from bs4 import BeautifulSoup\n",
    "import json\n",
    "\n",
    "app = Flask(__name__)\n",
    "app.config['JSON_AS_ASCII'] = False\n",
    "\n",
    "\n",
    "\n",
    "# 얘는 dictionary 형태로 리턴받음\n",
    "def getWeather2(city):\n",
    "    url = 'https://search.naver.com/search.naver?query='\n",
    "    url = url + urllib.parse.quote_plus(city + \"날씨\")\n",
    "    print(url)\n",
    "    bs = BeautifulSoup(urllib.request.urlopen(url).read(), \"html.parser\")\n",
    "    temp = bs.select('span.todaytemp')\n",
    "    desc = bs.select('p.cast_txt')\n",
    "    return {\"temp\":temp[0].text, \"desc\":desc[0].text}\n",
    "\n",
    "def getQuery(word, k) : # 네이버 지식백과에서 k번째 정의 가져오기 함수\n",
    "    url = 'https://search.naver.com/search.naver?where=kdic&query='\n",
    "    url = url + urllib.parse.quote_plus(word)\n",
    "    print(url)\n",
    "    bs = BeautifulSoup(urllib.request.urlopen(url).read(), \"html.parser\")\n",
    "    output = bs.select('p.txt_box')\n",
    "    return output[k-1].text\n",
    "\n",
    "\n",
    "@app.route(\"/\")\n",
    "def home():\n",
    "    name = request.args.get(\"name\")    # 크롬의 URL창에서 127.0.0.1:5020/?name=abc 라고 치면 결과값 보임\n",
    "    item = request.args.get(\"item\")\n",
    "    return \"hello~~\" + name + item\n",
    "\n",
    "@app.route(\"/abc\")\n",
    "def abc():\n",
    "    return \"test\"\n",
    "\n",
    "@app.route('/weather')\n",
    "def weather():\n",
    "    city = request.args.get(\"city\")\n",
    "    info = getWeather2(city)\n",
    "#     return json.dumps(info)\n",
    "    return jsonify(info) # 위랑 똑같음\n",
    "\n",
    "@app.route('/dialogflow', methods=['POST', 'GET'])  # 웹브라우저에서는 GET방식만 보이기 때문에 웹에서 보려면 GET방식을 꼭 넣어야함\n",
    "def dialogflow():\n",
    "    \n",
    "    if request.method =='GET' :\n",
    "        file = request.args.get(\"file\")\n",
    "        with open(file, encoding='UTF8') as json_file:\n",
    "            req = json.load(json_file)\n",
    "            print(json.dumps(req, indent=4, ensure_ascii=False)) # 한글 안깨지게\n",
    "    else:\n",
    "        req = request.get_json(force=True)\n",
    "        print(json.dumps(req, indent=4, ensure_ascii=False)) # 한글 안깨지게\n",
    "    \n",
    "    answer = req['queryResult']['fulfillmentText']\n",
    "    intentName = req['queryResult']['intent']['displayName']\n",
    "    \n",
    "    if intentName == \"query\" :\n",
    "        word = req[\"queryResult\"][\"parameters\"][\"any\"]\n",
    "        text = getQuery(word,1)\n",
    "        res = {'fulfillmentText':text}\n",
    "    elif intentName == \"weather\":\n",
    "        date = dict['queryResult']['parameters']['date']\n",
    "        geo_city = dict['queryResult']['parameters']['geo-city']\n",
    "        \n",
    "        info = getWeather2(geo_city)\n",
    "        print(f\"{geo_city} 날씨 정보 : {info['temp']} / {info['desc']}\" )\n",
    "        \n",
    "        \n",
    "    else:\n",
    "        res = {'fulfillmentText' : answer}\n",
    "\n",
    "    return jsonify(res) \n",
    "\n",
    "\n",
    "if __name__ == '__main__':\n",
    "    app.run(host='0.0.0.0', port=5020, debug=True) # 0.0.0.0은 누구나 다 들어올 수 있게 하려고\n"
   ]
  },
  {
   "cell_type": "code",
   "execution_count": 2,
   "metadata": {
    "ExecuteTime": {
     "end_time": "2020-02-06T06:42:22.033914Z",
     "start_time": "2020-02-06T06:42:22.027930Z"
    }
   },
   "outputs": [],
   "source": [
    "def getWeather2(city):\n",
    "    url = 'https://search.naver.com/search.naver?query='\n",
    "    url = url + urllib.parse.quote_plus(city + \"날씨\")\n",
    "    print(url)\n",
    "    bs = BeautifulSoup(urllib.request.urlopen(url).read(), \"html.parser\")\n",
    "    temp = bs.select('span.todaytemp')\n",
    "    desc = bs.select('p.cast_txt')\n",
    "    return {\"temp\":temp[0].text, \"desc\":desc[0].text}"
   ]
  },
  {
   "cell_type": "code",
   "execution_count": 5,
   "metadata": {
    "ExecuteTime": {
     "end_time": "2020-02-06T07:08:01.303125Z",
     "start_time": "2020-02-06T07:08:01.293092Z"
    }
   },
   "outputs": [
    {
     "name": "stdout",
     "output_type": "stream",
     "text": [
      "{\n",
      "    \"responseId\": \"74d88cad-1fba-4e56-a04f-c90b789f81ff-ce609cdc\",\n",
      "    \"queryResult\": {\n",
      "        \"queryText\": \"갑분싸가 모야\",\n",
      "        \"parameters\": {\n",
      "            \"any\": \"갑분싸\"\n",
      "        },\n",
      "        \"allRequiredParamsPresent\": true,\n",
      "        \"fulfillmentText\": \"갑분싸 에 대해서 알려줄께. 있다가\",\n",
      "        \"fulfillmentMessages\": [\n",
      "            {\n",
      "                \"text\": {\n",
      "                    \"text\": [\n",
      "                        \"갑분싸 에 대해서 알려줄께. 있다가\"\n",
      "                    ]\n",
      "                }\n",
      "            }\n",
      "        ],\n",
      "        \"outputContexts\": [\n",
      "            {\n",
      "                \"name\": \"projects/aichatbot-nudgyl/agent/sessions/dffa4f77-a2b1-51af-39c3-7d473c0c11e4/contexts/__system_counters__\",\n",
      "                \"lifespanCount\": 1,\n",
      "                \"parameters\": {\n",
      "                    \"no-input\": 0.0,\n",
      "                    \"no-match\": 0.0,\n",
      "                    \"any\": \"갑분싸\",\n",
      "                    \"any.original\": \"갑분싸\"\n",
      "                }\n",
      "            }\n",
      "        ],\n",
      "        \"intent\": {\n",
      "            \"name\": \"projects/aichatbot-nudgyl/agent/intents/d83ce3b4-a2fc-4a79-8b4e-86e76f9a51c0\",\n",
      "            \"displayName\": \"query\"\n",
      "        },\n",
      "        \"intentDetectionConfidence\": 1.0,\n",
      "        \"languageCode\": \"ko\"\n",
      "    },\n",
      "    \"originalDetectIntentRequest\": {\n",
      "        \"payload\": {}\n",
      "    },\n",
      "    \"session\": \"projects/aichatbot-nudgyl/agent/sessions/dffa4f77-a2b1-51af-39c3-7d473c0c11e4\"\n",
      "}\n"
     ]
    }
   ],
   "source": [
    "file = \"chat01.json\"\n",
    "with open(file, encoding='UTF8') as json_file:\n",
    "    req = json.load(json_file)\n",
    "    print(json.dumps(req, indent=4, ensure_ascii=False))\n",
    "    \n",
    "# answer = req['queryResult']['fulfillmentText']\n",
    "# intentName = req['queryResult']['intent']['displayName']\n",
    "    \n",
    "# if intentName == \"query\" :\n",
    "#     word = req[\"queryResult\"][\"parameters\"][\"any\"]\n",
    "#     text = getQuery(word,1)\n",
    "#     res = {'fulfillmentText':text}\n",
    "# elif intentName == \"weather\":\n",
    "#     date = dict['queryResult']['parameters']['date']\n",
    "#     geo_city = dict['queryResult']['parameters']['geo-city']\n",
    "        \n",
    "#     info = getWeather2(geo_city)\n",
    "#     print(f\"{geo_city} 날씨 정보 : {info['temp']} / {info['desc']}\" )\n",
    "        \n",
    "        \n",
    "# else:\n",
    "#     res = {'fulfillmentText' : answer}\n",
    "\n",
    "# return jsonify(res) \n"
   ]
  },
  {
   "cell_type": "code",
   "execution_count": null,
   "metadata": {},
   "outputs": [],
   "source": []
  }
 ],
 "metadata": {
  "kernelspec": {
   "display_name": "Python 3",
   "language": "python",
   "name": "python3"
  },
  "language_info": {
   "codemirror_mode": {
    "name": "ipython",
    "version": 3
   },
   "file_extension": ".py",
   "mimetype": "text/x-python",
   "name": "python",
   "nbconvert_exporter": "python",
   "pygments_lexer": "ipython3",
   "version": "3.7.5"
  },
  "varInspector": {
   "cols": {
    "lenName": 16,
    "lenType": 16,
    "lenVar": 40
   },
   "kernels_config": {
    "python": {
     "delete_cmd_postfix": "",
     "delete_cmd_prefix": "del ",
     "library": "var_list.py",
     "varRefreshCmd": "print(var_dic_list())"
    },
    "r": {
     "delete_cmd_postfix": ") ",
     "delete_cmd_prefix": "rm(",
     "library": "var_list.r",
     "varRefreshCmd": "cat(var_dic_list()) "
    }
   },
   "types_to_exclude": [
    "module",
    "function",
    "builtin_function_or_method",
    "instance",
    "_Feature"
   ],
   "window_display": false
  }
 },
 "nbformat": 4,
 "nbformat_minor": 2
}
