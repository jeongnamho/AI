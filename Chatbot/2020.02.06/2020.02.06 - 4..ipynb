{
 "cells": [
  {
   "cell_type": "code",
   "execution_count": 15,
   "metadata": {
    "ExecuteTime": {
     "end_time": "2020-02-06T07:52:08.766343Z",
     "start_time": "2020-02-06T07:52:08.762354Z"
    }
   },
   "outputs": [],
   "source": [
    "sessId = \"kim34\"\n",
    "\n",
    "datas = {}\n",
    "datas[sessId] = {\"win\":0, \"lose\":0}\n",
    "\n",
    "sessId = \"lee\"\n",
    "datas[sessId] = {\"win\":0, \"lose\":0}"
   ]
  },
  {
   "cell_type": "code",
   "execution_count": 16,
   "metadata": {
    "ExecuteTime": {
     "end_time": "2020-02-06T07:52:09.278859Z",
     "start_time": "2020-02-06T07:52:09.273874Z"
    }
   },
   "outputs": [
    {
     "name": "stdout",
     "output_type": "stream",
     "text": [
      "{'win': 0, 'lose': 0}\n",
      "0\n"
     ]
    }
   ],
   "source": [
    "sessId = \"kim34\"\n",
    "print(datas[sessId])\n",
    "print(datas[sessId][\"win\"])"
   ]
  },
  {
   "cell_type": "code",
   "execution_count": 20,
   "metadata": {
    "ExecuteTime": {
     "end_time": "2020-02-06T08:04:29.789507Z",
     "start_time": "2020-02-06T08:04:29.786587Z"
    }
   },
   "outputs": [],
   "source": [
    "sessId = \"kim34\"\n",
    "datas[sessId][\"win\"] = datas[sessId][\"win\"] + 1"
   ]
  },
  {
   "cell_type": "code",
   "execution_count": 21,
   "metadata": {
    "ExecuteTime": {
     "end_time": "2020-02-06T08:04:35.535865Z",
     "start_time": "2020-02-06T08:04:35.530879Z"
    }
   },
   "outputs": [
    {
     "name": "stdout",
     "output_type": "stream",
     "text": [
      "3\n"
     ]
    }
   ],
   "source": [
    "class User:\n",
    "    def __init__(self):\n",
    "        self.win = 0\n",
    "        self.lose = 0\n",
    "        self.draw = 0\n",
    "    \n",
    "p1 = User()\n",
    "p2 = User()\n",
    "\n",
    "p1.win = 3\n",
    "p1.lose = 5\n",
    "\n",
    "p2.win = 7\n",
    "p2.lose = 20\n",
    "\n",
    "datas[sessId] = p1\n",
    "print(datas[sessId].win)"
   ]
  }
 ],
 "metadata": {
  "kernelspec": {
   "display_name": "Python 3",
   "language": "python",
   "name": "python3"
  },
  "language_info": {
   "codemirror_mode": {
    "name": "ipython",
    "version": 3
   },
   "file_extension": ".py",
   "mimetype": "text/x-python",
   "name": "python",
   "nbconvert_exporter": "python",
   "pygments_lexer": "ipython3",
   "version": "3.7.5"
  },
  "varInspector": {
   "cols": {
    "lenName": 16,
    "lenType": 16,
    "lenVar": 40
   },
   "kernels_config": {
    "python": {
     "delete_cmd_postfix": "",
     "delete_cmd_prefix": "del ",
     "library": "var_list.py",
     "varRefreshCmd": "print(var_dic_list())"
    },
    "r": {
     "delete_cmd_postfix": ") ",
     "delete_cmd_prefix": "rm(",
     "library": "var_list.r",
     "varRefreshCmd": "cat(var_dic_list()) "
    }
   },
   "types_to_exclude": [
    "module",
    "function",
    "builtin_function_or_method",
    "instance",
    "_Feature"
   ],
   "window_display": false
  }
 },
 "nbformat": 4,
 "nbformat_minor": 2
}
