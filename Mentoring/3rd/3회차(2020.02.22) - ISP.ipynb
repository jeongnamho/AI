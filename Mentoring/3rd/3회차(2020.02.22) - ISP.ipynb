{
 "cells": [
  {
   "cell_type": "markdown",
   "metadata": {},
   "source": [
    "## 1. 정보전략계획(Information Strategic Planning : ISP)"
   ]
  },
  {
   "cell_type": "markdown",
   "metadata": {},
   "source": [
    "### 1)\t개요\n",
    "- 조직이나 기관의 비전을 달성하기 위해서"
   ]
  },
  {
   "cell_type": "markdown",
   "metadata": {},
   "source": [
    "<img src=1.png width=600>"
   ]
  },
  {
   "cell_type": "markdown",
   "metadata": {},
   "source": [
    "### 2) 현황분석\n",
    "- 내/외부에 대한 현황 분석(ex:법제도 현황분석)"
   ]
  },
  {
   "cell_type": "markdown",
   "metadata": {},
   "source": [
    "- 현행업무 프로세스 분석\n",
    ">업무 혹은 직업의 프로세스를 분석하고 정의한다."
   ]
  },
  {
   "cell_type": "markdown",
   "metadata": {},
   "source": [
    "- IT 현황 분석\n",
    "> 개발이 가능한지 분석해본다\n",
    "   \n",
    "    - 기술 동향 분석"
   ]
  },
  {
   "cell_type": "markdown",
   "metadata": {},
   "source": [
    "- 벤치마킹 및 전략 정의\n",
    "> 동향 혹은 경쟁에 대한 분석을 진행한다.\n",
    "\n",
    "    - 선진 사례 조사, 분석을 진행\n",
    "    - 선진사례의 업무절차 및 정보기술 요건을 도출, 보완작업 하고 개선점 도출"
   ]
  },
  {
   "cell_type": "markdown",
   "metadata": {},
   "source": [
    "- 목표모델 설계\n",
    "> 최종 시스템 구성을 기획한다.\n",
    "\n",
    "    - 현황분석에서 도출된 개선과제들의 상세화 작업 수행 상세화\n",
    "    - 개선과제 내역, 선진사례, IT 개선방향을 종합적으로 고려하여 최적화된 TO-Be 업무프롯스 재설계\n",
    "    - To-Be 업무 프로세스 내 IT지원 업무"
   ]
  },
  {
   "cell_type": "markdown",
   "metadata": {},
   "source": [
    "- 실행계획 수립\n",
    "> 세부일정을 정하고 ~~\n"
   ]
  },
  {
   "cell_type": "markdown",
   "metadata": {},
   "source": [
    "### Summary\n",
    "- 목표는 명확하게! 최대한 정량화! <br><br>\n",
    "- 단계별 목표는 자주 확인할 수 있게!<br><br>\n",
    "- Task는 적은 시간으로 진행가능하게!!<br><br>\n",
    "- 설계는 상세하게!<br><br>\n",
    "- 계약서를 쓰는 마음으로!"
   ]
  },
  {
   "cell_type": "markdown",
   "metadata": {},
   "source": []
  },
  {
   "cell_type": "markdown",
   "metadata": {},
   "source": []
  },
  {
   "cell_type": "markdown",
   "metadata": {},
   "source": []
  },
  {
   "cell_type": "markdown",
   "metadata": {},
   "source": []
  },
  {
   "cell_type": "markdown",
   "metadata": {},
   "source": []
  },
  {
   "cell_type": "markdown",
   "metadata": {},
   "source": []
  },
  {
   "cell_type": "markdown",
   "metadata": {},
   "source": []
  },
  {
   "cell_type": "markdown",
   "metadata": {},
   "source": []
  },
  {
   "cell_type": "markdown",
   "metadata": {},
   "source": []
  },
  {
   "cell_type": "markdown",
   "metadata": {},
   "source": []
  }
 ],
 "metadata": {
  "kernelspec": {
   "display_name": "Python 3",
   "language": "python",
   "name": "python3"
  },
  "language_info": {
   "codemirror_mode": {
    "name": "ipython",
    "version": 3
   },
   "file_extension": ".py",
   "mimetype": "text/x-python",
   "name": "python",
   "nbconvert_exporter": "python",
   "pygments_lexer": "ipython3",
   "version": "3.7.5"
  },
  "varInspector": {
   "cols": {
    "lenName": 16,
    "lenType": 16,
    "lenVar": 40
   },
   "kernels_config": {
    "python": {
     "delete_cmd_postfix": "",
     "delete_cmd_prefix": "del ",
     "library": "var_list.py",
     "varRefreshCmd": "print(var_dic_list())"
    },
    "r": {
     "delete_cmd_postfix": ") ",
     "delete_cmd_prefix": "rm(",
     "library": "var_list.r",
     "varRefreshCmd": "cat(var_dic_list()) "
    }
   },
   "types_to_exclude": [
    "module",
    "function",
    "builtin_function_or_method",
    "instance",
    "_Feature"
   ],
   "window_display": false
  }
 },
 "nbformat": 4,
 "nbformat_minor": 4
}
