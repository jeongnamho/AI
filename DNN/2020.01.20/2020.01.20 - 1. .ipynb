{
 "cells": [
  {
   "cell_type": "code",
   "execution_count": 1,
   "metadata": {
    "ExecuteTime": {
     "end_time": "2020-01-20T02:14:07.592401Z",
     "start_time": "2020-01-20T02:14:07.589364Z"
    }
   },
   "outputs": [],
   "source": [
    "import numpy as np\n",
    "import numpy.linalg as lin"
   ]
  },
  {
   "cell_type": "code",
   "execution_count": 29,
   "metadata": {
    "ExecuteTime": {
     "end_time": "2020-01-20T02:42:45.121315Z",
     "start_time": "2020-01-20T02:42:45.114321Z"
    },
    "scrolled": false
   },
   "outputs": [
    {
     "name": "stdout",
     "output_type": "stream",
     "text": [
      "[[1 1]\n",
      " [2 1]]\n",
      "\n",
      "\n",
      "size of a is (2, 2)\n",
      "\n",
      "\n",
      "[[-1.  1.]\n",
      " [ 2. -1.]]\n",
      "\n",
      "\n",
      "shape of y is (2,)\n",
      "\n",
      "\n",
      "y_1 = [[2 4]]\n",
      "y_2 = [[2]\n",
      " [4]]\n",
      "\n",
      "\n",
      "[[2]\n",
      " [4]]\n"
     ]
    }
   ],
   "source": [
    "a = np.array([[1,1],[2,1]])\n",
    "print(a)\n",
    "print('\\n')\n",
    "\n",
    "print(f\"size of a is {a.shape}\")\n",
    "print('\\n')\n",
    "print(lin.inv(a))\n",
    "print('\\n')\n",
    "\n",
    "# y는 그냥 벡터, NOT 행렬\n",
    "y = np.array([2,4])\n",
    "print(f\"shape of y is {y.shape}\")\n",
    "print('\\n')\n",
    "\n",
    "# y1은 row벡터, y_2는 column벡터\n",
    "y_1 = np.array([[2,4]])\n",
    "y_2 = np.array([[2], [4]])\n",
    "print(f\"y_1 = {y_1}\")\n",
    "print(f\"y_2 = {y_2}\")\n",
    "print('\\n')\n",
    "\n",
    "# y_는 column벡터\n",
    "y_ = np.array([2,4]).reshape(2,1)\n",
    "print(y_)\n"
   ]
  },
  {
   "cell_type": "code",
   "execution_count": 31,
   "metadata": {
    "ExecuteTime": {
     "end_time": "2020-01-20T02:44:09.572632Z",
     "start_time": "2020-01-20T02:44:09.566649Z"
    }
   },
   "outputs": [
    {
     "name": "stdout",
     "output_type": "stream",
     "text": [
      "[[-2.  4.]\n",
      " [ 4. -4.]]\n",
      "\n",
      "\n",
      "[[-2.  2.]\n",
      " [ 8. -4.]]\n",
      "\n",
      "\n",
      "[2. 0.]\n"
     ]
    }
   ],
   "source": [
    "w1 = lin.inv(a) * y\n",
    "print(w1)\n",
    "print('\\n')\n",
    "\n",
    "w2 = lin.inv(a) * y_\n",
    "print(w2)\n",
    "print('\\n')\n",
    "\n",
    "# 이게 진짜 행렬곱\n",
    "w3 = np.matmul(lin.inv(a), y)\n",
    "print(w3)"
   ]
  },
  {
   "cell_type": "code",
   "execution_count": null,
   "metadata": {},
   "outputs": [],
   "source": []
  },
  {
   "cell_type": "code",
   "execution_count": null,
   "metadata": {},
   "outputs": [],
   "source": []
  },
  {
   "cell_type": "code",
   "execution_count": 32,
   "metadata": {
    "ExecuteTime": {
     "end_time": "2020-01-20T02:47:22.777425Z",
     "start_time": "2020-01-20T02:47:22.772439Z"
    },
    "scrolled": true
   },
   "outputs": [
    {
     "name": "stdout",
     "output_type": "stream",
     "text": [
      "[14. 12. 10.  8.  6.  4.  2.]\n"
     ]
    }
   ],
   "source": [
    "# y = wx + b\n",
    "y = w[0,0]*np.array([-3, -2, -1, 0, 1, 2, 3]) + w[1,0]\n",
    "print(y)\n",
    "# np.matmul(w, np.array([1,1]))"
   ]
  },
  {
   "cell_type": "code",
   "execution_count": 2,
   "metadata": {
    "ExecuteTime": {
     "end_time": "2020-01-20T04:17:39.989438Z",
     "start_time": "2020-01-20T04:17:39.945484Z"
    }
   },
   "outputs": [
    {
     "ename": "NameError",
     "evalue": "name 'w' is not defined",
     "output_type": "error",
     "traceback": [
      "\u001b[1;31m---------------------------------------------------------------------------\u001b[0m",
      "\u001b[1;31mNameError\u001b[0m                                 Traceback (most recent call last)",
      "\u001b[1;32m<ipython-input-2-7cb8686ad630>\u001b[0m in \u001b[0;36m<module>\u001b[1;34m\u001b[0m\n\u001b[0;32m      1\u001b[0m \u001b[0mx_\u001b[0m \u001b[1;33m=\u001b[0m \u001b[0mnp\u001b[0m\u001b[1;33m.\u001b[0m\u001b[0marray\u001b[0m\u001b[1;33m(\u001b[0m\u001b[1;33m[\u001b[0m\u001b[1;33m[\u001b[0m\u001b[1;33m-\u001b[0m\u001b[1;36m1\u001b[0m\u001b[1;33m,\u001b[0m\u001b[1;36m1\u001b[0m\u001b[1;33m]\u001b[0m\u001b[1;33m,\u001b[0m \u001b[1;33m[\u001b[0m\u001b[1;36m0\u001b[0m\u001b[1;33m,\u001b[0m\u001b[1;36m1\u001b[0m\u001b[1;33m]\u001b[0m\u001b[1;33m,\u001b[0m \u001b[1;33m[\u001b[0m\u001b[1;36m1\u001b[0m\u001b[1;33m,\u001b[0m\u001b[1;36m1\u001b[0m\u001b[1;33m]\u001b[0m\u001b[1;33m,\u001b[0m \u001b[1;33m[\u001b[0m\u001b[1;36m2\u001b[0m\u001b[1;33m,\u001b[0m\u001b[1;36m1\u001b[0m\u001b[1;33m]\u001b[0m\u001b[1;33m]\u001b[0m\u001b[1;33m)\u001b[0m\u001b[1;33m\u001b[0m\u001b[1;33m\u001b[0m\u001b[0m\n\u001b[1;32m----> 2\u001b[1;33m \u001b[0mnp\u001b[0m\u001b[1;33m.\u001b[0m\u001b[0mmatmul\u001b[0m\u001b[1;33m(\u001b[0m\u001b[0mx_\u001b[0m\u001b[1;33m,\u001b[0m\u001b[0mw\u001b[0m\u001b[1;33m)\u001b[0m\u001b[1;33m\u001b[0m\u001b[1;33m\u001b[0m\u001b[0m\n\u001b[0m",
      "\u001b[1;31mNameError\u001b[0m: name 'w' is not defined"
     ]
    }
   ],
   "source": [
    "x_ = np.array([[-1,1], [0,1], [1,1], [2,1]])\n",
    "np.matmul(x_,w)"
   ]
  },
  {
   "cell_type": "code",
   "execution_count": null,
   "metadata": {},
   "outputs": [],
   "source": []
  }
 ],
 "metadata": {
  "kernelspec": {
   "display_name": "Python 3",
   "language": "python",
   "name": "python3"
  },
  "language_info": {
   "codemirror_mode": {
    "name": "ipython",
    "version": 3
   },
   "file_extension": ".py",
   "mimetype": "text/x-python",
   "name": "python",
   "nbconvert_exporter": "python",
   "pygments_lexer": "ipython3",
   "version": "3.7.5"
  },
  "varInspector": {
   "cols": {
    "lenName": 16,
    "lenType": 16,
    "lenVar": 40
   },
   "kernels_config": {
    "python": {
     "delete_cmd_postfix": "",
     "delete_cmd_prefix": "del ",
     "library": "var_list.py",
     "varRefreshCmd": "print(var_dic_list())"
    },
    "r": {
     "delete_cmd_postfix": ") ",
     "delete_cmd_prefix": "rm(",
     "library": "var_list.r",
     "varRefreshCmd": "cat(var_dic_list()) "
    }
   },
   "types_to_exclude": [
    "module",
    "function",
    "builtin_function_or_method",
    "instance",
    "_Feature"
   ],
   "window_display": false
  }
 },
 "nbformat": 4,
 "nbformat_minor": 2
}
