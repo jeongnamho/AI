{
 "cells": [
  {
   "cell_type": "code",
   "execution_count": 1,
   "metadata": {
    "ExecuteTime": {
     "end_time": "2020-03-06T15:02:06.924970Z",
     "start_time": "2020-03-06T15:01:59.594582Z"
    }
   },
   "outputs": [
    {
     "name": "stderr",
     "output_type": "stream",
     "text": [
      "Using TensorFlow backend.\n"
     ]
    }
   ],
   "source": [
    "from keras.models import Sequential\n",
    "from keras.layers import Dense\n",
    "from keras.layers import Flatten\n",
    "from keras.layers.convolutional import Conv2D\n",
    "from keras.layers.convolutional import MaxPooling2D\n",
    "from keras.layers import Activation, Dropout, Flatten, Dense\n",
    "import keras\n",
    "import tensorflow as tf\n",
    "import numpy as np\n",
    "from numpy  import expand_dims\n",
    "import cv2\n",
    "from matplotlib import pyplot as plt\n",
    "from keras.preprocessing.image import ImageDataGenerator, array_to_img, img_to_array, load_img\n",
    "import os\n",
    "np.random.seed(15)"
   ]
  },
  {
   "cell_type": "markdown",
   "metadata": {},
   "source": [
    "## Dataset 디렉터리의 구조\n",
    "clean-dataset\n",
    "- train\n",
    "    - pumpkin폴더\n",
    "    - tomato폴더\n",
    "    - watermelon폴더\n",
    "- validation\n",
    "    - pumpkin폴더\n",
    "    - tomato폴더\n",
    "    - watermelon폴더\n",
    "- test\n",
    "    - pumpkin폴더 - 1개의 호박 이미지\n",
    "    - tomato폴더 - 1개의 토마토 이미지\n",
    "    - watermelon폴더 - 1개 수박 이미지"
   ]
  },
  {
   "cell_type": "code",
   "execution_count": 42,
   "metadata": {
    "ExecuteTime": {
     "end_time": "2020-03-06T16:00:46.030773Z",
     "start_time": "2020-03-06T16:00:45.667717Z"
    }
   },
   "outputs": [
    {
     "name": "stdout",
     "output_type": "stream",
     "text": [
      "Found 600 images belonging to 3 classes.\n",
      "Found 150 images belonging to 3 classes.\n",
      "Found 3 images belonging to 3 classes.\n"
     ]
    }
   ],
   "source": [
    "batch_size = 16\n",
    "\n",
    "train_datagen = ImageDataGenerator(\n",
    "        rescale=1./255,\n",
    "        shear_range=0.2,\n",
    "        zoom_range=0.2,\n",
    "        horizontal_flip=True)\n",
    "\n",
    "# 검증 및 테스트 이미지는 augmentation을 적용하지 않음(이미지 원본을 사용)\n",
    "validation_datagen = ImageDataGenerator(rescale=1./255)\n",
    "test_datagen = ImageDataGenerator(rescale=1./255)\n",
    "\n",
    "# 이미지를 배치 단위로 불러와 줄 generator입니다.\n",
    "train_generator = train_datagen.flow_from_directory(\n",
    "        'clean-dataset/train', \n",
    "        target_size=(150, 150), \n",
    "        batch_size=batch_size,\n",
    "        class_mode='binary') \n",
    "\n",
    "validation_generator = validation_datagen.flow_from_directory(\n",
    "        'clean-dataset/validation',\n",
    "        target_size=(150, 150),\n",
    "        batch_size=batch_size,\n",
    "        class_mode='binary')\n",
    "\n",
    "test_generator = test_datagen.flow_from_directory(    # test_generator, validation_generator의 데이터를 똑같은 걸로 했음\n",
    "        'clean-dataset/test',\n",
    "        target_size=(150, 150),\n",
    "        batch_size=batch_size,\n",
    "        class_mode='binary')"
   ]
  },
  {
   "cell_type": "code",
   "execution_count": 3,
   "metadata": {
    "ExecuteTime": {
     "end_time": "2020-03-06T15:02:07.532346Z",
     "start_time": "2020-03-06T15:02:07.282017Z"
    }
   },
   "outputs": [
    {
     "name": "stdout",
     "output_type": "stream",
     "text": [
      "WARNING:tensorflow:From C:\\Users\\jnh78\\Anaconda3\\envs\\tutorial\\lib\\site-packages\\tensorflow_core\\python\\ops\\resource_variable_ops.py:1630: calling BaseResourceVariable.__init__ (from tensorflow.python.ops.resource_variable_ops) with constraint is deprecated and will be removed in a future version.\n",
      "Instructions for updating:\n",
      "If using Keras pass *_constraint arguments to layers.\n",
      "WARNING:tensorflow:From C:\\Users\\jnh78\\Anaconda3\\envs\\tutorial\\lib\\site-packages\\keras\\backend\\tensorflow_backend.py:4070: The name tf.nn.max_pool is deprecated. Please use tf.nn.max_pool2d instead.\n",
      "\n"
     ]
    }
   ],
   "source": [
    "model = Sequential()\n",
    "model.add(Conv2D(32, (3, 3), input_shape=(150, 150,3)))\n",
    "model.add(Activation('relu'))\n",
    "model.add(MaxPooling2D(pool_size=(2, 2)))\n",
    "\n",
    "model.add(Conv2D(32, (3, 3)))\n",
    "model.add(Activation('relu'))\n",
    "model.add(MaxPooling2D(pool_size=(2, 2)))\n",
    "\n",
    "model.add(Conv2D(64, (3, 3)))\n",
    "model.add(Activation('relu'))\n",
    "model.add(MaxPooling2D(pool_size=(2, 2)))\n",
    "\n",
    "model.add(Flatten())  # this converts our 3D feature maps to 1D feature vectors\n",
    "model.add(Dense(64))\n",
    "model.add(Activation('relu'))\n",
    "model.add(Dropout(0.5))\n",
    "\n",
    "model.add(Dense(3))\n",
    "model.add(Activation('softmax'))\n",
    "\n",
    "model.compile(loss='sparse_categorical_crossentropy',\n",
    "              optimizer='adam',\n",
    "              metrics=['accuracy'])\n"
   ]
  },
  {
   "cell_type": "code",
   "execution_count": 4,
   "metadata": {
    "ExecuteTime": {
     "end_time": "2020-03-06T15:12:39.502457Z",
     "start_time": "2020-03-06T15:02:07.541323Z"
    },
    "scrolled": true
   },
   "outputs": [
    {
     "name": "stdout",
     "output_type": "stream",
     "text": [
      "WARNING:tensorflow:From C:\\Users\\jnh78\\Anaconda3\\envs\\tutorial\\lib\\site-packages\\keras\\backend\\tensorflow_backend.py:422: The name tf.global_variables is deprecated. Please use tf.compat.v1.global_variables instead.\n",
      "\n",
      "Epoch 1/50\n",
      "37/37 [==============================] - 14s 377ms/step - loss: 0.9478 - accuracy: 0.5257 - val_loss: 0.6767 - val_accuracy: 0.7500\n",
      "Epoch 2/50\n",
      "37/37 [==============================] - 12s 333ms/step - loss: 0.6513 - accuracy: 0.7466 - val_loss: 0.3271 - val_accuracy: 0.8358\n",
      "Epoch 3/50\n",
      "37/37 [==============================] - 12s 336ms/step - loss: 0.5265 - accuracy: 0.8014 - val_loss: 0.2051 - val_accuracy: 0.7985\n",
      "Epoch 4/50\n",
      "37/37 [==============================] - 13s 344ms/step - loss: 0.4920 - accuracy: 0.8202 - val_loss: 0.7802 - val_accuracy: 0.8507\n",
      "Epoch 5/50\n",
      "37/37 [==============================] - 12s 322ms/step - loss: 0.4329 - accuracy: 0.8480 - val_loss: 0.1292 - val_accuracy: 0.8507\n",
      "Epoch 6/50\n",
      "37/37 [==============================] - 12s 315ms/step - loss: 0.3664 - accuracy: 0.8542 - val_loss: 0.4277 - val_accuracy: 0.8657\n",
      "Epoch 7/50\n",
      "37/37 [==============================] - 12s 312ms/step - loss: 0.3578 - accuracy: 0.8630 - val_loss: 0.4617 - val_accuracy: 0.8358\n",
      "Epoch 8/50\n",
      "37/37 [==============================] - 12s 330ms/step - loss: 0.3230 - accuracy: 0.8836 - val_loss: 0.4851 - val_accuracy: 0.7761\n",
      "Epoch 9/50\n",
      "37/37 [==============================] - 13s 354ms/step - loss: 0.3099 - accuracy: 0.8870 - val_loss: 0.1337 - val_accuracy: 0.9179\n",
      "Epoch 10/50\n",
      "37/37 [==============================] - 12s 329ms/step - loss: 0.3397 - accuracy: 0.8664 - val_loss: 0.1618 - val_accuracy: 0.8881\n",
      "Epoch 11/50\n",
      "37/37 [==============================] - 12s 326ms/step - loss: 0.3126 - accuracy: 0.8919 - val_loss: 0.2447 - val_accuracy: 0.8750\n",
      "Epoch 12/50\n",
      "37/37 [==============================] - 12s 338ms/step - loss: 0.2888 - accuracy: 0.8887 - val_loss: 0.2608 - val_accuracy: 0.9403\n",
      "Epoch 13/50\n",
      "37/37 [==============================] - 12s 325ms/step - loss: 0.2657 - accuracy: 0.8976 - val_loss: 0.3384 - val_accuracy: 0.8582\n",
      "Epoch 14/50\n",
      "37/37 [==============================] - 12s 323ms/step - loss: 0.2510 - accuracy: 0.8955 - val_loss: 0.0520 - val_accuracy: 0.9328\n",
      "Epoch 15/50\n",
      "37/37 [==============================] - 12s 323ms/step - loss: 0.2679 - accuracy: 0.8970 - val_loss: 0.2907 - val_accuracy: 0.8582\n",
      "Epoch 16/50\n",
      "37/37 [==============================] - 13s 345ms/step - loss: 0.2428 - accuracy: 0.9092 - val_loss: 0.1477 - val_accuracy: 0.9254\n",
      "Epoch 17/50\n",
      "37/37 [==============================] - 13s 343ms/step - loss: 0.2096 - accuracy: 0.9144 - val_loss: 0.8985 - val_accuracy: 0.8209\n",
      "Epoch 18/50\n",
      "37/37 [==============================] - 12s 322ms/step - loss: 0.1875 - accuracy: 0.9219 - val_loss: 0.2548 - val_accuracy: 0.8433\n",
      "Epoch 19/50\n",
      "37/37 [==============================] - 13s 342ms/step - loss: 0.2138 - accuracy: 0.9195 - val_loss: 0.1856 - val_accuracy: 0.9030\n",
      "Epoch 20/50\n",
      "37/37 [==============================] - 13s 339ms/step - loss: 0.1677 - accuracy: 0.9384 - val_loss: 0.1262 - val_accuracy: 0.8806\n",
      "Epoch 21/50\n",
      "37/37 [==============================] - 12s 327ms/step - loss: 0.2316 - accuracy: 0.9105 - val_loss: 0.0679 - val_accuracy: 0.9167\n",
      "Epoch 22/50\n",
      "37/37 [==============================] - 12s 319ms/step - loss: 0.1685 - accuracy: 0.9375 - val_loss: 0.0481 - val_accuracy: 0.8955\n",
      "Epoch 23/50\n",
      "37/37 [==============================] - 12s 318ms/step - loss: 0.1738 - accuracy: 0.9332 - val_loss: 0.0379 - val_accuracy: 0.9030\n",
      "Epoch 24/50\n",
      "37/37 [==============================] - 12s 322ms/step - loss: 0.2410 - accuracy: 0.9075 - val_loss: 0.5665 - val_accuracy: 0.8209\n",
      "Epoch 25/50\n",
      "37/37 [==============================] - 12s 327ms/step - loss: 0.2243 - accuracy: 0.9189 - val_loss: 0.2974 - val_accuracy: 0.9104\n",
      "Epoch 26/50\n",
      "37/37 [==============================] - 12s 321ms/step - loss: 0.1531 - accuracy: 0.9427 - val_loss: 0.8039 - val_accuracy: 0.8507\n",
      "Epoch 27/50\n",
      "37/37 [==============================] - 12s 328ms/step - loss: 0.1632 - accuracy: 0.9527 - val_loss: 0.1393 - val_accuracy: 0.8582\n",
      "Epoch 28/50\n",
      "37/37 [==============================] - 12s 316ms/step - loss: 0.1724 - accuracy: 0.9219 - val_loss: 0.6185 - val_accuracy: 0.8582\n",
      "Epoch 29/50\n",
      "37/37 [==============================] - 13s 347ms/step - loss: 0.1262 - accuracy: 0.9561 - val_loss: 0.7900 - val_accuracy: 0.9030\n",
      "Epoch 30/50\n",
      "37/37 [==============================] - 14s 377ms/step - loss: 0.0938 - accuracy: 0.9606 - val_loss: 0.2261 - val_accuracy: 0.9104\n",
      "Epoch 31/50\n",
      "37/37 [==============================] - 14s 382ms/step - loss: 0.1307 - accuracy: 0.9572 - val_loss: 0.0587 - val_accuracy: 0.8958\n",
      "Epoch 32/50\n",
      "37/37 [==============================] - 13s 343ms/step - loss: 0.1465 - accuracy: 0.9418 - val_loss: 0.1663 - val_accuracy: 0.9328\n",
      "Epoch 33/50\n",
      "37/37 [==============================] - 12s 330ms/step - loss: 0.2099 - accuracy: 0.9281 - val_loss: 0.6631 - val_accuracy: 0.8955\n",
      "Epoch 34/50\n",
      "37/37 [==============================] - 12s 333ms/step - loss: 0.1917 - accuracy: 0.9229 - val_loss: 0.1152 - val_accuracy: 0.8881\n",
      "Epoch 35/50\n",
      "37/37 [==============================] - 13s 348ms/step - loss: 0.1483 - accuracy: 0.9366 - val_loss: 0.5414 - val_accuracy: 0.9030\n",
      "Epoch 36/50\n",
      "37/37 [==============================] - 13s 359ms/step - loss: 0.1214 - accuracy: 0.9538 - val_loss: 0.3473 - val_accuracy: 0.8806\n",
      "Epoch 37/50\n",
      "37/37 [==============================] - 13s 361ms/step - loss: 0.0940 - accuracy: 0.9675 - val_loss: 0.2124 - val_accuracy: 0.8657\n",
      "Epoch 38/50\n",
      "37/37 [==============================] - 13s 354ms/step - loss: 0.0979 - accuracy: 0.9623 - val_loss: 0.0744 - val_accuracy: 0.8507\n",
      "Epoch 39/50\n",
      "37/37 [==============================] - 14s 390ms/step - loss: 0.0932 - accuracy: 0.9606 - val_loss: 0.1837 - val_accuracy: 0.9030\n",
      "Epoch 40/50\n",
      "37/37 [==============================] - 13s 354ms/step - loss: 0.1050 - accuracy: 0.9606 - val_loss: 2.8158 - val_accuracy: 0.9104\n",
      "Epoch 41/50\n",
      "37/37 [==============================] - 13s 341ms/step - loss: 0.1007 - accuracy: 0.9709 - val_loss: 0.2259 - val_accuracy: 0.9028\n",
      "Epoch 42/50\n",
      "37/37 [==============================] - 13s 354ms/step - loss: 0.0916 - accuracy: 0.9572 - val_loss: 0.5233 - val_accuracy: 0.8582\n",
      "Epoch 43/50\n",
      "37/37 [==============================] - 13s 360ms/step - loss: 0.0874 - accuracy: 0.9640 - val_loss: 1.0241 - val_accuracy: 0.9179\n",
      "Epoch 44/50\n",
      "37/37 [==============================] - 14s 369ms/step - loss: 0.1051 - accuracy: 0.9589 - val_loss: 0.4459 - val_accuracy: 0.9403\n",
      "Epoch 45/50\n",
      "37/37 [==============================] - 14s 389ms/step - loss: 0.1258 - accuracy: 0.9572 - val_loss: 0.7335 - val_accuracy: 0.8955\n",
      "Epoch 46/50\n",
      "37/37 [==============================] - 13s 349ms/step - loss: 0.0998 - accuracy: 0.9555 - val_loss: 0.3935 - val_accuracy: 0.9403\n",
      "Epoch 47/50\n",
      "37/37 [==============================] - 12s 330ms/step - loss: 0.0790 - accuracy: 0.9713 - val_loss: 0.7118 - val_accuracy: 0.9179\n",
      "Epoch 48/50\n",
      "37/37 [==============================] - 12s 334ms/step - loss: 0.0501 - accuracy: 0.9826 - val_loss: 0.3510 - val_accuracy: 0.9328\n",
      "Epoch 49/50\n",
      "37/37 [==============================] - 12s 330ms/step - loss: 0.0722 - accuracy: 0.9675 - val_loss: 1.3281 - val_accuracy: 0.9030\n",
      "Epoch 50/50\n",
      "37/37 [==============================] - 12s 325ms/step - loss: 0.0774 - accuracy: 0.9692 - val_loss: 0.1180 - val_accuracy: 0.8955\n"
     ]
    }
   ],
   "source": [
    "model.fit_generator(\n",
    "        train_generator,\n",
    "        steps_per_epoch=600 // batch_size,\n",
    "        epochs=50,  #50 정도는 해야 accuracy가 0.8까지는 나옴\n",
    "        validation_data=validation_generator,\n",
    "        validation_steps=150 // 16)     \n",
    "\n",
    "model.save(\"pumpkin_tomato_watermelon.h5\")"
   ]
  },
  {
   "cell_type": "code",
   "execution_count": 4,
   "metadata": {
    "ExecuteTime": {
     "end_time": "2020-03-06T12:42:29.445351Z",
     "start_time": "2020-03-06T12:42:26.724633Z"
    }
   },
   "outputs": [
    {
     "name": "stdout",
     "output_type": "stream",
     "text": [
      "WARNING:tensorflow:From C:\\Users\\jnh78\\Anaconda3\\envs\\tutorial\\lib\\site-packages\\tensorflow_core\\python\\ops\\resource_variable_ops.py:1630: calling BaseResourceVariable.__init__ (from tensorflow.python.ops.resource_variable_ops) with constraint is deprecated and will be removed in a future version.\n",
      "Instructions for updating:\n",
      "If using Keras pass *_constraint arguments to layers.\n",
      "WARNING:tensorflow:From C:\\Users\\jnh78\\Anaconda3\\envs\\tutorial\\lib\\site-packages\\keras\\backend\\tensorflow_backend.py:4070: The name tf.nn.max_pool is deprecated. Please use tf.nn.max_pool2d instead.\n",
      "\n",
      "WARNING:tensorflow:From C:\\Users\\jnh78\\Anaconda3\\envs\\tutorial\\lib\\site-packages\\keras\\backend\\tensorflow_backend.py:422: The name tf.global_variables is deprecated. Please use tf.compat.v1.global_variables instead.\n",
      "\n"
     ]
    }
   ],
   "source": [
    "# from keras.models import load_model\n",
    "# model = load_model(\"pumpkin_tomato_watermelon.h5\")"
   ]
  },
  {
   "cell_type": "code",
   "execution_count": 43,
   "metadata": {
    "ExecuteTime": {
     "end_time": "2020-03-06T16:01:04.626692Z",
     "start_time": "2020-03-06T16:01:03.997379Z"
    }
   },
   "outputs": [
    {
     "name": "stdout",
     "output_type": "stream",
     "text": [
      "-- Evaluation with validation data --\n",
      "0.8958333134651184\n"
     ]
    }
   ],
   "source": [
    "# validation데이터로 모델 평가하기\n",
    "print(\"-- Evaluation with validation data --\")\n",
    "scores = model.evaluate_generator( validation_generator,   steps = 150//16)\n",
    "print(scores[1])"
   ]
  },
  {
   "cell_type": "code",
   "execution_count": 44,
   "metadata": {
    "ExecuteTime": {
     "end_time": "2020-03-06T16:01:04.648636Z",
     "start_time": "2020-03-06T16:01:04.640656Z"
    }
   },
   "outputs": [],
   "source": [
    "labels=['Pumpkin', 'Tomato', 'Watermelon']"
   ]
  },
  {
   "cell_type": "code",
   "execution_count": 45,
   "metadata": {
    "ExecuteTime": {
     "end_time": "2020-03-06T16:01:05.717774Z",
     "start_time": "2020-03-06T16:01:05.608102Z"
    },
    "scrolled": true
   },
   "outputs": [
    {
     "name": "stdout",
     "output_type": "stream",
     "text": [
      "['pumpkin', 'tomato', 'watermelon']\n",
      "------- pumpkin.jpg -------\n",
      "[[1. 0. 0.]]\n",
      "Probability that the image is a Pumpkin: 1.0\n",
      "Probability that the image is a Tomato: 0.0\n",
      "Probability that the image is a Watermelon: 0.0\n",
      "Pumpkin\n",
      "\n",
      "\n",
      "------- tomato.jpg -------\n",
      "[[0. 1. 0.]]\n",
      "Probability that the image is a Pumpkin: 0.0\n",
      "Probability that the image is a Tomato: 1.0\n",
      "Probability that the image is a Watermelon: 0.0\n",
      "Tomato\n",
      "\n",
      "\n",
      "------- watermelon.jpg -------\n",
      "[[0. 0. 1.]]\n",
      "Probability that the image is a Pumpkin: 0.0\n",
      "Probability that the image is a Tomato: 0.0\n",
      "Probability that the image is a Watermelon: 1.0\n",
      "Watermelon\n",
      "\n",
      "\n"
     ]
    }
   ],
   "source": [
    "root_dir = \"./clean-dataset/test\"\n",
    "folders = os.listdir(root_dir)\n",
    "print(folders)                        # ['pumpkin', 'tomato', 'watermelon']\n",
    "\n",
    "for folder in folders:\n",
    "    root_dir_folder = \"./clean-dataset/test/\"+folder\n",
    "    for file in os.listdir(root_dir_folder):\n",
    "        print(\"-------\", file, \"-------\")\n",
    "        img_path = os.path.join(root_dir_folder, file)\n",
    "        img = load_img(img_path, target_size=(150, 150))\n",
    "        x = img_to_array(img)\n",
    "    #     print(x.shape)\n",
    "        x = np.expand_dims(x, axis=0)\n",
    "    #     print(x.shape)\n",
    "    #     print('\\n')\n",
    "        preds = model.predict(x)\n",
    "        p = np.argmax(preds, axis=1)\n",
    "        print(preds)\n",
    "    #     print(p)\n",
    "    #     print(labels[p[0]])\n",
    "    #     print('\\n')\n",
    "\n",
    "        print('Probability that the image is a Pumpkin:', preds[0,0])\n",
    "        print('Probability that the image is a Tomato:', preds[0,1])\n",
    "        print('Probability that the image is a Watermelon:', preds[0,2])\n",
    "        print(labels[p[0]])\n",
    "        print('\\n')"
   ]
  },
  {
   "cell_type": "code",
   "execution_count": 71,
   "metadata": {
    "ExecuteTime": {
     "end_time": "2020-03-06T16:25:30.521800Z",
     "start_time": "2020-03-06T16:25:30.412091Z"
    }
   },
   "outputs": [
    {
     "name": "stdout",
     "output_type": "stream",
     "text": [
      "Found 4 images belonging to 3 classes.\n"
     ]
    }
   ],
   "source": [
    "test_generator = test_datagen.flow_from_directory(    # test_generator, validation_generator의 데이터를 똑같은 걸로 했음\n",
    "        'clean-dataset/test',\n",
    "        target_size=(150, 150),\n",
    "        batch_size=batch_size,\n",
    "        class_mode='binary')"
   ]
  },
  {
   "cell_type": "code",
   "execution_count": 72,
   "metadata": {
    "ExecuteTime": {
     "end_time": "2020-03-06T16:25:31.469674Z",
     "start_time": "2020-03-06T16:25:30.534733Z"
    }
   },
   "outputs": [
    {
     "name": "stdout",
     "output_type": "stream",
     "text": [
      "-- Evaluate --\n",
      "1.0\n"
     ]
    }
   ],
   "source": [
    "# test데이터로 모델 평가하기\n",
    "print(\"-- Evaluate --\")\n",
    "scores = model.evaluate_generator( test_generator,   steps = 150//16)\n",
    "print(scores[1])"
   ]
  },
  {
   "cell_type": "markdown",
   "metadata": {},
   "source": [
    "## <font color=red> 개중요</font>\n",
    "### Q) 여기서 test폴더의 하위폴더의 이름을 바꿔서해도 정확도가 그대로 나올까?\n",
    "### A) 이름을 바꿨을때 폴더의 순서(이름순)이 바뀌면 그대로 나오지 않는다.\n",
    "- 왜냐면 flow_from_directory()메서드를 이용할 때, 하위 폴더들로 구분하고 train데이터와 test데이터의 폴더 순서대로 매칭하기 때문이다.\n",
    "- 예를 들어서, train디렉터리는 하위 폴더가 pumpkin, tomato, watermelon의 순서대로 구분 했으면, test데이터도 하위 폴더를 (비록 이름이 바뀌더라도) [호박 사진이 있는 폴더, 토마토 이미지가 있는 폴더, 수박 이미지가 있는 폴더] 순서로 맞춰줘야 한다.\n",
    "----\n",
    "- ex1) test폴더의 하위 폴더들이 **1** : 호박 사진이 있는 폴더,   **2** : 토마토 사진이 있는 폴더, **3** : 수박 사진이 있는 폴더 라고 할때, 정확도는 1이 나온다.\n",
    "\n",
    "\n",
    "- ex2) test폴더의 하위 폴더들이  **1** : <ins>토마토 사진</ins>이 있는 폴더,   **2** : <ins>호박 사진</ins>이 있는 폴더, **3** : 수박 사진이 있는 폴더 라고 할때, 정확도는 1/3=0.3333 이 나온다. 이는 train data의 하위폴더 순서는 [pumpkin, tomato, watermelon] 순이지만 test data의 하위폴더 순서는 이름순대로 [토마토 사진이 있는 폴더, 호박 사진이 있는 폴더, 수박 사진이 있는 폴더] 이기 때문에 수박사진만 정확하다고 평가한다.\n",
    "\n",
    "\n",
    "- ex3) 기존의 test폴더에서 하위 폴더를 한 개 더 늘리고 그 안에 수박사진(혹은 호박, 토마토)을 넣는다면 test폴더의 하위폴더는 4개가 되고 각각 이미지 파일을 1개씩 가지고 있게 되는데 이때는 evaluate가 오류가 난다.(check!)\n",
    "\n",
    "\n",
    "- ex4) 하지만 test폴더의 기존의 3개의 하위폴더(pumpkin, tomato, watermelon)에서 한 하위폴더(watermelon)의 이미지를 다른 하위 폴더(tomato)로 옮기고 빈 하위폴더를 지워서 test폴더의 하위폴더가 2개가 된다면 ex3처럼 오류가 일어나진 않는다.(다만 accuracy가 좀 떨어질뿐....)"
   ]
  }
 ],
 "metadata": {
  "kernelspec": {
   "display_name": "Python 3",
   "language": "python",
   "name": "python3"
  },
  "language_info": {
   "codemirror_mode": {
    "name": "ipython",
    "version": 3
   },
   "file_extension": ".py",
   "mimetype": "text/x-python",
   "name": "python",
   "nbconvert_exporter": "python",
   "pygments_lexer": "ipython3",
   "version": "3.7.5"
  },
  "varInspector": {
   "cols": {
    "lenName": 16,
    "lenType": 16,
    "lenVar": 40
   },
   "kernels_config": {
    "python": {
     "delete_cmd_postfix": "",
     "delete_cmd_prefix": "del ",
     "library": "var_list.py",
     "varRefreshCmd": "print(var_dic_list())"
    },
    "r": {
     "delete_cmd_postfix": ") ",
     "delete_cmd_prefix": "rm(",
     "library": "var_list.r",
     "varRefreshCmd": "cat(var_dic_list()) "
    }
   },
   "types_to_exclude": [
    "module",
    "function",
    "builtin_function_or_method",
    "instance",
    "_Feature"
   ],
   "window_display": false
  }
 },
 "nbformat": 4,
 "nbformat_minor": 2
}
