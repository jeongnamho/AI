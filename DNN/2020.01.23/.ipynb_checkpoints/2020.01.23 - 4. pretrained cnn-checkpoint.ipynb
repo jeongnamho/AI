{
 "cells": [
  {
   "cell_type": "markdown",
   "metadata": {},
   "source": [
    "# 사전 학습된 CNN"
   ]
  },
  {
   "cell_type": "code",
   "execution_count": 1,
   "metadata": {
    "ExecuteTime": {
     "end_time": "2020-03-09T02:05:39.159715Z",
     "start_time": "2020-03-09T02:05:15.359765Z"
    }
   },
   "outputs": [
    {
     "name": "stderr",
     "output_type": "stream",
     "text": [
      "Using TensorFlow backend.\n"
     ]
    }
   ],
   "source": [
    "import keras\n",
    "import numpy as np\n",
    "from keras.applications import vgg16, inception_v3, resnet50, mobilenet\n",
    "from keras.preprocessing.image import load_img\n",
    "from keras.preprocessing.image import img_to_array\n",
    "from keras.applications.imagenet_utils import decode_predictions\n",
    "import matplotlib.pyplot as plt\n",
    "from keras import models\n",
    "from keras import layers\n",
    "from keras import optimizers\n",
    "%matplotlib inline\n",
    "\n",
    "from IPython.display import SVG\n",
    "from keras.utils.vis_utils import model_to_dot\n",
    "%matplotlib inline\n",
    "\n",
    "#https://storage.googleapis.com/download.tensorflow.org/data/ImageNetLabels.txt   "
   ]
  },
  {
   "cell_type": "markdown",
   "metadata": {},
   "source": [
    "## Transfer Learning\n",
    "\n",
    "- 매번 새로운 Task에 대해 바닥부터 적합한 Neural Networks 구조를 발견하고, 이를 새로 학습시키는 것은 매우 많은 시간과 노력이 들어가는 일이다.<br><br>\n",
    "- 따라서, 특정 Task에 이미 잘 작동하는 것이 검증된 모델( ex. 이미지 인식(추론)에 대해서는 구글이 만든 Inception 모델)의 구조와 파라미터들을 그대로 가져와서, 이를 기반으로 새로운 데이터셋에 retraining을 진행해주는 것이 효율적이다.<br><br>\n",
    "- 이런 과정을 **Transfer Learning**이라고 한다.\n",
    "\n",
    "출처 : http://solarisailab.com/archives/1422"
   ]
  },
  {
   "cell_type": "markdown",
   "metadata": {},
   "source": [
    "## 1. Sample 이미지 준비\n",
    "\n",
    "cat.jpg를 해당 디렉터리에 준비했음"
   ]
  },
  {
   "cell_type": "code",
   "execution_count": 45,
   "metadata": {
    "ExecuteTime": {
     "end_time": "2020-03-09T06:25:19.674030Z",
     "start_time": "2020-03-09T06:25:19.637131Z"
    }
   },
   "outputs": [],
   "source": [
    "filename = 'cat.jpg'"
   ]
  },
  {
   "cell_type": "markdown",
   "metadata": {
    "ExecuteTime": {
     "end_time": "2020-03-09T06:22:40.371236Z",
     "start_time": "2020-03-09T06:22:40.319374Z"
    }
   },
   "source": [
    "## 2. VGG16 모델 준비(or inception_v3, resnet50, mobilenet)"
   ]
  },
  {
   "cell_type": "code",
   "execution_count": 2,
   "metadata": {
    "ExecuteTime": {
     "end_time": "2020-03-09T02:21:13.081912Z",
     "start_time": "2020-03-09T02:05:42.968143Z"
    }
   },
   "outputs": [
    {
     "name": "stdout",
     "output_type": "stream",
     "text": [
      "WARNING:tensorflow:From C:\\Users\\jnh78\\Anaconda3\\envs\\tutorial\\lib\\site-packages\\tensorflow_core\\python\\ops\\resource_variable_ops.py:1630: calling BaseResourceVariable.__init__ (from tensorflow.python.ops.resource_variable_ops) with constraint is deprecated and will be removed in a future version.\n",
      "Instructions for updating:\n",
      "If using Keras pass *_constraint arguments to layers.\n",
      "WARNING:tensorflow:From C:\\Users\\jnh78\\Anaconda3\\envs\\tutorial\\lib\\site-packages\\keras\\backend\\tensorflow_backend.py:4070: The name tf.nn.max_pool is deprecated. Please use tf.nn.max_pool2d instead.\n",
      "\n",
      "Downloading data from https://github.com/fchollet/deep-learning-models/releases/download/v0.1/vgg16_weights_tf_dim_ordering_tf_kernels.h5\n",
      "553467904/553467096 [==============================] - 736s 1us/step\n",
      "WARNING:tensorflow:From C:\\Users\\jnh78\\Anaconda3\\envs\\tutorial\\lib\\site-packages\\keras\\backend\\tensorflow_backend.py:4074: The name tf.nn.avg_pool is deprecated. Please use tf.nn.avg_pool2d instead.\n",
      "\n",
      "Downloading data from https://github.com/fchollet/deep-learning-models/releases/download/v0.5/inception_v3_weights_tf_dim_ordering_tf_kernels.h5\n",
      "96116736/96112376 [==============================] - 85s 1us/step\n",
      "Downloading data from https://github.com/fchollet/deep-learning-models/releases/download/v0.2/resnet50_weights_tf_dim_ordering_tf_kernels.h5\n",
      "102858752/102853048 [==============================] - 24s 0us/step\n",
      "Downloading data from https://github.com/fchollet/deep-learning-models/releases/download/v0.6/mobilenet_1_0_224_tf.h5\n",
      "17227776/17225924 [==============================] - 4s 0us/step\n"
     ]
    }
   ],
   "source": [
    "# include_top 옵션이 True(default)를 하면 뒤에 풀 네트워크 신경망까지 다운 받음\n",
    "# 한 번 다운 받았으면 그 다음엔 모델 불러오는 방식으로...\n",
    "\n",
    "#Load the VGG model\n",
    "vgg_model = vgg16.VGG16(weights='imagenet')\n",
    "\n",
    "\n",
    "#Load the Inception_V3 model\n",
    "inception_model = inception_v3.InceptionV3(weights='imagenet')\n",
    "\n",
    "\n",
    "#Load the ResNet50 model\n",
    "resnet_model = resnet50.ResNet50(weights='imagenet')\n",
    " \n",
    "#Load the MobileNet model\n",
    "mobilenet_model = mobilenet.MobileNet(weights='imagenet')"
   ]
  },
  {
   "cell_type": "markdown",
   "metadata": {},
   "source": [
    "### \"vgg16\"\n",
    "<img src=vgg16.png width=500>\n",
    "\n",
    "### \"inception_v3\"\n",
    "<img src=inception_v3.png?11 width=600>\n",
    "\n",
    "### \"resnet50\"\n",
    "<img src=resnet50.png width=600>\n",
    "\n",
    "이미지 출처 : \n",
    "- https://neurohive.io/en/popular-networks/vgg16/\n",
    "- https://kangbk0120.github.io/articles/2018-01/inception-googlenet-review\n",
    "- https://www.researchgate.net/figure/Left-ResNet50-architecture-Blocks-with-dotted-line-represents-modules-that-might-be_fig3_331364877"
   ]
  },
  {
   "cell_type": "code",
   "execution_count": 7,
   "metadata": {
    "ExecuteTime": {
     "end_time": "2020-03-09T04:11:18.026264Z",
     "start_time": "2020-03-09T04:11:17.894989Z"
    },
    "scrolled": false
   },
   "outputs": [],
   "source": [
    "# 구성한 모델 가시화\n",
    "# SVG(model_to_dot(vgg16_model, show_shapes=True, dpi=65).create(prog='dot', format='svg'))\n",
    "# SVG(model_to_dot(inception_v3_model, show_shapes=True, dpi=65).create(prog='dot', format='svg'))\n",
    "# SVG(model_to_dot(resnet_model, show_shapes=True, dpi=65).create(prog='dot', format='svg'))\n",
    "# SVG(model_to_dot(mobilenet_model, show_shapes=True, dpi=65).create(prog='dot', format='svg'))"
   ]
  },
  {
   "cell_type": "code",
   "execution_count": 58,
   "metadata": {
    "ExecuteTime": {
     "end_time": "2020-03-09T06:45:48.536663Z",
     "start_time": "2020-03-09T06:45:48.318247Z"
    },
    "scrolled": true
   },
   "outputs": [
    {
     "name": "stdout",
     "output_type": "stream",
     "text": [
      "Model: \"vgg16\"\n",
      "_________________________________________________________________\n",
      "Layer (type)                 Output Shape              Param #   \n",
      "=================================================================\n",
      "input_1 (InputLayer)         (None, 224, 224, 3)       0         \n",
      "_________________________________________________________________\n",
      "block1_conv1 (Conv2D)        (None, 224, 224, 64)      1792      \n",
      "_________________________________________________________________\n",
      "block1_conv2 (Conv2D)        (None, 224, 224, 64)      36928     \n",
      "_________________________________________________________________\n",
      "block1_pool (MaxPooling2D)   (None, 112, 112, 64)      0         \n",
      "_________________________________________________________________\n",
      "block2_conv1 (Conv2D)        (None, 112, 112, 128)     73856     \n",
      "_________________________________________________________________\n",
      "block2_conv2 (Conv2D)        (None, 112, 112, 128)     147584    \n",
      "_________________________________________________________________\n",
      "block2_pool (MaxPooling2D)   (None, 56, 56, 128)       0         \n",
      "_________________________________________________________________\n",
      "block3_conv1 (Conv2D)        (None, 56, 56, 256)       295168    \n",
      "_________________________________________________________________\n",
      "block3_conv2 (Conv2D)        (None, 56, 56, 256)       590080    \n",
      "_________________________________________________________________\n",
      "block3_conv3 (Conv2D)        (None, 56, 56, 256)       590080    \n",
      "_________________________________________________________________\n",
      "block3_pool (MaxPooling2D)   (None, 28, 28, 256)       0         \n",
      "_________________________________________________________________\n",
      "block4_conv1 (Conv2D)        (None, 28, 28, 512)       1180160   \n",
      "_________________________________________________________________\n",
      "block4_conv2 (Conv2D)        (None, 28, 28, 512)       2359808   \n",
      "_________________________________________________________________\n",
      "block4_conv3 (Conv2D)        (None, 28, 28, 512)       2359808   \n",
      "_________________________________________________________________\n",
      "block4_pool (MaxPooling2D)   (None, 14, 14, 512)       0         \n",
      "_________________________________________________________________\n",
      "block5_conv1 (Conv2D)        (None, 14, 14, 512)       2359808   \n",
      "_________________________________________________________________\n",
      "block5_conv2 (Conv2D)        (None, 14, 14, 512)       2359808   \n",
      "_________________________________________________________________\n",
      "block5_conv3 (Conv2D)        (None, 14, 14, 512)       2359808   \n",
      "_________________________________________________________________\n",
      "block5_pool (MaxPooling2D)   (None, 7, 7, 512)         0         \n",
      "_________________________________________________________________\n",
      "flatten (Flatten)            (None, 25088)             0         \n",
      "_________________________________________________________________\n",
      "fc1 (Dense)                  (None, 4096)              102764544 \n",
      "_________________________________________________________________\n",
      "fc2 (Dense)                  (None, 4096)              16781312  \n",
      "_________________________________________________________________\n",
      "predictions (Dense)          (None, 1000)              4097000   \n",
      "=================================================================\n",
      "Total params: 138,357,544\n",
      "Trainable params: 138,357,544\n",
      "Non-trainable params: 0\n",
      "_________________________________________________________________\n"
     ]
    }
   ],
   "source": [
    "vgg_model.summary()    # 138,357,544\n",
    "#inception_model.summary() # 23,851,784\n",
    "#resnet_model.summary()  # 25,636,712\n",
    "#mobilenet_model.summary() # 4,253,864"
   ]
  },
  {
   "cell_type": "markdown",
   "metadata": {},
   "source": [
    "## 3. 이미지 로딩 및 전처리\n",
    "\n",
    "여기까지 예측을 위한 준비단계"
   ]
  },
  {
   "cell_type": "code",
   "execution_count": 108,
   "metadata": {
    "ExecuteTime": {
     "end_time": "2020-03-09T08:23:41.491629Z",
     "start_time": "2020-03-09T08:23:40.901207Z"
    }
   },
   "outputs": [],
   "source": [
    "filename = 'cat.jpg'\n",
    "original = load_img(filename, target_size=(224, 224)) # 위의 summary에서 보면 input 영상이 224*224이므로 \n",
    "                                                      # 로딩할때 사이즈를 맞춰준다.\n",
    "\n",
    "numpy_image = img_to_array(original)\n",
    "numpy_image = np.uint8(numpy_image)\n",
    "\n",
    "image_batch = np.expand_dims(numpy_image, axis=0) # 이미지 reshape\n",
    "image_batch = np.uint8(image_batch)"
   ]
  },
  {
   "cell_type": "code",
   "execution_count": 109,
   "metadata": {
    "ExecuteTime": {
     "end_time": "2020-03-09T08:23:43.363619Z",
     "start_time": "2020-03-09T08:23:41.849671Z"
    }
   },
   "outputs": [
    {
     "data": {
      "image/png": "[encoded data removed]",
      "text/plain": [
       "<Figure size 1080x360 with 3 Axes>"
      ]
     },
     "metadata": {
      "needs_background": "light"
     },
     "output_type": "display_data"
    }
   ],
   "source": [
    "fig=plt.figure(figsize=(15, 5))\n",
    "columns = 3\n",
    "rows = 1\n",
    "imgs = [original, numpy_image, image_batch[0]]\n",
    "names = ['original', 'numpy_image', 'image_batch']\n",
    "sizes = [\"none\", numpy_image.shape, image_batch.shape]\n",
    "\n",
    "for i in range(columns*rows):\n",
    "    img = imgs[i]\n",
    "    fig.add_subplot(rows, columns, i+1)\n",
    "    plt.imshow(img)\n",
    "    plt.title(f\"{names[i]}, {sizes[i]}\")\n",
    "plt.show()"
   ]
  },
  {
   "cell_type": "code",
   "execution_count": 110,
   "metadata": {
    "ExecuteTime": {
     "end_time": "2020-03-09T08:23:43.576052Z",
     "start_time": "2020-03-09T08:23:43.545135Z"
    },
    "scrolled": true
   },
   "outputs": [
    {
     "name": "stdout",
     "output_type": "stream",
     "text": [
      "(1, 224, 224, 3)\n",
      "float32\n"
     ]
    }
   ],
   "source": [
    "# 사용하는 모델마다 전처리가 다르다!\n",
    "processed_image = vgg16.preprocess_input(image_batch.copy())\n",
    "print(processed_image.shape)\n",
    "print(processed_image.dtype)\n",
    "# print(processed_image[0])"
   ]
  },
  {
   "cell_type": "markdown",
   "metadata": {},
   "source": [
    "## 4. 예측(prediction)\n",
    "\n",
    "VGG16 모델에 의해 1000개의 알려진 각각의 물체들에 해당할 확률을 구한다."
   ]
  },
  {
   "cell_type": "code",
   "execution_count": 97,
   "metadata": {
    "ExecuteTime": {
     "end_time": "2020-03-09T07:13:08.447635Z",
     "start_time": "2020-03-09T07:13:02.079672Z"
    }
   },
   "outputs": [
    {
     "name": "stdout",
     "output_type": "stream",
     "text": [
      "(1, 1000) \n",
      "\n",
      "[[5.59075033e-07 7.57199632e-06 1.35812286e-06 4.21867099e-07\n",
      "  5.83006113e-07 2.11673523e-06 2.84392570e-07 9.74440354e-06\n",
      "  2.71287772e-05 1.20934401e-05 9.96929477e-04 4.82229116e-05\n",
      "  6.33342506e-06 1.47425948e-04 4.34623132e-07 5.68286923e-04\n",
      "  4.51456253e-05 1.20572686e-05 1.87777969e-05 1.39515869e-05\n",
      "  1.73709312e-04 2.63207214e-04 1.17423542e-05 3.72665127e-05\n",
      "  1.21873432e-04 6.92362346e-06 8.31969373e-06 4.67197970e-06\n",
      "  5.92003005e-07 4.36231676e-06 2.73859541e-06 1.97083455e-06\n",
      "  4.60153700e-07 1.53343331e-06 4.07932794e-06 6.03809713e-06\n",
      "  7.35374051e-05 1.06804264e-05 1.26313425e-05 1.83820271e-06\n",
      "  1.70970034e-05 3.85526755e-06 4.26591077e-06 1.26083560e-05\n",
      "  1.48264508e-05 1.05851450e-06 3.15434881e-05 2.85524015e-06\n",
      "  4.35585406e-07 4.12412646e-07 6.36283289e-07 5.47656145e-06\n",
      "  1.95688444e-05 1.25241440e-05 4.48374267e-05 5.58355987e-06\n",
      "  7.25931386e-06 2.12652103e-05 3.44072032e-05 2.37444019e-05\n",
      "  3.69864865e-05 4.49461459e-06 1.72677992e-05 2.54765273e-05\n",
      "  1.14988743e-05 1.31585841e-06 6.13317388e-05 9.23699645e-06\n",
      "  3.77627839e-06 4.50313109e-06 1.94543518e-05 3.47482865e-06\n",
      "  2.69347365e-05 5.54359622e-06 1.00904363e-05 8.79032268e-06\n",
      "  2.13376734e-05 3.79335652e-05 1.64371377e-05 2.84385787e-05\n",
      "  1.31281940e-05 4.17050069e-05 1.45419355e-04 2.40207999e-03\n",
      "  1.40512930e-04 3.25207729e-05 9.86347659e-05 9.89788441e-06\n",
      "  4.31682156e-06 7.35131061e-06 4.38520738e-06 3.02026365e-05\n",
      "  7.01387989e-06 5.85272574e-06 7.16796960e-04 1.09268316e-04\n",
      "  1.09688390e-05 2.72399338e-04 4.15370232e-05 5.49069198e-04\n",
      "  5.96354630e-06 6.02388965e-08 2.56140356e-06 6.50705806e-06\n",
      "  1.91670214e-03 9.15489363e-06 1.24721764e-05 9.93088634e-07\n",
      "  2.08225742e-06 2.07253788e-06 1.07631267e-05 1.65332960e-06\n",
      "  4.71614521e-06 1.78353330e-05 2.29615674e-04 7.59642944e-06\n",
      "  5.14851536e-07 3.84136547e-06 9.57812404e-07 7.00977068e-07\n",
      "  2.01492469e-07 4.85048190e-07 1.25245674e-06 2.98413710e-07\n",
      "  1.02772919e-05 2.66672964e-06 8.92645630e-07 4.59176533e-07\n",
      "  1.56584647e-05 1.77515653e-06 9.12078917e-07 2.34865001e-06\n",
      "  5.93883269e-05 2.24351927e-04 2.81746507e-05 9.22189713e-07\n",
      "  4.19479875e-06 3.18444727e-05 1.86491525e-04 1.83944794e-04\n",
      "  1.37484647e-04 1.28884731e-05 6.41347424e-06 2.85480073e-05\n",
      "  1.09173270e-05 1.68607314e-03 4.79628623e-04 4.67494999e-07\n",
      "  6.66380811e-06 8.75694610e-08 5.85311391e-05 1.19858159e-04\n",
      "  3.89333691e-05 2.44015609e-06 5.25805535e-06 4.00236877e-06\n",
      "  7.49674145e-05 9.57247161e-04 7.05248793e-04 5.13093573e-06\n",
      "  9.79271590e-06 8.63077948e-05 2.52589525e-04 4.60577166e-06\n",
      "  9.25097811e-06 3.48342883e-06 7.40271353e-05 5.88395123e-05\n",
      "  4.41359043e-06 6.96850620e-05 2.39710721e-06 1.94754306e-04\n",
      "  1.27484120e-04 1.05918548e-03 4.94456663e-06 8.72568933e-07\n",
      "  3.96892028e-06 4.71169051e-06 2.34684967e-06 4.92983372e-06\n",
      "  1.35078662e-05 3.90542073e-06 7.83977157e-06 3.94457402e-06\n",
      "  4.63131801e-06 1.70859926e-06 5.52798847e-05 1.15386401e-05\n",
      "  1.07976972e-04 7.87846784e-06 2.29693615e-06 1.16151068e-05\n",
      "  2.65810968e-06 3.04690857e-05 4.60177802e-07 4.23485966e-04\n",
      "  4.13513590e-06 2.69323846e-06 5.54858389e-06 3.88928584e-06\n",
      "  3.03012052e-06 4.90332332e-06 2.92360824e-06 8.49927710e-06\n",
      "  2.77858817e-06 7.95177357e-07 2.45974002e-06 1.80726363e-06\n",
      "  4.72599231e-06 1.50035305e-06 2.65190874e-06 4.19071239e-06\n",
      "  4.69411816e-06 1.88448826e-06 9.49940477e-06 1.70437870e-05\n",
      "  8.39677682e-07 1.38572737e-04 1.23933467e-04 1.12018006e-05\n",
      "  7.31666842e-06 3.66365293e-06 2.17931279e-06 1.32905166e-06\n",
      "  6.00030762e-06 3.20864601e-05 1.31791171e-06 5.04980126e-05\n",
      "  9.37136519e-07 8.50537435e-06 2.57358508e-04 1.92351756e-04\n",
      "  9.88666216e-05 8.41386679e-07 4.39433416e-06 1.30227872e-05\n",
      "  3.82356411e-05 5.49567631e-05 1.50326785e-04 1.46542431e-03\n",
      "  4.96938534e-04 8.70232107e-05 2.13288135e-04 9.14824250e-06\n",
      "  3.15180159e-07 7.67618330e-05 1.72952059e-05 2.54719227e-04\n",
      "  3.13926139e-04 2.82416877e-05 1.06444459e-04 1.10645466e-04\n",
      "  1.28746956e-06 7.63354730e-03 2.53752069e-06 1.43079387e-06\n",
      "  9.88016836e-07 8.34950060e-06 1.10848614e-05 6.27741792e-06\n",
      "  4.81177096e-07 3.18103247e-07 2.83777717e-06 9.71605128e-04\n",
      "  3.84899485e-03 4.89606646e-06 6.85977568e-07 1.72438956e-06\n",
      "  1.38918804e-05 3.16907535e-05 3.14959811e-06 1.19032753e-04\n",
      "  4.73429027e-05 1.78150858e-05 3.86831416e-05 1.65395813e-05\n",
      "  1.83118470e-06 8.39799875e-04 3.57716403e-04 7.06551073e-05\n",
      "  5.51999896e-04 2.56446064e-01 3.91048819e-01 1.68421757e-04\n",
      "  4.10708087e-03 1.36698201e-01 4.16134106e-04 1.20614050e-02\n",
      "  3.48925569e-05 1.65090260e-05 2.50649318e-05 2.54277234e-06\n",
      "  1.63714075e-03 4.60274168e-06 1.44033618e-06 3.86965166e-06\n",
      "  1.91705476e-06 2.98200348e-07 2.00745417e-04 3.18934821e-04\n",
      "  5.54309679e-07 1.09277635e-05 5.65765561e-07 4.88681144e-06\n",
      "  6.92947253e-07 3.53542120e-08 2.14063903e-06 2.08501751e-06\n",
      "  7.80783648e-06 2.78527259e-05 2.19166191e-06 2.29884390e-05\n",
      "  1.78978662e-05 5.96170958e-06 2.16324042e-06 6.22733114e-06\n",
      "  2.45062383e-05 3.07080109e-06 1.98358030e-05 4.39510950e-06\n",
      "  1.15442037e-06 5.75639970e-05 1.12949936e-04 1.15346911e-05\n",
      "  2.03680465e-05 1.05493136e-05 6.47268025e-05 7.13900999e-06\n",
      "  1.42604779e-06 1.54528914e-06 8.64573941e-03 7.79991895e-02\n",
      "  1.56470831e-03 1.94235332e-03 2.95554719e-06 6.91991718e-03\n",
      "  2.51720223e-04 7.67540041e-05 4.56432841e-04 5.82147459e-06\n",
      "  8.18917397e-05 1.74384604e-06 5.36804419e-06 2.74700881e-07\n",
      "  5.51759058e-07 5.53446853e-06 3.26709454e-07 7.39169423e-07\n",
      "  2.42541792e-05 6.14041664e-06 2.03227319e-04 4.56855450e-05\n",
      "  5.44970855e-04 2.56647752e-03 2.67359383e-07 1.25081197e-03\n",
      "  8.37836880e-03 3.70569760e-04 1.92412481e-04 6.03999477e-04\n",
      "  4.06646141e-05 3.55158627e-05 2.55660474e-04 5.30822717e-06\n",
      "  7.21856168e-06 8.41594556e-07 6.44333909e-07 9.85709107e-07\n",
      "  2.03948002e-06 5.82000609e-07 2.81741814e-04 6.45770342e-05\n",
      "  4.71077612e-07 1.49301798e-06 1.79261463e-06 2.42591386e-06\n",
      "  1.31545562e-06 3.82533326e-05 1.99821238e-06 5.07845414e-07\n",
      "  1.03375838e-04 7.70119095e-06 4.29503525e-05 1.62941811e-04\n",
      "  4.24968712e-05 4.06830765e-07 6.80963481e-08 2.69451157e-05\n",
      "  2.33872606e-06 1.87980174e-06 1.32561479e-06 1.07742899e-05\n",
      "  2.11171869e-06 5.16883119e-06 6.62752086e-07 6.72675242e-06\n",
      "  4.21692357e-06 5.09335723e-06 5.72312092e-06 1.47191611e-06\n",
      "  5.74107889e-06 7.88912530e-07 1.09860293e-05 5.23243315e-08\n",
      "  1.10313044e-06 1.85581612e-07 3.03054799e-06 3.06085013e-07\n",
      "  2.36434516e-06 3.16065893e-06 2.70938983e-07 1.65904330e-05\n",
      "  2.39352084e-04 2.05585820e-06 5.00623537e-06 1.73351000e-05\n",
      "  2.97802330e-06 1.04803630e-05 1.25592065e-04 8.52228732e-06\n",
      "  5.46009778e-06 1.11554482e-05 2.09563987e-05 1.94989207e-06\n",
      "  1.18941409e-06 1.30797491e-06 9.28687587e-06 3.47901514e-05\n",
      "  3.00244101e-05 3.88441913e-06 6.36809864e-06 6.13035854e-06\n",
      "  1.54075751e-05 2.75837192e-06 5.28250774e-03 1.05220897e-04\n",
      "  1.13174747e-06 7.71936811e-06 8.54647224e-05 4.34387584e-06\n",
      "  4.28240543e-04 2.32016770e-04 5.08887808e-07 1.48292647e-05\n",
      "  1.86294102e-07 8.94788809e-06 1.74873985e-05 5.79708103e-06\n",
      "  1.98534617e-05 2.43299326e-07 1.06721836e-06 4.21270488e-05\n",
      "  5.34237879e-05 2.22433464e-05 5.86908900e-05 3.18398270e-05\n",
      "  2.43847771e-05 1.54571747e-03 1.15039904e-06 8.89192743e-05\n",
      "  7.95794494e-06 8.18652279e-06 9.77921736e-05 8.24560237e-04\n",
      "  1.19412789e-05 1.53305871e-06 1.72571799e-05 5.55739098e-06\n",
      "  2.32128082e-06 1.32306432e-05 3.05259047e-04 5.48017397e-07\n",
      "  6.79245716e-07 6.06113099e-05 5.36652624e-05 9.01412022e-06\n",
      "  1.44249168e-06 2.71727204e-05 2.97453924e-04 7.87837052e-06\n",
      "  3.65241999e-06 7.69318922e-06 1.76986737e-06 2.35932680e-06\n",
      "  2.21910227e-06 1.41848329e-06 7.75460103e-06 1.94652384e-04\n",
      "  1.77921138e-05 1.06722153e-04 7.04407876e-06 5.03619731e-06\n",
      "  1.40634040e-06 6.26527935e-07 7.36920219e-06 5.15358010e-07\n",
      "  4.81533789e-05 1.00914085e-05 2.87964372e-06 3.70975504e-05\n",
      "  1.18673725e-07 4.05003630e-05 2.83385962e-05 6.12581498e-04\n",
      "  4.08471999e-04 8.21382782e-05 1.25533925e-05 6.80888843e-06\n",
      "  6.72245922e-04 4.55374948e-06 1.86813156e-06 1.02465469e-06\n",
      "  7.33675333e-05 4.54316523e-06 3.14183417e-04 1.93588348e-05\n",
      "  3.13319538e-06 7.02522357e-07 3.72726481e-06 6.42603118e-06\n",
      "  3.10377982e-06 1.57401355e-05 8.07857214e-06 1.32148477e-06\n",
      "  2.35964399e-06 1.78813862e-05 2.13032990e-06 1.62622709e-05\n",
      "  2.63297079e-06 6.19224284e-06 4.70788609e-06 4.15316572e-06\n",
      "  1.72216096e-06 9.30943934e-05 8.10286510e-05 1.00306966e-06\n",
      "  1.17834963e-06 3.98418251e-07 1.14119291e-06 3.67978879e-04\n",
      "  2.33152051e-07 3.83787574e-06 1.19325487e-05 9.42971019e-05\n",
      "  2.44412576e-07 4.03923377e-06 1.31295965e-05 1.26340842e-06\n",
      "  9.65341587e-06 4.66704569e-06 2.02226693e-05 6.25782777e-05\n",
      "  2.38604101e-04 1.31238698e-06 2.48901961e-06 8.26496915e-08\n",
      "  1.78184528e-05 2.15123578e-06 1.58926468e-05 5.95261417e-06\n",
      "  2.03084710e-06 1.13804981e-06 5.46977899e-05 8.85123154e-05\n",
      "  4.56586895e-06 1.23427333e-06 8.72167584e-06 4.27871091e-05\n",
      "  9.52753471e-05 6.63667947e-07 1.26919531e-06 1.49975381e-06\n",
      "  1.99169619e-04 2.48614299e-07 1.27772391e-05 1.09837606e-06\n",
      "  1.02365995e-07 7.70077986e-06 1.91260275e-04 4.23712152e-07\n",
      "  8.36843356e-06 5.67132020e-06 3.96117593e-06 2.04976777e-06\n",
      "  3.00148054e-06 8.22958027e-05 2.51017923e-07 6.03179178e-05\n",
      "  5.74224796e-05 2.62262456e-05 6.07815455e-05 1.43714406e-05\n",
      "  4.39198557e-05 1.56026999e-05 3.54807235e-05 1.65130166e-06\n",
      "  2.81179582e-05 7.68888367e-06 4.06171148e-06 1.07997821e-05\n",
      "  3.97339318e-04 1.63593977e-05 1.66244615e-06 4.02256376e-07\n",
      "  3.49076363e-05 1.54272188e-04 2.41284670e-05 5.94632775e-06\n",
      "  5.20812209e-05 7.43623787e-07 1.78147900e-06 7.05505445e-05\n",
      "  1.62628126e-07 1.29131540e-05 1.08721297e-05 4.62256776e-06\n",
      "  2.04030603e-05 1.52827160e-05 6.72498500e-05 5.77469291e-05\n",
      "  2.21188588e-04 3.98676502e-06 2.29403799e-04 8.86217822e-05\n",
      "  7.85854536e-06 2.00920954e-06 2.69796641e-04 1.52759912e-06\n",
      "  1.34786626e-06 3.14827194e-05 1.34317872e-06 2.14409010e-04\n",
      "  9.82701386e-06 1.37910974e-05 4.85591499e-07 4.69874931e-06\n",
      "  6.40961880e-05 3.89932484e-06 1.78515165e-05 1.23132650e-05\n",
      "  1.80450797e-06 7.76313937e-06 1.27013982e-06 8.77239381e-06\n",
      "  3.50340015e-05 3.88383569e-07 1.63395944e-05 1.84804703e-05\n",
      "  3.62348001e-05 1.78702101e-06 2.19890899e-05 1.36403996e-05\n",
      "  8.95400376e-07 2.92842597e-05 2.47901085e-06 8.05941818e-06\n",
      "  3.83913857e-06 1.45860267e-05 9.21453902e-05 1.93309588e-05\n",
      "  7.61598187e-07 1.02411107e-07 1.62453289e-05 1.33019785e-06\n",
      "  1.67131497e-04 5.91570461e-06 2.72745710e-05 3.21531770e-05\n",
      "  3.89114120e-06 1.55673479e-06 1.13183769e-05 1.01274031e-06\n",
      "  1.47737831e-06 9.64534236e-04 1.40102726e-04 4.64798347e-07\n",
      "  1.60773325e-05 1.23832928e-04 2.46755462e-06 8.66089522e-06\n",
      "  1.82653057e-05 1.63469755e-04 6.04248635e-06 6.86466137e-06\n",
      "  5.47765285e-06 2.16316081e-07 1.35392711e-05 6.97103133e-07\n",
      "  1.42883175e-06 5.93077584e-06 2.29584003e-07 2.30555884e-06\n",
      "  4.45495934e-05 4.66033407e-06 1.64294875e-07 3.20632134e-05\n",
      "  1.52713095e-04 3.26549207e-06 9.13733970e-07 3.12074080e-05\n",
      "  7.28619425e-03 3.26962390e-06 1.41858072e-06 2.39712540e-06\n",
      "  7.08695370e-06 3.37540519e-06 9.30702413e-07 2.80515309e-07\n",
      "  1.06857451e-05 2.91767833e-06 3.92998845e-05 1.52713896e-04\n",
      "  1.27505871e-06 2.32570692e-05 1.00229554e-05 4.54048234e-07\n",
      "  5.32917838e-05 9.38372466e-07 1.53643691e-06 7.98583915e-06\n",
      "  6.93990223e-05 3.85329949e-05 1.11538480e-04 1.19201395e-05\n",
      "  2.97154202e-07 4.44816047e-04 6.15227748e-07 3.39789210e-07\n",
      "  9.71288246e-04 8.49699154e-06 9.78321850e-07 2.68544318e-05\n",
      "  2.59040462e-05 8.85967165e-06 1.13163360e-07 1.37999386e-05\n",
      "  2.96290159e-06 3.33335665e-05 1.65288275e-05 3.46849333e-07\n",
      "  4.50241205e-05 8.05649051e-06 1.34291244e-04 1.47479943e-06\n",
      "  5.47374475e-05 3.73780472e-06 1.32629009e-06 1.02664140e-04\n",
      "  1.17771255e-04 1.09052353e-05 2.66408751e-05 8.31253601e-07\n",
      "  9.98957512e-06 1.43594196e-04 4.36616028e-05 8.66678192e-07\n",
      "  4.89609265e-05 4.44326361e-06 2.54689098e-06 4.40516351e-06\n",
      "  2.85727383e-05 4.31275694e-04 9.45508145e-06 2.56898602e-05\n",
      "  4.94724554e-06 1.15139728e-05 6.27834254e-07 5.14059720e-05\n",
      "  1.34197071e-05 2.17003944e-05 9.77187574e-06 1.16253295e-06\n",
      "  2.39670135e-05 1.36875664e-03 2.29162151e-06 3.94096242e-05\n",
      "  1.90364233e-06 1.18342923e-05 8.59988177e-06 2.16013154e-06\n",
      "  2.11242377e-06 2.35895442e-07 1.54857611e-04 6.38329657e-05\n",
      "  8.56577826e-05 5.13103851e-06 7.49956962e-06 2.24297264e-06\n",
      "  2.64969162e-06 1.91966083e-05 1.14079530e-05 4.51000733e-06\n",
      "  3.68174587e-05 1.71762673e-04 7.44618126e-04 4.67538484e-06\n",
      "  1.54545778e-05 3.16831065e-05 2.44213015e-06 2.14524243e-05\n",
      "  9.54819029e-07 1.33883691e-06 7.67889219e-07 2.26381553e-06\n",
      "  4.60389652e-04 8.26869018e-06 2.19015565e-04 3.27995235e-06\n",
      "  2.42614205e-05 1.25596080e-05 1.57193008e-05 1.69156748e-03\n",
      "  4.04486946e-06 7.45790676e-05 1.87231763e-06 9.01749991e-06\n",
      "  6.67589702e-05 3.68638871e-06 4.29960892e-05 9.23043217e-07\n",
      "  3.10793979e-07 2.45492089e-07 1.23231393e-06 1.90631035e-05\n",
      "  4.00494064e-05 4.94464211e-06 7.59554541e-06 1.98598809e-05\n",
      "  2.38415737e-06 9.58039436e-06 1.75772277e-06 1.23936361e-05\n",
      "  5.59705597e-07 1.40847453e-06 1.71935244e-05 5.58497641e-06\n",
      "  1.17202471e-05 3.53208670e-05 1.47584899e-04 9.79049901e-07\n",
      "  8.97969294e-05 1.75386558e-05 5.13807281e-05 2.47866342e-06\n",
      "  2.62761405e-05 2.03703185e-05 3.03745619e-05 1.78566395e-07\n",
      "  4.17312049e-06 9.25859204e-05 1.56220040e-06 3.00752523e-04\n",
      "  6.36513636e-04 3.24217217e-06 2.08875827e-05 9.20270628e-04\n",
      "  1.77038288e-07 6.05110415e-07 3.54368312e-05 8.50597062e-05\n",
      "  4.29074271e-06 4.80062881e-04 7.11353496e-05 1.01642054e-05\n",
      "  4.81307893e-07 2.47116941e-06 1.32502839e-06 2.17629304e-06\n",
      "  2.42490441e-05 4.28343219e-06 3.28706687e-06 1.32509410e-06\n",
      "  8.94527693e-06 3.72670485e-07 1.93981407e-07 3.56662758e-06\n",
      "  2.81813962e-04 2.91292395e-06 4.51318692e-06 8.67965209e-05\n",
      "  1.08694139e-05 3.49524043e-07 1.64968442e-04 2.73075217e-04\n",
      "  4.79036601e-07 1.98180296e-05 2.60845013e-06 6.27814188e-06\n",
      "  5.75901004e-06 1.15139183e-05 2.31913441e-06 1.07240076e-05\n",
      "  1.13004944e-05 3.04224250e-05 7.03659225e-06 2.68302779e-06\n",
      "  3.10945645e-04 9.05582856e-05 1.18058240e-04 1.71309119e-04\n",
      "  4.08602659e-07 7.30402826e-06 1.76042363e-06 1.20069290e-05\n",
      "  4.16343712e-04 9.00681262e-05 4.82624309e-05 3.39519102e-05\n",
      "  2.49575351e-06 1.20555897e-05 9.97419702e-05 8.84688561e-05\n",
      "  1.17661133e-04 1.02629974e-06 2.27013061e-06 2.26206637e-07\n",
      "  1.60700120e-06 4.69534007e-06 3.00002830e-05 7.07179015e-06\n",
      "  1.83011457e-06 1.10531400e-05 4.52981652e-07 4.46261993e-06\n",
      "  5.08496532e-06 3.96671794e-06 4.90140394e-07 3.09204079e-05\n",
      "  5.77835599e-05 2.16094952e-04 4.07463494e-06 5.96107293e-06\n",
      "  9.25967288e-06 2.50558378e-06 6.87212150e-06 7.03733458e-05\n",
      "  7.35470439e-06 3.06747068e-04 3.99641112e-06 5.84295231e-05\n",
      "  1.21720277e-05 3.87353612e-06 4.02744263e-05 2.10347880e-05\n",
      "  4.32980301e-07 2.35730727e-06 1.00893249e-06 8.62389606e-06\n",
      "  1.53188448e-05 6.72699662e-06 2.66878313e-04 4.30568216e-05\n",
      "  1.64748087e-06 2.52496920e-05 5.42633752e-05 2.88600017e-06\n",
      "  9.18803380e-06 2.46049080e-06 2.76512234e-04 1.25818872e-06\n",
      "  6.41067672e-05 6.80078301e-06 5.84899271e-06 1.78646553e-06\n",
      "  1.68656095e-06 3.78245272e-06 1.63728673e-05 9.66260413e-05\n",
      "  4.73748602e-04 2.62421439e-04 1.19115030e-05 1.40452894e-05\n",
      "  3.46888214e-06 3.26981740e-06 5.53493519e-05 8.98883081e-06\n",
      "  2.29940201e-06 7.29580279e-07 1.22303709e-05 1.81570540e-05\n",
      "  5.53379778e-06 1.29109549e-06 1.39283748e-05 3.40008654e-07\n",
      "  4.29719039e-05 1.45774047e-05 1.40630414e-06 1.21651181e-04\n",
      "  3.48854701e-05 5.57815747e-06 2.76317178e-06 1.54778973e-05\n",
      "  3.10733071e-06 8.03593412e-06 1.24846711e-05 5.13592431e-06\n",
      "  3.94839026e-06 3.61407365e-06 3.55167635e-04 4.90178994e-04]]\n"
     ]
    }
   ],
   "source": [
    "predictions = vgg_model.predict(processed_image)  # predict : 마지막 레이어까지 쭉 통과시키라는 의미\n",
    "print(predictions.shape, '\\n')\n",
    "print(predictions) # 1000개 # 여기서 최대값을 찾으면 됌"
   ]
  },
  {
   "cell_type": "markdown",
   "metadata": {},
   "source": [
    "## 5. 확률 decoding\n",
    "\n",
    "위에서 구한 확률들을 해독해서 리스트 형식으로 반환한다."
   ]
  },
  {
   "cell_type": "code",
   "execution_count": 98,
   "metadata": {
    "ExecuteTime": {
     "end_time": "2020-03-09T07:13:12.740150Z",
     "start_time": "2020-03-09T07:13:12.321272Z"
    }
   },
   "outputs": [
    {
     "name": "stdout",
     "output_type": "stream",
     "text": [
      "('n02123159', 'tiger_cat', 0.39104882)\n",
      "('n02123045', 'tabby', 0.25644606)\n",
      "('n02124075', 'Egyptian_cat', 0.1366982)\n",
      "('n02326432', 'hare', 0.07799919)\n",
      "('n02127052', 'lynx', 0.012061405)\n",
      "('n02325366', 'wood_rabbit', 0.008645739)\n",
      "('n02441942', 'weasel', 0.008378369)\n",
      "('n02110806', 'basenji', 0.0076335473)\n",
      "('n03887697', 'paper_towel', 0.0072861942)\n",
      "('n02356798', 'fox_squirrel', 0.006919917)\n",
      "\n",
      "\n",
      "Result : tiger_cat (39.10%)\n"
     ]
    }
   ],
   "source": [
    "# decode_predictions(top=10): 정렬을 해가지고 확률값이 가장 높은 10개를 가져와라\n",
    "label_vgg = decode_predictions(predictions, top=10)\n",
    "\n",
    "for label in label_vgg[0]:  # 사실 그냥 print(label_vgg) 해도 됌\n",
    "    print(label)\n",
    "\n",
    "print('\\n')\n",
    "# 좀 더 fancy한 마무리\n",
    "print(\"Result : %s (%.2f%%)\" %(label_vgg[0][0][1], label_vgg[0][0][2]*100))"
   ]
  },
  {
   "cell_type": "markdown",
   "metadata": {},
   "source": [
    "---"
   ]
  },
  {
   "cell_type": "markdown",
   "metadata": {},
   "source": [
    "## resnet50 모델 이용해서 확률 구하기"
   ]
  },
  {
   "cell_type": "code",
   "execution_count": 99,
   "metadata": {
    "ExecuteTime": {
     "end_time": "2020-03-09T07:13:24.646298Z",
     "start_time": "2020-03-09T07:13:23.619045Z"
    }
   },
   "outputs": [
    {
     "name": "stdout",
     "output_type": "stream",
     "text": [
      "[[('n02123159', 'tiger_cat', 0.43293753), ('n02124075', 'Egyptian_cat', 0.38525105), ('n02123045', 'tabby', 0.09317085)]]\n",
      "\n",
      "\n",
      "Result : tiger_cat (43.29%)\n"
     ]
    }
   ],
   "source": [
    "processed_image = resnet50.preprocess_input(image_batch.copy())\n",
    "predictions = resnet_model.predict(processed_image)\n",
    "label_resnet = decode_predictions(predictions, top=3)\n",
    "print(label_resnet)\n",
    "print('\\n')\n",
    "\n",
    "# 좀 더 fancy한 마무리\n",
    "print(\"Result : %s (%.2f%%)\" %(label_resnet[0][0][1], label_resnet[0][0][2]*100))"
   ]
  },
  {
   "cell_type": "markdown",
   "metadata": {
    "ExecuteTime": {
     "end_time": "2020-03-09T07:09:01.075164Z",
     "start_time": "2020-03-09T07:09:01.034282Z"
    }
   },
   "source": [
    "## mobilenet 모델 이용해서 확률 구하기"
   ]
  },
  {
   "cell_type": "code",
   "execution_count": 100,
   "metadata": {
    "ExecuteTime": {
     "end_time": "2020-03-09T07:13:28.983693Z",
     "start_time": "2020-03-09T07:13:28.701447Z"
    }
   },
   "outputs": [
    {
     "name": "stdout",
     "output_type": "stream",
     "text": [
      "[[('n02123159', 'tiger_cat', 0.6830462), ('n02124075', 'Egyptian_cat', 0.15872693), ('n02129604', 'tiger', 0.022838231)]]\n",
      "\n",
      "\n",
      "Result : tiger_cat (68.30%)\n"
     ]
    }
   ],
   "source": [
    "processed_image = mobilenet.preprocess_input(image_batch.copy())\n",
    "predictions = mobilenet_model.predict(processed_image)\n",
    "label_mobilenet = decode_predictions(predictions, top=3)\n",
    "print(label_mobilenet)\n",
    "print('\\n')\n",
    "\n",
    "# 좀 더 fancy한 마무리\n",
    "print(\"Result : %s (%.2f%%)\" %(label_mobilenet[0][0][1], label_mobilenet[0][0][2]*100))"
   ]
  },
  {
   "cell_type": "markdown",
   "metadata": {},
   "source": [
    "## inception_v3 모델 이용해서 확률 구하기(이 모델은 input이 299*299임)"
   ]
  },
  {
   "cell_type": "code",
   "execution_count": 106,
   "metadata": {
    "ExecuteTime": {
     "end_time": "2020-03-09T07:17:52.967242Z",
     "start_time": "2020-03-09T07:17:51.694697Z"
    }
   },
   "outputs": [
    {
     "name": "stdout",
     "output_type": "stream",
     "text": [
      "('n02123159', 'tiger_cat', 0.4842364)\n",
      "('n02123045', 'tabby', 0.28889412)\n",
      "('n02124075', 'Egyptian_cat', 0.12185131)\n",
      "('n02129604', 'tiger', 0.0028237058)\n",
      "('n02110806', 'basenji', 0.0018883679)\n",
      "\n",
      "\n",
      "Result : tiger_cat (48.42%)\n"
     ]
    }
   ],
   "source": [
    "filename = 'cat.jpg'\n",
    "original = load_img(filename, target_size=(299, 299)) # inception_model의 summary에서 input data의 크기가 299*299이므로\n",
    "numpy_image = img_to_array(original)\n",
    "image_batch = np.expand_dims(numpy_image, axis=0)\n",
    "\n",
    "processed_image = inception_v3.preprocess_input(image_batch.copy())\n",
    "predictions = inception_model.predict(processed_image)\n",
    "label_inception = decode_predictions(predictions)\n",
    "for label in label_inception[0]:  # 사실 그냥 print(label_vgg) 해도 됌\n",
    "    print(label)\n",
    "\n",
    "print('\\n')\n",
    "# 좀 더 fancy한 마무리\n",
    "print(\"Result : %s (%.2f%%)\" %(label_inception[0][0][1], label_inception[0][0][2]*100))"
   ]
  },
  {
   "cell_type": "code",
   "execution_count": 104,
   "metadata": {
    "ExecuteTime": {
     "end_time": "2020-03-09T07:15:45.079399Z",
     "start_time": "2020-03-09T07:15:44.961716Z"
    }
   },
   "outputs": [
    {
     "data": {
      "text/plain": [
       "True"
      ]
     },
     "execution_count": 104,
     "metadata": {},
     "output_type": "execute_result"
    }
   ],
   "source": [
    "import cv2\n",
    "img = cv2.imread(\"cat.jpg\")\n",
    "img = cv2.resize(img, (1000,1000))\n",
    "cv2.putText(img, \"VGG16: {}, {:.2f}\".format(label_vgg[0][0][1], label_vgg[0][0][2]) , (350, 40), cv2.FONT_HERSHEY_SIMPLEX, 1, (0, 255, 255), 3)\n",
    "cv2.putText(img, \"MobileNet: {}, {:.2f}\".format(label_mobilenet[0][0][1], label_mobilenet[0][0][2]) , (350, 75), cv2.FONT_HERSHEY_SIMPLEX, 1, (0, 255, 255), 3)\n",
    "cv2.putText(img, \"Inception: {}, {:.2f}\".format(label_inception[0][0][1], label_inception[0][0][2]) , (350, 110), cv2.FONT_HERSHEY_SIMPLEX, 1, (0, 255, 255), 3)\n",
    "cv2.putText(img, \"ResNet50: {}, {:.2f}\".format(label_resnet[0][0][1], label_resnet[0][0][2]) , (350, 145), cv2.FONT_HERSHEY_SIMPLEX, 1, (0, 255, 255), 3)\n",
    "cv2.imwrite(\"out.jpg\", img)"
   ]
  },
  {
   "cell_type": "markdown",
   "metadata": {},
   "source": [
    "-----"
   ]
  },
  {
   "cell_type": "markdown",
   "metadata": {},
   "source": [
    "### include_top 옵션 변경"
   ]
  },
  {
   "cell_type": "code",
   "execution_count": 22,
   "metadata": {
    "ExecuteTime": {
     "end_time": "2020-01-23T04:47:06.501408Z",
     "start_time": "2020-01-23T04:45:08.445275Z"
    }
   },
   "outputs": [
    {
     "name": "stdout",
     "output_type": "stream",
     "text": [
      "Downloading data from https://github.com/fchollet/deep-learning-models/releases/download/v0.1/vgg16_weights_tf_dim_ordering_tf_kernels_notop.h5\n",
      "58892288/58889256 [==============================] - 15s 0us/step\n",
      "Downloading data from https://github.com/fchollet/deep-learning-models/releases/download/v0.5/inception_v3_weights_tf_dim_ordering_tf_kernels_notop.h5\n",
      "87916544/87910968 [==============================] - 50s 1us/step\n"
     ]
    },
    {
     "name": "stderr",
     "output_type": "stream",
     "text": [
      "C:\\Users\\student\\.conda\\envs\\test\\lib\\site-packages\\keras_applications\\resnet50.py:265: UserWarning: The output shape of `ResNet50(include_top=False)` has been changed since Keras 2.2.0.\n",
      "  warnings.warn('The output shape of `ResNet50(include_top=False)` '\n"
     ]
    },
    {
     "name": "stdout",
     "output_type": "stream",
     "text": [
      "Downloading data from https://github.com/fchollet/deep-learning-models/releases/download/v0.2/resnet50_weights_tf_dim_ordering_tf_kernels_notop.h5\n",
      "94658560/94653016 [==============================] - 15s 0us/step\n"
     ]
    },
    {
     "name": "stderr",
     "output_type": "stream",
     "text": [
      "C:\\Users\\student\\.conda\\envs\\test\\lib\\site-packages\\keras_applications\\mobilenet.py:207: UserWarning: `input_shape` is undefined or non-square, or `rows` is not in [128, 160, 192, 224]. Weights for input shape (224, 224) will be loaded as the default.\n",
      "  warnings.warn('`input_shape` is undefined or non-square, '\n"
     ]
    },
    {
     "name": "stdout",
     "output_type": "stream",
     "text": [
      "Downloading data from https://github.com/fchollet/deep-learning-models/releases/download/v0.6/mobilenet_1_0_224_tf_no_top.h5\n",
      "17227776/17225924 [==============================] - 28s 2us/step\n"
     ]
    }
   ],
   "source": [
    "# include_top 옵션이 False를 하면 뒤에 풀 네트워크 신경망까지 다운 받지 않음\n",
    "#Load the VGG model\n",
    "vgg_model = vgg16.VGG16(weights='imagenet', include_top=False)\n",
    "\n",
    "\n",
    "#Load the Inception_V3 model\n",
    "inception_model = inception_v3.InceptionV3(weights='imagenet', include_top=False)\n",
    "\n",
    "\n",
    "#Load the ResNet50 model\n",
    "resnet_model = resnet50.ResNet50(weights='imagenet', include_top=False)\n",
    " \n",
    "#Load the MobileNet model\n",
    "mobilenet_model = mobilenet.MobileNet(weights='imagenet', include_top=False)"
   ]
  },
  {
   "cell_type": "code",
   "execution_count": 23,
   "metadata": {
    "ExecuteTime": {
     "end_time": "2020-01-23T04:50:33.478317Z",
     "start_time": "2020-01-23T04:50:33.473324Z"
    },
    "scrolled": false
   },
   "outputs": [
    {
     "name": "stdout",
     "output_type": "stream",
     "text": [
      "Model: \"vgg16\"\n",
      "_________________________________________________________________\n",
      "Layer (type)                 Output Shape              Param #   \n",
      "=================================================================\n",
      "input_5 (InputLayer)         (None, None, None, 3)     0         \n",
      "_________________________________________________________________\n",
      "block1_conv1 (Conv2D)        (None, None, None, 64)    1792      \n",
      "_________________________________________________________________\n",
      "block1_conv2 (Conv2D)        (None, None, None, 64)    36928     \n",
      "_________________________________________________________________\n",
      "block1_pool (MaxPooling2D)   (None, None, None, 64)    0         \n",
      "_________________________________________________________________\n",
      "block2_conv1 (Conv2D)        (None, None, None, 128)   73856     \n",
      "_________________________________________________________________\n",
      "block2_conv2 (Conv2D)        (None, None, None, 128)   147584    \n",
      "_________________________________________________________________\n",
      "block2_pool (MaxPooling2D)   (None, None, None, 128)   0         \n",
      "_________________________________________________________________\n",
      "block3_conv1 (Conv2D)        (None, None, None, 256)   295168    \n",
      "_________________________________________________________________\n",
      "block3_conv2 (Conv2D)        (None, None, None, 256)   590080    \n",
      "_________________________________________________________________\n",
      "block3_conv3 (Conv2D)        (None, None, None, 256)   590080    \n",
      "_________________________________________________________________\n",
      "block3_pool (MaxPooling2D)   (None, None, None, 256)   0         \n",
      "_________________________________________________________________\n",
      "block4_conv1 (Conv2D)        (None, None, None, 512)   1180160   \n",
      "_________________________________________________________________\n",
      "block4_conv2 (Conv2D)        (None, None, None, 512)   2359808   \n",
      "_________________________________________________________________\n",
      "block4_conv3 (Conv2D)        (None, None, None, 512)   2359808   \n",
      "_________________________________________________________________\n",
      "block4_pool (MaxPooling2D)   (None, None, None, 512)   0         \n",
      "_________________________________________________________________\n",
      "block5_conv1 (Conv2D)        (None, None, None, 512)   2359808   \n",
      "_________________________________________________________________\n",
      "block5_conv2 (Conv2D)        (None, None, None, 512)   2359808   \n",
      "_________________________________________________________________\n",
      "block5_conv3 (Conv2D)        (None, None, None, 512)   2359808   \n",
      "_________________________________________________________________\n",
      "block5_pool (MaxPooling2D)   (None, None, None, 512)   0         \n",
      "=================================================================\n",
      "Total params: 14,714,688\n",
      "Trainable params: 14,714,688\n",
      "Non-trainable params: 0\n",
      "_________________________________________________________________\n"
     ]
    }
   ],
   "source": [
    "vgg_model.summary()"
   ]
  },
  {
   "cell_type": "markdown",
   "metadata": {},
   "source": [
    "## Ref\n",
    "- https://machinelearningmastery.com/use-pre-trained-vgg-model-classify-objects-photographs/"
   ]
  }
 ],
 "metadata": {
  "kernelspec": {
   "display_name": "Python 3",
   "language": "python",
   "name": "python3"
  },
  "language_info": {
   "codemirror_mode": {
    "name": "ipython",
    "version": 3
   },
   "file_extension": ".py",
   "mimetype": "text/x-python",
   "name": "python",
   "nbconvert_exporter": "python",
   "pygments_lexer": "ipython3",
   "version": "3.7.5"
  },
  "varInspector": {
   "cols": {
    "lenName": 16,
    "lenType": 16,
    "lenVar": 40
   },
   "kernels_config": {
    "python": {
     "delete_cmd_postfix": "",
     "delete_cmd_prefix": "del ",
     "library": "var_list.py",
     "varRefreshCmd": "print(var_dic_list())"
    },
    "r": {
     "delete_cmd_postfix": ") ",
     "delete_cmd_prefix": "rm(",
     "library": "var_list.r",
     "varRefreshCmd": "cat(var_dic_list()) "
    }
   },
   "types_to_exclude": [
    "module",
    "function",
    "builtin_function_or_method",
    "instance",
    "_Feature"
   ],
   "window_display": false
  }
 },
 "nbformat": 4,
 "nbformat_minor": 2
}
