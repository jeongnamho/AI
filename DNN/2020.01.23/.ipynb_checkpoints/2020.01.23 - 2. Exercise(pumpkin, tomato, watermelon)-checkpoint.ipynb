{
 "cells": [
  {
   "cell_type": "code",
   "execution_count": 2,
   "metadata": {
    "ExecuteTime": {
     "end_time": "2020-03-06T09:20:06.300740Z",
     "start_time": "2020-03-06T09:20:06.149104Z"
    }
   },
   "outputs": [],
   "source": [
    "from keras.models import Sequential\n",
    "from keras.layers import Dense\n",
    "from keras.layers import Flatten\n",
    "from keras.layers.convolutional import Conv2D\n",
    "from keras.layers.convolutional import MaxPooling2D\n",
    "from keras.layers import Activation, Dropout, Flatten, Dense\n",
    "import keras\n",
    "import tensorflow as tf\n",
    "import numpy as np\n",
    "from numpy  import expand_dims\n",
    "import cv2\n",
    "from matplotlib import pyplot as plt\n",
    "from keras.preprocessing.image import ImageDataGenerator, array_to_img, img_to_array, load_img\n",
    "import os\n",
    "np.random.seed(15)"
   ]
  },
  {
   "cell_type": "code",
   "execution_count": 3,
   "metadata": {
    "ExecuteTime": {
     "end_time": "2020-03-06T09:21:08.323119Z",
     "start_time": "2020-03-06T09:21:07.814450Z"
    }
   },
   "outputs": [
    {
     "name": "stdout",
     "output_type": "stream",
     "text": [
      "Found 600 images belonging to 3 classes.\n",
      "Found 150 images belonging to 3 classes.\n",
      "Found 150 images belonging to 3 classes.\n"
     ]
    }
   ],
   "source": [
    "batch_size = 16\n",
    "\n",
    "train_datagen = ImageDataGenerator(\n",
    "        rescale=1./255,\n",
    "        shear_range=0.2,\n",
    "        zoom_range=0.2,\n",
    "        horizontal_flip=True)\n",
    "\n",
    "# 검증 및 테스트 이미지는 augmentation을 적용하지 않음(이미지 원본을 사용)\n",
    "validation_datagen = ImageDataGenerator(rescale=1./255)\n",
    "test_datagen = ImageDataGenerator(rescale=1./255)\n",
    "\n",
    "# 이미지를 배치 단위로 불러와 줄 generator입니다.\n",
    "train_generator = train_datagen.flow_from_directory(\n",
    "        'clean-dataset/train', \n",
    "        target_size=(150, 150), \n",
    "        batch_size=batch_size,\n",
    "        class_mode='binary') \n",
    "\n",
    "validation_generator = validation_datagen.flow_from_directory(\n",
    "        'clean-dataset/validation',\n",
    "        target_size=(150, 150),\n",
    "        batch_size=batch_size,\n",
    "        class_mode='binary')\n",
    "\n",
    "test_generator = test_datagen.flow_from_directory(    # test_generator, validation_generator의 데이터를 똑같은 걸로 했음\n",
    "        'clean-dataset/validation',\n",
    "        target_size=(150, 150),\n",
    "        batch_size=batch_size,\n",
    "        class_mode='binary')"
   ]
  },
  {
   "cell_type": "code",
   "execution_count": 4,
   "metadata": {
    "ExecuteTime": {
     "end_time": "2020-03-06T09:21:17.841622Z",
     "start_time": "2020-03-06T09:21:17.068691Z"
    }
   },
   "outputs": [
    {
     "name": "stdout",
     "output_type": "stream",
     "text": [
      "WARNING:tensorflow:From C:\\Users\\jnh78\\Anaconda3\\envs\\tutorial\\lib\\site-packages\\tensorflow_core\\python\\ops\\resource_variable_ops.py:1630: calling BaseResourceVariable.__init__ (from tensorflow.python.ops.resource_variable_ops) with constraint is deprecated and will be removed in a future version.\n",
      "Instructions for updating:\n",
      "If using Keras pass *_constraint arguments to layers.\n",
      "WARNING:tensorflow:From C:\\Users\\jnh78\\Anaconda3\\envs\\tutorial\\lib\\site-packages\\keras\\backend\\tensorflow_backend.py:4070: The name tf.nn.max_pool is deprecated. Please use tf.nn.max_pool2d instead.\n",
      "\n"
     ]
    }
   ],
   "source": [
    "model = Sequential()\n",
    "model.add(Conv2D(32, (3, 3), input_shape=(150, 150,3)))\n",
    "model.add(Activation('relu'))\n",
    "model.add(MaxPooling2D(pool_size=(2, 2)))\n",
    "\n",
    "model.add(Conv2D(32, (3, 3)))\n",
    "model.add(Activation('relu'))\n",
    "model.add(MaxPooling2D(pool_size=(2, 2)))\n",
    "\n",
    "model.add(Conv2D(64, (3, 3)))\n",
    "model.add(Activation('relu'))\n",
    "model.add(MaxPooling2D(pool_size=(2, 2)))\n",
    "\n",
    "model.add(Flatten())  # this converts our 3D feature maps to 1D feature vectors\n",
    "model.add(Dense(64))\n",
    "model.add(Activation('relu'))\n",
    "model.add(Dropout(0.5))\n",
    "\n",
    "model.add(Dense(3))\n",
    "model.add(Activation('softmax'))\n",
    "\n",
    "model.compile(loss='sparse_categorical_crossentropy',\n",
    "              optimizer='adam',\n",
    "              metrics=['accuracy'])\n"
   ]
  },
  {
   "cell_type": "code",
   "execution_count": 5,
   "metadata": {
    "ExecuteTime": {
     "end_time": "2020-03-06T09:32:05.666824Z",
     "start_time": "2020-03-06T09:21:23.322000Z"
    },
    "scrolled": true
   },
   "outputs": [
    {
     "name": "stdout",
     "output_type": "stream",
     "text": [
      "WARNING:tensorflow:From C:\\Users\\jnh78\\Anaconda3\\envs\\tutorial\\lib\\site-packages\\keras\\backend\\tensorflow_backend.py:422: The name tf.global_variables is deprecated. Please use tf.compat.v1.global_variables instead.\n",
      "\n",
      "Epoch 1/50\n",
      "37/37 [==============================] - 13s 347ms/step - loss: 0.9207 - accuracy: 0.5685 - val_loss: 0.6565 - val_accuracy: 0.7639\n",
      "Epoch 2/50\n",
      "37/37 [==============================] - 13s 352ms/step - loss: 0.6063 - accuracy: 0.7723 - val_loss: 0.4718 - val_accuracy: 0.8507\n",
      "Epoch 3/50\n",
      "37/37 [==============================] - 15s 394ms/step - loss: 0.5097 - accuracy: 0.8134 - val_loss: 0.3929 - val_accuracy: 0.7612\n",
      "Epoch 4/50\n",
      "37/37 [==============================] - 13s 345ms/step - loss: 0.4675 - accuracy: 0.8185 - val_loss: 0.2312 - val_accuracy: 0.8507\n",
      "Epoch 5/50\n",
      "37/37 [==============================] - 12s 324ms/step - loss: 0.3995 - accuracy: 0.8253 - val_loss: 0.3995 - val_accuracy: 0.8209\n",
      "Epoch 6/50\n",
      "37/37 [==============================] - 12s 312ms/step - loss: 0.4806 - accuracy: 0.8288 - val_loss: 0.2804 - val_accuracy: 0.8433\n",
      "Epoch 7/50\n",
      "37/37 [==============================] - 12s 318ms/step - loss: 0.3882 - accuracy: 0.8442 - val_loss: 0.4893 - val_accuracy: 0.9104\n",
      "Epoch 8/50\n",
      "37/37 [==============================] - 13s 346ms/step - loss: 0.4594 - accuracy: 0.8277 - val_loss: 0.4012 - val_accuracy: 0.8806\n",
      "Epoch 9/50\n",
      "37/37 [==============================] - 12s 316ms/step - loss: 0.3959 - accuracy: 0.8264 - val_loss: 0.3205 - val_accuracy: 0.8209\n",
      "Epoch 10/50\n",
      "37/37 [==============================] - 11s 301ms/step - loss: 0.3626 - accuracy: 0.8630 - val_loss: 0.2768 - val_accuracy: 0.8507\n",
      "Epoch 11/50\n",
      "37/37 [==============================] - 12s 318ms/step - loss: 0.3411 - accuracy: 0.8716 - val_loss: 0.3573 - val_accuracy: 0.8889\n",
      "Epoch 12/50\n",
      "37/37 [==============================] - 12s 322ms/step - loss: 0.3353 - accuracy: 0.8682 - val_loss: 0.5209 - val_accuracy: 0.8881\n",
      "Epoch 13/50\n",
      "37/37 [==============================] - 12s 327ms/step - loss: 0.3108 - accuracy: 0.8733 - val_loss: 0.3726 - val_accuracy: 0.8358\n",
      "Epoch 14/50\n",
      "37/37 [==============================] - 12s 325ms/step - loss: 0.2724 - accuracy: 0.9007 - val_loss: 0.2070 - val_accuracy: 0.8806\n",
      "Epoch 15/50\n",
      "37/37 [==============================] - 12s 333ms/step - loss: 0.2649 - accuracy: 0.9041 - val_loss: 0.5290 - val_accuracy: 0.8731\n",
      "Epoch 16/50\n",
      "37/37 [==============================] - 12s 335ms/step - loss: 0.2562 - accuracy: 0.9075 - val_loss: 0.1236 - val_accuracy: 0.8731\n",
      "Epoch 17/50\n",
      "37/37 [==============================] - 12s 316ms/step - loss: 0.2858 - accuracy: 0.8818 - val_loss: 0.4630 - val_accuracy: 0.9104\n",
      "Epoch 18/50\n",
      "37/37 [==============================] - 13s 339ms/step - loss: 0.2513 - accuracy: 0.8936 - val_loss: 0.1009 - val_accuracy: 0.9104\n",
      "Epoch 19/50\n",
      "37/37 [==============================] - 13s 354ms/step - loss: 0.2518 - accuracy: 0.9007 - val_loss: 0.4541 - val_accuracy: 0.9030\n",
      "Epoch 20/50\n",
      "37/37 [==============================] - 14s 381ms/step - loss: 0.3798 - accuracy: 0.8699 - val_loss: 0.3767 - val_accuracy: 0.8881\n",
      "Epoch 21/50\n",
      "37/37 [==============================] - 12s 338ms/step - loss: 0.2916 - accuracy: 0.8836 - val_loss: 0.4373 - val_accuracy: 0.9028\n",
      "Epoch 22/50\n",
      "37/37 [==============================] - 12s 323ms/step - loss: 0.2412 - accuracy: 0.9080 - val_loss: 0.0699 - val_accuracy: 0.9254\n",
      "Epoch 23/50\n",
      "37/37 [==============================] - 13s 347ms/step - loss: 0.2235 - accuracy: 0.9172 - val_loss: 0.1067 - val_accuracy: 0.8881\n",
      "Epoch 24/50\n",
      "37/37 [==============================] - 13s 340ms/step - loss: 0.1830 - accuracy: 0.9288 - val_loss: 0.1617 - val_accuracy: 0.8881\n",
      "Epoch 25/50\n",
      "37/37 [==============================] - 13s 347ms/step - loss: 0.1786 - accuracy: 0.9426 - val_loss: 0.4681 - val_accuracy: 0.8881\n",
      "Epoch 26/50\n",
      "37/37 [==============================] - 12s 327ms/step - loss: 0.2290 - accuracy: 0.9195 - val_loss: 0.2861 - val_accuracy: 0.8955\n",
      "Epoch 27/50\n",
      "37/37 [==============================] - 13s 342ms/step - loss: 0.1785 - accuracy: 0.9288 - val_loss: 0.5405 - val_accuracy: 0.8955\n",
      "Epoch 28/50\n",
      "37/37 [==============================] - 13s 342ms/step - loss: 0.1795 - accuracy: 0.9358 - val_loss: 0.5077 - val_accuracy: 0.8806\n",
      "Epoch 29/50\n",
      "37/37 [==============================] - 13s 339ms/step - loss: 0.2931 - accuracy: 0.8887 - val_loss: 0.5631 - val_accuracy: 0.8881\n",
      "Epoch 30/50\n",
      "37/37 [==============================] - 12s 321ms/step - loss: 0.1483 - accuracy: 0.9358 - val_loss: 1.4088 - val_accuracy: 0.9478\n",
      "Epoch 31/50\n",
      "37/37 [==============================] - 12s 322ms/step - loss: 0.1383 - accuracy: 0.9493 - val_loss: 0.0624 - val_accuracy: 0.9306\n",
      "Epoch 32/50\n",
      "37/37 [==============================] - 11s 310ms/step - loss: 0.1963 - accuracy: 0.9212 - val_loss: 0.3298 - val_accuracy: 0.9030\n",
      "Epoch 33/50\n",
      "37/37 [==============================] - 12s 326ms/step - loss: 0.1885 - accuracy: 0.9127 - val_loss: 0.5759 - val_accuracy: 0.8881\n",
      "Epoch 34/50\n",
      "37/37 [==============================] - 12s 325ms/step - loss: 0.1422 - accuracy: 0.9349 - val_loss: 0.0074 - val_accuracy: 0.9403\n",
      "Epoch 35/50\n",
      "37/37 [==============================] - 12s 326ms/step - loss: 0.1345 - accuracy: 0.9538 - val_loss: 0.0281 - val_accuracy: 0.9030\n",
      "Epoch 36/50\n",
      "37/37 [==============================] - 13s 340ms/step - loss: 0.1815 - accuracy: 0.9212 - val_loss: 0.0686 - val_accuracy: 0.9328\n",
      "Epoch 37/50\n",
      "37/37 [==============================] - 12s 327ms/step - loss: 0.2018 - accuracy: 0.9127 - val_loss: 0.0531 - val_accuracy: 0.9179\n",
      "Epoch 38/50\n",
      "37/37 [==============================] - 12s 338ms/step - loss: 0.1959 - accuracy: 0.9264 - val_loss: 0.1916 - val_accuracy: 0.8657\n",
      "Epoch 39/50\n",
      "37/37 [==============================] - 15s 400ms/step - loss: 0.1383 - accuracy: 0.9384 - val_loss: 0.0927 - val_accuracy: 0.9030\n",
      "Epoch 40/50\n",
      "37/37 [==============================] - 15s 405ms/step - loss: 0.1395 - accuracy: 0.9452 - val_loss: 1.7617 - val_accuracy: 0.9030\n",
      "Epoch 41/50\n",
      "37/37 [==============================] - 13s 343ms/step - loss: 0.1354 - accuracy: 0.9384 - val_loss: 0.2972 - val_accuracy: 0.9236\n",
      "Epoch 42/50\n",
      "37/37 [==============================] - 13s 346ms/step - loss: 0.1105 - accuracy: 0.9521 - val_loss: 0.3906 - val_accuracy: 0.9179\n",
      "Epoch 43/50\n",
      "37/37 [==============================] - 13s 354ms/step - loss: 0.0947 - accuracy: 0.9623 - val_loss: 0.6387 - val_accuracy: 0.9478\n",
      "Epoch 44/50\n",
      "37/37 [==============================] - 17s 457ms/step - loss: 0.0691 - accuracy: 0.9747 - val_loss: 0.1044 - val_accuracy: 0.9478\n",
      "Epoch 45/50\n",
      "37/37 [==============================] - 14s 375ms/step - loss: 0.0727 - accuracy: 0.9722 - val_loss: 0.0267 - val_accuracy: 0.9478\n",
      "Epoch 46/50\n",
      "37/37 [==============================] - 14s 392ms/step - loss: 0.0835 - accuracy: 0.9675 - val_loss: 0.0732 - val_accuracy: 0.9104\n",
      "Epoch 47/50\n",
      "37/37 [==============================] - 14s 387ms/step - loss: 0.0824 - accuracy: 0.9572 - val_loss: 0.1681 - val_accuracy: 0.8806\n",
      "Epoch 48/50\n",
      "37/37 [==============================] - 13s 360ms/step - loss: 0.1868 - accuracy: 0.9298 - val_loss: 0.8087 - val_accuracy: 0.7910\n",
      "Epoch 49/50\n",
      "37/37 [==============================] - 16s 444ms/step - loss: 0.2623 - accuracy: 0.8973 - val_loss: 0.6392 - val_accuracy: 0.8806\n",
      "Epoch 50/50\n",
      "37/37 [==============================] - 13s 345ms/step - loss: 0.1733 - accuracy: 0.9298 - val_loss: 0.7306 - val_accuracy: 0.9403\n"
     ]
    }
   ],
   "source": [
    "model.fit_generator(\n",
    "        train_generator,\n",
    "        steps_per_epoch=600 // batch_size,\n",
    "        epochs=50,  #50 정도는 해야 accuracy가 0.8까지는 나옴\n",
    "        validation_data=validation_generator,\n",
    "        validation_steps=150 // 16)     \n",
    "\n",
    "model.save(\"pumpkin_tomato_watermelon.h5\")"
   ]
  },
  {
   "cell_type": "code",
   "execution_count": 13,
   "metadata": {
    "ExecuteTime": {
     "end_time": "2020-03-06T09:41:32.517809Z",
     "start_time": "2020-03-06T09:41:31.998201Z"
    }
   },
   "outputs": [
    {
     "name": "stdout",
     "output_type": "stream",
     "text": [
      "-- Evaluate --\n",
      "0.9375\n"
     ]
    }
   ],
   "source": [
    "# 모델 평가하기\n",
    "print(\"-- Evaluate --\")\n",
    "scores = model.evaluate_generator( test_generator,   steps = 150//16)\n",
    "print(scores[1])"
   ]
  },
  {
   "cell_type": "code",
   "execution_count": 24,
   "metadata": {
    "ExecuteTime": {
     "end_time": "2020-03-06T11:20:42.466663Z",
     "start_time": "2020-03-06T11:20:42.453700Z"
    }
   },
   "outputs": [],
   "source": [
    "labels=['Pumpkin', 'Tomato', 'Watermelon']"
   ]
  },
  {
   "cell_type": "code",
   "execution_count": 41,
   "metadata": {
    "ExecuteTime": {
     "end_time": "2020-03-06T12:18:13.729775Z",
     "start_time": "2020-03-06T12:18:13.671930Z"
    },
    "scrolled": false
   },
   "outputs": [
    {
     "name": "stdout",
     "output_type": "stream",
     "text": [
      "------- pumpkin.jpg -------\n",
      "[[1. 0. 0.]]\n",
      "Probability that the image is a Pumpkin: 1.0\n",
      "Probability that the image is a Tomato: 0.0\n",
      "Probability that the image is a Watermelon: 0.0\n",
      "Pumpkin\n",
      "\n",
      "\n",
      "------- tomato.jpg -------\n",
      "[[0. 1. 0.]]\n",
      "Probability that the image is a Pumpkin: 0.0\n",
      "Probability that the image is a Tomato: 1.0\n",
      "Probability that the image is a Watermelon: 0.0\n",
      "Tomato\n",
      "\n",
      "\n",
      "------- watermelon.jpg -------\n",
      "[[0. 0. 1.]]\n",
      "Probability that the image is a Pumpkin: 0.0\n",
      "Probability that the image is a Tomato: 0.0\n",
      "Probability that the image is a Watermelon: 1.0\n",
      "Watermelon\n",
      "\n",
      "\n"
     ]
    }
   ],
   "source": [
    "root_dir = \"./clean-dataset/test/\"\n",
    "files = os.listdir(root_dir)\n",
    "\n",
    "for file in files:\n",
    "    print(\"-------\", file, \"-------\")\n",
    "    img_path = os.path.join(root_dir, file)\n",
    "    img = load_img(img_path, target_size=(150, 150))\n",
    "    x = img_to_array(img)\n",
    "#     print(x.shape)\n",
    "    x = np.expand_dims(x, axis=0)\n",
    "#     print(x.shape)\n",
    "#     print('\\n')\n",
    "    preds = model.predict(x)\n",
    "    p = np.argmax(preds, axis=1)\n",
    "    print(preds)\n",
    "#     print(p)\n",
    "#     print(labels[p[0]])\n",
    "#     print('\\n')\n",
    "\n",
    "    print('Probability that the image is a Pumpkin:', preds[0,0])\n",
    "    print('Probability that the image is a Tomato:', preds[0,1])\n",
    "    print('Probability that the image is a Watermelon:', preds[0,2])\n",
    "    print(labels[p[0]])\n",
    "    print('\\n')"
   ]
  },
  {
   "cell_type": "code",
   "execution_count": null,
   "metadata": {
    "ExecuteTime": {
     "start_time": "2020-03-06T12:35:20.034Z"
    }
   },
   "outputs": [],
   "source": [
    "test_generator = test_datagen.flow_from_directory(    # test_generator, validation_generator의 데이터를 똑같은 걸로 했음\n",
    "        'clean-dataset/test',\n",
    "        target_size=(150, 150),\n",
    "        batch_size=batch_size,\n",
    "        class_mode='binary')"
   ]
  },
  {
   "cell_type": "code",
   "execution_count": null,
   "metadata": {
    "ExecuteTime": {
     "start_time": "2020-03-06T12:35:20.034Z"
    }
   },
   "outputs": [],
   "source": [
    "# 모델 평가하기\n",
    "print(\"-- Evaluate --\")\n",
    "scores = model.evaluate_generator( test_generator,   steps = 150//16)\n",
    "print(scores[1])"
   ]
  },
  {
   "cell_type": "code",
   "execution_count": null,
   "metadata": {
    "ExecuteTime": {
     "start_time": "2020-03-06T12:37:04.114Z"
    }
   },
   "outputs": [],
   "source": [
    "print(3+5)"
   ]
  }
 ],
 "metadata": {
  "kernelspec": {
   "display_name": "Python 3",
   "language": "python",
   "name": "python3"
  },
  "language_info": {
   "codemirror_mode": {
    "name": "ipython",
    "version": 3
   },
   "file_extension": ".py",
   "mimetype": "text/x-python",
   "name": "python",
   "nbconvert_exporter": "python",
   "pygments_lexer": "ipython3",
   "version": "3.7.5"
  },
  "varInspector": {
   "cols": {
    "lenName": 16,
    "lenType": 16,
    "lenVar": 40
   },
   "kernels_config": {
    "python": {
     "delete_cmd_postfix": "",
     "delete_cmd_prefix": "del ",
     "library": "var_list.py",
     "varRefreshCmd": "print(var_dic_list())"
    },
    "r": {
     "delete_cmd_postfix": ") ",
     "delete_cmd_prefix": "rm(",
     "library": "var_list.r",
     "varRefreshCmd": "cat(var_dic_list()) "
    }
   },
   "types_to_exclude": [
    "module",
    "function",
    "builtin_function_or_method",
    "instance",
    "_Feature"
   ],
   "window_display": false
  }
 },
 "nbformat": 4,
 "nbformat_minor": 2
}
