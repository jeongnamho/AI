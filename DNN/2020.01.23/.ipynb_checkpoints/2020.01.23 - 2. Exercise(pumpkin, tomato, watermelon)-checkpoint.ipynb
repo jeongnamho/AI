{
 "cells": [
  {
   "cell_type": "code",
   "execution_count": 1,
   "metadata": {
    "ExecuteTime": {
     "end_time": "2020-01-23T02:10:02.426661Z",
     "start_time": "2020-01-23T02:10:00.236861Z"
    }
   },
   "outputs": [
    {
     "name": "stderr",
     "output_type": "stream",
     "text": [
      "Using TensorFlow backend.\n"
     ]
    }
   ],
   "source": [
    "from keras.models import Sequential\n",
    "from keras.layers import Dense\n",
    "from keras.layers import Flatten\n",
    "from keras.layers.convolutional import Conv2D\n",
    "from keras.layers.convolutional import MaxPooling2D\n",
    "from keras.layers import Activation, Dropout, Flatten, Dense\n",
    "import keras\n",
    "import tensorflow as tf\n",
    "import numpy as np\n",
    "from numpy  import expand_dims\n",
    "import cv2\n",
    "from matplotlib import pyplot as plt\n",
    "from keras.preprocessing.image import ImageDataGenerator, array_to_img, img_to_array, load_img\n",
    "np.random.seed(15)"
   ]
  },
  {
   "cell_type": "code",
   "execution_count": 16,
   "metadata": {
    "ExecuteTime": {
     "end_time": "2020-01-23T02:39:44.527984Z",
     "start_time": "2020-01-23T02:39:44.183594Z"
    }
   },
   "outputs": [
    {
     "name": "stdout",
     "output_type": "stream",
     "text": [
      "Found 600 images belonging to 3 classes.\n",
      "Found 150 images belonging to 3 classes.\n",
      "Found 150 images belonging to 3 classes.\n"
     ]
    }
   ],
   "source": [
    "batch_size = 16\n",
    "\n",
    "train_datagen = ImageDataGenerator(\n",
    "        rescale=1./255,\n",
    "        shear_range=0.2,\n",
    "        zoom_range=0.2,\n",
    "        horizontal_flip=True)\n",
    "\n",
    "# 검증 및 테스트 이미지는 augmentation을 적용하지 않음(이미지 원본을 사용)\n",
    "validation_datagen = ImageDataGenerator(rescale=1./255)\n",
    "test_datagen = ImageDataGenerator(rescale=1./255)\n",
    "\n",
    "# 이미지를 배치 단위로 불러와 줄 generator입니다.\n",
    "train_generator = train_datagen.flow_from_directory(\n",
    "        'clean-dataset/train', \n",
    "        target_size=(150, 150), \n",
    "        batch_size=batch_size,\n",
    "        class_mode='binary') \n",
    "\n",
    "validation_generator = validation_datagen.flow_from_directory(\n",
    "        'clean-dataset/validation',\n",
    "        target_size=(150, 150),\n",
    "        batch_size=batch_size,\n",
    "        class_mode='binary')\n",
    "\n",
    "test_generator = test_datagen.flow_from_directory(\n",
    "        'clean-dataset/validation',\n",
    "        target_size=(150, 150),\n",
    "        batch_size=batch_size,\n",
    "        class_mode='binary')"
   ]
  },
  {
   "cell_type": "code",
   "execution_count": 17,
   "metadata": {
    "ExecuteTime": {
     "end_time": "2020-01-23T02:39:47.372385Z",
     "start_time": "2020-01-23T02:39:47.310778Z"
    }
   },
   "outputs": [],
   "source": [
    "model = Sequential()\n",
    "model.add(Conv2D(32, (3, 3), input_shape=(150, 150,3)))\n",
    "model.add(Activation('relu'))\n",
    "model.add(MaxPooling2D(pool_size=(2, 2)))\n",
    "\n",
    "model.add(Conv2D(32, (3, 3)))\n",
    "model.add(Activation('relu'))\n",
    "model.add(MaxPooling2D(pool_size=(2, 2)))\n",
    "\n",
    "model.add(Conv2D(64, (3, 3)))\n",
    "model.add(Activation('relu'))\n",
    "model.add(MaxPooling2D(pool_size=(2, 2)))\n",
    "\n",
    "model.add(Flatten())  # this converts our 3D feature maps to 1D feature vectors\n",
    "model.add(Dense(64))\n",
    "model.add(Activation('relu'))\n",
    "model.add(Dropout(0.5))\n",
    "\n",
    "model.add(Dense(3))\n",
    "model.add(Activation('softmax'))\n",
    "\n",
    "model.compile(loss='sparse_categorical_crossentropy',\n",
    "              optimizer='adam',\n",
    "              metrics=['accuracy'])\n"
   ]
  },
  {
   "cell_type": "code",
   "execution_count": 18,
   "metadata": {
    "ExecuteTime": {
     "end_time": "2020-01-23T02:44:11.833662Z",
     "start_time": "2020-01-23T02:39:49.656349Z"
    }
   },
   "outputs": [
    {
     "name": "stdout",
     "output_type": "stream",
     "text": [
      "Epoch 1/50\n",
      "37/37 [==============================] - 5s 139ms/step - loss: 0.9120 - accuracy: 0.5873 - val_loss: 0.6231 - val_accuracy: 0.5764\n",
      "Epoch 2/50\n",
      "37/37 [==============================] - 5s 138ms/step - loss: 0.6469 - accuracy: 0.7483 - val_loss: 0.8288 - val_accuracy: 0.8060\n",
      "Epoch 3/50\n",
      "37/37 [==============================] - 5s 140ms/step - loss: 0.5115 - accuracy: 0.8185 - val_loss: 0.5750 - val_accuracy: 0.8731\n",
      "Epoch 4/50\n",
      "37/37 [==============================] - 5s 139ms/step - loss: 0.4553 - accuracy: 0.8305 - val_loss: 0.6141 - val_accuracy: 0.7761\n",
      "Epoch 5/50\n",
      "37/37 [==============================] - 5s 139ms/step - loss: 0.4117 - accuracy: 0.8459 - val_loss: 0.5746 - val_accuracy: 0.9030\n",
      "Epoch 6/50\n",
      "37/37 [==============================] - 5s 138ms/step - loss: 0.3721 - accuracy: 0.8510 - val_loss: 0.2949 - val_accuracy: 0.8806\n",
      "Epoch 7/50\n",
      "37/37 [==============================] - 5s 138ms/step - loss: 0.3650 - accuracy: 0.8630 - val_loss: 0.0319 - val_accuracy: 0.8731\n",
      "Epoch 8/50\n",
      "37/37 [==============================] - 5s 139ms/step - loss: 0.4064 - accuracy: 0.8442 - val_loss: 0.6543 - val_accuracy: 0.8060\n",
      "Epoch 9/50\n",
      "37/37 [==============================] - 5s 139ms/step - loss: 0.3540 - accuracy: 0.8750 - val_loss: 0.4767 - val_accuracy: 0.8881\n",
      "Epoch 10/50\n",
      "37/37 [==============================] - 5s 142ms/step - loss: 0.3137 - accuracy: 0.8649 - val_loss: 0.0366 - val_accuracy: 0.8582\n",
      "Epoch 11/50\n",
      "37/37 [==============================] - 5s 136ms/step - loss: 0.3643 - accuracy: 0.8628 - val_loss: 0.4686 - val_accuracy: 0.8333\n",
      "Epoch 12/50\n",
      "37/37 [==============================] - 5s 139ms/step - loss: 0.3118 - accuracy: 0.8818 - val_loss: 0.0679 - val_accuracy: 0.8134\n",
      "Epoch 13/50\n",
      "37/37 [==============================] - 5s 141ms/step - loss: 0.3299 - accuracy: 0.8750 - val_loss: 0.2214 - val_accuracy: 0.9328\n",
      "Epoch 14/50\n",
      "37/37 [==============================] - 5s 142ms/step - loss: 0.3119 - accuracy: 0.8767 - val_loss: 0.2594 - val_accuracy: 0.8358\n",
      "Epoch 15/50\n",
      "37/37 [==============================] - 5s 138ms/step - loss: 0.2091 - accuracy: 0.9167 - val_loss: 0.1760 - val_accuracy: 0.8806\n",
      "Epoch 16/50\n",
      "37/37 [==============================] - 5s 142ms/step - loss: 0.2893 - accuracy: 0.8955 - val_loss: 0.2098 - val_accuracy: 0.9104\n",
      "Epoch 17/50\n",
      "37/37 [==============================] - 5s 142ms/step - loss: 0.2183 - accuracy: 0.9240 - val_loss: 0.1648 - val_accuracy: 0.9030\n",
      "Epoch 18/50\n",
      "37/37 [==============================] - 5s 139ms/step - loss: 0.2215 - accuracy: 0.9178 - val_loss: 0.1593 - val_accuracy: 0.8731\n",
      "Epoch 19/50\n",
      "37/37 [==============================] - 5s 142ms/step - loss: 0.2507 - accuracy: 0.9092 - val_loss: 0.3332 - val_accuracy: 0.9030\n",
      "Epoch 20/50\n",
      "37/37 [==============================] - 5s 137ms/step - loss: 0.2903 - accuracy: 0.8801 - val_loss: 0.1679 - val_accuracy: 0.8806\n",
      "Epoch 21/50\n",
      "37/37 [==============================] - 5s 140ms/step - loss: 0.1961 - accuracy: 0.9212 - val_loss: 0.3096 - val_accuracy: 0.9028\n",
      "Epoch 22/50\n",
      "37/37 [==============================] - 5s 142ms/step - loss: 0.2495 - accuracy: 0.9097 - val_loss: 0.4685 - val_accuracy: 0.9104\n",
      "Epoch 23/50\n",
      "37/37 [==============================] - 5s 141ms/step - loss: 0.1904 - accuracy: 0.9206 - val_loss: 0.0665 - val_accuracy: 0.9403\n",
      "Epoch 24/50\n",
      "37/37 [==============================] - 5s 139ms/step - loss: 0.1601 - accuracy: 0.9358 - val_loss: 0.3324 - val_accuracy: 0.9030\n",
      "Epoch 25/50\n",
      "37/37 [==============================] - 5s 142ms/step - loss: 0.2301 - accuracy: 0.9206 - val_loss: 0.0284 - val_accuracy: 0.9104\n",
      "Epoch 26/50\n",
      "37/37 [==============================] - 5s 139ms/step - loss: 0.1262 - accuracy: 0.9623 - val_loss: 0.3479 - val_accuracy: 0.8806\n",
      "Epoch 27/50\n",
      "37/37 [==============================] - 5s 139ms/step - loss: 0.2148 - accuracy: 0.9253 - val_loss: 0.1971 - val_accuracy: 0.9104\n",
      "Epoch 28/50\n",
      "37/37 [==============================] - 5s 139ms/step - loss: 0.1198 - accuracy: 0.9503 - val_loss: 0.6698 - val_accuracy: 0.8507\n",
      "Epoch 29/50\n",
      "37/37 [==============================] - 5s 139ms/step - loss: 0.1429 - accuracy: 0.9392 - val_loss: 0.5728 - val_accuracy: 0.9478\n",
      "Epoch 30/50\n",
      "37/37 [==============================] - 5s 137ms/step - loss: 0.1631 - accuracy: 0.9332 - val_loss: 0.9388 - val_accuracy: 0.8657\n",
      "Epoch 31/50\n",
      "37/37 [==============================] - 5s 138ms/step - loss: 0.1263 - accuracy: 0.9503 - val_loss: 0.1898 - val_accuracy: 0.9375\n",
      "Epoch 32/50\n",
      "37/37 [==============================] - 5s 142ms/step - loss: 0.1021 - accuracy: 0.9572 - val_loss: 0.7910 - val_accuracy: 0.9254\n",
      "Epoch 33/50\n",
      "37/37 [==============================] - 5s 141ms/step - loss: 0.1092 - accuracy: 0.9538 - val_loss: 0.2209 - val_accuracy: 0.8582\n",
      "Epoch 34/50\n",
      "37/37 [==============================] - 5s 138ms/step - loss: 0.1341 - accuracy: 0.9538 - val_loss: 0.1799 - val_accuracy: 0.9104\n",
      "Epoch 35/50\n",
      "37/37 [==============================] - 5s 144ms/step - loss: 0.0825 - accuracy: 0.9792 - val_loss: 0.0553 - val_accuracy: 0.8806\n",
      "Epoch 36/50\n",
      "37/37 [==============================] - 5s 149ms/step - loss: 0.0763 - accuracy: 0.9658 - val_loss: 0.7324 - val_accuracy: 0.9254\n",
      "Epoch 37/50\n",
      "37/37 [==============================] - 5s 147ms/step - loss: 0.1384 - accuracy: 0.9611 - val_loss: 0.2201 - val_accuracy: 0.9030\n",
      "Epoch 38/50\n",
      "37/37 [==============================] - 5s 147ms/step - loss: 0.1096 - accuracy: 0.9572 - val_loss: 0.2918 - val_accuracy: 0.9403\n",
      "Epoch 39/50\n",
      "37/37 [==============================] - 5s 146ms/step - loss: 0.0710 - accuracy: 0.9777 - val_loss: 0.0109 - val_accuracy: 0.9030\n",
      "Epoch 40/50\n",
      "37/37 [==============================] - 5s 139ms/step - loss: 0.1184 - accuracy: 0.9623 - val_loss: 1.3205 - val_accuracy: 0.9179\n",
      "Epoch 41/50\n",
      "37/37 [==============================] - 5s 146ms/step - loss: 0.0807 - accuracy: 0.9606 - val_loss: 0.1091 - val_accuracy: 0.8750\n",
      "Epoch 42/50\n",
      "37/37 [==============================] - 5s 144ms/step - loss: 0.0541 - accuracy: 0.9814 - val_loss: 0.0638 - val_accuracy: 0.9254\n",
      "Epoch 43/50\n",
      "37/37 [==============================] - 5s 143ms/step - loss: 0.1047 - accuracy: 0.9589 - val_loss: 0.1097 - val_accuracy: 0.8806\n",
      "Epoch 44/50\n",
      "37/37 [==============================] - 5s 147ms/step - loss: 0.0791 - accuracy: 0.9705 - val_loss: 0.2526 - val_accuracy: 0.9179\n",
      "Epoch 45/50\n",
      "37/37 [==============================] - 5s 142ms/step - loss: 0.0671 - accuracy: 0.9743 - val_loss: 0.0457 - val_accuracy: 0.9328\n",
      "Epoch 46/50\n",
      "37/37 [==============================] - 5s 147ms/step - loss: 0.0647 - accuracy: 0.9777 - val_loss: 0.0704 - val_accuracy: 0.9179\n",
      "Epoch 47/50\n",
      "37/37 [==============================] - 5s 147ms/step - loss: 0.0351 - accuracy: 0.9914 - val_loss: 0.3642 - val_accuracy: 0.9328\n",
      "Epoch 48/50\n",
      "37/37 [==============================] - 6s 150ms/step - loss: 0.0562 - accuracy: 0.9797 - val_loss: 0.0153 - val_accuracy: 0.9179\n",
      "Epoch 49/50\n",
      "37/37 [==============================] - 5s 144ms/step - loss: 0.0860 - accuracy: 0.9618 - val_loss: 0.0374 - val_accuracy: 0.9254\n",
      "Epoch 50/50\n",
      "37/37 [==============================] - 5s 147ms/step - loss: 0.1087 - accuracy: 0.9623 - val_loss: 0.0356 - val_accuracy: 0.9030\n"
     ]
    }
   ],
   "source": [
    "model.fit_generator(\n",
    "        train_generator,\n",
    "        steps_per_epoch=600 // batch_size,\n",
    "        epochs=50,  #50 정도는 해야 accuracy가 0.8까지는 나옴\n",
    "        validation_data=validation_generator,\n",
    "        validation_steps=150 // 16)     \n",
    "\n",
    "model.save(\"pumpkin_tomato_watermelon.h5\")"
   ]
  },
  {
   "cell_type": "code",
   "execution_count": 19,
   "metadata": {
    "ExecuteTime": {
     "end_time": "2020-01-23T02:44:23.951385Z",
     "start_time": "2020-01-23T02:44:23.633082Z"
    }
   },
   "outputs": [
    {
     "name": "stdout",
     "output_type": "stream",
     "text": [
      "-- Evaluate --\n",
      "0.9097222089767456\n"
     ]
    }
   ],
   "source": [
    "# 모델 평가하기\n",
    "print(\"-- Evaluate --\")\n",
    "scores = model.evaluate_generator( test_generator,   steps = 150//16)\n",
    "print(scores[1])"
   ]
  },
  {
   "cell_type": "code",
   "execution_count": null,
   "metadata": {},
   "outputs": [],
   "source": []
  }
 ],
 "metadata": {
  "kernelspec": {
   "display_name": "Python 3",
   "language": "python",
   "name": "python3"
  },
  "language_info": {
   "codemirror_mode": {
    "name": "ipython",
    "version": 3
   },
   "file_extension": ".py",
   "mimetype": "text/x-python",
   "name": "python",
   "nbconvert_exporter": "python",
   "pygments_lexer": "ipython3",
   "version": "3.7.5"
  },
  "varInspector": {
   "cols": {
    "lenName": 16,
    "lenType": 16,
    "lenVar": 40
   },
   "kernels_config": {
    "python": {
     "delete_cmd_postfix": "",
     "delete_cmd_prefix": "del ",
     "library": "var_list.py",
     "varRefreshCmd": "print(var_dic_list())"
    },
    "r": {
     "delete_cmd_postfix": ") ",
     "delete_cmd_prefix": "rm(",
     "library": "var_list.r",
     "varRefreshCmd": "cat(var_dic_list()) "
    }
   },
   "types_to_exclude": [
    "module",
    "function",
    "builtin_function_or_method",
    "instance",
    "_Feature"
   ],
   "window_display": false
  }
 },
 "nbformat": 4,
 "nbformat_minor": 2
}
