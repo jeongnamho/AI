{
 "cells": [
  {
   "cell_type": "code",
   "execution_count": 1,
   "metadata": {
    "ExecuteTime": {
     "end_time": "2020-01-23T06:39:59.880364Z",
     "start_time": "2020-01-23T06:39:57.567516Z"
    }
   },
   "outputs": [
    {
     "name": "stderr",
     "output_type": "stream",
     "text": [
      "Using TensorFlow backend.\n"
     ]
    }
   ],
   "source": [
    "import numpy as np\n",
    "import matplotlib.pyplot as plt\n",
    "%matplotlib inline\n",
    "import keras\n",
    "from keras.preprocessing.image import ImageDataGenerator, load_img"
   ]
  },
  {
   "cell_type": "code",
   "execution_count": 2,
   "metadata": {
    "ExecuteTime": {
     "end_time": "2020-01-23T06:40:15.534736Z",
     "start_time": "2020-01-23T06:40:15.531717Z"
    }
   },
   "outputs": [],
   "source": [
    "train_dir = './clean-dataset/train'\n",
    "validation_dir = './clean-dataset/validation'\n",
    "image_size = 224"
   ]
  },
  {
   "cell_type": "markdown",
   "metadata": {},
   "source": [
    "## Experiment 1: Freezing all layers - Same as Transfer Learning\n",
    "Create the model"
   ]
  },
  {
   "cell_type": "code",
   "execution_count": 3,
   "metadata": {
    "ExecuteTime": {
     "end_time": "2020-01-23T06:43:48.404534Z",
     "start_time": "2020-01-23T06:43:48.012392Z"
    }
   },
   "outputs": [
    {
     "name": "stdout",
     "output_type": "stream",
     "text": [
      "<keras.engine.input_layer.InputLayer object at 0x0000028CCA1B8248> False\n",
      "<keras.layers.convolutional.Conv2D object at 0x0000028CCA1B8F08> False\n",
      "<keras.layers.convolutional.Conv2D object at 0x0000028CCA1C7608> False\n",
      "<keras.layers.pooling.MaxPooling2D object at 0x0000028CCA1E1BC8> False\n",
      "<keras.layers.convolutional.Conv2D object at 0x0000028CCA1F6CC8> False\n",
      "<keras.layers.convolutional.Conv2D object at 0x0000028CCA1FFE48> False\n",
      "<keras.layers.pooling.MaxPooling2D object at 0x0000028CCA203DC8> False\n",
      "<keras.layers.convolutional.Conv2D object at 0x0000028CCA209988> False\n",
      "<keras.layers.convolutional.Conv2D object at 0x0000028CCA210448> False\n",
      "<keras.layers.convolutional.Conv2D object at 0x0000028CCA2125C8> False\n",
      "<keras.layers.pooling.MaxPooling2D object at 0x0000028CCA215C48> False\n",
      "<keras.layers.convolutional.Conv2D object at 0x0000028CCA218CC8> False\n",
      "<keras.layers.convolutional.Conv2D object at 0x0000028CCA21DE48> False\n",
      "<keras.layers.convolutional.Conv2D object at 0x0000028CCA320B08> False\n",
      "<keras.layers.pooling.MaxPooling2D object at 0x0000028CCA3277C8> False\n",
      "<keras.layers.convolutional.Conv2D object at 0x0000028CCA327848> False\n",
      "<keras.layers.convolutional.Conv2D object at 0x0000028CCA32DAC8> False\n",
      "<keras.layers.convolutional.Conv2D object at 0x0000028CCA331C88> False\n",
      "<keras.layers.pooling.MaxPooling2D object at 0x0000028CCA332CC8> False\n",
      "Model: \"sequential_1\"\n",
      "_________________________________________________________________\n",
      "Layer (type)                 Output Shape              Param #   \n",
      "=================================================================\n",
      "vgg16 (Model)                (None, 7, 7, 512)         14714688  \n",
      "_________________________________________________________________\n",
      "flatten_1 (Flatten)          (None, 25088)             0         \n",
      "_________________________________________________________________\n",
      "dense_1 (Dense)              (None, 1024)              25691136  \n",
      "_________________________________________________________________\n",
      "dropout_1 (Dropout)          (None, 1024)              0         \n",
      "_________________________________________________________________\n",
      "dense_2 (Dense)              (None, 3)                 3075      \n",
      "=================================================================\n",
      "Total params: 40,408,899\n",
      "Trainable params: 25,694,211\n",
      "Non-trainable params: 14,714,688\n",
      "_________________________________________________________________\n"
     ]
    }
   ],
   "source": [
    "from keras.applications import VGG16\n",
    "\n",
    "#Load the VGG model\n",
    "vgg_conv = VGG16(weights='imagenet', include_top=False, input_shape=(image_size, image_size, 3))\n",
    "\n",
    "# Freeze all the layers(학습이 안됌)\n",
    "for layer in vgg_conv.layers[:]:\n",
    "    layer.trainable = False\n",
    "\n",
    "# Check the trainable status of the individual layers\n",
    "for layer in vgg_conv.layers:\n",
    "    print(layer, layer.trainable)\n",
    "\n",
    "\n",
    "from keras import models\n",
    "from keras import layers\n",
    "from keras import optimizers\n",
    "\n",
    "# Create the model\n",
    "model = models.Sequential()\n",
    "\n",
    "# Add the vgg convolutional base model\n",
    "model.add(vgg_conv)\n",
    "\n",
    "# Add new layers\n",
    "model.add(layers.Flatten())\n",
    "model.add(layers.Dense(1024, activation='relu'))\n",
    "model.add(layers.Dropout(0.5))\n",
    "model.add(layers.Dense(3, activation='softmax'))\n",
    "\n",
    "# Show a summary of the model. Check the number of trainable parameters\n",
    "model.summary()"
   ]
  },
  {
   "cell_type": "markdown",
   "metadata": {},
   "source": [
    "## Experiment 1\n",
    "Train the model"
   ]
  },
  {
   "cell_type": "code",
   "execution_count": 4,
   "metadata": {
    "ExecuteTime": {
     "end_time": "2020-01-23T06:45:57.642102Z",
     "start_time": "2020-01-23T06:45:57.379671Z"
    }
   },
   "outputs": [
    {
     "name": "stdout",
     "output_type": "stream",
     "text": [
      "Found 600 images belonging to 3 classes.\n",
      "Found 150 images belonging to 3 classes.\n"
     ]
    }
   ],
   "source": [
    "# No Data augmentation \n",
    "train_datagen = ImageDataGenerator(rescale=1./255)\n",
    "validation_datagen = ImageDataGenerator(rescale=1./255)\n",
    "\n",
    "# Change the batchsize according to your system RAM\n",
    "train_batchsize = 20 # 여긴 데이터가 좀 커서 batchsize를 작게 잡아야됌...(안그럼 die)\n",
    "val_batchsize = 2\n",
    "\n",
    "# Data Generator for Training data\n",
    "train_generator = train_datagen.flow_from_directory(\n",
    "        train_dir,\n",
    "        target_size=(image_size, image_size),\n",
    "        batch_size=train_batchsize,\n",
    "        class_mode='categorical')\n",
    "\n",
    "# Data Generator for Validation data\n",
    "validation_generator = validation_datagen.flow_from_directory(\n",
    "        validation_dir,\n",
    "        target_size=(image_size, image_size),\n",
    "        batch_size=val_batchsize,\n",
    "        class_mode='categorical',\n",
    "        shuffle=False)\n",
    "\n",
    "# Compile the model\n",
    "model.compile(loss='categorical_crossentropy',\n",
    "              optimizer=\"adam\",\n",
    "              metrics=['accuracy'])"
   ]
  },
  {
   "cell_type": "code",
   "execution_count": 5,
   "metadata": {
    "ExecuteTime": {
     "end_time": "2020-01-23T06:51:34.180523Z",
     "start_time": "2020-01-23T06:46:09.171941Z"
    }
   },
   "outputs": [
    {
     "name": "stdout",
     "output_type": "stream",
     "text": [
      "Epoch 1/5\n",
      "30/30 [==============================] - 63s 2s/step - loss: 3.0919 - accuracy: 0.6133 - val_loss: 1.3151 - val_accuracy: 0.7733\n",
      "Epoch 2/5\n",
      "30/30 [==============================] - 65s 2s/step - loss: 0.7131 - accuracy: 0.8583 - val_loss: 1.2070 - val_accuracy: 0.8333\n",
      "Epoch 3/5\n",
      "30/30 [==============================] - 66s 2s/step - loss: 0.2766 - accuracy: 0.9333 - val_loss: 0.0011 - val_accuracy: 0.8867\n",
      "Epoch 4/5\n",
      "30/30 [==============================] - 66s 2s/step - loss: 0.1265 - accuracy: 0.9567 - val_loss: 9.5063e-05 - val_accuracy: 0.8733\n",
      "Epoch 5/5\n",
      "30/30 [==============================] - 65s 2s/step - loss: 0.0759 - accuracy: 0.9717 - val_loss: 0.0025 - val_accuracy: 0.9067\n"
     ]
    }
   ],
   "source": [
    "# Train the Model\n",
    "history = model.fit_generator(\n",
    "      train_generator,\n",
    "      steps_per_epoch=train_generator.samples/train_generator.batch_size ,\n",
    "      epochs=5,\n",
    "      validation_data=validation_generator,\n",
    "      validation_steps=validation_generator.samples/validation_generator.batch_size,\n",
    "      verbose=1)"
   ]
  },
  {
   "cell_type": "code",
   "execution_count": 6,
   "metadata": {
    "ExecuteTime": {
     "end_time": "2020-01-23T06:51:39.375203Z",
     "start_time": "2020-01-23T06:51:38.079304Z"
    }
   },
   "outputs": [
    {
     "data": {
      "image/png": "[encoded data removed]",
      "text/plain": [
       "<Figure size 432x288 with 1 Axes>"
      ]
     },
     "metadata": {
      "needs_background": "light"
     },
     "output_type": "display_data"
    },
    {
     "data": {
      "image/png": "[encoded data removed]",
      "text/plain": [
       "<Figure size 432x288 with 1 Axes>"
      ]
     },
     "metadata": {
      "needs_background": "light"
     },
     "output_type": "display_data"
    }
   ],
   "source": [
    "# Save the Model\n",
    "model.save('all_freezed.h5')\n",
    "\n",
    "# Plot the accuracy and loss curves\n",
    "acc = history.history['accuracy']\n",
    "val_acc = history.history['val_accuracy']\n",
    "loss = history.history['loss']\n",
    "val_loss = history.history['val_loss']\n",
    "\n",
    "epochs = range(len(acc))\n",
    "\n",
    "plt.plot(epochs, acc, 'b', label='Training acc')\n",
    "plt.plot(epochs, val_acc, 'r', label='Validation acc')\n",
    "plt.title('Training and validation accuracy')\n",
    "plt.legend()\n",
    "\n",
    "plt.figure()\n",
    "\n",
    "plt.plot(epochs, loss, 'b', label='Training loss')\n",
    "plt.plot(epochs, val_loss, 'r', label='Validation loss')\n",
    "plt.title('Training and validation loss')\n",
    "plt.legend()\n",
    "\n",
    "plt.show()"
   ]
  },
  {
   "cell_type": "markdown",
   "metadata": {},
   "source": [
    "---"
   ]
  },
  {
   "cell_type": "markdown",
   "metadata": {},
   "source": [
    "### 기존의 VGG모델에 대해서 마지막 층의 노드 수를 1024에서 64로 줄인다면 어떻게 될까?"
   ]
  },
  {
   "cell_type": "code",
   "execution_count": 7,
   "metadata": {
    "ExecuteTime": {
     "end_time": "2020-01-23T07:28:07.456550Z",
     "start_time": "2020-01-23T07:28:07.175042Z"
    }
   },
   "outputs": [
    {
     "name": "stdout",
     "output_type": "stream",
     "text": [
      "<keras.engine.input_layer.InputLayer object at 0x0000028CCAC7D948> False\n",
      "<keras.layers.convolutional.Conv2D object at 0x0000028CCAC7DAC8> False\n",
      "<keras.layers.convolutional.Conv2D object at 0x0000028CCAC7DF08> False\n",
      "<keras.layers.pooling.MaxPooling2D object at 0x0000028CCAD2D148> False\n",
      "<keras.layers.convolutional.Conv2D object at 0x0000028CCAD2C408> False\n",
      "<keras.layers.convolutional.Conv2D object at 0x0000028CCAC7EF48> False\n",
      "<keras.layers.pooling.MaxPooling2D object at 0x0000028CCAC7FE88> False\n",
      "<keras.layers.convolutional.Conv2D object at 0x0000028CCAC80B08> False\n",
      "<keras.layers.convolutional.Conv2D object at 0x0000028CCAC81688> False\n",
      "<keras.layers.convolutional.Conv2D object at 0x0000028CCAC82208> False\n",
      "<keras.layers.pooling.MaxPooling2D object at 0x0000028CCAC84A08> False\n",
      "<keras.layers.convolutional.Conv2D object at 0x0000028CCAC86688> False\n",
      "<keras.layers.convolutional.Conv2D object at 0x0000028CCAC88F88> False\n",
      "<keras.layers.convolutional.Conv2D object at 0x0000028CCAC8DEC8> False\n",
      "<keras.layers.pooling.MaxPooling2D object at 0x0000028CCAC93588> False\n",
      "<keras.layers.convolutional.Conv2D object at 0x0000028CCAC96208> False\n",
      "<keras.layers.convolutional.Conv2D object at 0x0000028CCAC98D48> False\n",
      "<keras.layers.convolutional.Conv2D object at 0x0000028CCAC9DA48> False\n",
      "<keras.layers.pooling.MaxPooling2D object at 0x0000028CCAC9FCC8> False\n",
      "Model: \"sequential_2\"\n",
      "_________________________________________________________________\n",
      "Layer (type)                 Output Shape              Param #   \n",
      "=================================================================\n",
      "vgg16 (Model)                (None, 7, 7, 512)         14714688  \n",
      "_________________________________________________________________\n",
      "flatten_2 (Flatten)          (None, 25088)             0         \n",
      "_________________________________________________________________\n",
      "dense_3 (Dense)              (None, 64)                1605696   \n",
      "_________________________________________________________________\n",
      "dropout_2 (Dropout)          (None, 64)                0         \n",
      "_________________________________________________________________\n",
      "dense_4 (Dense)              (None, 3)                 195       \n",
      "=================================================================\n",
      "Total params: 16,320,579\n",
      "Trainable params: 1,605,891\n",
      "Non-trainable params: 14,714,688\n",
      "_________________________________________________________________\n"
     ]
    }
   ],
   "source": [
    "from keras.applications import VGG16\n",
    "\n",
    "#Load the VGG model\n",
    "vgg_conv = VGG16(weights='imagenet', include_top=False, input_shape=(image_size, image_size, 3))\n",
    "\n",
    "# Freeze all the layers(학습이 안됌)\n",
    "for layer in vgg_conv.layers[:]:\n",
    "    layer.trainable = False\n",
    "\n",
    "# Check the trainable status of the individual layers\n",
    "for layer in vgg_conv.layers:\n",
    "    print(layer, layer.trainable)\n",
    "\n",
    "\n",
    "from keras import models\n",
    "from keras import layers\n",
    "from keras import optimizers\n",
    "\n",
    "# Create the model\n",
    "model = models.Sequential()\n",
    "\n",
    "# Add the vgg convolutional base model\n",
    "model.add(vgg_conv)\n",
    "\n",
    "# Add new layers\n",
    "model.add(layers.Flatten())\n",
    "model.add(layers.Dense(64, activation='relu')) ###### <---------------여기를 수정한거\n",
    "model.add(layers.Dropout(0.5))\n",
    "model.add(layers.Dense(3, activation='softmax'))\n",
    "\n",
    "# Show a summary of the model. Check the number of trainable parameters\n",
    "model.summary()"
   ]
  },
  {
   "cell_type": "code",
   "execution_count": 9,
   "metadata": {
    "ExecuteTime": {
     "end_time": "2020-01-23T07:30:34.071097Z",
     "start_time": "2020-01-23T07:30:33.794137Z"
    }
   },
   "outputs": [
    {
     "name": "stdout",
     "output_type": "stream",
     "text": [
      "Found 600 images belonging to 3 classes.\n",
      "Found 150 images belonging to 3 classes.\n"
     ]
    }
   ],
   "source": [
    "# No Data augmentation \n",
    "train_datagen = ImageDataGenerator(rescale=1./255)\n",
    "validation_datagen = ImageDataGenerator(rescale=1./255)\n",
    "\n",
    "# Change the batchsize according to your system RAM\n",
    "train_batchsize = 5 # 여긴 데이터가 좀 커서 batchsize를 작게 잡아야됌...(안그럼 die)\n",
    "val_batchsize = 2\n",
    "\n",
    "# Data Generator for Training data\n",
    "train_generator = train_datagen.flow_from_directory(\n",
    "        train_dir,\n",
    "        target_size=(image_size, image_size),\n",
    "        batch_size=train_batchsize,\n",
    "        class_mode='categorical')\n",
    "\n",
    "# Data Generator for Validation data\n",
    "validation_generator = validation_datagen.flow_from_directory(\n",
    "        validation_dir,\n",
    "        target_size=(image_size, image_size),\n",
    "        batch_size=val_batchsize,\n",
    "        class_mode='categorical',\n",
    "        shuffle=False)\n",
    "\n",
    "# Compile the model\n",
    "model.compile(loss='categorical_crossentropy',\n",
    "              optimizer=\"adam\",\n",
    "              metrics=['accuracy'])"
   ]
  },
  {
   "cell_type": "code",
   "execution_count": 10,
   "metadata": {
    "ExecuteTime": {
     "end_time": "2020-01-23T08:29:14.253461Z",
     "start_time": "2020-01-23T07:38:15.295999Z"
    },
    "scrolled": true
   },
   "outputs": [
    {
     "name": "stdout",
     "output_type": "stream",
     "text": [
      "Epoch 1/50\n",
      "120/120 [==============================] - 57s 478ms/step - loss: 1.1441 - accuracy: 0.4617 - val_loss: 1.0342 - val_accuracy: 0.6200\n",
      "Epoch 2/50\n",
      "120/120 [==============================] - 60s 499ms/step - loss: 0.9541 - accuracy: 0.5150 - val_loss: 0.5239 - val_accuracy: 0.7933\n",
      "Epoch 3/50\n",
      "120/120 [==============================] - 60s 503ms/step - loss: 0.7367 - accuracy: 0.6200 - val_loss: 0.2873 - val_accuracy: 0.9000\n",
      "Epoch 4/50\n",
      "120/120 [==============================] - 60s 502ms/step - loss: 0.5807 - accuracy: 0.6917 - val_loss: 0.0716 - val_accuracy: 0.8533\n",
      "Epoch 5/50\n",
      "120/120 [==============================] - 61s 505ms/step - loss: 0.5400 - accuracy: 0.7667 - val_loss: 0.1792 - val_accuracy: 0.9067\n",
      "Epoch 6/50\n",
      "120/120 [==============================] - 61s 507ms/step - loss: 0.5959 - accuracy: 0.7167 - val_loss: 0.4941 - val_accuracy: 0.9000\n",
      "Epoch 7/50\n",
      "120/120 [==============================] - 60s 501ms/step - loss: 0.4612 - accuracy: 0.7933 - val_loss: 0.0802 - val_accuracy: 0.9333\n",
      "Epoch 8/50\n",
      "120/120 [==============================] - 60s 502ms/step - loss: 0.4659 - accuracy: 0.7667 - val_loss: 0.3964 - val_accuracy: 0.8800\n",
      "Epoch 9/50\n",
      "120/120 [==============================] - 62s 516ms/step - loss: 0.3938 - accuracy: 0.8083 - val_loss: 0.0732 - val_accuracy: 0.9200\n",
      "Epoch 10/50\n",
      "120/120 [==============================] - 62s 521ms/step - loss: 0.3799 - accuracy: 0.8250 - val_loss: 0.3235 - val_accuracy: 0.8733\n",
      "Epoch 11/50\n",
      "120/120 [==============================] - 62s 519ms/step - loss: 0.3318 - accuracy: 0.8433 - val_loss: 0.0224 - val_accuracy: 0.9133\n",
      "Epoch 12/50\n",
      "120/120 [==============================] - 63s 523ms/step - loss: 0.3395 - accuracy: 0.8483 - val_loss: 0.0412 - val_accuracy: 0.8933\n",
      "Epoch 13/50\n",
      "120/120 [==============================] - 62s 516ms/step - loss: 0.2813 - accuracy: 0.8767 - val_loss: 0.0082 - val_accuracy: 0.9133\n",
      "Epoch 14/50\n",
      "120/120 [==============================] - 62s 518ms/step - loss: 0.2570 - accuracy: 0.8817 - val_loss: 0.0240 - val_accuracy: 0.8933\n",
      "Epoch 15/50\n",
      "120/120 [==============================] - 61s 510ms/step - loss: 0.3358 - accuracy: 0.8533 - val_loss: 0.0052 - val_accuracy: 0.9200\n",
      "Epoch 16/50\n",
      "120/120 [==============================] - 61s 510ms/step - loss: 0.2814 - accuracy: 0.8617 - val_loss: 0.0214 - val_accuracy: 0.9067\n",
      "Epoch 17/50\n",
      "120/120 [==============================] - 61s 510ms/step - loss: 0.2787 - accuracy: 0.8500 - val_loss: 0.0407 - val_accuracy: 0.9133\n",
      "Epoch 18/50\n",
      "120/120 [==============================] - 61s 508ms/step - loss: 0.2547 - accuracy: 0.8683 - val_loss: 3.3042e-04 - val_accuracy: 0.9133\n",
      "Epoch 19/50\n",
      "120/120 [==============================] - 61s 511ms/step - loss: 0.2509 - accuracy: 0.8583 - val_loss: 0.0067 - val_accuracy: 0.8933\n",
      "Epoch 20/50\n",
      "120/120 [==============================] - 61s 508ms/step - loss: 0.3354 - accuracy: 0.8083 - val_loss: 0.0096 - val_accuracy: 0.8867\n",
      "Epoch 21/50\n",
      "120/120 [==============================] - 60s 504ms/step - loss: 0.3015 - accuracy: 0.8300 - val_loss: 0.0102 - val_accuracy: 0.9067\n",
      "Epoch 22/50\n",
      "120/120 [==============================] - 61s 508ms/step - loss: 0.3594 - accuracy: 0.7817 - val_loss: 0.0329 - val_accuracy: 0.9133\n",
      "Epoch 23/50\n",
      "120/120 [==============================] - 62s 517ms/step - loss: 0.3116 - accuracy: 0.8167 - val_loss: 0.0309 - val_accuracy: 0.9200\n",
      "Epoch 24/50\n",
      "120/120 [==============================] - 64s 529ms/step - loss: 0.3024 - accuracy: 0.8283 - val_loss: 0.0057 - val_accuracy: 0.9000\n",
      "Epoch 25/50\n",
      "120/120 [==============================] - 62s 520ms/step - loss: 0.2828 - accuracy: 0.8367 - val_loss: 0.0038 - val_accuracy: 0.9133\n",
      "Epoch 26/50\n",
      "120/120 [==============================] - 62s 520ms/step - loss: 0.2950 - accuracy: 0.8383 - val_loss: 0.1866 - val_accuracy: 0.9000\n",
      "Epoch 27/50\n",
      "120/120 [==============================] - 64s 533ms/step - loss: 0.3103 - accuracy: 0.8267 - val_loss: 0.0116 - val_accuracy: 0.9067\n",
      "Epoch 28/50\n",
      "120/120 [==============================] - 62s 518ms/step - loss: 0.3412 - accuracy: 0.8033 - val_loss: 0.1176 - val_accuracy: 0.8933\n",
      "Epoch 29/50\n",
      "120/120 [==============================] - 61s 504ms/step - loss: 0.2914 - accuracy: 0.8250 - val_loss: 0.0245 - val_accuracy: 0.8867\n",
      "Epoch 30/50\n",
      "120/120 [==============================] - 61s 511ms/step - loss: 0.2989 - accuracy: 0.8283 - val_loss: 0.0054 - val_accuracy: 0.9200\n",
      "Epoch 31/50\n",
      "120/120 [==============================] - 62s 518ms/step - loss: 0.3365 - accuracy: 0.7983 - val_loss: 0.0124 - val_accuracy: 0.9133\n",
      "Epoch 32/50\n",
      "120/120 [==============================] - 63s 527ms/step - loss: 0.2859 - accuracy: 0.8433 - val_loss: 0.1572 - val_accuracy: 0.9200\n",
      "Epoch 33/50\n",
      "120/120 [==============================] - 63s 526ms/step - loss: 0.2688 - accuracy: 0.8550 - val_loss: 0.0029 - val_accuracy: 0.9067\n",
      "Epoch 34/50\n",
      "120/120 [==============================] - 61s 508ms/step - loss: 0.2776 - accuracy: 0.8317 - val_loss: 0.0026 - val_accuracy: 0.8933\n",
      "Epoch 35/50\n",
      "120/120 [==============================] - 61s 510ms/step - loss: 0.3163 - accuracy: 0.8217 - val_loss: 0.0028 - val_accuracy: 0.8867\n",
      "Epoch 36/50\n",
      "120/120 [==============================] - 61s 507ms/step - loss: 0.3211 - accuracy: 0.8133 - val_loss: 0.0212 - val_accuracy: 0.9067\n",
      "Epoch 37/50\n",
      "120/120 [==============================] - 60s 497ms/step - loss: 0.2860 - accuracy: 0.8350 - val_loss: 0.0077 - val_accuracy: 0.9067\n",
      "Epoch 38/50\n",
      "120/120 [==============================] - 60s 496ms/step - loss: 0.3115 - accuracy: 0.8117 - val_loss: 2.7736e-04 - val_accuracy: 0.8800\n",
      "Epoch 39/50\n",
      "120/120 [==============================] - 60s 497ms/step - loss: 0.2855 - accuracy: 0.8217 - val_loss: 0.0062 - val_accuracy: 0.8800\n",
      "Epoch 40/50\n",
      "120/120 [==============================] - 60s 501ms/step - loss: 0.3046 - accuracy: 0.8067 - val_loss: 0.0150 - val_accuracy: 0.9000\n",
      "Epoch 41/50\n",
      "120/120 [==============================] - 60s 504ms/step - loss: 0.3549 - accuracy: 0.8200 - val_loss: 0.0288 - val_accuracy: 0.8933\n",
      "Epoch 42/50\n",
      "120/120 [==============================] - 61s 508ms/step - loss: 0.3788 - accuracy: 0.8283 - val_loss: 0.0083 - val_accuracy: 0.9133\n",
      "Epoch 43/50\n",
      "120/120 [==============================] - 61s 506ms/step - loss: 0.3786 - accuracy: 0.8117 - val_loss: 0.0053 - val_accuracy: 0.9067\n",
      "Epoch 44/50\n",
      "120/120 [==============================] - 60s 503ms/step - loss: 0.3707 - accuracy: 0.8267 - val_loss: 0.0015 - val_accuracy: 0.9000\n",
      "Epoch 45/50\n",
      "120/120 [==============================] - 61s 505ms/step - loss: 0.3339 - accuracy: 0.8450 - val_loss: 1.7795e-04 - val_accuracy: 0.8867\n",
      "Epoch 46/50\n",
      "120/120 [==============================] - 61s 504ms/step - loss: 0.3554 - accuracy: 0.8167 - val_loss: 0.0015 - val_accuracy: 0.9067\n",
      "Epoch 47/50\n",
      "120/120 [==============================] - 60s 503ms/step - loss: 0.3180 - accuracy: 0.8450 - val_loss: 0.0014 - val_accuracy: 0.9067\n",
      "Epoch 48/50\n",
      "120/120 [==============================] - 61s 509ms/step - loss: 0.3737 - accuracy: 0.8283 - val_loss: 3.5680e-04 - val_accuracy: 0.9133\n",
      "Epoch 49/50\n",
      "120/120 [==============================] - 61s 509ms/step - loss: 0.3560 - accuracy: 0.8333 - val_loss: 0.0023 - val_accuracy: 0.8933\n",
      "Epoch 50/50\n",
      "120/120 [==============================] - 62s 516ms/step - loss: 0.3743 - accuracy: 0.8200 - val_loss: 0.0014 - val_accuracy: 0.9000\n"
     ]
    }
   ],
   "source": [
    "# Train the Model\n",
    "history = model.fit_generator(\n",
    "      train_generator,\n",
    "      steps_per_epoch=train_generator.samples/train_generator.batch_size ,\n",
    "      epochs=50,\n",
    "      validation_data=validation_generator,\n",
    "      validation_steps=validation_generator.samples/validation_generator.batch_size,\n",
    "      verbose=1)"
   ]
  },
  {
   "cell_type": "code",
   "execution_count": null,
   "metadata": {},
   "outputs": [],
   "source": []
  }
 ],
 "metadata": {
  "kernelspec": {
   "display_name": "Python 3",
   "language": "python",
   "name": "python3"
  },
  "language_info": {
   "codemirror_mode": {
    "name": "ipython",
    "version": 3
   },
   "file_extension": ".py",
   "mimetype": "text/x-python",
   "name": "python",
   "nbconvert_exporter": "python",
   "pygments_lexer": "ipython3",
   "version": "3.7.5"
  },
  "varInspector": {
   "cols": {
    "lenName": 16,
    "lenType": 16,
    "lenVar": 40
   },
   "kernels_config": {
    "python": {
     "delete_cmd_postfix": "",
     "delete_cmd_prefix": "del ",
     "library": "var_list.py",
     "varRefreshCmd": "print(var_dic_list())"
    },
    "r": {
     "delete_cmd_postfix": ") ",
     "delete_cmd_prefix": "rm(",
     "library": "var_list.r",
     "varRefreshCmd": "cat(var_dic_list()) "
    }
   },
   "types_to_exclude": [
    "module",
    "function",
    "builtin_function_or_method",
    "instance",
    "_Feature"
   ],
   "window_display": false
  }
 },
 "nbformat": 4,
 "nbformat_minor": 2
}
