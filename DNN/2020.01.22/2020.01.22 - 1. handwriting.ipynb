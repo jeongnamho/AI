{
 "cells": [
  {
   "cell_type": "markdown",
   "metadata": {},
   "source": [
    "## Goal\n",
    "\n",
    "CNN으로 handwriting을 인식해보기"
   ]
  },
  {
   "cell_type": "code",
   "execution_count": 1,
   "metadata": {
    "ExecuteTime": {
     "end_time": "2020-02-25T10:51:24.196052Z",
     "start_time": "2020-02-25T10:51:20.742328Z"
    }
   },
   "outputs": [
    {
     "name": "stderr",
     "output_type": "stream",
     "text": [
      "Using TensorFlow backend.\n"
     ]
    }
   ],
   "source": [
    "import numpy as np\n",
    "import tensorflow as tf\n",
    "from matplotlib import pyplot as plt\n",
    "from keras.models import Sequential\n",
    "from keras.layers import Dense\n",
    "from keras.layers import Flatten\n",
    "from keras.layers.convolutional import Conv2D\n",
    "from keras.layers.convolutional import MaxPooling2D\n",
    "from keras.models import Sequential\n",
    "from keras.layers import Activation, Dense\n",
    "from keras import optimizers\n",
    "from keras.layers import BatchNormalization\n",
    "from keras.layers import Dropout\n",
    "from keras.utils.np_utils import to_categorical\n",
    "from keras.layers import BatchNormalization, Dropout\n",
    "import cv2\n"
   ]
  },
  {
   "cell_type": "code",
   "execution_count": 3,
   "metadata": {
    "ExecuteTime": {
     "end_time": "2020-02-25T10:51:33.755880Z",
     "start_time": "2020-02-25T10:51:33.751894Z"
    }
   },
   "outputs": [
    {
     "name": "stdout",
     "output_type": "stream",
     "text": [
      "[[[0. 0.]]\n",
      "\n",
      " [[0. 0.]]\n",
      "\n",
      " [[0. 0.]]]\n"
     ]
    }
   ],
   "source": [
    "x = np.zeros((3,1,2))\n",
    "print(x)"
   ]
  },
  {
   "attachments": {},
   "cell_type": "markdown",
   "metadata": {},
   "source": [
    "### 간단한 이해\n",
    "<img src=1.jpg width=400>"
   ]
  },
  {
   "cell_type": "code",
   "execution_count": 4,
   "metadata": {
    "ExecuteTime": {
     "end_time": "2020-02-25T10:51:37.828742Z",
     "start_time": "2020-02-25T10:51:37.794835Z"
    }
   },
   "outputs": [],
   "source": [
    "# 15*3은 원,사각형,삼각형의 총 개수 / 24,24는 각 이미지의 grayscale의 사이즈가 (24,24)이어서\n",
    "X_train = np.zeros((15*3, 24,24)) \n",
    "y_train = np.zeros(15*3)\n",
    "\n",
    "for i in range(15) :\n",
    "    img1 = cv2.imread('hard_handwriting_shape/train/circle/circle{0:03d}.png'.format(i+1), 0)\n",
    "    X_train[i,:,:] = img1\n",
    "    y_train[i] = 0 # 원은 0으로 나타내겠다\n",
    "    \n",
    "    img2 = cv2.imread('hard_handwriting_shape/train/rectangle/rectangle{0:03d}.png'.format(i+1), 0)\n",
    "    X_train[15+i,:,:] = img2\n",
    "    y_train[15+i] = 1 # 사각형은 1로 나타내겠다\n",
    "    \n",
    "    img3 = cv2.imread('hard_handwriting_shape/train/triangle/triangle{0:03d}.png'.format(i+1), 0)\n",
    "    X_train[30+i,:,:] = img3\n",
    "    y_train[30+i] = 2 # 삼각형은 2로 나타내겠다"
   ]
  },
  {
   "cell_type": "code",
   "execution_count": 5,
   "metadata": {
    "ExecuteTime": {
     "end_time": "2020-02-25T10:51:38.617080Z",
     "start_time": "2020-02-25T10:51:38.603085Z"
    }
   },
   "outputs": [],
   "source": [
    "X_test_easy = np.zeros((5*3, 24,24))\n",
    "y_test_easy = np.zeros(5*3)\n",
    "\n",
    "for i in range(5) :    \n",
    "    img1 = cv2.imread('hard_handwriting_shape/test_easy/circle/circle{0:03d}.png'.format(i+16), 0)        \n",
    "    X_test_easy[i,:,:] = img1\n",
    "    y_test_easy[i] = 0 # 원은 0으로 나타내겠다\n",
    "    \n",
    "    img2 = cv2.imread('hard_handwriting_shape/test_easy/rectangle/rectangle{0:03d}.png'.format(i+16), 0)        \n",
    "    X_test_easy[5+i,:,:] = img2\n",
    "    y_test_easy[5+i] = 1 # 사각형은 1로 나타내겠다\n",
    "\n",
    "    img3 = cv2.imread('hard_handwriting_shape/test_easy/triangle/triangle{0:03d}.png'.format(i+16), 0)        \n",
    "    X_test_easy[10+i,:,:] = img3\n",
    "    y_test_easy[10+i] = 2 # 삼각형은 2로 나타내겠다"
   ]
  },
  {
   "cell_type": "code",
   "execution_count": 6,
   "metadata": {
    "ExecuteTime": {
     "end_time": "2020-02-25T10:51:40.327508Z",
     "start_time": "2020-02-25T10:51:40.119027Z"
    }
   },
   "outputs": [
    {
     "data": {
      "image/png": "[encoded data removed]",
      "text/plain": [
       "<Figure size 432x288 with 1 Axes>"
      ]
     },
     "metadata": {
      "needs_background": "light"
     },
     "output_type": "display_data"
    },
    {
     "name": "stdout",
     "output_type": "stream",
     "text": [
      "Label:  2.0\n"
     ]
    }
   ],
   "source": [
    "plt.imshow(X_test_easy[14], cmap=\"gray\")    # show first number in the dataset\n",
    "plt.show()\n",
    "print('Label: ', y_test_easy[14])"
   ]
  },
  {
   "cell_type": "code",
   "execution_count": 7,
   "metadata": {
    "ExecuteTime": {
     "end_time": "2020-02-25T10:51:59.377825Z",
     "start_time": "2020-02-25T10:51:59.371842Z"
    }
   },
   "outputs": [
    {
     "name": "stdout",
     "output_type": "stream",
     "text": [
      "(45, 24, 24) (15, 24, 24) (45, 3) (15, 3)\n"
     ]
    }
   ],
   "source": [
    "y_train = to_categorical(y_train) # one-hot encoding\n",
    "y_test_easy = to_categorical(y_test_easy) # one-hot encoding\n",
    "print(X_train.shape, X_test_easy.shape, y_train.shape, y_test_easy.shape)"
   ]
  },
  {
   "cell_type": "code",
   "execution_count": 8,
   "metadata": {
    "ExecuteTime": {
     "end_time": "2020-02-25T10:53:49.289415Z",
     "start_time": "2020-02-25T10:53:49.284394Z"
    }
   },
   "outputs": [
    {
     "name": "stdout",
     "output_type": "stream",
     "text": [
      "(45, 24, 24, 1)\n",
      "(15, 24, 24, 1)\n",
      "(45, 3)\n",
      "(15, 3)\n"
     ]
    }
   ],
   "source": [
    "# 4차원으로 변경\n",
    "X_train =  X_train.reshape(-1, 24,24,1)    # (45, 24, 24) --> (45, 24, 24, 1)\n",
    "X_test_easy =  X_test_easy.reshape(-1, 24,24,1)  # (15, 24, 24) --> (15, 24, 24, 1)\n",
    "print(X_train.shape)\n",
    "print(X_test_easy.shape)\n",
    "print(y_train.shape)\n",
    "print(y_test_easy.shape)"
   ]
  },
  {
   "cell_type": "code",
   "execution_count": 9,
   "metadata": {
    "ExecuteTime": {
     "end_time": "2020-02-25T10:53:53.210891Z",
     "start_time": "2020-02-25T10:53:53.080238Z"
    }
   },
   "outputs": [
    {
     "data": {
      "image/png": "[encoded data removed]",
      "text/plain": [
       "<Figure size 432x288 with 1 Axes>"
      ]
     },
     "metadata": {
      "needs_background": "light"
     },
     "output_type": "display_data"
    }
   ],
   "source": [
    "plt.imshow(X_train[2,:,:,0], cmap=\"gray\") \n",
    "plt.show()"
   ]
  },
  {
   "cell_type": "code",
   "execution_count": 12,
   "metadata": {
    "ExecuteTime": {
     "end_time": "2020-02-03T07:18:23.271590Z",
     "start_time": "2020-02-03T07:18:20.821654Z"
    }
   },
   "outputs": [
    {
     "name": "stdout",
     "output_type": "stream",
     "text": [
      "WARNING:tensorflow:From C:\\Users\\jnh78\\Anaconda3\\envs\\tutorial\\lib\\site-packages\\tensorflow_core\\python\\ops\\resource_variable_ops.py:1630: calling BaseResourceVariable.__init__ (from tensorflow.python.ops.resource_variable_ops) with constraint is deprecated and will be removed in a future version.\n",
      "Instructions for updating:\n",
      "If using Keras pass *_constraint arguments to layers.\n",
      "WARNING:tensorflow:From C:\\Users\\jnh78\\Anaconda3\\envs\\tutorial\\lib\\site-packages\\keras\\backend\\tensorflow_backend.py:4070: The name tf.nn.max_pool is deprecated. Please use tf.nn.max_pool2d instead.\n",
      "\n"
     ]
    }
   ],
   "source": [
    "# 모델 구성하기\n",
    "model = Sequential()\n",
    "model.add(Conv2D(32, kernel_size=(3, 3),input_shape=(24,24,1)))\n",
    "model.add(BatchNormalization())\n",
    "model.add(Activation('relu'))\n",
    "\n",
    "model.add(Conv2D(64, (3, 3))) \n",
    "model.add(BatchNormalization())\n",
    "model.add(Activation('relu'))\n",
    "model.add(MaxPooling2D(pool_size=(2, 2)))\n",
    "\n",
    "\n",
    "model.add(Flatten())\n",
    "\n",
    "model.add(Dense(128))\n",
    "model.add(Activation('relu'))\n",
    "\n",
    "model.add(Dense(3, activation='softmax'))\n",
    "\n",
    "# 모델 엮기\n",
    "model.compile(loss='categorical_crossentropy', optimizer='adam', metrics=['accuracy'])"
   ]
  },
  {
   "cell_type": "code",
   "execution_count": 13,
   "metadata": {
    "ExecuteTime": {
     "end_time": "2020-02-03T07:19:51.823909Z",
     "start_time": "2020-02-03T07:19:38.671091Z"
    }
   },
   "outputs": [
    {
     "name": "stdout",
     "output_type": "stream",
     "text": [
      "WARNING:tensorflow:From C:\\Users\\jnh78\\Anaconda3\\envs\\tutorial\\lib\\site-packages\\keras\\backend\\tensorflow_backend.py:422: The name tf.global_variables is deprecated. Please use tf.compat.v1.global_variables instead.\n",
      "\n"
     ]
    }
   ],
   "source": [
    "# 모델 학습시키기 #1\n",
    "history = model.fit(X_train, y_train, batch_size = 15, epochs = 100, validation_data =(X_test_easy, y_test_easy), verbose = 0)"
   ]
  },
  {
   "cell_type": "code",
   "execution_count": 14,
   "metadata": {
    "ExecuteTime": {
     "end_time": "2020-02-03T07:58:27.511224Z",
     "start_time": "2020-02-03T07:58:27.040170Z"
    },
    "scrolled": false
   },
   "outputs": [
    {
     "data": {
      "image/png": "[encoded data removed]",
      "text/plain": [
       "<Figure size 432x288 with 1 Axes>"
      ]
     },
     "metadata": {
      "needs_background": "light"
     },
     "output_type": "display_data"
    },
    {
     "name": "stdout",
     "output_type": "stream",
     "text": [
      "15/15 [==============================] - 0s 5ms/step\n",
      "[0.1706986278295517, 0.9333333373069763]\n"
     ]
    }
   ],
   "source": [
    "plt.plot(history.history['accuracy'])\n",
    "plt.plot(history.history['val_accuracy'])\n",
    "plt.legend(['training', 'validation'], loc = 'upper left')\n",
    "plt.show()\n",
    "results = model.evaluate(X_test_easy, y_test_easy)\n",
    "print(results) # This code provides the tuple consisting of (loss) &  (accuracy)."
   ]
  },
  {
   "cell_type": "markdown",
   "metadata": {},
   "source": [
    "---"
   ]
  },
  {
   "cell_type": "markdown",
   "metadata": {},
   "source": [
    "## 더 어려운 데이터인 test데이터들로 하기"
   ]
  },
  {
   "cell_type": "code",
   "execution_count": 11,
   "metadata": {
    "ExecuteTime": {
     "end_time": "2020-01-22T04:58:08.506031Z",
     "start_time": "2020-01-22T04:58:08.490602Z"
    }
   },
   "outputs": [],
   "source": [
    "X_test = np.zeros((5*3, 24,24))\n",
    "y_test = np.zeros(5*3)\n",
    "\n",
    "for i in range(5) :    \n",
    "    img1 = cv2.imread('hard_handwriting_shape/test/circle/circle{0:03d}.png'.format(i+21), 0)        \n",
    "    X_test[i,:,:] = img1\n",
    "    y_test[i] = 0\n",
    "    \n",
    "    img2 = cv2.imread('hard_handwriting_shape/test/rectangle/rectangle{0:03d}.png'.format(i+21), 0)        \n",
    "    X_test[5+i,:,:] = img2\n",
    "    y_test[5+i] = 1\n",
    "\n",
    "    img3 = cv2.imread('hard_handwriting_shape/test/triangle/triangle{0:03d}.png'.format(i+21), 0)        \n",
    "    X_test[10+i,:,:] = img3\n",
    "    y_test[10+i] = 2"
   ]
  },
  {
   "cell_type": "code",
   "execution_count": 12,
   "metadata": {
    "ExecuteTime": {
     "end_time": "2020-01-22T04:58:08.510610Z",
     "start_time": "2020-01-22T04:58:08.507603Z"
    }
   },
   "outputs": [
    {
     "name": "stdout",
     "output_type": "stream",
     "text": [
      "(15, 24, 24) (15, 3)\n"
     ]
    }
   ],
   "source": [
    "y_test = to_categorical(y_test)\n",
    "print(X_test.shape,  y_test.shape)"
   ]
  },
  {
   "cell_type": "code",
   "execution_count": 13,
   "metadata": {
    "ExecuteTime": {
     "end_time": "2020-01-22T04:58:08.516548Z",
     "start_time": "2020-01-22T04:58:08.512544Z"
    }
   },
   "outputs": [
    {
     "name": "stdout",
     "output_type": "stream",
     "text": [
      "(15, 24, 24, 1)\n",
      "(15, 3)\n"
     ]
    }
   ],
   "source": [
    "X_test =  X_test.reshape(-1, 24,24,1)\n",
    "print(X_test.shape)\n",
    "print(y_test.shape)"
   ]
  },
  {
   "cell_type": "code",
   "execution_count": 14,
   "metadata": {
    "ExecuteTime": {
     "end_time": "2020-01-22T04:58:14.358017Z",
     "start_time": "2020-01-22T04:58:08.517530Z"
    }
   },
   "outputs": [],
   "source": [
    "# 모델 학습시키기 #1\n",
    "history = model.fit(X_train, y_train, batch_size = 15, epochs = 100, validation_data =(X_test, y_test), verbose = 0)"
   ]
  },
  {
   "cell_type": "code",
   "execution_count": 15,
   "metadata": {
    "ExecuteTime": {
     "end_time": "2020-01-22T04:58:14.470929Z",
     "start_time": "2020-01-22T04:58:14.358017Z"
    }
   },
   "outputs": [
    {
     "data": {
      "image/png": "[encoded data removed]",
      "text/plain": [
       "<Figure size 432x288 with 1 Axes>"
      ]
     },
     "metadata": {
      "needs_background": "light"
     },
     "output_type": "display_data"
    },
    {
     "name": "stdout",
     "output_type": "stream",
     "text": [
      "15/15 [==============================] - 0s 260us/step\n",
      "[7.375422477722168, 0.46666666865348816]\n"
     ]
    }
   ],
   "source": [
    "plt.plot(history.history['accuracy'])\n",
    "plt.plot(history.history['val_accuracy'])\n",
    "plt.legend(['training', 'validation'], loc = 'upper left')\n",
    "plt.show()\n",
    "results = model.evaluate(X_test, y_test)\n",
    "print(results)"
   ]
  },
  {
   "cell_type": "code",
   "execution_count": 16,
   "metadata": {
    "ExecuteTime": {
     "end_time": "2020-01-22T04:58:14.478789Z",
     "start_time": "2020-01-22T04:58:14.471836Z"
    },
    "scrolled": false
   },
   "outputs": [
    {
     "name": "stdout",
     "output_type": "stream",
     "text": [
      "Model: \"sequential_1\"\n",
      "_________________________________________________________________\n",
      "Layer (type)                 Output Shape              Param #   \n",
      "=================================================================\n",
      "conv2d_1 (Conv2D)            (None, 22, 22, 32)        320       \n",
      "_________________________________________________________________\n",
      "batch_normalization_1 (Batch (None, 22, 22, 32)        128       \n",
      "_________________________________________________________________\n",
      "activation_1 (Activation)    (None, 22, 22, 32)        0         \n",
      "_________________________________________________________________\n",
      "conv2d_2 (Conv2D)            (None, 20, 20, 64)        18496     \n",
      "_________________________________________________________________\n",
      "batch_normalization_2 (Batch (None, 20, 20, 64)        256       \n",
      "_________________________________________________________________\n",
      "activation_2 (Activation)    (None, 20, 20, 64)        0         \n",
      "_________________________________________________________________\n",
      "max_pooling2d_1 (MaxPooling2 (None, 10, 10, 64)        0         \n",
      "_________________________________________________________________\n",
      "flatten_1 (Flatten)          (None, 6400)              0         \n",
      "_________________________________________________________________\n",
      "dense_1 (Dense)              (None, 128)               819328    \n",
      "_________________________________________________________________\n",
      "activation_3 (Activation)    (None, 128)               0         \n",
      "_________________________________________________________________\n",
      "dense_2 (Dense)              (None, 3)                 387       \n",
      "=================================================================\n",
      "Total params: 838,915\n",
      "Trainable params: 838,723\n",
      "Non-trainable params: 192\n",
      "_________________________________________________________________\n"
     ]
    }
   ],
   "source": [
    "model.summary()"
   ]
  },
  {
   "cell_type": "markdown",
   "metadata": {},
   "source": [
    "## filter가 뭐였는지 알아보기\n",
    "https://stackoverflow.com/questions/53503389/how-to-set-parameters-in-keras-to-be-non-trainable"
   ]
  },
  {
   "cell_type": "code",
   "execution_count": 17,
   "metadata": {
    "ExecuteTime": {
     "end_time": "2020-01-22T04:58:14.485770Z",
     "start_time": "2020-01-22T04:58:14.479786Z"
    },
    "scrolled": false
   },
   "outputs": [
    {
     "name": "stdout",
     "output_type": "stream",
     "text": [
      "conv2d_1\n",
      "True\n",
      "batch_normalization_1\n",
      "True\n",
      "activation_1\n",
      "True\n",
      "conv2d_2\n",
      "True\n",
      "batch_normalization_2\n",
      "True\n",
      "activation_2\n",
      "True\n",
      "max_pooling2d_1\n",
      "True\n",
      "flatten_1\n",
      "True\n",
      "dense_1\n",
      "True\n",
      "activation_3\n",
      "True\n",
      "dense_2\n",
      "True\n"
     ]
    }
   ],
   "source": [
    "for l in model.layers:\n",
    "    print(l.name)\n",
    "    print(l.trainable) # 학습을 하는 과정에서 parameter들을 바꾸는 것들 "
   ]
  },
  {
   "cell_type": "code",
   "execution_count": 18,
   "metadata": {
    "ExecuteTime": {
     "end_time": "2020-01-22T04:58:14.540696Z",
     "start_time": "2020-01-22T04:58:14.486767Z"
    },
    "scrolled": true
   },
   "outputs": [
    {
     "name": "stdout",
     "output_type": "stream",
     "text": [
      "(3, 3, 1, 32)\n",
      "(32,)\n",
      "0.0001314186\n",
      "[[ 0.03630345  0.06496654 -0.00901261]\n",
      " [ 0.06177316  0.04208034  0.13021365]\n",
      " [ 0.07122957  0.0075383  -0.0417733 ]]\n",
      "[[-0.07785022 -0.12866041  0.0247063 ]\n",
      " [ 0.05664395  0.09307297 -0.12902838]\n",
      " [-0.11578154 -0.13359186 -0.14215678]]\n",
      "[array([[[[ 0.03630345, -0.07785022, -0.05075116, -0.10983228,\n",
      "          -0.10207868, -0.05899776,  0.09279389, -0.01237613,\n",
      "          -0.09645763,  0.13543802, -0.05313732,  0.1126999 ,\n",
      "          -0.02114895, -0.00122262,  0.02989903,  0.03852498,\n",
      "          -0.12702346, -0.137651  ,  0.02947288, -0.04888759,\n",
      "           0.03949951, -0.0003673 , -0.11670654,  0.02768966,\n",
      "          -0.10918019,  0.13363113,  0.1593071 ,  0.10567673,\n",
      "           0.09401499, -0.11319916,  0.13172124,  0.04012087]],\n",
      "\n",
      "        [[ 0.06496654, -0.12866041,  0.03037004, -0.02387207,\n",
      "           0.00059847, -0.11813046, -0.07982048,  0.07522371,\n",
      "           0.01755857,  0.14530408, -0.11083119, -0.08418126,\n",
      "          -0.05065912, -0.07881035,  0.04811529, -0.08803642,\n",
      "           0.06101626,  0.04567088, -0.11174934, -0.07400822,\n",
      "          -0.01319276,  0.10098699,  0.00885353,  0.11767987,\n",
      "           0.14365543,  0.01096635, -0.10813752, -0.06310871,\n",
      "           0.05612757, -0.03359441,  0.01026093, -0.14583987]],\n",
      "\n",
      "        [[-0.00901261,  0.0247063 , -0.05059053,  0.04699145,\n",
      "           0.07981721, -0.11393461, -0.07692263, -0.13496938,\n",
      "           0.05431394, -0.1136117 ,  0.08305565, -0.06986754,\n",
      "          -0.10424318,  0.05051991, -0.11870822, -0.10809746,\n",
      "          -0.03390927, -0.05730433, -0.03438956,  0.1377269 ,\n",
      "          -0.10636041,  0.11953317, -0.12633198,  0.09502569,\n",
      "          -0.11016364, -0.10383229,  0.06855587,  0.06371108,\n",
      "          -0.06709497, -0.12974076, -0.12405352, -0.09791721]]],\n",
      "\n",
      "\n",
      "       [[[ 0.06177316,  0.05664395,  0.03901038, -0.07916098,\n",
      "          -0.11588835, -0.08725226,  0.04525383, -0.10501553,\n",
      "           0.13735364,  0.05694   ,  0.05425356,  0.07909204,\n",
      "           0.14071497, -0.09569803,  0.07068662,  0.10136394,\n",
      "          -0.03596773, -0.10352165,  0.05162742,  0.00066406,\n",
      "          -0.05189249,  0.13644633, -0.14451411, -0.01216246,\n",
      "          -0.06897181,  0.141256  ,  0.03883142, -0.13128674,\n",
      "           0.09462728,  0.10960883,  0.03002035, -0.12871543]],\n",
      "\n",
      "        [[ 0.04208034,  0.09307297,  0.03929394, -0.06058916,\n",
      "          -0.03648225, -0.07056043,  0.01597507, -0.02079047,\n",
      "          -0.0278169 ,  0.082715  , -0.04488276,  0.02781175,\n",
      "           0.09373723,  0.08008845, -0.09869692, -0.01150892,\n",
      "          -0.06657661,  0.03047288, -0.04981338, -0.07564712,\n",
      "           0.00868314, -0.1277078 ,  0.05488509,  0.03643725,\n",
      "          -0.11565693, -0.0211679 ,  0.14019382,  0.12131499,\n",
      "          -0.08616599,  0.05258941, -0.14228588, -0.06759086]],\n",
      "\n",
      "        [[ 0.13021365, -0.12902838,  0.03966689, -0.06069286,\n",
      "          -0.10936445,  0.10850878,  0.11393517,  0.08486122,\n",
      "          -0.05948065,  0.10749231, -0.01785367, -0.10335561,\n",
      "          -0.04878782,  0.02201824,  0.07791047, -0.03884337,\n",
      "           0.10910179,  0.07799259, -0.04072584,  0.04606231,\n",
      "          -0.07641885,  0.00921361,  0.10741401,  0.06361823,\n",
      "           0.10458219, -0.01365731, -0.05725   , -0.11488213,\n",
      "           0.01227518,  0.03963305,  0.0817243 , -0.02818896]]],\n",
      "\n",
      "\n",
      "       [[[ 0.07122957, -0.11578154,  0.05497449, -0.07084806,\n",
      "          -0.14846757, -0.12420717,  0.1275244 ,  0.10166834,\n",
      "           0.10802158, -0.13733791,  0.01522577,  0.01553578,\n",
      "           0.00982115,  0.03553802, -0.1412578 ,  0.02509032,\n",
      "           0.12459317, -0.06446326, -0.03946545,  0.02439294,\n",
      "          -0.12343476, -0.04907853, -0.13338508, -0.06009725,\n",
      "          -0.13522524,  0.049913  , -0.13652194, -0.13202433,\n",
      "          -0.04821541, -0.09101979, -0.11024074,  0.00884216]],\n",
      "\n",
      "        [[ 0.0075383 , -0.13359186, -0.00531629, -0.04370494,\n",
      "           0.08984076, -0.13205606,  0.09262585, -0.09962797,\n",
      "           0.0506629 , -0.06713654,  0.03586762, -0.080824  ,\n",
      "           0.05476625,  0.11604423, -0.03216369,  0.04485627,\n",
      "          -0.04040494, -0.08721106,  0.0656202 , -0.05926837,\n",
      "          -0.05065668, -0.04549556, -0.01944711,  0.02363345,\n",
      "          -0.01879231, -0.07050813, -0.01922771, -0.04547107,\n",
      "          -0.00772464, -0.06281973,  0.13109921,  0.02233465]],\n",
      "\n",
      "        [[-0.0417733 , -0.14215678,  0.10274519, -0.01204564,\n",
      "           0.08451074, -0.12313061, -0.12881237, -0.02020622,\n",
      "           0.01753018, -0.08996271, -0.09419049,  0.11485359,\n",
      "           0.0754144 , -0.06958158, -0.1173177 ,  0.01807371,\n",
      "          -0.09461184, -0.02552475, -0.09577277,  0.08715522,\n",
      "           0.08071658, -0.01865903, -0.0410798 , -0.01504256,\n",
      "           0.0074606 , -0.0392234 , -0.0784649 , -0.03996633,\n",
      "          -0.0131585 , -0.05918317, -0.03075643, -0.1012002 ]]]],\n",
      "      dtype=float32), array([ 1.3141859e-04, -5.5137405e-04, -7.1841700e-04, -1.0348010e-04,\n",
      "        4.3055369e-04,  5.4821779e-04, -1.6491706e-04,  2.3725671e-03,\n",
      "       -4.3745557e-04, -3.8873401e-04, -8.1514940e-04, -1.3868776e-04,\n",
      "       -5.9878235e-05, -3.1684595e-04, -3.2589807e-05, -3.1660468e-04,\n",
      "        2.8281852e-03,  8.7734545e-04,  1.8849083e-03, -2.2434386e-04,\n",
      "        6.3072873e-04, -7.9767004e-04, -3.5895823e-04, -2.1233846e-04,\n",
      "       -4.0280150e-04, -8.8736982e-05,  2.4515897e-04,  2.5748385e-03,\n",
      "       -4.5412569e-04,  7.8185066e-04,  4.0271529e-04, -1.4394044e-04],\n",
      "      dtype=float32)]\n"
     ]
    }
   ],
   "source": [
    "w = model.layers[0].get_weights()\n",
    "print(w[0].shape)\n",
    "print(w[1].shape) # bias의 개수\n",
    "print(w[1][0]) # 0번째 필터의 bias\n",
    "\n",
    "print(w[0][:,:,0,0]) # 학습된 필터\n",
    "print(w[0][:,:,0,1]) # 학습된 필터\n",
    "print(w)"
   ]
  },
  {
   "cell_type": "code",
   "execution_count": 19,
   "metadata": {
    "ExecuteTime": {
     "end_time": "2020-01-22T04:58:14.546607Z",
     "start_time": "2020-01-22T04:58:14.541622Z"
    }
   },
   "outputs": [
    {
     "data": {
      "text/plain": [
       "<tf.Tensor 'conv2d_1/BiasAdd:0' shape=(None, 22, 22, 32) dtype=float32>"
      ]
     },
     "execution_count": 19,
     "metadata": {},
     "output_type": "execute_result"
    }
   ],
   "source": [
    "# filter 적용하고 bias까지 다 더해진 상태\n",
    "model.layers[0].output\n",
    "\n",
    "# output이 밑에처럼 나오는데\n",
    "# <tf.Tensor 'conv2d_1/BiasAdd:0' shape=(None, 22, 22, 32) dtype=float32>\n",
    "# 여기서 BiasAdd:0은 bias가 0이 아니라 conv2d_1/BiasAdd 텐서의 이름이 '0'이라는 뜻!"
   ]
  },
  {
   "cell_type": "code",
   "execution_count": 20,
   "metadata": {
    "ExecuteTime": {
     "end_time": "2020-01-22T04:58:14.812905Z",
     "start_time": "2020-01-22T04:58:14.547672Z"
    },
    "scrolled": false
   },
   "outputs": [
    {
     "name": "stdout",
     "output_type": "stream",
     "text": [
      "(15, 22, 22, 32)\n"
     ]
    },
    {
     "data": {
      "image/png": "[encoded data removed]",
      "text/plain": [
       "<Figure size 432x288 with 1 Axes>"
      ]
     },
     "metadata": {
      "needs_background": "light"
     },
     "output_type": "display_data"
    },
    {
     "data": {
      "image/png": "[encoded data removed]",
      "text/plain": [
       "<Figure size 432x288 with 1 Axes>"
      ]
     },
     "metadata": {
      "needs_background": "light"
     },
     "output_type": "display_data"
    },
    {
     "data": {
      "image/png": "[encoded data removed]",
      "text/plain": [
       "<Figure size 432x288 with 1 Axes>"
      ]
     },
     "metadata": {
      "needs_background": "light"
     },
     "output_type": "display_data"
    }
   ],
   "source": [
    "from keras.models import Model\n",
    "\n",
    "my_layer_model = Model(inputs=model.input,\n",
    "                      outputs=model.layers[0].output) # 그릇이 24 x 24 x 1\n",
    "output = my_layer_model.predict(X_test)\n",
    "# predict는 메모리에 담지않고 그냥 흘려보냄 --> 최종 결과값만 받음\n",
    "\n",
    "print(output.shape)\n",
    "\n",
    "\n",
    "# plt.imshow(X_test[0,:,:,0], cmap='gray')\n",
    "# plt.show()\n",
    "# plt.imshow(output[0,:,:,0], cmap='gray')\n",
    "# # 0번째 이미지\n",
    "# # 0번째 필터\n",
    "# # 출력 = 0번째 이미지*(0번째 필터+b)\n",
    "\n",
    "\n",
    "\n",
    "\n",
    "iFilter = 5\n",
    "iImg = 1\n",
    "\n",
    "# 원본 이미지(1번 이미지)\n",
    "plt.imshow(X_test[iImg,:,:,0], cmap='gray')\n",
    "plt.show()\n",
    "# filter\n",
    "w = model.layers[0].get_weights()\n",
    "w = w[0]\n",
    "f = w[:,:,0,iFilter]\n",
    "plt.imshow(f, cmap='gray')\n",
    "plt.show()\n",
    "\n",
    "# 원본 이미지에 적용한 출력\n",
    "plt.imshow(output[iImg,:,:,0], cmap='gray')\n",
    "plt.show()\n",
    "\n",
    "\n",
    "# 1번째 이미지\n",
    "# 5번째 필터\n",
    "# 출력 = 0번째 이미지*(0번째 필터+b)\n",
    "\n"
   ]
  },
  {
   "cell_type": "code",
   "execution_count": 21,
   "metadata": {
    "ExecuteTime": {
     "end_time": "2020-01-22T04:58:14.928587Z",
     "start_time": "2020-01-22T04:58:14.813892Z"
    }
   },
   "outputs": [
    {
     "name": "stdout",
     "output_type": "stream",
     "text": [
      "(15, 6400)\n",
      "(15, 6400)\n"
     ]
    }
   ],
   "source": [
    "# flatten으로 길게 늘어뜨려놓은 영상\n",
    "\n",
    "my_layer_model = Model(inputs=model.input,\n",
    "                      outputs=model.layers[7].output)    # 위의 summary에서 flatten이 8번째이므로 index는 7이다.\n",
    "output = my_layer_model.predict(X_test)\n",
    "# predict는 메모리에 담지않고 그냥 흘려보냄 --> 최종 결과값만 받음\n",
    "\n",
    "print(output.shape)\n",
    "\n",
    "\n",
    "\n",
    "########################################################################\n",
    "# 더 나은 방법\n",
    "\n",
    "my_layer_model = Model(inputs=model.input,\n",
    "                      outputs=model.get_layer(\"flatten_1\").output) # 위의 summary에서 올려다보면 flatten의 이름을 보고 알 수 있음\n",
    "output = my_layer_model.predict(X_test)\n",
    "# predict는 메모리에 담지않고 그냥 흘려보냄 --> 최종 결과값만 받음\n",
    "\n",
    "print(output.shape)"
   ]
  },
  {
   "cell_type": "code",
   "execution_count": 32,
   "metadata": {
    "ExecuteTime": {
     "end_time": "2020-01-22T05:04:37.431797Z",
     "start_time": "2020-01-22T05:04:37.360002Z"
    }
   },
   "outputs": [
    {
     "name": "stdout",
     "output_type": "stream",
     "text": [
      "(15, 3)\n",
      "[0 0 0 0 0 0 1 0 0 0 0 0 0 0 2]\n",
      "[0 0 0 0 0 1 1 1 1 1 2 2 2 2 2]\n",
      "\n",
      "\n",
      "맞춘 개수 =  7\n",
      "인식률 =  0.4666666666666667\n"
     ]
    }
   ],
   "source": [
    "my_layer_model = Model(inputs=model.input,\n",
    "                      outputs=model.get_layer(\"dense_2\").output) # 위의 summary에서 올려다보면 flatten의 이름을 보고 알 수 있음\n",
    "output = my_layer_model.predict(X_test)\n",
    "# predict는 메모리에 담지않고 그냥 흘려보냄 --> 최종 결과값만 받음\n",
    "\n",
    "print(output.shape)\n",
    "p = np.argmax(output, axis=1)\n",
    "T = np.argmax(y_test, axis = 1)\n",
    "\n",
    "print(p)\n",
    "print(T)\n",
    "print('\\n')\n",
    "print(\"맞춘 개수 = \", np.sum((p == T)*1))\n",
    "print(\"인식률 = \", np.sum((p == T)*1)/len(p))"
   ]
  }
 ],
 "metadata": {
  "kernelspec": {
   "display_name": "Python 3",
   "language": "python",
   "name": "python3"
  },
  "varInspector": {
   "cols": {
    "lenName": 16,
    "lenType": 16,
    "lenVar": 40
   },
   "kernels_config": {
    "python": {
     "delete_cmd_postfix": "",
     "delete_cmd_prefix": "del ",
     "library": "var_list.py",
     "varRefreshCmd": "print(var_dic_list())"
    },
    "r": {
     "delete_cmd_postfix": ") ",
     "delete_cmd_prefix": "rm(",
     "library": "var_list.r",
     "varRefreshCmd": "cat(var_dic_list()) "
    }
   },
   "position": {
    "height": "353.722px",
    "left": "1375.45px",
    "right": "20px",
    "top": "120px",
    "width": "350px"
   },
   "types_to_exclude": [
    "module",
    "function",
    "builtin_function_or_method",
    "instance",
    "_Feature"
   ],
   "window_display": false
  }
 },
 "nbformat": 4,
 "nbformat_minor": 2
}
