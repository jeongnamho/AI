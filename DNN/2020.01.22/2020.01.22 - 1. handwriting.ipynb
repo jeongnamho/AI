{
 "cells": [
  {
   "cell_type": "markdown",
   "metadata": {},
   "source": [
    "## Goal\n",
    "\n",
    "CNN으로 handwriting을 인식해보기"
   ]
  },
  {
   "cell_type": "code",
   "execution_count": 70,
   "metadata": {
    "ExecuteTime": {
     "end_time": "2020-02-27T08:34:53.408744Z",
     "start_time": "2020-02-27T08:34:53.396734Z"
    }
   },
   "outputs": [],
   "source": [
    "import numpy as np\n",
    "import tensorflow as tf\n",
    "from matplotlib import pyplot as plt\n",
    "%matplotlib inline\n",
    "plt.rc(\"font\", family = \"Malgun Gothic\")\n",
    "import matplotlib as mpl\n",
    "mpl.rcParams['axes.unicode_minus'] = False\n",
    "\n",
    "# 글씨가 뭉게져서 보이는 것 같으면 아래의 설정을 통해서 개선할 수 있음\n",
    "from IPython.display import set_matplotlib_formats\n",
    "set_matplotlib_formats('retina')\n",
    "\n",
    "from keras.models import Sequential\n",
    "from keras.layers import Dense\n",
    "from keras.layers import Flatten\n",
    "from keras.layers.convolutional import Conv2D\n",
    "from keras.layers.convolutional import MaxPooling2D\n",
    "from keras.models import Sequential\n",
    "from keras.layers import Activation, Dense\n",
    "from keras import optimizers\n",
    "from keras.layers import BatchNormalization\n",
    "from keras.layers import Dropout\n",
    "from keras.utils.np_utils import to_categorical\n",
    "from keras.layers import BatchNormalization, Dropout\n",
    "import cv2\n"
   ]
  },
  {
   "cell_type": "code",
   "execution_count": 2,
   "metadata": {
    "ExecuteTime": {
     "end_time": "2020-02-27T05:42:22.654216Z",
     "start_time": "2020-02-27T05:42:22.648211Z"
    }
   },
   "outputs": [
    {
     "name": "stdout",
     "output_type": "stream",
     "text": [
      "[[[0. 0.]]\n",
      "\n",
      " [[0. 0.]]\n",
      "\n",
      " [[0. 0.]]]\n"
     ]
    }
   ],
   "source": [
    "x = np.zeros((3,1,2))\n",
    "print(x)"
   ]
  },
  {
   "cell_type": "markdown",
   "metadata": {},
   "source": [
    "### 간단한 이해\n",
    "<img src=1.jpg width=400>"
   ]
  },
  {
   "cell_type": "code",
   "execution_count": 3,
   "metadata": {
    "ExecuteTime": {
     "end_time": "2020-02-27T05:42:22.809930Z",
     "start_time": "2020-02-27T05:42:22.656199Z"
    }
   },
   "outputs": [],
   "source": [
    "# 15*3은 원,사각형,삼각형의 총 개수 / 24,24는 각 이미지의 grayscale의 사이즈가 (24,24)이어서\n",
    "X_train = np.zeros((15*3, 24,24)) \n",
    "y_train = np.zeros(15*3)\n",
    "\n",
    "for i in range(15) :\n",
    "    img1 = cv2.imread('hard_handwriting_shape/train/circle/circle{0:03d}.png'.format(i+1), 0)\n",
    "    X_train[i,:,:] = img1\n",
    "    y_train[i] = 0 # 원은 0으로 나타내겠다\n",
    "    \n",
    "    img2 = cv2.imread('hard_handwriting_shape/train/rectangle/rectangle{0:03d}.png'.format(i+1), 0)\n",
    "    X_train[15+i,:,:] = img2\n",
    "    y_train[15+i] = 1 # 사각형은 1로 나타내겠다\n",
    "    \n",
    "    img3 = cv2.imread('hard_handwriting_shape/train/triangle/triangle{0:03d}.png'.format(i+1), 0)\n",
    "    X_train[30+i,:,:] = img3\n",
    "    y_train[30+i] = 2 # 삼각형은 2로 나타내겠다"
   ]
  },
  {
   "cell_type": "code",
   "execution_count": 4,
   "metadata": {
    "ExecuteTime": {
     "end_time": "2020-02-27T05:42:22.862859Z",
     "start_time": "2020-02-27T05:42:22.811863Z"
    }
   },
   "outputs": [],
   "source": [
    "X_test_easy = np.zeros((5*3, 24,24))\n",
    "y_test_easy = np.zeros(5*3)\n",
    "\n",
    "for i in range(5) :    \n",
    "    img1 = cv2.imread('hard_handwriting_shape/test_easy/circle/circle{0:03d}.png'.format(i+16), 0)        \n",
    "    X_test_easy[i,:,:] = img1\n",
    "    y_test_easy[i] = 0 # 원은 0으로 나타내겠다\n",
    "    \n",
    "    img2 = cv2.imread('hard_handwriting_shape/test_easy/rectangle/rectangle{0:03d}.png'.format(i+16), 0)        \n",
    "    X_test_easy[5+i,:,:] = img2\n",
    "    y_test_easy[5+i] = 1 # 사각형은 1로 나타내겠다\n",
    "\n",
    "    img3 = cv2.imread('hard_handwriting_shape/test_easy/triangle/triangle{0:03d}.png'.format(i+16), 0)        \n",
    "    X_test_easy[10+i,:,:] = img3\n",
    "    y_test_easy[10+i] = 2 # 삼각형은 2로 나타내겠다"
   ]
  },
  {
   "cell_type": "code",
   "execution_count": 5,
   "metadata": {
    "ExecuteTime": {
     "end_time": "2020-02-27T05:42:23.088054Z",
     "start_time": "2020-02-27T05:42:22.867842Z"
    }
   },
   "outputs": [
    {
     "data": {
      "image/png": "[encoded data removed]",
      "text/plain": [
       "<Figure size 432x288 with 1 Axes>"
      ]
     },
     "metadata": {
      "needs_background": "light"
     },
     "output_type": "display_data"
    },
    {
     "name": "stdout",
     "output_type": "stream",
     "text": [
      "Label:  2.0\n"
     ]
    }
   ],
   "source": [
    "plt.imshow(X_test_easy[14], cmap=\"gray\")    # show first number in the dataset\n",
    "plt.show()\n",
    "print('Label: ', y_test_easy[14])"
   ]
  },
  {
   "cell_type": "code",
   "execution_count": 6,
   "metadata": {
    "ExecuteTime": {
     "end_time": "2020-02-27T05:42:23.098272Z",
     "start_time": "2020-02-27T05:42:23.091048Z"
    }
   },
   "outputs": [
    {
     "name": "stdout",
     "output_type": "stream",
     "text": [
      "(45, 24, 24) (15, 24, 24) (45, 3) (15, 3)\n"
     ]
    }
   ],
   "source": [
    "y_train = to_categorical(y_train) # one-hot encoding\n",
    "y_test_easy = to_categorical(y_test_easy) # one-hot encoding\n",
    "print(X_train.shape, X_test_easy.shape, y_train.shape, y_test_easy.shape)"
   ]
  },
  {
   "cell_type": "code",
   "execution_count": 7,
   "metadata": {
    "ExecuteTime": {
     "end_time": "2020-02-27T05:42:23.106259Z",
     "start_time": "2020-02-27T05:42:23.101281Z"
    }
   },
   "outputs": [
    {
     "name": "stdout",
     "output_type": "stream",
     "text": [
      "(45, 24, 24, 1)\n",
      "(15, 24, 24, 1)\n",
      "(45, 3)\n",
      "(15, 3)\n"
     ]
    }
   ],
   "source": [
    "# 4차원으로 변경\n",
    "X_train =  X_train.reshape(-1, 24,24,1)    # (45, 24, 24) --> (45, 24, 24, 1)\n",
    "X_test_easy =  X_test_easy.reshape(-1, 24,24,1)  # (15, 24, 24) --> (15, 24, 24, 1)\n",
    "print(X_train.shape)\n",
    "print(X_test_easy.shape)\n",
    "print(y_train.shape)\n",
    "print(y_test_easy.shape)"
   ]
  },
  {
   "cell_type": "code",
   "execution_count": 8,
   "metadata": {
    "ExecuteTime": {
     "end_time": "2020-02-27T05:42:23.240502Z",
     "start_time": "2020-02-27T05:42:23.108245Z"
    }
   },
   "outputs": [
    {
     "data": {
      "image/png": "[encoded data removed]",
      "text/plain": [
       "<Figure size 432x288 with 1 Axes>"
      ]
     },
     "metadata": {
      "needs_background": "light"
     },
     "output_type": "display_data"
    }
   ],
   "source": [
    "plt.imshow(X_train[2,:,:,0], cmap=\"gray\") \n",
    "plt.show()"
   ]
  },
  {
   "cell_type": "code",
   "execution_count": 9,
   "metadata": {
    "ExecuteTime": {
     "end_time": "2020-02-27T05:42:24.372436Z",
     "start_time": "2020-02-27T05:42:23.242498Z"
    }
   },
   "outputs": [
    {
     "name": "stdout",
     "output_type": "stream",
     "text": [
      "WARNING:tensorflow:From C:\\Users\\jnh78\\Anaconda3\\envs\\tutorial\\lib\\site-packages\\tensorflow_core\\python\\ops\\resource_variable_ops.py:1630: calling BaseResourceVariable.__init__ (from tensorflow.python.ops.resource_variable_ops) with constraint is deprecated and will be removed in a future version.\n",
      "Instructions for updating:\n",
      "If using Keras pass *_constraint arguments to layers.\n",
      "WARNING:tensorflow:From C:\\Users\\jnh78\\Anaconda3\\envs\\tutorial\\lib\\site-packages\\keras\\backend\\tensorflow_backend.py:4070: The name tf.nn.max_pool is deprecated. Please use tf.nn.max_pool2d instead.\n",
      "\n"
     ]
    }
   ],
   "source": [
    "# 모델 구성하기\n",
    "model = Sequential()\n",
    "model.add(Conv2D(32, kernel_size=(3, 3),input_shape=(24,24,1)))\n",
    "model.add(BatchNormalization())\n",
    "model.add(Activation('relu'))\n",
    "\n",
    "model.add(Conv2D(64, (3, 3))) \n",
    "model.add(BatchNormalization())\n",
    "model.add(Activation('relu'))\n",
    "model.add(MaxPooling2D(pool_size=(2, 2)))\n",
    "\n",
    "\n",
    "model.add(Flatten())\n",
    "\n",
    "model.add(Dense(128))\n",
    "model.add(Activation('relu'))\n",
    "\n",
    "model.add(Dense(3, activation='softmax'))\n",
    "\n",
    "# 모델 엮기\n",
    "model.compile(loss='categorical_crossentropy', optimizer='adam', metrics=['accuracy'])"
   ]
  },
  {
   "cell_type": "code",
   "execution_count": 10,
   "metadata": {
    "ExecuteTime": {
     "end_time": "2020-02-27T05:42:38.700989Z",
     "start_time": "2020-02-27T05:42:24.374368Z"
    }
   },
   "outputs": [
    {
     "name": "stdout",
     "output_type": "stream",
     "text": [
      "WARNING:tensorflow:From C:\\Users\\jnh78\\Anaconda3\\envs\\tutorial\\lib\\site-packages\\keras\\backend\\tensorflow_backend.py:422: The name tf.global_variables is deprecated. Please use tf.compat.v1.global_variables instead.\n",
      "\n"
     ]
    }
   ],
   "source": [
    "# 모델 학습시키기 #1\n",
    "history = model.fit(X_train, y_train, batch_size = 15, epochs = 100, validation_data =(X_test_easy, y_test_easy), verbose = 0)"
   ]
  },
  {
   "cell_type": "code",
   "execution_count": 11,
   "metadata": {
    "ExecuteTime": {
     "end_time": "2020-02-27T05:42:38.887817Z",
     "start_time": "2020-02-27T05:42:38.702984Z"
    },
    "scrolled": false
   },
   "outputs": [
    {
     "data": {
      "image/png": "[encoded data removed]",
      "text/plain": [
       "<Figure size 432x288 with 1 Axes>"
      ]
     },
     "metadata": {
      "needs_background": "light"
     },
     "output_type": "display_data"
    },
    {
     "name": "stdout",
     "output_type": "stream",
     "text": [
      "15/15 [==============================] - 0s 663us/step\n",
      "[0.32688573002815247, 0.9333333373069763]\n"
     ]
    }
   ],
   "source": [
    "plt.plot(history.history['accuracy'])\n",
    "plt.plot(history.history['val_accuracy'])\n",
    "plt.legend(['training', 'validation'], loc = 'upper left')\n",
    "plt.show()\n",
    "results = model.evaluate(X_test_easy, y_test_easy)\n",
    "print(results) # This code provides the tuple consisting of (loss) &  (accuracy)."
   ]
  },
  {
   "cell_type": "markdown",
   "metadata": {},
   "source": [
    "---"
   ]
  },
  {
   "cell_type": "markdown",
   "metadata": {},
   "source": [
    "## 더 어려운 데이터인 test데이터들로 하기"
   ]
  },
  {
   "cell_type": "code",
   "execution_count": 12,
   "metadata": {
    "ExecuteTime": {
     "end_time": "2020-02-27T05:42:38.938569Z",
     "start_time": "2020-02-27T05:42:38.888775Z"
    }
   },
   "outputs": [],
   "source": [
    "X_test = np.zeros((5*3, 24,24))\n",
    "y_test = np.zeros(5*3)\n",
    "\n",
    "for i in range(5) :    \n",
    "    img1 = cv2.imread('hard_handwriting_shape/test/circle/circle{0:03d}.png'.format(i+21), 0)        \n",
    "    X_test[i,:,:] = img1\n",
    "    y_test[i] = 0\n",
    "    \n",
    "    img2 = cv2.imread('hard_handwriting_shape/test/rectangle/rectangle{0:03d}.png'.format(i+21), 0)        \n",
    "    X_test[5+i,:,:] = img2\n",
    "    y_test[5+i] = 1\n",
    "\n",
    "    img3 = cv2.imread('hard_handwriting_shape/test/triangle/triangle{0:03d}.png'.format(i+21), 0)        \n",
    "    X_test[10+i,:,:] = img3\n",
    "    y_test[10+i] = 2"
   ]
  },
  {
   "cell_type": "code",
   "execution_count": 13,
   "metadata": {
    "ExecuteTime": {
     "end_time": "2020-02-27T05:42:38.944105Z",
     "start_time": "2020-02-27T05:42:38.939516Z"
    }
   },
   "outputs": [
    {
     "name": "stdout",
     "output_type": "stream",
     "text": [
      "(15, 24, 24) (15, 3)\n"
     ]
    }
   ],
   "source": [
    "y_test = to_categorical(y_test)\n",
    "print(X_test.shape,  y_test.shape)"
   ]
  },
  {
   "cell_type": "code",
   "execution_count": 14,
   "metadata": {
    "ExecuteTime": {
     "end_time": "2020-02-27T05:42:38.954111Z",
     "start_time": "2020-02-27T05:42:38.946090Z"
    }
   },
   "outputs": [
    {
     "name": "stdout",
     "output_type": "stream",
     "text": [
      "(15, 24, 24, 1)\n",
      "(15, 3)\n"
     ]
    }
   ],
   "source": [
    "X_test =  X_test.reshape(-1, 24,24,1)\n",
    "print(X_test.shape)\n",
    "print(y_test.shape)"
   ]
  },
  {
   "cell_type": "code",
   "execution_count": 15,
   "metadata": {
    "ExecuteTime": {
     "end_time": "2020-02-27T05:42:51.121003Z",
     "start_time": "2020-02-27T05:42:38.955091Z"
    }
   },
   "outputs": [],
   "source": [
    "# 모델 학습시키기 #1\n",
    "history = model.fit(X_train, y_train, batch_size = 15, epochs = 100, validation_data =(X_test, y_test), verbose = 0)"
   ]
  },
  {
   "cell_type": "code",
   "execution_count": 16,
   "metadata": {
    "ExecuteTime": {
     "end_time": "2020-02-27T05:42:51.457800Z",
     "start_time": "2020-02-27T05:42:51.123995Z"
    }
   },
   "outputs": [
    {
     "data": {
      "image/png": "[encoded data removed]",
      "text/plain": [
       "<Figure size 432x288 with 1 Axes>"
      ]
     },
     "metadata": {
      "needs_background": "light"
     },
     "output_type": "display_data"
    },
    {
     "name": "stdout",
     "output_type": "stream",
     "text": [
      "15/15 [==============================] - 0s 998us/step\n",
      "[20.509639739990234, 0.3333333432674408]\n"
     ]
    }
   ],
   "source": [
    "plt.plot(history.history['accuracy'])\n",
    "plt.plot(history.history['val_accuracy'])\n",
    "plt.legend(['training', 'validation'], loc = 'upper left')\n",
    "plt.show()\n",
    "results = model.evaluate(X_test, y_test)\n",
    "print(results)"
   ]
  },
  {
   "cell_type": "code",
   "execution_count": 17,
   "metadata": {
    "ExecuteTime": {
     "end_time": "2020-02-27T05:42:51.470766Z",
     "start_time": "2020-02-27T05:42:51.459795Z"
    },
    "scrolled": false
   },
   "outputs": [
    {
     "name": "stdout",
     "output_type": "stream",
     "text": [
      "Model: \"sequential_1\"\n",
      "_________________________________________________________________\n",
      "Layer (type)                 Output Shape              Param #   \n",
      "=================================================================\n",
      "conv2d_1 (Conv2D)            (None, 22, 22, 32)        320       \n",
      "_________________________________________________________________\n",
      "batch_normalization_1 (Batch (None, 22, 22, 32)        128       \n",
      "_________________________________________________________________\n",
      "activation_1 (Activation)    (None, 22, 22, 32)        0         \n",
      "_________________________________________________________________\n",
      "conv2d_2 (Conv2D)            (None, 20, 20, 64)        18496     \n",
      "_________________________________________________________________\n",
      "batch_normalization_2 (Batch (None, 20, 20, 64)        256       \n",
      "_________________________________________________________________\n",
      "activation_2 (Activation)    (None, 20, 20, 64)        0         \n",
      "_________________________________________________________________\n",
      "max_pooling2d_1 (MaxPooling2 (None, 10, 10, 64)        0         \n",
      "_________________________________________________________________\n",
      "flatten_1 (Flatten)          (None, 6400)              0         \n",
      "_________________________________________________________________\n",
      "dense_1 (Dense)              (None, 128)               819328    \n",
      "_________________________________________________________________\n",
      "activation_3 (Activation)    (None, 128)               0         \n",
      "_________________________________________________________________\n",
      "dense_2 (Dense)              (None, 3)                 387       \n",
      "=================================================================\n",
      "Total params: 838,915\n",
      "Trainable params: 838,723\n",
      "Non-trainable params: 192\n",
      "_________________________________________________________________\n"
     ]
    }
   ],
   "source": [
    "model.summary()"
   ]
  },
  {
   "cell_type": "markdown",
   "metadata": {},
   "source": [
    "## filter가 뭐였는지 알아보기\n",
    "https://stackoverflow.com/questions/53503389/how-to-set-parameters-in-keras-to-be-non-trainable"
   ]
  },
  {
   "cell_type": "code",
   "execution_count": 20,
   "metadata": {
    "ExecuteTime": {
     "end_time": "2020-02-27T05:43:09.857101Z",
     "start_time": "2020-02-27T05:43:09.851151Z"
    },
    "scrolled": false
   },
   "outputs": [
    {
     "name": "stdout",
     "output_type": "stream",
     "text": [
      "conv2d_1\n",
      "True\n",
      "batch_normalization_1\n",
      "True\n",
      "activation_1\n",
      "True\n",
      "conv2d_2\n",
      "True\n",
      "batch_normalization_2\n",
      "True\n",
      "activation_2\n",
      "True\n",
      "max_pooling2d_1\n",
      "True\n",
      "flatten_1\n",
      "True\n",
      "dense_1\n",
      "True\n",
      "activation_3\n",
      "True\n",
      "dense_2\n",
      "True\n"
     ]
    }
   ],
   "source": [
    "for l in model.layers:\n",
    "    print(l.name)\n",
    "    print(l.trainable) # 학습을 하는 과정에서 parameter들을 바꾸는 것들 "
   ]
  },
  {
   "cell_type": "code",
   "execution_count": 25,
   "metadata": {
    "ExecuteTime": {
     "end_time": "2020-02-27T06:12:35.744173Z",
     "start_time": "2020-02-27T06:12:35.733200Z"
    },
    "scrolled": true
   },
   "outputs": [
    {
     "name": "stdout",
     "output_type": "stream",
     "text": [
      "(3, 3, 1, 32)\n",
      "(32,)\n",
      "0.000100437705\n",
      "[[-0.05662336  0.02282921 -0.02097232]\n",
      " [ 0.10650278 -0.03901119  0.13888502]\n",
      " [-0.10200673 -0.04499863 -0.12815918]]\n",
      "[[-0.02749282  0.06295145  0.0965623 ]\n",
      " [ 0.00539425 -0.11324702 -0.14028014]\n",
      " [ 0.06051311 -0.1274742   0.05641212]]\n",
      "------------------------------------------------------------------------------------\n",
      "[array([[[[-0.05662336, -0.02749282,  0.05110911,  0.0064822 ,\n",
      "           0.01151013,  0.12071022,  0.1365377 , -0.01809791,\n",
      "           0.10926956,  0.12975708,  0.08462746, -0.1041393 ,\n",
      "           0.02677935, -0.12020696,  0.14393413,  0.12967189,\n",
      "          -0.12027133, -0.11671293, -0.14214933,  0.12016262,\n",
      "          -0.007021  ,  0.13247877,  0.11201426, -0.02383978,\n",
      "           0.06743716, -0.14206958,  0.00568481,  0.05681259,\n",
      "           0.08188222, -0.11275959, -0.07097409, -0.00772815]],\n",
      "\n",
      "        [[ 0.02282921,  0.06295145,  0.0931593 ,  0.03468673,\n",
      "           0.10832509, -0.01910006,  0.00957587,  0.11461251,\n",
      "          -0.09039363,  0.02960888,  0.12438241, -0.08224955,\n",
      "           0.10780575, -0.11633956, -0.05899195, -0.01032196,\n",
      "          -0.08061286, -0.11639104, -0.0876477 , -0.09388327,\n",
      "          -0.06869702, -0.00626258, -0.12522538,  0.06256518,\n",
      "           0.09275778,  0.02235766,  0.12296095,  0.12817225,\n",
      "          -0.07326618, -0.03603742,  0.02311279, -0.11518779]],\n",
      "\n",
      "        [[-0.02097232,  0.0965623 , -0.11058769, -0.14823349,\n",
      "           0.07589048,  0.02072082,  0.0054379 , -0.11152205,\n",
      "           0.06737436, -0.13140368, -0.02344135, -0.08920339,\n",
      "          -0.06187288,  0.09904877,  0.12087195,  0.05096866,\n",
      "           0.01801473,  0.0147386 ,  0.08696737, -0.09876768,\n",
      "           0.02919536, -0.10185447, -0.06031219, -0.08011278,\n",
      "           0.08363472,  0.12920007,  0.07719728,  0.07528546,\n",
      "           0.10409319,  0.04764571,  0.14551346, -0.11769186]]],\n",
      "\n",
      "\n",
      "       [[[ 0.10650278,  0.00539425,  0.00713654, -0.02562004,\n",
      "          -0.07711697, -0.06333205,  0.03895291, -0.12628675,\n",
      "           0.14065918,  0.02886325, -0.09335067,  0.05205904,\n",
      "           0.05510059,  0.01507827,  0.06054482, -0.02961223,\n",
      "          -0.03671517,  0.07268374,  0.00601723, -0.09204668,\n",
      "          -0.10460121,  0.10688417, -0.01451555,  0.05119534,\n",
      "          -0.04161271, -0.00315804,  0.05319907, -0.00794557,\n",
      "          -0.11314741, -0.08042149, -0.13355137, -0.12769291]],\n",
      "\n",
      "        [[-0.03901119, -0.11324702, -0.08206427, -0.09704554,\n",
      "          -0.10345817,  0.13150823,  0.07416464, -0.04683531,\n",
      "           0.06801249,  0.13538809,  0.10882968, -0.12405393,\n",
      "           0.06808341, -0.12786186, -0.08923847,  0.03570234,\n",
      "           0.09441457,  0.04736628, -0.00333987, -0.10116696,\n",
      "          -0.00382713, -0.12128115,  0.01802392, -0.06675234,\n",
      "          -0.08094611,  0.02849516, -0.04975141,  0.00216673,\n",
      "          -0.11942372,  0.0804439 , -0.11206539, -0.05395969]],\n",
      "\n",
      "        [[ 0.13888502, -0.14028014, -0.05206525, -0.03138211,\n",
      "           0.01325258,  0.04131769, -0.00868314, -0.00460973,\n",
      "           0.06176468, -0.01229109, -0.08405412,  0.10403515,\n",
      "           0.07998499,  0.0949267 , -0.0274248 ,  0.03750181,\n",
      "           0.09342404,  0.0537715 , -0.13103998,  0.1181071 ,\n",
      "          -0.04752979,  0.10775506,  0.02534422, -0.03820386,\n",
      "           0.01973389,  0.10670149, -0.00845687,  0.06190167,\n",
      "           0.10416187,  0.07415125,  0.13154459, -0.05119907]]],\n",
      "\n",
      "\n",
      "       [[[-0.10200673,  0.06051311, -0.10962205,  0.040923  ,\n",
      "          -0.11355162, -0.08131222, -0.04111376,  0.11909403,\n",
      "          -0.07180421, -0.04204774,  0.04148794,  0.04757224,\n",
      "           0.06312149, -0.00526147,  0.04332733,  0.07158501,\n",
      "          -0.02297414, -0.10736401, -0.11564908, -0.14268132,\n",
      "          -0.1315662 , -0.08954368, -0.09208012,  0.08644254,\n",
      "           0.02088814,  0.07295605,  0.12186591, -0.09419566,\n",
      "           0.01023857, -0.06938051,  0.09938397,  0.08055974]],\n",
      "\n",
      "        [[-0.04499863, -0.1274742 , -0.12138283, -0.07693347,\n",
      "          -0.11663341, -0.05046961, -0.02263634, -0.06347007,\n",
      "          -0.08287979,  0.09792035,  0.01422343,  0.03875035,\n",
      "          -0.12774444,  0.03971971,  0.11255444,  0.06130442,\n",
      "           0.02328279,  0.06105515,  0.04663685,  0.0031143 ,\n",
      "          -0.12975267, -0.00265366, -0.06459522,  0.13257529,\n",
      "          -0.10331224,  0.04031919, -0.05321329,  0.13632552,\n",
      "          -0.04201636, -0.06028493,  0.02577857,  0.06365489]],\n",
      "\n",
      "        [[-0.12815918,  0.05641212,  0.00675966,  0.09498412,\n",
      "          -0.08564297,  0.01095598,  0.10644895, -0.09821196,\n",
      "          -0.06578458,  0.11249816,  0.14423586,  0.11983542,\n",
      "           0.02888789, -0.13318387, -0.03409164, -0.11210649,\n",
      "          -0.0770758 ,  0.0613451 ,  0.07087754, -0.00215399,\n",
      "          -0.04695963,  0.08333442,  0.06741324,  0.045161  ,\n",
      "           0.048113  , -0.12617871, -0.04664959, -0.04312989,\n",
      "          -0.07612942, -0.04360707,  0.0839678 , -0.11740995]]]],\n",
      "      dtype=float32), array([ 1.00437705e-04, -2.72611680e-04,  2.59582521e-05, -5.42773050e-04,\n",
      "        7.47108934e-05, -3.64750304e-04,  5.07059915e-04, -7.30714644e-04,\n",
      "       -5.06135169e-04, -3.82312428e-04,  1.41474098e-04, -3.60379672e-05,\n",
      "       -2.85655668e-04, -9.86972824e-04, -1.96638037e-04, -6.97776413e-05,\n",
      "       -2.46733922e-04, -6.11698997e-05,  2.82484572e-04, -9.71100701e-04,\n",
      "       -2.19987560e-04,  3.31735821e-04, -9.34629177e-04,  9.11161114e-05,\n",
      "       -3.85979038e-05, -2.50903511e-04,  1.57355011e-04, -3.90639354e-04,\n",
      "       -2.19163194e-04,  1.54707901e-04,  1.26777275e-04,  6.21220388e-04],\n",
      "      dtype=float32)]\n"
     ]
    }
   ],
   "source": [
    "w = model.layers[0].get_weights()     # (0번째 layer의 W가중치 ,0번째 layer의 b가중치)\n",
    "# print(w[0])   #각 필터들마다의 W 가중치\n",
    "# print(w[1])   #각 필터들마다의 b 가중치(bias)\n",
    "\n",
    "print(w[0].shape) # (3,3,1)사이즈의 W가중치가 32개(필터 수) 만큼 있으므로\n",
    "print(w[1].shape) # bias의 개수\n",
    "print(w[1][0]) # bias 중에서 0번째    # 다시 말해, 0번째 필터의 bias\n",
    "\n",
    "print(w[0][:,:,0,0]) # 0번째 필터의 W가중치\n",
    "print(w[0][:,:,0,1]) # 1번째 필터의 W가중치\n",
    "print('------------------------------------------------------------------------------------')\n",
    "print(w)   # (0번째 layer의 W가중치 ,0번째 layer의 b가중치)"
   ]
  },
  {
   "cell_type": "markdown",
   "metadata": {},
   "source": [
    "## 밀집 연결 네트워크\n",
    "\n",
    "밀집 연결 네트워크를 구현하기에는 `Sequential` 모델이 더 적합한 선택이겠지만, 아주 간단한 예시를 위해서 케라스 함수형 API로 구현해 보겠습니다.\n",
    "\n",
    "- 레이어 인스턴스는 (텐서에 대해) 호출 가능하고, 텐서를 반환합니다.\n",
    "\n",
    "\n",
    "- 인풋 텐서와 아웃풋 텐서는 `Model`을 정의하는데 사용됩니다.\n",
    "\n",
    "\n",
    "- 이러한 모델은 케라스 `Sequential` 모델과 완전히 동일한 방식으로 학습됩니다.\n",
    "\n",
    "출처 : https://keras.io/ko/getting-started/functional-api-guide/"
   ]
  },
  {
   "cell_type": "code",
   "execution_count": 31,
   "metadata": {
    "ExecuteTime": {
     "end_time": "2020-02-27T06:40:35.348079Z",
     "start_time": "2020-02-27T06:40:35.343089Z"
    }
   },
   "outputs": [
    {
     "name": "stdout",
     "output_type": "stream",
     "text": [
      "Tensor(\"conv2d_1_input:0\", shape=(?, 24, 24, 1), dtype=float32)\n",
      "Tensor(\"conv2d_1/BiasAdd:0\", shape=(?, 22, 22, 32), dtype=float32)\n"
     ]
    }
   ],
   "source": [
    "# filter 적용하고 bias까지 다 더해진 상태\n",
    "print(model.input)\n",
    "print(model.layers[0].output)\n",
    "\n",
    "# output이 밑에처럼 나오는데\n",
    "# <tf.Tensor 'conv2d_1/BiasAdd:0' shape=(None, 22, 22, 32) dtype=float32>\n",
    "# 여기서 BiasAdd:0은 bias가 0이 아니라 conv2d_1/BiasAdd 텐서의 이름이 '0'이라는 뜻!"
   ]
  },
  {
   "cell_type": "markdown",
   "metadata": {},
   "source": [
    "### 레이어처럼, 모든 모델이 호출 가능합니다\n",
    "- 함수형 API를 사용하면 학습된 모델을 재사용하기 편리합니다.\n",
    "\n",
    "\n",
    "- 어느 모델이든 텐서에 대해 호출하여 레이어처럼 사용할 수 있습니다. 모델을 호출하면 모델의 구조만 재사용하는 것이 아니라 <ins>**가중치까지 재사용되는 것**</ins>임을 참고하십시오."
   ]
  },
  {
   "cell_type": "code",
   "execution_count": 46,
   "metadata": {
    "ExecuteTime": {
     "end_time": "2020-02-27T07:23:41.714371Z",
     "start_time": "2020-02-27T07:23:41.653419Z"
    }
   },
   "outputs": [
    {
     "name": "stdout",
     "output_type": "stream",
     "text": [
      "(?, 24, 24, 1)\n",
      "(15, 24, 24, 1)\n",
      "(?, 22, 22, 32)\n",
      "(15, 22, 22, 32)\n"
     ]
    }
   ],
   "source": [
    "from keras.models import Model\n",
    "\n",
    "# 밀집 연결 네트워크를 구현하기에는 Sequential 모델이 더 적합하지만, 간단한 예시를 위해서 케라스 함수형 API로 구현\n",
    "my_layer_model = Model(inputs=model.input,\n",
    "                      outputs=model.layers[0].output)    # 그릇이 24 x 24 x 1\n",
    "\n",
    "output = my_layer_model.predict(X_test)    # predict는 메모리에 담지않고 그냥 흘려보냄 --> 최종 결과값만 받음\n",
    "\n",
    "\n",
    "\n",
    "print(model.input.shape)    # (?, 24, 24, 1) : 모델의 input들의 사이즈.\n",
    "print(X_test.shape)   # X_test는 15개의 (24,24,1)사이즈의 데이터들로 이루어져 있기 때문에 input으로 가능!\n",
    "print(model.layers[0].output.shape) # (?, 22, 22, 32) : 모델의 0번째 레이어(Conv)의 output 사이즈. 뭘 넣어준 것이 아니기 때문에 대략적인 form만 나온 것\n",
    "print(output.shape) # X_test를 넣어주고 나서 첫번째 레이어인 Conv만 통과시켰을 때 나온 output"
   ]
  },
  {
   "cell_type": "code",
   "execution_count": 87,
   "metadata": {
    "ExecuteTime": {
     "end_time": "2020-02-27T09:28:26.726712Z",
     "start_time": "2020-02-27T09:28:25.913969Z"
    },
    "scrolled": false
   },
   "outputs": [
    {
     "name": "stdout",
     "output_type": "stream",
     "text": [
      "shape of X_test = (15, 24, 24, 1)\n",
      "shape of output = (15, 22, 22, 32)\n"
     ]
    },
    {
     "data": {
      "image/png": "[encoded data removed]",
      "text/plain": [
       "<Figure size 432x288 with 1 Axes>"
      ]
     },
     "metadata": {
      "image/png": {
       "height": 265,
       "width": 249
      },
      "needs_background": "light"
     },
     "output_type": "display_data"
    },
    {
     "name": "stdout",
     "output_type": "stream",
     "text": [
      "(3, 3)\n"
     ]
    },
    {
     "data": {
      "image/png": "[encoded data removed]",
      "text/plain": [
       "<Figure size 432x288 with 1 Axes>"
      ]
     },
     "metadata": {
      "image/png": {
       "height": 265,
       "width": 262
      },
      "needs_background": "light"
     },
     "output_type": "display_data"
    },
    {
     "data": {
      "image/png": "[encoded data removed]",
      "text/plain": [
       "<Figure size 432x288 with 1 Axes>"
      ]
     },
     "metadata": {
      "image/png": {
       "height": 265,
       "width": 432
      },
      "needs_background": "light"
     },
     "output_type": "display_data"
    }
   ],
   "source": [
    "print(\"shape of X_test =\", X_test.shape)  # (15,24,24,1) : 1은 흑백 이미지라서 /  15개의 (24,24,1)사이즈의 이미지가 있다.\n",
    "print(\"shape of output =\", output.shape) #  (15, 22, 22, 32) : 32는 필터 수 / 15개 input이 32개의 필터를 각각 통과해서 (22,22)사이즈로 변형됌\n",
    "# X_test[i,:,:,0] --> X_test에서 i번째 인덱스의 이미지 (맨 뒤의 0은 흑백이어서)\n",
    "# output[i,:,:,j] --> X_test의 i번째 인덱스 이미지를 j번째 인덱스의 필터에 통과시켜서 나온 이미지\n",
    "# i번째 이미지 / j번째 필터\n",
    "# # 출력 = (j번째 필터의 W가중치)*(i번째 이미지) + (j번째 필터의 b가중치)\n",
    "\n",
    "\n",
    "# plt.imshow(X_test[i,:,:,0], cmap='gray')\n",
    "# plt.show()\n",
    "# plt.imshow(output[i,:,:,j], cmap='gray')\n",
    "\n",
    "\n",
    "jFilter = 5\n",
    "iImg = 1\n",
    "\n",
    "# iImag번째 인덱스 input 이미지\n",
    "plt.imshow(X_test[iImg,:,:,0], cmap='gray')\n",
    "plt.title(\"iImag번째 인덱스 input 이미지\")\n",
    "plt.show()\n",
    "\n",
    "# jFilter번째 인덱스의 필터\n",
    "w = model.layers[0].get_weights()\n",
    "w = w[0]\n",
    "f = w[:,:,0,jFilter]\n",
    "print(f.shape)\n",
    "plt.imshow(f, cmap='gray')\n",
    "plt.title(\"jFilter번째 인덱스의 필터\")\n",
    "plt.show()\n",
    "\n",
    "# iImag번째 인덱스 이미지를 jFilter번째 인덱스 필터에 통과시켜서 나온 이미지\n",
    "plt.imshow(output[iImg,:,:,jFilter], cmap='gray')\n",
    "plt.title(\"iImag번째 인덱스 이미지를 jFilter번째 인덱스 필터에 통과시켜서 나온 이미지\")\n",
    "plt.show()"
   ]
  },
  {
   "cell_type": "code",
   "execution_count": 88,
   "metadata": {
    "ExecuteTime": {
     "end_time": "2020-02-27T09:29:37.579248Z",
     "start_time": "2020-02-27T09:29:37.125270Z"
    }
   },
   "outputs": [
    {
     "name": "stdout",
     "output_type": "stream",
     "text": [
      "(15, 6400)\n",
      "(15, 6400)\n"
     ]
    }
   ],
   "source": [
    "# flatten으로 길게 늘어뜨려놓은 영상\n",
    "\n",
    "my_layer_model = Model(inputs=model.input,\n",
    "                      outputs=model.layers[7].output)    # 위의 summary에서 flatten이 8번째이므로 index는 7이다.\n",
    "output = my_layer_model.predict(X_test)\n",
    "# predict는 메모리에 담지않고 그냥 흘려보냄 --> 최종 결과값만 받음\n",
    "\n",
    "print(output.shape)\n",
    "\n",
    "\n",
    "\n",
    "########################################################################\n",
    "# 더 나은 방법\n",
    "\n",
    "my_layer_model = Model(inputs=model.input,\n",
    "                      outputs=model.get_layer(\"flatten_1\").output) # 위의 summary에서 올려다보면 flatten의 이름을 보고 알 수 있음\n",
    "output = my_layer_model.predict(X_test)\n",
    "# predict는 메모리에 담지않고 그냥 흘려보냄 --> 최종 결과값만 받음\n",
    "\n",
    "print(output.shape)"
   ]
  },
  {
   "cell_type": "code",
   "execution_count": 89,
   "metadata": {
    "ExecuteTime": {
     "end_time": "2020-02-27T09:32:18.878257Z",
     "start_time": "2020-02-27T09:32:18.757281Z"
    }
   },
   "outputs": [
    {
     "name": "stdout",
     "output_type": "stream",
     "text": [
      "(15, 3)\n",
      "[2 2 2 2 2 0 2 2 2 2 2 2 2 2 2]\n",
      "[0 0 0 0 0 1 1 1 1 1 2 2 2 2 2]\n",
      "\n",
      "\n",
      "맞춘 개수 =  5\n",
      "인식률 =  0.3333333333333333\n"
     ]
    }
   ],
   "source": [
    "my_layer_model = Model(inputs=model.input,\n",
    "                      outputs=model.get_layer(\"dense_2\").output) # 위의 summary에서 올려다보면 flatten의 이름을 보고 알 수 있음\n",
    "output = my_layer_model.predict(X_test)\n",
    "# predict는 메모리에 담지않고 그냥 흘려보냄 --> 최종 결과값만 받음\n",
    "\n",
    "print(output.shape)\n",
    "p = np.argmax(output, axis=1)\n",
    "T = np.argmax(y_test, axis = 1)\n",
    "\n",
    "print(p)\n",
    "print(T)\n",
    "print('\\n')\n",
    "print(\"맞춘 개수 = \", np.sum((p == T)*1))\n",
    "print(\"인식률 = \", np.sum((p == T)*1)/len(p))"
   ]
  }
 ],
 "metadata": {
  "kernelspec": {
   "display_name": "Python 3",
   "language": "python",
   "name": "python3"
  },
  "language_info": {
   "codemirror_mode": {
    "name": "ipython",
    "version": 3
   },
   "file_extension": ".py",
   "mimetype": "text/x-python",
   "name": "python",
   "nbconvert_exporter": "python",
   "pygments_lexer": "ipython3",
   "version": "3.7.5"
  },
  "varInspector": {
   "cols": {
    "lenName": 16,
    "lenType": 16,
    "lenVar": 40
   },
   "kernels_config": {
    "python": {
     "delete_cmd_postfix": "",
     "delete_cmd_prefix": "del ",
     "library": "var_list.py",
     "varRefreshCmd": "print(var_dic_list())"
    },
    "r": {
     "delete_cmd_postfix": ") ",
     "delete_cmd_prefix": "rm(",
     "library": "var_list.r",
     "varRefreshCmd": "cat(var_dic_list()) "
    }
   },
   "position": {
    "height": "353.722px",
    "left": "1375.45px",
    "right": "20px",
    "top": "120px",
    "width": "350px"
   },
   "types_to_exclude": [
    "module",
    "function",
    "builtin_function_or_method",
    "instance",
    "_Feature"
   ],
   "window_display": false
  }
 },
 "nbformat": 4,
 "nbformat_minor": 2
}
