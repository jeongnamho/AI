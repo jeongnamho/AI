{
 "cells": [
  {
   "cell_type": "markdown",
   "metadata": {},
   "source": [
    "# Advanced MLP\n",
    "- Advanced techniques for training neural networks\n",
    "  - Weight Initialization\n",
    "  - Nonlinearity (Activation function)\n",
    "  - Optimizers\n",
    "  - Batch Normalization\n",
    "  - Dropout (Regularization)\n",
    "  - Model Ensemble"
   ]
  },
  {
   "cell_type": "code",
   "execution_count": 2,
   "metadata": {
    "ExecuteTime": {
     "end_time": "2020-02-25T07:48:16.111331Z",
     "start_time": "2020-02-25T07:48:05.147121Z"
    }
   },
   "outputs": [
    {
     "name": "stderr",
     "output_type": "stream",
     "text": [
      "Using TensorFlow backend.\n"
     ]
    }
   ],
   "source": [
    "import matplotlib.pyplot as plt\n",
    "from sklearn.model_selection import train_test_split\n",
    "from keras.datasets import mnist\n",
    "from keras.models import Sequential\n",
    "from keras.utils.np_utils import to_categorical\n",
    "from keras.models import Sequential\n",
    "from keras.layers import Activation, Dense\n",
    "from keras import optimizers\n",
    "from keras.layers import Dropout\n",
    "import numpy as np\n",
    "from keras.wrappers.scikit_learn import KerasClassifier\n",
    "from sklearn.ensemble import VotingClassifier\n",
    "from sklearn.metrics import accuracy_score\n",
    "from keras.layers import BatchNormalization"
   ]
  },
  {
   "cell_type": "markdown",
   "metadata": {},
   "source": [
    "### reshape메서드에 대한 간단한 연습"
   ]
  },
  {
   "cell_type": "code",
   "execution_count": 3,
   "metadata": {
    "ExecuteTime": {
     "end_time": "2020-02-25T07:48:21.919644Z",
     "start_time": "2020-02-25T07:48:21.912511Z"
    }
   },
   "outputs": [
    {
     "name": "stdout",
     "output_type": "stream",
     "text": [
      "(2, 3)\n",
      "\n",
      "\n",
      "(3, 2)\n",
      "[[1 2]\n",
      " [3 4]\n",
      " [5 6]]\n"
     ]
    }
   ],
   "source": [
    "a = np.array([[1,2, 3],[4, 5,6]])\n",
    "print(a.shape)\n",
    "print('\\n')\n",
    "\n",
    "# reshape메서드에서 -1을 쓰면 나머지 영역은 flatten하게 묶어서 하나의 차원으로 바꿈\n",
    "a = a.reshape(3, -1)\n",
    "print(a.shape)\n",
    "print(a)"
   ]
  },
  {
   "cell_type": "markdown",
   "metadata": {},
   "source": [
    "---"
   ]
  },
  {
   "cell_type": "markdown",
   "metadata": {},
   "source": [
    "## Load Dataset\n",
    "- MNIST dataset\n",
    "\n",
    "(그냥 다운 받아도 되지만 보통 문서->user->.keras에서 데이터셋을 찾으면 됌)"
   ]
  },
  {
   "cell_type": "code",
   "execution_count": 4,
   "metadata": {
    "ExecuteTime": {
     "end_time": "2020-02-25T07:48:23.790517Z",
     "start_time": "2020-02-25T07:48:23.486993Z"
    }
   },
   "outputs": [],
   "source": [
    "(X_train, y_train), (X_test, y_test) = mnist.load_data()"
   ]
  },
  {
   "cell_type": "code",
   "execution_count": 5,
   "metadata": {
    "ExecuteTime": {
     "end_time": "2020-02-25T07:48:23.812930Z",
     "start_time": "2020-02-25T07:48:23.807976Z"
    }
   },
   "outputs": [
    {
     "name": "stdout",
     "output_type": "stream",
     "text": [
      "(60000, 28, 28)\n",
      "(60000,)\n"
     ]
    }
   ],
   "source": [
    "print(X_train.shape) # 6000개의 (28 x 28)크기 픽셀이미지\n",
    "print(y_train.shape) # 6000개의 인식결과(훈련 데이터)"
   ]
  },
  {
   "cell_type": "code",
   "execution_count": 6,
   "metadata": {
    "ExecuteTime": {
     "end_time": "2020-02-25T07:48:25.033465Z",
     "start_time": "2020-02-25T07:48:24.832879Z"
    }
   },
   "outputs": [
    {
     "data": {
      "image/png": "[encoded data removed]",
      "text/plain": [
       "<Figure size 432x288 with 1 Axes>"
      ]
     },
     "metadata": {
      "needs_background": "light"
     },
     "output_type": "display_data"
    },
    {
     "name": "stdout",
     "output_type": "stream",
     "text": [
      "Label:  5\n"
     ]
    }
   ],
   "source": [
    "# train data(훈련 데이터)\n",
    "plt.imshow(X_train[0])    # show first number in the dataset\n",
    "plt.show()\n",
    "print('Label: ', y_train[0])"
   ]
  },
  {
   "cell_type": "code",
   "execution_count": 7,
   "metadata": {
    "ExecuteTime": {
     "end_time": "2020-02-25T07:48:25.708791Z",
     "start_time": "2020-02-25T07:48:25.566328Z"
    }
   },
   "outputs": [
    {
     "data": {
      "text/plain": [
       "<matplotlib.image.AxesImage at 0x1c4d0729bc8>"
      ]
     },
     "execution_count": 7,
     "metadata": {},
     "output_type": "execute_result"
    },
    {
     "data": {
      "image/png": "[encoded data removed]",
      "text/plain": [
       "<Figure size 432x288 with 1 Axes>"
      ]
     },
     "metadata": {
      "needs_background": "light"
     },
     "output_type": "display_data"
    }
   ],
   "source": [
    "# train data(훈련 데이터)\n",
    "plt.imshow(X_train[0], cmap='gray')"
   ]
  },
  {
   "cell_type": "code",
   "execution_count": 8,
   "metadata": {
    "ExecuteTime": {
     "end_time": "2020-02-25T07:48:26.283800Z",
     "start_time": "2020-02-25T07:48:26.149130Z"
    }
   },
   "outputs": [
    {
     "data": {
      "image/png": "[encoded data removed]",
      "text/plain": [
       "<Figure size 432x288 with 1 Axes>"
      ]
     },
     "metadata": {
      "needs_background": "light"
     },
     "output_type": "display_data"
    },
    {
     "name": "stdout",
     "output_type": "stream",
     "text": [
      "Label:  7\n"
     ]
    }
   ],
   "source": [
    "# train data(학습 데이터)\n",
    "plt.imshow(X_test[0])    # show first number in the dataset X_test\n",
    "plt.show()\n",
    "print('Label: ', y_test[0])"
   ]
  },
  {
   "cell_type": "code",
   "execution_count": 9,
   "metadata": {
    "ExecuteTime": {
     "end_time": "2020-02-25T07:48:26.495312Z",
     "start_time": "2020-02-25T07:48:26.345452Z"
    }
   },
   "outputs": [
    {
     "data": {
      "image/png": "[encoded data removed]",
      "text/plain": [
       "<Figure size 432x288 with 1 Axes>"
      ]
     },
     "metadata": {
      "needs_background": "light"
     },
     "output_type": "display_data"
    },
    {
     "name": "stdout",
     "output_type": "stream",
     "text": [
      "Label:  7\n"
     ]
    }
   ],
   "source": [
    "# train data(학습 데이터)\n",
    "plt.imshow(X_test[0], cmap='gray')    # show first number in the dataset\n",
    "plt.show()\n",
    "print('Label: ', y_test[0])"
   ]
  },
  {
   "cell_type": "markdown",
   "metadata": {},
   "source": [
    "---"
   ]
  },
  {
   "cell_type": "code",
   "execution_count": 10,
   "metadata": {
    "ExecuteTime": {
     "end_time": "2020-02-25T07:48:26.810325Z",
     "start_time": "2020-02-25T07:48:26.731449Z"
    },
    "scrolled": true
   },
   "outputs": [
    {
     "name": "stdout",
     "output_type": "stream",
     "text": [
      "shape of X_train_before =  (60000, 28, 28)\n",
      "shape of X_train_after =  (60000, 784)\n",
      "\n",
      "\n",
      "shape of X_train_splited =  (19800, 784)\n",
      "[6 9 2 ... 5 5 3]\n"
     ]
    }
   ],
   "source": [
    "# (X_train, y_train), (X_test, y_test) = mnist.load_data()\n",
    "print('shape of X_train_before = ', X_train.shape)\n",
    "#reshaping X data : (n,28,28) ---> (n,784)\n",
    "X_train = X_train.reshape((X_train.shape[0], -1))  \n",
    "X_test = X_test.reshape((X_test.shape[0], -1))\n",
    "\n",
    "print('shape of X_train_after = ', X_train.shape)\n",
    "print('\\n')\n",
    "\n",
    "\n",
    "# 밑에는 Tuple로 결과값을 받환받는 것!\n",
    "# use only 33% of training data to expedite the training process(데이터가 너무 많아서)\n",
    "X_train, _ , y_train, _ = train_test_split(X_train, y_train, \n",
    "                                           test_size = 0.67, \n",
    "                                           random_state = 7)\n",
    "\n",
    "print('shape of X_train_splited = ', X_train.shape)\n",
    "print(y_train)"
   ]
  },
  {
   "cell_type": "code",
   "execution_count": 11,
   "metadata": {
    "ExecuteTime": {
     "end_time": "2020-02-25T07:48:28.248297Z",
     "start_time": "2020-02-25T07:48:28.240490Z"
    }
   },
   "outputs": [
    {
     "name": "stdout",
     "output_type": "stream",
     "text": [
      "[[0. 0. 0. ... 0. 0. 0.]\n",
      " [0. 0. 0. ... 0. 0. 1.]\n",
      " [0. 0. 1. ... 0. 0. 0.]\n",
      " ...\n",
      " [0. 0. 0. ... 0. 0. 0.]\n",
      " [0. 0. 0. ... 0. 0. 0.]\n",
      " [0. 0. 0. ... 0. 0. 0.]]\n",
      "(19800, 10)\n"
     ]
    }
   ],
   "source": [
    "# 이 셀은 run하면 계속 바뀌니까 한 번만 할 것!\n",
    "\n",
    "# converting y data into categorical (<<<one-hot encoding>>>>)\n",
    "y_train = to_categorical(y_train)\n",
    "y_test = to_categorical(y_test)\n",
    "\n",
    "# one-hot encoding 원리\n",
    "# 0 -> 1 0 0\n",
    "# 1 -> 0 1 0\n",
    "# 2 -> 0 0 1\n",
    "\n",
    "print(y_train)\n",
    "print(y_train.shape)  # y_train의 value가 0~9까지 있어서 총 10개!"
   ]
  },
  {
   "cell_type": "code",
   "execution_count": 12,
   "metadata": {
    "ExecuteTime": {
     "end_time": "2020-02-25T07:48:29.240718Z",
     "start_time": "2020-02-25T07:48:29.236697Z"
    }
   },
   "outputs": [
    {
     "name": "stdout",
     "output_type": "stream",
     "text": [
      "(19800, 784) (10000, 784) (19800, 10) (10000, 10)\n"
     ]
    }
   ],
   "source": [
    "print(X_train.shape, X_test.shape, y_train.shape, y_test.shape)"
   ]
  },
  {
   "cell_type": "markdown",
   "metadata": {},
   "source": [
    "---"
   ]
  },
  {
   "cell_type": "markdown",
   "metadata": {},
   "source": [
    "# Basic MLP model"
   ]
  },
  {
   "cell_type": "code",
   "execution_count": 13,
   "metadata": {
    "ExecuteTime": {
     "end_time": "2020-02-25T07:48:31.506360Z",
     "start_time": "2020-02-25T07:48:31.493300Z"
    }
   },
   "outputs": [],
   "source": [
    "model = Sequential() # model계층을 선형으로 쌓겠다는 의미(keras.models.sequential() 메서드임)"
   ]
  },
  {
   "cell_type": "code",
   "execution_count": 14,
   "metadata": {
    "ExecuteTime": {
     "end_time": "2020-02-25T07:48:35.076553Z",
     "start_time": "2020-02-25T07:48:34.964850Z"
    }
   },
   "outputs": [
    {
     "name": "stdout",
     "output_type": "stream",
     "text": [
      "WARNING:tensorflow:From C:\\Users\\jnh78\\Anaconda3\\envs\\tutorial\\lib\\site-packages\\tensorflow_core\\python\\ops\\resource_variable_ops.py:1630: calling BaseResourceVariable.__init__ (from tensorflow.python.ops.resource_variable_ops) with constraint is deprecated and will be removed in a future version.\n",
      "Instructions for updating:\n",
      "If using Keras pass *_constraint arguments to layers.\n"
     ]
    }
   ],
   "source": [
    "model.add(Dense(50, input_shape = (784, )))\n",
    "model.add(Activation('sigmoid'))\n",
    "model.add(Dense(50))\n",
    "model.add(Activation('sigmoid'))\n",
    "model.add(Dense(50))\n",
    "model.add(Activation('sigmoid'))\n",
    "model.add(Dense(50))\n",
    "model.add(Activation('sigmoid'))\n",
    "model.add(Dense(10))\n",
    "model.add(Activation('softmax'))\n",
    "\n",
    "#위의 코드와 같은 것으로\n",
    "# model.add(layers.Dense(50, activation='sigmoid', input_shape=(784,)  ))\n",
    "# model.add(layers.Dense(50, activation='sigmoid'))\n",
    "# model.add(layers.Dense(50, activation='sigmoid'))\n",
    "# model.add(layers.Dense(50, activation='sigmoid'))\n",
    "# model.add(layers.Dense(10, activation='softmax'))\n",
    "# 를 쓸 수 있음"
   ]
  },
  {
   "attachments": {
    "11.png": {
     "image/png": "[encoded data removed]"
    }
   },
   "cell_type": "markdown",
   "metadata": {},
   "source": [
    "### softmax 함수\n",
    "\n",
    "![11.png](attachment:11.png)"
   ]
  },
  {
   "cell_type": "code",
   "execution_count": 15,
   "metadata": {
    "ExecuteTime": {
     "end_time": "2020-02-25T07:48:39.320128Z",
     "start_time": "2020-02-25T07:48:39.313637Z"
    },
    "scrolled": false
   },
   "outputs": [
    {
     "name": "stdout",
     "output_type": "stream",
     "text": [
      "Model: \"sequential_1\"\n",
      "_________________________________________________________________\n",
      "Layer (type)                 Output Shape              Param #   \n",
      "=================================================================\n",
      "dense_1 (Dense)              (None, 50)                39250     \n",
      "_________________________________________________________________\n",
      "activation_1 (Activation)    (None, 50)                0         \n",
      "_________________________________________________________________\n",
      "dense_2 (Dense)              (None, 50)                2550      \n",
      "_________________________________________________________________\n",
      "activation_2 (Activation)    (None, 50)                0         \n",
      "_________________________________________________________________\n",
      "dense_3 (Dense)              (None, 50)                2550      \n",
      "_________________________________________________________________\n",
      "activation_3 (Activation)    (None, 50)                0         \n",
      "_________________________________________________________________\n",
      "dense_4 (Dense)              (None, 50)                2550      \n",
      "_________________________________________________________________\n",
      "activation_4 (Activation)    (None, 50)                0         \n",
      "_________________________________________________________________\n",
      "dense_5 (Dense)              (None, 10)                510       \n",
      "_________________________________________________________________\n",
      "activation_5 (Activation)    (None, 10)                0         \n",
      "=================================================================\n",
      "Total params: 47,410\n",
      "Trainable params: 47,410\n",
      "Non-trainable params: 0\n",
      "_________________________________________________________________\n"
     ]
    }
   ],
   "source": [
    "model.summary()"
   ]
  },
  {
   "attachments": {
    "cross%20entropy.png": {
     "image/png": "[encoded data removed]"
    }
   },
   "cell_type": "markdown",
   "metadata": {},
   "source": [
    "#### Cross Entropy\n",
    "\n",
    "![cross%20entropy.png](attachment:cross%20entropy.png)\n",
    "\n",
    "- y =  우리의 neural net이 예측한 정답 label의 값\n",
    "- y' =  실제 정답 label의 값\n",
    "- i = 분류하고자 하는 class의 개수 및 시그마의 인덱스\n",
    "\n",
    "간혹 우리 neural net의 예측값이 0이거나 0과 가까운 매우 작은 숫자일 경우 log 뒤의 y(i)의 값은 무한대로 수렴하게 된다. (이해가 되지 않는다면 위 그래프에서 y가 0.00000000001일 때의 x값을 찾아보라)\n",
    "\n",
    "여기서 무한대로 수렴한다는 것은 분명 유쾌한 일이 아니다.\n",
    "\n",
    "그러므로 **이런 경우를 대비해서 y(i)에 1e-07 ( 0.0000001 ) 정도를 더해준다. // y'log(y+0.0000001)**\n",
    "\n",
    "이렇게 하면 cost 값에는 크게 영향을 주지 않으면서 무한대의 만행을 어느정도 막아낼 수 있다.\n",
    "\n",
    "\n",
    "출처: https://worthpreading.tistory.com/23 [Worth spreading]"
   ]
  },
  {
   "cell_type": "code",
   "execution_count": 16,
   "metadata": {
    "ExecuteTime": {
     "end_time": "2020-02-25T07:48:52.987475Z",
     "start_time": "2020-02-25T07:48:52.907882Z"
    }
   },
   "outputs": [],
   "source": [
    "# 모델을 학습시키기 이전에, compile 메소드를 통해서 학습 방식에 대한 환경설정을 해야 합니다.\n",
    "\n",
    "sgd = optimizers.SGD(lr = 0.001) #Adam하면 금방 올라감\n",
    "\n",
    "\n",
    "model.compile(optimizer = sgd,\n",
    "              loss = 'categorical_crossentropy', \n",
    "              metrics = ['accuracy'])"
   ]
  },
  {
   "cell_type": "markdown",
   "metadata": {},
   "source": [
    "## 훈련(학습)\n",
    "### keras.sequential().fit(X_train, y_train, batch_size = k, validation_split=(alpha), epochs=n, verbose=(0 or 1))\n",
    "\n",
    "- **X_train, y_train** : 훈련데이터들\n",
    "- **batch_size** : 미니 배치들의 사이즈. 입력값 k는 자연수 (자세한 설명은 아래 참고 블로그의 설명 참조)\n",
    "- **validation_split** : 모델의 프로토타입을 만들기 위해서 검증할 수 있는 데이터가 필요한데 train데이터의 일부를 가져다 씀.\n",
    "                    한 에포크가 끝날 때마다 전달된 데이터의 손실과 metrics를 측정한 지표를 나타냄. 입력값은 0이상 1이하의 수\n",
    "- **epochs** : 전체 train데이터로 학습을 반복하는 횟수로 입력값은 정수\n",
    "- **verbose** : 학습과정 출력 여부를 나타내는 옵션. 0은 안나타내고 1은 나타나는데 default는 1.\n",
    "\n",
    "참고 : https://tykimos.github.io/2017/03/25/Fit_Talk/(배치사이즈의 이해를 위해서 꼭 볼것!)"
   ]
  },
  {
   "cell_type": "code",
   "execution_count": 19,
   "metadata": {
    "ExecuteTime": {
     "end_time": "2020-02-25T07:50:43.417846Z",
     "start_time": "2020-02-25T07:50:07.389025Z"
    }
   },
   "outputs": [],
   "source": [
    "# 위에서 나뉘어진 X_train셋을 다시 0.7만 가지고 학습을 시키고 \n",
    "# 나머지 0.3은 검증을 하는데 쓰임\n",
    "\n",
    "history = model.fit(X_train, y_train, \n",
    "                    batch_size = 256, \n",
    "                    validation_split = 0.3,   \n",
    "                    epochs = 200,\n",
    "                    verbose = 0)"
   ]
  },
  {
   "cell_type": "code",
   "execution_count": 20,
   "metadata": {
    "ExecuteTime": {
     "end_time": "2020-02-25T07:50:43.473059Z",
     "start_time": "2020-02-25T07:50:43.437155Z"
    },
    "scrolled": false
   },
   "outputs": [
    {
     "data": {
      "text/html": [
       "<div>\n",
       "<style scoped>\n",
       "    .dataframe tbody tr th:only-of-type {\n",
       "        vertical-align: middle;\n",
       "    }\n",
       "\n",
       "    .dataframe tbody tr th {\n",
       "        vertical-align: top;\n",
       "    }\n",
       "\n",
       "    .dataframe thead th {\n",
       "        text-align: right;\n",
       "    }\n",
       "</style>\n",
       "<table border=\"1\" class=\"dataframe\">\n",
       "  <thead>\n",
       "    <tr style=\"text-align: right;\">\n",
       "      <th></th>\n",
       "      <th>val_loss</th>\n",
       "      <th>val_accuracy</th>\n",
       "      <th>loss</th>\n",
       "      <th>accuracy</th>\n",
       "    </tr>\n",
       "  </thead>\n",
       "  <tbody>\n",
       "    <tr>\n",
       "      <th>0</th>\n",
       "      <td>2.295855</td>\n",
       "      <td>0.111785</td>\n",
       "      <td>2.294993</td>\n",
       "      <td>0.114286</td>\n",
       "    </tr>\n",
       "    <tr>\n",
       "      <th>1</th>\n",
       "      <td>2.295857</td>\n",
       "      <td>0.111785</td>\n",
       "      <td>2.294955</td>\n",
       "      <td>0.114286</td>\n",
       "    </tr>\n",
       "    <tr>\n",
       "      <th>2</th>\n",
       "      <td>2.295858</td>\n",
       "      <td>0.111785</td>\n",
       "      <td>2.294927</td>\n",
       "      <td>0.114286</td>\n",
       "    </tr>\n",
       "    <tr>\n",
       "      <th>3</th>\n",
       "      <td>2.295862</td>\n",
       "      <td>0.111785</td>\n",
       "      <td>2.294891</td>\n",
       "      <td>0.114286</td>\n",
       "    </tr>\n",
       "    <tr>\n",
       "      <th>4</th>\n",
       "      <td>2.295877</td>\n",
       "      <td>0.111785</td>\n",
       "      <td>2.294859</td>\n",
       "      <td>0.114286</td>\n",
       "    </tr>\n",
       "    <tr>\n",
       "      <th>...</th>\n",
       "      <td>...</td>\n",
       "      <td>...</td>\n",
       "      <td>...</td>\n",
       "      <td>...</td>\n",
       "    </tr>\n",
       "    <tr>\n",
       "      <th>195</th>\n",
       "      <td>2.291293</td>\n",
       "      <td>0.111785</td>\n",
       "      <td>2.289770</td>\n",
       "      <td>0.114286</td>\n",
       "    </tr>\n",
       "    <tr>\n",
       "      <th>196</th>\n",
       "      <td>2.291257</td>\n",
       "      <td>0.111785</td>\n",
       "      <td>2.289743</td>\n",
       "      <td>0.114286</td>\n",
       "    </tr>\n",
       "    <tr>\n",
       "      <th>197</th>\n",
       "      <td>2.291227</td>\n",
       "      <td>0.111785</td>\n",
       "      <td>2.289714</td>\n",
       "      <td>0.114286</td>\n",
       "    </tr>\n",
       "    <tr>\n",
       "      <th>198</th>\n",
       "      <td>2.291212</td>\n",
       "      <td>0.111785</td>\n",
       "      <td>2.289686</td>\n",
       "      <td>0.114286</td>\n",
       "    </tr>\n",
       "    <tr>\n",
       "      <th>199</th>\n",
       "      <td>2.291202</td>\n",
       "      <td>0.111785</td>\n",
       "      <td>2.289659</td>\n",
       "      <td>0.114286</td>\n",
       "    </tr>\n",
       "  </tbody>\n",
       "</table>\n",
       "<p>200 rows × 4 columns</p>\n",
       "</div>"
      ],
      "text/plain": [
       "     val_loss  val_accuracy      loss  accuracy\n",
       "0    2.295855      0.111785  2.294993  0.114286\n",
       "1    2.295857      0.111785  2.294955  0.114286\n",
       "2    2.295858      0.111785  2.294927  0.114286\n",
       "3    2.295862      0.111785  2.294891  0.114286\n",
       "4    2.295877      0.111785  2.294859  0.114286\n",
       "..        ...           ...       ...       ...\n",
       "195  2.291293      0.111785  2.289770  0.114286\n",
       "196  2.291257      0.111785  2.289743  0.114286\n",
       "197  2.291227      0.111785  2.289714  0.114286\n",
       "198  2.291212      0.111785  2.289686  0.114286\n",
       "199  2.291202      0.111785  2.289659  0.114286\n",
       "\n",
       "[200 rows x 4 columns]"
      ]
     },
     "execution_count": 20,
     "metadata": {},
     "output_type": "execute_result"
    }
   ],
   "source": [
    "# 한 에포크가 끝날 때마다 아래의 데이터프레임에서 row 하나씩 출력한다고 생각하면 됌\n",
    "import pandas as pd\n",
    "pd.DataFrame(history.history)\n",
    "\n",
    "# loss : 훈련 손실값\n",
    "# acc : 훈련 정확도\n",
    "# val_loss : 검증 손실값\n",
    "# val_acc : 검증 정확도"
   ]
  },
  {
   "cell_type": "code",
   "execution_count": 21,
   "metadata": {
    "ExecuteTime": {
     "end_time": "2020-02-25T07:51:38.999886Z",
     "start_time": "2020-02-25T07:51:38.825082Z"
    }
   },
   "outputs": [
    {
     "data": {
      "image/png": "[encoded data removed]",
      "text/plain": [
       "<Figure size 432x288 with 1 Axes>"
      ]
     },
     "metadata": {
      "needs_background": "light"
     },
     "output_type": "display_data"
    }
   ],
   "source": [
    "plt.plot(history.history['accuracy'])\n",
    "plt.plot(history.history['val_accuracy'])\n",
    "plt.legend(['training', 'validation'], loc = 'upper left')\n",
    "plt.show()"
   ]
  },
  {
   "cell_type": "code",
   "execution_count": 22,
   "metadata": {
    "ExecuteTime": {
     "end_time": "2020-02-25T07:51:55.001549Z",
     "start_time": "2020-02-25T07:51:54.712700Z"
    }
   },
   "outputs": [
    {
     "name": "stdout",
     "output_type": "stream",
     "text": [
      "10000/10000 [==============================] - 0s 28us/step\n",
      "[2.290374263763428, 0.11349999904632568]\n"
     ]
    }
   ],
   "source": [
    "results = model.evaluate(X_test, y_test) # loss value와 [metrics로 지정한 accuracy]가 tuple형식으로 나옴\n",
    "print(results)"
   ]
  },
  {
   "cell_type": "code",
   "execution_count": 23,
   "metadata": {
    "ExecuteTime": {
     "end_time": "2020-02-25T07:52:00.145012Z",
     "start_time": "2020-02-25T07:52:00.140617Z"
    }
   },
   "outputs": [
    {
     "name": "stdout",
     "output_type": "stream",
     "text": [
      "Test accuracy:  0.11349999904632568\n"
     ]
    }
   ],
   "source": [
    "print('Test accuracy: ', results[1]) # accuracy만 받기"
   ]
  },
  {
   "cell_type": "markdown",
   "metadata": {},
   "source": [
    "---"
   ]
  },
  {
   "attachments": {
    "%EC%B4%88%EA%B8%B0%ED%99%94.png": {
     "image/png": "[encoded data removed]"
    }
   },
   "cell_type": "markdown",
   "metadata": {},
   "source": [
    "딥러닝 학습에 있어 초기 가중치 설정은 매우 중요한 역활을 한다. 가중치를 잘못 설정할 경우 기울기 소실 문제나 표현력의 한계를 갖는 등 여러 문제를 야기하게 된다. 또한 딥러닝의 학습의 문제가 non-convex 이기 때문에 가중치의 초기값을 잘못 설정할 경우 local minimum에 수렴할 가능성이 커지게 된다.\n",
    "\n",
    "초기값 설정을 잘못해 문제가 발생하는 경우들을 살펴보자.\n",
    "\n",
    "1) 초기값을 모두 0으로 설정한 경우\n",
    "\n",
    "만약 데이터를 평균 0정도로 정규화시킨다면, 가중치를 0으로 초기화 시킨다는 생각은 꽤 합리적으로 보일 수 있다. 그러나 실제로 0으로 가중치를 초기화 한다면 모든 뉴런들이 같은 값을 나타낼 것이고, 역전파 과정에서 각 가중치의 update가 동일하게 이뤄질 것이다. 이러한 update는 학습을 진행 해도 계속해서 발생할 것이며, 결국 제대로 학습하기 어려울 것이다. 또한 이러한 동일한 update는 여러 층으로 나누는 의미를 상쇄시킨다.\n",
    "\n",
    "2) 활성화 함수로 sigmoid 사용시 정규 분포 사용\n",
    "\n",
    "지난 포스트에서 확인했듯이 sigmoid함수는 input의 절대값이 조금이라도 커지게 되면 미분값이 소실되는 문제가 발생한다는 것을 확인했다. 이 경우에 평균 0이고 표준편차가 1인 정규분포를 따르도록 가중치를 랜덤하게 초기화 한다고 가정하자. gradient vanishing의 경우에는 표준편차가 크기 때문에 학습을 반복할 수록 가중치 값들이 0,1 로 치우치는 문제 발생한다. 물론 Activation Function을 바꿈으로써 해결 할 수도 있겠지만, 가중치 초기화를 잘 설정함으로써도 어느정도 해결할 수 있다.\n",
    "\n",
    "3) 2의 case에서 표준편차를 줄였을 경우\n",
    "\n",
    "2의 문제를 확인하고 표준편차가 커 |x|값이 커지면서 기울기가 소실되는 문제를 확인했기 때문에, 표준편차를 줄여서 |x|값을 줄이려는 생각을 가지고 표준편차를 0.01로 설정한다고 가정하자. 이 경우에는 또다른 문제가 발생한다.\n",
    "![%EC%B4%88%EA%B8%B0%ED%99%94.png](attachment:%EC%B4%88%EA%B8%B0%ED%99%94.png)\n",
    "이렇게 표준편차를 적게 하면 층이 깊어질 수록 가중치 값들이 중간값인 0.5 부근에 몰리는 문제를 확인할 수 있을 것이다.\n",
    "\n",
    "출처 : https://reniew.github.io/13/"
   ]
  },
  {
   "cell_type": "markdown",
   "metadata": {},
   "source": [
    "## 1. Weight Initialization\n",
    "\n",
    "### 1) Xavier\n",
    "Xavier Initialization 혹은 Glorot Initialization라고도 불리는 초기화 방법은 이전 노드와 다음 노드의 개수에 의존하는 방법이다. Xaiver함수는 비선형함수(ex. **sigmoid, tanh**)에서 효과적인 결과를 보여준다.  Xavier Initialization에는 다음과 같은 두가지 방법이 있다.\n",
    "\n",
    "- **Xavier Normal Initialization**\n",
    "\\begin{align}\n",
    "W \\sim N(0,Var(W))\n",
    "\\end{align}\n",
    "\n",
    "Here, $Var(W) = \\sqrt{\\frac{2}{n_{in}+n_{out}}}$, where $n_{in}$은 이전 layer의 노드 수, $n_{out}$은 다음 layer의 노드수\n",
    "\n",
    "- **Xavier Uniform Initialization** : \n",
    "\\begin{align}\n",
    "W \\sim U(- \\sqrt{\\frac{6}{n_{in}+n_{out}}}, \\sqrt{\\frac{6}{n_{in}+n_{out}}})\n",
    "\\end{align}\n",
    "\n",
    "Here, $Var(W) = \\sqrt{\\frac{2}{n_{in}+n_{out}}}$, where $n_{in}$은 이전 layer(input)의 노드 수, $n_{out}$은 다음 layer(output)의 노드수\n",
    "\n",
    "----\n",
    "**하지만 ReLU함수에서 Xavier Initialization을 사용 시 출력 값이 0으로 수렴하게 되는 현상을 확인 할 수 있다. 따라서 ReLU함수에는 또 다른 초기화 방법을 사용해야 한다.**\n",
    "\n",
    "---\n",
    "### 2) He\n",
    "ReLU를 활성화 함수로 사용 시 Xavier 초기값 설정이 비효율적인 결과를 보이는 것을 확인할 수 있는데, 이런 경우 He initialization을 사용한다. 이 방법 또한 정규분포와 균등분포 두가지 방법이 사용된다.(He et al. ,2015)\n",
    "- **He Normal Initialization**\n",
    "\\begin{align}\n",
    "W \\sim N(0,Var(W))\n",
    "\\end{align}\n",
    "\n",
    "Here, $Var(W) = \\sqrt{\\frac{2}{n_{in}}}$, where $n_{in}$은 이전 layer(input)의 노드 수\n",
    "- **Normal distribution**\n",
    "\\begin{align}\n",
    "W \\sim U(- \\sqrt{\\frac{6}{n_{in}}}, \\sqrt{\\frac{6}{n_{in}}})\n",
    "\\end{align}\n",
    "\n",
    "Here, $Var(W) = \\sqrt{\\frac{2}{n_{in}+n_{out}}}$, where $n_{in}$은 이전 layer(input)의 노드 수\n",
    "\n",
    "### Bias 초기화\n",
    "가중치 초기화 뿐만 아니라 편향(bias) 초기값 또한 초기값 설정 또한 중요하다.\n",
    "보통의 경우에는 Bias는 0으로 초기화 하는 것이 일반적이다. ReLU의 경우 0.01과 같은 작은 값으로 b를 초기화 하는 것이 좋다는 보고도 있지만 모든 경우는 아니라 일반적으로는 0으로 초기화 하는 것이 효율적이다.\n",
    "\n",
    "----\n",
    "### Conclusion\n",
    "- Sigmoid, tanh 경우 Xavier 초기화 방법이 효율적이다.\n",
    "- ReLU계의 활성화 함수 사용 시 He 초기화 방법이 효율적이다.\n",
    "- **최근의 대부분의 모델에서는 He초기화를 주로 선택한다.**\n",
    "마지막으로, 대부분의 초기화 방법이 Normal Distribution과 Uniform Distribution을 따르는 두가지 방법이 있는데 이에대한 선택 기준에 대해서는 명확한 것이 없다. 하지만 He의 논문의 말을 인용하면,\n",
    "\n",
    "> 최근의 Deep CNN 모델들은 주로 Gaussian Distribution을 따르는 가중치 초기화 방법을 사용한다.\n",
    "\n",
    "따라서 Deep CNN의 경우 보통의 Gaussian 초기화 방법을 사용해 볼 수 있다.하지만 여러 초기화 방법들을 테스트하며 사용하는 것이 가장 좋은 방법일 것이다.\n",
    "\n",
    "출처 : https://reniew.github.io/13/"
   ]
  },
  {
   "cell_type": "markdown",
   "metadata": {},
   "source": [
    "---"
   ]
  },
  {
   "cell_type": "code",
   "execution_count": 24,
   "metadata": {
    "ExecuteTime": {
     "end_time": "2020-02-25T07:57:11.196824Z",
     "start_time": "2020-02-25T07:57:11.163769Z"
    }
   },
   "outputs": [],
   "source": [
    "# from now on, create a function to generate (return) models\n",
    "def mlp_model():\n",
    "    model = Sequential()\n",
    "    \n",
    "    model.add(Dense(50, input_shape = (784, ), kernel_initializer='he_normal'))     # use he_normal initializer\n",
    "    model.add(Activation('sigmoid'))    \n",
    "    model.add(Dense(50, kernel_initializer='he_normal'))                            # use he_normal initializer\n",
    "    model.add(Activation('sigmoid'))    \n",
    "    model.add(Dense(50, kernel_initializer='he_normal'))                            # use he_normal initializer\n",
    "    model.add(Activation('sigmoid'))    \n",
    "    model.add(Dense(50, kernel_initializer='he_normal'))                            # use he_normal initializer\n",
    "    model.add(Activation('sigmoid'))    \n",
    "    model.add(Dense(10, kernel_initializer='he_normal'))                            # use he_normal initializer\n",
    "    model.add(Activation('softmax'))\n",
    "    \n",
    "    sgd = optimizers.SGD(lr = 0.001)\n",
    "    model.compile(optimizer = sgd, loss = 'categorical_crossentropy', metrics = ['accuracy'])\n",
    "    \n",
    "    return model"
   ]
  },
  {
   "cell_type": "code",
   "execution_count": 25,
   "metadata": {
    "ExecuteTime": {
     "end_time": "2020-02-25T07:58:50.252792Z",
     "start_time": "2020-02-25T07:57:17.273433Z"
    }
   },
   "outputs": [],
   "source": [
    "model = mlp_model()\n",
    "history = model.fit(X_train, y_train, \n",
    "                    validation_split = 0.3, \n",
    "                    epochs = 100, \n",
    "                    verbose = 0)"
   ]
  },
  {
   "cell_type": "code",
   "execution_count": 26,
   "metadata": {
    "ExecuteTime": {
     "end_time": "2020-02-25T08:00:04.603698Z",
     "start_time": "2020-02-25T08:00:04.570622Z"
    }
   },
   "outputs": [
    {
     "data": {
      "text/html": [
       "<div>\n",
       "<style scoped>\n",
       "    .dataframe tbody tr th:only-of-type {\n",
       "        vertical-align: middle;\n",
       "    }\n",
       "\n",
       "    .dataframe tbody tr th {\n",
       "        vertical-align: top;\n",
       "    }\n",
       "\n",
       "    .dataframe thead th {\n",
       "        text-align: right;\n",
       "    }\n",
       "</style>\n",
       "<table border=\"1\" class=\"dataframe\">\n",
       "  <thead>\n",
       "    <tr style=\"text-align: right;\">\n",
       "      <th></th>\n",
       "      <th>val_loss</th>\n",
       "      <th>val_accuracy</th>\n",
       "      <th>loss</th>\n",
       "      <th>accuracy</th>\n",
       "    </tr>\n",
       "  </thead>\n",
       "  <tbody>\n",
       "    <tr>\n",
       "      <th>0</th>\n",
       "      <td>2.340232</td>\n",
       "      <td>0.100337</td>\n",
       "      <td>2.371519</td>\n",
       "      <td>0.100938</td>\n",
       "    </tr>\n",
       "    <tr>\n",
       "      <th>1</th>\n",
       "      <td>2.312498</td>\n",
       "      <td>0.140741</td>\n",
       "      <td>2.322000</td>\n",
       "      <td>0.120346</td>\n",
       "    </tr>\n",
       "    <tr>\n",
       "      <th>2</th>\n",
       "      <td>2.302719</td>\n",
       "      <td>0.112290</td>\n",
       "      <td>2.305185</td>\n",
       "      <td>0.117244</td>\n",
       "    </tr>\n",
       "    <tr>\n",
       "      <th>3</th>\n",
       "      <td>2.298665</td>\n",
       "      <td>0.111785</td>\n",
       "      <td>2.298861</td>\n",
       "      <td>0.114430</td>\n",
       "    </tr>\n",
       "    <tr>\n",
       "      <th>4</th>\n",
       "      <td>2.296489</td>\n",
       "      <td>0.111785</td>\n",
       "      <td>2.296048</td>\n",
       "      <td>0.114286</td>\n",
       "    </tr>\n",
       "    <tr>\n",
       "      <th>...</th>\n",
       "      <td>...</td>\n",
       "      <td>...</td>\n",
       "      <td>...</td>\n",
       "      <td>...</td>\n",
       "    </tr>\n",
       "    <tr>\n",
       "      <th>95</th>\n",
       "      <td>1.821773</td>\n",
       "      <td>0.464310</td>\n",
       "      <td>1.815742</td>\n",
       "      <td>0.451515</td>\n",
       "    </tr>\n",
       "    <tr>\n",
       "      <th>96</th>\n",
       "      <td>1.812778</td>\n",
       "      <td>0.467003</td>\n",
       "      <td>1.806335</td>\n",
       "      <td>0.465296</td>\n",
       "    </tr>\n",
       "    <tr>\n",
       "      <th>97</th>\n",
       "      <td>1.803793</td>\n",
       "      <td>0.467677</td>\n",
       "      <td>1.797282</td>\n",
       "      <td>0.470924</td>\n",
       "    </tr>\n",
       "    <tr>\n",
       "      <th>98</th>\n",
       "      <td>1.795188</td>\n",
       "      <td>0.462963</td>\n",
       "      <td>1.788146</td>\n",
       "      <td>0.468326</td>\n",
       "    </tr>\n",
       "    <tr>\n",
       "      <th>99</th>\n",
       "      <td>1.786500</td>\n",
       "      <td>0.459933</td>\n",
       "      <td>1.779265</td>\n",
       "      <td>0.469625</td>\n",
       "    </tr>\n",
       "  </tbody>\n",
       "</table>\n",
       "<p>100 rows × 4 columns</p>\n",
       "</div>"
      ],
      "text/plain": [
       "    val_loss  val_accuracy      loss  accuracy\n",
       "0   2.340232      0.100337  2.371519  0.100938\n",
       "1   2.312498      0.140741  2.322000  0.120346\n",
       "2   2.302719      0.112290  2.305185  0.117244\n",
       "3   2.298665      0.111785  2.298861  0.114430\n",
       "4   2.296489      0.111785  2.296048  0.114286\n",
       "..       ...           ...       ...       ...\n",
       "95  1.821773      0.464310  1.815742  0.451515\n",
       "96  1.812778      0.467003  1.806335  0.465296\n",
       "97  1.803793      0.467677  1.797282  0.470924\n",
       "98  1.795188      0.462963  1.788146  0.468326\n",
       "99  1.786500      0.459933  1.779265  0.469625\n",
       "\n",
       "[100 rows x 4 columns]"
      ]
     },
     "execution_count": 26,
     "metadata": {},
     "output_type": "execute_result"
    }
   ],
   "source": [
    "# 한 에포크가 끝날 때마다 아래의 데이터프레임에서 row 하나씩 출력한다고 생각하면 됌\n",
    "pd.DataFrame(history.history)"
   ]
  },
  {
   "cell_type": "code",
   "execution_count": 27,
   "metadata": {
    "ExecuteTime": {
     "end_time": "2020-02-25T08:06:51.505627Z",
     "start_time": "2020-02-25T08:06:51.337613Z"
    }
   },
   "outputs": [
    {
     "data": {
      "image/png": "[encoded data removed]",
      "text/plain": [
       "<Figure size 432x288 with 1 Axes>"
      ]
     },
     "metadata": {
      "needs_background": "light"
     },
     "output_type": "display_data"
    }
   ],
   "source": [
    "plt.plot(history.history['accuracy'])\n",
    "plt.plot(history.history['val_accuracy'])\n",
    "plt.legend(['training', 'validation'], loc = 'upper left')\n",
    "plt.show()"
   ]
  },
  {
   "cell_type": "code",
   "execution_count": 28,
   "metadata": {
    "ExecuteTime": {
     "end_time": "2020-02-25T08:06:55.511878Z",
     "start_time": "2020-02-25T08:06:55.225296Z"
    }
   },
   "outputs": [
    {
     "name": "stdout",
     "output_type": "stream",
     "text": [
      "10000/10000 [==============================] - 0s 28us/step\n",
      "[1.7852904748916627, 0.44909998774528503]\n"
     ]
    }
   ],
   "source": [
    "results = model.evaluate(X_test, y_test)\n",
    "\n",
    "# loss값과 accuracy값을 리턴함\n",
    "print(results)"
   ]
  },
  {
   "cell_type": "code",
   "execution_count": 29,
   "metadata": {
    "ExecuteTime": {
     "end_time": "2020-02-25T08:06:56.392778Z",
     "start_time": "2020-02-25T08:06:56.388789Z"
    },
    "scrolled": true
   },
   "outputs": [
    {
     "name": "stdout",
     "output_type": "stream",
     "text": [
      "Test accuracy:  0.44909998774528503\n"
     ]
    }
   ],
   "source": [
    "print('Test accuracy: ', results[1])"
   ]
  },
  {
   "cell_type": "markdown",
   "metadata": {},
   "source": [
    "위에서 했던 것보다 accuracy는 높지 않지만 여전히 불만족스러움...\n",
    "그래서 이번엔 Activation Function을 nonlinear로 바꿔서 해보기로..!"
   ]
  },
  {
   "cell_type": "markdown",
   "metadata": {},
   "source": [
    "---"
   ]
  },
  {
   "cell_type": "markdown",
   "metadata": {},
   "source": [
    "## 2. Nonlinearity (Activation function)\n",
    "### 위의 예제에서 activate function을 relu로 바꿔보기"
   ]
  },
  {
   "cell_type": "code",
   "execution_count": 30,
   "metadata": {
    "ExecuteTime": {
     "end_time": "2020-02-25T08:06:59.723263Z",
     "start_time": "2020-02-25T08:06:59.716392Z"
    }
   },
   "outputs": [],
   "source": [
    "# from now on, create a function to generate (return) models\n",
    "def mlp_model():\n",
    "    model = Sequential()\n",
    "    \n",
    "    model.add(Dense(50, input_shape = (784, ), kernel_initializer='he_normal'))     # use he_normal initializer\n",
    "    model.add(Activation('relu'))    \n",
    "    model.add(Dense(50, kernel_initializer='he_normal'))                            # use he_normal initializer\n",
    "    model.add(Activation('relu'))    \n",
    "    model.add(Dense(50, kernel_initializer='he_normal'))                            # use he_normal initializer\n",
    "    model.add(Activation('relu'))    \n",
    "    model.add(Dense(50, kernel_initializer='he_normal'))                            # use he_normal initializer\n",
    "    model.add(Activation('relu'))    \n",
    "    model.add(Dense(10, kernel_initializer='he_normal'))                            # use he_normal initializer\n",
    "    model.add(Activation('softmax'))\n",
    "    \n",
    "    sgd = optimizers.SGD(lr = 0.001)\n",
    "    model.compile(optimizer = sgd, loss = 'categorical_crossentropy', metrics = ['accuracy'])\n",
    "    \n",
    "    return model"
   ]
  },
  {
   "cell_type": "code",
   "execution_count": 31,
   "metadata": {
    "ExecuteTime": {
     "end_time": "2020-02-25T08:08:27.250239Z",
     "start_time": "2020-02-25T08:07:01.496001Z"
    }
   },
   "outputs": [],
   "source": [
    "model = mlp_model()\n",
    "history = model.fit(X_train, y_train, \n",
    "                    validation_split = 0.3, \n",
    "                    epochs = 100,\n",
    "                    verbose = 0)"
   ]
  },
  {
   "cell_type": "code",
   "execution_count": 32,
   "metadata": {
    "ExecuteTime": {
     "end_time": "2020-02-25T08:08:35.844464Z",
     "start_time": "2020-02-25T08:08:35.696671Z"
    },
    "scrolled": true
   },
   "outputs": [
    {
     "data": {
      "image/png": "[encoded data removed]",
      "text/plain": [
       "<Figure size 432x288 with 1 Axes>"
      ]
     },
     "metadata": {
      "needs_background": "light"
     },
     "output_type": "display_data"
    }
   ],
   "source": [
    "plt.plot(history.history['accuracy'])\n",
    "plt.plot(history.history['val_accuracy'])\n",
    "plt.legend(['training', 'validation'], loc = 'upper left')\n",
    "plt.show()"
   ]
  },
  {
   "cell_type": "code",
   "execution_count": 33,
   "metadata": {
    "ExecuteTime": {
     "end_time": "2020-02-25T08:08:56.087869Z",
     "start_time": "2020-02-25T08:08:55.793636Z"
    },
    "scrolled": true
   },
   "outputs": [
    {
     "name": "stdout",
     "output_type": "stream",
     "text": [
      "10000/10000 [==============================] - 0s 29us/step\n",
      "[0.542452638631314, 0.9023000001907349]\n"
     ]
    }
   ],
   "source": [
    "results = model.evaluate(X_test, y_test)\n",
    "\n",
    "# loss값과 accuracy값을 리턴함\n",
    "print(results)"
   ]
  },
  {
   "cell_type": "code",
   "execution_count": 34,
   "metadata": {
    "ExecuteTime": {
     "end_time": "2020-02-25T08:08:58.976928Z",
     "start_time": "2020-02-25T08:08:58.971940Z"
    },
    "scrolled": true
   },
   "outputs": [
    {
     "name": "stdout",
     "output_type": "stream",
     "text": [
      "Test accuracy:  0.9023000001907349\n"
     ]
    }
   ],
   "source": [
    "print('Test accuracy: ', results[1])"
   ]
  },
  {
   "cell_type": "markdown",
   "metadata": {},
   "source": [
    "relu로 activation function으로 바꾸니까 accuracy가 훨씬 좋아졌다!!\n",
    "\n",
    "더 좋아지게 하는 방법을 생각해보자!"
   ]
  },
  {
   "cell_type": "markdown",
   "metadata": {},
   "source": [
    "## 3. Optimizers"
   ]
  },
  {
   "cell_type": "code",
   "execution_count": 35,
   "metadata": {
    "ExecuteTime": {
     "end_time": "2020-02-25T08:09:03.329741Z",
     "start_time": "2020-02-25T08:09:03.323388Z"
    }
   },
   "outputs": [],
   "source": [
    "# 비록 sigmoid를 썼지만 adam을 썼기 때문에 결과가 좋음(밑의 그래프 참조)\n",
    "# \n",
    "def mlp_model():\n",
    "    model = Sequential()\n",
    "    \n",
    "    model.add(Dense(50, input_shape = (784, )))\n",
    "    model.add(Activation('sigmoid'))    \n",
    "    model.add(Dense(50))\n",
    "    model.add(Activation('sigmoid'))  \n",
    "    model.add(Dense(50))\n",
    "    model.add(Activation('sigmoid'))    \n",
    "    model.add(Dense(50))\n",
    "    model.add(Activation('sigmoid'))    \n",
    "    model.add(Dense(10))\n",
    "    model.add(Activation('softmax'))\n",
    "    \n",
    "    adam = optimizers.Adam(lr = 0.001)                     # use Adam optimizer\n",
    "    model.compile(optimizer = adam, loss = 'categorical_crossentropy', metrics = ['accuracy'])\n",
    "    \n",
    "    return model"
   ]
  },
  {
   "cell_type": "code",
   "execution_count": 36,
   "metadata": {
    "ExecuteTime": {
     "end_time": "2020-02-25T08:10:35.777253Z",
     "start_time": "2020-02-25T08:09:04.608949Z"
    }
   },
   "outputs": [],
   "source": [
    "model = mlp_model()\n",
    "history = model.fit(X_train, y_train, \n",
    "                    validation_split = 0.3, \n",
    "                    epochs = 100, \n",
    "                    verbose = 0)"
   ]
  },
  {
   "cell_type": "code",
   "execution_count": 37,
   "metadata": {
    "ExecuteTime": {
     "end_time": "2020-02-25T08:10:51.846090Z",
     "start_time": "2020-02-25T08:10:51.390306Z"
    }
   },
   "outputs": [
    {
     "data": {
      "image/png": "[encoded data removed]",
      "text/plain": [
       "<Figure size 432x288 with 1 Axes>"
      ]
     },
     "metadata": {
      "needs_background": "light"
     },
     "output_type": "display_data"
    }
   ],
   "source": [
    "plt.plot(history.history['accuracy'])\n",
    "plt.plot(history.history['val_accuracy'])\n",
    "plt.legend(['training', 'validation'], loc = 'upper left')\n",
    "plt.show()"
   ]
  },
  {
   "cell_type": "code",
   "execution_count": 38,
   "metadata": {
    "ExecuteTime": {
     "end_time": "2020-02-25T08:10:56.527059Z",
     "start_time": "2020-02-25T08:10:56.227382Z"
    }
   },
   "outputs": [
    {
     "name": "stdout",
     "output_type": "stream",
     "text": [
      "10000/10000 [==============================] - 0s 29us/step\n"
     ]
    }
   ],
   "source": [
    "results = model.evaluate(X_test, y_test)"
   ]
  },
  {
   "cell_type": "code",
   "execution_count": 39,
   "metadata": {
    "ExecuteTime": {
     "end_time": "2020-02-25T08:10:57.276523Z",
     "start_time": "2020-02-25T08:10:57.272534Z"
    },
    "scrolled": true
   },
   "outputs": [
    {
     "name": "stdout",
     "output_type": "stream",
     "text": [
      "Test accuracy:  0.9225000143051147\n"
     ]
    }
   ],
   "source": [
    "print('Test accuracy: ', results[1])"
   ]
  },
  {
   "cell_type": "markdown",
   "metadata": {},
   "source": [
    "accuracy가 엄청나게 좋아졌다!!!\n",
    "\n",
    "그래도 다른 요소를 더 고려해보자"
   ]
  },
  {
   "cell_type": "markdown",
   "metadata": {},
   "source": [
    "## 4. Batch Normalization\n",
    "\n",
    "비선형 변환 전에 추가\n",
    "\n",
    "참고 : \n",
    "- https://shuuki4.wordpress.com/2016/01/13/batch-normalization-%EC%84%A4%EB%AA%85-%EB%B0%8F-%EA%B5%AC%ED%98%84/\n",
    "- https://laonple.blog.me/220808903260"
   ]
  },
  {
   "cell_type": "code",
   "execution_count": 40,
   "metadata": {
    "ExecuteTime": {
     "end_time": "2020-02-25T08:11:07.660623Z",
     "start_time": "2020-02-25T08:11:07.653637Z"
    }
   },
   "outputs": [],
   "source": [
    "def mlp_model():\n",
    "    model = Sequential()\n",
    "    \n",
    "    model.add(Dense(50, input_shape = (784, )))\n",
    "    model.add(BatchNormalization())  ## 이것만 추가   (배치는 activation 전에 한다.)\n",
    "    model.add(Activation('sigmoid'))\n",
    "    \n",
    "    model.add(Dense(50))\n",
    "    model.add(BatchNormalization())     #\n",
    "    model.add(Activation('sigmoid'))\n",
    "    \n",
    "    model.add(Dense(50))\n",
    "    model.add(BatchNormalization())       #\n",
    "    model.add(Activation('sigmoid'))\n",
    "    \n",
    "    model.add(Dense(50))\n",
    "    model.add(BatchNormalization())       #\n",
    "    model.add(Activation('sigmoid'))\n",
    "    \n",
    "    model.add(Dense(10))\n",
    "    model.add(Activation('softmax'))\n",
    "    \n",
    "    sgd = optimizers.SGD(lr = 0.001)\n",
    "    model.compile(optimizer = sgd, loss = 'categorical_crossentropy', metrics = ['accuracy'])\n",
    "    \n",
    "    return model"
   ]
  },
  {
   "cell_type": "code",
   "execution_count": 41,
   "metadata": {
    "ExecuteTime": {
     "end_time": "2020-02-25T08:13:25.739748Z",
     "start_time": "2020-02-25T08:11:08.570223Z"
    }
   },
   "outputs": [],
   "source": [
    "model = mlp_model()\n",
    "history = model.fit(X_train, y_train, \n",
    "                    validation_split = 0.3, \n",
    "                    epochs = 100, \n",
    "                    verbose = 0)"
   ]
  },
  {
   "cell_type": "code",
   "execution_count": 42,
   "metadata": {
    "ExecuteTime": {
     "end_time": "2020-02-25T08:13:25.996762Z",
     "start_time": "2020-02-25T08:13:25.770032Z"
    }
   },
   "outputs": [
    {
     "data": {
      "image/png": "[encoded data removed]",
      "text/plain": [
       "<Figure size 432x288 with 1 Axes>"
      ]
     },
     "metadata": {
      "needs_background": "light"
     },
     "output_type": "display_data"
    }
   ],
   "source": [
    "plt.plot(history.history['accuracy'])\n",
    "plt.plot(history.history['val_accuracy'])\n",
    "plt.legend(['training', 'validation'], loc = 'upper left')\n",
    "plt.show()"
   ]
  },
  {
   "cell_type": "code",
   "execution_count": 43,
   "metadata": {
    "ExecuteTime": {
     "end_time": "2020-02-25T08:13:26.420745Z",
     "start_time": "2020-02-25T08:13:26.017447Z"
    }
   },
   "outputs": [
    {
     "name": "stdout",
     "output_type": "stream",
     "text": [
      "10000/10000 [==============================] - 0s 40us/step\n"
     ]
    }
   ],
   "source": [
    "results = model.evaluate(X_test, y_test)"
   ]
  },
  {
   "cell_type": "code",
   "execution_count": 44,
   "metadata": {
    "ExecuteTime": {
     "end_time": "2020-02-25T08:13:26.448522Z",
     "start_time": "2020-02-25T08:13:26.441533Z"
    }
   },
   "outputs": [
    {
     "name": "stdout",
     "output_type": "stream",
     "text": [
      "Test accuracy:  0.913100004196167\n"
     ]
    }
   ],
   "source": [
    "print('Test accuracy: ', results[1])"
   ]
  },
  {
   "cell_type": "markdown",
   "metadata": {},
   "source": [
    "여전히 GOOD!!\n",
    "\n",
    "다른 것도 또 알아볼까?"
   ]
  },
  {
   "cell_type": "markdown",
   "metadata": {},
   "source": [
    "---"
   ]
  },
  {
   "cell_type": "markdown",
   "metadata": {},
   "source": [
    "## 5. Dropout (Regularization)\n",
    "\n",
    "weight를 0으로 만들어주는 효과"
   ]
  },
  {
   "cell_type": "code",
   "execution_count": 45,
   "metadata": {
    "ExecuteTime": {
     "end_time": "2020-02-25T08:14:13.773501Z",
     "start_time": "2020-02-25T08:14:13.765525Z"
    }
   },
   "outputs": [],
   "source": [
    "# Droupout은 크게 잡는다.\n",
    "\n",
    "def mlp_model():\n",
    "    model = Sequential()\n",
    "    \n",
    "    model.add(Dense(50, input_shape = (784, )))\n",
    "    model.add(Activation('sigmoid'))    \n",
    "    model.add(Dropout(0.5))                        # Dropout layer after Activation\n",
    "    \n",
    "    model.add(Dense(50))\n",
    "    model.add(Activation('sigmoid'))\n",
    "    model.add(Dropout(0.5))                        # Dropout layer after Activation\n",
    "    \n",
    "    model.add(Dense(50))\n",
    "    model.add(Activation('sigmoid'))    \n",
    "    model.add(Dropout(0.5))                        # Dropout layer after Activation\n",
    "    \n",
    "    model.add(Dense(50))\n",
    "    model.add(Activation('sigmoid'))    \n",
    "    model.add(Dropout(0.5))                         # Dropout layer after Activation\n",
    "    \n",
    "    model.add(Dense(10))\n",
    "    model.add(Activation('softmax'))\n",
    "    \n",
    "    sgd = optimizers.SGD(lr = 0.001)\n",
    "    model.compile(optimizer = sgd, loss = 'categorical_crossentropy', metrics = ['accuracy'])\n",
    "    \n",
    "    return model"
   ]
  },
  {
   "cell_type": "code",
   "execution_count": 46,
   "metadata": {
    "ExecuteTime": {
     "end_time": "2020-02-25T08:16:02.825121Z",
     "start_time": "2020-02-25T08:14:14.970998Z"
    }
   },
   "outputs": [],
   "source": [
    "model = mlp_model()\n",
    "history = model.fit(X_train, y_train, \n",
    "                    validation_split = 0.3,\n",
    "                    epochs = 100,\n",
    "                    verbose = 0)"
   ]
  },
  {
   "cell_type": "code",
   "execution_count": 47,
   "metadata": {
    "ExecuteTime": {
     "end_time": "2020-02-25T08:16:03.059714Z",
     "start_time": "2020-02-25T08:16:02.843191Z"
    }
   },
   "outputs": [
    {
     "data": {
      "image/png": "[encoded data removed]",
      "text/plain": [
       "<Figure size 432x288 with 1 Axes>"
      ]
     },
     "metadata": {
      "needs_background": "light"
     },
     "output_type": "display_data"
    }
   ],
   "source": [
    "plt.plot(history.history['accuracy'])\n",
    "plt.plot(history.history['val_accuracy'])\n",
    "plt.legend(['training', 'validation'], loc = 'upper left')\n",
    "plt.show()"
   ]
  },
  {
   "cell_type": "code",
   "execution_count": 48,
   "metadata": {
    "ExecuteTime": {
     "end_time": "2020-02-25T08:16:03.567738Z",
     "start_time": "2020-02-25T08:16:03.085644Z"
    }
   },
   "outputs": [
    {
     "name": "stdout",
     "output_type": "stream",
     "text": [
      "10000/10000 [==============================] - 0s 47us/step\n"
     ]
    }
   ],
   "source": [
    "results = model.evaluate(X_test, y_test)"
   ]
  },
  {
   "cell_type": "code",
   "execution_count": 49,
   "metadata": {
    "ExecuteTime": {
     "end_time": "2020-02-25T08:16:03.593893Z",
     "start_time": "2020-02-25T08:16:03.588911Z"
    }
   },
   "outputs": [
    {
     "name": "stdout",
     "output_type": "stream",
     "text": [
      "Test accuracy:  0.11349999904632568\n"
     ]
    }
   ],
   "source": [
    "print('Test accuracy: ', results[1])"
   ]
  },
  {
   "cell_type": "markdown",
   "metadata": {},
   "source": [
    "---"
   ]
  },
  {
   "cell_type": "markdown",
   "metadata": {},
   "source": [
    "## Recurrent Neural Network (RNN) 이해하기\n",
    "음악, 동영상, 에세이, 시, 소스 코드, 주가 차트. 이것들의 공통점은 무엇일까요? 바로 시퀀스라는 점입니다. 음악은 음계들의 시퀀스, 동영상은 이미지의 시퀀스, 에세이는 단어들의 시퀀스로 볼 수 있습니다. 시퀀스의 길이는 가변적입니다. 소설에는 한 페이지짜리 단편소설도 있고 열권짜리 장편소설도 있죠. 기존의 뉴럴 네트워크 알고리즘은 이미지처럼 고정된 크기의 입력을 다루는 데는 탁월하지만, 가변적인 크기의 데이터를 모델링하기에는 적합하지 않습니다.\n",
    "\n",
    "RNN(Recurrent Neural Network, 순환신경망)은 시퀀스 데이터를 모델링 하기 위해 등장했습니다. RNN이 기존의 뉴럴 네트워크와 다른 점은 ‘기억’(다른 말로 hidden state)을 갖고 있다는 점입니다. 네트워크의 기억은 지금까지의 입력 데이터를 요약한 정보라고 볼 수 있습니다. 새로운 입력이 들어올때마다 네트워크는 자신의 기억을 조금씩 수정합니다. 결국 입력을 모두 처리하고 난 후 네트워크에게 남겨진 기억은 시퀀스 전체를 요약하는 정보가 됩니다. 이는 사람이 시퀀스를 처리하는 방식과 비슷합니다. 이 글을 읽을 때도 우리는 이전까지의 단어에 대한 기억을 바탕으로 새로운 단어를 이해합니다. 이 과정은 새로운 단어마다 계속해서 반복되기 때문에 RNN에는 Recurrent, 즉 순환적이라는 이름이 붙습니다. RNN은 이런 반복을 통해 아무리 긴 시퀀스라도 처리할 수 있는 것입니다.\n",
    "\n",
    "출처 : https://dreamgonfly.github.io/rnn/2017/09/04/understanding-rnn.html"
   ]
  },
  {
   "attachments": {
    "1.JPG": {
     "image/jpeg": "[encoded data removed]"
    },
    "2.JPG": {
     "image/jpeg": "[encoded data removed]"
    }
   },
   "cell_type": "markdown",
   "metadata": {},
   "source": [
    "![1.JPG](attachment:1.JPG)\n",
    "![2.JPG](attachment:2.JPG)\n",
    "\n",
    "출처 : https://www.youtube.com/watch?v=rDkDyGJpp7E&t=432s"
   ]
  },
  {
   "cell_type": "markdown",
   "metadata": {},
   "source": [
    "## 6. Model Ensemble"
   ]
  },
  {
   "cell_type": "code",
   "execution_count": 50,
   "metadata": {
    "ExecuteTime": {
     "end_time": "2020-02-25T08:18:29.170324Z",
     "start_time": "2020-02-25T08:18:29.155654Z"
    }
   },
   "outputs": [
    {
     "name": "stdout",
     "output_type": "stream",
     "text": [
      "3\n",
      "[1 3 2]\n",
      "[0 0 2 1]\n"
     ]
    },
    {
     "data": {
      "text/html": [
       "<div>\n",
       "<style scoped>\n",
       "    .dataframe tbody tr th:only-of-type {\n",
       "        vertical-align: middle;\n",
       "    }\n",
       "\n",
       "    .dataframe tbody tr th {\n",
       "        vertical-align: top;\n",
       "    }\n",
       "\n",
       "    .dataframe thead th {\n",
       "        text-align: right;\n",
       "    }\n",
       "</style>\n",
       "<table border=\"1\" class=\"dataframe\">\n",
       "  <thead>\n",
       "    <tr style=\"text-align: right;\">\n",
       "      <th></th>\n",
       "      <th>0</th>\n",
       "      <th>1</th>\n",
       "      <th>2</th>\n",
       "    </tr>\n",
       "  </thead>\n",
       "  <tbody>\n",
       "    <tr>\n",
       "      <th>0</th>\n",
       "      <td>1</td>\n",
       "      <td>0</td>\n",
       "      <td>0</td>\n",
       "    </tr>\n",
       "    <tr>\n",
       "      <th>1</th>\n",
       "      <td>2</td>\n",
       "      <td>0</td>\n",
       "      <td>0</td>\n",
       "    </tr>\n",
       "    <tr>\n",
       "      <th>2</th>\n",
       "      <td>0</td>\n",
       "      <td>0</td>\n",
       "      <td>1</td>\n",
       "    </tr>\n",
       "    <tr>\n",
       "      <th>3</th>\n",
       "      <td>0</td>\n",
       "      <td>1</td>\n",
       "      <td>0</td>\n",
       "    </tr>\n",
       "  </tbody>\n",
       "</table>\n",
       "</div>"
      ],
      "text/plain": [
       "   0  1  2\n",
       "0  1  0  0\n",
       "1  2  0  0\n",
       "2  0  0  1\n",
       "3  0  1  0"
      ]
     },
     "execution_count": 50,
     "metadata": {},
     "output_type": "execute_result"
    }
   ],
   "source": [
    "# argmax : 최대값의 인덱스 리턴\n",
    "\n",
    "# print(np.max([1,2,3,4,1,8, 2.4]))\n",
    "# print(np.argmax([1,2,3,4,1,8, 2.4]))\n",
    "# print(np.argmax([1,0,0,0,0,0,0]))\n",
    "# print('\\n')\n",
    "\n",
    "\n",
    "\n",
    "x = np.array([[1,0,0],\n",
    "              [2,0,0],\n",
    "              [0,0,1],\n",
    "              [0,1,0]])\n",
    "\n",
    "print(np.argmax(x))\n",
    "print(np.argmax(x,axis=0)) # row가 증가하는 방향\n",
    "print(np.argmax(x,axis=1)) # column가 증가하는 방향\n",
    "pd.DataFrame(x)"
   ]
  },
  {
   "cell_type": "code",
   "execution_count": 51,
   "metadata": {
    "ExecuteTime": {
     "end_time": "2020-02-25T08:20:11.146392Z",
     "start_time": "2020-02-25T08:20:11.140396Z"
    },
    "scrolled": true
   },
   "outputs": [],
   "source": [
    "# 한 번만 run시킬 것!\n",
    "y_train = np.argmax(y_train, axis = 1)\n",
    "y_test = np.argmax(y_test, axis = 1)"
   ]
  },
  {
   "cell_type": "code",
   "execution_count": 52,
   "metadata": {
    "ExecuteTime": {
     "end_time": "2020-02-25T08:20:12.603608Z",
     "start_time": "2020-02-25T08:20:12.599660Z"
    }
   },
   "outputs": [
    {
     "name": "stdout",
     "output_type": "stream",
     "text": [
      "[6 9 2 ... 5 5 3]\n",
      "[7 2 1 ... 4 5 6]\n"
     ]
    }
   ],
   "source": [
    "print(y_train)\n",
    "print(y_test)"
   ]
  },
  {
   "cell_type": "code",
   "execution_count": 53,
   "metadata": {
    "ExecuteTime": {
     "end_time": "2020-02-25T08:20:36.751234Z",
     "start_time": "2020-02-25T08:20:36.744251Z"
    }
   },
   "outputs": [],
   "source": [
    "def mlp_model():\n",
    "    model = Sequential()\n",
    "    \n",
    "    model.add(Dense(50, input_shape = (784, )))\n",
    "    model.add(Activation('sigmoid'))    \n",
    "    model.add(Dense(50))\n",
    "    model.add(Activation('sigmoid'))    \n",
    "    model.add(Dense(50))\n",
    "    model.add(Activation('sigmoid'))    \n",
    "    model.add(Dense(50))\n",
    "    model.add(Activation('sigmoid'))    \n",
    "    model.add(Dense(10))\n",
    "    model.add(Activation('softmax'))\n",
    "    \n",
    "    sgd = optimizers.SGD(lr = 0.001)\n",
    "    model.compile(optimizer = sgd, loss = 'categorical_crossentropy', metrics = ['accuracy'])\n",
    "    \n",
    "    return model"
   ]
  },
  {
   "cell_type": "code",
   "execution_count": 54,
   "metadata": {
    "ExecuteTime": {
     "end_time": "2020-02-25T08:22:02.047163Z",
     "start_time": "2020-02-25T08:22:02.040543Z"
    }
   },
   "outputs": [],
   "source": [
    "# 여기선 같은 모델을 가지고 하지만 사실 DNN / CNN / Random forest / GaussianNB / Logistic regression처럼\n",
    "# 극명하게 서로 다른 알고리즘을 가진 모델들을 가지고 아래의 셀에서처럼 Ensemble을 이용해 새로운 모델을 만들면\n",
    "# 더 좋은 효과를 거둘 수 있다.\n",
    "\n",
    "model1 = KerasClassifier(build_fn = mlp_model, epochs = 100, verbose = 1)\n",
    "model2 = KerasClassifier(build_fn = mlp_model, epochs = 100, verbose = 1)\n",
    "model3 = KerasClassifier(build_fn = mlp_model, epochs = 100, verbose = 1)"
   ]
  },
  {
   "cell_type": "code",
   "execution_count": 55,
   "metadata": {
    "ExecuteTime": {
     "end_time": "2020-02-25T08:23:27.186425Z",
     "start_time": "2020-02-25T08:23:27.181440Z"
    }
   },
   "outputs": [],
   "source": [
    "ensemble_clf = VotingClassifier(estimators = [('model1', model1), \n",
    "                                              ('model2', model2), \n",
    "                                              ('model3', model3)], \n",
    "                                voting = 'soft')"
   ]
  },
  {
   "cell_type": "code",
   "execution_count": 56,
   "metadata": {
    "ExecuteTime": {
     "end_time": "2020-02-25T08:29:42.192744Z",
     "start_time": "2020-02-25T08:23:31.922759Z"
    },
    "scrolled": true
   },
   "outputs": [
    {
     "name": "stdout",
     "output_type": "stream",
     "text": [
      "Epoch 1/100\n",
      "19800/19800 [==============================] - 1s 67us/step - loss: 2.4408 - accuracy: 0.1008\n",
      "Epoch 2/100\n",
      "19800/19800 [==============================] - 1s 58us/step - loss: 2.3210 - accuracy: 0.1008\n",
      "Epoch 3/100\n",
      "19800/19800 [==============================] - 1s 59us/step - loss: 2.3021 - accuracy: 0.1108\n",
      "Epoch 4/100\n",
      "19800/19800 [==============================] - 1s 57us/step - loss: 2.2993 - accuracy: 0.1176\n",
      "Epoch 5/100\n",
      "19800/19800 [==============================] - 1s 59us/step - loss: 2.2987 - accuracy: 0.1135\n",
      "Epoch 6/100\n",
      "19800/19800 [==============================] - 1s 58us/step - loss: 2.2985 - accuracy: 0.1135\n",
      "Epoch 7/100\n",
      "19800/19800 [==============================] - 1s 59us/step - loss: 2.2983 - accuracy: 0.1135\n",
      "Epoch 8/100\n",
      "19800/19800 [==============================] - 1s 59us/step - loss: 2.2981 - accuracy: 0.1135\n",
      "Epoch 9/100\n",
      "19800/19800 [==============================] - 1s 62us/step - loss: 2.2979 - accuracy: 0.1135\n",
      "Epoch 10/100\n",
      "19800/19800 [==============================] - 1s 61us/step - loss: 2.2977 - accuracy: 0.1135\n",
      "Epoch 11/100\n",
      "19800/19800 [==============================] - 1s 64us/step - loss: 2.2975 - accuracy: 0.1135\n",
      "Epoch 12/100\n",
      "19800/19800 [==============================] - 1s 61us/step - loss: 2.2973 - accuracy: 0.1135\n",
      "Epoch 13/100\n",
      "19800/19800 [==============================] - 1s 63us/step - loss: 2.2971 - accuracy: 0.1135\n",
      "Epoch 14/100\n",
      "19800/19800 [==============================] - 1s 61us/step - loss: 2.2969 - accuracy: 0.1135\n",
      "Epoch 15/100\n",
      "19800/19800 [==============================] - 1s 58us/step - loss: 2.2966 - accuracy: 0.1135\n",
      "Epoch 16/100\n",
      "19800/19800 [==============================] - 1s 65us/step - loss: 2.2965 - accuracy: 0.1135\n",
      "Epoch 17/100\n",
      "19800/19800 [==============================] - 1s 59us/step - loss: 2.2963 - accuracy: 0.1135\n",
      "Epoch 18/100\n",
      "19800/19800 [==============================] - 1s 63us/step - loss: 2.2961 - accuracy: 0.1135\n",
      "Epoch 19/100\n",
      "19800/19800 [==============================] - 1s 63us/step - loss: 2.2958 - accuracy: 0.1135\n",
      "Epoch 20/100\n",
      "19800/19800 [==============================] - 1s 58us/step - loss: 2.2956 - accuracy: 0.1135\n",
      "Epoch 21/100\n",
      "19800/19800 [==============================] - 1s 62us/step - loss: 2.2954 - accuracy: 0.1135\n",
      "Epoch 22/100\n",
      "19800/19800 [==============================] - 1s 59us/step - loss: 2.2952 - accuracy: 0.1135\n",
      "Epoch 23/100\n",
      "19800/19800 [==============================] - 1s 62us/step - loss: 2.2950 - accuracy: 0.1135\n",
      "Epoch 24/100\n",
      "19800/19800 [==============================] - 1s 63us/step - loss: 2.2948 - accuracy: 0.1135\n",
      "Epoch 25/100\n",
      "19800/19800 [==============================] - 1s 59us/step - loss: 2.2945 - accuracy: 0.1135\n",
      "Epoch 26/100\n",
      "19800/19800 [==============================] - 1s 65us/step - loss: 2.2943 - accuracy: 0.1135\n",
      "Epoch 27/100\n",
      "19800/19800 [==============================] - 1s 69us/step - loss: 2.2941 - accuracy: 0.1135\n",
      "Epoch 28/100\n",
      "19800/19800 [==============================] - 1s 62us/step - loss: 2.2938 - accuracy: 0.1135\n",
      "Epoch 29/100\n",
      "19800/19800 [==============================] - 1s 62us/step - loss: 2.2936 - accuracy: 0.1135\n",
      "Epoch 30/100\n",
      "19800/19800 [==============================] - 1s 60us/step - loss: 2.2934 - accuracy: 0.1135\n",
      "Epoch 31/100\n",
      "19800/19800 [==============================] - 1s 68us/step - loss: 2.2932 - accuracy: 0.1135\n",
      "Epoch 32/100\n",
      "19800/19800 [==============================] - 1s 66us/step - loss: 2.2929 - accuracy: 0.1135\n",
      "Epoch 33/100\n",
      "19800/19800 [==============================] - 1s 60us/step - loss: 2.2927 - accuracy: 0.1135\n",
      "Epoch 34/100\n",
      "19800/19800 [==============================] - 1s 63us/step - loss: 2.2924 - accuracy: 0.1135\n",
      "Epoch 35/100\n",
      "19800/19800 [==============================] - 1s 69us/step - loss: 2.2922 - accuracy: 0.1135\n",
      "Epoch 36/100\n",
      "19800/19800 [==============================] - 1s 69us/step - loss: 2.2919 - accuracy: 0.1135\n",
      "Epoch 37/100\n",
      "19800/19800 [==============================] - 1s 71us/step - loss: 2.2916 - accuracy: 0.1135\n",
      "Epoch 38/100\n",
      "19800/19800 [==============================] - 1s 64us/step - loss: 2.2913 - accuracy: 0.1135\n",
      "Epoch 39/100\n",
      "19800/19800 [==============================] - 1s 64us/step - loss: 2.2911 - accuracy: 0.1135\n",
      "Epoch 40/100\n",
      "19800/19800 [==============================] - 1s 63us/step - loss: 2.2908 - accuracy: 0.1135\n",
      "Epoch 41/100\n",
      "19800/19800 [==============================] - 1s 66us/step - loss: 2.2905 - accuracy: 0.1135\n",
      "Epoch 42/100\n",
      "19800/19800 [==============================] - 1s 63us/step - loss: 2.2902 - accuracy: 0.1135\n",
      "Epoch 43/100\n",
      "19800/19800 [==============================] - 1s 62us/step - loss: 2.2899 - accuracy: 0.1135\n",
      "Epoch 44/100\n",
      "19800/19800 [==============================] - 1s 62us/step - loss: 2.2895 - accuracy: 0.1135\n",
      "Epoch 45/100\n",
      "19800/19800 [==============================] - 1s 62us/step - loss: 2.2892 - accuracy: 0.1135\n",
      "Epoch 46/100\n",
      "19800/19800 [==============================] - 1s 62us/step - loss: 2.2889 - accuracy: 0.1135\n",
      "Epoch 47/100\n",
      "19800/19800 [==============================] - 1s 62us/step - loss: 2.2885 - accuracy: 0.1135\n",
      "Epoch 48/100\n",
      "19800/19800 [==============================] - 1s 62us/step - loss: 2.2882 - accuracy: 0.1135\n",
      "Epoch 49/100\n",
      "19800/19800 [==============================] - 1s 62us/step - loss: 2.2878 - accuracy: 0.1135\n",
      "Epoch 50/100\n",
      "19800/19800 [==============================] - 1s 61us/step - loss: 2.2875 - accuracy: 0.1135\n",
      "Epoch 51/100\n",
      "19800/19800 [==============================] - 1s 61us/step - loss: 2.2871 - accuracy: 0.1135\n",
      "Epoch 52/100\n",
      "19800/19800 [==============================] - 1s 63us/step - loss: 2.2867 - accuracy: 0.1135\n",
      "Epoch 53/100\n",
      "19800/19800 [==============================] - 1s 64us/step - loss: 2.2864 - accuracy: 0.1135\n",
      "Epoch 54/100\n",
      "19800/19800 [==============================] - 1s 63us/step - loss: 2.2860 - accuracy: 0.1135\n",
      "Epoch 55/100\n",
      "19800/19800 [==============================] - 1s 64us/step - loss: 2.2856 - accuracy: 0.1135\n",
      "Epoch 56/100\n",
      "19800/19800 [==============================] - 1s 63us/step - loss: 2.2851 - accuracy: 0.1135\n",
      "Epoch 57/100\n",
      "19800/19800 [==============================] - 1s 67us/step - loss: 2.2847 - accuracy: 0.1135\n",
      "Epoch 58/100\n",
      "19800/19800 [==============================] - 1s 64us/step - loss: 2.2843 - accuracy: 0.1135\n",
      "Epoch 59/100\n",
      "19800/19800 [==============================] - 1s 63us/step - loss: 2.2838 - accuracy: 0.1135\n",
      "Epoch 60/100\n",
      "19800/19800 [==============================] - 1s 67us/step - loss: 2.2833 - accuracy: 0.1135\n",
      "Epoch 61/100\n",
      "19800/19800 [==============================] - 1s 66us/step - loss: 2.2828 - accuracy: 0.1135\n",
      "Epoch 62/100\n",
      "19800/19800 [==============================] - 1s 75us/step - loss: 2.2823 - accuracy: 0.1135\n",
      "Epoch 63/100\n",
      "19800/19800 [==============================] - 1s 67us/step - loss: 2.2818 - accuracy: 0.1135\n",
      "Epoch 64/100\n",
      "19800/19800 [==============================] - 1s 70us/step - loss: 2.2813 - accuracy: 0.1135\n",
      "Epoch 65/100\n",
      "19800/19800 [==============================] - 1s 68us/step - loss: 2.2807 - accuracy: 0.1135\n",
      "Epoch 66/100\n",
      "19800/19800 [==============================] - 1s 68us/step - loss: 2.2802 - accuracy: 0.1135\n",
      "Epoch 67/100\n",
      "19800/19800 [==============================] - 1s 60us/step - loss: 2.2796 - accuracy: 0.1135\n",
      "Epoch 68/100\n",
      "19800/19800 [==============================] - 1s 66us/step - loss: 2.2790 - accuracy: 0.1135\n",
      "Epoch 69/100\n",
      "19800/19800 [==============================] - 1s 60us/step - loss: 2.2784 - accuracy: 0.1135\n",
      "Epoch 70/100\n",
      "19800/19800 [==============================] - 1s 64us/step - loss: 2.2778 - accuracy: 0.1135\n",
      "Epoch 71/100\n",
      "19800/19800 [==============================] - 1s 59us/step - loss: 2.2771 - accuracy: 0.1135\n",
      "Epoch 72/100\n",
      "19800/19800 [==============================] - 1s 65us/step - loss: 2.2764 - accuracy: 0.1135\n",
      "Epoch 73/100\n",
      "19800/19800 [==============================] - 1s 62us/step - loss: 2.2757 - accuracy: 0.1135\n",
      "Epoch 74/100\n",
      "19800/19800 [==============================] - 1s 64us/step - loss: 2.2750 - accuracy: 0.1145\n",
      "Epoch 75/100\n",
      "19800/19800 [==============================] - 1s 62us/step - loss: 2.2743 - accuracy: 0.1141\n",
      "Epoch 76/100\n",
      "19800/19800 [==============================] - 1s 62us/step - loss: 2.2735 - accuracy: 0.1140\n",
      "Epoch 77/100\n",
      "19800/19800 [==============================] - 1s 60us/step - loss: 2.2727 - accuracy: 0.1163\n",
      "Epoch 78/100\n",
      "19800/19800 [==============================] - 1s 56us/step - loss: 2.2719 - accuracy: 0.1184\n",
      "Epoch 79/100\n",
      "19800/19800 [==============================] - 1s 59us/step - loss: 2.2711 - accuracy: 0.1141\n",
      "Epoch 80/100\n",
      "19800/19800 [==============================] - 1s 58us/step - loss: 2.2702 - accuracy: 0.1197\n",
      "Epoch 81/100\n",
      "19800/19800 [==============================] - 1s 58us/step - loss: 2.2693 - accuracy: 0.1162\n",
      "Epoch 82/100\n",
      "19800/19800 [==============================] - 1s 59us/step - loss: 2.2684 - accuracy: 0.1218\n",
      "Epoch 83/100\n",
      "19800/19800 [==============================] - 1s 61us/step - loss: 2.2674 - accuracy: 0.1271\n",
      "Epoch 84/100\n",
      "19800/19800 [==============================] - 1s 59us/step - loss: 2.2665 - accuracy: 0.1214\n",
      "Epoch 85/100\n",
      "19800/19800 [==============================] - 1s 58us/step - loss: 2.2654 - accuracy: 0.1335\n",
      "Epoch 86/100\n",
      "19800/19800 [==============================] - 1s 60us/step - loss: 2.2643 - accuracy: 0.1499\n",
      "Epoch 87/100\n",
      "19800/19800 [==============================] - 1s 60us/step - loss: 2.2632 - accuracy: 0.1446\n",
      "Epoch 88/100\n",
      "19800/19800 [==============================] - 1s 60us/step - loss: 2.2620 - accuracy: 0.1415\n",
      "Epoch 89/100\n",
      "19800/19800 [==============================] - 1s 58us/step - loss: 2.2608 - accuracy: 0.1646\n",
      "Epoch 90/100\n",
      "19800/19800 [==============================] - 1s 58us/step - loss: 2.2596 - accuracy: 0.1835\n",
      "Epoch 91/100\n",
      "19800/19800 [==============================] - 1s 64us/step - loss: 2.2583 - accuracy: 0.1769\n",
      "Epoch 92/100\n",
      "19800/19800 [==============================] - 1s 60us/step - loss: 2.2570 - accuracy: 0.2097\n",
      "Epoch 93/100\n",
      "19800/19800 [==============================] - 1s 60us/step - loss: 2.2556 - accuracy: 0.1946\n",
      "Epoch 94/100\n",
      "19800/19800 [==============================] - 1s 60us/step - loss: 2.2541 - accuracy: 0.2159\n",
      "Epoch 95/100\n",
      "19800/19800 [==============================] - 1s 60us/step - loss: 2.2527 - accuracy: 0.2123\n",
      "Epoch 96/100\n",
      "19800/19800 [==============================] - 1s 60us/step - loss: 2.2511 - accuracy: 0.2313\n",
      "Epoch 97/100\n",
      "19800/19800 [==============================] - 1s 61us/step - loss: 2.2495 - accuracy: 0.2151\n",
      "Epoch 98/100\n",
      "19800/19800 [==============================] - 1s 58us/step - loss: 2.2478 - accuracy: 0.2507\n",
      "Epoch 99/100\n",
      "19800/19800 [==============================] - 1s 62us/step - loss: 2.2459 - accuracy: 0.2567\n",
      "Epoch 100/100\n",
      "19800/19800 [==============================] - 1s 59us/step - loss: 2.2441 - accuracy: 0.2752\n",
      "Epoch 1/100\n",
      "19800/19800 [==============================] - 1s 67us/step - loss: 2.3878 - accuracy: 0.1135\n",
      "Epoch 2/100\n",
      "19800/19800 [==============================] - 1s 60us/step - loss: 2.3131 - accuracy: 0.1135\n",
      "Epoch 3/100\n",
      "19800/19800 [==============================] - 1s 61us/step - loss: 2.3018 - accuracy: 0.1135 0s - loss:\n",
      "Epoch 4/100\n",
      "19800/19800 [==============================] - 1s 61us/step - loss: 2.2998 - accuracy: 0.1135\n",
      "Epoch 5/100\n",
      "19800/19800 [==============================] - 1s 61us/step - loss: 2.2992 - accuracy: 0.1135\n",
      "Epoch 6/100\n",
      "19800/19800 [==============================] - 1s 63us/step - loss: 2.2989 - accuracy: 0.1135\n",
      "Epoch 7/100\n",
      "19800/19800 [==============================] - 1s 61us/step - loss: 2.2986 - accuracy: 0.1135\n",
      "Epoch 8/100\n",
      "19800/19800 [==============================] - 1s 61us/step - loss: 2.2982 - accuracy: 0.1135\n",
      "Epoch 9/100\n",
      "19800/19800 [==============================] - 1s 66us/step - loss: 2.2979 - accuracy: 0.1135\n",
      "Epoch 10/100\n",
      "19800/19800 [==============================] - 1s 64us/step - loss: 2.2976 - accuracy: 0.1135\n",
      "Epoch 11/100\n",
      "19800/19800 [==============================] - 1s 64us/step - loss: 2.2973 - accuracy: 0.1135\n",
      "Epoch 12/100\n",
      "19800/19800 [==============================] - 1s 62us/step - loss: 2.2971 - accuracy: 0.1135\n",
      "Epoch 13/100\n",
      "19800/19800 [==============================] - 1s 63us/step - loss: 2.2968 - accuracy: 0.1135\n",
      "Epoch 14/100\n",
      "19800/19800 [==============================] - 1s 65us/step - loss: 2.2964 - accuracy: 0.1135\n",
      "Epoch 15/100\n",
      "19800/19800 [==============================] - 1s 63us/step - loss: 2.2961 - accuracy: 0.1135\n",
      "Epoch 16/100\n",
      "19800/19800 [==============================] - 1s 63us/step - loss: 2.2958 - accuracy: 0.1135\n",
      "Epoch 17/100\n",
      "19800/19800 [==============================] - 1s 62us/step - loss: 2.2955 - accuracy: 0.1135\n",
      "Epoch 18/100\n",
      "19800/19800 [==============================] - 1s 62us/step - loss: 2.2952 - accuracy: 0.1135\n",
      "Epoch 19/100\n",
      "19800/19800 [==============================] - 1s 65us/step - loss: 2.2949 - accuracy: 0.1135\n",
      "Epoch 20/100\n",
      "19800/19800 [==============================] - 1s 61us/step - loss: 2.2946 - accuracy: 0.1135\n",
      "Epoch 21/100\n",
      "19800/19800 [==============================] - 1s 61us/step - loss: 2.2942 - accuracy: 0.1135\n",
      "Epoch 22/100\n",
      "19800/19800 [==============================] - 1s 62us/step - loss: 2.2939 - accuracy: 0.1135\n",
      "Epoch 23/100\n",
      "19800/19800 [==============================] - 1s 60us/step - loss: 2.2936 - accuracy: 0.1135\n",
      "Epoch 24/100\n",
      "19800/19800 [==============================] - 1s 58us/step - loss: 2.2932 - accuracy: 0.1135\n",
      "Epoch 25/100\n",
      "19800/19800 [==============================] - 1s 63us/step - loss: 2.2929 - accuracy: 0.1135\n",
      "Epoch 26/100\n",
      "19800/19800 [==============================] - 1s 62us/step - loss: 2.2926 - accuracy: 0.1135\n",
      "Epoch 27/100\n",
      "19800/19800 [==============================] - 1s 61us/step - loss: 2.2922 - accuracy: 0.1135\n",
      "Epoch 28/100\n",
      "19800/19800 [==============================] - 1s 64us/step - loss: 2.2919 - accuracy: 0.1135\n",
      "Epoch 29/100\n",
      "19800/19800 [==============================] - 1s 59us/step - loss: 2.2915 - accuracy: 0.1135\n",
      "Epoch 30/100\n",
      "19800/19800 [==============================] - 1s 65us/step - loss: 2.2911 - accuracy: 0.1135\n",
      "Epoch 31/100\n",
      "19800/19800 [==============================] - 1s 60us/step - loss: 2.2907 - accuracy: 0.1135\n",
      "Epoch 32/100\n",
      "19800/19800 [==============================] - 1s 62us/step - loss: 2.2903 - accuracy: 0.1135\n",
      "Epoch 33/100\n",
      "19800/19800 [==============================] - 1s 62us/step - loss: 2.2899 - accuracy: 0.1135\n",
      "Epoch 34/100\n",
      "19800/19800 [==============================] - 1s 60us/step - loss: 2.2895 - accuracy: 0.1135\n",
      "Epoch 35/100\n",
      "19800/19800 [==============================] - 1s 65us/step - loss: 2.2892 - accuracy: 0.1135\n",
      "Epoch 36/100\n",
      "19800/19800 [==============================] - 1s 62us/step - loss: 2.2888 - accuracy: 0.1135\n",
      "Epoch 37/100\n",
      "19800/19800 [==============================] - 1s 61us/step - loss: 2.2883 - accuracy: 0.1135\n",
      "Epoch 38/100\n",
      "19800/19800 [==============================] - 1s 61us/step - loss: 2.2879 - accuracy: 0.1135\n",
      "Epoch 39/100\n",
      "19800/19800 [==============================] - 1s 59us/step - loss: 2.2875 - accuracy: 0.1135\n",
      "Epoch 40/100\n",
      "19800/19800 [==============================] - 1s 63us/step - loss: 2.2871 - accuracy: 0.1135\n",
      "Epoch 41/100\n",
      "19800/19800 [==============================] - 1s 74us/step - loss: 2.2866 - accuracy: 0.1135\n",
      "Epoch 42/100\n",
      "19800/19800 [==============================] - 1s 68us/step - loss: 2.2862 - accuracy: 0.1135\n",
      "Epoch 43/100\n",
      "19800/19800 [==============================] - 1s 62us/step - loss: 2.2857 - accuracy: 0.1135\n",
      "Epoch 44/100\n",
      "19800/19800 [==============================] - 1s 55us/step - loss: 2.2853 - accuracy: 0.1135\n",
      "Epoch 45/100\n",
      "19800/19800 [==============================] - 1s 75us/step - loss: 2.2848 - accuracy: 0.1135\n",
      "Epoch 46/100\n",
      "19800/19800 [==============================] - 1s 63us/step - loss: 2.2843 - accuracy: 0.1135\n",
      "Epoch 47/100\n",
      "19800/19800 [==============================] - 1s 68us/step - loss: 2.2838 - accuracy: 0.1135\n",
      "Epoch 48/100\n",
      "19800/19800 [==============================] - 1s 67us/step - loss: 2.2834 - accuracy: 0.1135\n",
      "Epoch 49/100\n",
      "19800/19800 [==============================] - 1s 57us/step - loss: 2.2828 - accuracy: 0.1135\n",
      "Epoch 50/100\n",
      "19800/19800 [==============================] - 1s 58us/step - loss: 2.2823 - accuracy: 0.1135\n",
      "Epoch 51/100\n",
      "19800/19800 [==============================] - 1s 71us/step - loss: 2.2818 - accuracy: 0.1135\n",
      "Epoch 52/100\n",
      "19800/19800 [==============================] - 1s 63us/step - loss: 2.2812 - accuracy: 0.1135\n",
      "Epoch 53/100\n"
     ]
    },
    {
     "name": "stdout",
     "output_type": "stream",
     "text": [
      "19800/19800 [==============================] - 1s 66us/step - loss: 2.2807 - accuracy: 0.1135\n",
      "Epoch 54/100\n",
      "19800/19800 [==============================] - 1s 63us/step - loss: 2.2801 - accuracy: 0.1135\n",
      "Epoch 55/100\n",
      "19800/19800 [==============================] - 1s 53us/step - loss: 2.2795 - accuracy: 0.1135\n",
      "Epoch 56/100\n",
      "19800/19800 [==============================] - 1s 63us/step - loss: 2.2789 - accuracy: 0.1138\n",
      "Epoch 57/100\n",
      "19800/19800 [==============================] - 1s 59us/step - loss: 2.2782 - accuracy: 0.1135\n",
      "Epoch 58/100\n",
      "19800/19800 [==============================] - 1s 59us/step - loss: 2.2776 - accuracy: 0.1135\n",
      "Epoch 59/100\n",
      "19800/19800 [==============================] - 1s 56us/step - loss: 2.2770 - accuracy: 0.1139\n",
      "Epoch 60/100\n",
      "19800/19800 [==============================] - 1s 61us/step - loss: 2.2763 - accuracy: 0.1136\n",
      "Epoch 61/100\n",
      "19800/19800 [==============================] - 1s 64us/step - loss: 2.2756 - accuracy: 0.1136\n",
      "Epoch 62/100\n",
      "19800/19800 [==============================] - 1s 61us/step - loss: 2.2749 - accuracy: 0.1145\n",
      "Epoch 63/100\n",
      "19800/19800 [==============================] - 1s 72us/step - loss: 2.2741 - accuracy: 0.1143\n",
      "Epoch 64/100\n",
      "19800/19800 [==============================] - 1s 59us/step - loss: 2.2734 - accuracy: 0.1201\n",
      "Epoch 65/100\n",
      "19800/19800 [==============================] - 1s 70us/step - loss: 2.2726 - accuracy: 0.1269\n",
      "Epoch 66/100\n",
      "19800/19800 [==============================] - 1s 61us/step - loss: 2.2718 - accuracy: 0.1342\n",
      "Epoch 67/100\n",
      "19800/19800 [==============================] - 1s 66us/step - loss: 2.2710 - accuracy: 0.1182\n",
      "Epoch 68/100\n",
      "19800/19800 [==============================] - 1s 63us/step - loss: 2.2702 - accuracy: 0.1485\n",
      "Epoch 69/100\n",
      "19800/19800 [==============================] - 1s 60us/step - loss: 2.2693 - accuracy: 0.1379\n",
      "Epoch 70/100\n",
      "19800/19800 [==============================] - 1s 60us/step - loss: 2.2684 - accuracy: 0.1525\n",
      "Epoch 71/100\n",
      "19800/19800 [==============================] - 1s 58us/step - loss: 2.2675 - accuracy: 0.1703\n",
      "Epoch 72/100\n",
      "19800/19800 [==============================] - 1s 60us/step - loss: 2.2666 - accuracy: 0.1517\n",
      "Epoch 73/100\n",
      "19800/19800 [==============================] - 1s 59us/step - loss: 2.2656 - accuracy: 0.1809\n",
      "Epoch 74/100\n",
      "19800/19800 [==============================] - 1s 59us/step - loss: 2.2646 - accuracy: 0.1736\n",
      "Epoch 75/100\n",
      "19800/19800 [==============================] - 1s 61us/step - loss: 2.2636 - accuracy: 0.1813\n",
      "Epoch 76/100\n",
      "19800/19800 [==============================] - 1s 61us/step - loss: 2.2625 - accuracy: 0.1826\n",
      "Epoch 77/100\n",
      "19800/19800 [==============================] - 1s 64us/step - loss: 2.2614 - accuracy: 0.2009\n",
      "Epoch 78/100\n",
      "19800/19800 [==============================] - 1s 60us/step - loss: 2.2603 - accuracy: 0.2000\n",
      "Epoch 79/100\n",
      "19800/19800 [==============================] - 1s 59us/step - loss: 2.2592 - accuracy: 0.1958\n",
      "Epoch 80/100\n",
      "19800/19800 [==============================] - 1s 60us/step - loss: 2.2579 - accuracy: 0.2028\n",
      "Epoch 81/100\n",
      "19800/19800 [==============================] - 1s 67us/step - loss: 2.2567 - accuracy: 0.2184\n",
      "Epoch 82/100\n",
      "19800/19800 [==============================] - 1s 70us/step - loss: 2.2554 - accuracy: 0.2115\n",
      "Epoch 83/100\n",
      "19800/19800 [==============================] - 1s 69us/step - loss: 2.2540 - accuracy: 0.2284\n",
      "Epoch 84/100\n",
      "19800/19800 [==============================] - 1s 66us/step - loss: 2.2527 - accuracy: 0.2284\n",
      "Epoch 85/100\n",
      "19800/19800 [==============================] - 1s 69us/step - loss: 2.2513 - accuracy: 0.2215\n",
      "Epoch 86/100\n",
      "19800/19800 [==============================] - 2s 97us/step - loss: 2.2498 - accuracy: 0.2341\n",
      "Epoch 87/100\n",
      "19800/19800 [==============================] - 2s 119us/step - loss: 2.2483 - accuracy: 0.2504\n",
      "Epoch 88/100\n",
      "19800/19800 [==============================] - 1s 63us/step - loss: 2.2467 - accuracy: 0.2452\n",
      "Epoch 89/100\n",
      "19800/19800 [==============================] - 2s 76us/step - loss: 2.2450 - accuracy: 0.2478\n",
      "Epoch 90/100\n",
      "19800/19800 [==============================] - 1s 64us/step - loss: 2.2433 - accuracy: 0.2527\n",
      "Epoch 91/100\n",
      "19800/19800 [==============================] - 1s 58us/step - loss: 2.2415 - accuracy: 0.2543\n",
      "Epoch 92/100\n",
      "19800/19800 [==============================] - 1s 61us/step - loss: 2.2397 - accuracy: 0.2488\n",
      "Epoch 93/100\n",
      "19800/19800 [==============================] - 1s 56us/step - loss: 2.2378 - accuracy: 0.2634\n",
      "Epoch 94/100\n",
      "19800/19800 [==============================] - 1s 57us/step - loss: 2.2358 - accuracy: 0.2620\n",
      "Epoch 95/100\n",
      "19800/19800 [==============================] - 1s 56us/step - loss: 2.2337 - accuracy: 0.2678\n",
      "Epoch 96/100\n",
      "19800/19800 [==============================] - 1s 59us/step - loss: 2.2315 - accuracy: 0.2711\n",
      "Epoch 97/100\n",
      "19800/19800 [==============================] - 1s 61us/step - loss: 2.2292 - accuracy: 0.2674\n",
      "Epoch 98/100\n",
      "19800/19800 [==============================] - 1s 59us/step - loss: 2.2269 - accuracy: 0.2810\n",
      "Epoch 99/100\n",
      "19800/19800 [==============================] - 1s 58us/step - loss: 2.2244 - accuracy: 0.2792\n",
      "Epoch 100/100\n",
      "19800/19800 [==============================] - 1s 61us/step - loss: 2.2218 - accuracy: 0.2880\n",
      "Epoch 1/100\n",
      "19800/19800 [==============================] - 1s 68us/step - loss: 2.4565 - accuracy: 0.0978\n",
      "Epoch 2/100\n",
      "19800/19800 [==============================] - 1s 66us/step - loss: 2.3272 - accuracy: 0.0988\n",
      "Epoch 3/100\n",
      "19800/19800 [==============================] - 2s 95us/step - loss: 2.3043 - accuracy: 0.0946\n",
      "Epoch 4/100\n",
      "19800/19800 [==============================] - 1s 74us/step - loss: 2.2998 - accuracy: 0.1135\n",
      "Epoch 5/100\n",
      "19800/19800 [==============================] - 1s 62us/step - loss: 2.2988 - accuracy: 0.1135\n",
      "Epoch 6/100\n",
      "19800/19800 [==============================] - 1s 62us/step - loss: 2.2983 - accuracy: 0.1135\n",
      "Epoch 7/100\n",
      "19800/19800 [==============================] - 1s 65us/step - loss: 2.2980 - accuracy: 0.1135\n",
      "Epoch 8/100\n",
      "19800/19800 [==============================] - 1s 60us/step - loss: 2.2977 - accuracy: 0.1135\n",
      "Epoch 9/100\n",
      "19800/19800 [==============================] - 1s 62us/step - loss: 2.2973 - accuracy: 0.1135\n",
      "Epoch 10/100\n",
      "19800/19800 [==============================] - 1s 67us/step - loss: 2.2970 - accuracy: 0.1135\n",
      "Epoch 11/100\n",
      "19800/19800 [==============================] - 1s 66us/step - loss: 2.2967 - accuracy: 0.1135\n",
      "Epoch 12/100\n",
      "19800/19800 [==============================] - 1s 58us/step - loss: 2.2963 - accuracy: 0.1135\n",
      "Epoch 13/100\n",
      "19800/19800 [==============================] - 1s 58us/step - loss: 2.2960 - accuracy: 0.1135\n",
      "Epoch 14/100\n",
      "19800/19800 [==============================] - ETA: 0s - loss: 2.2956 - accuracy: 0.11 - 1s 59us/step - loss: 2.2956 - accuracy: 0.1135\n",
      "Epoch 15/100\n",
      "19800/19800 [==============================] - 1s 63us/step - loss: 2.2952 - accuracy: 0.1135\n",
      "Epoch 16/100\n",
      "19800/19800 [==============================] - 1s 58us/step - loss: 2.2949 - accuracy: 0.1135\n",
      "Epoch 17/100\n",
      "19800/19800 [==============================] - 1s 61us/step - loss: 2.2946 - accuracy: 0.1135\n",
      "Epoch 18/100\n",
      "19800/19800 [==============================] - 1s 58us/step - loss: 2.2942 - accuracy: 0.1135\n",
      "Epoch 19/100\n",
      "19800/19800 [==============================] - 1s 57us/step - loss: 2.2938 - accuracy: 0.1135\n",
      "Epoch 20/100\n",
      "19800/19800 [==============================] - 1s 64us/step - loss: 2.2935 - accuracy: 0.1135\n",
      "Epoch 21/100\n",
      "19800/19800 [==============================] - 1s 59us/step - loss: 2.2931 - accuracy: 0.1135\n",
      "Epoch 22/100\n",
      "19800/19800 [==============================] - 1s 61us/step - loss: 2.2927 - accuracy: 0.1135\n",
      "Epoch 23/100\n",
      "19800/19800 [==============================] - 1s 57us/step - loss: 2.2923 - accuracy: 0.1135\n",
      "Epoch 24/100\n",
      "19800/19800 [==============================] - 1s 57us/step - loss: 2.2919 - accuracy: 0.1135\n",
      "Epoch 25/100\n",
      "19800/19800 [==============================] - 1s 58us/step - loss: 2.2915 - accuracy: 0.1135\n",
      "Epoch 26/100\n",
      "19800/19800 [==============================] - 1s 57us/step - loss: 2.2911 - accuracy: 0.1135\n",
      "Epoch 27/100\n",
      "19800/19800 [==============================] - 1s 60us/step - loss: 2.2907 - accuracy: 0.1135\n",
      "Epoch 28/100\n",
      "19800/19800 [==============================] - 1s 59us/step - loss: 2.2903 - accuracy: 0.1135\n",
      "Epoch 29/100\n",
      "19800/19800 [==============================] - 1s 54us/step - loss: 2.2898 - accuracy: 0.1135\n",
      "Epoch 30/100\n",
      "19800/19800 [==============================] - 1s 59us/step - loss: 2.2894 - accuracy: 0.1135\n",
      "Epoch 31/100\n",
      "19800/19800 [==============================] - 1s 60us/step - loss: 2.2889 - accuracy: 0.1135\n",
      "Epoch 32/100\n",
      "19800/19800 [==============================] - 1s 59us/step - loss: 2.2885 - accuracy: 0.1135\n",
      "Epoch 33/100\n",
      "19800/19800 [==============================] - 1s 65us/step - loss: 2.2880 - accuracy: 0.1135\n",
      "Epoch 34/100\n",
      "19800/19800 [==============================] - 1s 57us/step - loss: 2.2876 - accuracy: 0.1135\n",
      "Epoch 35/100\n",
      "19800/19800 [==============================] - 1s 57us/step - loss: 2.2871 - accuracy: 0.1135\n",
      "Epoch 36/100\n",
      "19800/19800 [==============================] - 1s 57us/step - loss: 2.2867 - accuracy: 0.1135\n",
      "Epoch 37/100\n",
      "19800/19800 [==============================] - 1s 57us/step - loss: 2.2862 - accuracy: 0.1135\n",
      "Epoch 38/100\n",
      "19800/19800 [==============================] - 1s 57us/step - loss: 2.2857 - accuracy: 0.1135\n",
      "Epoch 39/100\n",
      "19800/19800 [==============================] - 1s 56us/step - loss: 2.2852 - accuracy: 0.1135\n",
      "Epoch 40/100\n",
      "19800/19800 [==============================] - 1s 55us/step - loss: 2.2846 - accuracy: 0.1135\n",
      "Epoch 41/100\n",
      "19800/19800 [==============================] - 1s 56us/step - loss: 2.2841 - accuracy: 0.1135\n",
      "Epoch 42/100\n",
      "19800/19800 [==============================] - 1s 55us/step - loss: 2.2836 - accuracy: 0.1135\n",
      "Epoch 43/100\n",
      "19800/19800 [==============================] - 1s 60us/step - loss: 2.2830 - accuracy: 0.1135\n",
      "Epoch 44/100\n",
      "19800/19800 [==============================] - 1s 56us/step - loss: 2.2824 - accuracy: 0.1135\n",
      "Epoch 45/100\n",
      "19800/19800 [==============================] - 1s 58us/step - loss: 2.2818 - accuracy: 0.1135\n",
      "Epoch 46/100\n",
      "19800/19800 [==============================] - 1s 55us/step - loss: 2.2812 - accuracy: 0.1135\n",
      "Epoch 47/100\n",
      "19800/19800 [==============================] - 1s 55us/step - loss: 2.2805 - accuracy: 0.1135\n",
      "Epoch 48/100\n",
      "19800/19800 [==============================] - 1s 58us/step - loss: 2.2799 - accuracy: 0.1135\n",
      "Epoch 49/100\n",
      "19800/19800 [==============================] - 1s 58us/step - loss: 2.2792 - accuracy: 0.1135\n",
      "Epoch 50/100\n",
      "19800/19800 [==============================] - 1s 56us/step - loss: 2.2785 - accuracy: 0.1135\n",
      "Epoch 51/100\n",
      "19800/19800 [==============================] - 1s 57us/step - loss: 2.2778 - accuracy: 0.1135\n",
      "Epoch 52/100\n",
      "19800/19800 [==============================] - 1s 59us/step - loss: 2.2771 - accuracy: 0.1135\n",
      "Epoch 53/100\n",
      "19800/19800 [==============================] - 1s 57us/step - loss: 2.2764 - accuracy: 0.1135\n",
      "Epoch 54/100\n",
      "19800/19800 [==============================] - 1s 59us/step - loss: 2.2755 - accuracy: 0.1135\n",
      "Epoch 55/100\n",
      "19800/19800 [==============================] - 1s 58us/step - loss: 2.2747 - accuracy: 0.1158\n",
      "Epoch 56/100\n",
      "19800/19800 [==============================] - 1s 60us/step - loss: 2.2738 - accuracy: 0.1135\n",
      "Epoch 57/100\n",
      "19800/19800 [==============================] - 1s 59us/step - loss: 2.2729 - accuracy: 0.1135\n",
      "Epoch 58/100\n",
      "19800/19800 [==============================] - 1s 58us/step - loss: 2.2720 - accuracy: 0.1144\n",
      "Epoch 59/100\n",
      "19800/19800 [==============================] - 1s 59us/step - loss: 2.2711 - accuracy: 0.1138\n",
      "Epoch 60/100\n",
      "19800/19800 [==============================] - 1s 60us/step - loss: 2.2701 - accuracy: 0.1167\n",
      "Epoch 61/100\n",
      "19800/19800 [==============================] - 1s 59us/step - loss: 2.2690 - accuracy: 0.1176\n",
      "Epoch 62/100\n",
      "19800/19800 [==============================] - 1s 60us/step - loss: 2.2680 - accuracy: 0.1270\n",
      "Epoch 63/100\n",
      "19800/19800 [==============================] - 1s 58us/step - loss: 2.2668 - accuracy: 0.1233\n",
      "Epoch 64/100\n",
      "19800/19800 [==============================] - 1s 60us/step - loss: 2.2657 - accuracy: 0.1423\n",
      "Epoch 65/100\n",
      "19800/19800 [==============================] - 1s 57us/step - loss: 2.2645 - accuracy: 0.1235\n",
      "Epoch 66/100\n",
      "19800/19800 [==============================] - 1s 53us/step - loss: 2.2632 - accuracy: 0.1591\n",
      "Epoch 67/100\n",
      "19800/19800 [==============================] - 1s 60us/step - loss: 2.2619 - accuracy: 0.1620\n",
      "Epoch 68/100\n",
      "19800/19800 [==============================] - 1s 57us/step - loss: 2.2605 - accuracy: 0.1551\n",
      "Epoch 69/100\n",
      "19800/19800 [==============================] - 1s 56us/step - loss: 2.2591 - accuracy: 0.1766\n",
      "Epoch 70/100\n",
      "19800/19800 [==============================] - 1s 58us/step - loss: 2.2576 - accuracy: 0.1598\n",
      "Epoch 71/100\n",
      "19800/19800 [==============================] - 1s 59us/step - loss: 2.2561 - accuracy: 0.1800\n",
      "Epoch 72/100\n",
      "19800/19800 [==============================] - 1s 59us/step - loss: 2.2545 - accuracy: 0.1713\n",
      "Epoch 73/100\n",
      "19800/19800 [==============================] - 1s 61us/step - loss: 2.2528 - accuracy: 0.2058\n",
      "Epoch 74/100\n",
      "19800/19800 [==============================] - 1s 57us/step - loss: 2.2511 - accuracy: 0.1949\n",
      "Epoch 75/100\n",
      "19800/19800 [==============================] - 1s 57us/step - loss: 2.2492 - accuracy: 0.2361\n",
      "Epoch 76/100\n",
      "19800/19800 [==============================] - 1s 61us/step - loss: 2.2474 - accuracy: 0.2129\n",
      "Epoch 77/100\n",
      "19800/19800 [==============================] - 1s 57us/step - loss: 2.2454 - accuracy: 0.2133\n",
      "Epoch 78/100\n",
      "19800/19800 [==============================] - 1s 64us/step - loss: 2.2432 - accuracy: 0.2235\n",
      "Epoch 79/100\n",
      "19800/19800 [==============================] - 1s 63us/step - loss: 2.2410 - accuracy: 0.2296\n",
      "Epoch 80/100\n",
      "19800/19800 [==============================] - 1s 56us/step - loss: 2.2387 - accuracy: 0.2559\n",
      "Epoch 81/100\n",
      "19800/19800 [==============================] - 1s 58us/step - loss: 2.2363 - accuracy: 0.2605\n",
      "Epoch 82/100\n",
      "19800/19800 [==============================] - 1s 58us/step - loss: 2.2337 - accuracy: 0.2695\n",
      "Epoch 83/100\n",
      "19800/19800 [==============================] - 1s 56us/step - loss: 2.2310 - accuracy: 0.2820\n",
      "Epoch 84/100\n",
      "19800/19800 [==============================] - 1s 61us/step - loss: 2.2281 - accuracy: 0.2967\n",
      "Epoch 85/100\n",
      "19800/19800 [==============================] - 1s 58us/step - loss: 2.2251 - accuracy: 0.2980\n",
      "Epoch 86/100\n",
      "19800/19800 [==============================] - 1s 56us/step - loss: 2.2220 - accuracy: 0.3041\n",
      "Epoch 87/100\n",
      "19800/19800 [==============================] - 1s 58us/step - loss: 2.2186 - accuracy: 0.3237\n",
      "Epoch 88/100\n",
      "19800/19800 [==============================] - 1s 58us/step - loss: 2.2150 - accuracy: 0.3056\n",
      "Epoch 89/100\n",
      "19800/19800 [==============================] - 2s 77us/step - loss: 2.2112 - accuracy: 0.3364\n",
      "Epoch 90/100\n",
      "19800/19800 [==============================] - 1s 72us/step - loss: 2.2072 - accuracy: 0.3330 0s - loss:\n",
      "Epoch 91/100\n",
      "19800/19800 [==============================] - 1s 67us/step - loss: 2.2030 - accuracy: 0.3445\n",
      "Epoch 92/100\n",
      "19800/19800 [==============================] - 1s 56us/step - loss: 2.1985 - accuracy: 0.3581\n",
      "Epoch 93/100\n",
      "19800/19800 [==============================] - 1s 60us/step - loss: 2.1938 - accuracy: 0.3584\n",
      "Epoch 94/100\n",
      "19800/19800 [==============================] - 1s 64us/step - loss: 2.1887 - accuracy: 0.3555\n",
      "Epoch 95/100\n",
      "19800/19800 [==============================] - 1s 68us/step - loss: 2.1833 - accuracy: 0.3476\n",
      "Epoch 96/100\n",
      "19800/19800 [==============================] - 1s 59us/step - loss: 2.1777 - accuracy: 0.3434\n",
      "Epoch 97/100\n",
      "19800/19800 [==============================] - 1s 61us/step - loss: 2.1716 - accuracy: 0.3639\n",
      "Epoch 98/100\n",
      "19800/19800 [==============================] - 1s 60us/step - loss: 2.1652 - accuracy: 0.3694\n",
      "Epoch 99/100\n",
      "19800/19800 [==============================] - 1s 61us/step - loss: 2.1585 - accuracy: 0.3798\n",
      "Epoch 100/100\n",
      "19800/19800 [==============================] - 1s 61us/step - loss: 2.1512 - accuracy: 0.3745\n"
     ]
    },
    {
     "data": {
      "text/plain": [
       "VotingClassifier(estimators=[('model1',\n",
       "                              <keras.wrappers.scikit_learn.KerasClassifier object at 0x000001C4CFC4E488>),\n",
       "                             ('model2',\n",
       "                              <keras.wrappers.scikit_learn.KerasClassifier object at 0x000001C4CFC4E688>),\n",
       "                             ('model3',\n",
       "                              <keras.wrappers.scikit_learn.KerasClassifier object at 0x000001C4CFC4E5C8>)],\n",
       "                 flatten_transform=True, n_jobs=None, voting='soft',\n",
       "                 weights=None)"
      ]
     },
     "execution_count": 56,
     "metadata": {},
     "output_type": "execute_result"
    }
   ],
   "source": [
    "ensemble_clf.fit(X_train, y_train)"
   ]
  },
  {
   "cell_type": "code",
   "execution_count": 57,
   "metadata": {
    "ExecuteTime": {
     "end_time": "2020-02-25T08:30:31.278850Z",
     "start_time": "2020-02-25T08:30:29.884272Z"
    }
   },
   "outputs": [
    {
     "name": "stdout",
     "output_type": "stream",
     "text": [
      "10000/10000 [==============================] - 0s 49us/step\n",
      "10000/10000 [==============================] - 0s 42us/step\n",
      "10000/10000 [==============================] - 0s 47us/step\n"
     ]
    }
   ],
   "source": [
    "y_pred = ensemble_clf.predict(X_test)"
   ]
  },
  {
   "cell_type": "code",
   "execution_count": 58,
   "metadata": {
    "ExecuteTime": {
     "end_time": "2020-02-25T08:30:34.813751Z",
     "start_time": "2020-02-25T08:30:34.805547Z"
    }
   },
   "outputs": [
    {
     "name": "stdout",
     "output_type": "stream",
     "text": [
      "Test accuracy: 0.3952\n"
     ]
    }
   ],
   "source": [
    "print('Test accuracy:', accuracy_score(y_pred, y_test))\n",
    "\n",
    "# 여기선 같은 모델(mlp_model)을 가지고 했지만 사실 DNN / CNN / Random forest / GaussianNB / Logistic regression처럼\n",
    "# 극명하게 서로 다른 알고리즘을 가진 모델들을 가지고 아래의 셀에서처럼 Ensemble을 이용해 새로운 모델을 만들면\n",
    "# 더 좋은 효과를 거둘 수 있다."
   ]
  },
  {
   "cell_type": "markdown",
   "metadata": {},
   "source": [
    "---"
   ]
  },
  {
   "cell_type": "markdown",
   "metadata": {},
   "source": [
    "# Advanced MLP - 2\n",
    "    - More training set\n",
    "    - Weight Initialization scheme\n",
    "    - Nonlinearity (Activation function)\n",
    "    - Optimizers: adaptvie\n",
    "    - Batch Normalization\n",
    "    - Dropout (Regularization)\n",
    "    - Model Ensemble"
   ]
  },
  {
   "cell_type": "code",
   "execution_count": 59,
   "metadata": {
    "ExecuteTime": {
     "end_time": "2020-02-25T08:39:07.208765Z",
     "start_time": "2020-02-25T08:39:06.909967Z"
    }
   },
   "outputs": [
    {
     "name": "stdout",
     "output_type": "stream",
     "text": [
      "(60000, 784)\n",
      "(10000, 784)\n",
      "(60000,)\n",
      "(10000,)\n"
     ]
    }
   ],
   "source": [
    "(X_train, y_train), (X_test, y_test) = mnist.load_data()\n",
    "\n",
    "# reshaping X data: (n, 28, 28) => (n, 784)\n",
    "X_train = X_train.reshape((X_train.shape[0], X_train.shape[1] * X_train.shape[2]))\n",
    "X_test = X_test.reshape((X_test.shape[0], X_test.shape[1] * X_test.shape[2]))\n",
    "\n",
    "# We use all training data and validate on all test data\n",
    "print(X_train.shape)\n",
    "print(X_test.shape)\n",
    "print(y_train.shape)\n",
    "print(y_test.shape)"
   ]
  },
  {
   "cell_type": "code",
   "execution_count": 60,
   "metadata": {
    "ExecuteTime": {
     "end_time": "2020-02-25T08:39:07.821440Z",
     "start_time": "2020-02-25T08:39:07.810463Z"
    }
   },
   "outputs": [],
   "source": [
    "def mlp_model():\n",
    "    model = Sequential()\n",
    "    \n",
    "    model.add(Dense(50, input_shape = (784, ), kernel_initializer='he_normal'))\n",
    "    model.add(BatchNormalization())\n",
    "    model.add(Activation('relu'))\n",
    "    model.add(Dropout(0.2))\n",
    "    model.add(Dense(50, kernel_initializer='he_normal'))\n",
    "    model.add(BatchNormalization())\n",
    "    model.add(Activation('relu'))    \n",
    "    model.add(Dropout(0.2))\n",
    "    model.add(Dense(50, kernel_initializer='he_normal'))\n",
    "    model.add(BatchNormalization())\n",
    "    model.add(Activation('relu'))\n",
    "    model.add(Dropout(0.2))\n",
    "    model.add(Dense(50, kernel_initializer='he_normal'))\n",
    "    model.add(BatchNormalization())\n",
    "    model.add(Activation('relu'))\n",
    "    model.add(Dropout(0.2))\n",
    "    model.add(Dense(10, kernel_initializer='he_normal'))\n",
    "    model.add(Activation('softmax'))\n",
    "    \n",
    "    adam = optimizers.Adam(lr = 0.001)\n",
    "    model.compile(optimizer = adam, loss = 'categorical_crossentropy', metrics = ['accuracy'])\n",
    "    \n",
    "    return model"
   ]
  },
  {
   "cell_type": "code",
   "execution_count": 61,
   "metadata": {
    "ExecuteTime": {
     "end_time": "2020-02-25T08:39:30.201843Z",
     "start_time": "2020-02-25T08:39:30.193864Z"
    }
   },
   "outputs": [],
   "source": [
    "# create 5 models to ensemble\n",
    "from keras.callbacks import LambdaCallback\n",
    "from keras.callbacks import EarlyStopping\n",
    "from keras.layers import LeakyReLU\n",
    "\n",
    "\n",
    "def lambdaf_(epoch, logs, step) : \n",
    "    if epoch % step == 0 : print(f\"{epoch} => {logs}\")                \n",
    "        \n",
    "def printepoch(step) :   \n",
    "    return LambdaCallback(on_epoch_end=lambda epoch, logs: lambdaf_(epoch, logs, step)  )\n",
    "\n",
    "model1 = KerasClassifier(build_fn = mlp_model, epochs = 100)\n",
    "model2 = KerasClassifier(build_fn = mlp_model, epochs = 100)\n",
    "model3 = KerasClassifier(build_fn = mlp_model, epochs = 100)\n",
    "model4 = KerasClassifier(build_fn = mlp_model, epochs = 100)\n",
    "model5 = KerasClassifier(build_fn = mlp_model, epochs = 100)\n",
    "\n"
   ]
  },
  {
   "cell_type": "code",
   "execution_count": 62,
   "metadata": {
    "ExecuteTime": {
     "end_time": "2020-02-25T08:39:33.883634Z",
     "start_time": "2020-02-25T08:39:33.879679Z"
    }
   },
   "outputs": [],
   "source": [
    "#ensemble_clf = VotingClassifier(estimators = [('model1', model1), ('model2', model2), ('model3', model3), ('model4', model4), ('model5', model5)], voting = 'soft')\n",
    "ensemble_clf = VotingClassifier(estimators = [('model1', model1), \n",
    "                                              ('model2', model2), \n",
    "                                              ('model3', model3), \n",
    "                                              ('model4', model4), \n",
    "                                              ('model5', model5)], \n",
    "                                voting = 'soft')"
   ]
  },
  {
   "cell_type": "code",
   "execution_count": 63,
   "metadata": {
    "ExecuteTime": {
     "end_time": "2020-02-25T09:46:36.779508Z",
     "start_time": "2020-02-25T08:39:41.250488Z"
    },
    "scrolled": true
   },
   "outputs": [
    {
     "name": "stdout",
     "output_type": "stream",
     "text": [
      "Epoch 1/100\n",
      "60000/60000 [==============================] - 8s 136us/step - loss: 0.7501 - accuracy: 0.7725\n",
      "Epoch 2/100\n",
      "60000/60000 [==============================] - 8s 136us/step - loss: 0.4341 - accuracy: 0.8759\n",
      "Epoch 3/100\n",
      "60000/60000 [==============================] - 8s 134us/step - loss: 0.3649 - accuracy: 0.8947\n",
      "Epoch 4/100\n",
      "60000/60000 [==============================] - 8s 132us/step - loss: 0.3156 - accuracy: 0.9093\n",
      "Epoch 5/100\n",
      "60000/60000 [==============================] - 8s 132us/step - loss: 0.2974 - accuracy: 0.9159\n",
      "Epoch 6/100\n",
      "60000/60000 [==============================] - 8s 125us/step - loss: 0.2855 - accuracy: 0.9192\n",
      "Epoch 7/100\n",
      "60000/60000 [==============================] - 8s 127us/step - loss: 0.2667 - accuracy: 0.9243\n",
      "Epoch 8/100\n",
      "60000/60000 [==============================] - 8s 129us/step - loss: 0.2499 - accuracy: 0.9283\n",
      "Epoch 9/100\n",
      "60000/60000 [==============================] - 8s 126us/step - loss: 0.2473 - accuracy: 0.9297\n",
      "Epoch 10/100\n",
      "60000/60000 [==============================] - 9s 142us/step - loss: 0.2415 - accuracy: 0.9305\n",
      "Epoch 11/100\n",
      "60000/60000 [==============================] - 8s 138us/step - loss: 0.2329 - accuracy: 0.9333\n",
      "Epoch 12/100\n",
      "60000/60000 [==============================] - 8s 128us/step - loss: 0.2266 - accuracy: 0.9349\n",
      "Epoch 13/100\n",
      "60000/60000 [==============================] - 8s 128us/step - loss: 0.2224 - accuracy: 0.9366\n",
      "Epoch 14/100\n",
      "60000/60000 [==============================] - 8s 127us/step - loss: 0.2203 - accuracy: 0.9367\n",
      "Epoch 15/100\n",
      "60000/60000 [==============================] - 7s 122us/step - loss: 0.2131 - accuracy: 0.9399\n",
      "Epoch 16/100\n",
      "60000/60000 [==============================] - 8s 133us/step - loss: 0.2104 - accuracy: 0.9399\n",
      "Epoch 17/100\n",
      "60000/60000 [==============================] - 9s 147us/step - loss: 0.2054 - accuracy: 0.9409\n",
      "Epoch 18/100\n",
      "60000/60000 [==============================] - 8s 127us/step - loss: 0.2043 - accuracy: 0.9412\n",
      "Epoch 19/100\n",
      "60000/60000 [==============================] - 8s 128us/step - loss: 0.2009 - accuracy: 0.9416\n",
      "Epoch 20/100\n",
      "60000/60000 [==============================] - 7s 122us/step - loss: 0.1998 - accuracy: 0.9424\n",
      "Epoch 21/100\n",
      "60000/60000 [==============================] - 8s 129us/step - loss: 0.1969 - accuracy: 0.9430\n",
      "Epoch 22/100\n",
      "60000/60000 [==============================] - 7s 124us/step - loss: 0.1910 - accuracy: 0.9448\n",
      "Epoch 23/100\n",
      "60000/60000 [==============================] - 7s 125us/step - loss: 0.1917 - accuracy: 0.9443\n",
      "Epoch 24/100\n",
      "60000/60000 [==============================] - 8s 130us/step - loss: 0.1896 - accuracy: 0.9455\n",
      "Epoch 25/100\n",
      "60000/60000 [==============================] - 7s 120us/step - loss: 0.1921 - accuracy: 0.9447\n",
      "Epoch 26/100\n",
      "60000/60000 [==============================] - 8s 131us/step - loss: 0.1848 - accuracy: 0.9454\n",
      "Epoch 27/100\n",
      "60000/60000 [==============================] - 7s 123us/step - loss: 0.1837 - accuracy: 0.9463\n",
      "Epoch 28/100\n",
      "60000/60000 [==============================] - 8s 133us/step - loss: 0.1820 - accuracy: 0.9474\n",
      "Epoch 29/100\n",
      "60000/60000 [==============================] - 8s 137us/step - loss: 0.1817 - accuracy: 0.9468\n",
      "Epoch 30/100\n",
      "60000/60000 [==============================] - 8s 130us/step - loss: 0.1827 - accuracy: 0.9485\n",
      "Epoch 31/100\n",
      "60000/60000 [==============================] - 7s 124us/step - loss: 0.1782 - accuracy: 0.9496\n",
      "Epoch 32/100\n",
      "60000/60000 [==============================] - 7s 123us/step - loss: 0.1771 - accuracy: 0.9492\n",
      "Epoch 33/100\n",
      "60000/60000 [==============================] - 7s 116us/step - loss: 0.1758 - accuracy: 0.9496\n",
      "Epoch 34/100\n",
      "60000/60000 [==============================] - 7s 118us/step - loss: 0.1762 - accuracy: 0.9491\n",
      "Epoch 35/100\n",
      "60000/60000 [==============================] - 7s 120us/step - loss: 0.1786 - accuracy: 0.9493\n",
      "Epoch 36/100\n",
      "60000/60000 [==============================] - 7s 118us/step - loss: 0.1739 - accuracy: 0.9491\n",
      "Epoch 37/100\n",
      "60000/60000 [==============================] - 7s 118us/step - loss: 0.1733 - accuracy: 0.9506\n",
      "Epoch 38/100\n",
      "60000/60000 [==============================] - 8s 127us/step - loss: 0.1729 - accuracy: 0.9500\n",
      "Epoch 39/100\n",
      "60000/60000 [==============================] - 8s 129us/step - loss: 0.1716 - accuracy: 0.9501\n",
      "Epoch 40/100\n",
      "60000/60000 [==============================] - 8s 126us/step - loss: 0.1693 - accuracy: 0.9514\n",
      "Epoch 41/100\n",
      "60000/60000 [==============================] - 7s 125us/step - loss: 0.1718 - accuracy: 0.9506\n",
      "Epoch 42/100\n",
      "60000/60000 [==============================] - 7s 123us/step - loss: 0.1668 - accuracy: 0.9503\n",
      "Epoch 43/100\n",
      "60000/60000 [==============================] - 7s 121us/step - loss: 0.1693 - accuracy: 0.9502\n",
      "Epoch 44/100\n",
      "60000/60000 [==============================] - 7s 121us/step - loss: 0.1670 - accuracy: 0.9504\n",
      "Epoch 45/100\n",
      "60000/60000 [==============================] - 7s 121us/step - loss: 0.1695 - accuracy: 0.9507\n",
      "Epoch 46/100\n",
      "60000/60000 [==============================] - 7s 122us/step - loss: 0.1635 - accuracy: 0.9531\n",
      "Epoch 47/100\n",
      "60000/60000 [==============================] - 7s 121us/step - loss: 0.1673 - accuracy: 0.9519\n",
      "Epoch 48/100\n",
      "60000/60000 [==============================] - 7s 120us/step - loss: 0.1647 - accuracy: 0.9525\n",
      "Epoch 49/100\n",
      "60000/60000 [==============================] - 7s 123us/step - loss: 0.1673 - accuracy: 0.9514\n",
      "Epoch 50/100\n",
      "60000/60000 [==============================] - 7s 123us/step - loss: 0.1627 - accuracy: 0.9525\n",
      "Epoch 51/100\n",
      "60000/60000 [==============================] - 7s 121us/step - loss: 0.1633 - accuracy: 0.9521\n",
      "Epoch 52/100\n",
      "60000/60000 [==============================] - 7s 123us/step - loss: 0.1640 - accuracy: 0.9521\n",
      "Epoch 53/100\n",
      "60000/60000 [==============================] - 7s 121us/step - loss: 0.1621 - accuracy: 0.9531\n",
      "Epoch 54/100\n",
      "60000/60000 [==============================] - 7s 122us/step - loss: 0.1584 - accuracy: 0.9536\n",
      "Epoch 55/100\n",
      "60000/60000 [==============================] - 7s 121us/step - loss: 0.1594 - accuracy: 0.9533\n",
      "Epoch 56/100\n",
      "60000/60000 [==============================] - 7s 122us/step - loss: 0.1641 - accuracy: 0.9518\n",
      "Epoch 57/100\n",
      "60000/60000 [==============================] - 7s 122us/step - loss: 0.1580 - accuracy: 0.9540\n",
      "Epoch 58/100\n",
      "60000/60000 [==============================] - 7s 122us/step - loss: 0.1579 - accuracy: 0.9545\n",
      "Epoch 59/100\n",
      "60000/60000 [==============================] - 7s 122us/step - loss: 0.1586 - accuracy: 0.9532\n",
      "Epoch 60/100\n",
      "60000/60000 [==============================] - 7s 121us/step - loss: 0.1554 - accuracy: 0.9548\n",
      "Epoch 61/100\n",
      "60000/60000 [==============================] - 8s 126us/step - loss: 0.1593 - accuracy: 0.9538\n",
      "Epoch 62/100\n",
      "60000/60000 [==============================] - 9s 142us/step - loss: 0.1575 - accuracy: 0.9535\n",
      "Epoch 63/100\n",
      "60000/60000 [==============================] - 8s 128us/step - loss: 0.1558 - accuracy: 0.9540\n",
      "Epoch 64/100\n",
      "60000/60000 [==============================] - 8s 136us/step - loss: 0.1558 - accuracy: 0.9546\n",
      "Epoch 65/100\n",
      "60000/60000 [==============================] - 8s 137us/step - loss: 0.1569 - accuracy: 0.9548\n",
      "Epoch 66/100\n",
      "60000/60000 [==============================] - 7s 123us/step - loss: 0.1573 - accuracy: 0.9546\n",
      "Epoch 67/100\n",
      "60000/60000 [==============================] - 9s 148us/step - loss: 0.1509 - accuracy: 0.9557\n",
      "Epoch 68/100\n",
      "60000/60000 [==============================] - 7s 120us/step - loss: 0.1564 - accuracy: 0.9544\n",
      "Epoch 69/100\n",
      "60000/60000 [==============================] - 7s 122us/step - loss: 0.1562 - accuracy: 0.9542\n",
      "Epoch 70/100\n",
      "60000/60000 [==============================] - 9s 146us/step - loss: 0.1510 - accuracy: 0.9570\n",
      "Epoch 71/100\n",
      "60000/60000 [==============================] - 8s 130us/step - loss: 0.1480 - accuracy: 0.9572\n",
      "Epoch 72/100\n",
      "60000/60000 [==============================] - 8s 131us/step - loss: 0.1517 - accuracy: 0.9550\n",
      "Epoch 73/100\n",
      "60000/60000 [==============================] - 8s 129us/step - loss: 0.1533 - accuracy: 0.9559\n",
      "Epoch 74/100\n",
      "60000/60000 [==============================] - 7s 118us/step - loss: 0.1507 - accuracy: 0.9550\n",
      "Epoch 75/100\n",
      "60000/60000 [==============================] - 8s 133us/step - loss: 0.1521 - accuracy: 0.9560\n",
      "Epoch 76/100\n",
      "60000/60000 [==============================] - 8s 140us/step - loss: 0.1554 - accuracy: 0.9548\n",
      "Epoch 77/100\n",
      "60000/60000 [==============================] - 8s 140us/step - loss: 0.1492 - accuracy: 0.9559\n",
      "Epoch 78/100\n",
      "60000/60000 [==============================] - 8s 133us/step - loss: 0.1512 - accuracy: 0.9568\n",
      "Epoch 79/100\n",
      "60000/60000 [==============================] - 8s 136us/step - loss: 0.1514 - accuracy: 0.9556\n",
      "Epoch 80/100\n",
      "60000/60000 [==============================] - 9s 153us/step - loss: 0.1486 - accuracy: 0.9556\n",
      "Epoch 81/100\n",
      "60000/60000 [==============================] - 9s 152us/step - loss: 0.1499 - accuracy: 0.9554\n",
      "Epoch 82/100\n",
      "60000/60000 [==============================] - 10s 172us/step - loss: 0.1490 - accuracy: 0.9563\n",
      "Epoch 83/100\n",
      "60000/60000 [==============================] - 9s 142us/step - loss: 0.1505 - accuracy: 0.9554\n",
      "Epoch 84/100\n",
      "60000/60000 [==============================] - 9s 154us/step - loss: 0.1542 - accuracy: 0.9547\n",
      "Epoch 85/100\n",
      "60000/60000 [==============================] - 8s 127us/step - loss: 0.1501 - accuracy: 0.9564\n",
      "Epoch 86/100\n",
      "60000/60000 [==============================] - 7s 124us/step - loss: 0.1467 - accuracy: 0.9563\n",
      "Epoch 87/100\n",
      "60000/60000 [==============================] - 9s 145us/step - loss: 0.1502 - accuracy: 0.9567\n",
      "Epoch 88/100\n",
      "60000/60000 [==============================] - 9s 143us/step - loss: 0.1473 - accuracy: 0.9566\n",
      "Epoch 89/100\n",
      "60000/60000 [==============================] - 8s 139us/step - loss: 0.1495 - accuracy: 0.9561\n",
      "Epoch 90/100\n",
      "60000/60000 [==============================] - 8s 135us/step - loss: 0.1460 - accuracy: 0.9567\n",
      "Epoch 91/100\n",
      "60000/60000 [==============================] - 8s 135us/step - loss: 0.1444 - accuracy: 0.9581\n",
      "Epoch 92/100\n",
      "60000/60000 [==============================] - 8s 126us/step - loss: 0.1475 - accuracy: 0.9558\n",
      "Epoch 93/100\n",
      "60000/60000 [==============================] - 7s 122us/step - loss: 0.1415 - accuracy: 0.9584\n",
      "Epoch 94/100\n",
      "60000/60000 [==============================] - 8s 130us/step - loss: 0.1429 - accuracy: 0.9574\n",
      "Epoch 95/100\n",
      "60000/60000 [==============================] - 7s 119us/step - loss: 0.1452 - accuracy: 0.9569\n",
      "Epoch 96/100\n",
      "60000/60000 [==============================] - 8s 126us/step - loss: 0.1433 - accuracy: 0.9581\n",
      "Epoch 97/100\n",
      "60000/60000 [==============================] - 7s 125us/step - loss: 0.1421 - accuracy: 0.9575\n",
      "Epoch 98/100\n",
      "60000/60000 [==============================] - 8s 125us/step - loss: 0.1440 - accuracy: 0.9574\n",
      "Epoch 99/100\n",
      "60000/60000 [==============================] - 7s 122us/step - loss: 0.1418 - accuracy: 0.9583\n",
      "Epoch 100/100\n",
      "60000/60000 [==============================] - 7s 122us/step - loss: 0.1445 - accuracy: 0.9579\n",
      "Epoch 1/100\n",
      "60000/60000 [==============================] - 10s 173us/step - loss: 0.7890 - accuracy: 0.7597\n",
      "Epoch 2/100\n",
      "60000/60000 [==============================] - 9s 156us/step - loss: 0.4470 - accuracy: 0.8727\n",
      "Epoch 3/100\n",
      "60000/60000 [==============================] - 9s 145us/step - loss: 0.3669 - accuracy: 0.8955\n",
      "Epoch 4/100\n",
      "60000/60000 [==============================] - 9s 144us/step - loss: 0.3252 - accuracy: 0.9072\n",
      "Epoch 5/100\n",
      "60000/60000 [==============================] - 9s 142us/step - loss: 0.3010 - accuracy: 0.9149\n",
      "Epoch 6/100\n",
      "60000/60000 [==============================] - 9s 144us/step - loss: 0.2884 - accuracy: 0.9173\n",
      "Epoch 7/100\n",
      "60000/60000 [==============================] - 8s 129us/step - loss: 0.2721 - accuracy: 0.9228\n",
      "Epoch 8/100\n",
      "60000/60000 [==============================] - 8s 137us/step - loss: 0.2566 - accuracy: 0.9279\n",
      "Epoch 9/100\n",
      "60000/60000 [==============================] - 8s 140us/step - loss: 0.2497 - accuracy: 0.9281\n",
      "Epoch 10/100\n",
      "60000/60000 [==============================] - 8s 126us/step - loss: 0.2409 - accuracy: 0.9322\n",
      "Epoch 11/100\n",
      "60000/60000 [==============================] - 8s 133us/step - loss: 0.2345 - accuracy: 0.9344\n",
      "Epoch 12/100\n",
      "60000/60000 [==============================] - 8s 130us/step - loss: 0.2303 - accuracy: 0.9341\n",
      "Epoch 13/100\n",
      "60000/60000 [==============================] - 8s 132us/step - loss: 0.2256 - accuracy: 0.9361\n",
      "Epoch 14/100\n",
      "60000/60000 [==============================] - 7s 124us/step - loss: 0.2225 - accuracy: 0.9366\n",
      "Epoch 15/100\n",
      "60000/60000 [==============================] - 8s 127us/step - loss: 0.2153 - accuracy: 0.9385\n",
      "Epoch 16/100\n",
      "60000/60000 [==============================] - 8s 128us/step - loss: 0.2150 - accuracy: 0.9388\n",
      "Epoch 17/100\n",
      "60000/60000 [==============================] - ETA: 0s - loss: 0.2066 - accuracy: 0.94 - 8s 129us/step - loss: 0.2065 - accuracy: 0.9412\n",
      "Epoch 18/100\n",
      "60000/60000 [==============================] - 8s 128us/step - loss: 0.2060 - accuracy: 0.9416\n",
      "Epoch 19/100\n",
      "60000/60000 [==============================] - 8s 127us/step - loss: 0.2027 - accuracy: 0.9432\n",
      "Epoch 20/100\n",
      "60000/60000 [==============================] - 8s 126us/step - loss: 0.1976 - accuracy: 0.9430\n",
      "Epoch 21/100\n",
      "60000/60000 [==============================] - 8s 130us/step - loss: 0.1947 - accuracy: 0.9446\n",
      "Epoch 22/100\n",
      "60000/60000 [==============================] - 7s 122us/step - loss: 0.1986 - accuracy: 0.9438\n",
      "Epoch 23/100\n",
      "60000/60000 [==============================] - 8s 128us/step - loss: 0.1939 - accuracy: 0.9444\n",
      "Epoch 24/100\n",
      "60000/60000 [==============================] - 8s 126us/step - loss: 0.1939 - accuracy: 0.9446\n",
      "Epoch 25/100\n",
      "60000/60000 [==============================] - 8s 138us/step - loss: 0.1930 - accuracy: 0.9441\n",
      "Epoch 26/100\n",
      "60000/60000 [==============================] - 8s 134us/step - loss: 0.1876 - accuracy: 0.9459\n",
      "Epoch 27/100\n",
      "60000/60000 [==============================] - 7s 120us/step - loss: 0.1908 - accuracy: 0.9453\n",
      "Epoch 28/100\n",
      "60000/60000 [==============================] - 8s 126us/step - loss: 0.1884 - accuracy: 0.9464\n",
      "Epoch 29/100\n",
      "60000/60000 [==============================] - 8s 126us/step - loss: 0.1842 - accuracy: 0.9475\n",
      "Epoch 30/100\n",
      "60000/60000 [==============================] - 10s 164us/step - loss: 0.1809 - accuracy: 0.9483\n",
      "Epoch 31/100\n",
      "60000/60000 [==============================] - 10s 159us/step - loss: 0.1782 - accuracy: 0.9487\n",
      "Epoch 32/100\n",
      "60000/60000 [==============================] - 10s 162us/step - loss: 0.1817 - accuracy: 0.9485\n",
      "Epoch 33/100\n",
      "60000/60000 [==============================] - 7s 120us/step - loss: 0.1781 - accuracy: 0.9483\n",
      "Epoch 34/100\n",
      "60000/60000 [==============================] - 9s 144us/step - loss: 0.1811 - accuracy: 0.9476\n",
      "Epoch 35/100\n",
      "60000/60000 [==============================] - 8s 129us/step - loss: 0.1754 - accuracy: 0.9488\n",
      "Epoch 36/100\n",
      "60000/60000 [==============================] - 8s 128us/step - loss: 0.1737 - accuracy: 0.9493\n",
      "Epoch 37/100\n",
      "60000/60000 [==============================] - 8s 135us/step - loss: 0.1757 - accuracy: 0.9495\n",
      "Epoch 38/100\n",
      "60000/60000 [==============================] - 9s 142us/step - loss: 0.1715 - accuracy: 0.9522\n",
      "Epoch 39/100\n",
      "60000/60000 [==============================] - 10s 163us/step - loss: 0.1742 - accuracy: 0.9496s - loss: 0.1743 - accuracy: 0.94\n",
      "Epoch 40/100\n",
      "60000/60000 [==============================] - 9s 148us/step - loss: 0.1711 - accuracy: 0.9500\n",
      "Epoch 41/100\n",
      "60000/60000 [==============================] - 7s 120us/step - loss: 0.1689 - accuracy: 0.9509\n",
      "Epoch 42/100\n",
      "60000/60000 [==============================] - 7s 114us/step - loss: 0.1684 - accuracy: 0.9513\n",
      "Epoch 43/100\n",
      "60000/60000 [==============================] - 7s 117us/step - loss: 0.1694 - accuracy: 0.9513\n",
      "Epoch 44/100\n",
      "60000/60000 [==============================] - 8s 132us/step - loss: 0.1688 - accuracy: 0.9508\n",
      "Epoch 45/100\n",
      "60000/60000 [==============================] - 7s 115us/step - loss: 0.1704 - accuracy: 0.9518\n",
      "Epoch 46/100\n",
      "60000/60000 [==============================] - 7s 120us/step - loss: 0.1654 - accuracy: 0.9524\n",
      "Epoch 47/100\n",
      "60000/60000 [==============================] - 7s 123us/step - loss: 0.1661 - accuracy: 0.9526\n",
      "Epoch 48/100\n",
      "60000/60000 [==============================] - 6s 107us/step - loss: 0.1681 - accuracy: 0.9512\n",
      "Epoch 49/100\n",
      "60000/60000 [==============================] - 7s 117us/step - loss: 0.1646 - accuracy: 0.9525\n",
      "Epoch 50/100\n",
      "60000/60000 [==============================] - 6s 106us/step - loss: 0.1669 - accuracy: 0.9514\n",
      "Epoch 51/100\n"
     ]
    },
    {
     "name": "stdout",
     "output_type": "stream",
     "text": [
      "60000/60000 [==============================] - 6s 105us/step - loss: 0.1633 - accuracy: 0.9524\n",
      "Epoch 52/100\n",
      "60000/60000 [==============================] - 6s 105us/step - loss: 0.1652 - accuracy: 0.9527\n",
      "Epoch 53/100\n",
      "60000/60000 [==============================] - 6s 106us/step - loss: 0.1589 - accuracy: 0.9532\n",
      "Epoch 54/100\n",
      "60000/60000 [==============================] - 6s 107us/step - loss: 0.1629 - accuracy: 0.9534\n",
      "Epoch 55/100\n",
      "60000/60000 [==============================] - 6s 107us/step - loss: 0.1578 - accuracy: 0.9535\n",
      "Epoch 56/100\n",
      "60000/60000 [==============================] - 6s 106us/step - loss: 0.1633 - accuracy: 0.9534\n",
      "Epoch 57/100\n",
      "60000/60000 [==============================] - 6s 106us/step - loss: 0.1594 - accuracy: 0.9540\n",
      "Epoch 58/100\n",
      "60000/60000 [==============================] - 6s 106us/step - loss: 0.1577 - accuracy: 0.9541\n",
      "Epoch 59/100\n",
      "60000/60000 [==============================] - 6s 107us/step - loss: 0.1587 - accuracy: 0.9537\n",
      "Epoch 60/100\n",
      "60000/60000 [==============================] - 6s 105us/step - loss: 0.1597 - accuracy: 0.9539\n",
      "Epoch 61/100\n",
      "60000/60000 [==============================] - 6s 106us/step - loss: 0.1551 - accuracy: 0.9549\n",
      "Epoch 62/100\n",
      "60000/60000 [==============================] - 6s 106us/step - loss: 0.1610 - accuracy: 0.9534\n",
      "Epoch 63/100\n",
      "60000/60000 [==============================] - 7s 118us/step - loss: 0.1633 - accuracy: 0.9526\n",
      "Epoch 64/100\n",
      "60000/60000 [==============================] - 7s 117us/step - loss: 0.1587 - accuracy: 0.9541\n",
      "Epoch 65/100\n",
      "60000/60000 [==============================] - 8s 131us/step - loss: 0.1559 - accuracy: 0.9551\n",
      "Epoch 66/100\n",
      "60000/60000 [==============================] - 7s 117us/step - loss: 0.1576 - accuracy: 0.9542\n",
      "Epoch 67/100\n",
      "60000/60000 [==============================] - 8s 139us/step - loss: 0.1566 - accuracy: 0.9541\n",
      "Epoch 68/100\n",
      "60000/60000 [==============================] - 7s 123us/step - loss: 0.1555 - accuracy: 0.9561\n",
      "Epoch 69/100\n",
      "60000/60000 [==============================] - 7s 117us/step - loss: 0.1511 - accuracy: 0.9560\n",
      "Epoch 70/100\n",
      "60000/60000 [==============================] - 8s 131us/step - loss: 0.1577 - accuracy: 0.9547\n",
      "Epoch 71/100\n",
      "60000/60000 [==============================] - 9s 142us/step - loss: 0.1545 - accuracy: 0.9550\n",
      "Epoch 72/100\n",
      "60000/60000 [==============================] - 8s 128us/step - loss: 0.1543 - accuracy: 0.9559\n",
      "Epoch 73/100\n",
      "60000/60000 [==============================] - 7s 109us/step - loss: 0.1508 - accuracy: 0.9556\n",
      "Epoch 74/100\n",
      "60000/60000 [==============================] - 6s 108us/step - loss: 0.1530 - accuracy: 0.9567\n",
      "Epoch 75/100\n",
      "60000/60000 [==============================] - 7s 109us/step - loss: 0.1548 - accuracy: 0.9556\n",
      "Epoch 76/100\n",
      "60000/60000 [==============================] - 7s 113us/step - loss: 0.1492 - accuracy: 0.9565\n",
      "Epoch 77/100\n",
      "60000/60000 [==============================] - 7s 115us/step - loss: 0.1525 - accuracy: 0.9557\n",
      "Epoch 78/100\n",
      "60000/60000 [==============================] - 7s 119us/step - loss: 0.1519 - accuracy: 0.9560\n",
      "Epoch 79/100\n",
      "60000/60000 [==============================] - 7s 120us/step - loss: 0.1497 - accuracy: 0.9567\n",
      "Epoch 80/100\n",
      "60000/60000 [==============================] - 7s 120us/step - loss: 0.1489 - accuracy: 0.9561\n",
      "Epoch 81/100\n",
      "60000/60000 [==============================] - 7s 120us/step - loss: 0.1505 - accuracy: 0.9567\n",
      "Epoch 82/100\n",
      "60000/60000 [==============================] - 7s 120us/step - loss: 0.1510 - accuracy: 0.9565\n",
      "Epoch 83/100\n",
      "60000/60000 [==============================] - 8s 128us/step - loss: 0.1506 - accuracy: 0.9558\n",
      "Epoch 84/100\n",
      "60000/60000 [==============================] - 9s 143us/step - loss: 0.1477 - accuracy: 0.9570\n",
      "Epoch 85/100\n",
      "60000/60000 [==============================] - 8s 141us/step - loss: 0.1483 - accuracy: 0.9578\n",
      "Epoch 86/100\n",
      "60000/60000 [==============================] - 8s 136us/step - loss: 0.1463 - accuracy: 0.9571\n",
      "Epoch 87/100\n",
      "60000/60000 [==============================] - 9s 146us/step - loss: 0.1498 - accuracy: 0.9571\n",
      "Epoch 88/100\n",
      "60000/60000 [==============================] - 7s 121us/step - loss: 0.1500 - accuracy: 0.9563\n",
      "Epoch 89/100\n",
      "60000/60000 [==============================] - 7s 123us/step - loss: 0.1462 - accuracy: 0.9570\n",
      "Epoch 90/100\n",
      "60000/60000 [==============================] - 7s 125us/step - loss: 0.1476 - accuracy: 0.9573\n",
      "Epoch 91/100\n",
      "60000/60000 [==============================] - 10s 164us/step - loss: 0.1499 - accuracy: 0.9564\n",
      "Epoch 92/100\n",
      "60000/60000 [==============================] - 9s 157us/step - loss: 0.1444 - accuracy: 0.9584\n",
      "Epoch 93/100\n",
      "60000/60000 [==============================] - 7s 114us/step - loss: 0.1481 - accuracy: 0.9565\n",
      "Epoch 94/100\n",
      "60000/60000 [==============================] - 9s 146us/step - loss: 0.1464 - accuracy: 0.9576\n",
      "Epoch 95/100\n",
      "60000/60000 [==============================] - 8s 131us/step - loss: 0.1484 - accuracy: 0.9576\n",
      "Epoch 96/100\n",
      "60000/60000 [==============================] - 7s 115us/step - loss: 0.1452 - accuracy: 0.9570\n",
      "Epoch 97/100\n",
      "60000/60000 [==============================] - 7s 120us/step - loss: 0.1483 - accuracy: 0.9571\n",
      "Epoch 98/100\n",
      "60000/60000 [==============================] - 8s 126us/step - loss: 0.1490 - accuracy: 0.9576\n",
      "Epoch 99/100\n",
      "60000/60000 [==============================] - 8s 133us/step - loss: 0.1480 - accuracy: 0.9573\n",
      "Epoch 100/100\n",
      "60000/60000 [==============================] - 8s 131us/step - loss: 0.1447 - accuracy: 0.9577\n",
      "Epoch 1/100\n",
      "60000/60000 [==============================] - 8s 140us/step - loss: 0.7522 - accuracy: 0.7688\n",
      "Epoch 2/100\n",
      "60000/60000 [==============================] - 8s 134us/step - loss: 0.4278 - accuracy: 0.8764\n",
      "Epoch 3/100\n",
      "60000/60000 [==============================] - 8s 137us/step - loss: 0.3556 - accuracy: 0.8977\n",
      "Epoch 4/100\n",
      "60000/60000 [==============================] - 9s 151us/step - loss: 0.3219 - accuracy: 0.9082\n",
      "Epoch 5/100\n",
      "60000/60000 [==============================] - 8s 132us/step - loss: 0.2926 - accuracy: 0.9163\n",
      "Epoch 6/100\n",
      "60000/60000 [==============================] - 7s 122us/step - loss: 0.2796 - accuracy: 0.9197\n",
      "Epoch 7/100\n",
      "60000/60000 [==============================] - 8s 132us/step - loss: 0.2645 - accuracy: 0.9247\n",
      "Epoch 8/100\n",
      "60000/60000 [==============================] - 8s 134us/step - loss: 0.2542 - accuracy: 0.9280\n",
      "Epoch 9/100\n",
      "60000/60000 [==============================] - 11s 183us/step - loss: 0.2461 - accuracy: 0.9296\n",
      "Epoch 10/100\n",
      "60000/60000 [==============================] - 12s 208us/step - loss: 0.2389 - accuracy: 0.9327\n",
      "Epoch 11/100\n",
      "60000/60000 [==============================] - 12s 201us/step - loss: 0.2359 - accuracy: 0.9325\n",
      "Epoch 12/100\n",
      "60000/60000 [==============================] - 11s 182us/step - loss: 0.2263 - accuracy: 0.9347\n",
      "Epoch 13/100\n",
      "60000/60000 [==============================] - 12s 197us/step - loss: 0.2205 - accuracy: 0.9376\n",
      "Epoch 14/100\n",
      "60000/60000 [==============================] - 9s 156us/step - loss: 0.2172 - accuracy: 0.9371\n",
      "Epoch 15/100\n",
      "60000/60000 [==============================] - 9s 149us/step - loss: 0.2101 - accuracy: 0.9407\n",
      "Epoch 16/100\n",
      "60000/60000 [==============================] - 13s 213us/step - loss: 0.2120 - accuracy: 0.9377\n",
      "Epoch 17/100\n",
      "60000/60000 [==============================] - 8s 139us/step - loss: 0.2051 - accuracy: 0.9406\n",
      "Epoch 18/100\n",
      "60000/60000 [==============================] - 8s 135us/step - loss: 0.2052 - accuracy: 0.9407\n",
      "Epoch 19/100\n",
      "60000/60000 [==============================] - 9s 151us/step - loss: 0.2001 - accuracy: 0.9411\n",
      "Epoch 20/100\n",
      "60000/60000 [==============================] - 8s 128us/step - loss: 0.2004 - accuracy: 0.9423\n",
      "Epoch 21/100\n",
      "60000/60000 [==============================] - 7s 124us/step - loss: 0.1981 - accuracy: 0.9426\n",
      "Epoch 22/100\n",
      "60000/60000 [==============================] - 7s 121us/step - loss: 0.1976 - accuracy: 0.9424\n",
      "Epoch 23/100\n",
      "60000/60000 [==============================] - 7s 120us/step - loss: 0.1928 - accuracy: 0.9448\n",
      "Epoch 24/100\n",
      "60000/60000 [==============================] - 7s 117us/step - loss: 0.1927 - accuracy: 0.9442\n",
      "Epoch 25/100\n",
      "60000/60000 [==============================] - 7s 117us/step - loss: 0.1902 - accuracy: 0.9445\n",
      "Epoch 26/100\n",
      "60000/60000 [==============================] - 7s 123us/step - loss: 0.1870 - accuracy: 0.9453\n"
     ]
    },
    {
     "name": "stdout",
     "output_type": "stream",
     "text": [
      "Epoch 27/100\n",
      "60000/60000 [==============================] - 7s 122us/step - loss: 0.1827 - accuracy: 0.9479\n",
      "Epoch 28/100\n",
      "60000/60000 [==============================] - 8s 128us/step - loss: 0.1792 - accuracy: 0.9474\n",
      "Epoch 29/100\n",
      "60000/60000 [==============================] - 7s 117us/step - loss: 0.1842 - accuracy: 0.9468\n",
      "Epoch 30/100\n",
      "60000/60000 [==============================] - 8s 125us/step - loss: 0.1826 - accuracy: 0.9471\n",
      "Epoch 31/100\n",
      "60000/60000 [==============================] - 7s 123us/step - loss: 0.1801 - accuracy: 0.9480\n",
      "Epoch 32/100\n",
      "60000/60000 [==============================] - 7s 122us/step - loss: 0.1803 - accuracy: 0.9480\n",
      "Epoch 33/100\n",
      "60000/60000 [==============================] - 8s 132us/step - loss: 0.1756 - accuracy: 0.9491\n",
      "Epoch 34/100\n",
      "60000/60000 [==============================] - 8s 127us/step - loss: 0.1772 - accuracy: 0.9479\n",
      "Epoch 35/100\n",
      "60000/60000 [==============================] - 8s 129us/step - loss: 0.1746 - accuracy: 0.9488\n",
      "Epoch 36/100\n",
      "60000/60000 [==============================] - 8s 126us/step - loss: 0.1761 - accuracy: 0.9496\n",
      "Epoch 37/100\n",
      "60000/60000 [==============================] - 8s 132us/step - loss: 0.1766 - accuracy: 0.9488\n",
      "Epoch 38/100\n",
      "60000/60000 [==============================] - 7s 123us/step - loss: 0.1719 - accuracy: 0.9503\n",
      "Epoch 39/100\n",
      "60000/60000 [==============================] - 8s 131us/step - loss: 0.1734 - accuracy: 0.9502\n",
      "Epoch 40/100\n",
      "60000/60000 [==============================] - 8s 130us/step - loss: 0.1724 - accuracy: 0.9493\n",
      "Epoch 41/100\n",
      "60000/60000 [==============================] - 8s 127us/step - loss: 0.1699 - accuracy: 0.9498\n",
      "Epoch 42/100\n",
      "60000/60000 [==============================] - 7s 121us/step - loss: 0.1664 - accuracy: 0.9505\n",
      "Epoch 43/100\n",
      "60000/60000 [==============================] - 7s 124us/step - loss: 0.1679 - accuracy: 0.9508\n",
      "Epoch 44/100\n",
      "60000/60000 [==============================] - 7s 121us/step - loss: 0.1677 - accuracy: 0.9510\n",
      "Epoch 45/100\n",
      "60000/60000 [==============================] - 9s 154us/step - loss: 0.1657 - accuracy: 0.9519\n",
      "Epoch 46/100\n",
      "60000/60000 [==============================] - 8s 132us/step - loss: 0.1638 - accuracy: 0.9524\n",
      "Epoch 47/100\n",
      "60000/60000 [==============================] - 8s 129us/step - loss: 0.1645 - accuracy: 0.9521\n",
      "Epoch 48/100\n",
      "60000/60000 [==============================] - 8s 130us/step - loss: 0.1651 - accuracy: 0.9521\n",
      "Epoch 49/100\n",
      "60000/60000 [==============================] - 8s 129us/step - loss: 0.1621 - accuracy: 0.9529\n",
      "Epoch 50/100\n",
      "60000/60000 [==============================] - 9s 142us/step - loss: 0.1604 - accuracy: 0.9529\n",
      "Epoch 51/100\n",
      "60000/60000 [==============================] - 8s 129us/step - loss: 0.1658 - accuracy: 0.9524\n",
      "Epoch 52/100\n",
      "60000/60000 [==============================] - 8s 131us/step - loss: 0.1616 - accuracy: 0.9519\n",
      "Epoch 53/100\n",
      "60000/60000 [==============================] - 9s 150us/step - loss: 0.1642 - accuracy: 0.9522\n",
      "Epoch 54/100\n",
      "60000/60000 [==============================] - 8s 129us/step - loss: 0.1611 - accuracy: 0.9542\n",
      "Epoch 55/100\n",
      "60000/60000 [==============================] - 7s 123us/step - loss: 0.1610 - accuracy: 0.9536\n",
      "Epoch 56/100\n",
      "60000/60000 [==============================] - 8s 130us/step - loss: 0.1596 - accuracy: 0.9533\n",
      "Epoch 57/100\n",
      "60000/60000 [==============================] - 8s 141us/step - loss: 0.1566 - accuracy: 0.9538\n",
      "Epoch 58/100\n",
      "60000/60000 [==============================] - 9s 150us/step - loss: 0.1597 - accuracy: 0.9535\n",
      "Epoch 59/100\n",
      "60000/60000 [==============================] - 9s 145us/step - loss: 0.1542 - accuracy: 0.9552\n",
      "Epoch 60/100\n",
      "60000/60000 [==============================] - 10s 165us/step - loss: 0.1576 - accuracy: 0.9545\n",
      "Epoch 61/100\n",
      "60000/60000 [==============================] - 9s 143us/step - loss: 0.1565 - accuracy: 0.9547\n",
      "Epoch 62/100\n",
      "60000/60000 [==============================] - 8s 139us/step - loss: 0.1554 - accuracy: 0.9555\n",
      "Epoch 63/100\n",
      "60000/60000 [==============================] - 9s 144us/step - loss: 0.1561 - accuracy: 0.9549\n",
      "Epoch 64/100\n",
      "60000/60000 [==============================] - 7s 121us/step - loss: 0.1560 - accuracy: 0.9540\n",
      "Epoch 65/100\n",
      "60000/60000 [==============================] - 7s 121us/step - loss: 0.1546 - accuracy: 0.9541\n",
      "Epoch 66/100\n",
      "60000/60000 [==============================] - 8s 131us/step - loss: 0.1549 - accuracy: 0.9550\n",
      "Epoch 67/100\n",
      "60000/60000 [==============================] - 8s 134us/step - loss: 0.1550 - accuracy: 0.9544\n",
      "Epoch 68/100\n",
      "60000/60000 [==============================] - 8s 134us/step - loss: 0.1528 - accuracy: 0.9552\n",
      "Epoch 69/100\n",
      "60000/60000 [==============================] - 8s 128us/step - loss: 0.1521 - accuracy: 0.9546\n",
      "Epoch 70/100\n",
      "60000/60000 [==============================] - 8s 129us/step - loss: 0.1551 - accuracy: 0.9544\n",
      "Epoch 71/100\n",
      "60000/60000 [==============================] - 8s 128us/step - loss: 0.1550 - accuracy: 0.9543\n",
      "Epoch 72/100\n",
      "60000/60000 [==============================] - 8s 128us/step - loss: 0.1471 - accuracy: 0.9559\n",
      "Epoch 73/100\n",
      "60000/60000 [==============================] - 8s 129us/step - loss: 0.1519 - accuracy: 0.9562\n",
      "Epoch 74/100\n",
      "60000/60000 [==============================] - 8s 129us/step - loss: 0.1482 - accuracy: 0.9559\n",
      "Epoch 75/100\n",
      "60000/60000 [==============================] - 8s 128us/step - loss: 0.1542 - accuracy: 0.9547\n",
      "Epoch 76/100\n",
      "60000/60000 [==============================] - 8s 127us/step - loss: 0.1515 - accuracy: 0.9551\n",
      "Epoch 77/100\n",
      "60000/60000 [==============================] - 8s 130us/step - loss: 0.1477 - accuracy: 0.9564\n",
      "Epoch 78/100\n",
      "60000/60000 [==============================] - 8s 128us/step - loss: 0.1454 - accuracy: 0.9565\n",
      "Epoch 79/100\n",
      "60000/60000 [==============================] - 8s 129us/step - loss: 0.1493 - accuracy: 0.9560\n",
      "Epoch 80/100\n",
      "60000/60000 [==============================] - 8s 128us/step - loss: 0.1483 - accuracy: 0.9557\n",
      "Epoch 81/100\n",
      "60000/60000 [==============================] - 8s 129us/step - loss: 0.1500 - accuracy: 0.9561\n",
      "Epoch 82/100\n",
      "60000/60000 [==============================] - 8s 128us/step - loss: 0.1528 - accuracy: 0.9562\n",
      "Epoch 83/100\n",
      "60000/60000 [==============================] - 8s 129us/step - loss: 0.1500 - accuracy: 0.9560\n",
      "Epoch 84/100\n",
      "60000/60000 [==============================] - 8s 128us/step - loss: 0.1475 - accuracy: 0.9566\n",
      "Epoch 85/100\n",
      "60000/60000 [==============================] - 8s 129us/step - loss: 0.1493 - accuracy: 0.9571\n",
      "Epoch 86/100\n",
      "60000/60000 [==============================] - 8s 129us/step - loss: 0.1447 - accuracy: 0.9575\n",
      "Epoch 87/100\n",
      "60000/60000 [==============================] - 8s 129us/step - loss: 0.1458 - accuracy: 0.9575\n",
      "Epoch 88/100\n",
      "60000/60000 [==============================] - 8s 129us/step - loss: 0.1494 - accuracy: 0.9557\n",
      "Epoch 89/100\n",
      "60000/60000 [==============================] - 8s 129us/step - loss: 0.1466 - accuracy: 0.9565\n",
      "Epoch 90/100\n",
      "60000/60000 [==============================] - 8s 131us/step - loss: 0.1434 - accuracy: 0.9568\n",
      "Epoch 91/100\n",
      "60000/60000 [==============================] - 8s 129us/step - loss: 0.1469 - accuracy: 0.9571\n",
      "Epoch 92/100\n",
      "60000/60000 [==============================] - 8s 132us/step - loss: 0.1504 - accuracy: 0.9564\n",
      "Epoch 93/100\n",
      "60000/60000 [==============================] - 8s 129us/step - loss: 0.1453 - accuracy: 0.9570\n",
      "Epoch 94/100\n",
      "60000/60000 [==============================] - 8s 128us/step - loss: 0.1449 - accuracy: 0.9570\n",
      "Epoch 95/100\n",
      "60000/60000 [==============================] - 8s 131us/step - loss: 0.1476 - accuracy: 0.9563\n",
      "Epoch 96/100\n",
      "60000/60000 [==============================] - 8s 139us/step - loss: 0.1455 - accuracy: 0.9578\n",
      "Epoch 97/100\n",
      "60000/60000 [==============================] - 9s 146us/step - loss: 0.1441 - accuracy: 0.9578\n",
      "Epoch 98/100\n",
      "60000/60000 [==============================] - 8s 134us/step - loss: 0.1453 - accuracy: 0.9573\n",
      "Epoch 99/100\n",
      "60000/60000 [==============================] - 8s 136us/step - loss: 0.1456 - accuracy: 0.9571\n",
      "Epoch 100/100\n",
      "60000/60000 [==============================] - 8s 134us/step - loss: 0.1430 - accuracy: 0.9577\n",
      "Epoch 1/100\n",
      "60000/60000 [==============================] - 10s 162us/step - loss: 0.7537 - accuracy: 0.7734\n",
      "Epoch 2/100\n",
      "60000/60000 [==============================] - 8s 133us/step - loss: 0.4349 - accuracy: 0.8772\n",
      "Epoch 3/100\n",
      "60000/60000 [==============================] - 8s 133us/step - loss: 0.3611 - accuracy: 0.8978\n",
      "Epoch 4/100\n",
      "60000/60000 [==============================] - 8s 132us/step - loss: 0.3215 - accuracy: 0.9082\n",
      "Epoch 5/100\n",
      "60000/60000 [==============================] - 8s 132us/step - loss: 0.2985 - accuracy: 0.9148\n",
      "Epoch 6/100\n",
      "60000/60000 [==============================] - 8s 132us/step - loss: 0.2817 - accuracy: 0.9195\n",
      "Epoch 7/100\n",
      "60000/60000 [==============================] - 8s 134us/step - loss: 0.2692 - accuracy: 0.9239\n",
      "Epoch 8/100\n",
      "60000/60000 [==============================] - 8s 132us/step - loss: 0.2534 - accuracy: 0.9273\n",
      "Epoch 9/100\n",
      "60000/60000 [==============================] - 8s 134us/step - loss: 0.2517 - accuracy: 0.9291\n",
      "Epoch 10/100\n",
      "60000/60000 [==============================] - 8s 133us/step - loss: 0.2451 - accuracy: 0.9302\n",
      "Epoch 11/100\n",
      "60000/60000 [==============================] - 8s 135us/step - loss: 0.2350 - accuracy: 0.9334\n",
      "Epoch 12/100\n",
      "60000/60000 [==============================] - 8s 133us/step - loss: 0.2327 - accuracy: 0.9335\n",
      "Epoch 13/100\n",
      "60000/60000 [==============================] - 8s 133us/step - loss: 0.2225 - accuracy: 0.9360\n",
      "Epoch 14/100\n",
      "60000/60000 [==============================] - 8s 132us/step - loss: 0.2193 - accuracy: 0.9372\n",
      "Epoch 15/100\n",
      "60000/60000 [==============================] - 8s 134us/step - loss: 0.2201 - accuracy: 0.9376\n",
      "Epoch 16/100\n",
      "60000/60000 [==============================] - 8s 134us/step - loss: 0.2141 - accuracy: 0.9394\n",
      "Epoch 17/100\n",
      "60000/60000 [==============================] - 8s 133us/step - loss: 0.2067 - accuracy: 0.9401\n",
      "Epoch 18/100\n",
      "60000/60000 [==============================] - 8s 134us/step - loss: 0.2057 - accuracy: 0.9411\n",
      "Epoch 19/100\n",
      "60000/60000 [==============================] - 8s 134us/step - loss: 0.2028 - accuracy: 0.9412\n",
      "Epoch 20/100\n",
      "60000/60000 [==============================] - 8s 134us/step - loss: 0.1967 - accuracy: 0.9436\n",
      "Epoch 21/100\n",
      "60000/60000 [==============================] - 8s 133us/step - loss: 0.1950 - accuracy: 0.9442\n",
      "Epoch 22/100\n",
      "60000/60000 [==============================] - 8s 133us/step - loss: 0.1964 - accuracy: 0.9439\n",
      "Epoch 23/100\n",
      "60000/60000 [==============================] - 8s 135us/step - loss: 0.1908 - accuracy: 0.9445\n",
      "Epoch 24/100\n",
      "60000/60000 [==============================] - 8s 135us/step - loss: 0.1885 - accuracy: 0.9455\n",
      "Epoch 25/100\n",
      "60000/60000 [==============================] - 8s 133us/step - loss: 0.1930 - accuracy: 0.9438\n",
      "Epoch 26/100\n",
      "60000/60000 [==============================] - 8s 134us/step - loss: 0.1897 - accuracy: 0.9463\n",
      "Epoch 27/100\n",
      "60000/60000 [==============================] - 9s 147us/step - loss: 0.1859 - accuracy: 0.9458\n",
      "Epoch 28/100\n",
      "60000/60000 [==============================] - 8s 133us/step - loss: 0.1866 - accuracy: 0.9460\n",
      "Epoch 29/100\n",
      "60000/60000 [==============================] - 8s 134us/step - loss: 0.1825 - accuracy: 0.9469\n",
      "Epoch 30/100\n",
      "60000/60000 [==============================] - 8s 133us/step - loss: 0.1815 - accuracy: 0.9473\n",
      "Epoch 31/100\n",
      "60000/60000 [==============================] - 8s 135us/step - loss: 0.1781 - accuracy: 0.9493\n",
      "Epoch 32/100\n",
      "60000/60000 [==============================] - 8s 133us/step - loss: 0.1808 - accuracy: 0.9487\n",
      "Epoch 33/100\n",
      "60000/60000 [==============================] - 8s 134us/step - loss: 0.1744 - accuracy: 0.9504\n",
      "Epoch 34/100\n",
      "60000/60000 [==============================] - 9s 147us/step - loss: 0.1769 - accuracy: 0.9483\n",
      "Epoch 35/100\n",
      "60000/60000 [==============================] - 10s 160us/step - loss: 0.1760 - accuracy: 0.9493\n",
      "Epoch 36/100\n",
      "60000/60000 [==============================] - 9s 145us/step - loss: 0.1725 - accuracy: 0.9499\n",
      "Epoch 37/100\n",
      "60000/60000 [==============================] - 8s 135us/step - loss: 0.1724 - accuracy: 0.9504\n",
      "Epoch 38/100\n",
      "60000/60000 [==============================] - 8s 135us/step - loss: 0.1732 - accuracy: 0.9503\n",
      "Epoch 39/100\n",
      "60000/60000 [==============================] - 7s 123us/step - loss: 0.1682 - accuracy: 0.9506\n",
      "Epoch 40/100\n",
      "60000/60000 [==============================] - 8s 132us/step - loss: 0.1738 - accuracy: 0.9497\n",
      "Epoch 41/100\n",
      "60000/60000 [==============================] - 8s 134us/step - loss: 0.1735 - accuracy: 0.9499\n",
      "Epoch 42/100\n",
      "60000/60000 [==============================] - 8s 134us/step - loss: 0.1693 - accuracy: 0.9503\n",
      "Epoch 43/100\n",
      "60000/60000 [==============================] - 9s 143us/step - loss: 0.1692 - accuracy: 0.9511\n",
      "Epoch 44/100\n",
      "60000/60000 [==============================] - 9s 142us/step - loss: 0.1674 - accuracy: 0.9517\n",
      "Epoch 45/100\n",
      "60000/60000 [==============================] - 8s 136us/step - loss: 0.1684 - accuracy: 0.9514\n",
      "Epoch 46/100\n",
      "60000/60000 [==============================] - 8s 134us/step - loss: 0.1664 - accuracy: 0.9522\n",
      "Epoch 47/100\n",
      "60000/60000 [==============================] - 8s 136us/step - loss: 0.1637 - accuracy: 0.9522\n",
      "Epoch 48/100\n",
      "60000/60000 [==============================] - 8s 136us/step - loss: 0.1630 - accuracy: 0.9528\n",
      "Epoch 49/100\n",
      "60000/60000 [==============================] - 8s 136us/step - loss: 0.1651 - accuracy: 0.9508\n",
      "Epoch 50/100\n",
      "60000/60000 [==============================] - 8s 136us/step - loss: 0.1634 - accuracy: 0.9528\n",
      "Epoch 51/100\n",
      "60000/60000 [==============================] - 8s 135us/step - loss: 0.1633 - accuracy: 0.9531\n",
      "Epoch 52/100\n",
      "60000/60000 [==============================] - 8s 137us/step - loss: 0.1617 - accuracy: 0.9531\n",
      "Epoch 53/100\n",
      "60000/60000 [==============================] - 9s 144us/step - loss: 0.1625 - accuracy: 0.9526\n",
      "Epoch 54/100\n",
      "60000/60000 [==============================] - 8s 136us/step - loss: 0.1619 - accuracy: 0.9536\n",
      "Epoch 55/100\n",
      "60000/60000 [==============================] - 8s 136us/step - loss: 0.1598 - accuracy: 0.9542\n",
      "Epoch 56/100\n",
      "60000/60000 [==============================] - 8s 135us/step - loss: 0.1601 - accuracy: 0.9534\n",
      "Epoch 57/100\n",
      "60000/60000 [==============================] - 8s 134us/step - loss: 0.1585 - accuracy: 0.9545\n",
      "Epoch 58/100\n",
      "60000/60000 [==============================] - 8s 136us/step - loss: 0.1608 - accuracy: 0.95350s - l\n",
      "Epoch 59/100\n",
      "60000/60000 [==============================] - 8s 136us/step - loss: 0.1600 - accuracy: 0.9538\n",
      "Epoch 60/100\n",
      "60000/60000 [==============================] - 9s 142us/step - loss: 0.1585 - accuracy: 0.9543\n",
      "Epoch 61/100\n",
      "60000/60000 [==============================] - 8s 134us/step - loss: 0.1604 - accuracy: 0.9534\n",
      "Epoch 62/100\n",
      "60000/60000 [==============================] - 8s 135us/step - loss: 0.1575 - accuracy: 0.9544\n",
      "Epoch 63/100\n",
      "60000/60000 [==============================] - 8s 136us/step - loss: 0.1585 - accuracy: 0.9540\n",
      "Epoch 64/100\n",
      "60000/60000 [==============================] - 8s 136us/step - loss: 0.1548 - accuracy: 0.9548\n",
      "Epoch 65/100\n",
      "60000/60000 [==============================] - 8s 136us/step - loss: 0.1556 - accuracy: 0.9551\n",
      "Epoch 66/100\n",
      "60000/60000 [==============================] - 8s 137us/step - loss: 0.1546 - accuracy: 0.9553\n",
      "Epoch 67/100\n",
      "60000/60000 [==============================] - 8s 135us/step - loss: 0.1540 - accuracy: 0.9553\n",
      "Epoch 68/100\n",
      "60000/60000 [==============================] - 8s 136us/step - loss: 0.1546 - accuracy: 0.9566\n",
      "Epoch 69/100\n",
      "60000/60000 [==============================] - 8s 135us/step - loss: 0.1525 - accuracy: 0.9551\n",
      "Epoch 70/100\n",
      "60000/60000 [==============================] - 8s 134us/step - loss: 0.1547 - accuracy: 0.9548\n",
      "Epoch 71/100\n",
      "60000/60000 [==============================] - 8s 136us/step - loss: 0.1534 - accuracy: 0.9549\n",
      "Epoch 72/100\n",
      "60000/60000 [==============================] - 8s 135us/step - loss: 0.1515 - accuracy: 0.9556\n",
      "Epoch 73/100\n",
      "60000/60000 [==============================] - 8s 137us/step - loss: 0.1537 - accuracy: 0.9543\n",
      "Epoch 74/100\n",
      "60000/60000 [==============================] - 8s 136us/step - loss: 0.1493 - accuracy: 0.9567\n",
      "Epoch 75/100\n",
      "60000/60000 [==============================] - 8s 137us/step - loss: 0.1524 - accuracy: 0.9567\n",
      "Epoch 76/100\n",
      "60000/60000 [==============================] - 8s 135us/step - loss: 0.1493 - accuracy: 0.9564\n",
      "Epoch 77/100\n",
      "60000/60000 [==============================] - 8s 136us/step - loss: 0.1510 - accuracy: 0.9565\n"
     ]
    },
    {
     "name": "stdout",
     "output_type": "stream",
     "text": [
      "Epoch 78/100\n",
      "60000/60000 [==============================] - 8s 130us/step - loss: 0.1450 - accuracy: 0.9571\n",
      "Epoch 79/100\n",
      "60000/60000 [==============================] - 8s 131us/step - loss: 0.1478 - accuracy: 0.9568\n",
      "Epoch 80/100\n",
      "60000/60000 [==============================] - 8s 129us/step - loss: 0.1533 - accuracy: 0.9561\n",
      "Epoch 81/100\n",
      "60000/60000 [==============================] - 8s 129us/step - loss: 0.1453 - accuracy: 0.9577\n",
      "Epoch 82/100\n",
      "60000/60000 [==============================] - 8s 129us/step - loss: 0.1483 - accuracy: 0.9567\n",
      "Epoch 83/100\n",
      "60000/60000 [==============================] - 8s 135us/step - loss: 0.1496 - accuracy: 0.9553\n",
      "Epoch 84/100\n",
      "60000/60000 [==============================] - 8s 130us/step - loss: 0.1491 - accuracy: 0.9558\n",
      "Epoch 85/100\n",
      "60000/60000 [==============================] - 8s 130us/step - loss: 0.1508 - accuracy: 0.9564\n",
      "Epoch 86/100\n",
      "60000/60000 [==============================] - 8s 129us/step - loss: 0.1513 - accuracy: 0.9561\n",
      "Epoch 87/100\n",
      "60000/60000 [==============================] - 8s 130us/step - loss: 0.1477 - accuracy: 0.9569\n",
      "Epoch 88/100\n",
      "60000/60000 [==============================] - 8s 131us/step - loss: 0.1489 - accuracy: 0.9561\n",
      "Epoch 89/100\n",
      "60000/60000 [==============================] - 8s 130us/step - loss: 0.1446 - accuracy: 0.9578\n",
      "Epoch 90/100\n",
      "60000/60000 [==============================] - 8s 130us/step - loss: 0.1465 - accuracy: 0.9575\n",
      "Epoch 91/100\n",
      "60000/60000 [==============================] - 8s 133us/step - loss: 0.1449 - accuracy: 0.9574\n",
      "Epoch 92/100\n",
      "60000/60000 [==============================] - 8s 139us/step - loss: 0.1507 - accuracy: 0.9568\n",
      "Epoch 93/100\n",
      "60000/60000 [==============================] - 8s 130us/step - loss: 0.1432 - accuracy: 0.9587\n",
      "Epoch 94/100\n",
      "60000/60000 [==============================] - 8s 129us/step - loss: 0.1443 - accuracy: 0.9576\n",
      "Epoch 95/100\n",
      "60000/60000 [==============================] - 8s 130us/step - loss: 0.1429 - accuracy: 0.9579\n",
      "Epoch 96/100\n",
      "60000/60000 [==============================] - 8s 129us/step - loss: 0.1449 - accuracy: 0.9569\n",
      "Epoch 97/100\n",
      "60000/60000 [==============================] - 8s 131us/step - loss: 0.1432 - accuracy: 0.9579\n",
      "Epoch 98/100\n",
      "60000/60000 [==============================] - 8s 132us/step - loss: 0.1470 - accuracy: 0.9575\n",
      "Epoch 99/100\n",
      "60000/60000 [==============================] - 8s 129us/step - loss: 0.1464 - accuracy: 0.9573\n",
      "Epoch 100/100\n",
      "60000/60000 [==============================] - 8s 129us/step - loss: 0.1441 - accuracy: 0.9582\n",
      "Epoch 1/100\n",
      "60000/60000 [==============================] - 10s 163us/step - loss: 0.7838 - accuracy: 0.7599\n",
      "Epoch 2/100\n",
      "60000/60000 [==============================] - 9s 149us/step - loss: 0.4383 - accuracy: 0.8731\n",
      "Epoch 3/100\n",
      "60000/60000 [==============================] - 9s 147us/step - loss: 0.3691 - accuracy: 0.8942\n",
      "Epoch 4/100\n",
      "60000/60000 [==============================] - 8s 139us/step - loss: 0.3288 - accuracy: 0.9058\n",
      "Epoch 5/100\n",
      "60000/60000 [==============================] - 8s 137us/step - loss: 0.3057 - accuracy: 0.9118\n",
      "Epoch 6/100\n",
      "60000/60000 [==============================] - 8s 135us/step - loss: 0.2897 - accuracy: 0.9172\n",
      "Epoch 7/100\n",
      "60000/60000 [==============================] - 8s 135us/step - loss: 0.2688 - accuracy: 0.9222\n",
      "Epoch 8/100\n",
      "60000/60000 [==============================] - 8s 136us/step - loss: 0.2575 - accuracy: 0.9252\n",
      "Epoch 9/100\n",
      "60000/60000 [==============================] - 8s 137us/step - loss: 0.2456 - accuracy: 0.9295\n",
      "Epoch 10/100\n",
      "60000/60000 [==============================] - 8s 134us/step - loss: 0.2390 - accuracy: 0.9321\n",
      "Epoch 11/100\n",
      "60000/60000 [==============================] - 8s 136us/step - loss: 0.2358 - accuracy: 0.9338\n",
      "Epoch 12/100\n",
      "60000/60000 [==============================] - 8s 140us/step - loss: 0.2334 - accuracy: 0.9337\n",
      "Epoch 13/100\n",
      "60000/60000 [==============================] - 8s 137us/step - loss: 0.2285 - accuracy: 0.9348\n",
      "Epoch 14/100\n",
      "60000/60000 [==============================] - 8s 136us/step - loss: 0.2220 - accuracy: 0.9347\n",
      "Epoch 15/100\n",
      "60000/60000 [==============================] - 8s 136us/step - loss: 0.2121 - accuracy: 0.9383\n",
      "Epoch 16/100\n",
      "60000/60000 [==============================] - 8s 137us/step - loss: 0.2120 - accuracy: 0.9391\n",
      "Epoch 17/100\n",
      "60000/60000 [==============================] - 8s 136us/step - loss: 0.2093 - accuracy: 0.9402\n",
      "Epoch 18/100\n",
      "60000/60000 [==============================] - 8s 137us/step - loss: 0.2043 - accuracy: 0.9410\n",
      "Epoch 19/100\n",
      "60000/60000 [==============================] - 8s 135us/step - loss: 0.2031 - accuracy: 0.9414\n",
      "Epoch 20/100\n",
      "60000/60000 [==============================] - 8s 138us/step - loss: 0.2028 - accuracy: 0.9407\n",
      "Epoch 21/100\n",
      "60000/60000 [==============================] - 8s 139us/step - loss: 0.2019 - accuracy: 0.9426\n",
      "Epoch 22/100\n",
      "60000/60000 [==============================] - 8s 136us/step - loss: 0.1965 - accuracy: 0.9431\n",
      "Epoch 23/100\n",
      "60000/60000 [==============================] - 8s 137us/step - loss: 0.1985 - accuracy: 0.9436\n",
      "Epoch 24/100\n",
      "60000/60000 [==============================] - 8s 136us/step - loss: 0.1920 - accuracy: 0.9445\n",
      "Epoch 25/100\n",
      "60000/60000 [==============================] - 8s 137us/step - loss: 0.1952 - accuracy: 0.9432\n",
      "Epoch 26/100\n",
      "60000/60000 [==============================] - 8s 137us/step - loss: 0.1890 - accuracy: 0.9459\n",
      "Epoch 27/100\n",
      "60000/60000 [==============================] - 8s 139us/step - loss: 0.1853 - accuracy: 0.9460\n",
      "Epoch 28/100\n",
      "60000/60000 [==============================] - 8s 137us/step - loss: 0.1808 - accuracy: 0.9465\n",
      "Epoch 29/100\n",
      "60000/60000 [==============================] - 8s 139us/step - loss: 0.1832 - accuracy: 0.9470\n",
      "Epoch 30/100\n",
      "60000/60000 [==============================] - 8s 138us/step - loss: 0.1833 - accuracy: 0.9466\n",
      "Epoch 31/100\n",
      "60000/60000 [==============================] - 8s 137us/step - loss: 0.1833 - accuracy: 0.9474\n",
      "Epoch 32/100\n",
      "60000/60000 [==============================] - 8s 138us/step - loss: 0.1804 - accuracy: 0.9472\n",
      "Epoch 33/100\n",
      "60000/60000 [==============================] - 8s 137us/step - loss: 0.1843 - accuracy: 0.9466\n",
      "Epoch 34/100\n",
      "60000/60000 [==============================] - 8s 138us/step - loss: 0.1742 - accuracy: 0.9498\n",
      "Epoch 35/100\n",
      "60000/60000 [==============================] - 8s 136us/step - loss: 0.1797 - accuracy: 0.9481\n",
      "Epoch 36/100\n",
      "60000/60000 [==============================] - 8s 137us/step - loss: 0.1780 - accuracy: 0.9487\n",
      "Epoch 37/100\n",
      "60000/60000 [==============================] - 8s 138us/step - loss: 0.1727 - accuracy: 0.9504\n",
      "Epoch 38/100\n",
      "60000/60000 [==============================] - 8s 139us/step - loss: 0.1719 - accuracy: 0.9503\n",
      "Epoch 39/100\n",
      "60000/60000 [==============================] - 8s 137us/step - loss: 0.1689 - accuracy: 0.9513\n",
      "Epoch 40/100\n",
      "60000/60000 [==============================] - 8s 138us/step - loss: 0.1706 - accuracy: 0.9504\n",
      "Epoch 41/100\n",
      "60000/60000 [==============================] - 8s 140us/step - loss: 0.1709 - accuracy: 0.9497\n",
      "Epoch 42/100\n",
      "60000/60000 [==============================] - 8s 135us/step - loss: 0.1679 - accuracy: 0.9516\n",
      "Epoch 43/100\n",
      "60000/60000 [==============================] - 8s 137us/step - loss: 0.1686 - accuracy: 0.9510\n",
      "Epoch 44/100\n",
      "60000/60000 [==============================] - 8s 136us/step - loss: 0.1663 - accuracy: 0.9514\n",
      "Epoch 45/100\n",
      "60000/60000 [==============================] - 8s 135us/step - loss: 0.1697 - accuracy: 0.9516\n",
      "Epoch 46/100\n",
      "60000/60000 [==============================] - 8s 137us/step - loss: 0.1668 - accuracy: 0.9506\n",
      "Epoch 47/100\n",
      "60000/60000 [==============================] - 8s 136us/step - loss: 0.1707 - accuracy: 0.9509\n",
      "Epoch 48/100\n",
      "60000/60000 [==============================] - 8s 138us/step - loss: 0.1655 - accuracy: 0.9524\n",
      "Epoch 49/100\n",
      "60000/60000 [==============================] - 8s 137us/step - loss: 0.1697 - accuracy: 0.9517\n",
      "Epoch 50/100\n",
      "60000/60000 [==============================] - 8s 137us/step - loss: 0.1611 - accuracy: 0.9522\n",
      "Epoch 51/100\n",
      "60000/60000 [==============================] - 8s 137us/step - loss: 0.1641 - accuracy: 0.9527\n",
      "Epoch 52/100\n",
      "60000/60000 [==============================] - 8s 137us/step - loss: 0.1602 - accuracy: 0.9532\n",
      "Epoch 53/100\n",
      "60000/60000 [==============================] - 8s 129us/step - loss: 0.1706 - accuracy: 0.9513\n",
      "Epoch 54/100\n",
      "60000/60000 [==============================] - 8s 128us/step - loss: 0.1619 - accuracy: 0.9527\n",
      "Epoch 55/100\n",
      "60000/60000 [==============================] - 8s 132us/step - loss: 0.1570 - accuracy: 0.9545\n",
      "Epoch 56/100\n",
      "60000/60000 [==============================] - 8s 132us/step - loss: 0.1618 - accuracy: 0.9529\n",
      "Epoch 57/100\n",
      "60000/60000 [==============================] - 8s 140us/step - loss: 0.1646 - accuracy: 0.9521\n",
      "Epoch 58/100\n",
      "60000/60000 [==============================] - 9s 145us/step - loss: 0.1564 - accuracy: 0.9540\n",
      "Epoch 59/100\n",
      "60000/60000 [==============================] - 9s 145us/step - loss: 0.1604 - accuracy: 0.9538\n",
      "Epoch 60/100\n",
      "60000/60000 [==============================] - 9s 147us/step - loss: 0.1592 - accuracy: 0.9544\n",
      "Epoch 61/100\n",
      "60000/60000 [==============================] - 9s 149us/step - loss: 0.1595 - accuracy: 0.9530\n",
      "Epoch 62/100\n",
      "60000/60000 [==============================] - 9s 147us/step - loss: 0.1582 - accuracy: 0.9530\n",
      "Epoch 63/100\n",
      "60000/60000 [==============================] - 9s 148us/step - loss: 0.1560 - accuracy: 0.9549\n",
      "Epoch 64/100\n",
      "60000/60000 [==============================] - 8s 136us/step - loss: 0.1590 - accuracy: 0.9543\n",
      "Epoch 65/100\n",
      "60000/60000 [==============================] - 8s 135us/step - loss: 0.1550 - accuracy: 0.9544\n",
      "Epoch 66/100\n",
      "60000/60000 [==============================] - 10s 159us/step - loss: 0.1562 - accuracy: 0.9541\n",
      "Epoch 67/100\n",
      "60000/60000 [==============================] - 9s 142us/step - loss: 0.1572 - accuracy: 0.9542\n",
      "Epoch 68/100\n",
      "60000/60000 [==============================] - 9s 144us/step - loss: 0.1526 - accuracy: 0.9555\n",
      "Epoch 69/100\n",
      "60000/60000 [==============================] - 9s 142us/step - loss: 0.1548 - accuracy: 0.9542\n",
      "Epoch 70/100\n",
      "60000/60000 [==============================] - 9s 143us/step - loss: 0.1568 - accuracy: 0.9547\n",
      "Epoch 71/100\n",
      "60000/60000 [==============================] - 8s 140us/step - loss: 0.1534 - accuracy: 0.9546\n",
      "Epoch 72/100\n",
      "60000/60000 [==============================] - 9s 143us/step - loss: 0.1560 - accuracy: 0.9546\n",
      "Epoch 73/100\n",
      "60000/60000 [==============================] - 8s 139us/step - loss: 0.1518 - accuracy: 0.9552\n",
      "Epoch 74/100\n",
      "60000/60000 [==============================] - ETA: 0s - loss: 0.1510 - accuracy: 0.95 - 9s 145us/step - loss: 0.1512 - accuracy: 0.9566\n",
      "Epoch 75/100\n",
      "60000/60000 [==============================] - 9s 145us/step - loss: 0.1524 - accuracy: 0.9556\n",
      "Epoch 76/100\n",
      "60000/60000 [==============================] - 9s 146us/step - loss: 0.1557 - accuracy: 0.9549\n",
      "Epoch 77/100\n",
      "60000/60000 [==============================] - 9s 143us/step - loss: 0.1516 - accuracy: 0.9561\n",
      "Epoch 78/100\n",
      "60000/60000 [==============================] - 9s 144us/step - loss: 0.1499 - accuracy: 0.9566\n",
      "Epoch 79/100\n",
      "60000/60000 [==============================] - 9s 143us/step - loss: 0.1545 - accuracy: 0.9562\n",
      "Epoch 80/100\n",
      "60000/60000 [==============================] - 9s 143us/step - loss: 0.1467 - accuracy: 0.9566\n",
      "Epoch 81/100\n",
      "60000/60000 [==============================] - 9s 145us/step - loss: 0.1484 - accuracy: 0.9572\n",
      "Epoch 82/100\n",
      "60000/60000 [==============================] - 9s 144us/step - loss: 0.1499 - accuracy: 0.9565\n",
      "Epoch 83/100\n",
      "60000/60000 [==============================] - 9s 144us/step - loss: 0.1491 - accuracy: 0.9561\n",
      "Epoch 84/100\n",
      "60000/60000 [==============================] - 9s 143us/step - loss: 0.1502 - accuracy: 0.9558\n",
      "Epoch 85/100\n",
      "60000/60000 [==============================] - 9s 143us/step - loss: 0.1512 - accuracy: 0.9556\n",
      "Epoch 86/100\n",
      "60000/60000 [==============================] - 8s 140us/step - loss: 0.1496 - accuracy: 0.9560\n",
      "Epoch 87/100\n",
      "60000/60000 [==============================] - 9s 142us/step - loss: 0.1486 - accuracy: 0.9563\n",
      "Epoch 88/100\n",
      "60000/60000 [==============================] - 9s 145us/step - loss: 0.1479 - accuracy: 0.9563\n",
      "Epoch 89/100\n",
      "60000/60000 [==============================] - 9s 144us/step - loss: 0.1488 - accuracy: 0.9573\n",
      "Epoch 90/100\n",
      "60000/60000 [==============================] - 9s 145us/step - loss: 0.1492 - accuracy: 0.9563\n",
      "Epoch 91/100\n",
      "60000/60000 [==============================] - 9s 144us/step - loss: 0.1483 - accuracy: 0.9557\n",
      "Epoch 92/100\n",
      "60000/60000 [==============================] - 9s 144us/step - loss: 0.1470 - accuracy: 0.9574\n",
      "Epoch 93/100\n",
      "60000/60000 [==============================] - 9s 143us/step - loss: 0.1490 - accuracy: 0.9567\n",
      "Epoch 94/100\n",
      "60000/60000 [==============================] - 9s 142us/step - loss: 0.1478 - accuracy: 0.9575\n",
      "Epoch 95/100\n",
      "60000/60000 [==============================] - 9s 145us/step - loss: 0.1471 - accuracy: 0.9573\n",
      "Epoch 96/100\n",
      "60000/60000 [==============================] - 9s 145us/step - loss: 0.1485 - accuracy: 0.9560\n",
      "Epoch 97/100\n",
      "60000/60000 [==============================] - 9s 144us/step - loss: 0.1476 - accuracy: 0.9571\n",
      "Epoch 98/100\n",
      "60000/60000 [==============================] - 9s 145us/step - loss: 0.1438 - accuracy: 0.9575\n",
      "Epoch 99/100\n",
      "60000/60000 [==============================] - 9s 145us/step - loss: 0.1488 - accuracy: 0.9567\n",
      "Epoch 100/100\n",
      "60000/60000 [==============================] - 9s 145us/step - loss: 0.1487 - accuracy: 0.9563\n"
     ]
    },
    {
     "data": {
      "text/plain": [
       "VotingClassifier(estimators=[('model1',\n",
       "                              <keras.wrappers.scikit_learn.KerasClassifier object at 0x000001C4CFC72E48>),\n",
       "                             ('model2',\n",
       "                              <keras.wrappers.scikit_learn.KerasClassifier object at 0x000001C4CFC72D88>),\n",
       "                             ('model3',\n",
       "                              <keras.wrappers.scikit_learn.KerasClassifier object at 0x000001C4CFC72E88>),\n",
       "                             ('model4',\n",
       "                              <keras.wrappers.scikit_learn.KerasClassifier object at 0x000001C4D993CE08>),\n",
       "                             ('model5',\n",
       "                              <keras.wrappers.scikit_learn.KerasClassifier object at 0x000001C4D993C3C8>)],\n",
       "                 flatten_transform=True, n_jobs=None, voting='soft',\n",
       "                 weights=None)"
      ]
     },
     "execution_count": 63,
     "metadata": {},
     "output_type": "execute_result"
    }
   ],
   "source": [
    "ensemble_clf.fit(X_train, y_train)"
   ]
  },
  {
   "cell_type": "code",
   "execution_count": 64,
   "metadata": {
    "ExecuteTime": {
     "end_time": "2020-02-25T09:46:42.100922Z",
     "start_time": "2020-02-25T09:46:36.813366Z"
    }
   },
   "outputs": [],
   "source": [
    "y_pred = ensemble_clf.predict(X_test)"
   ]
  },
  {
   "cell_type": "code",
   "execution_count": 65,
   "metadata": {
    "ExecuteTime": {
     "end_time": "2020-02-25T09:46:42.126185Z",
     "start_time": "2020-02-25T09:46:42.119168Z"
    }
   },
   "outputs": [
    {
     "name": "stdout",
     "output_type": "stream",
     "text": [
      "Acc:  0.9801\n"
     ]
    }
   ],
   "source": [
    "print('Acc: ', accuracy_score(y_pred, y_test))\n",
    "\n",
    "# 이 예제를 진행하기 전에, 3개 모델 ensemble한 예제보다 결과가 더 나은 이유는\n",
    "# 1. ensemble을 5개의 모델로 해서(근데 미비한 효과)\n",
    "# 2. activation 함수를 relu로 바꿔서\n",
    "# 3. optimizer를 adam으로 바꿔서\n",
    "# 4. dropout을 적절히 줘서\n",
    "# 5. batch_noramlization을 해줘서\n",
    "# 6. kernel_initializer를 he_normalization으로 해줘서\n",
    "# 등이 있다."
   ]
  }
 ],
 "metadata": {
  "kernelspec": {
   "display_name": "Python 3",
   "language": "python",
   "name": "python3"
  },
  "language_info": {
   "codemirror_mode": {
    "name": "ipython",
    "version": 3
   },
   "file_extension": ".py",
   "mimetype": "text/x-python",
   "name": "python",
   "nbconvert_exporter": "python",
   "pygments_lexer": "ipython3",
   "version": "3.7.3"
  },
  "varInspector": {
   "cols": {
    "lenName": 16,
    "lenType": 16,
    "lenVar": 40
   },
   "kernels_config": {
    "python": {
     "delete_cmd_postfix": "",
     "delete_cmd_prefix": "del ",
     "library": "var_list.py",
     "varRefreshCmd": "print(var_dic_list())"
    },
    "r": {
     "delete_cmd_postfix": ") ",
     "delete_cmd_prefix": "rm(",
     "library": "var_list.r",
     "varRefreshCmd": "cat(var_dic_list()) "
    }
   },
   "types_to_exclude": [
    "module",
    "function",
    "builtin_function_or_method",
    "instance",
    "_Feature"
   ],
   "window_display": false
  }
 },
 "nbformat": 4,
 "nbformat_minor": 2
}
