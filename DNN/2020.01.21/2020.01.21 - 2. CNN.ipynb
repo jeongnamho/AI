{
 "cells": [
  {
   "cell_type": "code",
   "execution_count": 1,
   "metadata": {
    "ExecuteTime": {
     "end_time": "2020-01-30T10:46:42.080896Z",
     "start_time": "2020-01-30T10:46:24.958262Z"
    }
   },
   "outputs": [
    {
     "name": "stderr",
     "output_type": "stream",
     "text": [
      "Using TensorFlow backend.\n"
     ]
    }
   ],
   "source": [
    "import numpy as np\n",
    "import matplotlib.pyplot as plt\n",
    "\n",
    "from sklearn import datasets\n",
    "from sklearn.model_selection import train_test_split\n",
    "from keras.utils.np_utils import to_categorical\n",
    "from keras.models import Sequential\n",
    "from keras import optimizers\n",
    "from keras.layers import Dense, Activation, Flatten, Conv2D, MaxPooling2D\n",
    "from keras.layers import BatchNormalization, Dropout"
   ]
  },
  {
   "cell_type": "code",
   "execution_count": 25,
   "metadata": {
    "ExecuteTime": {
     "end_time": "2020-01-30T11:05:00.029028Z",
     "start_time": "2020-01-30T11:05:00.021050Z"
    }
   },
   "outputs": [
    {
     "name": "stdout",
     "output_type": "stream",
     "text": [
      "(3, 2)\n",
      "[[1 2]\n",
      " [3 4]\n",
      " [5 6]]\n",
      "\n",
      "\n",
      "(3, 2, 1)\n",
      "[[[1]\n",
      "  [2]]\n",
      "\n",
      " [[3]\n",
      "  [4]]\n",
      "\n",
      " [[5]\n",
      "  [6]]]\n",
      "\n",
      "\n",
      "(1, 2, 3)\n",
      "[[[1 2 3]\n",
      "  [4 5 6]]]\n"
     ]
    }
   ],
   "source": [
    "a = np.array([[1,2],[3,4],[5,6]])\n",
    "b = a.reshape(3,2,1)\n",
    "b2 = a.reshape(3,2,1,1)\n",
    "c = a.reshape(1,2,3)\n",
    "print(a.shape)\n",
    "print(a)\n",
    "print('\\n')\n",
    "\n",
    "print(b.shape)\n",
    "print(b)\n",
    "print('\\n')\n",
    "\n",
    "print(c.shape)\n",
    "print(c)"
   ]
  },
  {
   "cell_type": "markdown",
   "metadata": {},
   "source": [
    "----"
   ]
  },
  {
   "cell_type": "markdown",
   "metadata": {},
   "source": [
    "## Convolution Neutral Network"
   ]
  },
  {
   "cell_type": "markdown",
   "metadata": {},
   "source": [
    "### Conv1D :\n",
    "1D 컨볼루션 레이어(예. 시간적 컨볼루션)\n",
    "\n",
    "**keras.layers.Conv1D**(filters, kernel_size=(3,2), padding='valid', activation='relu')\n",
    "- **filters** : 컨볼루션 필터의 수\n",
    "- **kernel_size** : 컨볼루션 커널의 사이즈로 (row, column)을 의미\n",
    "- **padding** : 경계 처리 방법\n",
    "    - **'valid'** : 유효한 영역만 출력 --> 출력 이미지 사이즈는 입력 사이즈보다 작음\n",
    "    - **'same'** : 출력 이미지 사이즈가 입력 이미지 사이즈와 동일\n",
    "- **input_shape** : input 데이터가 첫 레이어를 통과하면서 바뀌게 되는 size\n",
    "    - **모델의 첫 레이어**에서만 정의하는 것 \n",
    "    - *샘플 수*를 제외한 **(행, 열, 채널 수)**로 정의. 흑백(Gray)영상인 경우에는 채널이 1이고, 컬러(RGB)영상인 경우에는 채널을 3으로 설정\n",
    "- **activation** : 활성화 함수 설정\n",
    "    - **linear** : 디폴트 값, 입력뉴런과 가중치로 계산된 결과값이 그대로 출력으로 나옵니다.\n",
    "    - **relu** : rectifier 함수, 은익층에 주로 쓰입니다.\n",
    "    - **sigmoid** : 시그모이드 함수, 이진 분류 문제에서 출력층에 주로 쓰입니다.\n",
    "    - **softmax** : 소프트맥스 함수, 다중 클래스 분류 문제에서 출력층에 주로 쓰입니다.\n",
    "---\n",
    "### Conv2D :\n",
    "2D 컨볼루션 레이어 (예. 이미지에 대한 공간적 컨볼루션, 영상 처리에 주로 사용)\n",
    "\n",
    "**keras.layers.Conv2D**(filters, kernel_size, padding='valid', activation=None)\n",
    "\n",
    "*설명이 위와 똑같음*\n",
    "\n",
    "---\n",
    "### Conv3D :\n",
    "3D 컨볼루션 레이어 (예. 부피에 대한 공간적 컨볼루션)\n",
    "\n",
    "**keras.layers.Conv2D**(filters, kernel_size, padding='valid', activation=None)\n",
    "\n",
    "*설명이 위와 똑같음*\n",
    "\n",
    "---\n",
    "**Ref** : \n",
    "- [Keras Documentation](https://keras.io/ko/layers/convolutional/)\n",
    "- [컨볼루션 신경망 레이어 이야기](https://tykimos.github.io/2017/01/27/CNN_Layer_Talk/)"
   ]
  },
  {
   "cell_type": "code",
   "execution_count": null,
   "metadata": {},
   "outputs": [],
   "source": []
  },
  {
   "cell_type": "code",
   "execution_count": null,
   "metadata": {},
   "outputs": [],
   "source": []
  },
  {
   "cell_type": "code",
   "execution_count": null,
   "metadata": {},
   "outputs": [],
   "source": []
  },
  {
   "cell_type": "markdown",
   "metadata": {},
   "source": [
    "- https://keras.io/ko/layers/pooling/\n",
    "- https://tykimos.github.io/2017/01/27/CNN_Layer_Talk/"
   ]
  },
  {
   "cell_type": "code",
   "execution_count": 3,
   "metadata": {
    "ExecuteTime": {
     "end_time": "2020-01-30T10:46:42.244172Z",
     "start_time": "2020-01-30T10:46:42.092865Z"
    }
   },
   "outputs": [
    {
     "name": "stdout",
     "output_type": "stream",
     "text": [
      "(1797, 8, 8)\n",
      "(1797,)\n"
     ]
    }
   ],
   "source": [
    "data = datasets.load_digits()\n",
    "\n",
    "X_data = data.images\n",
    "y_data = data.target\n",
    "\n",
    "\n",
    "print(data.images.shape)\n",
    "print(y_data.shape)"
   ]
  },
  {
   "cell_type": "code",
   "execution_count": 4,
   "metadata": {
    "ExecuteTime": {
     "end_time": "2020-01-30T10:46:42.451974Z",
     "start_time": "2020-01-30T10:46:42.248197Z"
    }
   },
   "outputs": [
    {
     "name": "stdout",
     "output_type": "stream",
     "text": [
      "(1257, 8, 8, 1)\n",
      "(540, 8, 8, 1)\n",
      "(1257, 10)\n",
      "(540, 10)\n"
     ]
    }
   ],
   "source": [
    "# X_data의 shape의 마지막 1은 filter수라고 생각하면 됌\n",
    "X_data = X_data.reshape((X_data.shape[0], \n",
    "                         X_data.shape[1], \n",
    "                         X_data.shape[2], 1))  # 3차원 ->4차원\n",
    "\n",
    "y_data = to_categorical(y_data)\n",
    "\n",
    "# train data와 test data로 분리\n",
    "X_train, X_test, y_train, y_test = train_test_split(X_data, y_data, \n",
    "                                                    test_size = 0.3, \n",
    "                                                    random_state = 777)\n",
    "\n",
    "print(X_train.shape)\n",
    "print(X_test.shape)\n",
    "print(y_train.shape)\n",
    "print(y_test.shape)"
   ]
  },
  {
   "cell_type": "code",
   "execution_count": 5,
   "metadata": {
    "ExecuteTime": {
     "end_time": "2020-01-30T10:46:43.569160Z",
     "start_time": "2020-01-30T10:46:42.454968Z"
    }
   },
   "outputs": [],
   "source": [
    "model = Sequential()\n",
    "\n",
    "model.add(Conv2D(input_shape = (X_data.shape[1], \n",
    "                                X_data.shape[2], \n",
    "                                X_data.shape[3]), \n",
    "                 filters = 10, \n",
    "                 kernel_size = (3,3), \n",
    "                 strides = (1,1), \n",
    "                 padding = 'valid'))\n",
    "\n",
    "model.add(Activation('relu'))\n",
    "model.add(MaxPooling2D(pool_size = (2,2))) # 이것때문에 사이즈가 줄어들음\n",
    "\n",
    "\n",
    "model.add(Flatten())\n",
    "\n",
    "model.add(Dense(50, activation = 'relu'))\n",
    "model.add(Dense(10, activation = 'softmax'))\n",
    "\n",
    "adam = optimizers.Adam(lr = 0.001)\n",
    "model.compile(loss = 'categorical_crossentropy', \n",
    "              optimizer = adam, \n",
    "              metrics = ['accuracy'])"
   ]
  },
  {
   "cell_type": "code",
   "execution_count": 6,
   "metadata": {
    "ExecuteTime": {
     "end_time": "2020-01-30T10:46:48.205657Z",
     "start_time": "2020-01-30T10:46:43.569160Z"
    }
   },
   "outputs": [
    {
     "data": {
      "image/png": "[encoded data removed]",
      "text/plain": [
       "<Figure size 432x288 with 1 Axes>"
      ]
     },
     "metadata": {
      "needs_background": "light"
     },
     "output_type": "display_data"
    },
    {
     "name": "stdout",
     "output_type": "stream",
     "text": [
      "540/540 [==============================] - 0s 22us/step\n",
      "Test accuracy:  0.9777777791023254\n"
     ]
    }
   ],
   "source": [
    "history = model.fit(X_train, y_train, \n",
    "                    batch_size = 50, \n",
    "                    validation_split = 0.2, \n",
    "                    epochs = 100, \n",
    "                    verbose = 0)\n",
    "\n",
    "plt.plot(history.history['accuracy'])\n",
    "plt.plot(history.history['val_accuracy'])\n",
    "plt.legend(['training', 'validation'], loc = 'upper left')\n",
    "plt.show()\n",
    "\n",
    "results = model.evaluate(X_test, y_test)\n",
    "print('Test accuracy: ', results[1])\n",
    "\n",
    "#단순 cnn조차 금방 96% 나온다."
   ]
  },
  {
   "cell_type": "code",
   "execution_count": 7,
   "metadata": {
    "ExecuteTime": {
     "end_time": "2020-01-30T10:46:48.216634Z",
     "start_time": "2020-01-30T10:46:48.206615Z"
    }
   },
   "outputs": [],
   "source": [
    "def deep_cnn():\n",
    "    model = Sequential()\n",
    "    \n",
    "    model.add(Conv2D(input_shape = (X_train.shape[1], X_train.shape[2], X_train.shape[3]), \n",
    "                     filters = 50, kernel_size = (3,3), strides = (1,1), padding = 'same'))\n",
    "    model.add(Activation('relu'))\n",
    "    \n",
    "    model.add(Conv2D(filters = 50, kernel_size = (3,3), strides = (1,1), padding = 'same'))\n",
    "    model.add(Activation('relu'))\n",
    "    model.add(MaxPooling2D(pool_size = (2,2)))\n",
    "    \n",
    "    model.add(Conv2D(filters = 50, kernel_size = (3,3), strides = (1,1), padding = 'same'))\n",
    "    model.add(Activation('relu'))\n",
    "    \n",
    "    model.add(Conv2D(filters = 50, kernel_size = (3,3), strides = (1,1), padding = 'same'))\n",
    "    model.add(Activation('relu'))\n",
    "    model.add(MaxPooling2D(pool_size = (2,2)))\n",
    "    \n",
    "    model.add(Conv2D(filters = 50, kernel_size = (3,3), strides = (1,1), padding = 'same'))\n",
    "    model.add(Activation('relu'))\n",
    "    \n",
    "    model.add(Conv2D(filters = 50, kernel_size = (3,3), strides = (1,1), padding = 'same'))\n",
    "    model.add(Activation('relu'))\n",
    "    model.add(MaxPooling2D(pool_size = (2,2)))\n",
    "    \n",
    "    \n",
    "    model.add(Flatten())    \n",
    "    model.add(Dense(50, activation = 'relu'))    \n",
    "    model.add(Dense(10, activation = 'softmax'))\n",
    "    \n",
    "    adam = optimizers.Adam(lr = 0.001)\n",
    "    model.compile(loss = 'categorical_crossentropy', optimizer = adam, metrics = ['accuracy'])\n",
    "    \n",
    "    return model    "
   ]
  },
  {
   "cell_type": "code",
   "execution_count": 8,
   "metadata": {
    "ExecuteTime": {
     "end_time": "2020-01-30T10:46:48.282487Z",
     "start_time": "2020-01-30T10:46:48.217585Z"
    }
   },
   "outputs": [
    {
     "name": "stdout",
     "output_type": "stream",
     "text": [
      "Model: \"sequential_2\"\n",
      "_________________________________________________________________\n",
      "Layer (type)                 Output Shape              Param #   \n",
      "=================================================================\n",
      "conv2d_2 (Conv2D)            (None, 8, 8, 50)          500       \n",
      "_________________________________________________________________\n",
      "activation_2 (Activation)    (None, 8, 8, 50)          0         \n",
      "_________________________________________________________________\n",
      "conv2d_3 (Conv2D)            (None, 8, 8, 50)          22550     \n",
      "_________________________________________________________________\n",
      "activation_3 (Activation)    (None, 8, 8, 50)          0         \n",
      "_________________________________________________________________\n",
      "max_pooling2d_2 (MaxPooling2 (None, 4, 4, 50)          0         \n",
      "_________________________________________________________________\n",
      "conv2d_4 (Conv2D)            (None, 4, 4, 50)          22550     \n",
      "_________________________________________________________________\n",
      "activation_4 (Activation)    (None, 4, 4, 50)          0         \n",
      "_________________________________________________________________\n",
      "conv2d_5 (Conv2D)            (None, 4, 4, 50)          22550     \n",
      "_________________________________________________________________\n",
      "activation_5 (Activation)    (None, 4, 4, 50)          0         \n",
      "_________________________________________________________________\n",
      "max_pooling2d_3 (MaxPooling2 (None, 2, 2, 50)          0         \n",
      "_________________________________________________________________\n",
      "conv2d_6 (Conv2D)            (None, 2, 2, 50)          22550     \n",
      "_________________________________________________________________\n",
      "activation_6 (Activation)    (None, 2, 2, 50)          0         \n",
      "_________________________________________________________________\n",
      "conv2d_7 (Conv2D)            (None, 2, 2, 50)          22550     \n",
      "_________________________________________________________________\n",
      "activation_7 (Activation)    (None, 2, 2, 50)          0         \n",
      "_________________________________________________________________\n",
      "max_pooling2d_4 (MaxPooling2 (None, 1, 1, 50)          0         \n",
      "_________________________________________________________________\n",
      "flatten_2 (Flatten)          (None, 50)                0         \n",
      "_________________________________________________________________\n",
      "dense_3 (Dense)              (None, 50)                2550      \n",
      "_________________________________________________________________\n",
      "dense_4 (Dense)              (None, 10)                510       \n",
      "=================================================================\n",
      "Total params: 116,310\n",
      "Trainable params: 116,310\n",
      "Non-trainable params: 0\n",
      "_________________________________________________________________\n"
     ]
    }
   ],
   "source": [
    "model = deep_cnn()\n",
    "model.summary()"
   ]
  },
  {
   "cell_type": "code",
   "execution_count": 9,
   "metadata": {
    "ExecuteTime": {
     "end_time": "2020-01-30T10:47:17.638207Z",
     "start_time": "2020-01-30T10:46:48.284496Z"
    }
   },
   "outputs": [
    {
     "name": "stdout",
     "output_type": "stream",
     "text": [
      "Wall time: 29.3 s\n"
     ]
    }
   ],
   "source": [
    "%%time\n",
    "history = model.fit(X_train, y_train, batch_size = 50, validation_split = 0.2, epochs = 100, verbose = 0)"
   ]
  },
  {
   "cell_type": "code",
   "execution_count": 10,
   "metadata": {
    "ExecuteTime": {
     "end_time": "2020-01-30T10:47:17.826702Z",
     "start_time": "2020-01-30T10:47:17.641200Z"
    }
   },
   "outputs": [
    {
     "data": {
      "image/png": "[encoded data removed]",
      "text/plain": [
       "<Figure size 432x288 with 1 Axes>"
      ]
     },
     "metadata": {
      "needs_background": "light"
     },
     "output_type": "display_data"
    }
   ],
   "source": [
    "plt.plot(history.history['accuracy'])\n",
    "plt.plot(history.history['val_accuracy'])\n",
    "plt.legend(['training', 'validation'], loc = 'upper left')\n",
    "plt.show()"
   ]
  },
  {
   "cell_type": "code",
   "execution_count": 11,
   "metadata": {
    "ExecuteTime": {
     "end_time": "2020-01-30T10:47:17.901504Z",
     "start_time": "2020-01-30T10:47:17.828697Z"
    }
   },
   "outputs": [
    {
     "name": "stdout",
     "output_type": "stream",
     "text": [
      "540/540 [==============================] - 0s 103us/step\n",
      "Test accuracy:  0.9888888597488403\n"
     ]
    }
   ],
   "source": [
    "results = model.evaluate(X_test, y_test)\n",
    "print('Test accuracy: ', results[1])    # 오히려 결과가 떨어짐"
   ]
  },
  {
   "cell_type": "markdown",
   "metadata": {},
   "source": [
    "---"
   ]
  },
  {
   "cell_type": "markdown",
   "metadata": {},
   "source": [
    "## 2. Deep CNN - 2\n",
    "- Measures used to ameliorate the performance of MLPs are employed\n",
    "    - Weight Initialization\n",
    "    - Batch Normalization\n",
    "    - Dropout"
   ]
  },
  {
   "cell_type": "code",
   "execution_count": 12,
   "metadata": {
    "ExecuteTime": {
     "end_time": "2020-01-30T10:47:17.924442Z",
     "start_time": "2020-01-30T10:47:17.903497Z"
    }
   },
   "outputs": [],
   "source": [
    "def deep_cnn_advanced():\n",
    "    model = Sequential()\n",
    "    \n",
    "    model.add(Conv2D(input_shape = (X_train.shape[1], X_train.shape[2], X_train.shape[3]), filters = 50, kernel_size = (3,3), strides = (1,1), padding = 'same', kernel_initializer='he_normal'))\n",
    "    model.add(BatchNormalization())\n",
    "    model.add(Activation('relu'))\n",
    "    \n",
    "    model.add(Conv2D(filters = 50, kernel_size = (3,3), strides = (1,1), padding = 'same', kernel_initializer='he_normal'))\n",
    "    model.add(BatchNormalization())\n",
    "    model.add(Activation('relu'))\n",
    "    \n",
    "    model.add(MaxPooling2D(pool_size = (2,2)))\n",
    "    model.add(Conv2D(filters = 50, kernel_size = (3,3), strides = (1,1), padding = 'same', kernel_initializer='he_normal'))\n",
    "    model.add(BatchNormalization())\n",
    "    model.add(Activation('relu'))\n",
    "    \n",
    "    model.add(Conv2D(filters = 50, kernel_size = (3,3), strides = (1,1), padding = 'same', kernel_initializer='he_normal'))\n",
    "    model.add(BatchNormalization())\n",
    "    model.add(Activation('relu'))\n",
    "    model.add(MaxPooling2D(pool_size = (2,2)))\n",
    "    \n",
    "    model.add(Conv2D(filters = 50, kernel_size = (3,3), strides = (1,1), padding = 'same', kernel_initializer='he_normal'))\n",
    "    model.add(BatchNormalization())\n",
    "    model.add(Activation('relu'))\n",
    "    \n",
    "    model.add(Conv2D(filters = 50, kernel_size = (3,3), strides = (1,1), padding = 'same', kernel_initializer='he_normal'))\n",
    "    model.add(BatchNormalization())\n",
    "    model.add(Activation('relu'))\n",
    "    model.add(MaxPooling2D(pool_size = (2,2)))\n",
    "    \n",
    "    # prior layer should be flattend to be connected to dense layers\n",
    "    model.add(Flatten())\n",
    "    \n",
    "    # dense layer with 50 neurons\n",
    "    model.add(Dense(50, activation = 'relu', kernel_initializer='he_normal'))\n",
    "    model.add(Dropout(0.5))\n",
    "    \n",
    "    # final layer with 10 neurons to classify the instances\n",
    "    model.add(Dense(10, activation = 'softmax', kernel_initializer='he_normal'))\n",
    "    \n",
    "    adam = optimizers.Adam(lr = 0.001)\n",
    "    model.compile(loss = 'categorical_crossentropy', optimizer = adam, metrics = ['accuracy'])\n",
    "    \n",
    "    return model    "
   ]
  },
  {
   "cell_type": "code",
   "execution_count": 13,
   "metadata": {
    "ExecuteTime": {
     "end_time": "2020-01-30T10:47:18.373240Z",
     "start_time": "2020-01-30T10:47:17.927436Z"
    }
   },
   "outputs": [
    {
     "name": "stdout",
     "output_type": "stream",
     "text": [
      "Model: \"sequential_3\"\n",
      "_________________________________________________________________\n",
      "Layer (type)                 Output Shape              Param #   \n",
      "=================================================================\n",
      "conv2d_8 (Conv2D)            (None, 8, 8, 50)          500       \n",
      "_________________________________________________________________\n",
      "batch_normalization_1 (Batch (None, 8, 8, 50)          200       \n",
      "_________________________________________________________________\n",
      "activation_8 (Activation)    (None, 8, 8, 50)          0         \n",
      "_________________________________________________________________\n",
      "conv2d_9 (Conv2D)            (None, 8, 8, 50)          22550     \n",
      "_________________________________________________________________\n",
      "batch_normalization_2 (Batch (None, 8, 8, 50)          200       \n",
      "_________________________________________________________________\n",
      "activation_9 (Activation)    (None, 8, 8, 50)          0         \n",
      "_________________________________________________________________\n",
      "max_pooling2d_5 (MaxPooling2 (None, 4, 4, 50)          0         \n",
      "_________________________________________________________________\n",
      "conv2d_10 (Conv2D)           (None, 4, 4, 50)          22550     \n",
      "_________________________________________________________________\n",
      "batch_normalization_3 (Batch (None, 4, 4, 50)          200       \n",
      "_________________________________________________________________\n",
      "activation_10 (Activation)   (None, 4, 4, 50)          0         \n",
      "_________________________________________________________________\n",
      "conv2d_11 (Conv2D)           (None, 4, 4, 50)          22550     \n",
      "_________________________________________________________________\n",
      "batch_normalization_4 (Batch (None, 4, 4, 50)          200       \n",
      "_________________________________________________________________\n",
      "activation_11 (Activation)   (None, 4, 4, 50)          0         \n",
      "_________________________________________________________________\n",
      "max_pooling2d_6 (MaxPooling2 (None, 2, 2, 50)          0         \n",
      "_________________________________________________________________\n",
      "conv2d_12 (Conv2D)           (None, 2, 2, 50)          22550     \n",
      "_________________________________________________________________\n",
      "batch_normalization_5 (Batch (None, 2, 2, 50)          200       \n",
      "_________________________________________________________________\n",
      "activation_12 (Activation)   (None, 2, 2, 50)          0         \n",
      "_________________________________________________________________\n",
      "conv2d_13 (Conv2D)           (None, 2, 2, 50)          22550     \n",
      "_________________________________________________________________\n",
      "batch_normalization_6 (Batch (None, 2, 2, 50)          200       \n",
      "_________________________________________________________________\n",
      "activation_13 (Activation)   (None, 2, 2, 50)          0         \n",
      "_________________________________________________________________\n",
      "max_pooling2d_7 (MaxPooling2 (None, 1, 1, 50)          0         \n",
      "_________________________________________________________________\n",
      "flatten_3 (Flatten)          (None, 50)                0         \n",
      "_________________________________________________________________\n",
      "dense_5 (Dense)              (None, 50)                2550      \n",
      "_________________________________________________________________\n",
      "dropout_1 (Dropout)          (None, 50)                0         \n",
      "_________________________________________________________________\n",
      "dense_6 (Dense)              (None, 10)                510       \n",
      "=================================================================\n",
      "Total params: 117,510\n",
      "Trainable params: 116,910\n",
      "Non-trainable params: 600\n",
      "_________________________________________________________________\n"
     ]
    }
   ],
   "source": [
    "model = deep_cnn_advanced()\n",
    "model.summary()"
   ]
  },
  {
   "cell_type": "code",
   "execution_count": 14,
   "metadata": {
    "ExecuteTime": {
     "end_time": "2020-01-30T10:48:10.819017Z",
     "start_time": "2020-01-30T10:47:18.375235Z"
    }
   },
   "outputs": [
    {
     "name": "stdout",
     "output_type": "stream",
     "text": [
      "Wall time: 52.4 s\n"
     ]
    }
   ],
   "source": [
    "%%time\n",
    "history = model.fit(X_train, y_train, \n",
    "                    batch_size = 50, validation_split = 0.2, \n",
    "                    epochs = 100, verbose = 0)"
   ]
  },
  {
   "cell_type": "code",
   "execution_count": 15,
   "metadata": {
    "ExecuteTime": {
     "end_time": "2020-01-30T10:48:10.992485Z",
     "start_time": "2020-01-30T10:48:10.821012Z"
    }
   },
   "outputs": [
    {
     "data": {
      "image/png": "[encoded data removed]",
      "text/plain": [
       "<Figure size 432x288 with 1 Axes>"
      ]
     },
     "metadata": {
      "needs_background": "light"
     },
     "output_type": "display_data"
    }
   ],
   "source": [
    "plt.plot(history.history['accuracy'])\n",
    "plt.plot(history.history['val_accuracy'])\n",
    "plt.legend(['training', 'validation'], loc = 'upper left')\n",
    "plt.show()"
   ]
  },
  {
   "cell_type": "code",
   "execution_count": 16,
   "metadata": {
    "ExecuteTime": {
     "end_time": "2020-01-30T10:48:11.061304Z",
     "start_time": "2020-01-30T10:48:10.994481Z"
    }
   },
   "outputs": [
    {
     "name": "stdout",
     "output_type": "stream",
     "text": [
      "540/540 [==============================] - 0s 113us/step\n",
      "Test accuracy:  0.979629635810852\n"
     ]
    }
   ],
   "source": [
    "results = model.evaluate(X_test, y_test)\n",
    "print('Test accuracy: ', results[1])"
   ]
  },
  {
   "cell_type": "code",
   "execution_count": 17,
   "metadata": {
    "ExecuteTime": {
     "end_time": "2020-01-30T10:48:11.066288Z",
     "start_time": "2020-01-30T10:48:11.063297Z"
    }
   },
   "outputs": [],
   "source": [
    "# 이걸 통해서 CNN을 깊게 설계하는 것은 어렵다는 것을 알 수 있음"
   ]
  },
  {
   "cell_type": "markdown",
   "metadata": {},
   "source": [
    "----"
   ]
  },
  {
   "cell_type": "code",
   "execution_count": 18,
   "metadata": {
    "ExecuteTime": {
     "end_time": "2020-01-30T10:48:11.126128Z",
     "start_time": "2020-01-30T10:48:11.068284Z"
    }
   },
   "outputs": [
    {
     "name": "stdout",
     "output_type": "stream",
     "text": [
      "Model: \"sequential_4\"\n",
      "_________________________________________________________________\n",
      "Layer (type)                 Output Shape              Param #   \n",
      "=================================================================\n",
      "conv2d_14 (Conv2D)           (None, 8, 8, 10)          100       \n",
      "_________________________________________________________________\n",
      "activation_14 (Activation)   (None, 8, 8, 10)          0         \n",
      "_________________________________________________________________\n",
      "max_pooling2d_8 (MaxPooling2 (None, 4, 4, 10)          0         \n",
      "_________________________________________________________________\n",
      "flatten_4 (Flatten)          (None, 160)               0         \n",
      "_________________________________________________________________\n",
      "dense_7 (Dense)              (None, 50)                8050      \n",
      "_________________________________________________________________\n",
      "dense_8 (Dense)              (None, 10)                510       \n",
      "=================================================================\n",
      "Total params: 8,660\n",
      "Trainable params: 8,660\n",
      "Non-trainable params: 0\n",
      "_________________________________________________________________\n"
     ]
    }
   ],
   "source": [
    "model = Sequential()\n",
    "    \n",
    "model.add(Conv2D(input_shape = (X_train.shape[1], X_train.shape[2], X_train.shape[3]), \n",
    "                     filters = 10, kernel_size = (3,3), strides = (1,1), padding = 'same'))\n",
    "model.add(Activation('relu'))\n",
    "model.add(MaxPooling2D(pool_size = (2,2)))\n",
    "    \n",
    "\n",
    "model.add(Flatten())    \n",
    "model.add(Dense(50, activation = 'relu'))    # 50은 우리가 찾아야 함\n",
    "model.add(Dense(10, activation = 'softmax'))\n",
    "    \n",
    "adam = optimizers.Adam(lr = 0.001)\n",
    "model.compile(loss = 'categorical_crossentropy', optimizer = adam, metrics = ['accuracy'])\n",
    "\n",
    "model.summary()"
   ]
  },
  {
   "cell_type": "markdown",
   "metadata": {},
   "source": [
    "위에서 Parameter 개수가 100이 나온 이유는 (3 * 3 ) * 10 + 10 = 100\n",
    "\n",
    "8050이 나온 이유는 160 * 50 + 50 = 8050\n",
    "\n",
    "510 = 50 * 10 + 10"
   ]
  },
  {
   "cell_type": "code",
   "execution_count": null,
   "metadata": {},
   "outputs": [],
   "source": []
  }
 ],
 "metadata": {
  "kernelspec": {
   "display_name": "Python 3",
   "language": "python",
   "name": "python3"
  },
  "language_info": {
   "codemirror_mode": {
    "name": "ipython",
    "version": 3
   },
   "file_extension": ".py",
   "mimetype": "text/x-python",
   "name": "python",
   "nbconvert_exporter": "python",
   "pygments_lexer": "ipython3",
   "version": "3.7.5"
  },
  "varInspector": {
   "cols": {
    "lenName": 16,
    "lenType": 16,
    "lenVar": 40
   },
   "kernels_config": {
    "python": {
     "delete_cmd_postfix": "",
     "delete_cmd_prefix": "del ",
     "library": "var_list.py",
     "varRefreshCmd": "print(var_dic_list())"
    },
    "r": {
     "delete_cmd_postfix": ") ",
     "delete_cmd_prefix": "rm(",
     "library": "var_list.r",
     "varRefreshCmd": "cat(var_dic_list()) "
    }
   },
   "types_to_exclude": [
    "module",
    "function",
    "builtin_function_or_method",
    "instance",
    "_Feature"
   ],
   "window_display": false
  }
 },
 "nbformat": 4,
 "nbformat_minor": 2
}
