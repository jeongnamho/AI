{
 "cells": [
  {
   "cell_type": "markdown",
   "metadata": {},
   "source": [
    "# Advanced MLP\n",
    "- Advanced techniques for training neural networks\n",
    "  - Weight Initialization\n",
    "  - Nonlinearity (Activation function)\n",
    "  - Optimizers\n",
    "  - Batch Normalization\n",
    "  - Dropout (Regularization)\n",
    "  - Model Ensemble"
   ]
  },
  {
   "cell_type": "code",
   "execution_count": 1,
   "metadata": {
    "ExecuteTime": {
     "end_time": "2020-01-27T10:37:54.412575Z",
     "start_time": "2020-01-27T10:37:34.078927Z"
    }
   },
   "outputs": [
    {
     "name": "stderr",
     "output_type": "stream",
     "text": [
      "Using TensorFlow backend.\n"
     ]
    }
   ],
   "source": [
    "import matplotlib.pyplot as plt\n",
    "from sklearn.model_selection import train_test_split\n",
    "from keras.datasets import mnist\n",
    "from keras.models import Sequential\n",
    "from keras.utils.np_utils import to_categorical\n",
    "from keras.models import Sequential\n",
    "from keras.layers import Activation, Dense\n",
    "from keras import optimizers\n",
    "from keras.layers import Dropout\n",
    "import numpy as np\n",
    "from keras.wrappers.scikit_learn import KerasClassifier\n",
    "from sklearn.ensemble import VotingClassifier\n",
    "from sklearn.metrics import accuracy_score\n",
    "from keras.layers import BatchNormalization"
   ]
  },
  {
   "cell_type": "markdown",
   "metadata": {},
   "source": [
    "### reshape메서드에 대한 간단한 연습"
   ]
  },
  {
   "cell_type": "code",
   "execution_count": 2,
   "metadata": {
    "ExecuteTime": {
     "end_time": "2020-01-27T10:37:54.430711Z",
     "start_time": "2020-01-27T10:37:54.416609Z"
    }
   },
   "outputs": [
    {
     "name": "stdout",
     "output_type": "stream",
     "text": [
      "(2, 3)\n",
      "\n",
      "\n",
      "(3, 2)\n",
      "[[1 2]\n",
      " [3 4]\n",
      " [5 6]]\n"
     ]
    }
   ],
   "source": [
    "a = np.array([[1,2, 3],[4, 5,6]])\n",
    "print(a.shape)\n",
    "print('\\n')\n",
    "\n",
    "# reshape메서드에서 -1을 쓰면 나머지 영역은 flatten하게 묶어서 하나의 차원으로 바꿈\n",
    "a = a.reshape(3, -1)\n",
    "print(a.shape)\n",
    "print(a)"
   ]
  },
  {
   "cell_type": "markdown",
   "metadata": {},
   "source": [
    "---"
   ]
  },
  {
   "cell_type": "markdown",
   "metadata": {},
   "source": [
    "## Load Dataset\n",
    "- MNIST dataset\n",
    "\n",
    "(그냥 다운 받아도 되지만 보통 문서->user->.keras에서 데이터셋을 찾으면 됌)"
   ]
  },
  {
   "cell_type": "code",
   "execution_count": 3,
   "metadata": {
    "ExecuteTime": {
     "end_time": "2020-01-27T10:37:55.040656Z",
     "start_time": "2020-01-27T10:37:54.434702Z"
    }
   },
   "outputs": [],
   "source": [
    "(X_train, y_train), (X_test, y_test) = mnist.load_data()"
   ]
  },
  {
   "cell_type": "code",
   "execution_count": 4,
   "metadata": {
    "ExecuteTime": {
     "end_time": "2020-01-27T10:37:55.057605Z",
     "start_time": "2020-01-27T10:37:55.048662Z"
    }
   },
   "outputs": [
    {
     "name": "stdout",
     "output_type": "stream",
     "text": [
      "(60000, 28, 28)\n",
      "(60000,)\n"
     ]
    }
   ],
   "source": [
    "print(X_train.shape) # 6000개의 (28 x 28)크기 픽셀이미지\n",
    "print(y_train.shape) # 6000개의 인식결과(훈련 데이터)"
   ]
  },
  {
   "cell_type": "code",
   "execution_count": 5,
   "metadata": {
    "ExecuteTime": {
     "end_time": "2020-01-27T10:37:55.539581Z",
     "start_time": "2020-01-27T10:37:55.064590Z"
    }
   },
   "outputs": [
    {
     "data": {
      "image/png": "[encoded data removed]",
      "text/plain": [
       "<Figure size 432x288 with 1 Axes>"
      ]
     },
     "metadata": {
      "needs_background": "light"
     },
     "output_type": "display_data"
    },
    {
     "name": "stdout",
     "output_type": "stream",
     "text": [
      "Label:  5\n"
     ]
    }
   ],
   "source": [
    "# train data(훈련 데이터)\n",
    "plt.imshow(X_train[0])    # show first number in the dataset\n",
    "plt.show()\n",
    "print('Label: ', y_train[0])"
   ]
  },
  {
   "cell_type": "code",
   "execution_count": 6,
   "metadata": {
    "ExecuteTime": {
     "end_time": "2020-01-27T10:37:55.770732Z",
     "start_time": "2020-01-27T10:37:55.545564Z"
    }
   },
   "outputs": [
    {
     "data": {
      "text/plain": [
       "<matplotlib.image.AxesImage at 0x2691648d848>"
      ]
     },
     "execution_count": 6,
     "metadata": {},
     "output_type": "execute_result"
    },
    {
     "data": {
      "image/png": "[encoded data removed]",
      "text/plain": [
       "<Figure size 432x288 with 1 Axes>"
      ]
     },
     "metadata": {
      "needs_background": "light"
     },
     "output_type": "display_data"
    }
   ],
   "source": [
    "# train data(훈련 데이터)\n",
    "plt.imshow(X_train[0], cmap='gray')"
   ]
  },
  {
   "cell_type": "code",
   "execution_count": 7,
   "metadata": {
    "ExecuteTime": {
     "end_time": "2020-01-27T10:37:55.987221Z",
     "start_time": "2020-01-27T10:37:55.774728Z"
    }
   },
   "outputs": [
    {
     "data": {
      "image/png": "[encoded data removed]",
      "text/plain": [
       "<Figure size 432x288 with 1 Axes>"
      ]
     },
     "metadata": {
      "needs_background": "light"
     },
     "output_type": "display_data"
    },
    {
     "name": "stdout",
     "output_type": "stream",
     "text": [
      "Label:  7\n"
     ]
    }
   ],
   "source": [
    "# train data(학습 데이터)\n",
    "plt.imshow(X_test[0])    # show first number in the dataset X_test\n",
    "plt.show()\n",
    "print('Label: ', y_test[0])"
   ]
  },
  {
   "cell_type": "code",
   "execution_count": 8,
   "metadata": {
    "ExecuteTime": {
     "end_time": "2020-01-27T10:37:56.250044Z",
     "start_time": "2020-01-27T10:37:55.992205Z"
    }
   },
   "outputs": [
    {
     "data": {
      "image/png": "[encoded data removed]",
      "text/plain": [
       "<Figure size 432x288 with 1 Axes>"
      ]
     },
     "metadata": {
      "needs_background": "light"
     },
     "output_type": "display_data"
    },
    {
     "name": "stdout",
     "output_type": "stream",
     "text": [
      "Label:  7\n"
     ]
    }
   ],
   "source": [
    "# train data(학습 데이터)\n",
    "plt.imshow(X_test[0], cmap='gray')    # show first number in the dataset\n",
    "plt.show()\n",
    "print('Label: ', y_test[0])"
   ]
  },
  {
   "cell_type": "markdown",
   "metadata": {},
   "source": [
    "---"
   ]
  },
  {
   "cell_type": "code",
   "execution_count": 9,
   "metadata": {
    "ExecuteTime": {
     "end_time": "2020-01-27T10:37:56.350657Z",
     "start_time": "2020-01-27T10:37:56.253036Z"
    },
    "scrolled": true
   },
   "outputs": [
    {
     "name": "stdout",
     "output_type": "stream",
     "text": [
      "shape of X_train_before =  (60000, 28, 28)\n",
      "shape of X_train_after =  (60000, 784)\n",
      "\n",
      "\n",
      "shape of X_train_splited =  (19800, 784)\n",
      "[6 9 2 ... 5 5 3]\n"
     ]
    }
   ],
   "source": [
    "# (X_train, y_train), (X_test, y_test) = mnist.load_data()\n",
    "print('shape of X_train_before = ', X_train.shape)\n",
    "#reshaping X data : (n,28,28) ---> (n,784)\n",
    "X_train = X_train.reshape((X_train.shape[0], -1))  \n",
    "X_test = X_test.reshape((X_test.shape[0], -1))\n",
    "\n",
    "print('shape of X_train_after = ', X_train.shape)\n",
    "print('\\n')\n",
    "\n",
    "\n",
    "# 밑에는 Tuple로 결과값을 받환받는 것!\n",
    "# use only 33% of training data to expedite the training process(데이터가 너무 많아서)\n",
    "X_train, _ , y_train, _ = train_test_split(X_train, y_train, \n",
    "                                           test_size = 0.67, \n",
    "                                           random_state = 7)\n",
    "\n",
    "print('shape of X_train_splited = ', X_train.shape)\n",
    "print(y_train)"
   ]
  },
  {
   "cell_type": "code",
   "execution_count": 10,
   "metadata": {
    "ExecuteTime": {
     "end_time": "2020-01-27T10:37:56.373254Z",
     "start_time": "2020-01-27T10:37:56.354648Z"
    }
   },
   "outputs": [
    {
     "name": "stdout",
     "output_type": "stream",
     "text": [
      "[[0. 0. 0. ... 0. 0. 0.]\n",
      " [0. 0. 0. ... 0. 0. 1.]\n",
      " [0. 0. 1. ... 0. 0. 0.]\n",
      " ...\n",
      " [0. 0. 0. ... 0. 0. 0.]\n",
      " [0. 0. 0. ... 0. 0. 0.]\n",
      " [0. 0. 0. ... 0. 0. 0.]]\n",
      "(19800, 10)\n"
     ]
    }
   ],
   "source": [
    "# 이 셀은 run하면 계속 바뀌니까 한 번만 할 것!\n",
    "\n",
    "# converting y data into categorical (<<<one-hot encoding>>>>)\n",
    "y_train = to_categorical(y_train)\n",
    "y_test = to_categorical(y_test)\n",
    "\n",
    "# one-hot encoding 원리\n",
    "# 0 -> 1 0 0\n",
    "# 1 -> 0 1 0\n",
    "# 2 -> 0 0 1\n",
    "\n",
    "print(y_train)\n",
    "print(y_train.shape)  # y_train의 value가 0~9까지 있어서 총 10개!"
   ]
  },
  {
   "cell_type": "code",
   "execution_count": 11,
   "metadata": {
    "ExecuteTime": {
     "end_time": "2020-01-27T10:37:56.391737Z",
     "start_time": "2020-01-27T10:37:56.381695Z"
    }
   },
   "outputs": [
    {
     "name": "stdout",
     "output_type": "stream",
     "text": [
      "(19800, 784) (10000, 784) (19800, 10) (10000, 10)\n"
     ]
    }
   ],
   "source": [
    "print(X_train.shape, X_test.shape, y_train.shape, y_test.shape)"
   ]
  },
  {
   "cell_type": "markdown",
   "metadata": {},
   "source": [
    "---"
   ]
  },
  {
   "cell_type": "markdown",
   "metadata": {},
   "source": [
    "# Basic MLP model"
   ]
  },
  {
   "cell_type": "code",
   "execution_count": 12,
   "metadata": {
    "ExecuteTime": {
     "end_time": "2020-01-27T10:37:56.534784Z",
     "start_time": "2020-01-27T10:37:56.396160Z"
    }
   },
   "outputs": [],
   "source": [
    "model = Sequential() # model계층을 선형으로 쌓겠다는 의미(keras.models.sequential() 메서드임)"
   ]
  },
  {
   "cell_type": "code",
   "execution_count": 13,
   "metadata": {
    "ExecuteTime": {
     "end_time": "2020-01-27T10:37:56.816338Z",
     "start_time": "2020-01-27T10:37:56.538009Z"
    }
   },
   "outputs": [
    {
     "name": "stdout",
     "output_type": "stream",
     "text": [
      "WARNING:tensorflow:From C:\\Users\\jnh78\\Anaconda3\\envs\\tutorial\\lib\\site-packages\\tensorflow_core\\python\\ops\\resource_variable_ops.py:1630: calling BaseResourceVariable.__init__ (from tensorflow.python.ops.resource_variable_ops) with constraint is deprecated and will be removed in a future version.\n",
      "Instructions for updating:\n",
      "If using Keras pass *_constraint arguments to layers.\n"
     ]
    }
   ],
   "source": [
    "model.add(Dense(50, input_shape = (784, )))\n",
    "model.add(Activation('sigmoid'))\n",
    "model.add(Dense(50))\n",
    "model.add(Activation('sigmoid'))\n",
    "model.add(Dense(50))\n",
    "model.add(Activation('sigmoid'))\n",
    "model.add(Dense(50))\n",
    "model.add(Activation('sigmoid'))\n",
    "model.add(Dense(10))\n",
    "model.add(Activation('softmax'))\n",
    "\n",
    "#위의 코드와 같은 것으로\n",
    "# model.add(layers.Dense(50, activation='sigmoid', input_shape=(784,)  ))\n",
    "# model.add(layers.Dense(50, activation='sigmoid'))\n",
    "# model.add(layers.Dense(50, activation='sigmoid'))\n",
    "# model.add(layers.Dense(50, activation='sigmoid'))\n",
    "# model.add(layers.Dense(10, activation='softmax'))\n",
    "# 를 쓸 수 있음"
   ]
  },
  {
   "attachments": {
    "11.png": {
     "image/png": "[encoded data removed]"
    }
   },
   "cell_type": "markdown",
   "metadata": {},
   "source": [
    "### softmax 함수\n",
    "\n",
    "![11.png](attachment:11.png)"
   ]
  },
  {
   "cell_type": "code",
   "execution_count": 14,
   "metadata": {
    "ExecuteTime": {
     "end_time": "2020-01-27T10:37:56.837794Z",
     "start_time": "2020-01-27T10:37:56.820849Z"
    },
    "scrolled": false
   },
   "outputs": [
    {
     "name": "stdout",
     "output_type": "stream",
     "text": [
      "Model: \"sequential_1\"\n",
      "_________________________________________________________________\n",
      "Layer (type)                 Output Shape              Param #   \n",
      "=================================================================\n",
      "dense_1 (Dense)              (None, 50)                39250     \n",
      "_________________________________________________________________\n",
      "activation_1 (Activation)    (None, 50)                0         \n",
      "_________________________________________________________________\n",
      "dense_2 (Dense)              (None, 50)                2550      \n",
      "_________________________________________________________________\n",
      "activation_2 (Activation)    (None, 50)                0         \n",
      "_________________________________________________________________\n",
      "dense_3 (Dense)              (None, 50)                2550      \n",
      "_________________________________________________________________\n",
      "activation_3 (Activation)    (None, 50)                0         \n",
      "_________________________________________________________________\n",
      "dense_4 (Dense)              (None, 50)                2550      \n",
      "_________________________________________________________________\n",
      "activation_4 (Activation)    (None, 50)                0         \n",
      "_________________________________________________________________\n",
      "dense_5 (Dense)              (None, 10)                510       \n",
      "_________________________________________________________________\n",
      "activation_5 (Activation)    (None, 10)                0         \n",
      "=================================================================\n",
      "Total params: 47,410\n",
      "Trainable params: 47,410\n",
      "Non-trainable params: 0\n",
      "_________________________________________________________________\n"
     ]
    }
   ],
   "source": [
    "model.summary()"
   ]
  },
  {
   "attachments": {
    "cross%20entropy.png": {
     "image/png": "[encoded data removed]"
    }
   },
   "cell_type": "markdown",
   "metadata": {},
   "source": [
    "#### Cross Entropy\n",
    "\n",
    "![cross%20entropy.png](attachment:cross%20entropy.png)\n",
    "\n",
    "- y =  우리의 neural net이 예측한 정답 label의 값\n",
    "- y' =  실제 정답 label의 값\n",
    "- i = 분류하고자 하는 class의 개수 및 시그마의 인덱스\n",
    "\n",
    "간혹 우리 neural net의 예측값이 0이거나 0과 가까운 매우 작은 숫자일 경우 log 뒤의 y(i)의 값은 무한대로 수렴하게 된다. (이해가 되지 않는다면 위 그래프에서 y가 0.00000000001일 때의 x값을 찾아보라)\n",
    "\n",
    "여기서 무한대로 수렴한다는 것은 분명 유쾌한 일이 아니다.\n",
    "\n",
    "그러므로 **이런 경우를 대비해서 y(i)에 1e-07 ( 0.0000001 ) 정도를 더해준다. // y'log(y+0.0000001)**\n",
    "\n",
    "이렇게 하면 cost 값에는 크게 영향을 주지 않으면서 무한대의 만행을 어느정도 막아낼 수 있다.\n",
    "\n",
    "\n",
    "출처: https://worthpreading.tistory.com/23 [Worth spreading]"
   ]
  },
  {
   "cell_type": "code",
   "execution_count": 15,
   "metadata": {
    "ExecuteTime": {
     "end_time": "2020-01-27T10:37:57.118279Z",
     "start_time": "2020-01-27T10:37:56.846771Z"
    }
   },
   "outputs": [],
   "source": [
    "# 모델을 학습시키기 이전에, compile 메소드를 통해서 학습 방식에 대한 환경설정을 해야 합니다.\n",
    "\n",
    "sgd = optimizers.SGD(lr = 0.001) #Adam하면 금방 올라감\n",
    "\n",
    "\n",
    "model.compile(optimizer = sgd,\n",
    "              loss = 'categorical_crossentropy', \n",
    "              metrics = ['accuracy'])"
   ]
  },
  {
   "cell_type": "markdown",
   "metadata": {},
   "source": [
    "## 훈련(학습)\n",
    "### keras.sequential().fit(X_train, y_train, batch_size = k, validation_split=(alpha), epochs=n, verbose=(0 or 1))\n",
    "\n",
    "- **X_train, y_train** : 훈련데이터들\n",
    "- **batch_size** : 미니 배치들의 사이즈. 입력값 k는 자연수 (자세한 설명은 아래 참고 블로그의 설명 참조)\n",
    "- **validation_split** : 모델의 프로토타입을 만들기 위해서 검증할 수 있는 데이터가 필요한데 train데이터의 일부를 가져다 씀.\n",
    "                    한 에포크가 끝날 때마다 전달된 데이터의 손실과 metrics를 측정한 지표를 나타냄. 입력값은 0이상 1이하의 수\n",
    "- **epochs** : 전체 train데이터로 학습을 반복하는 횟수로 입력값은 정수\n",
    "- **verbose** : 학습과정 출력 여부를 나타내는 옵션. 0은 안나타내고 1은 나타나는데 default는 1.\n",
    "\n",
    "참고 : https://tykimos.github.io/2017/03/25/Fit_Talk/(배치사이즈의 이해를 위해서 꼭 볼것!)"
   ]
  },
  {
   "cell_type": "code",
   "execution_count": 16,
   "metadata": {
    "ExecuteTime": {
     "end_time": "2020-01-27T10:38:49.517262Z",
     "start_time": "2020-01-27T10:37:57.122328Z"
    }
   },
   "outputs": [
    {
     "name": "stdout",
     "output_type": "stream",
     "text": [
      "WARNING:tensorflow:From C:\\Users\\jnh78\\Anaconda3\\envs\\tutorial\\lib\\site-packages\\keras\\backend\\tensorflow_backend.py:422: The name tf.global_variables is deprecated. Please use tf.compat.v1.global_variables instead.\n",
      "\n"
     ]
    }
   ],
   "source": [
    "# 위에서 나뉘어진 X_train셋을 다시 0.7만 가지고 학습을 시키고 \n",
    "# 나머지 0.3은 검증을 하는데 쓰임\n",
    "\n",
    "history = model.fit(X_train, y_train, \n",
    "                    batch_size = 256, \n",
    "                    validation_split = 0.3,   \n",
    "                    epochs = 200,\n",
    "                    verbose = 0)"
   ]
  },
  {
   "cell_type": "code",
   "execution_count": 17,
   "metadata": {
    "ExecuteTime": {
     "end_time": "2020-01-27T10:38:49.541643Z",
     "start_time": "2020-01-27T10:38:49.518240Z"
    },
    "scrolled": true
   },
   "outputs": [
    {
     "data": {
      "text/html": [
       "<div>\n",
       "<style scoped>\n",
       "    .dataframe tbody tr th:only-of-type {\n",
       "        vertical-align: middle;\n",
       "    }\n",
       "\n",
       "    .dataframe tbody tr th {\n",
       "        vertical-align: top;\n",
       "    }\n",
       "\n",
       "    .dataframe thead th {\n",
       "        text-align: right;\n",
       "    }\n",
       "</style>\n",
       "<table border=\"1\" class=\"dataframe\">\n",
       "  <thead>\n",
       "    <tr style=\"text-align: right;\">\n",
       "      <th></th>\n",
       "      <th>val_loss</th>\n",
       "      <th>val_accuracy</th>\n",
       "      <th>loss</th>\n",
       "      <th>accuracy</th>\n",
       "    </tr>\n",
       "  </thead>\n",
       "  <tbody>\n",
       "    <tr>\n",
       "      <th>0</th>\n",
       "      <td>2.362386</td>\n",
       "      <td>0.111785</td>\n",
       "      <td>2.367137</td>\n",
       "      <td>0.114286</td>\n",
       "    </tr>\n",
       "    <tr>\n",
       "      <th>1</th>\n",
       "      <td>2.354825</td>\n",
       "      <td>0.111785</td>\n",
       "      <td>2.359010</td>\n",
       "      <td>0.114286</td>\n",
       "    </tr>\n",
       "    <tr>\n",
       "      <th>2</th>\n",
       "      <td>2.348182</td>\n",
       "      <td>0.111785</td>\n",
       "      <td>2.351850</td>\n",
       "      <td>0.114286</td>\n",
       "    </tr>\n",
       "    <tr>\n",
       "      <th>3</th>\n",
       "      <td>2.342266</td>\n",
       "      <td>0.111785</td>\n",
       "      <td>2.345529</td>\n",
       "      <td>0.114286</td>\n",
       "    </tr>\n",
       "    <tr>\n",
       "      <th>4</th>\n",
       "      <td>2.337076</td>\n",
       "      <td>0.111785</td>\n",
       "      <td>2.339907</td>\n",
       "      <td>0.114286</td>\n",
       "    </tr>\n",
       "    <tr>\n",
       "      <th>...</th>\n",
       "      <td>...</td>\n",
       "      <td>...</td>\n",
       "      <td>...</td>\n",
       "      <td>...</td>\n",
       "    </tr>\n",
       "    <tr>\n",
       "      <th>195</th>\n",
       "      <td>2.298305</td>\n",
       "      <td>0.111785</td>\n",
       "      <td>2.296624</td>\n",
       "      <td>0.114286</td>\n",
       "    </tr>\n",
       "    <tr>\n",
       "      <th>196</th>\n",
       "      <td>2.298291</td>\n",
       "      <td>0.111785</td>\n",
       "      <td>2.296602</td>\n",
       "      <td>0.114286</td>\n",
       "    </tr>\n",
       "    <tr>\n",
       "      <th>197</th>\n",
       "      <td>2.298256</td>\n",
       "      <td>0.111785</td>\n",
       "      <td>2.296580</td>\n",
       "      <td>0.114286</td>\n",
       "    </tr>\n",
       "    <tr>\n",
       "      <th>198</th>\n",
       "      <td>2.298242</td>\n",
       "      <td>0.111785</td>\n",
       "      <td>2.296554</td>\n",
       "      <td>0.114286</td>\n",
       "    </tr>\n",
       "    <tr>\n",
       "      <th>199</th>\n",
       "      <td>2.298231</td>\n",
       "      <td>0.111785</td>\n",
       "      <td>2.296530</td>\n",
       "      <td>0.114286</td>\n",
       "    </tr>\n",
       "  </tbody>\n",
       "</table>\n",
       "<p>200 rows × 4 columns</p>\n",
       "</div>"
      ],
      "text/plain": [
       "     val_loss  val_accuracy      loss  accuracy\n",
       "0    2.362386      0.111785  2.367137  0.114286\n",
       "1    2.354825      0.111785  2.359010  0.114286\n",
       "2    2.348182      0.111785  2.351850  0.114286\n",
       "3    2.342266      0.111785  2.345529  0.114286\n",
       "4    2.337076      0.111785  2.339907  0.114286\n",
       "..        ...           ...       ...       ...\n",
       "195  2.298305      0.111785  2.296624  0.114286\n",
       "196  2.298291      0.111785  2.296602  0.114286\n",
       "197  2.298256      0.111785  2.296580  0.114286\n",
       "198  2.298242      0.111785  2.296554  0.114286\n",
       "199  2.298231      0.111785  2.296530  0.114286\n",
       "\n",
       "[200 rows x 4 columns]"
      ]
     },
     "execution_count": 17,
     "metadata": {},
     "output_type": "execute_result"
    }
   ],
   "source": [
    "# 한 에포크가 끝날 때마다 아래의 데이터프레임에서 row 하나씩 출력한다고 생각하면 됌\n",
    "import pandas as pd\n",
    "pd.DataFrame(history.history)"
   ]
  },
  {
   "cell_type": "code",
   "execution_count": 18,
   "metadata": {
    "ExecuteTime": {
     "end_time": "2020-01-27T10:38:49.713731Z",
     "start_time": "2020-01-27T10:38:49.544637Z"
    }
   },
   "outputs": [
    {
     "data": {
      "image/png": "[encoded data removed]",
      "text/plain": [
       "<Figure size 432x288 with 1 Axes>"
      ]
     },
     "metadata": {
      "needs_background": "light"
     },
     "output_type": "display_data"
    }
   ],
   "source": [
    "plt.plot(history.history['accuracy'])\n",
    "plt.plot(history.history['val_accuracy'])\n",
    "plt.legend(['training', 'validation'], loc = 'upper left')\n",
    "plt.show()"
   ]
  },
  {
   "cell_type": "code",
   "execution_count": 19,
   "metadata": {
    "ExecuteTime": {
     "end_time": "2020-01-27T10:38:49.916866Z",
     "start_time": "2020-01-27T10:38:49.715240Z"
    }
   },
   "outputs": [
    {
     "name": "stdout",
     "output_type": "stream",
     "text": [
      "10000/10000 [==============================] - 0s 19us/step\n",
      "[2.2971344245910643, 0.11349999904632568]\n"
     ]
    }
   ],
   "source": [
    "results = model.evaluate(X_test, y_test) # loss value와 [metrics로 지정한 accuracy]가 tuple형식으로 나옴\n",
    "print(results)"
   ]
  },
  {
   "cell_type": "code",
   "execution_count": 20,
   "metadata": {
    "ExecuteTime": {
     "end_time": "2020-01-27T10:38:49.923847Z",
     "start_time": "2020-01-27T10:38:49.918860Z"
    }
   },
   "outputs": [
    {
     "name": "stdout",
     "output_type": "stream",
     "text": [
      "Test accuracy:  0.11349999904632568\n"
     ]
    }
   ],
   "source": [
    "print('Test accuracy: ', results[1]) # accuracy만 받기"
   ]
  },
  {
   "cell_type": "markdown",
   "metadata": {},
   "source": [
    "---"
   ]
  },
  {
   "attachments": {
    "%EC%B4%88%EA%B8%B0%ED%99%94.png": {
     "image/png": "[encoded data removed]"
    }
   },
   "cell_type": "markdown",
   "metadata": {},
   "source": [
    "딥러닝 학습에 있어 초기 가중치 설정은 매우 중요한 역활을 한다. 가중치를 잘못 설정할 경우 기울기 소실 문제나 표현력의 한계를 갖는 등 여러 문제를 야기하게 된다. 또한 딥러닝의 학습의 문제가 non-convex 이기 때문에 가중치의 초기값을 잘못 설정할 경우 local minimum에 수렴할 가능성이 커지게 된다.\n",
    "\n",
    "초기값 설정을 잘못해 문제가 발생하는 경우들을 살펴보자.\n",
    "\n",
    "1) 초기값을 모두 0으로 설정한 경우\n",
    "\n",
    "만약 데이터를 평균 0정도로 정규화시킨다면, 가중치를 0으로 초기화 시킨다는 생각은 꽤 합리적으로 보일 수 있다. 그러나 실제로 0으로 가중치를 초기화 한다면 모든 뉴런들이 같은 값을 나타낼 것이고, 역전파 과정에서 각 가중치의 update가 동일하게 이뤄질 것이다. 이러한 update는 학습을 진행 해도 계속해서 발생할 것이며, 결국 제대로 학습하기 어려울 것이다. 또한 이러한 동일한 update는 여러 층으로 나누는 의미를 상쇄시킨다.\n",
    "\n",
    "2) 활성화 함수로 sigmoid 사용시 정규 분포 사용\n",
    "\n",
    "지난 포스트에서 확인했듯이 sigmoid함수는 input의 절대값이 조금이라도 커지게 되면 미분값이 소실되는 문제가 발생한다는 것을 확인했다. 이 경우에 평균 0이고 표준편차가 1인 정규분포를 따르도록 가중치를 랜덤하게 초기화 한다고 가정하자. gradient vanishing의 경우에는 표준편차가 크기 때문에 학습을 반복할 수록 가중치 값들이 0,1 로 치우치는 문제 발생한다. 물론 Activation Function을 바꿈으로써 해결 할 수도 있겠지만, 가중치 초기화를 잘 설정함으로써도 어느정도 해결할 수 있다.\n",
    "\n",
    "3) 2의 case에서 표준편차를 줄였을 경우\n",
    "\n",
    "2의 문제를 확인하고 표준편차가 커 |x|값이 커지면서 기울기가 소실되는 문제를 확인했기 때문에, 표준편차를 줄여서 |x|값을 줄이려는 생각을 가지고 표준편차를 0.01로 설정한다고 가정하자. 이 경우에는 또다른 문제가 발생한다.\n",
    "![%EC%B4%88%EA%B8%B0%ED%99%94.png](attachment:%EC%B4%88%EA%B8%B0%ED%99%94.png)\n",
    "이렇게 표준편차를 적게 하면 층이 깊어질 수록 가중치 값들이 중간값인 0.5 부근에 몰리는 문제를 확인할 수 있을 것이다.\n",
    "\n",
    "출처 : https://reniew.github.io/13/"
   ]
  },
  {
   "cell_type": "markdown",
   "metadata": {},
   "source": [
    "## 1. Weight Initialization\n",
    "\n",
    "### Xavier\n",
    "Xaiver함수는 비선형함수(ex. **sigmoid, tanh**)에서 효과적인 결과를 보여준다. 하지만 ReLU함수에서 사용 시 출력 값이 0으로 수렴하게 되는 현상을 확인 할 수 있다. 따라서 ReLU함수에는 또 다른 초기화 방법을 사용해야 한다. 다음과 같은 두가지 방법이 있다.\n",
    "\n",
    "- **Xavier Normal Initialization**\n",
    "\\begin{align}\n",
    "W \\sim N(0,Var(W))\n",
    "\\end{align}\n",
    "\n",
    "Here, $Var(W) = \\sqrt{\\frac{2}{n_{in}+n_{out}}}$, where $n_{in}$은 이전 layer의 노드 수, $n_{out}$은 다음 layer의 노드수\n",
    "\n",
    "- **Xavier Uniform Initialization** : \n",
    "\\begin{align}\n",
    "W \\sim U(- \\sqrt{\\frac{6}{n_{in}+n_{out}}}, \\sqrt{\\frac{6}{n_{in}+n_{out}}})\n",
    "\\end{align}\n",
    "\n",
    "Here, $Var(W) = \\sqrt{\\frac{2}{n_{in}+n_{out}}}$, where $n_{in}$은 이전 layer(input)의 노드 수, $n_{out}$은 다음 layer(output)의 노드수\n",
    "\n",
    "### HE\n",
    "ReLU를 활성화 함수로 사용 시 Xavier 초기값 설정이 비효율적인 결과를 보이는 것을 확인할 수 있는데, 이런 경우 He initialization을 사용한다. 이 방법 또한 정규분포와 균등분포 두가지 방법이 사용된다.(He et al. ,2015)\n",
    "- **He Normal Initialization**\n",
    "\\begin{align}\n",
    "W \\sim N(0,Var(W))\n",
    "\\end{align}\n",
    "\n",
    "Here, $Var(W) = \\sqrt{\\frac{2}{n_{in}}}$, where $n_{in}$은 이전 layer(input)의 노드 수\n",
    "- **Normal distribution**\n",
    "\\begin{align}\n",
    "W \\sim U(- \\sqrt{\\frac{6}{n_{in}}}, \\sqrt{\\frac{6}{n_{in}}})\n",
    "\\end{align}\n",
    "\n",
    "Here, $Var(W) = \\sqrt{\\frac{2}{n_{in}+n_{out}}}$, where $n_{in}$은 이전 layer(input)의 노드 수\n",
    "\n",
    "### Bias 초기화\n",
    "가중치 초기화 뿐만 아니라 편향(bias) 초기값 또한 초기값 설정 또한 중요하다.\n",
    "보통의 경우에는 Bias는 0으로 초기화 하는 것이 일반적이다. ReLU의 경우 0.01과 같은 작은 값으로 b를 초기화 하는 것이 좋다는 보고도 있지만 모든 경우는 아니라 일반적으로는 0으로 초기화 하는 것이 효율적이다.\n",
    "\n",
    "----\n",
    "### Conclusion\n",
    "- Sigmoid, tanh 경우 Xavier 초기화 방법이 효율적이다.\n",
    "- ReLU계의 활성화 함수 사용 시 He 초기화 방법이 효율적이다.\n",
    "- **최근의 대부분의 모델에서는 He초기화를 주로 선택한다.**\n",
    "마지막으로, 대부분의 초기화 방법이 Normal Distribution과 Uniform Distribution을 따르는 두가지 방법이 있는데 이에대한 선택 기준에 대해서는 명확한 것이 없다. 하지만 He의 논문의 말을 인용하면,\n",
    "\n",
    "> 최근의 Deep CNN 모델들은 주로 Gaussian Distribution을 따르는 가중치 초기화 방법을 사용한다.\n",
    "\n",
    "따라서 Deep CNN의 경우 보통의 Gaussian 초기화 방법을 사용해 볼 수 있다.하지만 여러 초기화 방법들을 테스트하며 사용하는 것이 가장 좋은 방법일 것이다.\n",
    "\n",
    "출처 : https://reniew.github.io/13/"
   ]
  },
  {
   "cell_type": "markdown",
   "metadata": {},
   "source": [
    "---"
   ]
  },
  {
   "cell_type": "code",
   "execution_count": 21,
   "metadata": {
    "ExecuteTime": {
     "end_time": "2020-01-27T10:38:49.943074Z",
     "start_time": "2020-01-27T10:38:49.924847Z"
    }
   },
   "outputs": [],
   "source": [
    "# from now on, create a function to generate (return) models\n",
    "def mlp_model():\n",
    "    model = Sequential()\n",
    "    \n",
    "    model.add(Dense(50, input_shape = (784, ), kernel_initializer='he_normal'))     # use he_normal initializer\n",
    "    model.add(Activation('sigmoid'))    \n",
    "    model.add(Dense(50, kernel_initializer='he_normal'))                            # use he_normal initializer\n",
    "    model.add(Activation('sigmoid'))    \n",
    "    model.add(Dense(50, kernel_initializer='he_normal'))                            # use he_normal initializer\n",
    "    model.add(Activation('sigmoid'))    \n",
    "    model.add(Dense(50, kernel_initializer='he_normal'))                            # use he_normal initializer\n",
    "    model.add(Activation('sigmoid'))    \n",
    "    model.add(Dense(10, kernel_initializer='he_normal'))                            # use he_normal initializer\n",
    "    model.add(Activation('softmax'))\n",
    "    \n",
    "    sgd = optimizers.SGD(lr = 0.001)\n",
    "    model.compile(optimizer = sgd, loss = 'categorical_crossentropy', metrics = ['accuracy'])\n",
    "    \n",
    "    return model"
   ]
  },
  {
   "cell_type": "code",
   "execution_count": 22,
   "metadata": {
    "ExecuteTime": {
     "end_time": "2020-01-27T10:40:09.265974Z",
     "start_time": "2020-01-27T10:38:49.946056Z"
    }
   },
   "outputs": [],
   "source": [
    "model = mlp_model()\n",
    "history = model.fit(X_train, y_train, \n",
    "                    validation_split = 0.3, \n",
    "                    epochs = 100, \n",
    "                    verbose = 0)"
   ]
  },
  {
   "cell_type": "code",
   "execution_count": 23,
   "metadata": {
    "ExecuteTime": {
     "end_time": "2020-01-27T10:40:09.281664Z",
     "start_time": "2020-01-27T10:40:09.269716Z"
    }
   },
   "outputs": [
    {
     "data": {
      "text/html": [
       "<div>\n",
       "<style scoped>\n",
       "    .dataframe tbody tr th:only-of-type {\n",
       "        vertical-align: middle;\n",
       "    }\n",
       "\n",
       "    .dataframe tbody tr th {\n",
       "        vertical-align: top;\n",
       "    }\n",
       "\n",
       "    .dataframe thead th {\n",
       "        text-align: right;\n",
       "    }\n",
       "</style>\n",
       "<table border=\"1\" class=\"dataframe\">\n",
       "  <thead>\n",
       "    <tr style=\"text-align: right;\">\n",
       "      <th></th>\n",
       "      <th>val_loss</th>\n",
       "      <th>val_accuracy</th>\n",
       "      <th>loss</th>\n",
       "      <th>accuracy</th>\n",
       "    </tr>\n",
       "  </thead>\n",
       "  <tbody>\n",
       "    <tr>\n",
       "      <th>0</th>\n",
       "      <td>2.383763</td>\n",
       "      <td>0.103704</td>\n",
       "      <td>2.456037</td>\n",
       "      <td>0.101443</td>\n",
       "    </tr>\n",
       "    <tr>\n",
       "      <th>1</th>\n",
       "      <td>2.325355</td>\n",
       "      <td>0.103704</td>\n",
       "      <td>2.344208</td>\n",
       "      <td>0.101515</td>\n",
       "    </tr>\n",
       "    <tr>\n",
       "      <th>2</th>\n",
       "      <td>2.305762</td>\n",
       "      <td>0.146633</td>\n",
       "      <td>2.310409</td>\n",
       "      <td>0.121717</td>\n",
       "    </tr>\n",
       "    <tr>\n",
       "      <th>3</th>\n",
       "      <td>2.298569</td>\n",
       "      <td>0.124747</td>\n",
       "      <td>2.299271</td>\n",
       "      <td>0.138528</td>\n",
       "    </tr>\n",
       "    <tr>\n",
       "      <th>4</th>\n",
       "      <td>2.295621</td>\n",
       "      <td>0.112626</td>\n",
       "      <td>2.295157</td>\n",
       "      <td>0.122655</td>\n",
       "    </tr>\n",
       "    <tr>\n",
       "      <th>...</th>\n",
       "      <td>...</td>\n",
       "      <td>...</td>\n",
       "      <td>...</td>\n",
       "      <td>...</td>\n",
       "    </tr>\n",
       "    <tr>\n",
       "      <th>95</th>\n",
       "      <td>1.994724</td>\n",
       "      <td>0.441246</td>\n",
       "      <td>1.992345</td>\n",
       "      <td>0.443651</td>\n",
       "    </tr>\n",
       "    <tr>\n",
       "      <th>96</th>\n",
       "      <td>1.986141</td>\n",
       "      <td>0.444276</td>\n",
       "      <td>1.983590</td>\n",
       "      <td>0.443218</td>\n",
       "    </tr>\n",
       "    <tr>\n",
       "      <th>97</th>\n",
       "      <td>1.977367</td>\n",
       "      <td>0.447980</td>\n",
       "      <td>1.974708</td>\n",
       "      <td>0.447980</td>\n",
       "    </tr>\n",
       "    <tr>\n",
       "      <th>98</th>\n",
       "      <td>1.968641</td>\n",
       "      <td>0.453030</td>\n",
       "      <td>1.965838</td>\n",
       "      <td>0.454906</td>\n",
       "    </tr>\n",
       "    <tr>\n",
       "      <th>99</th>\n",
       "      <td>1.959799</td>\n",
       "      <td>0.457744</td>\n",
       "      <td>1.956840</td>\n",
       "      <td>0.453175</td>\n",
       "    </tr>\n",
       "  </tbody>\n",
       "</table>\n",
       "<p>100 rows × 4 columns</p>\n",
       "</div>"
      ],
      "text/plain": [
       "    val_loss  val_accuracy      loss  accuracy\n",
       "0   2.383763      0.103704  2.456037  0.101443\n",
       "1   2.325355      0.103704  2.344208  0.101515\n",
       "2   2.305762      0.146633  2.310409  0.121717\n",
       "3   2.298569      0.124747  2.299271  0.138528\n",
       "4   2.295621      0.112626  2.295157  0.122655\n",
       "..       ...           ...       ...       ...\n",
       "95  1.994724      0.441246  1.992345  0.443651\n",
       "96  1.986141      0.444276  1.983590  0.443218\n",
       "97  1.977367      0.447980  1.974708  0.447980\n",
       "98  1.968641      0.453030  1.965838  0.454906\n",
       "99  1.959799      0.457744  1.956840  0.453175\n",
       "\n",
       "[100 rows x 4 columns]"
      ]
     },
     "execution_count": 23,
     "metadata": {},
     "output_type": "execute_result"
    }
   ],
   "source": [
    "# 한 에포크가 끝날 때마다 아래의 데이터프레임에서 row 하나씩 출력한다고 생각하면 됌\n",
    "pd.DataFrame(history.history)"
   ]
  },
  {
   "cell_type": "code",
   "execution_count": 24,
   "metadata": {
    "ExecuteTime": {
     "end_time": "2020-01-27T10:40:09.460163Z",
     "start_time": "2020-01-27T10:40:09.285654Z"
    }
   },
   "outputs": [
    {
     "data": {
      "image/png": "[encoded data removed]",
      "text/plain": [
       "<Figure size 432x288 with 1 Axes>"
      ]
     },
     "metadata": {
      "needs_background": "light"
     },
     "output_type": "display_data"
    }
   ],
   "source": [
    "plt.plot(history.history['accuracy'])\n",
    "plt.plot(history.history['val_accuracy'])\n",
    "plt.legend(['training', 'validation'], loc = 'upper left')\n",
    "plt.show()"
   ]
  },
  {
   "cell_type": "code",
   "execution_count": 25,
   "metadata": {
    "ExecuteTime": {
     "end_time": "2020-01-27T10:40:09.692002Z",
     "start_time": "2020-01-27T10:40:09.461123Z"
    }
   },
   "outputs": [
    {
     "name": "stdout",
     "output_type": "stream",
     "text": [
      "10000/10000 [==============================] - 0s 22us/step\n",
      "[1.9547035947799682, 0.4578999876976013]\n"
     ]
    }
   ],
   "source": [
    "results = model.evaluate(X_test, y_test)\n",
    "\n",
    "# loss값과 accuracy값을 리턴함\n",
    "print(results)"
   ]
  },
  {
   "cell_type": "code",
   "execution_count": 26,
   "metadata": {
    "ExecuteTime": {
     "end_time": "2020-01-27T10:40:09.698562Z",
     "start_time": "2020-01-27T10:40:09.693574Z"
    },
    "scrolled": true
   },
   "outputs": [
    {
     "name": "stdout",
     "output_type": "stream",
     "text": [
      "Test accuracy:  0.4578999876976013\n"
     ]
    }
   ],
   "source": [
    "print('Test accuracy: ', results[1])"
   ]
  },
  {
   "cell_type": "markdown",
   "metadata": {},
   "source": [
    "위에서 했던 것보다 accuracy는 높지 않지만 여전히 불만족스러움...\n",
    "그래서 이번엔 Activation Function을 nonlinear로 바꿔서 해보기로..!"
   ]
  },
  {
   "cell_type": "markdown",
   "metadata": {},
   "source": [
    "---"
   ]
  },
  {
   "cell_type": "markdown",
   "metadata": {},
   "source": [
    "## 2. Nonlinearity (Activation function)\n",
    "### 위의 예제에서 activate function을 relu로 바꿔보기"
   ]
  },
  {
   "cell_type": "code",
   "execution_count": 27,
   "metadata": {
    "ExecuteTime": {
     "end_time": "2020-01-27T10:40:09.710530Z",
     "start_time": "2020-01-27T10:40:09.700562Z"
    }
   },
   "outputs": [],
   "source": [
    "# from now on, create a function to generate (return) models\n",
    "def mlp_model():\n",
    "    model = Sequential()\n",
    "    \n",
    "    model.add(Dense(50, input_shape = (784, ), kernel_initializer='he_normal'))     # use he_normal initializer\n",
    "    model.add(Activation('relu'))    \n",
    "    model.add(Dense(50, kernel_initializer='he_normal'))                            # use he_normal initializer\n",
    "    model.add(Activation('relu'))    \n",
    "    model.add(Dense(50, kernel_initializer='he_normal'))                            # use he_normal initializer\n",
    "    model.add(Activation('relu'))    \n",
    "    model.add(Dense(50, kernel_initializer='he_normal'))                            # use he_normal initializer\n",
    "    model.add(Activation('relu'))    \n",
    "    model.add(Dense(10, kernel_initializer='he_normal'))                            # use he_normal initializer\n",
    "    model.add(Activation('softmax'))\n",
    "    \n",
    "    sgd = optimizers.SGD(lr = 0.001)\n",
    "    model.compile(optimizer = sgd, loss = 'categorical_crossentropy', metrics = ['accuracy'])\n",
    "    \n",
    "    return model"
   ]
  },
  {
   "cell_type": "code",
   "execution_count": 28,
   "metadata": {
    "ExecuteTime": {
     "end_time": "2020-01-27T10:41:27.733207Z",
     "start_time": "2020-01-27T10:40:09.711528Z"
    }
   },
   "outputs": [],
   "source": [
    "model = mlp_model()\n",
    "history = model.fit(X_train, y_train, \n",
    "                    validation_split = 0.3, \n",
    "                    epochs = 100,\n",
    "                    verbose = 0)"
   ]
  },
  {
   "cell_type": "code",
   "execution_count": 29,
   "metadata": {
    "ExecuteTime": {
     "end_time": "2020-01-27T10:41:27.868566Z",
     "start_time": "2020-01-27T10:41:27.734951Z"
    },
    "scrolled": true
   },
   "outputs": [
    {
     "data": {
      "image/png": "[encoded data removed]",
      "text/plain": [
       "<Figure size 432x288 with 1 Axes>"
      ]
     },
     "metadata": {
      "needs_background": "light"
     },
     "output_type": "display_data"
    }
   ],
   "source": [
    "plt.plot(history.history['accuracy'])\n",
    "plt.plot(history.history['val_accuracy'])\n",
    "plt.legend(['training', 'validation'], loc = 'upper left')\n",
    "plt.show()"
   ]
  },
  {
   "cell_type": "code",
   "execution_count": 30,
   "metadata": {
    "ExecuteTime": {
     "end_time": "2020-01-27T10:41:28.097240Z",
     "start_time": "2020-01-27T10:41:27.870561Z"
    },
    "scrolled": true
   },
   "outputs": [
    {
     "name": "stdout",
     "output_type": "stream",
     "text": [
      "10000/10000 [==============================] - 0s 22us/step\n",
      "[0.4678897451162338, 0.8974999785423279]\n"
     ]
    }
   ],
   "source": [
    "results = model.evaluate(X_test, y_test)\n",
    "\n",
    "# loss값과 accuracy값을 리턴함\n",
    "print(results)"
   ]
  },
  {
   "cell_type": "code",
   "execution_count": 31,
   "metadata": {
    "ExecuteTime": {
     "end_time": "2020-01-27T10:41:28.102973Z",
     "start_time": "2020-01-27T10:41:28.098987Z"
    },
    "scrolled": true
   },
   "outputs": [
    {
     "name": "stdout",
     "output_type": "stream",
     "text": [
      "Test accuracy:  0.8974999785423279\n"
     ]
    }
   ],
   "source": [
    "print('Test accuracy: ', results[1])"
   ]
  },
  {
   "cell_type": "markdown",
   "metadata": {},
   "source": [
    "relu로 activation function으로 바꾸니까 accuracy가 훨씬 좋아졌다!!\n",
    "\n",
    "더 좋아지게 하는 방법을 생각해보자!"
   ]
  },
  {
   "cell_type": "markdown",
   "metadata": {},
   "source": [
    "## 3. Optimizers"
   ]
  },
  {
   "cell_type": "code",
   "execution_count": 32,
   "metadata": {
    "ExecuteTime": {
     "end_time": "2020-01-27T10:41:28.114906Z",
     "start_time": "2020-01-27T10:41:28.103936Z"
    }
   },
   "outputs": [],
   "source": [
    "# 비록 sigmoid를 썼지만 adam을 썼기 때문에 결과가 좋음(밑의 그래프 참조)\n",
    "# \n",
    "def mlp_model():\n",
    "    model = Sequential()\n",
    "    \n",
    "    model.add(Dense(50, input_shape = (784, )))\n",
    "    model.add(Activation('sigmoid'))    \n",
    "    model.add(Dense(50))\n",
    "    model.add(Activation('sigmoid'))  \n",
    "    model.add(Dense(50))\n",
    "    model.add(Activation('sigmoid'))    \n",
    "    model.add(Dense(50))\n",
    "    model.add(Activation('sigmoid'))    \n",
    "    model.add(Dense(10))\n",
    "    model.add(Activation('softmax'))\n",
    "    \n",
    "    adam = optimizers.Adam(lr = 0.001)                     # use Adam optimizer\n",
    "    model.compile(optimizer = adam, loss = 'categorical_crossentropy', metrics = ['accuracy'])\n",
    "    \n",
    "    return model"
   ]
  },
  {
   "cell_type": "code",
   "execution_count": 33,
   "metadata": {
    "ExecuteTime": {
     "end_time": "2020-01-27T10:42:56.437152Z",
     "start_time": "2020-01-27T10:41:28.115904Z"
    }
   },
   "outputs": [],
   "source": [
    "model = mlp_model()\n",
    "history = model.fit(X_train, y_train, \n",
    "                    validation_split = 0.3, \n",
    "                    epochs = 100, \n",
    "                    verbose = 0)"
   ]
  },
  {
   "cell_type": "code",
   "execution_count": 34,
   "metadata": {
    "ExecuteTime": {
     "end_time": "2020-01-27T10:42:56.602419Z",
     "start_time": "2020-01-27T10:42:56.438894Z"
    }
   },
   "outputs": [
    {
     "data": {
      "image/png": "[encoded data removed]",
      "text/plain": [
       "<Figure size 432x288 with 1 Axes>"
      ]
     },
     "metadata": {
      "needs_background": "light"
     },
     "output_type": "display_data"
    }
   ],
   "source": [
    "plt.plot(history.history['accuracy'])\n",
    "plt.plot(history.history['val_accuracy'])\n",
    "plt.legend(['training', 'validation'], loc = 'upper left')\n",
    "plt.show()"
   ]
  },
  {
   "cell_type": "code",
   "execution_count": 35,
   "metadata": {
    "ExecuteTime": {
     "end_time": "2020-01-27T10:42:56.843798Z",
     "start_time": "2020-01-27T10:42:56.604413Z"
    }
   },
   "outputs": [
    {
     "name": "stdout",
     "output_type": "stream",
     "text": [
      "10000/10000 [==============================] - 0s 23us/step\n"
     ]
    }
   ],
   "source": [
    "results = model.evaluate(X_test, y_test)"
   ]
  },
  {
   "cell_type": "code",
   "execution_count": 36,
   "metadata": {
    "ExecuteTime": {
     "end_time": "2020-01-27T10:42:56.849787Z",
     "start_time": "2020-01-27T10:42:56.844793Z"
    },
    "scrolled": true
   },
   "outputs": [
    {
     "name": "stdout",
     "output_type": "stream",
     "text": [
      "Test accuracy:  0.9223999977111816\n"
     ]
    }
   ],
   "source": [
    "print('Test accuracy: ', results[1])"
   ]
  },
  {
   "cell_type": "markdown",
   "metadata": {},
   "source": [
    "accuracy가 엄청나게 좋아졌다!!!\n",
    "\n",
    "그래도 다른 요소를 더 고려해보자"
   ]
  },
  {
   "cell_type": "markdown",
   "metadata": {},
   "source": [
    "## 4. Batch Normalization\n",
    "\n",
    "비선형 변환 전에 추가\n",
    "\n",
    "참고 : \n",
    "- https://shuuki4.wordpress.com/2016/01/13/batch-normalization-%EC%84%A4%EB%AA%85-%EB%B0%8F-%EA%B5%AC%ED%98%84/\n",
    "- https://laonple.blog.me/220808903260"
   ]
  },
  {
   "cell_type": "code",
   "execution_count": 37,
   "metadata": {
    "ExecuteTime": {
     "end_time": "2020-01-27T10:42:56.860727Z",
     "start_time": "2020-01-27T10:42:56.851752Z"
    }
   },
   "outputs": [],
   "source": [
    "def mlp_model():\n",
    "    model = Sequential()\n",
    "    \n",
    "    model.add(Dense(50, input_shape = (784, )))\n",
    "    model.add(BatchNormalization())  ## 이것만 추가   (배치는 activation 전에 한다.)\n",
    "    model.add(Activation('sigmoid'))\n",
    "    \n",
    "    model.add(Dense(50))\n",
    "    model.add(BatchNormalization())     #\n",
    "    model.add(Activation('sigmoid'))\n",
    "    \n",
    "    model.add(Dense(50))\n",
    "    model.add(BatchNormalization())       #\n",
    "    model.add(Activation('sigmoid'))\n",
    "    \n",
    "    model.add(Dense(50))\n",
    "    model.add(BatchNormalization())       #\n",
    "    model.add(Activation('sigmoid'))\n",
    "    \n",
    "    model.add(Dense(10))\n",
    "    model.add(Activation('softmax'))\n",
    "    \n",
    "    sgd = optimizers.SGD(lr = 0.001)\n",
    "    model.compile(optimizer = sgd, loss = 'categorical_crossentropy', metrics = ['accuracy'])\n",
    "    \n",
    "    return model"
   ]
  },
  {
   "cell_type": "code",
   "execution_count": 38,
   "metadata": {
    "ExecuteTime": {
     "end_time": "2020-01-27T10:45:32.839417Z",
     "start_time": "2020-01-27T10:42:56.861739Z"
    }
   },
   "outputs": [],
   "source": [
    "model = mlp_model()\n",
    "history = model.fit(X_train, y_train, \n",
    "                    validation_split = 0.3, \n",
    "                    epochs = 100, \n",
    "                    verbose = 0)"
   ]
  },
  {
   "cell_type": "code",
   "execution_count": 39,
   "metadata": {
    "ExecuteTime": {
     "end_time": "2020-01-27T10:45:33.003913Z",
     "start_time": "2020-01-27T10:45:32.841344Z"
    }
   },
   "outputs": [
    {
     "data": {
      "image/png": "[encoded data removed]",
      "text/plain": [
       "<Figure size 432x288 with 1 Axes>"
      ]
     },
     "metadata": {
      "needs_background": "light"
     },
     "output_type": "display_data"
    }
   ],
   "source": [
    "plt.plot(history.history['accuracy'])\n",
    "plt.plot(history.history['val_accuracy'])\n",
    "plt.legend(['training', 'validation'], loc = 'upper left')\n",
    "plt.show()"
   ]
  },
  {
   "cell_type": "code",
   "execution_count": 40,
   "metadata": {
    "ExecuteTime": {
     "end_time": "2020-01-27T10:45:33.400849Z",
     "start_time": "2020-01-27T10:45:33.006903Z"
    }
   },
   "outputs": [
    {
     "name": "stdout",
     "output_type": "stream",
     "text": [
      "10000/10000 [==============================] - 0s 39us/step\n"
     ]
    }
   ],
   "source": [
    "results = model.evaluate(X_test, y_test)"
   ]
  },
  {
   "cell_type": "code",
   "execution_count": 41,
   "metadata": {
    "ExecuteTime": {
     "end_time": "2020-01-27T10:45:33.406830Z",
     "start_time": "2020-01-27T10:45:33.401848Z"
    }
   },
   "outputs": [
    {
     "name": "stdout",
     "output_type": "stream",
     "text": [
      "Test accuracy:  0.9121999740600586\n"
     ]
    }
   ],
   "source": [
    "print('Test accuracy: ', results[1])"
   ]
  },
  {
   "cell_type": "markdown",
   "metadata": {},
   "source": [
    "여전히 GOOD!!\n",
    "\n",
    "다른 것도 또 알아볼까?"
   ]
  },
  {
   "cell_type": "markdown",
   "metadata": {},
   "source": [
    "---"
   ]
  },
  {
   "cell_type": "markdown",
   "metadata": {},
   "source": [
    "## 5. Dropout (Regularization)\n",
    "\n",
    "weight를 0으로 만들어주는 효과"
   ]
  },
  {
   "cell_type": "code",
   "execution_count": 42,
   "metadata": {
    "ExecuteTime": {
     "end_time": "2020-01-27T10:45:33.419795Z",
     "start_time": "2020-01-27T10:45:33.408826Z"
    }
   },
   "outputs": [],
   "source": [
    "# Droupout은 크게 잡는다.\n",
    "\n",
    "def mlp_model():\n",
    "    model = Sequential()\n",
    "    \n",
    "    model.add(Dense(50, input_shape = (784, )))\n",
    "    model.add(Activation('sigmoid'))    \n",
    "    model.add(Dropout(0.5))                        # Dropout layer after Activation\n",
    "    \n",
    "    model.add(Dense(50))\n",
    "    model.add(Activation('sigmoid'))\n",
    "    model.add(Dropout(0.5))                        # Dropout layer after Activation\n",
    "    \n",
    "    model.add(Dense(50))\n",
    "    model.add(Activation('sigmoid'))    \n",
    "    model.add(Dropout(0.5))                        # Dropout layer after Activation\n",
    "    \n",
    "    model.add(Dense(50))\n",
    "    model.add(Activation('sigmoid'))    \n",
    "    model.add(Dropout(0.5))                         # Dropout layer after Activation\n",
    "    \n",
    "    model.add(Dense(10))\n",
    "    model.add(Activation('softmax'))\n",
    "    \n",
    "    sgd = optimizers.SGD(lr = 0.001)\n",
    "    model.compile(optimizer = sgd, loss = 'categorical_crossentropy', metrics = ['accuracy'])\n",
    "    \n",
    "    return model"
   ]
  },
  {
   "cell_type": "code",
   "execution_count": 43,
   "metadata": {
    "ExecuteTime": {
     "end_time": "2020-01-27T10:47:16.337750Z",
     "start_time": "2020-01-27T10:45:33.421792Z"
    }
   },
   "outputs": [],
   "source": [
    "model = mlp_model()\n",
    "history = model.fit(X_train, y_train, \n",
    "                    validation_split = 0.3, \n",
    "                    epochs = 100, \n",
    "                    verbose = 0)"
   ]
  },
  {
   "cell_type": "code",
   "execution_count": 44,
   "metadata": {
    "ExecuteTime": {
     "end_time": "2020-01-27T10:47:16.489335Z",
     "start_time": "2020-01-27T10:47:16.339736Z"
    }
   },
   "outputs": [
    {
     "data": {
      "image/png": "[encoded data removed]",
      "text/plain": [
       "<Figure size 432x288 with 1 Axes>"
      ]
     },
     "metadata": {
      "needs_background": "light"
     },
     "output_type": "display_data"
    }
   ],
   "source": [
    "plt.plot(history.history['accuracy'])\n",
    "plt.plot(history.history['val_accuracy'])\n",
    "plt.legend(['training', 'validation'], loc = 'upper left')\n",
    "plt.show()"
   ]
  },
  {
   "cell_type": "code",
   "execution_count": 45,
   "metadata": {
    "ExecuteTime": {
     "end_time": "2020-01-27T10:47:16.752642Z",
     "start_time": "2020-01-27T10:47:16.490335Z"
    }
   },
   "outputs": [
    {
     "name": "stdout",
     "output_type": "stream",
     "text": [
      "10000/10000 [==============================] - 0s 26us/step\n"
     ]
    }
   ],
   "source": [
    "results = model.evaluate(X_test, y_test)"
   ]
  },
  {
   "cell_type": "code",
   "execution_count": 46,
   "metadata": {
    "ExecuteTime": {
     "end_time": "2020-01-27T10:47:16.758616Z",
     "start_time": "2020-01-27T10:47:16.754650Z"
    }
   },
   "outputs": [
    {
     "name": "stdout",
     "output_type": "stream",
     "text": [
      "Test accuracy:  0.11349999904632568\n"
     ]
    }
   ],
   "source": [
    "print('Test accuracy: ', results[1])"
   ]
  },
  {
   "cell_type": "markdown",
   "metadata": {},
   "source": [
    "---"
   ]
  },
  {
   "cell_type": "markdown",
   "metadata": {},
   "source": [
    "## Recurrent Neural Network (RNN) 이해하기\n",
    "음악, 동영상, 에세이, 시, 소스 코드, 주가 차트. 이것들의 공통점은 무엇일까요? 바로 시퀀스라는 점입니다. 음악은 음계들의 시퀀스, 동영상은 이미지의 시퀀스, 에세이는 단어들의 시퀀스로 볼 수 있습니다. 시퀀스의 길이는 가변적입니다. 소설에는 한 페이지짜리 단편소설도 있고 열권짜리 장편소설도 있죠. 기존의 뉴럴 네트워크 알고리즘은 이미지처럼 고정된 크기의 입력을 다루는 데는 탁월하지만, 가변적인 크기의 데이터를 모델링하기에는 적합하지 않습니다.\n",
    "\n",
    "RNN(Recurrent Neural Network, 순환신경망)은 시퀀스 데이터를 모델링 하기 위해 등장했습니다. RNN이 기존의 뉴럴 네트워크와 다른 점은 ‘기억’(다른 말로 hidden state)을 갖고 있다는 점입니다. 네트워크의 기억은 지금까지의 입력 데이터를 요약한 정보라고 볼 수 있습니다. 새로운 입력이 들어올때마다 네트워크는 자신의 기억을 조금씩 수정합니다. 결국 입력을 모두 처리하고 난 후 네트워크에게 남겨진 기억은 시퀀스 전체를 요약하는 정보가 됩니다. 이는 사람이 시퀀스를 처리하는 방식과 비슷합니다. 이 글을 읽을 때도 우리는 이전까지의 단어에 대한 기억을 바탕으로 새로운 단어를 이해합니다. 이 과정은 새로운 단어마다 계속해서 반복되기 때문에 RNN에는 Recurrent, 즉 순환적이라는 이름이 붙습니다. RNN은 이런 반복을 통해 아무리 긴 시퀀스라도 처리할 수 있는 것입니다.\n",
    "\n",
    "출처 : https://dreamgonfly.github.io/rnn/2017/09/04/understanding-rnn.html"
   ]
  },
  {
   "attachments": {
    "1.JPG": {
     "image/jpeg": "[encoded data removed]"
    },
    "2.JPG": {
     "image/jpeg": "[encoded data removed]"
    }
   },
   "cell_type": "markdown",
   "metadata": {},
   "source": [
    "![1.JPG](attachment:1.JPG)\n",
    "![2.JPG](attachment:2.JPG)\n",
    "\n",
    "출처 : https://www.youtube.com/watch?v=rDkDyGJpp7E&t=432s"
   ]
  },
  {
   "cell_type": "markdown",
   "metadata": {},
   "source": [
    "## 6. Model Ensemble"
   ]
  },
  {
   "cell_type": "code",
   "execution_count": 56,
   "metadata": {
    "ExecuteTime": {
     "end_time": "2020-01-27T14:24:48.891761Z",
     "start_time": "2020-01-27T14:24:48.876802Z"
    }
   },
   "outputs": [
    {
     "name": "stdout",
     "output_type": "stream",
     "text": [
      "3\n",
      "[1 3 2]\n",
      "[0 0 2 1]\n"
     ]
    },
    {
     "data": {
      "text/html": [
       "<div>\n",
       "<style scoped>\n",
       "    .dataframe tbody tr th:only-of-type {\n",
       "        vertical-align: middle;\n",
       "    }\n",
       "\n",
       "    .dataframe tbody tr th {\n",
       "        vertical-align: top;\n",
       "    }\n",
       "\n",
       "    .dataframe thead th {\n",
       "        text-align: right;\n",
       "    }\n",
       "</style>\n",
       "<table border=\"1\" class=\"dataframe\">\n",
       "  <thead>\n",
       "    <tr style=\"text-align: right;\">\n",
       "      <th></th>\n",
       "      <th>0</th>\n",
       "      <th>1</th>\n",
       "      <th>2</th>\n",
       "    </tr>\n",
       "  </thead>\n",
       "  <tbody>\n",
       "    <tr>\n",
       "      <th>0</th>\n",
       "      <td>1</td>\n",
       "      <td>0</td>\n",
       "      <td>0</td>\n",
       "    </tr>\n",
       "    <tr>\n",
       "      <th>1</th>\n",
       "      <td>2</td>\n",
       "      <td>0</td>\n",
       "      <td>0</td>\n",
       "    </tr>\n",
       "    <tr>\n",
       "      <th>2</th>\n",
       "      <td>0</td>\n",
       "      <td>0</td>\n",
       "      <td>1</td>\n",
       "    </tr>\n",
       "    <tr>\n",
       "      <th>3</th>\n",
       "      <td>0</td>\n",
       "      <td>1</td>\n",
       "      <td>0</td>\n",
       "    </tr>\n",
       "  </tbody>\n",
       "</table>\n",
       "</div>"
      ],
      "text/plain": [
       "   0  1  2\n",
       "0  1  0  0\n",
       "1  2  0  0\n",
       "2  0  0  1\n",
       "3  0  1  0"
      ]
     },
     "execution_count": 56,
     "metadata": {},
     "output_type": "execute_result"
    }
   ],
   "source": [
    "# argmax : 최대값의 인덱스 리턴\n",
    "\n",
    "# print(np.max([1,2,3,4,1,8, 2.4]))\n",
    "# print(np.argmax([1,2,3,4,1,8, 2.4]))\n",
    "# print(np.argmax([1,0,0,0,0,0,0]))\n",
    "# print('\\n')\n",
    "\n",
    "\n",
    "\n",
    "x = np.array([[1,0,0],\n",
    "              [2,0,0],\n",
    "              [0,0,1],\n",
    "              [0,1,0]])\n",
    "\n",
    "print(np.argmax(x))\n",
    "print(np.argmax(x,axis=0)) # row가 증가하는 방향\n",
    "print(np.argmax(x,axis=1)) # column가 증가하는 방향\n",
    "pd.DataFrame(x)"
   ]
  },
  {
   "cell_type": "code",
   "execution_count": 48,
   "metadata": {
    "ExecuteTime": {
     "end_time": "2020-01-27T14:21:00.868117Z",
     "start_time": "2020-01-27T14:21:00.854155Z"
    },
    "scrolled": true
   },
   "outputs": [],
   "source": [
    "# 한 번만 run시킬 것!\n",
    "y_train = np.argmax(y_train, axis = 1)\n",
    "y_test = np.argmax(y_test, axis = 1)"
   ]
  },
  {
   "cell_type": "code",
   "execution_count": 49,
   "metadata": {
    "ExecuteTime": {
     "end_time": "2020-01-27T14:21:01.775719Z",
     "start_time": "2020-01-27T14:21:01.771735Z"
    }
   },
   "outputs": [
    {
     "name": "stdout",
     "output_type": "stream",
     "text": [
      "[6 9 2 ... 5 5 3]\n",
      "[7 2 1 ... 4 5 6]\n"
     ]
    }
   ],
   "source": [
    "print(y_train)\n",
    "print(y_test)"
   ]
  },
  {
   "cell_type": "code",
   "execution_count": 57,
   "metadata": {
    "ExecuteTime": {
     "end_time": "2020-01-27T14:34:10.733209Z",
     "start_time": "2020-01-27T14:34:10.725232Z"
    }
   },
   "outputs": [],
   "source": [
    "def mlp_model():\n",
    "    model = Sequential()\n",
    "    \n",
    "    model.add(Dense(50, input_shape = (784, )))\n",
    "    model.add(Activation('sigmoid'))    \n",
    "    model.add(Dense(50))\n",
    "    model.add(Activation('sigmoid'))    \n",
    "    model.add(Dense(50))\n",
    "    model.add(Activation('sigmoid'))    \n",
    "    model.add(Dense(50))\n",
    "    model.add(Activation('sigmoid'))    \n",
    "    model.add(Dense(10))\n",
    "    model.add(Activation('softmax'))\n",
    "    \n",
    "    sgd = optimizers.SGD(lr = 0.001)\n",
    "    model.compile(optimizer = sgd, loss = 'categorical_crossentropy', metrics = ['accuracy'])\n",
    "    \n",
    "    return model"
   ]
  },
  {
   "cell_type": "code",
   "execution_count": 58,
   "metadata": {
    "ExecuteTime": {
     "end_time": "2020-01-27T14:34:11.922033Z",
     "start_time": "2020-01-27T14:34:11.916049Z"
    }
   },
   "outputs": [],
   "source": [
    "model1 = KerasClassifier(build_fn = mlp_model, epochs = 100, verbose = 1)\n",
    "model2 = KerasClassifier(build_fn = mlp_model, epochs = 100, verbose = 1)\n",
    "model3 = KerasClassifier(build_fn = mlp_model, epochs = 100, verbose = 1)"
   ]
  },
  {
   "cell_type": "code",
   "execution_count": 59,
   "metadata": {
    "ExecuteTime": {
     "end_time": "2020-01-27T14:34:12.605206Z",
     "start_time": "2020-01-27T14:34:12.601217Z"
    }
   },
   "outputs": [],
   "source": [
    "ensemble_clf = VotingClassifier(estimators = [('model1', model1), \n",
    "                                              ('model2', model2), \n",
    "                                              ('model3', model3)], \n",
    "                                voting = 'soft')"
   ]
  },
  {
   "cell_type": "code",
   "execution_count": 60,
   "metadata": {
    "ExecuteTime": {
     "end_time": "2020-01-27T14:34:17.989815Z",
     "start_time": "2020-01-27T14:34:17.949922Z"
    },
    "scrolled": true
   },
   "outputs": [
    {
     "ename": "ValueError",
     "evalue": "The estimator KerasClassifier should be a classifier.",
     "output_type": "error",
     "traceback": [
      "\u001b[1;31m---------------------------------------------------------------------------\u001b[0m",
      "\u001b[1;31mValueError\u001b[0m                                Traceback (most recent call last)",
      "\u001b[1;32m<ipython-input-60-880026c6f59a>\u001b[0m in \u001b[0;36m<module>\u001b[1;34m\u001b[0m\n\u001b[1;32m----> 1\u001b[1;33m \u001b[0mensemble_clf\u001b[0m\u001b[1;33m.\u001b[0m\u001b[0mfit\u001b[0m\u001b[1;33m(\u001b[0m\u001b[0mX_train\u001b[0m\u001b[1;33m,\u001b[0m \u001b[0my_train\u001b[0m\u001b[1;33m)\u001b[0m\u001b[1;33m\u001b[0m\u001b[1;33m\u001b[0m\u001b[0m\n\u001b[0m",
      "\u001b[1;32m~\\Anaconda3\\envs\\tutorial\\lib\\site-packages\\sklearn\\ensemble\\_voting.py\u001b[0m in \u001b[0;36mfit\u001b[1;34m(self, X, y, sample_weight)\u001b[0m\n\u001b[0;32m    220\u001b[0m         \u001b[0mtransformed_y\u001b[0m \u001b[1;33m=\u001b[0m \u001b[0mself\u001b[0m\u001b[1;33m.\u001b[0m\u001b[0mle_\u001b[0m\u001b[1;33m.\u001b[0m\u001b[0mtransform\u001b[0m\u001b[1;33m(\u001b[0m\u001b[0my\u001b[0m\u001b[1;33m)\u001b[0m\u001b[1;33m\u001b[0m\u001b[1;33m\u001b[0m\u001b[0m\n\u001b[0;32m    221\u001b[0m \u001b[1;33m\u001b[0m\u001b[0m\n\u001b[1;32m--> 222\u001b[1;33m         \u001b[1;32mreturn\u001b[0m \u001b[0msuper\u001b[0m\u001b[1;33m(\u001b[0m\u001b[1;33m)\u001b[0m\u001b[1;33m.\u001b[0m\u001b[0mfit\u001b[0m\u001b[1;33m(\u001b[0m\u001b[0mX\u001b[0m\u001b[1;33m,\u001b[0m \u001b[0mtransformed_y\u001b[0m\u001b[1;33m,\u001b[0m \u001b[0msample_weight\u001b[0m\u001b[1;33m)\u001b[0m\u001b[1;33m\u001b[0m\u001b[1;33m\u001b[0m\u001b[0m\n\u001b[0m\u001b[0;32m    223\u001b[0m \u001b[1;33m\u001b[0m\u001b[0m\n\u001b[0;32m    224\u001b[0m     \u001b[1;32mdef\u001b[0m \u001b[0mpredict\u001b[0m\u001b[1;33m(\u001b[0m\u001b[0mself\u001b[0m\u001b[1;33m,\u001b[0m \u001b[0mX\u001b[0m\u001b[1;33m)\u001b[0m\u001b[1;33m:\u001b[0m\u001b[1;33m\u001b[0m\u001b[1;33m\u001b[0m\u001b[0m\n",
      "\u001b[1;32m~\\Anaconda3\\envs\\tutorial\\lib\\site-packages\\sklearn\\ensemble\\_voting.py\u001b[0m in \u001b[0;36mfit\u001b[1;34m(self, X, y, sample_weight)\u001b[0m\n\u001b[0;32m     55\u001b[0m     \u001b[1;32mdef\u001b[0m \u001b[0mfit\u001b[0m\u001b[1;33m(\u001b[0m\u001b[0mself\u001b[0m\u001b[1;33m,\u001b[0m \u001b[0mX\u001b[0m\u001b[1;33m,\u001b[0m \u001b[0my\u001b[0m\u001b[1;33m,\u001b[0m \u001b[0msample_weight\u001b[0m\u001b[1;33m=\u001b[0m\u001b[1;32mNone\u001b[0m\u001b[1;33m)\u001b[0m\u001b[1;33m:\u001b[0m\u001b[1;33m\u001b[0m\u001b[1;33m\u001b[0m\u001b[0m\n\u001b[0;32m     56\u001b[0m         \u001b[1;34m\"\"\"Get common fit operations.\"\"\"\u001b[0m\u001b[1;33m\u001b[0m\u001b[1;33m\u001b[0m\u001b[0m\n\u001b[1;32m---> 57\u001b[1;33m         \u001b[0mnames\u001b[0m\u001b[1;33m,\u001b[0m \u001b[0mclfs\u001b[0m \u001b[1;33m=\u001b[0m \u001b[0mself\u001b[0m\u001b[1;33m.\u001b[0m\u001b[0m_validate_estimators\u001b[0m\u001b[1;33m(\u001b[0m\u001b[1;33m)\u001b[0m\u001b[1;33m\u001b[0m\u001b[1;33m\u001b[0m\u001b[0m\n\u001b[0m\u001b[0;32m     58\u001b[0m \u001b[1;33m\u001b[0m\u001b[0m\n\u001b[0;32m     59\u001b[0m         if (self.weights is not None and\n",
      "\u001b[1;32m~\\Anaconda3\\envs\\tutorial\\lib\\site-packages\\sklearn\\ensemble\\_base.py\u001b[0m in \u001b[0;36m_validate_estimators\u001b[1;34m(self)\u001b[0m\n\u001b[0;32m    249\u001b[0m                 raise ValueError(\n\u001b[0;32m    250\u001b[0m                     \"The estimator {} should be a {}.\".format(\n\u001b[1;32m--> 251\u001b[1;33m                         \u001b[0mest\u001b[0m\u001b[1;33m.\u001b[0m\u001b[0m__class__\u001b[0m\u001b[1;33m.\u001b[0m\u001b[0m__name__\u001b[0m\u001b[1;33m,\u001b[0m \u001b[0mis_estimator_type\u001b[0m\u001b[1;33m.\u001b[0m\u001b[0m__name__\u001b[0m\u001b[1;33m[\u001b[0m\u001b[1;36m3\u001b[0m\u001b[1;33m:\u001b[0m\u001b[1;33m]\u001b[0m\u001b[1;33m\u001b[0m\u001b[1;33m\u001b[0m\u001b[0m\n\u001b[0m\u001b[0;32m    252\u001b[0m                     )\n\u001b[0;32m    253\u001b[0m                 )\n",
      "\u001b[1;31mValueError\u001b[0m: The estimator KerasClassifier should be a classifier."
     ]
    }
   ],
   "source": [
    "ensemble_clf.fit(X_train, y_train)"
   ]
  },
  {
   "cell_type": "code",
   "execution_count": null,
   "metadata": {},
   "outputs": [],
   "source": [
    "y_pred = ensemble_clf.predict(X_test)"
   ]
  },
  {
   "cell_type": "code",
   "execution_count": null,
   "metadata": {},
   "outputs": [],
   "source": [
    "print('Test accuracy:', accuracy_score(y_pred, y_test))"
   ]
  },
  {
   "cell_type": "markdown",
   "metadata": {},
   "source": [
    "---"
   ]
  },
  {
   "cell_type": "markdown",
   "metadata": {},
   "source": [
    "# Advanced MLP - 2\n",
    "    - More training set\n",
    "    - Weight Initialization scheme\n",
    "    - Nonlinearity (Activation function)\n",
    "    - Optimizers: adaptvie\n",
    "    - Batch Normalization\n",
    "    - Dropout (Regularization)\n",
    "    - Model Ensemble"
   ]
  },
  {
   "cell_type": "code",
   "execution_count": 61,
   "metadata": {
    "ExecuteTime": {
     "end_time": "2020-01-27T14:36:42.959753Z",
     "start_time": "2020-01-27T14:36:42.569795Z"
    }
   },
   "outputs": [
    {
     "name": "stdout",
     "output_type": "stream",
     "text": [
      "(60000, 784)\n",
      "(10000, 784)\n",
      "(60000,)\n",
      "(10000,)\n"
     ]
    }
   ],
   "source": [
    "(X_train, y_train), (X_test, y_test) = mnist.load_data()\n",
    "\n",
    "# reshaping X data: (n, 28, 28) => (n, 784)\n",
    "X_train = X_train.reshape((X_train.shape[0], X_train.shape[1] * X_train.shape[2]))\n",
    "X_test = X_test.reshape((X_test.shape[0], X_test.shape[1] * X_test.shape[2]))\n",
    "\n",
    "# We use all training data and validate on all test data\n",
    "print(X_train.shape)\n",
    "print(X_test.shape)\n",
    "print(y_train.shape)\n",
    "print(y_test.shape)"
   ]
  },
  {
   "cell_type": "code",
   "execution_count": 62,
   "metadata": {
    "ExecuteTime": {
     "end_time": "2020-01-27T14:36:55.140202Z",
     "start_time": "2020-01-27T14:36:55.130229Z"
    }
   },
   "outputs": [],
   "source": [
    "def mlp_model():\n",
    "    model = Sequential()\n",
    "    \n",
    "    model.add(Dense(50, input_shape = (784, ), kernel_initializer='he_normal'))\n",
    "    model.add(BatchNormalization())\n",
    "    model.add(Activation('relu'))\n",
    "    model.add(Dropout(0.2))\n",
    "    model.add(Dense(50, kernel_initializer='he_normal'))\n",
    "    model.add(BatchNormalization())\n",
    "    model.add(Activation('relu'))    \n",
    "    model.add(Dropout(0.2))\n",
    "    model.add(Dense(50, kernel_initializer='he_normal'))\n",
    "    model.add(BatchNormalization())\n",
    "    model.add(Activation('relu'))\n",
    "    model.add(Dropout(0.2))\n",
    "    model.add(Dense(50, kernel_initializer='he_normal'))\n",
    "    model.add(BatchNormalization())\n",
    "    model.add(Activation('relu'))\n",
    "    model.add(Dropout(0.2))\n",
    "    model.add(Dense(10, kernel_initializer='he_normal'))\n",
    "    model.add(Activation('softmax'))\n",
    "    \n",
    "    adam = optimizers.Adam(lr = 0.001)\n",
    "    model.compile(optimizer = adam, loss = 'categorical_crossentropy', metrics = ['accuracy'])\n",
    "    \n",
    "    return model"
   ]
  },
  {
   "cell_type": "code",
   "execution_count": 26,
   "metadata": {
    "ExecuteTime": {
     "end_time": "2020-01-21T07:02:22.954890Z",
     "start_time": "2020-01-21T07:02:22.947797Z"
    }
   },
   "outputs": [],
   "source": [
    "# create 5 models to ensemble\n",
    "from keras.callbacks import LambdaCallback\n",
    "from keras.callbacks import EarlyStopping\n",
    "from keras.layers import LeakyReLU\n",
    "\n",
    "\n",
    "def lambdaf_(epoch, logs, step) : \n",
    "    if epoch % step == 0 : print(f\"{epoch} => {logs}\")                \n",
    "        \n",
    "def printepoch(step) :   \n",
    "    return LambdaCallback(on_epoch_end=lambda epoch, logs: lambdaf_(epoch, logs, step)  )\n",
    "\n",
    "model1 = KerasClassifier(build_fn = mlp_model, epochs = 100)\n",
    "model2 = KerasClassifier(build_fn = mlp_model, epochs = 100)\n",
    "model3 = KerasClassifier(build_fn = mlp_model, epochs = 100)\n",
    "model4 = KerasClassifier(build_fn = mlp_model, epochs = 100)\n",
    "model5 = KerasClassifier(build_fn = mlp_model, epochs = 100)\n",
    "\n"
   ]
  },
  {
   "cell_type": "code",
   "execution_count": 27,
   "metadata": {
    "ExecuteTime": {
     "end_time": "2020-01-21T07:02:23.263832Z",
     "start_time": "2020-01-21T07:02:23.259842Z"
    }
   },
   "outputs": [],
   "source": [
    "#ensemble_clf = VotingClassifier(estimators = [('model1', model1), ('model2', model2), ('model3', model3), ('model4', model4), ('model5', model5)], voting = 'soft')\n",
    "ensemble_clf = VotingClassifier(estimators = [('model1', model1), \n",
    "                                              ('model2', model2), \n",
    "                                              ('model3', model3), \n",
    "                                              ('model4', model4), \n",
    "                                              ('model5', model5)], \n",
    "                                voting = 'soft')"
   ]
  },
  {
   "cell_type": "code",
   "execution_count": 28,
   "metadata": {
    "ExecuteTime": {
     "end_time": "2020-01-21T07:36:22.611269Z",
     "start_time": "2020-01-21T07:02:23.851821Z"
    }
   },
   "outputs": [
    {
     "name": "stdout",
     "output_type": "stream",
     "text": [
      "Epoch 1/100\n",
      "60000/60000 [==============================] - 5s 76us/step - loss: 0.7676 - accuracy: 0.7629\n",
      "Epoch 2/100\n",
      "60000/60000 [==============================] - 4s 71us/step - loss: 0.4351 - accuracy: 0.8752\n",
      "Epoch 3/100\n",
      "60000/60000 [==============================] - 4s 69us/step - loss: 0.3672 - accuracy: 0.8946\n",
      "Epoch 4/100\n",
      "60000/60000 [==============================] - 4s 71us/step - loss: 0.3217 - accuracy: 0.9076\n",
      "Epoch 5/100\n",
      "60000/60000 [==============================] - 4s 69us/step - loss: 0.3009 - accuracy: 0.9145\n",
      "Epoch 6/100\n",
      "60000/60000 [==============================] - 4s 68us/step - loss: 0.2813 - accuracy: 0.9194\n",
      "Epoch 7/100\n",
      "60000/60000 [==============================] - 4s 69us/step - loss: 0.2689 - accuracy: 0.9246\n",
      "Epoch 8/100\n",
      "60000/60000 [==============================] - 4s 68us/step - loss: 0.2601 - accuracy: 0.9262\n",
      "Epoch 9/100\n",
      "60000/60000 [==============================] - 4s 67us/step - loss: 0.2502 - accuracy: 0.9288\n",
      "Epoch 10/100\n",
      "60000/60000 [==============================] - 4s 68us/step - loss: 0.2382 - accuracy: 0.9325\n",
      "Epoch 11/100\n",
      "60000/60000 [==============================] - 4s 68us/step - loss: 0.2306 - accuracy: 0.9339\n",
      "Epoch 12/100\n",
      "60000/60000 [==============================] - 4s 68us/step - loss: 0.2235 - accuracy: 0.9359\n",
      "Epoch 13/100\n",
      "60000/60000 [==============================] - 4s 67us/step - loss: 0.2214 - accuracy: 0.9370\n",
      "Epoch 14/100\n",
      "60000/60000 [==============================] - 4s 69us/step - loss: 0.2155 - accuracy: 0.9386\n",
      "Epoch 15/100\n",
      "60000/60000 [==============================] - 4s 69us/step - loss: 0.2129 - accuracy: 0.9391\n",
      "Epoch 16/100\n",
      "60000/60000 [==============================] - 4s 68us/step - loss: 0.2139 - accuracy: 0.9390\n",
      "Epoch 17/100\n",
      "60000/60000 [==============================] - 4s 68us/step - loss: 0.2079 - accuracy: 0.9401\n",
      "Epoch 18/100\n",
      "60000/60000 [==============================] - 4s 67us/step - loss: 0.2074 - accuracy: 0.9409\n",
      "Epoch 19/100\n",
      "60000/60000 [==============================] - 4s 67us/step - loss: 0.2010 - accuracy: 0.9428\n",
      "Epoch 20/100\n",
      "60000/60000 [==============================] - 4s 66us/step - loss: 0.2033 - accuracy: 0.9417\n",
      "Epoch 21/100\n",
      "60000/60000 [==============================] - 4s 67us/step - loss: 0.1913 - accuracy: 0.9457\n",
      "Epoch 22/100\n",
      "60000/60000 [==============================] - 4s 68us/step - loss: 0.1946 - accuracy: 0.9443\n",
      "Epoch 23/100\n",
      "60000/60000 [==============================] - 4s 66us/step - loss: 0.1911 - accuracy: 0.9451\n",
      "Epoch 24/100\n",
      "60000/60000 [==============================] - 4s 67us/step - loss: 0.1887 - accuracy: 0.9472\n",
      "Epoch 25/100\n",
      "60000/60000 [==============================] - 4s 67us/step - loss: 0.1905 - accuracy: 0.9456\n",
      "Epoch 26/100\n",
      "60000/60000 [==============================] - 4s 67us/step - loss: 0.1878 - accuracy: 0.9463\n",
      "Epoch 27/100\n",
      "60000/60000 [==============================] - 4s 67us/step - loss: 0.1820 - accuracy: 0.9476\n",
      "Epoch 28/100\n",
      "60000/60000 [==============================] - 4s 67us/step - loss: 0.1839 - accuracy: 0.9463\n",
      "Epoch 29/100\n",
      "60000/60000 [==============================] - 4s 67us/step - loss: 0.1803 - accuracy: 0.9476\n",
      "Epoch 30/100\n",
      "60000/60000 [==============================] - 4s 67us/step - loss: 0.1807 - accuracy: 0.9477 0s - loss: 0.1791 - accuracy: \n",
      "Epoch 31/100\n",
      "60000/60000 [==============================] - 4s 67us/step - loss: 0.1783 - accuracy: 0.9489\n",
      "Epoch 32/100\n",
      "60000/60000 [==============================] - 4s 66us/step - loss: 0.1728 - accuracy: 0.9510 0s - loss: 0.1724 - accuracy: \n",
      "Epoch 33/100\n",
      "60000/60000 [==============================] - 4s 67us/step - loss: 0.1733 - accuracy: 0.9499\n",
      "Epoch 34/100\n",
      "60000/60000 [==============================] - 4s 67us/step - loss: 0.1749 - accuracy: 0.9499\n",
      "Epoch 35/100\n",
      "60000/60000 [==============================] - 4s 67us/step - loss: 0.1758 - accuracy: 0.9487\n",
      "Epoch 36/100\n",
      "60000/60000 [==============================] - 4s 67us/step - loss: 0.1682 - accuracy: 0.9510\n",
      "Epoch 37/100\n",
      "60000/60000 [==============================] - 4s 67us/step - loss: 0.1741 - accuracy: 0.9503\n",
      "Epoch 38/100\n",
      "60000/60000 [==============================] - 4s 67us/step - loss: 0.1684 - accuracy: 0.9515\n",
      "Epoch 39/100\n",
      "60000/60000 [==============================] - 4s 67us/step - loss: 0.1709 - accuracy: 0.9508\n",
      "Epoch 40/100\n",
      "60000/60000 [==============================] - 4s 67us/step - loss: 0.1667 - accuracy: 0.9522\n",
      "Epoch 41/100\n",
      "60000/60000 [==============================] - 4s 67us/step - loss: 0.1666 - accuracy: 0.9519\n",
      "Epoch 42/100\n",
      "60000/60000 [==============================] - 4s 67us/step - loss: 0.1650 - accuracy: 0.9522\n",
      "Epoch 43/100\n",
      "60000/60000 [==============================] - 4s 66us/step - loss: 0.1653 - accuracy: 0.9521\n",
      "Epoch 44/100\n",
      "60000/60000 [==============================] - 4s 67us/step - loss: 0.1628 - accuracy: 0.9521\n",
      "Epoch 45/100\n",
      "60000/60000 [==============================] - 4s 66us/step - loss: 0.1693 - accuracy: 0.9518\n",
      "Epoch 46/100\n",
      "60000/60000 [==============================] - 4s 67us/step - loss: 0.1623 - accuracy: 0.9533 0s - loss: 0.1623 - accuracy: 0.95\n",
      "Epoch 47/100\n",
      "60000/60000 [==============================] - 4s 67us/step - loss: 0.1635 - accuracy: 0.9521\n",
      "Epoch 48/100\n",
      "60000/60000 [==============================] - 4s 67us/step - loss: 0.1644 - accuracy: 0.9523\n",
      "Epoch 49/100\n",
      "60000/60000 [==============================] - 4s 68us/step - loss: 0.1608 - accuracy: 0.9528\n",
      "Epoch 50/100\n",
      "60000/60000 [==============================] - 4s 74us/step - loss: 0.1613 - accuracy: 0.9534\n",
      "Epoch 51/100\n",
      "60000/60000 [==============================] - 4s 69us/step - loss: 0.1612 - accuracy: 0.9521\n",
      "Epoch 52/100\n",
      "60000/60000 [==============================] - 4s 69us/step - loss: 0.1607 - accuracy: 0.9532\n",
      "Epoch 53/100\n",
      "60000/60000 [==============================] - 4s 68us/step - loss: 0.1583 - accuracy: 0.9543\n",
      "Epoch 54/100\n",
      "60000/60000 [==============================] - 4s 69us/step - loss: 0.1599 - accuracy: 0.9531\n",
      "Epoch 55/100\n",
      "60000/60000 [==============================] - 4s 66us/step - loss: 0.1525 - accuracy: 0.9560\n",
      "Epoch 56/100\n",
      "60000/60000 [==============================] - 4s 68us/step - loss: 0.1545 - accuracy: 0.9552\n",
      "Epoch 57/100\n",
      "60000/60000 [==============================] - 4s 68us/step - loss: 0.1583 - accuracy: 0.9545\n",
      "Epoch 58/100\n",
      "60000/60000 [==============================] - 4s 68us/step - loss: 0.1557 - accuracy: 0.9560\n",
      "Epoch 59/100\n",
      "60000/60000 [==============================] - 4s 75us/step - loss: 0.1582 - accuracy: 0.9548\n",
      "Epoch 60/100\n",
      "60000/60000 [==============================] - 5s 76us/step - loss: 0.1576 - accuracy: 0.9543\n",
      "Epoch 61/100\n",
      "60000/60000 [==============================] - 5s 77us/step - loss: 0.1549 - accuracy: 0.9557\n",
      "Epoch 62/100\n",
      "60000/60000 [==============================] - 5s 80us/step - loss: 0.1556 - accuracy: 0.9550\n",
      "Epoch 63/100\n",
      "60000/60000 [==============================] - 5s 78us/step - loss: 0.1516 - accuracy: 0.9548\n",
      "Epoch 64/100\n",
      "60000/60000 [==============================] - 5s 78us/step - loss: 0.1533 - accuracy: 0.9563\n",
      "Epoch 65/100\n",
      "60000/60000 [==============================] - 5s 79us/step - loss: 0.1504 - accuracy: 0.9564\n",
      "Epoch 66/100\n",
      "60000/60000 [==============================] - 5s 80us/step - loss: 0.1504 - accuracy: 0.9570\n",
      "Epoch 67/100\n",
      "60000/60000 [==============================] - 4s 70us/step - loss: 0.1510 - accuracy: 0.9564\n",
      "Epoch 68/100\n",
      "60000/60000 [==============================] - 4s 67us/step - loss: 0.1529 - accuracy: 0.9558\n",
      "Epoch 69/100\n",
      "60000/60000 [==============================] - 4s 67us/step - loss: 0.1509 - accuracy: 0.9560\n",
      "Epoch 70/100\n",
      "60000/60000 [==============================] - 5s 80us/step - loss: 0.1509 - accuracy: 0.9568\n",
      "Epoch 71/100\n",
      "60000/60000 [==============================] - 5s 82us/step - loss: 0.1501 - accuracy: 0.9556\n",
      "Epoch 72/100\n",
      "60000/60000 [==============================] - 5s 79us/step - loss: 0.1486 - accuracy: 0.9569\n",
      "Epoch 73/100\n",
      "60000/60000 [==============================] - 4s 71us/step - loss: 0.1484 - accuracy: 0.9562\n",
      "Epoch 74/100\n",
      "60000/60000 [==============================] - 4s 67us/step - loss: 0.1527 - accuracy: 0.9553\n",
      "Epoch 75/100\n",
      "60000/60000 [==============================] - 4s 67us/step - loss: 0.1478 - accuracy: 0.9570\n",
      "Epoch 76/100\n",
      "60000/60000 [==============================] - 4s 68us/step - loss: 0.1444 - accuracy: 0.9579\n",
      "Epoch 77/100\n",
      "60000/60000 [==============================] - 4s 65us/step - loss: 0.1479 - accuracy: 0.9567\n",
      "Epoch 78/100\n",
      "60000/60000 [==============================] - 4s 66us/step - loss: 0.1477 - accuracy: 0.9585\n",
      "Epoch 79/100\n",
      "60000/60000 [==============================] - 4s 73us/step - loss: 0.1478 - accuracy: 0.9571\n",
      "Epoch 80/100\n",
      "60000/60000 [==============================] - 4s 75us/step - loss: 0.1434 - accuracy: 0.9582\n",
      "Epoch 81/100\n",
      "60000/60000 [==============================] - 4s 69us/step - loss: 0.1488 - accuracy: 0.9580\n",
      "Epoch 82/100\n",
      "60000/60000 [==============================] - 4s 66us/step - loss: 0.1433 - accuracy: 0.9576\n",
      "Epoch 83/100\n",
      "60000/60000 [==============================] - 4s 66us/step - loss: 0.1461 - accuracy: 0.9575\n",
      "Epoch 84/100\n",
      "60000/60000 [==============================] - 4s 67us/step - loss: 0.1428 - accuracy: 0.9583\n",
      "Epoch 85/100\n",
      "60000/60000 [==============================] - 4s 67us/step - loss: 0.1459 - accuracy: 0.9567\n",
      "Epoch 86/100\n",
      "60000/60000 [==============================] - 4s 66us/step - loss: 0.1472 - accuracy: 0.9564\n",
      "Epoch 87/100\n",
      "60000/60000 [==============================] - 4s 65us/step - loss: 0.1437 - accuracy: 0.9584\n",
      "Epoch 88/100\n",
      "60000/60000 [==============================] - 4s 65us/step - loss: 0.1468 - accuracy: 0.9567\n",
      "Epoch 89/100\n",
      "60000/60000 [==============================] - 4s 65us/step - loss: 0.1424 - accuracy: 0.9584\n",
      "Epoch 90/100\n",
      "60000/60000 [==============================] - 4s 65us/step - loss: 0.1433 - accuracy: 0.9588\n",
      "Epoch 91/100\n",
      "60000/60000 [==============================] - 4s 65us/step - loss: 0.1436 - accuracy: 0.9575\n",
      "Epoch 92/100\n",
      "60000/60000 [==============================] - 4s 65us/step - loss: 0.1451 - accuracy: 0.9577\n",
      "Epoch 93/100\n",
      "60000/60000 [==============================] - 4s 65us/step - loss: 0.1426 - accuracy: 0.9583\n",
      "Epoch 94/100\n",
      "60000/60000 [==============================] - 4s 65us/step - loss: 0.1463 - accuracy: 0.9563\n",
      "Epoch 95/100\n",
      "60000/60000 [==============================] - 4s 65us/step - loss: 0.1437 - accuracy: 0.9585\n",
      "Epoch 96/100\n",
      "60000/60000 [==============================] - 4s 65us/step - loss: 0.1445 - accuracy: 0.9578\n",
      "Epoch 97/100\n",
      "60000/60000 [==============================] - 4s 65us/step - loss: 0.1466 - accuracy: 0.9573\n",
      "Epoch 98/100\n",
      "60000/60000 [==============================] - 4s 65us/step - loss: 0.1427 - accuracy: 0.9584\n",
      "Epoch 99/100\n",
      "60000/60000 [==============================] - 4s 65us/step - loss: 0.1405 - accuracy: 0.9601\n",
      "Epoch 100/100\n",
      "60000/60000 [==============================] - 4s 65us/step - loss: 0.1415 - accuracy: 0.9588\n",
      "Epoch 1/100\n",
      "60000/60000 [==============================] - 4s 66us/step - loss: 0.7709 - accuracy: 0.7653\n",
      "Epoch 2/100\n",
      "60000/60000 [==============================] - 4s 64us/step - loss: 0.4451 - accuracy: 0.8718\n",
      "Epoch 3/100\n",
      "60000/60000 [==============================] - 4s 64us/step - loss: 0.3756 - accuracy: 0.8926 0s - loss: 0\n",
      "Epoch 4/100\n",
      "60000/60000 [==============================] - 4s 68us/step - loss: 0.3352 - accuracy: 0.9034\n",
      "Epoch 5/100\n",
      "60000/60000 [==============================] - 4s 67us/step - loss: 0.3019 - accuracy: 0.9143\n",
      "Epoch 6/100\n",
      "60000/60000 [==============================] - 4s 67us/step - loss: 0.2859 - accuracy: 0.9182\n",
      "Epoch 7/100\n",
      "60000/60000 [==============================] - 4s 66us/step - loss: 0.2733 - accuracy: 0.9222\n",
      "Epoch 8/100\n",
      "60000/60000 [==============================] - 4s 68us/step - loss: 0.2642 - accuracy: 0.9240\n",
      "Epoch 9/100\n",
      "60000/60000 [==============================] - 4s 66us/step - loss: 0.2496 - accuracy: 0.9281\n",
      "Epoch 10/100\n",
      "60000/60000 [==============================] - 4s 67us/step - loss: 0.2398 - accuracy: 0.9309\n",
      "Epoch 11/100\n",
      "60000/60000 [==============================] - 4s 66us/step - loss: 0.2396 - accuracy: 0.9317\n",
      "Epoch 12/100\n",
      "60000/60000 [==============================] - 4s 67us/step - loss: 0.2262 - accuracy: 0.9336\n",
      "Epoch 13/100\n",
      "60000/60000 [==============================] - 4s 66us/step - loss: 0.2292 - accuracy: 0.9337\n",
      "Epoch 14/100\n",
      "60000/60000 [==============================] - 4s 66us/step - loss: 0.2193 - accuracy: 0.9372\n",
      "Epoch 15/100\n",
      "60000/60000 [==============================] - 4s 66us/step - loss: 0.2149 - accuracy: 0.9392\n",
      "Epoch 16/100\n",
      "60000/60000 [==============================] - 4s 66us/step - loss: 0.2120 - accuracy: 0.9389\n",
      "Epoch 17/100\n",
      "60000/60000 [==============================] - 4s 66us/step - loss: 0.2082 - accuracy: 0.9405\n",
      "Epoch 18/100\n",
      "60000/60000 [==============================] - 4s 66us/step - loss: 0.2064 - accuracy: 0.9405\n",
      "Epoch 19/100\n",
      "60000/60000 [==============================] - 4s 67us/step - loss: 0.2044 - accuracy: 0.9413\n",
      "Epoch 20/100\n",
      "60000/60000 [==============================] - 4s 67us/step - loss: 0.1991 - accuracy: 0.9433\n",
      "Epoch 21/100\n",
      "60000/60000 [==============================] - 4s 66us/step - loss: 0.1962 - accuracy: 0.9436\n",
      "Epoch 22/100\n",
      "60000/60000 [==============================] - 4s 67us/step - loss: 0.1956 - accuracy: 0.9430\n",
      "Epoch 23/100\n",
      "60000/60000 [==============================] - 4s 68us/step - loss: 0.1919 - accuracy: 0.9437\n",
      "Epoch 24/100\n",
      "60000/60000 [==============================] - 4s 67us/step - loss: 0.1876 - accuracy: 0.9453\n",
      "Epoch 25/100\n",
      "60000/60000 [==============================] - 4s 67us/step - loss: 0.1843 - accuracy: 0.9465\n",
      "Epoch 26/100\n",
      "60000/60000 [==============================] - 4s 66us/step - loss: 0.1861 - accuracy: 0.9461\n",
      "Epoch 27/100\n",
      "60000/60000 [==============================] - 4s 68us/step - loss: 0.1804 - accuracy: 0.9482\n",
      "Epoch 28/100\n",
      "60000/60000 [==============================] - 4s 66us/step - loss: 0.1842 - accuracy: 0.9466\n",
      "Epoch 29/100\n",
      "60000/60000 [==============================] - 4s 68us/step - loss: 0.1823 - accuracy: 0.9467\n",
      "Epoch 30/100\n",
      "60000/60000 [==============================] - 4s 66us/step - loss: 0.1780 - accuracy: 0.9485\n",
      "Epoch 31/100\n",
      "60000/60000 [==============================] - 4s 66us/step - loss: 0.1768 - accuracy: 0.9485\n",
      "Epoch 32/100\n",
      "60000/60000 [==============================] - 4s 66us/step - loss: 0.1750 - accuracy: 0.9487\n",
      "Epoch 33/100\n",
      "60000/60000 [==============================] - 4s 66us/step - loss: 0.1775 - accuracy: 0.9499\n",
      "Epoch 34/100\n",
      "60000/60000 [==============================] - 4s 67us/step - loss: 0.1775 - accuracy: 0.9494\n",
      "Epoch 35/100\n",
      "60000/60000 [==============================] - 4s 68us/step - loss: 0.1792 - accuracy: 0.9485\n",
      "Epoch 36/100\n",
      "60000/60000 [==============================] - 4s 67us/step - loss: 0.1728 - accuracy: 0.9501\n",
      "Epoch 37/100\n",
      "60000/60000 [==============================] - 4s 68us/step - loss: 0.1698 - accuracy: 0.9501\n",
      "Epoch 38/100\n",
      "60000/60000 [==============================] - 4s 70us/step - loss: 0.1703 - accuracy: 0.9509 0s - loss: 0.1709 - accu\n",
      "Epoch 39/100\n",
      "60000/60000 [==============================] - 4s 66us/step - loss: 0.1675 - accuracy: 0.9508\n",
      "Epoch 40/100\n",
      "60000/60000 [==============================] - 4s 68us/step - loss: 0.1714 - accuracy: 0.9502\n",
      "Epoch 41/100\n",
      "60000/60000 [==============================] - 4s 67us/step - loss: 0.1688 - accuracy: 0.9516\n",
      "Epoch 42/100\n",
      "60000/60000 [==============================] - 4s 67us/step - loss: 0.1689 - accuracy: 0.9510\n",
      "Epoch 43/100\n",
      "60000/60000 [==============================] - 4s 67us/step - loss: 0.1638 - accuracy: 0.9524\n",
      "Epoch 44/100\n",
      "60000/60000 [==============================] - 4s 67us/step - loss: 0.1693 - accuracy: 0.9510 0s\n",
      "Epoch 45/100\n",
      "60000/60000 [==============================] - 4s 67us/step - loss: 0.1652 - accuracy: 0.9531\n",
      "Epoch 46/100\n",
      "60000/60000 [==============================] - 4s 66us/step - loss: 0.1653 - accuracy: 0.9518\n",
      "Epoch 47/100\n",
      "60000/60000 [==============================] - 4s 67us/step - loss: 0.1625 - accuracy: 0.9525\n",
      "Epoch 48/100\n",
      "60000/60000 [==============================] - 4s 67us/step - loss: 0.1628 - accuracy: 0.9521\n",
      "Epoch 49/100\n",
      "60000/60000 [==============================] - 4s 67us/step - loss: 0.1609 - accuracy: 0.9535\n",
      "Epoch 50/100\n",
      "60000/60000 [==============================] - 4s 67us/step - loss: 0.1606 - accuracy: 0.9538\n",
      "Epoch 51/100\n",
      "60000/60000 [==============================] - 4s 67us/step - loss: 0.1649 - accuracy: 0.9523\n",
      "Epoch 52/100\n"
     ]
    },
    {
     "name": "stdout",
     "output_type": "stream",
     "text": [
      "60000/60000 [==============================] - 4s 65us/step - loss: 0.1601 - accuracy: 0.9536\n",
      "Epoch 53/100\n",
      "60000/60000 [==============================] - 4s 65us/step - loss: 0.1562 - accuracy: 0.9534\n",
      "Epoch 54/100\n",
      "60000/60000 [==============================] - 4s 66us/step - loss: 0.1595 - accuracy: 0.9534\n",
      "Epoch 55/100\n",
      "60000/60000 [==============================] - 4s 65us/step - loss: 0.1586 - accuracy: 0.9540\n",
      "Epoch 56/100\n",
      "60000/60000 [==============================] - 4s 65us/step - loss: 0.1571 - accuracy: 0.9555\n",
      "Epoch 57/100\n",
      "60000/60000 [==============================] - 4s 66us/step - loss: 0.1585 - accuracy: 0.9541\n",
      "Epoch 58/100\n",
      "60000/60000 [==============================] - 4s 66us/step - loss: 0.1592 - accuracy: 0.9544\n",
      "Epoch 59/100\n",
      "60000/60000 [==============================] - 4s 68us/step - loss: 0.1563 - accuracy: 0.9547\n",
      "Epoch 60/100\n",
      "60000/60000 [==============================] - 4s 67us/step - loss: 0.1550 - accuracy: 0.9549\n",
      "Epoch 61/100\n",
      "60000/60000 [==============================] - 4s 66us/step - loss: 0.1501 - accuracy: 0.9561\n",
      "Epoch 62/100\n",
      "60000/60000 [==============================] - 4s 65us/step - loss: 0.1540 - accuracy: 0.9549\n",
      "Epoch 63/100\n",
      "60000/60000 [==============================] - 4s 66us/step - loss: 0.1532 - accuracy: 0.9547\n",
      "Epoch 64/100\n",
      "60000/60000 [==============================] - 4s 66us/step - loss: 0.1563 - accuracy: 0.9542\n",
      "Epoch 65/100\n",
      "60000/60000 [==============================] - 4s 66us/step - loss: 0.1502 - accuracy: 0.9571\n",
      "Epoch 66/100\n",
      "60000/60000 [==============================] - 4s 66us/step - loss: 0.1532 - accuracy: 0.9561\n",
      "Epoch 67/100\n",
      "60000/60000 [==============================] - 4s 66us/step - loss: 0.1556 - accuracy: 0.9540\n",
      "Epoch 68/100\n",
      "60000/60000 [==============================] - 4s 66us/step - loss: 0.1531 - accuracy: 0.9550\n",
      "Epoch 69/100\n",
      "60000/60000 [==============================] - 4s 66us/step - loss: 0.1518 - accuracy: 0.9560\n",
      "Epoch 70/100\n",
      "60000/60000 [==============================] - 4s 69us/step - loss: 0.1506 - accuracy: 0.9564\n",
      "Epoch 71/100\n",
      "60000/60000 [==============================] - 4s 66us/step - loss: 0.1521 - accuracy: 0.9555\n",
      "Epoch 72/100\n",
      "60000/60000 [==============================] - 4s 66us/step - loss: 0.1537 - accuracy: 0.9547\n",
      "Epoch 73/100\n",
      "60000/60000 [==============================] - 4s 66us/step - loss: 0.1499 - accuracy: 0.9564\n",
      "Epoch 74/100\n",
      "60000/60000 [==============================] - 4s 67us/step - loss: 0.1549 - accuracy: 0.9539\n",
      "Epoch 75/100\n",
      "60000/60000 [==============================] - 4s 66us/step - loss: 0.1528 - accuracy: 0.9558\n",
      "Epoch 76/100\n",
      "60000/60000 [==============================] - 4s 66us/step - loss: 0.1516 - accuracy: 0.9557\n",
      "Epoch 77/100\n",
      "60000/60000 [==============================] - 4s 67us/step - loss: 0.1470 - accuracy: 0.9573\n",
      "Epoch 78/100\n",
      "60000/60000 [==============================] - 4s 67us/step - loss: 0.1496 - accuracy: 0.9565\n",
      "Epoch 79/100\n",
      "60000/60000 [==============================] - 4s 66us/step - loss: 0.1554 - accuracy: 0.9553\n",
      "Epoch 80/100\n",
      "60000/60000 [==============================] - 4s 66us/step - loss: 0.1501 - accuracy: 0.9561\n",
      "Epoch 81/100\n",
      "60000/60000 [==============================] - 4s 66us/step - loss: 0.1489 - accuracy: 0.9566\n",
      "Epoch 82/100\n",
      "60000/60000 [==============================] - 4s 67us/step - loss: 0.1506 - accuracy: 0.9566\n",
      "Epoch 83/100\n",
      "60000/60000 [==============================] - 4s 66us/step - loss: 0.1464 - accuracy: 0.9573\n",
      "Epoch 84/100\n",
      "60000/60000 [==============================] - 4s 67us/step - loss: 0.1448 - accuracy: 0.9571\n",
      "Epoch 85/100\n",
      "60000/60000 [==============================] - 4s 66us/step - loss: 0.1481 - accuracy: 0.9575\n",
      "Epoch 86/100\n",
      "60000/60000 [==============================] - 4s 67us/step - loss: 0.1475 - accuracy: 0.9572\n",
      "Epoch 87/100\n",
      "60000/60000 [==============================] - 4s 65us/step - loss: 0.1505 - accuracy: 0.9568\n",
      "Epoch 88/100\n",
      "60000/60000 [==============================] - 4s 66us/step - loss: 0.1473 - accuracy: 0.9573\n",
      "Epoch 89/100\n",
      "60000/60000 [==============================] - 4s 68us/step - loss: 0.1456 - accuracy: 0.9582\n",
      "Epoch 90/100\n",
      "60000/60000 [==============================] - 4s 67us/step - loss: 0.1472 - accuracy: 0.9575\n",
      "Epoch 91/100\n",
      "60000/60000 [==============================] - 4s 65us/step - loss: 0.1407 - accuracy: 0.9589\n",
      "Epoch 92/100\n",
      "60000/60000 [==============================] - 4s 65us/step - loss: 0.1487 - accuracy: 0.9568\n",
      "Epoch 93/100\n",
      "60000/60000 [==============================] - 4s 66us/step - loss: 0.1426 - accuracy: 0.9584\n",
      "Epoch 94/100\n",
      "60000/60000 [==============================] - 4s 66us/step - loss: 0.1435 - accuracy: 0.9582\n",
      "Epoch 95/100\n",
      "60000/60000 [==============================] - 4s 66us/step - loss: 0.1419 - accuracy: 0.9584\n",
      "Epoch 96/100\n",
      "60000/60000 [==============================] - 4s 66us/step - loss: 0.1426 - accuracy: 0.9588\n",
      "Epoch 97/100\n",
      "60000/60000 [==============================] - 4s 66us/step - loss: 0.1440 - accuracy: 0.9574\n",
      "Epoch 98/100\n",
      "60000/60000 [==============================] - 4s 67us/step - loss: 0.1441 - accuracy: 0.9578\n",
      "Epoch 99/100\n",
      "60000/60000 [==============================] - 4s 66us/step - loss: 0.1424 - accuracy: 0.9579 0s - loss: 0.1418 - accura\n",
      "Epoch 100/100\n",
      "60000/60000 [==============================] - 4s 68us/step - loss: 0.1436 - accuracy: 0.9582\n",
      "Epoch 1/100\n",
      "60000/60000 [==============================] - 5s 76us/step - loss: 0.7337 - accuracy: 0.7740\n",
      "Epoch 2/100\n",
      "60000/60000 [==============================] - 4s 69us/step - loss: 0.4271 - accuracy: 0.8779\n",
      "Epoch 3/100\n",
      "60000/60000 [==============================] - 4s 67us/step - loss: 0.3626 - accuracy: 0.8956\n",
      "Epoch 4/100\n",
      "60000/60000 [==============================] - 4s 70us/step - loss: 0.3290 - accuracy: 0.9053\n",
      "Epoch 5/100\n",
      "60000/60000 [==============================] - 4s 70us/step - loss: 0.2963 - accuracy: 0.9147\n",
      "Epoch 6/100\n",
      "60000/60000 [==============================] - 4s 73us/step - loss: 0.2803 - accuracy: 0.9199\n",
      "Epoch 7/100\n",
      "60000/60000 [==============================] - 4s 74us/step - loss: 0.2661 - accuracy: 0.9244\n",
      "Epoch 8/100\n",
      "60000/60000 [==============================] - 4s 70us/step - loss: 0.2592 - accuracy: 0.9258\n",
      "Epoch 9/100\n",
      "60000/60000 [==============================] - 4s 68us/step - loss: 0.2513 - accuracy: 0.9286 0s - l\n",
      "Epoch 10/100\n",
      "60000/60000 [==============================] - 4s 69us/step - loss: 0.2404 - accuracy: 0.9308\n",
      "Epoch 11/100\n",
      "60000/60000 [==============================] - 4s 71us/step - loss: 0.2394 - accuracy: 0.9313\n",
      "Epoch 12/100\n",
      "60000/60000 [==============================] - 4s 70us/step - loss: 0.2276 - accuracy: 0.9346\n",
      "Epoch 13/100\n",
      "60000/60000 [==============================] - 4s 70us/step - loss: 0.2184 - accuracy: 0.9378\n",
      "Epoch 14/100\n",
      "60000/60000 [==============================] - 5s 78us/step - loss: 0.2152 - accuracy: 0.9381\n",
      "Epoch 15/100\n",
      "60000/60000 [==============================] - 5s 76us/step - loss: 0.2193 - accuracy: 0.9371\n",
      "Epoch 16/100\n",
      "60000/60000 [==============================] - 4s 75us/step - loss: 0.2107 - accuracy: 0.9387\n",
      "Epoch 17/100\n",
      "60000/60000 [==============================] - 4s 71us/step - loss: 0.2052 - accuracy: 0.9400\n",
      "Epoch 18/100\n",
      "60000/60000 [==============================] - 4s 73us/step - loss: 0.2085 - accuracy: 0.9401\n",
      "Epoch 19/100\n",
      "60000/60000 [==============================] - 4s 68us/step - loss: 0.2038 - accuracy: 0.9412\n",
      "Epoch 20/100\n",
      "60000/60000 [==============================] - 4s 67us/step - loss: 0.2036 - accuracy: 0.9416\n",
      "Epoch 21/100\n",
      "60000/60000 [==============================] - 4s 69us/step - loss: 0.2028 - accuracy: 0.9416\n",
      "Epoch 22/100\n",
      "60000/60000 [==============================] - 4s 67us/step - loss: 0.1951 - accuracy: 0.9434\n",
      "Epoch 23/100\n",
      "60000/60000 [==============================] - 4s 72us/step - loss: 0.1923 - accuracy: 0.9450\n",
      "Epoch 24/100\n",
      "60000/60000 [==============================] - 4s 67us/step - loss: 0.1886 - accuracy: 0.9455\n",
      "Epoch 25/100\n",
      "60000/60000 [==============================] - 4s 68us/step - loss: 0.1919 - accuracy: 0.9449\n",
      "Epoch 26/100\n",
      "60000/60000 [==============================] - 4s 73us/step - loss: 0.1860 - accuracy: 0.9454\n",
      "Epoch 27/100\n",
      "60000/60000 [==============================] - 4s 70us/step - loss: 0.1856 - accuracy: 0.9467\n",
      "Epoch 28/100\n",
      "60000/60000 [==============================] - 4s 68us/step - loss: 0.1813 - accuracy: 0.9474\n",
      "Epoch 29/100\n",
      "60000/60000 [==============================] - 4s 69us/step - loss: 0.1828 - accuracy: 0.9469\n",
      "Epoch 30/100\n",
      "60000/60000 [==============================] - 4s 69us/step - loss: 0.1803 - accuracy: 0.9471\n",
      "Epoch 31/100\n",
      "60000/60000 [==============================] - 4s 66us/step - loss: 0.1751 - accuracy: 0.9493\n",
      "Epoch 32/100\n",
      "60000/60000 [==============================] - 4s 67us/step - loss: 0.1770 - accuracy: 0.9482\n",
      "Epoch 33/100\n",
      "60000/60000 [==============================] - 4s 66us/step - loss: 0.1762 - accuracy: 0.9491\n",
      "Epoch 34/100\n",
      "60000/60000 [==============================] - 4s 67us/step - loss: 0.1796 - accuracy: 0.9485\n",
      "Epoch 35/100\n",
      "60000/60000 [==============================] - 4s 66us/step - loss: 0.1766 - accuracy: 0.9471\n",
      "Epoch 36/100\n",
      "60000/60000 [==============================] - 4s 66us/step - loss: 0.1753 - accuracy: 0.9498\n",
      "Epoch 37/100\n",
      "60000/60000 [==============================] - 4s 67us/step - loss: 0.1737 - accuracy: 0.9494\n",
      "Epoch 38/100\n",
      "60000/60000 [==============================] - 4s 67us/step - loss: 0.1716 - accuracy: 0.9503\n",
      "Epoch 39/100\n",
      "60000/60000 [==============================] - 4s 67us/step - loss: 0.1685 - accuracy: 0.9511\n",
      "Epoch 40/100\n",
      "60000/60000 [==============================] - 4s 67us/step - loss: 0.1680 - accuracy: 0.9511\n",
      "Epoch 41/100\n",
      "60000/60000 [==============================] - 4s 67us/step - loss: 0.1682 - accuracy: 0.9513\n",
      "Epoch 42/100\n",
      "60000/60000 [==============================] - 4s 67us/step - loss: 0.1685 - accuracy: 0.9515\n",
      "Epoch 43/100\n",
      "60000/60000 [==============================] - 4s 68us/step - loss: 0.1708 - accuracy: 0.9506\n",
      "Epoch 44/100\n",
      "60000/60000 [==============================] - 4s 68us/step - loss: 0.1656 - accuracy: 0.9532\n",
      "Epoch 45/100\n",
      "60000/60000 [==============================] - 4s 67us/step - loss: 0.1644 - accuracy: 0.9510\n",
      "Epoch 46/100\n",
      "60000/60000 [==============================] - 4s 67us/step - loss: 0.1654 - accuracy: 0.9516\n",
      "Epoch 47/100\n",
      "60000/60000 [==============================] - 4s 67us/step - loss: 0.1678 - accuracy: 0.9509\n",
      "Epoch 48/100\n",
      "60000/60000 [==============================] - 4s 66us/step - loss: 0.1606 - accuracy: 0.9522\n",
      "Epoch 49/100\n",
      "60000/60000 [==============================] - 4s 68us/step - loss: 0.1659 - accuracy: 0.9514\n",
      "Epoch 50/100\n",
      "60000/60000 [==============================] - 4s 67us/step - loss: 0.1647 - accuracy: 0.9506\n",
      "Epoch 51/100\n",
      "60000/60000 [==============================] - 4s 69us/step - loss: 0.1599 - accuracy: 0.9530\n",
      "Epoch 52/100\n",
      "60000/60000 [==============================] - 4s 67us/step - loss: 0.1612 - accuracy: 0.9533\n",
      "Epoch 53/100\n",
      "60000/60000 [==============================] - 4s 67us/step - loss: 0.1571 - accuracy: 0.9537\n",
      "Epoch 54/100\n",
      "60000/60000 [==============================] - 4s 66us/step - loss: 0.1625 - accuracy: 0.9528\n",
      "Epoch 55/100\n",
      "60000/60000 [==============================] - 4s 67us/step - loss: 0.1542 - accuracy: 0.9548\n",
      "Epoch 56/100\n",
      "60000/60000 [==============================] - 4s 73us/step - loss: 0.1616 - accuracy: 0.9531\n",
      "Epoch 57/100\n",
      "60000/60000 [==============================] - 4s 68us/step - loss: 0.1594 - accuracy: 0.9543\n",
      "Epoch 58/100\n",
      "60000/60000 [==============================] - 4s 68us/step - loss: 0.1574 - accuracy: 0.9535\n",
      "Epoch 59/100\n",
      "60000/60000 [==============================] - 4s 68us/step - loss: 0.1572 - accuracy: 0.9533\n",
      "Epoch 60/100\n",
      "60000/60000 [==============================] - 5s 77us/step - loss: 0.1564 - accuracy: 0.9539\n",
      "Epoch 61/100\n",
      "60000/60000 [==============================] - 5s 77us/step - loss: 0.1577 - accuracy: 0.9544\n",
      "Epoch 62/100\n",
      "60000/60000 [==============================] - 5s 77us/step - loss: 0.1549 - accuracy: 0.9547\n",
      "Epoch 63/100\n",
      "60000/60000 [==============================] - 5s 79us/step - loss: 0.1564 - accuracy: 0.9543\n",
      "Epoch 64/100\n",
      "60000/60000 [==============================] - 5s 77us/step - loss: 0.1513 - accuracy: 0.9551\n",
      "Epoch 65/100\n",
      "60000/60000 [==============================] - 4s 67us/step - loss: 0.1560 - accuracy: 0.9546\n",
      "Epoch 66/100\n",
      "60000/60000 [==============================] - 4s 67us/step - loss: 0.1531 - accuracy: 0.9550\n",
      "Epoch 67/100\n",
      "60000/60000 [==============================] - 4s 67us/step - loss: 0.1549 - accuracy: 0.9542\n",
      "Epoch 68/100\n",
      "60000/60000 [==============================] - 4s 67us/step - loss: 0.1554 - accuracy: 0.9551\n",
      "Epoch 69/100\n",
      "60000/60000 [==============================] - 4s 70us/step - loss: 0.1537 - accuracy: 0.9554\n",
      "Epoch 70/100\n",
      "60000/60000 [==============================] - 4s 68us/step - loss: 0.1476 - accuracy: 0.9568\n",
      "Epoch 71/100\n",
      "60000/60000 [==============================] - 4s 67us/step - loss: 0.1501 - accuracy: 0.9560\n",
      "Epoch 72/100\n",
      "60000/60000 [==============================] - 4s 68us/step - loss: 0.1533 - accuracy: 0.9561\n",
      "Epoch 73/100\n",
      "60000/60000 [==============================] - 4s 69us/step - loss: 0.1525 - accuracy: 0.9546\n",
      "Epoch 74/100\n",
      "60000/60000 [==============================] - 4s 68us/step - loss: 0.1502 - accuracy: 0.9560\n",
      "Epoch 75/100\n",
      "60000/60000 [==============================] - 4s 69us/step - loss: 0.1510 - accuracy: 0.9551\n",
      "Epoch 76/100\n",
      "60000/60000 [==============================] - 4s 68us/step - loss: 0.1503 - accuracy: 0.9566\n",
      "Epoch 77/100\n",
      "60000/60000 [==============================] - 4s 67us/step - loss: 0.1509 - accuracy: 0.9549\n",
      "Epoch 78/100\n",
      "60000/60000 [==============================] - 4s 67us/step - loss: 0.1504 - accuracy: 0.9556\n",
      "Epoch 79/100\n",
      "60000/60000 [==============================] - 4s 68us/step - loss: 0.1491 - accuracy: 0.9559\n",
      "Epoch 80/100\n",
      "60000/60000 [==============================] - 4s 69us/step - loss: 0.1468 - accuracy: 0.9564\n",
      "Epoch 81/100\n",
      "60000/60000 [==============================] - 5s 76us/step - loss: 0.1482 - accuracy: 0.9569\n",
      "Epoch 82/100\n",
      "60000/60000 [==============================] - 4s 67us/step - loss: 0.1493 - accuracy: 0.9562\n",
      "Epoch 83/100\n",
      "60000/60000 [==============================] - 4s 74us/step - loss: 0.1487 - accuracy: 0.9561\n",
      "Epoch 84/100\n",
      "60000/60000 [==============================] - 4s 71us/step - loss: 0.1460 - accuracy: 0.9557\n",
      "Epoch 85/100\n",
      "60000/60000 [==============================] - 4s 68us/step - loss: 0.1508 - accuracy: 0.9551\n",
      "Epoch 86/100\n",
      "60000/60000 [==============================] - 4s 68us/step - loss: 0.1474 - accuracy: 0.9573\n",
      "Epoch 87/100\n",
      "60000/60000 [==============================] - 4s 68us/step - loss: 0.1476 - accuracy: 0.9563\n",
      "Epoch 88/100\n",
      "60000/60000 [==============================] - 4s 67us/step - loss: 0.1466 - accuracy: 0.9575\n",
      "Epoch 89/100\n",
      "60000/60000 [==============================] - 4s 67us/step - loss: 0.1476 - accuracy: 0.9570\n",
      "Epoch 90/100\n",
      "60000/60000 [==============================] - 4s 67us/step - loss: 0.1471 - accuracy: 0.9563\n",
      "Epoch 91/100\n",
      "60000/60000 [==============================] - 4s 67us/step - loss: 0.1451 - accuracy: 0.9590\n",
      "Epoch 92/100\n",
      "60000/60000 [==============================] - 4s 66us/step - loss: 0.1428 - accuracy: 0.9579\n",
      "Epoch 93/100\n",
      "60000/60000 [==============================] - 4s 67us/step - loss: 0.1439 - accuracy: 0.9568\n",
      "Epoch 94/100\n",
      "60000/60000 [==============================] - 4s 68us/step - loss: 0.1443 - accuracy: 0.9575\n",
      "Epoch 95/100\n",
      "60000/60000 [==============================] - 4s 67us/step - loss: 0.1427 - accuracy: 0.9579 0s - loss: 0.1431 - accuracy: 0.\n",
      "Epoch 96/100\n",
      "60000/60000 [==============================] - 4s 67us/step - loss: 0.1430 - accuracy: 0.9584\n",
      "Epoch 97/100\n",
      "60000/60000 [==============================] - 4s 69us/step - loss: 0.1423 - accuracy: 0.9579\n",
      "Epoch 98/100\n",
      "60000/60000 [==============================] - 4s 67us/step - loss: 0.1426 - accuracy: 0.9574\n",
      "Epoch 99/100\n",
      "60000/60000 [==============================] - 4s 67us/step - loss: 0.1429 - accuracy: 0.9580\n",
      "Epoch 100/100\n",
      "60000/60000 [==============================] - 4s 68us/step - loss: 0.1451 - accuracy: 0.9588\n",
      "Epoch 1/100\n",
      "60000/60000 [==============================] - 4s 75us/step - loss: 0.7662 - accuracy: 0.7679\n",
      "Epoch 2/100\n",
      "60000/60000 [==============================] - 5s 76us/step - loss: 0.4340 - accuracy: 0.8759\n",
      "Epoch 3/100\n",
      "60000/60000 [==============================] - 4s 71us/step - loss: 0.3649 - accuracy: 0.8965\n",
      "Epoch 4/100\n"
     ]
    },
    {
     "name": "stdout",
     "output_type": "stream",
     "text": [
      "60000/60000 [==============================] - ETA: 0s - loss: 0.3249 - accuracy: 0.90 - 4s 68us/step - loss: 0.3244 - accuracy: 0.9081\n",
      "Epoch 5/100\n",
      "60000/60000 [==============================] - 4s 66us/step - loss: 0.2994 - accuracy: 0.9141\n",
      "Epoch 6/100\n",
      "60000/60000 [==============================] - 4s 66us/step - loss: 0.2814 - accuracy: 0.9192\n",
      "Epoch 7/100\n",
      "60000/60000 [==============================] - 4s 66us/step - loss: 0.2673 - accuracy: 0.9245\n",
      "Epoch 8/100\n",
      "60000/60000 [==============================] - 4s 66us/step - loss: 0.2540 - accuracy: 0.9270\n",
      "Epoch 9/100\n",
      "60000/60000 [==============================] - 4s 67us/step - loss: 0.2491 - accuracy: 0.9294\n",
      "Epoch 10/100\n",
      "60000/60000 [==============================] - 4s 66us/step - loss: 0.2383 - accuracy: 0.9315\n",
      "Epoch 11/100\n",
      "60000/60000 [==============================] - 4s 67us/step - loss: 0.2334 - accuracy: 0.9344\n",
      "Epoch 12/100\n",
      "60000/60000 [==============================] - 4s 67us/step - loss: 0.2241 - accuracy: 0.9348\n",
      "Epoch 13/100\n",
      "60000/60000 [==============================] - 4s 67us/step - loss: 0.2183 - accuracy: 0.9364\n",
      "Epoch 14/100\n",
      "60000/60000 [==============================] - 4s 67us/step - loss: 0.2150 - accuracy: 0.9379\n",
      "Epoch 15/100\n",
      "60000/60000 [==============================] - 4s 67us/step - loss: 0.2157 - accuracy: 0.9379\n",
      "Epoch 16/100\n",
      "60000/60000 [==============================] - 4s 67us/step - loss: 0.2108 - accuracy: 0.9392\n",
      "Epoch 17/100\n",
      "60000/60000 [==============================] - 4s 67us/step - loss: 0.2059 - accuracy: 0.9402\n",
      "Epoch 18/100\n",
      "60000/60000 [==============================] - 4s 67us/step - loss: 0.2043 - accuracy: 0.9411\n",
      "Epoch 19/100\n",
      "60000/60000 [==============================] - 4s 67us/step - loss: 0.2017 - accuracy: 0.9413\n",
      "Epoch 20/100\n",
      "60000/60000 [==============================] - 4s 67us/step - loss: 0.1954 - accuracy: 0.9431\n",
      "Epoch 21/100\n",
      "60000/60000 [==============================] - 4s 67us/step - loss: 0.1993 - accuracy: 0.9420\n",
      "Epoch 22/100\n",
      "60000/60000 [==============================] - 4s 67us/step - loss: 0.1934 - accuracy: 0.9446\n",
      "Epoch 23/100\n",
      "60000/60000 [==============================] - 4s 66us/step - loss: 0.1925 - accuracy: 0.9454\n",
      "Epoch 24/100\n",
      "60000/60000 [==============================] - 4s 66us/step - loss: 0.1910 - accuracy: 0.9441\n",
      "Epoch 25/100\n",
      "60000/60000 [==============================] - 4s 67us/step - loss: 0.1890 - accuracy: 0.9459\n",
      "Epoch 26/100\n",
      "60000/60000 [==============================] - 4s 67us/step - loss: 0.1854 - accuracy: 0.9472\n",
      "Epoch 27/100\n",
      "60000/60000 [==============================] - 4s 67us/step - loss: 0.1849 - accuracy: 0.9465\n",
      "Epoch 28/100\n",
      "60000/60000 [==============================] - 4s 68us/step - loss: 0.1855 - accuracy: 0.9467\n",
      "Epoch 29/100\n",
      "60000/60000 [==============================] - 4s 67us/step - loss: 0.1793 - accuracy: 0.9472\n",
      "Epoch 30/100\n",
      "60000/60000 [==============================] - 4s 70us/step - loss: 0.1824 - accuracy: 0.9477\n",
      "Epoch 31/100\n",
      "60000/60000 [==============================] - 4s 69us/step - loss: 0.1807 - accuracy: 0.9470\n",
      "Epoch 32/100\n",
      "60000/60000 [==============================] - 4s 70us/step - loss: 0.1808 - accuracy: 0.9473\n",
      "Epoch 33/100\n",
      "60000/60000 [==============================] - 4s 70us/step - loss: 0.1758 - accuracy: 0.9483\n",
      "Epoch 34/100\n",
      "60000/60000 [==============================] - 4s 70us/step - loss: 0.1725 - accuracy: 0.9494\n",
      "Epoch 35/100\n",
      "60000/60000 [==============================] - 4s 67us/step - loss: 0.1756 - accuracy: 0.9487\n",
      "Epoch 36/100\n",
      "60000/60000 [==============================] - 4s 67us/step - loss: 0.1763 - accuracy: 0.9488\n",
      "Epoch 37/100\n",
      "60000/60000 [==============================] - 4s 68us/step - loss: 0.1739 - accuracy: 0.9493\n",
      "Epoch 38/100\n",
      "60000/60000 [==============================] - 4s 68us/step - loss: 0.1726 - accuracy: 0.9499\n",
      "Epoch 39/100\n",
      "60000/60000 [==============================] - 4s 67us/step - loss: 0.1723 - accuracy: 0.9505\n",
      "Epoch 40/100\n",
      "60000/60000 [==============================] - 4s 68us/step - loss: 0.1688 - accuracy: 0.9514\n",
      "Epoch 41/100\n",
      "60000/60000 [==============================] - 4s 67us/step - loss: 0.1673 - accuracy: 0.9510\n",
      "Epoch 42/100\n",
      "60000/60000 [==============================] - 4s 68us/step - loss: 0.1674 - accuracy: 0.9509\n",
      "Epoch 43/100\n",
      "60000/60000 [==============================] - 4s 69us/step - loss: 0.1695 - accuracy: 0.9509\n",
      "Epoch 44/100\n",
      "60000/60000 [==============================] - 4s 68us/step - loss: 0.1685 - accuracy: 0.9516\n",
      "Epoch 45/100\n",
      "60000/60000 [==============================] - 4s 69us/step - loss: 0.1653 - accuracy: 0.9527\n",
      "Epoch 46/100\n",
      "60000/60000 [==============================] - 4s 69us/step - loss: 0.1656 - accuracy: 0.9513\n",
      "Epoch 47/100\n",
      "60000/60000 [==============================] - 4s 69us/step - loss: 0.1659 - accuracy: 0.9518\n",
      "Epoch 48/100\n",
      "60000/60000 [==============================] - 4s 68us/step - loss: 0.1676 - accuracy: 0.9513\n",
      "Epoch 49/100\n",
      "60000/60000 [==============================] - 4s 69us/step - loss: 0.1681 - accuracy: 0.9518\n",
      "Epoch 50/100\n",
      "60000/60000 [==============================] - 4s 68us/step - loss: 0.1571 - accuracy: 0.9541\n",
      "Epoch 51/100\n",
      "60000/60000 [==============================] - 4s 67us/step - loss: 0.1603 - accuracy: 0.9538\n",
      "Epoch 52/100\n",
      "60000/60000 [==============================] - 4s 67us/step - loss: 0.1636 - accuracy: 0.9524\n",
      "Epoch 53/100\n",
      "60000/60000 [==============================] - 4s 67us/step - loss: 0.1589 - accuracy: 0.9542\n",
      "Epoch 54/100\n",
      "60000/60000 [==============================] - 4s 68us/step - loss: 0.1574 - accuracy: 0.9533\n",
      "Epoch 55/100\n",
      "60000/60000 [==============================] - 4s 68us/step - loss: 0.1622 - accuracy: 0.9531 0s - l\n",
      "Epoch 56/100\n",
      "60000/60000 [==============================] - 4s 68us/step - loss: 0.1590 - accuracy: 0.9529\n",
      "Epoch 57/100\n",
      "60000/60000 [==============================] - 4s 70us/step - loss: 0.1578 - accuracy: 0.9546\n",
      "Epoch 58/100\n",
      "60000/60000 [==============================] - 4s 68us/step - loss: 0.1590 - accuracy: 0.9542\n",
      "Epoch 59/100\n",
      "60000/60000 [==============================] - 4s 67us/step - loss: 0.1585 - accuracy: 0.9539\n",
      "Epoch 60/100\n",
      "60000/60000 [==============================] - 4s 67us/step - loss: 0.1540 - accuracy: 0.9543\n",
      "Epoch 61/100\n",
      "60000/60000 [==============================] - 4s 70us/step - loss: 0.1558 - accuracy: 0.9534\n",
      "Epoch 62/100\n",
      "60000/60000 [==============================] - 4s 68us/step - loss: 0.1588 - accuracy: 0.9530\n",
      "Epoch 63/100\n",
      "60000/60000 [==============================] - 4s 68us/step - loss: 0.1540 - accuracy: 0.9551\n",
      "Epoch 64/100\n",
      "60000/60000 [==============================] - 4s 68us/step - loss: 0.1548 - accuracy: 0.9549\n",
      "Epoch 65/100\n",
      "60000/60000 [==============================] - 4s 68us/step - loss: 0.1574 - accuracy: 0.9538\n",
      "Epoch 66/100\n",
      "60000/60000 [==============================] - 4s 68us/step - loss: 0.1533 - accuracy: 0.9546\n",
      "Epoch 67/100\n",
      "60000/60000 [==============================] - 4s 68us/step - loss: 0.1542 - accuracy: 0.9542\n",
      "Epoch 68/100\n",
      "60000/60000 [==============================] - 4s 68us/step - loss: 0.1551 - accuracy: 0.9537\n",
      "Epoch 69/100\n",
      "60000/60000 [==============================] - 4s 67us/step - loss: 0.1515 - accuracy: 0.9556\n",
      "Epoch 70/100\n",
      "60000/60000 [==============================] - 4s 68us/step - loss: 0.1533 - accuracy: 0.9544\n",
      "Epoch 71/100\n",
      "60000/60000 [==============================] - 4s 67us/step - loss: 0.1493 - accuracy: 0.9560 \n",
      "Epoch 72/100\n",
      "60000/60000 [==============================] - 4s 68us/step - loss: 0.1471 - accuracy: 0.9569\n",
      "Epoch 73/100\n",
      "60000/60000 [==============================] - 4s 68us/step - loss: 0.1512 - accuracy: 0.9547\n",
      "Epoch 74/100\n",
      "60000/60000 [==============================] - 4s 69us/step - loss: 0.1517 - accuracy: 0.9554\n",
      "Epoch 75/100\n",
      "60000/60000 [==============================] - 4s 68us/step - loss: 0.1503 - accuracy: 0.9570\n",
      "Epoch 76/100\n",
      "60000/60000 [==============================] - 4s 68us/step - loss: 0.1473 - accuracy: 0.9560\n",
      "Epoch 77/100\n",
      "60000/60000 [==============================] - 4s 68us/step - loss: 0.1473 - accuracy: 0.9561\n",
      "Epoch 78/100\n",
      "60000/60000 [==============================] - 4s 68us/step - loss: 0.1494 - accuracy: 0.9559\n",
      "Epoch 79/100\n",
      "60000/60000 [==============================] - 4s 68us/step - loss: 0.1510 - accuracy: 0.9561\n",
      "Epoch 80/100\n",
      "60000/60000 [==============================] - 4s 67us/step - loss: 0.1527 - accuracy: 0.9557\n",
      "Epoch 81/100\n",
      "60000/60000 [==============================] - 4s 67us/step - loss: 0.1485 - accuracy: 0.9561\n",
      "Epoch 82/100\n",
      "60000/60000 [==============================] - 4s 67us/step - loss: 0.1501 - accuracy: 0.9568 0s - loss: 0.1499 - accuracy: \n",
      "Epoch 83/100\n",
      "60000/60000 [==============================] - 4s 66us/step - loss: 0.1460 - accuracy: 0.9568\n",
      "Epoch 84/100\n",
      "60000/60000 [==============================] - 4s 67us/step - loss: 0.1455 - accuracy: 0.9573\n",
      "Epoch 85/100\n",
      "60000/60000 [==============================] - 4s 67us/step - loss: 0.1511 - accuracy: 0.9560\n",
      "Epoch 86/100\n",
      "60000/60000 [==============================] - 5s 76us/step - loss: 0.1472 - accuracy: 0.9574\n",
      "Epoch 87/100\n",
      "60000/60000 [==============================] - 4s 67us/step - loss: 0.1503 - accuracy: 0.9556 0s - l\n",
      "Epoch 88/100\n",
      "60000/60000 [==============================] - 4s 67us/step - loss: 0.1513 - accuracy: 0.9560\n",
      "Epoch 89/100\n",
      "60000/60000 [==============================] - 4s 67us/step - loss: 0.1451 - accuracy: 0.9571\n",
      "Epoch 90/100\n",
      "60000/60000 [==============================] - 4s 68us/step - loss: 0.1437 - accuracy: 0.9573\n",
      "Epoch 91/100\n",
      "60000/60000 [==============================] - 4s 67us/step - loss: 0.1417 - accuracy: 0.9584\n",
      "Epoch 92/100\n",
      "60000/60000 [==============================] - 4s 70us/step - loss: 0.1446 - accuracy: 0.9585\n",
      "Epoch 93/100\n",
      "60000/60000 [==============================] - 4s 67us/step - loss: 0.1452 - accuracy: 0.9577\n",
      "Epoch 94/100\n",
      "60000/60000 [==============================] - 4s 67us/step - loss: 0.1481 - accuracy: 0.9567\n",
      "Epoch 95/100\n",
      "60000/60000 [==============================] - 4s 67us/step - loss: 0.1468 - accuracy: 0.9567\n",
      "Epoch 96/100\n",
      "60000/60000 [==============================] - 4s 66us/step - loss: 0.1464 - accuracy: 0.9575\n",
      "Epoch 97/100\n",
      "60000/60000 [==============================] - 4s 74us/step - loss: 0.1451 - accuracy: 0.9567\n",
      "Epoch 98/100\n",
      "60000/60000 [==============================] - 5s 81us/step - loss: 0.1420 - accuracy: 0.9582\n",
      "Epoch 99/100\n",
      "60000/60000 [==============================] - 5s 79us/step - loss: 0.1489 - accuracy: 0.9576\n",
      "Epoch 100/100\n",
      "60000/60000 [==============================] - 4s 70us/step - loss: 0.1433 - accuracy: 0.9581\n",
      "Epoch 1/100\n",
      "60000/60000 [==============================] - 5s 78us/step - loss: 0.7770 - accuracy: 0.7653\n",
      "Epoch 2/100\n",
      "60000/60000 [==============================] - 4s 65us/step - loss: 0.4385 - accuracy: 0.8753\n",
      "Epoch 3/100\n",
      "60000/60000 [==============================] - 4s 71us/step - loss: 0.3643 - accuracy: 0.8954\n",
      "Epoch 4/100\n",
      "60000/60000 [==============================] - 4s 68us/step - loss: 0.3312 - accuracy: 0.9051\n",
      "Epoch 5/100\n",
      "60000/60000 [==============================] - 4s 67us/step - loss: 0.2998 - accuracy: 0.9150\n",
      "Epoch 6/100\n",
      "60000/60000 [==============================] - 4s 67us/step - loss: 0.2859 - accuracy: 0.9169\n",
      "Epoch 7/100\n",
      "60000/60000 [==============================] - 4s 71us/step - loss: 0.2680 - accuracy: 0.9236\n",
      "Epoch 8/100\n",
      "60000/60000 [==============================] - 4s 68us/step - loss: 0.2549 - accuracy: 0.9263\n",
      "Epoch 9/100\n",
      "60000/60000 [==============================] - 4s 74us/step - loss: 0.2466 - accuracy: 0.9299\n",
      "Epoch 10/100\n",
      "60000/60000 [==============================] - 4s 65us/step - loss: 0.2357 - accuracy: 0.9314\n",
      "Epoch 11/100\n",
      "60000/60000 [==============================] - 4s 66us/step - loss: 0.2377 - accuracy: 0.9325\n",
      "Epoch 12/100\n",
      "60000/60000 [==============================] - 4s 71us/step - loss: 0.2255 - accuracy: 0.9353\n",
      "Epoch 13/100\n",
      "60000/60000 [==============================] - 4s 64us/step - loss: 0.2265 - accuracy: 0.9356\n",
      "Epoch 14/100\n",
      "60000/60000 [==============================] - 4s 70us/step - loss: 0.2188 - accuracy: 0.9370\n",
      "Epoch 15/100\n",
      "60000/60000 [==============================] - 4s 65us/step - loss: 0.2160 - accuracy: 0.9384\n",
      "Epoch 16/100\n",
      "60000/60000 [==============================] - 4s 64us/step - loss: 0.2167 - accuracy: 0.9371 0s - loss: 0.2\n",
      "Epoch 17/100\n",
      "60000/60000 [==============================] - 4s 64us/step - loss: 0.2110 - accuracy: 0.9392\n",
      "Epoch 18/100\n",
      "60000/60000 [==============================] - 4s 64us/step - loss: 0.2079 - accuracy: 0.9401\n",
      "Epoch 19/100\n",
      "60000/60000 [==============================] - 4s 64us/step - loss: 0.2039 - accuracy: 0.9415\n",
      "Epoch 20/100\n",
      "60000/60000 [==============================] - 4s 69us/step - loss: 0.1989 - accuracy: 0.9433\n",
      "Epoch 21/100\n",
      "60000/60000 [==============================] - 5s 80us/step - loss: 0.1960 - accuracy: 0.9440\n",
      "Epoch 22/100\n",
      "60000/60000 [==============================] - 5s 79us/step - loss: 0.1980 - accuracy: 0.9433\n",
      "Epoch 23/100\n",
      "60000/60000 [==============================] - 4s 67us/step - loss: 0.1871 - accuracy: 0.9458\n",
      "Epoch 24/100\n",
      "60000/60000 [==============================] - 4s 66us/step - loss: 0.1928 - accuracy: 0.9451\n",
      "Epoch 25/100\n",
      "60000/60000 [==============================] - 4s 66us/step - loss: 0.1881 - accuracy: 0.9461\n",
      "Epoch 26/100\n",
      "60000/60000 [==============================] - 4s 66us/step - loss: 0.1888 - accuracy: 0.9456\n",
      "Epoch 27/100\n",
      "60000/60000 [==============================] - 4s 67us/step - loss: 0.1876 - accuracy: 0.9462\n",
      "Epoch 28/100\n",
      "60000/60000 [==============================] - 4s 70us/step - loss: 0.1886 - accuracy: 0.9451\n",
      "Epoch 29/100\n",
      "60000/60000 [==============================] - 5s 78us/step - loss: 0.1845 - accuracy: 0.9463\n",
      "Epoch 30/100\n",
      "60000/60000 [==============================] - 5s 75us/step - loss: 0.1769 - accuracy: 0.9493\n",
      "Epoch 31/100\n",
      "60000/60000 [==============================] - 4s 68us/step - loss: 0.1808 - accuracy: 0.9472\n",
      "Epoch 32/100\n",
      "60000/60000 [==============================] - 4s 68us/step - loss: 0.1778 - accuracy: 0.9484\n",
      "Epoch 33/100\n",
      "60000/60000 [==============================] - 4s 65us/step - loss: 0.1785 - accuracy: 0.9485\n",
      "Epoch 34/100\n",
      "60000/60000 [==============================] - 4s 67us/step - loss: 0.1775 - accuracy: 0.9491\n",
      "Epoch 35/100\n",
      "60000/60000 [==============================] - 4s 68us/step - loss: 0.1750 - accuracy: 0.9504\n",
      "Epoch 36/100\n",
      "60000/60000 [==============================] - 5s 76us/step - loss: 0.1756 - accuracy: 0.9499\n",
      "Epoch 37/100\n",
      "60000/60000 [==============================] - 4s 66us/step - loss: 0.1754 - accuracy: 0.9488\n",
      "Epoch 38/100\n",
      "60000/60000 [==============================] - 4s 66us/step - loss: 0.1714 - accuracy: 0.9502\n",
      "Epoch 39/100\n",
      "60000/60000 [==============================] - 4s 64us/step - loss: 0.1705 - accuracy: 0.9503\n",
      "Epoch 40/100\n",
      "60000/60000 [==============================] - 4s 64us/step - loss: 0.1711 - accuracy: 0.9505\n",
      "Epoch 41/100\n",
      "60000/60000 [==============================] - 4s 66us/step - loss: 0.1702 - accuracy: 0.9504\n",
      "Epoch 42/100\n",
      "60000/60000 [==============================] - 4s 73us/step - loss: 0.1690 - accuracy: 0.9506\n",
      "Epoch 43/100\n",
      "60000/60000 [==============================] - 4s 66us/step - loss: 0.1656 - accuracy: 0.9518\n",
      "Epoch 44/100\n",
      "60000/60000 [==============================] - 4s 67us/step - loss: 0.1690 - accuracy: 0.9513\n",
      "Epoch 45/100\n",
      "60000/60000 [==============================] - 4s 68us/step - loss: 0.1661 - accuracy: 0.9515\n",
      "Epoch 46/100\n",
      "60000/60000 [==============================] - 4s 65us/step - loss: 0.1645 - accuracy: 0.9520\n",
      "Epoch 47/100\n",
      "60000/60000 [==============================] - 4s 63us/step - loss: 0.1622 - accuracy: 0.9526\n",
      "Epoch 48/100\n",
      "60000/60000 [==============================] - 4s 64us/step - loss: 0.1621 - accuracy: 0.9534\n",
      "Epoch 49/100\n",
      "60000/60000 [==============================] - 4s 64us/step - loss: 0.1664 - accuracy: 0.9522\n",
      "Epoch 50/100\n",
      "60000/60000 [==============================] - 4s 64us/step - loss: 0.1613 - accuracy: 0.9538\n",
      "Epoch 51/100\n",
      "60000/60000 [==============================] - 4s 64us/step - loss: 0.1600 - accuracy: 0.9539\n",
      "Epoch 52/100\n",
      "60000/60000 [==============================] - 4s 64us/step - loss: 0.1648 - accuracy: 0.9534\n",
      "Epoch 53/100\n",
      "60000/60000 [==============================] - 4s 64us/step - loss: 0.1605 - accuracy: 0.9534\n",
      "Epoch 54/100\n",
      "60000/60000 [==============================] - 4s 64us/step - loss: 0.1620 - accuracy: 0.9526\n",
      "Epoch 55/100\n",
      "60000/60000 [==============================] - 4s 64us/step - loss: 0.1571 - accuracy: 0.9544\n",
      "Epoch 56/100\n"
     ]
    },
    {
     "name": "stdout",
     "output_type": "stream",
     "text": [
      "60000/60000 [==============================] - 4s 64us/step - loss: 0.1559 - accuracy: 0.9535\n",
      "Epoch 57/100\n",
      "60000/60000 [==============================] - 4s 64us/step - loss: 0.1548 - accuracy: 0.9551\n",
      "Epoch 58/100\n",
      "60000/60000 [==============================] - 4s 64us/step - loss: 0.1579 - accuracy: 0.9542\n",
      "Epoch 59/100\n",
      "60000/60000 [==============================] - 4s 66us/step - loss: 0.1554 - accuracy: 0.9551\n",
      "Epoch 60/100\n",
      "60000/60000 [==============================] - 4s 68us/step - loss: 0.1576 - accuracy: 0.9538\n",
      "Epoch 61/100\n",
      "60000/60000 [==============================] - 4s 67us/step - loss: 0.1577 - accuracy: 0.9541\n",
      "Epoch 62/100\n",
      "60000/60000 [==============================] - 4s 67us/step - loss: 0.1561 - accuracy: 0.9538\n",
      "Epoch 63/100\n",
      "60000/60000 [==============================] - 4s 66us/step - loss: 0.1570 - accuracy: 0.9530\n",
      "Epoch 64/100\n",
      "60000/60000 [==============================] - 4s 65us/step - loss: 0.1567 - accuracy: 0.9544\n",
      "Epoch 65/100\n",
      "60000/60000 [==============================] - 4s 66us/step - loss: 0.1529 - accuracy: 0.9559\n",
      "Epoch 66/100\n",
      "60000/60000 [==============================] - 4s 65us/step - loss: 0.1527 - accuracy: 0.9554\n",
      "Epoch 67/100\n",
      "60000/60000 [==============================] - 4s 64us/step - loss: 0.1590 - accuracy: 0.9540\n",
      "Epoch 68/100\n",
      "60000/60000 [==============================] - 4s 64us/step - loss: 0.1546 - accuracy: 0.9550\n",
      "Epoch 69/100\n",
      "60000/60000 [==============================] - 4s 64us/step - loss: 0.1511 - accuracy: 0.9559\n",
      "Epoch 70/100\n",
      "60000/60000 [==============================] - 4s 64us/step - loss: 0.1549 - accuracy: 0.9556\n",
      "Epoch 71/100\n",
      "60000/60000 [==============================] - 4s 64us/step - loss: 0.1523 - accuracy: 0.9560\n",
      "Epoch 72/100\n",
      "60000/60000 [==============================] - 4s 64us/step - loss: 0.1511 - accuracy: 0.9562\n",
      "Epoch 73/100\n",
      "60000/60000 [==============================] - 4s 65us/step - loss: 0.1491 - accuracy: 0.9565\n",
      "Epoch 74/100\n",
      "60000/60000 [==============================] - 4s 65us/step - loss: 0.1527 - accuracy: 0.9553 0s\n",
      "Epoch 75/100\n",
      "60000/60000 [==============================] - 4s 64us/step - loss: 0.1520 - accuracy: 0.9560\n",
      "Epoch 76/100\n",
      "60000/60000 [==============================] - 4s 66us/step - loss: 0.1510 - accuracy: 0.9560\n",
      "Epoch 77/100\n",
      "60000/60000 [==============================] - 4s 66us/step - loss: 0.1496 - accuracy: 0.9559\n",
      "Epoch 78/100\n",
      "60000/60000 [==============================] - 4s 64us/step - loss: 0.1495 - accuracy: 0.9567 0s - loss: 0.1493 - accuracy\n",
      "Epoch 79/100\n",
      "60000/60000 [==============================] - 4s 64us/step - loss: 0.1484 - accuracy: 0.9565\n",
      "Epoch 80/100\n",
      "60000/60000 [==============================] - 4s 65us/step - loss: 0.1533 - accuracy: 0.9557\n",
      "Epoch 81/100\n",
      "60000/60000 [==============================] - 4s 64us/step - loss: 0.1524 - accuracy: 0.9565\n",
      "Epoch 82/100\n",
      "60000/60000 [==============================] - 4s 64us/step - loss: 0.1478 - accuracy: 0.9561\n",
      "Epoch 83/100\n",
      "60000/60000 [==============================] - 4s 65us/step - loss: 0.1481 - accuracy: 0.9574\n",
      "Epoch 84/100\n",
      "60000/60000 [==============================] - 4s 64us/step - loss: 0.1488 - accuracy: 0.9566\n",
      "Epoch 85/100\n",
      "60000/60000 [==============================] - 4s 64us/step - loss: 0.1501 - accuracy: 0.9559 0s - loss: 0.1505 - accuracy\n",
      "Epoch 86/100\n",
      "60000/60000 [==============================] - 4s 64us/step - loss: 0.1434 - accuracy: 0.9578\n",
      "Epoch 87/100\n",
      "60000/60000 [==============================] - 4s 64us/step - loss: 0.1446 - accuracy: 0.9575 0s - loss: 0.1444 - accuracy\n",
      "Epoch 88/100\n",
      "60000/60000 [==============================] - 4s 65us/step - loss: 0.1458 - accuracy: 0.9573\n",
      "Epoch 89/100\n",
      "60000/60000 [==============================] - 4s 64us/step - loss: 0.1473 - accuracy: 0.9565 0s - loss: 0.1\n",
      "Epoch 90/100\n",
      "60000/60000 [==============================] - 4s 64us/step - loss: 0.1445 - accuracy: 0.9581\n",
      "Epoch 91/100\n",
      "60000/60000 [==============================] - 4s 69us/step - loss: 0.1469 - accuracy: 0.9573\n",
      "Epoch 92/100\n",
      "60000/60000 [==============================] - 4s 65us/step - loss: 0.1423 - accuracy: 0.9585\n",
      "Epoch 93/100\n",
      "60000/60000 [==============================] - 4s 66us/step - loss: 0.1447 - accuracy: 0.9580\n",
      "Epoch 94/100\n",
      "60000/60000 [==============================] - 4s 65us/step - loss: 0.1444 - accuracy: 0.9576\n",
      "Epoch 95/100\n",
      "60000/60000 [==============================] - 4s 66us/step - loss: 0.1474 - accuracy: 0.9574\n",
      "Epoch 96/100\n",
      "60000/60000 [==============================] - 4s 65us/step - loss: 0.1467 - accuracy: 0.9572\n",
      "Epoch 97/100\n",
      "60000/60000 [==============================] - 4s 65us/step - loss: 0.1444 - accuracy: 0.9575\n",
      "Epoch 98/100\n",
      "60000/60000 [==============================] - 4s 67us/step - loss: 0.1426 - accuracy: 0.9582\n",
      "Epoch 99/100\n",
      "60000/60000 [==============================] - 4s 64us/step - loss: 0.1476 - accuracy: 0.9572\n",
      "Epoch 100/100\n",
      "60000/60000 [==============================] - 4s 64us/step - loss: 0.1449 - accuracy: 0.9579\n"
     ]
    },
    {
     "data": {
      "text/plain": [
       "VotingClassifier(estimators=[('model1',\n",
       "                              <keras.wrappers.scikit_learn.KerasClassifier object at 0x000001F765ADDB88>),\n",
       "                             ('model2',\n",
       "                              <keras.wrappers.scikit_learn.KerasClassifier object at 0x000001F765AF51C8>),\n",
       "                             ('model3',\n",
       "                              <keras.wrappers.scikit_learn.KerasClassifier object at 0x000001F768AD8C48>),\n",
       "                             ('model4',\n",
       "                              <keras.wrappers.scikit_learn.KerasClassifier object at 0x000001F768AD8C88>),\n",
       "                             ('model5',\n",
       "                              <keras.wrappers.scikit_learn.KerasClassifier object at 0x000001F765AF5108>)],\n",
       "                 flatten_transform=True, n_jobs=None, voting='soft',\n",
       "                 weights=None)"
      ]
     },
     "execution_count": 28,
     "metadata": {},
     "output_type": "execute_result"
    }
   ],
   "source": [
    "ensemble_clf.fit(X_train, y_train)"
   ]
  },
  {
   "cell_type": "code",
   "execution_count": 24,
   "metadata": {
    "ExecuteTime": {
     "end_time": "2020-01-21T07:01:31.939023Z",
     "start_time": "2020-01-21T07:01:31.339845Z"
    }
   },
   "outputs": [],
   "source": [
    "y_pred = ensemble_clf.predict(X_test)"
   ]
  },
  {
   "cell_type": "code",
   "execution_count": 25,
   "metadata": {
    "ExecuteTime": {
     "end_time": "2020-01-21T07:01:31.950492Z",
     "start_time": "2020-01-21T07:01:31.945450Z"
    }
   },
   "outputs": [
    {
     "name": "stdout",
     "output_type": "stream",
     "text": [
      "Acc:  0.9614\n"
     ]
    }
   ],
   "source": [
    "print('Acc: ', accuracy_score(y_pred, y_test))"
   ]
  }
 ],
 "metadata": {
  "kernelspec": {
   "display_name": "Python 3",
   "language": "python",
   "name": "python3"
  },
  "language_info": {
   "codemirror_mode": {
    "name": "ipython",
    "version": 3
   },
   "file_extension": ".py",
   "mimetype": "text/x-python",
   "name": "python",
   "nbconvert_exporter": "python",
   "pygments_lexer": "ipython3",
   "version": "3.7.5"
  },
  "varInspector": {
   "cols": {
    "lenName": 16,
    "lenType": 16,
    "lenVar": 40
   },
   "kernels_config": {
    "python": {
     "delete_cmd_postfix": "",
     "delete_cmd_prefix": "del ",
     "library": "var_list.py",
     "varRefreshCmd": "print(var_dic_list())"
    },
    "r": {
     "delete_cmd_postfix": ") ",
     "delete_cmd_prefix": "rm(",
     "library": "var_list.r",
     "varRefreshCmd": "cat(var_dic_list()) "
    }
   },
   "types_to_exclude": [
    "module",
    "function",
    "builtin_function_or_method",
    "instance",
    "_Feature"
   ],
   "window_display": false
  }
 },
 "nbformat": 4,
 "nbformat_minor": 2
}
