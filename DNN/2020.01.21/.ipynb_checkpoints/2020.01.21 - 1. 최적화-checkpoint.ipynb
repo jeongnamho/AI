{
 "cells": [
  {
   "cell_type": "markdown",
   "metadata": {},
   "source": [
    "# Advanced MLP\n",
    "- Advanced techniques for training neural networks\n",
    "  - Weight Initialization\n",
    "  - Nonlinearity (Activation function)\n",
    "  - Optimizers\n",
    "  - Batch Normalization\n",
    "  - Dropout (Regularization)\n",
    "  - Model Ensemble"
   ]
  },
  {
   "cell_type": "code",
   "execution_count": 1,
   "metadata": {
    "ExecuteTime": {
     "end_time": "2020-01-22T13:44:09.341722Z",
     "start_time": "2020-01-22T13:44:05.544870Z"
    }
   },
   "outputs": [
    {
     "name": "stderr",
     "output_type": "stream",
     "text": [
      "Using TensorFlow backend.\n"
     ]
    }
   ],
   "source": [
    "import matplotlib.pyplot as plt\n",
    "from sklearn.model_selection import train_test_split\n",
    "from keras.datasets import mnist\n",
    "from keras.models import Sequential\n",
    "from keras.utils.np_utils import to_categorical\n",
    "from keras.models import Sequential\n",
    "from keras.layers import Activation, Dense\n",
    "from keras import optimizers\n",
    "from keras.layers import Dropout\n",
    "import numpy as np\n",
    "from keras.wrappers.scikit_learn import KerasClassifier\n",
    "from sklearn.ensemble import VotingClassifier\n",
    "from sklearn.metrics import accuracy_score\n",
    "from keras.layers import BatchNormalization"
   ]
  },
  {
   "cell_type": "markdown",
   "metadata": {},
   "source": [
    "### reshape메서드에 대한 간단한 연습"
   ]
  },
  {
   "cell_type": "code",
   "execution_count": 2,
   "metadata": {
    "ExecuteTime": {
     "end_time": "2020-01-22T13:44:11.836056Z",
     "start_time": "2020-01-22T13:44:11.831070Z"
    }
   },
   "outputs": [
    {
     "name": "stdout",
     "output_type": "stream",
     "text": [
      "(2, 3)\n",
      "\n",
      "\n",
      "(3, 2)\n",
      "[[1 2]\n",
      " [3 4]\n",
      " [5 6]]\n"
     ]
    }
   ],
   "source": [
    "a = np.array([[1,2, 3],[4, 5,6]])\n",
    "print(a.shape)\n",
    "print('\\n')\n",
    "\n",
    "# reshape메서드에서 -1을 쓰면 나머지 영역은 flatten하게 묶어서 하나의 차원으로 바꿈\n",
    "a = a.reshape(3, -1)\n",
    "print(a.shape)\n",
    "print(a)"
   ]
  },
  {
   "cell_type": "markdown",
   "metadata": {},
   "source": [
    "---"
   ]
  },
  {
   "cell_type": "markdown",
   "metadata": {},
   "source": [
    "## Load Dataset\n",
    "- MNIST dataset\n",
    "\n",
    "(그냥 다운 받아도 되지만 보통 문서->user->.keras에서 데이터셋을 찾으면 됌)"
   ]
  },
  {
   "cell_type": "code",
   "execution_count": 3,
   "metadata": {
    "ExecuteTime": {
     "end_time": "2020-01-22T13:44:16.746238Z",
     "start_time": "2020-01-22T13:44:16.477652Z"
    }
   },
   "outputs": [],
   "source": [
    "(X_train, y_train), (X_test, y_test) = mnist.load_data()"
   ]
  },
  {
   "cell_type": "code",
   "execution_count": 4,
   "metadata": {
    "ExecuteTime": {
     "end_time": "2020-01-22T13:44:18.957381Z",
     "start_time": "2020-01-22T13:44:18.953391Z"
    }
   },
   "outputs": [
    {
     "name": "stdout",
     "output_type": "stream",
     "text": [
      "(60000, 28, 28)\n",
      "(60000,)\n"
     ]
    }
   ],
   "source": [
    "print(X_train.shape) # 6000개의 (28 x 28)크기 픽셀이미지\n",
    "print(y_train.shape) # 6000개의 인식결과(훈련 데이터)"
   ]
  },
  {
   "cell_type": "code",
   "execution_count": 5,
   "metadata": {
    "ExecuteTime": {
     "end_time": "2020-01-22T13:44:20.401487Z",
     "start_time": "2020-01-22T13:44:20.144175Z"
    }
   },
   "outputs": [
    {
     "data": {
      "image/png": "[encoded data removed]",
      "text/plain": [
       "<Figure size 432x288 with 1 Axes>"
      ]
     },
     "metadata": {
      "needs_background": "light"
     },
     "output_type": "display_data"
    },
    {
     "name": "stdout",
     "output_type": "stream",
     "text": [
      "Label:  5\n"
     ]
    }
   ],
   "source": [
    "# train data(훈련 데이터)\n",
    "plt.imshow(X_train[0])    # show first number in the dataset\n",
    "plt.show()\n",
    "print('Label: ', y_train[0])"
   ]
  },
  {
   "cell_type": "code",
   "execution_count": 6,
   "metadata": {
    "ExecuteTime": {
     "end_time": "2020-01-22T13:44:22.016222Z",
     "start_time": "2020-01-22T13:44:21.874550Z"
    }
   },
   "outputs": [
    {
     "data": {
      "text/plain": [
       "<matplotlib.image.AxesImage at 0x2e97dd33cc8>"
      ]
     },
     "execution_count": 6,
     "metadata": {},
     "output_type": "execute_result"
    },
    {
     "data": {
      "image/png": "[encoded data removed]",
      "text/plain": [
       "<Figure size 432x288 with 1 Axes>"
      ]
     },
     "metadata": {
      "needs_background": "light"
     },
     "output_type": "display_data"
    }
   ],
   "source": [
    "# train data(훈련 데이터)\n",
    "plt.imshow(X_train[0], cmap='gray')"
   ]
  },
  {
   "cell_type": "code",
   "execution_count": 7,
   "metadata": {
    "ExecuteTime": {
     "end_time": "2020-01-22T13:44:22.941698Z",
     "start_time": "2020-01-22T13:44:22.801073Z"
    }
   },
   "outputs": [
    {
     "data": {
      "image/png": "[encoded data removed]",
      "text/plain": [
       "<Figure size 432x288 with 1 Axes>"
      ]
     },
     "metadata": {
      "needs_background": "light"
     },
     "output_type": "display_data"
    },
    {
     "name": "stdout",
     "output_type": "stream",
     "text": [
      "Label:  7\n"
     ]
    }
   ],
   "source": [
    "# train data(학습 데이터)\n",
    "plt.imshow(X_test[0])    # show first number in the dataset X_test\n",
    "plt.show()\n",
    "print('Label: ', y_test[0])"
   ]
  },
  {
   "cell_type": "code",
   "execution_count": 8,
   "metadata": {
    "ExecuteTime": {
     "end_time": "2020-01-22T13:44:23.632885Z",
     "start_time": "2020-01-22T13:44:23.508219Z"
    }
   },
   "outputs": [
    {
     "data": {
      "image/png": "[encoded data removed]",
      "text/plain": [
       "<Figure size 432x288 with 1 Axes>"
      ]
     },
     "metadata": {
      "needs_background": "light"
     },
     "output_type": "display_data"
    },
    {
     "name": "stdout",
     "output_type": "stream",
     "text": [
      "Label:  7\n"
     ]
    }
   ],
   "source": [
    "# train data(학습 데이터)\n",
    "plt.imshow(X_test[0], cmap='gray')    # show first number in the dataset\n",
    "plt.show()\n",
    "print('Label: ', y_test[0])"
   ]
  },
  {
   "cell_type": "markdown",
   "metadata": {},
   "source": [
    "---"
   ]
  },
  {
   "cell_type": "code",
   "execution_count": 24,
   "metadata": {
    "ExecuteTime": {
     "end_time": "2020-01-22T13:47:46.396569Z",
     "start_time": "2020-01-22T13:47:46.377618Z"
    }
   },
   "outputs": [
    {
     "name": "stdout",
     "output_type": "stream",
     "text": [
      "shape of X_train =  (19800, 784)\n",
      "\n",
      "\n",
      "shape of X_train_splited =  (6534, 784)\n",
      "[9 5 3 ... 5 6 2]\n"
     ]
    }
   ],
   "source": [
    "# (X_train, y_train), (X_test, y_test) = mnist.load_data()\n",
    "\n",
    "#reshaping X data : (n,28,28) ---> (n,784)\n",
    "X_train = X_train.reshape((X_train.shape[0], -1))  \n",
    "X_test = X_test.reshape((X_test.shape[0], -1))\n",
    "\n",
    "print('shape of X_train = ', X_train.shape)\n",
    "print('\\n')\n",
    "\n",
    "\n",
    "# 밑에는 Tuple로 결과값을 받환받는 것!\n",
    "# use only 33% of training data to expedite the training process\n",
    "X_train, _ , y_train, _ = train_test_split(X_train, y_train, \n",
    "                                           test_size = 0.67, \n",
    "                                           random_state = 7)\n",
    "\n",
    "print('shape of X_train_splited = ', X_train.shape)\n",
    "print(y_train)"
   ]
  },
  {
   "cell_type": "code",
   "execution_count": 25,
   "metadata": {
    "ExecuteTime": {
     "end_time": "2020-01-22T13:47:48.832456Z",
     "start_time": "2020-01-22T13:47:48.825515Z"
    }
   },
   "outputs": [
    {
     "name": "stdout",
     "output_type": "stream",
     "text": [
      "[[0. 0. 0. ... 0. 0. 1.]\n",
      " [0. 0. 0. ... 0. 0. 0.]\n",
      " [0. 0. 0. ... 0. 0. 0.]\n",
      " ...\n",
      " [0. 0. 0. ... 0. 0. 0.]\n",
      " [0. 0. 0. ... 0. 0. 0.]\n",
      " [0. 0. 1. ... 0. 0. 0.]]\n",
      "(6534, 10)\n"
     ]
    }
   ],
   "source": [
    "# 이 셀은 run하면 계속 바뀌니까 한 번만 할 것!\n",
    "\n",
    "# converting y data into categorical (<<<one-hot encoding>>>>)\n",
    "y_train = to_categorical(y_train)\n",
    "y_test = to_categorical(y_test)\n",
    "\n",
    "# one-hot encoding 원리\n",
    "# 0 -> 1 0 0\n",
    "# 1 -> 0 1 0\n",
    "# 2 -> 0 0 1\n",
    "\n",
    "print(y_train)\n",
    "print(y_train.shape)  # y_train의 value가 0~9까지 있어서 총 10개!"
   ]
  },
  {
   "cell_type": "code",
   "execution_count": 26,
   "metadata": {
    "ExecuteTime": {
     "end_time": "2020-01-22T13:57:48.909109Z",
     "start_time": "2020-01-22T13:57:48.904138Z"
    }
   },
   "outputs": [
    {
     "name": "stdout",
     "output_type": "stream",
     "text": [
      "(6534, 784) (10000, 784) (6534, 10) (10000, 10)\n"
     ]
    }
   ],
   "source": [
    "print(X_train.shape, X_test.shape, y_train.shape, y_test.shape)"
   ]
  },
  {
   "cell_type": "markdown",
   "metadata": {},
   "source": [
    "---"
   ]
  },
  {
   "cell_type": "markdown",
   "metadata": {},
   "source": [
    "# Basic MLP model"
   ]
  },
  {
   "cell_type": "code",
   "execution_count": 27,
   "metadata": {
    "ExecuteTime": {
     "end_time": "2020-01-22T13:57:54.570669Z",
     "start_time": "2020-01-22T13:57:54.302020Z"
    }
   },
   "outputs": [],
   "source": [
    "model = Sequential()"
   ]
  },
  {
   "cell_type": "code",
   "execution_count": 28,
   "metadata": {
    "ExecuteTime": {
     "end_time": "2020-01-22T14:01:25.521326Z",
     "start_time": "2020-01-22T14:01:25.403624Z"
    }
   },
   "outputs": [
    {
     "name": "stdout",
     "output_type": "stream",
     "text": [
      "WARNING:tensorflow:From C:\\Users\\jnh78\\Anaconda3\\envs\\tutorial\\lib\\site-packages\\tensorflow_core\\python\\ops\\resource_variable_ops.py:1630: calling BaseResourceVariable.__init__ (from tensorflow.python.ops.resource_variable_ops) with constraint is deprecated and will be removed in a future version.\n",
      "Instructions for updating:\n",
      "If using Keras pass *_constraint arguments to layers.\n"
     ]
    }
   ],
   "source": [
    "model.add(Dense(50, input_shape = (784, )))\n",
    "model.add(Activation('sigmoid'))\n",
    "model.add(Dense(50))\n",
    "model.add(Activation('sigmoid'))\n",
    "model.add(Dense(50))\n",
    "model.add(Activation('sigmoid'))\n",
    "model.add(Dense(50))\n",
    "model.add(Activation('sigmoid'))\n",
    "model.add(Dense(10))\n",
    "model.add(Activation('softmax'))"
   ]
  },
  {
   "attachments": {
    "11.png": {
     "image/png": "[encoded data removed]"
    }
   },
   "cell_type": "markdown",
   "metadata": {},
   "source": [
    "### softmax 함수\n",
    "\n",
    "![11.png](attachment:11.png)"
   ]
  },
  {
   "cell_type": "code",
   "execution_count": 29,
   "metadata": {
    "ExecuteTime": {
     "end_time": "2020-01-22T14:02:57.851929Z",
     "start_time": "2020-01-22T14:02:57.846945Z"
    },
    "scrolled": false
   },
   "outputs": [
    {
     "name": "stdout",
     "output_type": "stream",
     "text": [
      "Model: \"sequential_1\"\n",
      "_________________________________________________________________\n",
      "Layer (type)                 Output Shape              Param #   \n",
      "=================================================================\n",
      "dense_1 (Dense)              (None, 50)                39250     \n",
      "_________________________________________________________________\n",
      "activation_1 (Activation)    (None, 50)                0         \n",
      "_________________________________________________________________\n",
      "dense_2 (Dense)              (None, 50)                2550      \n",
      "_________________________________________________________________\n",
      "activation_2 (Activation)    (None, 50)                0         \n",
      "_________________________________________________________________\n",
      "dense_3 (Dense)              (None, 50)                2550      \n",
      "_________________________________________________________________\n",
      "activation_3 (Activation)    (None, 50)                0         \n",
      "_________________________________________________________________\n",
      "dense_4 (Dense)              (None, 50)                2550      \n",
      "_________________________________________________________________\n",
      "activation_4 (Activation)    (None, 50)                0         \n",
      "_________________________________________________________________\n",
      "dense_5 (Dense)              (None, 10)                510       \n",
      "_________________________________________________________________\n",
      "activation_5 (Activation)    (None, 10)                0         \n",
      "=================================================================\n",
      "Total params: 47,410\n",
      "Trainable params: 47,410\n",
      "Non-trainable params: 0\n",
      "_________________________________________________________________\n"
     ]
    }
   ],
   "source": [
    "model.summary()"
   ]
  },
  {
   "attachments": {
    "cross%20entropy.png": {
     "image/png": "[encoded data removed]"
    }
   },
   "cell_type": "markdown",
   "metadata": {},
   "source": [
    "## Cross Entropy\n",
    "\n",
    "![cross%20entropy.png](attachment:cross%20entropy.png)\n",
    "\n",
    "- y =  우리의 neural net이 예측한 정답 label의 값\n",
    "- y' =  실제 정답 label의 값\n",
    "- i = 분류하고자 하는 class의 개수 및 시그마의 인덱스\n",
    "\n",
    "간혹 우리 neural net의 예측값이 0이거나 0과 가까운 매우 작은 숫자일 경우 log 뒤의 y(i)의 값은 무한대로 수렴하게 된다. (이해가 되지 않는다면 위 그래프에서 y가 0.00000000001일 때의 x값을 찾아보라)\n",
    "\n",
    "여기서 무한대로 수렴한다는 것은 분명 유쾌한 일이 아니다.\n",
    "\n",
    "그러므로 이런 경우를 대비해서 y(i)에 1e-07 ( 0.0000001 ) 정도를 더해준다. // y'log(y+0.0000001)\n",
    "\n",
    "이렇게 하면 cost 값에는 크게 영향을 주지 않으면서 무한대의 만행을 어느정도 막아낼 수 있다.\n",
    "\n",
    "\n",
    "출처: https://worthpreading.tistory.com/23 [Worth spreading]"
   ]
  },
  {
   "cell_type": "code",
   "execution_count": 30,
   "metadata": {
    "ExecuteTime": {
     "end_time": "2020-01-22T14:10:53.239289Z",
     "start_time": "2020-01-22T14:10:53.136267Z"
    }
   },
   "outputs": [],
   "source": [
    "# 모델을 학습시키기 이전에, compile 메소드를 통해서 학습 방식에 대한 환경설정을 해야 합니다.\n",
    "\n",
    "sgd = optimizers.SGD(lr = 0.001) #Adam하면 금방 올라감\n",
    "\n",
    "\n",
    "model.compile(optimizer = sgd,\n",
    "              loss = 'categorical_crossentropy', \n",
    "              metrics = ['accuracy'])"
   ]
  },
  {
   "cell_type": "code",
   "execution_count": 15,
   "metadata": {
    "ExecuteTime": {
     "end_time": "2020-01-21T06:26:10.839678Z",
     "start_time": "2020-01-21T06:25:44.348193Z"
    }
   },
   "outputs": [],
   "source": [
    "history = model.fit(X_train, y_train, \n",
    "                    batch_size = 256, \n",
    "                    validation_split = 0.3,   \n",
    "                    epochs = 200, \n",
    "                    verbose = 0)\n",
    "\n",
    "# 위에서 나뉘어진 X_train셋을 다시 0.7만 가지고 학습을 시키고 \n",
    "# 나머지 0.3은 검증을 하는데 쓰임\n"
   ]
  },
  {
   "cell_type": "code",
   "execution_count": 16,
   "metadata": {
    "ExecuteTime": {
     "end_time": "2020-01-21T06:26:10.844894Z",
     "start_time": "2020-01-21T06:26:10.840967Z"
    },
    "scrolled": true
   },
   "outputs": [
    {
     "name": "stdout",
     "output_type": "stream",
     "text": [
      "{'val_loss': [2.431025493506229, 2.404662131139325, 2.3846861189061945, 2.36886507461368, 2.35636790047591, 2.3462767690921873, 2.3379953024764655, 2.3314472558121087, 2.325958228512645, 2.3214876878141153, 2.317815408481893, 2.3146857152482876, 2.3121255120043, 2.31006495992744, 2.3082869813899802, 2.306761141337128, 2.3055594439458367, 2.304595878549698, 2.303686789470891, 2.3030205753917246, 2.3024176973285098, 2.3019368691877884, 2.301547140384764, 2.301252662453186, 2.301009523025667, 2.3007798339381362, 2.3006092960987026, 2.3004744109079893, 2.30036380732501, 2.3002677511285854, 2.3002209472335147, 2.300174057282984, 2.3001136028405393, 2.3000845059802635, 2.3000725662668144, 2.300051368206037, 2.3000254165443907, 2.3000097738773335, 2.299985722018412, 2.2999908129374185, 2.2999788796460185, 2.2999760788297814, 2.2999842284103034, 2.2999716236936525, 2.2999721348887743, 2.2999537817958227, 2.2999439090189306, 2.2999513243986702, 2.299939157505228, 2.299941510383529, 2.2999415005899038, 2.299935925930036, 2.2999352782663673, 2.2999133476103193, 2.29988957751881, 2.299881131400163, 2.2998615935996725, 2.299854399780633, 2.2998572116749054, 2.299841122996526, 2.2998250616118563, 2.2998162796200323, 2.2997890239612824, 2.299775889425567, 2.299741191735573, 2.299727862932867, 2.299710952232181, 2.2996898243322916, 2.299673701938154, 2.299649021842263, 2.299614659704343, 2.299601844986681, 2.2995897707312998, 2.2995756305026687, 2.299548853928794, 2.299523273140493, 2.2995180794686982, 2.299496681361086, 2.2994768675730284, 2.299468013814804, 2.2994430423184276, 2.2994294725283226, 2.2994209556065828, 2.299421717422177, 2.299372914664272, 2.299353270418315, 2.2993166915495387, 2.299302033222083, 2.2992869067272355, 2.2992736761818833, 2.2992870078745113, 2.2992497911356917, 2.29922412942957, 2.299214497318974, 2.2991875487947304, 2.299161117566555, 2.2991284999783193, 2.2991152642953274, 2.299070944930568, 2.2990545377185447, 2.2990334978007305, 2.29901502622097, 2.299008897498802, 2.2989994954581214, 2.2989720500278152, 2.298957682940294, 2.298927993645973, 2.2989140330741704, 2.2989015312708587, 2.2988837709330547, 2.2988650450401433, 2.2988520190370605, 2.298814888835355, 2.2988066161120377, 2.2987934292366208, 2.298780431169452, 2.29875169972378, 2.2987158836339057, 2.2987045991300334, 2.2987088131182123, 2.2986727618207836, 2.298640583982371, 2.29862643717114, 2.298603383298675, 2.298587521479186, 2.2985718467018823, 2.2985586901706476, 2.298520033608382, 2.2984962359020606, 2.298467858953508, 2.2984316784123378, 2.298424163490835, 2.2983871853311455, 2.2983725451459787, 2.2983531251900926, 2.298329308057072, 2.2983004810834173, 2.298271339429348, 2.298279228435221, 2.298255006391994, 2.2982433733313976, 2.2982167409325287, 2.2981891319005174, 2.2981537130143908, 2.2981364020594843, 2.298102747631394, 2.298078528317538, 2.298062785948166, 2.2980498435922745, 2.2980457688020133, 2.298025220652622, 2.298007363020772, 2.297997729304664, 2.297976592735008, 2.29794520015267, 2.297938897714069, 2.29792404736734, 2.297898629377988, 2.2978682999659066, 2.29785609855395, 2.2978389470264164, 2.2978166350611935, 2.297805731866496, 2.297794902043712, 2.2977979714621597, 2.2977695760502157, 2.2977330394064137, 2.2977016360671434, 2.2976886705918744, 2.297673041732223, 2.297643827508997, 2.2976128494699393, 2.2975948479841857, 2.2975718189971617, 2.2975397529024066, 2.2975275206646133, 2.2975142694081523, 2.297484934289849, 2.297474751970182, 2.297441932729599, 2.297416396735092, 2.297418240505437, 2.2973888811438976, 2.2973684837521127, 2.29734273197675, 2.2973087392672142, 2.2972817679446957, 2.2972655505042283, 2.2972513991975623, 2.2972460115798796, 2.2972207050130824, 2.2972104372801603, 2.2971741409815523, 2.2971568693616975, 2.2971438504228687, 2.297120460837778, 2.2971074797890405, 2.2970803671814375, 2.2970601907081476, 2.297060241763439], 'val_accuracy': [0.09208754450082779, 0.09208754450082779, 0.09208754450082779, 0.09208754450082779, 0.09208754450082779, 0.09208754450082779, 0.09208754450082779, 0.09208754450082779, 0.09208754450082779, 0.09208754450082779, 0.13602693378925323, 0.11228956282138824, 0.11178451031446457, 0.11178451031446457, 0.11178451031446457, 0.11178451031446457, 0.11178451031446457, 0.11178451031446457, 0.11178451031446457, 0.11178451031446457, 0.11178451031446457, 0.11178451031446457, 0.11178451031446457, 0.11178451031446457, 0.11178451031446457, 0.11178451031446457, 0.11178451031446457, 0.11178451031446457, 0.11178451031446457, 0.11178451031446457, 0.11178451031446457, 0.11178451031446457, 0.11178451031446457, 0.11178451031446457, 0.11178451031446457, 0.11178451031446457, 0.11178451031446457, 0.11178451031446457, 0.11178451031446457, 0.11178451031446457, 0.11178451031446457, 0.11178451031446457, 0.11178451031446457, 0.11178451031446457, 0.11178451031446457, 0.11178451031446457, 0.11178451031446457, 0.11178451031446457, 0.11178451031446457, 0.11178451031446457, 0.11178451031446457, 0.11178451031446457, 0.11178451031446457, 0.11178451031446457, 0.11178451031446457, 0.11178451031446457, 0.11178451031446457, 0.11178451031446457, 0.11178451031446457, 0.11178451031446457, 0.11178451031446457, 0.11178451031446457, 0.11178451031446457, 0.11178451031446457, 0.11178451031446457, 0.11178451031446457, 0.11178451031446457, 0.11178451031446457, 0.11178451031446457, 0.11178451031446457, 0.11178451031446457, 0.11178451031446457, 0.11178451031446457, 0.11178451031446457, 0.11178451031446457, 0.11178451031446457, 0.11178451031446457, 0.11178451031446457, 0.11178451031446457, 0.11178451031446457, 0.11178451031446457, 0.11178451031446457, 0.11178451031446457, 0.11178451031446457, 0.11178451031446457, 0.11178451031446457, 0.11178451031446457, 0.11178451031446457, 0.11178451031446457, 0.11178451031446457, 0.11178451031446457, 0.11178451031446457, 0.11178451031446457, 0.11178451031446457, 0.11178451031446457, 0.11178451031446457, 0.11178451031446457, 0.11178451031446457, 0.11178451031446457, 0.11178451031446457, 0.11178451031446457, 0.11178451031446457, 0.11178451031446457, 0.11178451031446457, 0.11178451031446457, 0.11178451031446457, 0.11178451031446457, 0.11178451031446457, 0.11178451031446457, 0.11178451031446457, 0.11178451031446457, 0.11178451031446457, 0.11178451031446457, 0.11178451031446457, 0.11178451031446457, 0.11178451031446457, 0.11178451031446457, 0.11178451031446457, 0.11178451031446457, 0.11178451031446457, 0.11178451031446457, 0.11178451031446457, 0.11178451031446457, 0.11178451031446457, 0.11178451031446457, 0.11178451031446457, 0.11178451031446457, 0.11178451031446457, 0.11178451031446457, 0.11178451031446457, 0.11178451031446457, 0.11178451031446457, 0.11178451031446457, 0.11178451031446457, 0.11178451031446457, 0.11178451031446457, 0.11178451031446457, 0.11178451031446457, 0.11178451031446457, 0.11178451031446457, 0.11178451031446457, 0.11178451031446457, 0.11178451031446457, 0.11178451031446457, 0.11178451031446457, 0.11178451031446457, 0.11178451031446457, 0.11178451031446457, 0.11178451031446457, 0.11178451031446457, 0.11178451031446457, 0.11178451031446457, 0.11178451031446457, 0.11178451031446457, 0.11178451031446457, 0.11178451031446457, 0.11178451031446457, 0.11178451031446457, 0.11178451031446457, 0.11178451031446457, 0.11178451031446457, 0.11178451031446457, 0.11178451031446457, 0.11178451031446457, 0.11178451031446457, 0.11178451031446457, 0.11178451031446457, 0.11178451031446457, 0.11178451031446457, 0.11178451031446457, 0.11178451031446457, 0.11178451031446457, 0.11178451031446457, 0.11178451031446457, 0.11178451031446457, 0.11178451031446457, 0.11178451031446457, 0.11178451031446457, 0.11178451031446457, 0.11178451031446457, 0.11178451031446457, 0.11178451031446457, 0.11178451031446457, 0.11178451031446457, 0.11178451031446457, 0.11178451031446457, 0.11178451031446457, 0.11178451031446457, 0.11178451031446457, 0.11178451031446457, 0.11178451031446457, 0.11178451031446457, 0.11178451031446457, 0.11178451031446457, 0.11178451031446457, 0.11178451031446457, 0.11178451031446457, 0.11178451031446457, 0.11178451031446457, 0.11178451031446457], 'loss': [2.4595490814803482, 2.427766749284312, 2.4036419421219377, 2.3850205177180523, 2.370097663392236, 2.358128058308303, 2.3483450398300634, 2.340229463852501, 2.3337317472240455, 2.3282295538061453, 2.3236777348263784, 2.3199181244314837, 2.31663927983756, 2.313924414151675, 2.3117009180792825, 2.309761029266864, 2.3080824087536524, 2.306716334148919, 2.3056040342752038, 2.3045358375725464, 2.3037075762452845, 2.3029712456817406, 2.3023628746104277, 2.301834234221157, 2.3014089719901696, 2.3010521360978076, 2.300731696091689, 2.300455737079549, 2.300242754012819, 2.300043793742963, 2.299868441247321, 2.299712580175799, 2.2995943263495637, 2.299469695634828, 2.2993754077267337, 2.299290889682192, 2.2992150848906108, 2.299152904637104, 2.299093600406619, 2.299056994794595, 2.2990090679124666, 2.2989731617304154, 2.2989305097819406, 2.2988917661779715, 2.298863642349904, 2.298828417570216, 2.29879837620998, 2.2987681914545584, 2.298738654041703, 2.298710254432491, 2.2986875181762345, 2.29865795000635, 2.2986357263672406, 2.298612099395686, 2.298589457199515, 2.2985667392460987, 2.298543480326775, 2.298522055200684, 2.2984973346688187, 2.2984774681740854, 2.298453250626293, 2.2984324732556143, 2.2984154254671125, 2.2983888432061, 2.2983669097289376, 2.2983461018076534, 2.298327318896119, 2.2983060110871065, 2.29828591663256, 2.2982626361764353, 2.2982401236139163, 2.2982207223966524, 2.2982017746907464, 2.298178953525824, 2.298158311637449, 2.2981363098342698, 2.2981189603929395, 2.2980974208396923, 2.2980708011473068, 2.2980577346394417, 2.298035373316183, 2.298014233879541, 2.297994879313878, 2.297974156645297, 2.297955163388713, 2.2979348702864213, 2.297915703565699, 2.2978926722621504, 2.2978738839836175, 2.2978534928992027, 2.297833328811293, 2.29781106450685, 2.297794465826015, 2.2977724102152375, 2.297751352728531, 2.2977293389528173, 2.2977105751010076, 2.2976901160346137, 2.297666756587283, 2.297648595284246, 2.2976271546764293, 2.2975997236039905, 2.297584909312481, 2.2975590352200155, 2.2975463837600203, 2.297522104147709, 2.2975029796748965, 2.2974796782324325, 2.2974648975190664, 2.297438256840341, 2.2974197473016824, 2.297397600933587, 2.297377882031307, 2.2973564125930763, 2.297336841420866, 2.2973138006218585, 2.2972922804723743, 2.297272005879346, 2.2972505737348725, 2.2972287695473237, 2.2972066788446335, 2.297186653610604, 2.2971622603968282, 2.2971442627184318, 2.2971223294476926, 2.297100090739703, 2.297077008036824, 2.2970566779848127, 2.297037626860978, 2.2970166644664727, 2.2969923660008593, 2.2969715521621152, 2.296951045962467, 2.2969283310365882, 2.2969082151140485, 2.296888598322352, 2.2968669913375876, 2.2968471791321066, 2.296825169003199, 2.2968039191302454, 2.2967834333664756, 2.296763706551314, 2.296743986204073, 2.2967243134029327, 2.296703519380798, 2.2966827999461783, 2.2966635236148365, 2.296642236585741, 2.2966220171764644, 2.296599972162068, 2.2965860372325904, 2.29656310700751, 2.296542619248317, 2.2965196594359383, 2.296503101214014, 2.296480595463454, 2.2964652174306983, 2.296440395476326, 2.2964248065480595, 2.296402196003417, 2.29638335260994, 2.2963599780937294, 2.296340975685725, 2.2963252084079757, 2.2963022611874004, 2.296283193824955, 2.296265686401213, 2.2962445004505856, 2.2962252217797836, 2.296206439281095, 2.2961839808014046, 2.2961646854791464, 2.296142106241994, 2.29612373775906, 2.296104025875163, 2.296083724309528, 2.296061426289326, 2.2960474122998344, 2.2960222684631786, 2.2960037851402424, 2.2959812982429844, 2.2959608598876997, 2.2959430327835193, 2.295924772466244, 2.2958985449775815, 2.295881155146149, 2.2958611569535337, 2.2958388644379455, 2.295819438656343, 2.2957988059193886, 2.2957785929780328, 2.2957607853464235, 2.295739384303017, 2.2957212079311002, 2.2956996120931783, 2.2956778358415435, 2.295655726010321, 2.2956377651440287, 2.295618601313229, 2.295595273517427], 'accuracy': [0.08751804, 0.08751804, 0.08751804, 0.08751804, 0.08751804, 0.08751804, 0.08751804, 0.08751804, 0.08751804, 0.08751804, 0.0975469, 0.12164502, 0.11435787, 0.114285715, 0.114285715, 0.114285715, 0.114285715, 0.114285715, 0.114285715, 0.114285715, 0.114285715, 0.114285715, 0.114285715, 0.114285715, 0.114285715, 0.114285715, 0.114285715, 0.114285715, 0.114285715, 0.114285715, 0.114285715, 0.114285715, 0.114285715, 0.114285715, 0.114285715, 0.114285715, 0.114285715, 0.114285715, 0.114285715, 0.114285715, 0.114285715, 0.114285715, 0.114285715, 0.114285715, 0.114285715, 0.114285715, 0.114285715, 0.114285715, 0.114285715, 0.114285715, 0.114285715, 0.114285715, 0.114285715, 0.114285715, 0.114285715, 0.114285715, 0.114285715, 0.114285715, 0.114285715, 0.114285715, 0.114285715, 0.114285715, 0.114285715, 0.114285715, 0.114285715, 0.114285715, 0.114285715, 0.114285715, 0.114285715, 0.114285715, 0.114285715, 0.114285715, 0.114285715, 0.114285715, 0.114285715, 0.114285715, 0.114285715, 0.114285715, 0.114285715, 0.114285715, 0.114285715, 0.114285715, 0.114285715, 0.114285715, 0.114285715, 0.114285715, 0.114285715, 0.114285715, 0.114285715, 0.114285715, 0.114285715, 0.114285715, 0.114285715, 0.114285715, 0.114285715, 0.114285715, 0.114285715, 0.114285715, 0.114285715, 0.114285715, 0.114285715, 0.114285715, 0.114285715, 0.114285715, 0.114285715, 0.114285715, 0.114285715, 0.114285715, 0.114285715, 0.114285715, 0.114285715, 0.114285715, 0.114285715, 0.114285715, 0.114285715, 0.114285715, 0.114285715, 0.114285715, 0.114285715, 0.114285715, 0.114285715, 0.114285715, 0.114285715, 0.114285715, 0.114285715, 0.114285715, 0.114285715, 0.114285715, 0.114285715, 0.114285715, 0.114285715, 0.114285715, 0.114285715, 0.114285715, 0.114285715, 0.114285715, 0.114285715, 0.114285715, 0.114285715, 0.114285715, 0.114285715, 0.114285715, 0.114285715, 0.114285715, 0.114285715, 0.114285715, 0.114285715, 0.114285715, 0.114285715, 0.114285715, 0.114285715, 0.114285715, 0.114285715, 0.114285715, 0.114285715, 0.114285715, 0.114285715, 0.114285715, 0.114285715, 0.114285715, 0.114285715, 0.114285715, 0.114285715, 0.114285715, 0.114285715, 0.114285715, 0.114285715, 0.114285715, 0.114285715, 0.114285715, 0.114285715, 0.114285715, 0.114285715, 0.114285715, 0.114285715, 0.114285715, 0.114285715, 0.114285715, 0.114285715, 0.114285715, 0.114285715, 0.114285715, 0.114285715, 0.114285715, 0.114285715, 0.114285715, 0.114285715, 0.114285715, 0.114285715, 0.114285715, 0.114285715, 0.114285715, 0.114285715, 0.114285715, 0.114285715, 0.114285715, 0.114285715, 0.114285715, 0.114285715, 0.114285715]}\n"
     ]
    }
   ],
   "source": [
    "print(history.history)"
   ]
  },
  {
   "cell_type": "code",
   "execution_count": 17,
   "metadata": {
    "ExecuteTime": {
     "end_time": "2020-01-21T06:26:10.945737Z",
     "start_time": "2020-01-21T06:26:10.845891Z"
    }
   },
   "outputs": [
    {
     "data": {
      "image/png": "[encoded data removed]",
      "text/plain": [
       "<Figure size 432x288 with 1 Axes>"
      ]
     },
     "metadata": {
      "needs_background": "light"
     },
     "output_type": "display_data"
    }
   ],
   "source": [
    "plt.plot(history.history['accuracy'])\n",
    "plt.plot(history.history['val_accuracy'])\n",
    "plt.legend(['training', 'validation'], loc = 'upper left')\n",
    "plt.show()"
   ]
  },
  {
   "cell_type": "code",
   "execution_count": 18,
   "metadata": {
    "ExecuteTime": {
     "end_time": "2020-01-21T06:26:11.139537Z",
     "start_time": "2020-01-21T06:26:10.946621Z"
    }
   },
   "outputs": [
    {
     "name": "stdout",
     "output_type": "stream",
     "text": [
      "10000/10000 [==============================] - 0s 19us/step\n"
     ]
    }
   ],
   "source": [
    "results = model.evaluate(X_test, y_test)"
   ]
  },
  {
   "cell_type": "code",
   "execution_count": 19,
   "metadata": {
    "ExecuteTime": {
     "end_time": "2020-01-21T06:26:11.144481Z",
     "start_time": "2020-01-21T06:26:11.140541Z"
    }
   },
   "outputs": [
    {
     "name": "stdout",
     "output_type": "stream",
     "text": [
      "Test accuracy:  0.11349999904632568\n"
     ]
    }
   ],
   "source": [
    "print('Test accuracy: ', results[1])"
   ]
  },
  {
   "cell_type": "markdown",
   "metadata": {},
   "source": [
    "---"
   ]
  },
  {
   "cell_type": "markdown",
   "metadata": {},
   "source": [
    "## 1. Weight Initialization\n",
    "\n",
    "### Xavier\n",
    "- **Standard deviation** = sqrt( 6 / (fan_in + fan_out))\n",
    "- **Normal distribution** : N(0, sqrt(2. / (fan_in + fan_out)))\n",
    "\n",
    "### HE\n",
    "- **Standard deviation** = limit is sqrt( 6 / fan_in)\n",
    "- **Normal distribution** : N(0, sqrt(2 / fan_in))\n",
    "    \n",
    "    \n",
    "   "
   ]
  },
  {
   "cell_type": "code",
   "execution_count": 20,
   "metadata": {
    "ExecuteTime": {
     "end_time": "2020-01-21T06:26:11.151461Z",
     "start_time": "2020-01-21T06:26:11.145479Z"
    }
   },
   "outputs": [],
   "source": [
    "# from now on, create a function to generate (return) models\n",
    "def mlp_model():\n",
    "    model = Sequential()\n",
    "    \n",
    "    model.add(Dense(50, input_shape = (784, ), kernel_initializer='he_normal'))     # use he_normal initializer\n",
    "    model.add(Activation('sigmoid'))    \n",
    "    model.add(Dense(50, kernel_initializer='he_normal'))                            # use he_normal initializer\n",
    "    model.add(Activation('sigmoid'))    \n",
    "    model.add(Dense(50, kernel_initializer='he_normal'))                            # use he_normal initializer\n",
    "    model.add(Activation('sigmoid'))    \n",
    "    model.add(Dense(50, kernel_initializer='he_normal'))                            # use he_normal initializer\n",
    "    model.add(Activation('sigmoid'))    \n",
    "    model.add(Dense(10, kernel_initializer='he_normal'))                            # use he_normal initializer\n",
    "    model.add(Activation('softmax'))\n",
    "    \n",
    "    sgd = optimizers.SGD(lr = 0.001)\n",
    "    model.compile(optimizer = sgd, loss = 'categorical_crossentropy', metrics = ['accuracy'])\n",
    "    \n",
    "    return model"
   ]
  },
  {
   "cell_type": "code",
   "execution_count": 21,
   "metadata": {
    "ExecuteTime": {
     "end_time": "2020-01-21T06:27:10.797683Z",
     "start_time": "2020-01-21T06:26:11.152458Z"
    }
   },
   "outputs": [],
   "source": [
    "model = mlp_model()\n",
    "history = model.fit(X_train, y_train, \n",
    "                    validation_split = 0.3, \n",
    "                    epochs = 100, \n",
    "                    verbose = 0)"
   ]
  },
  {
   "cell_type": "code",
   "execution_count": 22,
   "metadata": {
    "ExecuteTime": {
     "end_time": "2020-01-21T06:27:10.895209Z",
     "start_time": "2020-01-21T06:27:10.798428Z"
    }
   },
   "outputs": [
    {
     "data": {
      "image/png": "[encoded data removed]",
      "text/plain": [
       "<Figure size 432x288 with 1 Axes>"
      ]
     },
     "metadata": {
      "needs_background": "light"
     },
     "output_type": "display_data"
    }
   ],
   "source": [
    "plt.plot(history.history['accuracy'])\n",
    "plt.plot(history.history['val_accuracy'])\n",
    "plt.legend(['training', 'validation'], loc = 'upper left')\n",
    "plt.show()"
   ]
  },
  {
   "cell_type": "code",
   "execution_count": 23,
   "metadata": {
    "ExecuteTime": {
     "end_time": "2020-01-21T06:27:11.099604Z",
     "start_time": "2020-01-21T06:27:10.898247Z"
    }
   },
   "outputs": [
    {
     "name": "stdout",
     "output_type": "stream",
     "text": [
      "10000/10000 [==============================] - 0s 20us/step\n",
      "[2.0611085399627687, 0.3725000023841858]\n"
     ]
    }
   ],
   "source": [
    "results = model.evaluate(X_test, y_test)\n",
    "\n",
    "# loss값과 accuracy값을 리턴함\n",
    "print(results)"
   ]
  },
  {
   "cell_type": "code",
   "execution_count": 24,
   "metadata": {
    "ExecuteTime": {
     "end_time": "2020-01-21T06:27:11.105604Z",
     "start_time": "2020-01-21T06:27:11.101605Z"
    }
   },
   "outputs": [
    {
     "name": "stdout",
     "output_type": "stream",
     "text": [
      "Test accuracy:  0.3725000023841858\n"
     ]
    }
   ],
   "source": [
    "print('Test accuracy: ', results[1])"
   ]
  },
  {
   "cell_type": "markdown",
   "metadata": {},
   "source": [
    "---"
   ]
  },
  {
   "cell_type": "markdown",
   "metadata": {},
   "source": [
    "## 2. Nonlinearity (Activation function)\n",
    "### 위의 예제에서 activate function을 relu로 바꿔보기"
   ]
  },
  {
   "cell_type": "code",
   "execution_count": 25,
   "metadata": {
    "ExecuteTime": {
     "end_time": "2020-01-21T06:27:11.113525Z",
     "start_time": "2020-01-21T06:27:11.106544Z"
    }
   },
   "outputs": [],
   "source": [
    "# from now on, create a function to generate (return) models\n",
    "def mlp_model():\n",
    "    model = Sequential()\n",
    "    \n",
    "    model.add(Dense(50, input_shape = (784, ), kernel_initializer='he_normal'))     # use he_normal initializer\n",
    "    model.add(Activation('relu'))    \n",
    "    model.add(Dense(50, kernel_initializer='he_normal'))                            # use he_normal initializer\n",
    "    model.add(Activation('relu'))    \n",
    "    model.add(Dense(50, kernel_initializer='he_normal'))                            # use he_normal initializer\n",
    "    model.add(Activation('relu'))    \n",
    "    model.add(Dense(50, kernel_initializer='he_normal'))                            # use he_normal initializer\n",
    "    model.add(Activation('relu'))    \n",
    "    model.add(Dense(10, kernel_initializer='he_normal'))                            # use he_normal initializer\n",
    "    model.add(Activation('softmax'))\n",
    "    \n",
    "    sgd = optimizers.SGD(lr = 0.001)\n",
    "    model.compile(optimizer = sgd, loss = 'categorical_crossentropy', metrics = ['accuracy'])\n",
    "    \n",
    "    return model"
   ]
  },
  {
   "cell_type": "code",
   "execution_count": 26,
   "metadata": {
    "ExecuteTime": {
     "end_time": "2020-01-21T06:28:12.849727Z",
     "start_time": "2020-01-21T06:27:11.114522Z"
    }
   },
   "outputs": [],
   "source": [
    "model = mlp_model()\n",
    "history = model.fit(X_train, y_train, \n",
    "                    validation_split = 0.3, \n",
    "                    epochs = 100, \n",
    "                    verbose = 0)"
   ]
  },
  {
   "cell_type": "code",
   "execution_count": 27,
   "metadata": {
    "ExecuteTime": {
     "end_time": "2020-01-21T06:28:12.947231Z",
     "start_time": "2020-01-21T06:28:12.850487Z"
    }
   },
   "outputs": [
    {
     "data": {
      "image/png": "[encoded data removed]",
      "text/plain": [
       "<Figure size 432x288 with 1 Axes>"
      ]
     },
     "metadata": {
      "needs_background": "light"
     },
     "output_type": "display_data"
    }
   ],
   "source": [
    "plt.plot(history.history['accuracy'])\n",
    "plt.plot(history.history['val_accuracy'])\n",
    "plt.legend(['training', 'validation'], loc = 'upper left')\n",
    "plt.show()"
   ]
  },
  {
   "cell_type": "markdown",
   "metadata": {},
   "source": [
    "## 3. Optimizers"
   ]
  },
  {
   "cell_type": "code",
   "execution_count": 28,
   "metadata": {
    "ExecuteTime": {
     "end_time": "2020-01-21T06:28:12.952849Z",
     "start_time": "2020-01-21T06:28:12.948228Z"
    }
   },
   "outputs": [],
   "source": [
    "# 비록 sigmoid를 썼지만 adam을 썼기 때문에 결과가 좋음(밑의 그래프 참조)\n",
    "def mlp_model():\n",
    "    model = Sequential()\n",
    "    \n",
    "    model.add(Dense(50, input_shape = (784, )))\n",
    "    model.add(Activation('sigmoid'))    \n",
    "    model.add(Dense(50))\n",
    "    model.add(Activation('sigmoid'))  \n",
    "    model.add(Dense(50))\n",
    "    model.add(Activation('sigmoid'))    \n",
    "    model.add(Dense(50))\n",
    "    model.add(Activation('sigmoid'))    \n",
    "    model.add(Dense(10))\n",
    "    model.add(Activation('softmax'))\n",
    "    \n",
    "    adam = optimizers.Adam(lr = 0.001)                     # use Adam optimizer\n",
    "    model.compile(optimizer = adam, loss = 'categorical_crossentropy', metrics = ['accuracy'])\n",
    "    \n",
    "    return model"
   ]
  },
  {
   "cell_type": "code",
   "execution_count": 29,
   "metadata": {
    "ExecuteTime": {
     "end_time": "2020-01-21T06:29:18.074314Z",
     "start_time": "2020-01-21T06:28:12.953847Z"
    }
   },
   "outputs": [],
   "source": [
    "model = mlp_model()\n",
    "history = model.fit(X_train, y_train, \n",
    "                    validation_split = 0.3, \n",
    "                    epochs = 100, \n",
    "                    verbose = 0)"
   ]
  },
  {
   "cell_type": "code",
   "execution_count": 30,
   "metadata": {
    "ExecuteTime": {
     "end_time": "2020-01-21T06:29:18.170348Z",
     "start_time": "2020-01-21T06:29:18.075618Z"
    }
   },
   "outputs": [
    {
     "data": {
      "image/png": "[encoded data removed]",
      "text/plain": [
       "<Figure size 432x288 with 1 Axes>"
      ]
     },
     "metadata": {
      "needs_background": "light"
     },
     "output_type": "display_data"
    }
   ],
   "source": [
    "plt.plot(history.history['accuracy'])\n",
    "plt.plot(history.history['val_accuracy'])\n",
    "plt.legend(['training', 'validation'], loc = 'upper left')\n",
    "plt.show()"
   ]
  },
  {
   "cell_type": "code",
   "execution_count": 31,
   "metadata": {
    "ExecuteTime": {
     "end_time": "2020-01-21T06:29:18.364444Z",
     "start_time": "2020-01-21T06:29:18.171307Z"
    }
   },
   "outputs": [
    {
     "name": "stdout",
     "output_type": "stream",
     "text": [
      "10000/10000 [==============================] - 0s 19us/step\n"
     ]
    }
   ],
   "source": [
    "results = model.evaluate(X_test, y_test)"
   ]
  },
  {
   "cell_type": "code",
   "execution_count": 32,
   "metadata": {
    "ExecuteTime": {
     "end_time": "2020-01-21T06:29:18.369323Z",
     "start_time": "2020-01-21T06:29:18.365293Z"
    }
   },
   "outputs": [
    {
     "name": "stdout",
     "output_type": "stream",
     "text": [
      "Test accuracy:  0.9225000143051147\n"
     ]
    }
   ],
   "source": [
    "print('Test accuracy: ', results[1])"
   ]
  },
  {
   "cell_type": "markdown",
   "metadata": {},
   "source": [
    "---"
   ]
  },
  {
   "cell_type": "markdown",
   "metadata": {},
   "source": [
    "## 4. Batch Normalization\n",
    "\n",
    "비선형 변환 전에 추가"
   ]
  },
  {
   "cell_type": "code",
   "execution_count": 33,
   "metadata": {
    "ExecuteTime": {
     "end_time": "2020-01-21T06:29:18.377269Z",
     "start_time": "2020-01-21T06:29:18.370280Z"
    }
   },
   "outputs": [],
   "source": [
    "def mlp_model():\n",
    "    model = Sequential()\n",
    "    \n",
    "    model.add(Dense(50, input_shape = (784, )))\n",
    "    model.add(BatchNormalization())  ## 이것만 추가   (배치는 activation 전에 한다.)\n",
    "    model.add(Activation('sigmoid'))\n",
    "    \n",
    "    model.add(Dense(50))\n",
    "    model.add(BatchNormalization())     #\n",
    "    model.add(Activation('sigmoid'))\n",
    "    \n",
    "    model.add(Dense(50))\n",
    "    model.add(BatchNormalization())       #\n",
    "    model.add(Activation('sigmoid'))\n",
    "    \n",
    "    model.add(Dense(50))\n",
    "    model.add(BatchNormalization())       #\n",
    "    model.add(Activation('sigmoid'))\n",
    "    \n",
    "    model.add(Dense(10))\n",
    "    model.add(Activation('softmax'))\n",
    "    \n",
    "    sgd = optimizers.SGD(lr = 0.001)\n",
    "    model.compile(optimizer = sgd, loss = 'categorical_crossentropy', metrics = ['accuracy'])\n",
    "    \n",
    "    return model"
   ]
  },
  {
   "cell_type": "code",
   "execution_count": 34,
   "metadata": {
    "ExecuteTime": {
     "end_time": "2020-01-21T06:30:45.113306Z",
     "start_time": "2020-01-21T06:29:18.378201Z"
    }
   },
   "outputs": [],
   "source": [
    "model = mlp_model()\n",
    "history = model.fit(X_train, y_train, \n",
    "                    validation_split = 0.3, \n",
    "                    epochs = 100, \n",
    "                    verbose = 0)"
   ]
  },
  {
   "cell_type": "code",
   "execution_count": 35,
   "metadata": {
    "ExecuteTime": {
     "end_time": "2020-01-21T06:30:45.223925Z",
     "start_time": "2020-01-21T06:30:45.114218Z"
    }
   },
   "outputs": [
    {
     "data": {
      "image/png": "[encoded data removed]",
      "text/plain": [
       "<Figure size 432x288 with 1 Axes>"
      ]
     },
     "metadata": {
      "needs_background": "light"
     },
     "output_type": "display_data"
    }
   ],
   "source": [
    "plt.plot(history.history['accuracy'])\n",
    "plt.plot(history.history['val_accuracy'])\n",
    "plt.legend(['training', 'validation'], loc = 'upper left')\n",
    "plt.show()"
   ]
  },
  {
   "cell_type": "code",
   "execution_count": 36,
   "metadata": {
    "ExecuteTime": {
     "end_time": "2020-01-21T06:30:45.466888Z",
     "start_time": "2020-01-21T06:30:45.224922Z"
    }
   },
   "outputs": [
    {
     "name": "stdout",
     "output_type": "stream",
     "text": [
      "10000/10000 [==============================] - 0s 24us/step\n"
     ]
    }
   ],
   "source": [
    "results = model.evaluate(X_test, y_test)"
   ]
  },
  {
   "cell_type": "code",
   "execution_count": 37,
   "metadata": {
    "ExecuteTime": {
     "end_time": "2020-01-21T06:30:45.471874Z",
     "start_time": "2020-01-21T06:30:45.467941Z"
    }
   },
   "outputs": [
    {
     "name": "stdout",
     "output_type": "stream",
     "text": [
      "Test accuracy:  0.9103999733924866\n"
     ]
    }
   ],
   "source": [
    "print('Test accuracy: ', results[1])"
   ]
  },
  {
   "cell_type": "markdown",
   "metadata": {},
   "source": [
    "---"
   ]
  },
  {
   "cell_type": "markdown",
   "metadata": {},
   "source": [
    "## 5. Dropout (Regularization)\n",
    "\n",
    "weight를 0으로 만들어주는 효과"
   ]
  },
  {
   "cell_type": "code",
   "execution_count": 38,
   "metadata": {
    "ExecuteTime": {
     "end_time": "2020-01-21T06:30:45.479421Z",
     "start_time": "2020-01-21T06:30:45.472438Z"
    }
   },
   "outputs": [],
   "source": [
    "\n",
    "# Droupout은 크게 잡는다.\n",
    "\n",
    "def mlp_model():\n",
    "    model = Sequential()\n",
    "    \n",
    "    model.add(Dense(50, input_shape = (784, )))\n",
    "    model.add(Activation('sigmoid'))    \n",
    "    model.add(Dropout(0.5))                        # Dropout layer after Activation\n",
    "    \n",
    "    model.add(Dense(50))\n",
    "    model.add(Activation('sigmoid'))\n",
    "    model.add(Dropout(0.5))                        # Dropout layer after Activation\n",
    "    \n",
    "    model.add(Dense(50))\n",
    "    model.add(Activation('sigmoid'))    \n",
    "    model.add(Dropout(0.5))                        # Dropout layer after Activation\n",
    "    \n",
    "    model.add(Dense(50))\n",
    "    model.add(Activation('sigmoid'))    \n",
    "    model.add(Dropout(0.5))                         # Dropout layer after Activation\n",
    "    \n",
    "    model.add(Dense(10))\n",
    "    model.add(Activation('softmax'))\n",
    "    \n",
    "    sgd = optimizers.SGD(lr = 0.001)\n",
    "    model.compile(optimizer = sgd, loss = 'categorical_crossentropy', metrics = ['accuracy'])\n",
    "    \n",
    "    return model"
   ]
  },
  {
   "cell_type": "code",
   "execution_count": 39,
   "metadata": {
    "ExecuteTime": {
     "end_time": "2020-01-21T06:31:57.968649Z",
     "start_time": "2020-01-21T06:30:45.480418Z"
    }
   },
   "outputs": [],
   "source": [
    "model = mlp_model()\n",
    "history = model.fit(X_train, y_train, \n",
    "                    validation_split = 0.3, \n",
    "                    epochs = 100, \n",
    "                    verbose = 0)"
   ]
  },
  {
   "cell_type": "code",
   "execution_count": 40,
   "metadata": {
    "ExecuteTime": {
     "end_time": "2020-01-21T06:31:58.077346Z",
     "start_time": "2020-01-21T06:31:57.969926Z"
    }
   },
   "outputs": [
    {
     "data": {
      "image/png": "[encoded data removed]",
      "text/plain": [
       "<Figure size 432x288 with 1 Axes>"
      ]
     },
     "metadata": {
      "needs_background": "light"
     },
     "output_type": "display_data"
    }
   ],
   "source": [
    "plt.plot(history.history['accuracy'])\n",
    "plt.plot(history.history['val_accuracy'])\n",
    "plt.legend(['training', 'validation'], loc = 'upper left')\n",
    "plt.show()"
   ]
  },
  {
   "cell_type": "code",
   "execution_count": 41,
   "metadata": {
    "ExecuteTime": {
     "end_time": "2020-01-21T06:31:58.281107Z",
     "start_time": "2020-01-21T06:31:58.078270Z"
    }
   },
   "outputs": [
    {
     "name": "stdout",
     "output_type": "stream",
     "text": [
      "10000/10000 [==============================] - 0s 20us/step\n"
     ]
    }
   ],
   "source": [
    "results = model.evaluate(X_test, y_test)"
   ]
  },
  {
   "cell_type": "code",
   "execution_count": 42,
   "metadata": {
    "ExecuteTime": {
     "end_time": "2020-01-21T06:31:58.286310Z",
     "start_time": "2020-01-21T06:31:58.282321Z"
    }
   },
   "outputs": [
    {
     "name": "stdout",
     "output_type": "stream",
     "text": [
      "Test accuracy:  0.11349999904632568\n"
     ]
    }
   ],
   "source": [
    "print('Test accuracy: ', results[1])"
   ]
  },
  {
   "cell_type": "markdown",
   "metadata": {},
   "source": [
    "---"
   ]
  },
  {
   "cell_type": "markdown",
   "metadata": {},
   "source": [
    "## 6. Model Ensemble"
   ]
  },
  {
   "cell_type": "code",
   "execution_count": 43,
   "metadata": {
    "ExecuteTime": {
     "end_time": "2020-01-21T06:31:58.294292Z",
     "start_time": "2020-01-21T06:31:58.287307Z"
    }
   },
   "outputs": [
    {
     "name": "stdout",
     "output_type": "stream",
     "text": [
      "8.0\n",
      "5\n",
      "0\n",
      "\n",
      "\n",
      "[0 0 2 1]\n"
     ]
    }
   ],
   "source": [
    "# argmax : 최대값의 인덱스 리턴\n",
    "\n",
    "print(np.max([1,2,3,4,1,8, 2.4]))\n",
    "print(np.argmax([1,2,3,4,1,8, 2.4]))\n",
    "print(np.argmax([1,0,0,0,0,0,0]))\n",
    "print('\\n')\n",
    "\n",
    "label = [0,0,2,1]\n",
    "x = np.array([[1,0,0],[1,0,0],[0,0,1],[0,1,0]])\n",
    "print(np.argmax(x,axis=1))\n"
   ]
  },
  {
   "cell_type": "code",
   "execution_count": 10,
   "metadata": {
    "ExecuteTime": {
     "end_time": "2020-01-21T06:50:18.063103Z",
     "start_time": "2020-01-21T06:50:18.059153Z"
    },
    "scrolled": true
   },
   "outputs": [],
   "source": [
    "y_train = np.argmax(y_train, axis = 1)\n",
    "y_test = np.argmax(y_test, axis = 1)"
   ]
  },
  {
   "cell_type": "code",
   "execution_count": 11,
   "metadata": {
    "ExecuteTime": {
     "end_time": "2020-01-21T06:50:18.631041Z",
     "start_time": "2020-01-21T06:50:18.627052Z"
    }
   },
   "outputs": [
    {
     "name": "stdout",
     "output_type": "stream",
     "text": [
      "[6 9 2 ... 5 5 3]\n",
      "[7 2 1 ... 4 5 6]\n"
     ]
    }
   ],
   "source": [
    "print(y_train)\n",
    "print(y_test)"
   ]
  },
  {
   "cell_type": "code",
   "execution_count": 12,
   "metadata": {
    "ExecuteTime": {
     "end_time": "2020-01-21T06:50:19.176748Z",
     "start_time": "2020-01-21T06:50:19.170732Z"
    }
   },
   "outputs": [],
   "source": [
    "def mlp_model():\n",
    "    model = Sequential()\n",
    "    \n",
    "    model.add(Dense(50, input_shape = (784, )))\n",
    "    model.add(Activation('sigmoid'))    \n",
    "    model.add(Dense(50))\n",
    "    model.add(Activation('sigmoid'))    \n",
    "    model.add(Dense(50))\n",
    "    model.add(Activation('sigmoid'))    \n",
    "    model.add(Dense(50))\n",
    "    model.add(Activation('sigmoid'))    \n",
    "    model.add(Dense(10))\n",
    "    model.add(Activation('softmax'))\n",
    "    \n",
    "    sgd = optimizers.SGD(lr = 0.001)\n",
    "    model.compile(optimizer = sgd, loss = 'categorical_crossentropy', metrics = ['accuracy'])\n",
    "    \n",
    "    return model"
   ]
  },
  {
   "cell_type": "code",
   "execution_count": 13,
   "metadata": {
    "ExecuteTime": {
     "end_time": "2020-01-21T06:50:22.240046Z",
     "start_time": "2020-01-21T06:50:22.236060Z"
    }
   },
   "outputs": [],
   "source": [
    "model1 = KerasClassifier(build_fn = mlp_model, epochs = 100, verbose = 1)\n",
    "model2 = KerasClassifier(build_fn = mlp_model, epochs = 100, verbose = 1)\n",
    "model3 = KerasClassifier(build_fn = mlp_model, epochs = 100, verbose = 1)"
   ]
  },
  {
   "cell_type": "code",
   "execution_count": 14,
   "metadata": {
    "ExecuteTime": {
     "end_time": "2020-01-21T06:50:23.209398Z",
     "start_time": "2020-01-21T06:50:23.205409Z"
    }
   },
   "outputs": [],
   "source": [
    "ensemble_clf = VotingClassifier(estimators = [('model1', model1), \n",
    "                                              ('model2', model2), \n",
    "                                              ('model3', model3)], \n",
    "                                voting = 'soft')"
   ]
  },
  {
   "cell_type": "code",
   "execution_count": 15,
   "metadata": {
    "ExecuteTime": {
     "end_time": "2020-01-21T06:53:47.047230Z",
     "start_time": "2020-01-21T06:50:23.825154Z"
    },
    "scrolled": true
   },
   "outputs": [
    {
     "name": "stdout",
     "output_type": "stream",
     "text": [
      "Epoch 1/100\n",
      "19800/19800 [==============================] - 1s 36us/step - loss: 2.3655 - accuracy: 0.1021\n",
      "Epoch 2/100\n",
      "19800/19800 [==============================] - 1s 33us/step - loss: 2.3117 - accuracy: 0.1039\n",
      "Epoch 3/100\n",
      "19800/19800 [==============================] - 1s 33us/step - loss: 2.3024 - accuracy: 0.1135\n",
      "Epoch 4/100\n",
      "19800/19800 [==============================] - 1s 33us/step - loss: 2.3004 - accuracy: 0.1135\n",
      "Epoch 5/100\n",
      "19800/19800 [==============================] - 1s 33us/step - loss: 2.2998 - accuracy: 0.1135\n",
      "Epoch 6/100\n",
      "19800/19800 [==============================] - 1s 34us/step - loss: 2.2994 - accuracy: 0.1135\n",
      "Epoch 7/100\n",
      "19800/19800 [==============================] - 1s 33us/step - loss: 2.2991 - accuracy: 0.1135\n",
      "Epoch 8/100\n",
      "19800/19800 [==============================] - 1s 33us/step - loss: 2.2987 - accuracy: 0.1135\n",
      "Epoch 9/100\n",
      "19800/19800 [==============================] - 1s 33us/step - loss: 2.2984 - accuracy: 0.1135\n",
      "Epoch 10/100\n",
      "19800/19800 [==============================] - 1s 33us/step - loss: 2.2980 - accuracy: 0.1135\n",
      "Epoch 11/100\n",
      "19800/19800 [==============================] - 1s 33us/step - loss: 2.2977 - accuracy: 0.1135\n",
      "Epoch 12/100\n",
      "19800/19800 [==============================] - 1s 33us/step - loss: 2.2973 - accuracy: 0.1135\n",
      "Epoch 13/100\n",
      "19800/19800 [==============================] - 1s 33us/step - loss: 2.2970 - accuracy: 0.1135\n",
      "Epoch 14/100\n",
      "19800/19800 [==============================] - 1s 33us/step - loss: 2.2967 - accuracy: 0.1135\n",
      "Epoch 15/100\n",
      "19800/19800 [==============================] - 1s 33us/step - loss: 2.2964 - accuracy: 0.1135\n",
      "Epoch 16/100\n",
      "19800/19800 [==============================] - 1s 33us/step - loss: 2.2960 - accuracy: 0.1135\n",
      "Epoch 17/100\n",
      "19800/19800 [==============================] - 1s 33us/step - loss: 2.2957 - accuracy: 0.1135\n",
      "Epoch 18/100\n",
      "19800/19800 [==============================] - 1s 33us/step - loss: 2.2954 - accuracy: 0.1135\n",
      "Epoch 19/100\n",
      "19800/19800 [==============================] - 1s 33us/step - loss: 2.2950 - accuracy: 0.1135\n",
      "Epoch 20/100\n",
      "19800/19800 [==============================] - 1s 33us/step - loss: 2.2947 - accuracy: 0.1135\n",
      "Epoch 21/100\n",
      "19800/19800 [==============================] - 1s 33us/step - loss: 2.2943 - accuracy: 0.1135\n",
      "Epoch 22/100\n",
      "19800/19800 [==============================] - 1s 33us/step - loss: 2.2940 - accuracy: 0.1135\n",
      "Epoch 23/100\n",
      "19800/19800 [==============================] - 1s 33us/step - loss: 2.2936 - accuracy: 0.1135\n",
      "Epoch 24/100\n",
      "19800/19800 [==============================] - 1s 33us/step - loss: 2.2933 - accuracy: 0.1135\n",
      "Epoch 25/100\n",
      "19800/19800 [==============================] - 1s 33us/step - loss: 2.2929 - accuracy: 0.1135\n",
      "Epoch 26/100\n",
      "19800/19800 [==============================] - 1s 33us/step - loss: 2.2925 - accuracy: 0.1135\n",
      "Epoch 27/100\n",
      "19800/19800 [==============================] - 1s 33us/step - loss: 2.2922 - accuracy: 0.1135\n",
      "Epoch 28/100\n",
      "19800/19800 [==============================] - 1s 33us/step - loss: 2.2918 - accuracy: 0.1135\n",
      "Epoch 29/100\n",
      "19800/19800 [==============================] - 1s 33us/step - loss: 2.2914 - accuracy: 0.1135\n",
      "Epoch 30/100\n",
      "19800/19800 [==============================] - 1s 33us/step - loss: 2.2910 - accuracy: 0.1135\n",
      "Epoch 31/100\n",
      "19800/19800 [==============================] - 1s 36us/step - loss: 2.2906 - accuracy: 0.1135\n",
      "Epoch 32/100\n",
      "19800/19800 [==============================] - 1s 34us/step - loss: 2.2902 - accuracy: 0.1135\n",
      "Epoch 33/100\n",
      "19800/19800 [==============================] - 1s 33us/step - loss: 2.2898 - accuracy: 0.1135\n",
      "Epoch 34/100\n",
      "19800/19800 [==============================] - 1s 33us/step - loss: 2.2894 - accuracy: 0.1135\n",
      "Epoch 35/100\n",
      "19800/19800 [==============================] - 1s 33us/step - loss: 2.2890 - accuracy: 0.1135 0s - loss: 2.2889 - accura\n",
      "Epoch 36/100\n",
      "19800/19800 [==============================] - 1s 33us/step - loss: 2.2886 - accuracy: 0.1135\n",
      "Epoch 37/100\n",
      "19800/19800 [==============================] - 1s 33us/step - loss: 2.2882 - accuracy: 0.1135\n",
      "Epoch 38/100\n",
      "19800/19800 [==============================] - 1s 33us/step - loss: 2.2877 - accuracy: 0.1135\n",
      "Epoch 39/100\n",
      "19800/19800 [==============================] - 1s 33us/step - loss: 2.2873 - accuracy: 0.1135\n",
      "Epoch 40/100\n",
      "19800/19800 [==============================] - 1s 33us/step - loss: 2.2868 - accuracy: 0.1135\n",
      "Epoch 41/100\n",
      "19800/19800 [==============================] - 1s 33us/step - loss: 2.2864 - accuracy: 0.1135\n",
      "Epoch 42/100\n",
      "19800/19800 [==============================] - 1s 33us/step - loss: 2.2859 - accuracy: 0.1135\n",
      "Epoch 43/100\n",
      "19800/19800 [==============================] - 1s 33us/step - loss: 2.2854 - accuracy: 0.1135\n",
      "Epoch 44/100\n",
      "19800/19800 [==============================] - 1s 33us/step - loss: 2.2849 - accuracy: 0.1135\n",
      "Epoch 45/100\n",
      "19800/19800 [==============================] - 1s 33us/step - loss: 2.2844 - accuracy: 0.1135\n",
      "Epoch 46/100\n",
      "19800/19800 [==============================] - 1s 33us/step - loss: 2.2839 - accuracy: 0.1135\n",
      "Epoch 47/100\n",
      "19800/19800 [==============================] - 1s 34us/step - loss: 2.2834 - accuracy: 0.1135\n",
      "Epoch 48/100\n",
      "19800/19800 [==============================] - 1s 33us/step - loss: 2.2829 - accuracy: 0.1135\n",
      "Epoch 49/100\n",
      "19800/19800 [==============================] - 1s 33us/step - loss: 2.2823 - accuracy: 0.1135\n",
      "Epoch 50/100\n",
      "19800/19800 [==============================] - 1s 33us/step - loss: 2.2818 - accuracy: 0.1135\n",
      "Epoch 51/100\n",
      "19800/19800 [==============================] - 1s 33us/step - loss: 2.2812 - accuracy: 0.1135\n",
      "Epoch 52/100\n",
      "19800/19800 [==============================] - 1s 33us/step - loss: 2.2806 - accuracy: 0.1135\n",
      "Epoch 53/100\n",
      "19800/19800 [==============================] - 1s 33us/step - loss: 2.2800 - accuracy: 0.1135\n",
      "Epoch 54/100\n",
      "19800/19800 [==============================] - 1s 33us/step - loss: 2.2793 - accuracy: 0.1135\n",
      "Epoch 55/100\n",
      "19800/19800 [==============================] - 1s 33us/step - loss: 2.2787 - accuracy: 0.1135\n",
      "Epoch 56/100\n",
      "19800/19800 [==============================] - 1s 33us/step - loss: 2.2781 - accuracy: 0.1135\n",
      "Epoch 57/100\n",
      "19800/19800 [==============================] - 1s 33us/step - loss: 2.2774 - accuracy: 0.1135\n",
      "Epoch 58/100\n",
      "19800/19800 [==============================] - 1s 34us/step - loss: 2.2767 - accuracy: 0.1135\n",
      "Epoch 59/100\n",
      "19800/19800 [==============================] - 1s 33us/step - loss: 2.2760 - accuracy: 0.1135\n",
      "Epoch 60/100\n",
      "19800/19800 [==============================] - 1s 33us/step - loss: 2.2753 - accuracy: 0.1135\n",
      "Epoch 61/100\n",
      "19800/19800 [==============================] - 1s 33us/step - loss: 2.2745 - accuracy: 0.1135\n",
      "Epoch 62/100\n",
      "19800/19800 [==============================] - 1s 33us/step - loss: 2.2738 - accuracy: 0.1135\n",
      "Epoch 63/100\n",
      "19800/19800 [==============================] - 1s 33us/step - loss: 2.2730 - accuracy: 0.1135\n",
      "Epoch 64/100\n",
      "19800/19800 [==============================] - 1s 33us/step - loss: 2.2721 - accuracy: 0.1135\n",
      "Epoch 65/100\n",
      "19800/19800 [==============================] - 1s 33us/step - loss: 2.2713 - accuracy: 0.1136\n",
      "Epoch 66/100\n",
      "19800/19800 [==============================] - 1s 33us/step - loss: 2.2704 - accuracy: 0.1135\n",
      "Epoch 67/100\n",
      "19800/19800 [==============================] - 1s 33us/step - loss: 2.2695 - accuracy: 0.1136\n",
      "Epoch 68/100\n",
      "19800/19800 [==============================] - 1s 33us/step - loss: 2.2685 - accuracy: 0.1135\n",
      "Epoch 69/100\n",
      "19800/19800 [==============================] - 1s 33us/step - loss: 2.2675 - accuracy: 0.1151\n",
      "Epoch 70/100\n",
      "19800/19800 [==============================] - 1s 33us/step - loss: 2.2665 - accuracy: 0.1142\n",
      "Epoch 71/100\n",
      "19800/19800 [==============================] - 1s 33us/step - loss: 2.2655 - accuracy: 0.1145\n",
      "Epoch 72/100\n",
      "19800/19800 [==============================] - 1s 33us/step - loss: 2.2644 - accuracy: 0.1150\n",
      "Epoch 73/100\n",
      "19800/19800 [==============================] - 1s 33us/step - loss: 2.2633 - accuracy: 0.1138\n",
      "Epoch 74/100\n",
      "19800/19800 [==============================] - 1s 34us/step - loss: 2.2620 - accuracy: 0.1161\n",
      "Epoch 75/100\n",
      "19800/19800 [==============================] - 1s 34us/step - loss: 2.2608 - accuracy: 0.1154\n",
      "Epoch 76/100\n",
      "19800/19800 [==============================] - 1s 33us/step - loss: 2.2595 - accuracy: 0.1187\n",
      "Epoch 77/100\n",
      "19800/19800 [==============================] - 1s 34us/step - loss: 2.2582 - accuracy: 0.1224 0s - loss: 2.2584 - accuracy: 0.12\n",
      "Epoch 78/100\n",
      "19800/19800 [==============================] - 1s 33us/step - loss: 2.2568 - accuracy: 0.1255\n",
      "Epoch 79/100\n",
      "19800/19800 [==============================] - 1s 33us/step - loss: 2.2554 - accuracy: 0.1692\n",
      "Epoch 80/100\n",
      "19800/19800 [==============================] - 1s 33us/step - loss: 2.2539 - accuracy: 0.1526\n",
      "Epoch 81/100\n",
      "19800/19800 [==============================] - 1s 34us/step - loss: 2.2524 - accuracy: 0.1696\n",
      "Epoch 82/100\n",
      "19800/19800 [==============================] - 1s 33us/step - loss: 2.2508 - accuracy: 0.1549\n",
      "Epoch 83/100\n",
      "19800/19800 [==============================] - 1s 33us/step - loss: 2.2491 - accuracy: 0.1989\n",
      "Epoch 84/100\n",
      "19800/19800 [==============================] - 1s 33us/step - loss: 2.2474 - accuracy: 0.1957\n",
      "Epoch 85/100\n",
      "19800/19800 [==============================] - 1s 33us/step - loss: 2.2456 - accuracy: 0.2135\n",
      "Epoch 86/100\n",
      "19800/19800 [==============================] - 1s 34us/step - loss: 2.2438 - accuracy: 0.2057\n",
      "Epoch 87/100\n",
      "19800/19800 [==============================] - 1s 33us/step - loss: 2.2418 - accuracy: 0.2780\n",
      "Epoch 88/100\n",
      "19800/19800 [==============================] - 1s 33us/step - loss: 2.2398 - accuracy: 0.2460\n",
      "Epoch 89/100\n",
      "19800/19800 [==============================] - 1s 33us/step - loss: 2.2376 - accuracy: 0.2653\n",
      "Epoch 90/100\n",
      "19800/19800 [==============================] - 1s 33us/step - loss: 2.2353 - accuracy: 0.2569\n",
      "Epoch 91/100\n",
      "19800/19800 [==============================] - 1s 33us/step - loss: 2.2329 - accuracy: 0.3168\n",
      "Epoch 92/100\n",
      "19800/19800 [==============================] - 1s 35us/step - loss: 2.2304 - accuracy: 0.2872\n",
      "Epoch 93/100\n",
      "19800/19800 [==============================] - 1s 34us/step - loss: 2.2278 - accuracy: 0.3189\n",
      "Epoch 94/100\n",
      "19800/19800 [==============================] - 1s 34us/step - loss: 2.2252 - accuracy: 0.3379\n",
      "Epoch 95/100\n",
      "19800/19800 [==============================] - 1s 34us/step - loss: 2.2223 - accuracy: 0.3381\n",
      "Epoch 96/100\n",
      "19800/19800 [==============================] - 1s 33us/step - loss: 2.2193 - accuracy: 0.3366\n",
      "Epoch 97/100\n",
      "19800/19800 [==============================] - 1s 33us/step - loss: 2.2162 - accuracy: 0.3283\n",
      "Epoch 98/100\n",
      "19800/19800 [==============================] - 1s 33us/step - loss: 2.2130 - accuracy: 0.3528\n",
      "Epoch 99/100\n",
      "19800/19800 [==============================] - 1s 33us/step - loss: 2.2095 - accuracy: 0.3824\n",
      "Epoch 100/100\n",
      "19800/19800 [==============================] - 1s 33us/step - loss: 2.2059 - accuracy: 0.3401\n",
      "Epoch 1/100\n",
      "19800/19800 [==============================] - 1s 36us/step - loss: 2.4883 - accuracy: 0.1135\n",
      "Epoch 2/100\n",
      "19800/19800 [==============================] - 1s 34us/step - loss: 2.3385 - accuracy: 0.1135\n",
      "Epoch 3/100\n",
      "19800/19800 [==============================] - 1s 34us/step - loss: 2.3075 - accuracy: 0.1135\n",
      "Epoch 4/100\n",
      "19800/19800 [==============================] - 1s 34us/step - loss: 2.3011 - accuracy: 0.1135\n",
      "Epoch 5/100\n",
      "19800/19800 [==============================] - 1s 34us/step - loss: 2.2996 - accuracy: 0.1135\n",
      "Epoch 6/100\n",
      "19800/19800 [==============================] - 1s 34us/step - loss: 2.2991 - accuracy: 0.1135\n",
      "Epoch 7/100\n",
      "19800/19800 [==============================] - 1s 34us/step - loss: 2.2988 - accuracy: 0.1135\n",
      "Epoch 8/100\n",
      "19800/19800 [==============================] - 1s 34us/step - loss: 2.2985 - accuracy: 0.1135\n",
      "Epoch 9/100\n",
      "19800/19800 [==============================] - 1s 34us/step - loss: 2.2983 - accuracy: 0.1135\n",
      "Epoch 10/100\n",
      "19800/19800 [==============================] - 1s 34us/step - loss: 2.2980 - accuracy: 0.1135\n",
      "Epoch 11/100\n",
      "19800/19800 [==============================] - 1s 34us/step - loss: 2.2978 - accuracy: 0.1135\n",
      "Epoch 12/100\n",
      "19800/19800 [==============================] - 1s 34us/step - loss: 2.2975 - accuracy: 0.1135\n",
      "Epoch 13/100\n",
      "19800/19800 [==============================] - 1s 33us/step - loss: 2.2972 - accuracy: 0.1135\n",
      "Epoch 14/100\n",
      "19800/19800 [==============================] - 1s 33us/step - loss: 2.2970 - accuracy: 0.1135\n",
      "Epoch 15/100\n",
      "19800/19800 [==============================] - 1s 34us/step - loss: 2.2967 - accuracy: 0.1135\n",
      "Epoch 16/100\n",
      "19800/19800 [==============================] - 1s 34us/step - loss: 2.2964 - accuracy: 0.1135\n",
      "Epoch 17/100\n",
      "19800/19800 [==============================] - 1s 34us/step - loss: 2.2962 - accuracy: 0.1135\n",
      "Epoch 18/100\n",
      "19800/19800 [==============================] - 1s 34us/step - loss: 2.2959 - accuracy: 0.1135\n",
      "Epoch 19/100\n",
      "19800/19800 [==============================] - 1s 34us/step - loss: 2.2956 - accuracy: 0.1135\n",
      "Epoch 20/100\n",
      "19800/19800 [==============================] - 1s 34us/step - loss: 2.2954 - accuracy: 0.1135\n",
      "Epoch 21/100\n",
      "19800/19800 [==============================] - 1s 33us/step - loss: 2.2951 - accuracy: 0.1135\n",
      "Epoch 22/100\n",
      "19800/19800 [==============================] - 1s 34us/step - loss: 2.2948 - accuracy: 0.1135\n",
      "Epoch 23/100\n",
      "19800/19800 [==============================] - 1s 34us/step - loss: 2.2945 - accuracy: 0.1135\n",
      "Epoch 24/100\n",
      "19800/19800 [==============================] - 1s 33us/step - loss: 2.2942 - accuracy: 0.1135\n",
      "Epoch 25/100\n",
      "19800/19800 [==============================] - 1s 34us/step - loss: 2.2939 - accuracy: 0.1135\n",
      "Epoch 26/100\n",
      "19800/19800 [==============================] - 1s 33us/step - loss: 2.2936 - accuracy: 0.1135\n",
      "Epoch 27/100\n",
      "19800/19800 [==============================] - 1s 34us/step - loss: 2.2933 - accuracy: 0.1135\n",
      "Epoch 28/100\n",
      "19800/19800 [==============================] - 1s 34us/step - loss: 2.2929 - accuracy: 0.1135\n",
      "Epoch 29/100\n",
      "19800/19800 [==============================] - 1s 33us/step - loss: 2.2926 - accuracy: 0.1135\n",
      "Epoch 30/100\n",
      "19800/19800 [==============================] - 1s 33us/step - loss: 2.2923 - accuracy: 0.1135\n",
      "Epoch 31/100\n",
      "19800/19800 [==============================] - 1s 33us/step - loss: 2.2920 - accuracy: 0.1135\n",
      "Epoch 32/100\n",
      "19800/19800 [==============================] - 1s 33us/step - loss: 2.2916 - accuracy: 0.1135\n",
      "Epoch 33/100\n",
      "19800/19800 [==============================] - 1s 33us/step - loss: 2.2913 - accuracy: 0.1135\n",
      "Epoch 34/100\n",
      "19800/19800 [==============================] - 1s 34us/step - loss: 2.2909 - accuracy: 0.1135\n",
      "Epoch 35/100\n",
      "19800/19800 [==============================] - 1s 33us/step - loss: 2.2906 - accuracy: 0.1135\n",
      "Epoch 36/100\n",
      "19800/19800 [==============================] - 1s 34us/step - loss: 2.2902 - accuracy: 0.1135\n",
      "Epoch 37/100\n",
      "19800/19800 [==============================] - 1s 34us/step - loss: 2.2899 - accuracy: 0.1135\n",
      "Epoch 38/100\n",
      "19800/19800 [==============================] - 1s 34us/step - loss: 2.2895 - accuracy: 0.1135\n",
      "Epoch 39/100\n",
      "19800/19800 [==============================] - 1s 34us/step - loss: 2.2891 - accuracy: 0.1135\n",
      "Epoch 40/100\n",
      "19800/19800 [==============================] - 1s 34us/step - loss: 2.2888 - accuracy: 0.1135\n",
      "Epoch 41/100\n",
      "19800/19800 [==============================] - 1s 34us/step - loss: 2.2884 - accuracy: 0.1135\n",
      "Epoch 42/100\n",
      "19800/19800 [==============================] - 1s 34us/step - loss: 2.2880 - accuracy: 0.1135\n",
      "Epoch 43/100\n",
      "19800/19800 [==============================] - 1s 34us/step - loss: 2.2876 - accuracy: 0.1135\n",
      "Epoch 44/100\n",
      "19800/19800 [==============================] - 1s 34us/step - loss: 2.2872 - accuracy: 0.1135\n",
      "Epoch 45/100\n",
      "19800/19800 [==============================] - 1s 34us/step - loss: 2.2868 - accuracy: 0.1135\n",
      "Epoch 46/100\n",
      "19800/19800 [==============================] - 1s 34us/step - loss: 2.2864 - accuracy: 0.1135\n",
      "Epoch 47/100\n",
      "19800/19800 [==============================] - 1s 33us/step - loss: 2.2859 - accuracy: 0.1135\n",
      "Epoch 48/100\n",
      "19800/19800 [==============================] - 1s 33us/step - loss: 2.2855 - accuracy: 0.1135\n",
      "Epoch 49/100\n",
      "19800/19800 [==============================] - 1s 35us/step - loss: 2.2851 - accuracy: 0.1135\n",
      "Epoch 50/100\n",
      "19800/19800 [==============================] - 1s 34us/step - loss: 2.2846 - accuracy: 0.1135\n",
      "Epoch 51/100\n",
      "19800/19800 [==============================] - 1s 34us/step - loss: 2.2842 - accuracy: 0.1135\n",
      "Epoch 52/100\n",
      "19800/19800 [==============================] - 1s 34us/step - loss: 2.2837 - accuracy: 0.1135\n",
      "Epoch 53/100\n"
     ]
    },
    {
     "name": "stdout",
     "output_type": "stream",
     "text": [
      "19800/19800 [==============================] - 1s 34us/step - loss: 2.2832 - accuracy: 0.1135\n",
      "Epoch 54/100\n",
      "19800/19800 [==============================] - 1s 34us/step - loss: 2.2828 - accuracy: 0.1135\n",
      "Epoch 55/100\n",
      "19800/19800 [==============================] - 1s 34us/step - loss: 2.2823 - accuracy: 0.1135\n",
      "Epoch 56/100\n",
      "19800/19800 [==============================] - 1s 34us/step - loss: 2.2818 - accuracy: 0.1135\n",
      "Epoch 57/100\n",
      "19800/19800 [==============================] - 1s 35us/step - loss: 2.2812 - accuracy: 0.1135\n",
      "Epoch 58/100\n",
      "19800/19800 [==============================] - 1s 35us/step - loss: 2.2807 - accuracy: 0.1135\n",
      "Epoch 59/100\n",
      "19800/19800 [==============================] - 1s 35us/step - loss: 2.2801 - accuracy: 0.1135\n",
      "Epoch 60/100\n",
      "19800/19800 [==============================] - 1s 37us/step - loss: 2.2795 - accuracy: 0.1135\n",
      "Epoch 61/100\n",
      "19800/19800 [==============================] - 1s 36us/step - loss: 2.2789 - accuracy: 0.1135\n",
      "Epoch 62/100\n",
      "19800/19800 [==============================] - 1s 35us/step - loss: 2.2783 - accuracy: 0.1135\n",
      "Epoch 63/100\n",
      "19800/19800 [==============================] - 1s 34us/step - loss: 2.2777 - accuracy: 0.1135\n",
      "Epoch 64/100\n",
      "19800/19800 [==============================] - 1s 33us/step - loss: 2.2771 - accuracy: 0.1135\n",
      "Epoch 65/100\n",
      "19800/19800 [==============================] - 1s 33us/step - loss: 2.2764 - accuracy: 0.1135\n",
      "Epoch 66/100\n",
      "19800/19800 [==============================] - 1s 35us/step - loss: 2.2757 - accuracy: 0.1135\n",
      "Epoch 67/100\n",
      "19800/19800 [==============================] - 1s 36us/step - loss: 2.2750 - accuracy: 0.1135\n",
      "Epoch 68/100\n",
      "19800/19800 [==============================] - 1s 37us/step - loss: 2.2743 - accuracy: 0.1135\n",
      "Epoch 69/100\n",
      "19800/19800 [==============================] - 1s 33us/step - loss: 2.2736 - accuracy: 0.1135\n",
      "Epoch 70/100\n",
      "19800/19800 [==============================] - 1s 33us/step - loss: 2.2728 - accuracy: 0.1135\n",
      "Epoch 71/100\n",
      "19800/19800 [==============================] - 1s 34us/step - loss: 2.2720 - accuracy: 0.1135\n",
      "Epoch 72/100\n",
      "19800/19800 [==============================] - 1s 34us/step - loss: 2.2711 - accuracy: 0.1135\n",
      "Epoch 73/100\n",
      "19800/19800 [==============================] - 1s 33us/step - loss: 2.2703 - accuracy: 0.1135\n",
      "Epoch 74/100\n",
      "19800/19800 [==============================] - 1s 34us/step - loss: 2.2694 - accuracy: 0.1135\n",
      "Epoch 75/100\n",
      "19800/19800 [==============================] - 1s 34us/step - loss: 2.2685 - accuracy: 0.1135\n",
      "Epoch 76/100\n",
      "19800/19800 [==============================] - 1s 34us/step - loss: 2.2675 - accuracy: 0.1135\n",
      "Epoch 77/100\n",
      "19800/19800 [==============================] - 1s 35us/step - loss: 2.2665 - accuracy: 0.1136\n",
      "Epoch 78/100\n",
      "19800/19800 [==============================] - 1s 34us/step - loss: 2.2655 - accuracy: 0.1135\n",
      "Epoch 79/100\n",
      "19800/19800 [==============================] - 1s 34us/step - loss: 2.2644 - accuracy: 0.1135\n",
      "Epoch 80/100\n",
      "19800/19800 [==============================] - 1s 34us/step - loss: 2.2633 - accuracy: 0.1137\n",
      "Epoch 81/100\n",
      "19800/19800 [==============================] - 1s 34us/step - loss: 2.2621 - accuracy: 0.1163\n",
      "Epoch 82/100\n",
      "19800/19800 [==============================] - 1s 34us/step - loss: 2.2609 - accuracy: 0.1136\n",
      "Epoch 83/100\n",
      "19800/19800 [==============================] - 1s 34us/step - loss: 2.2597 - accuracy: 0.1135\n",
      "Epoch 84/100\n",
      "19800/19800 [==============================] - 1s 34us/step - loss: 2.2584 - accuracy: 0.1141\n",
      "Epoch 85/100\n",
      "19800/19800 [==============================] - 1s 34us/step - loss: 2.2570 - accuracy: 0.1196\n",
      "Epoch 86/100\n",
      "19800/19800 [==============================] - 1s 34us/step - loss: 2.2555 - accuracy: 0.1230\n",
      "Epoch 87/100\n",
      "19800/19800 [==============================] - 1s 33us/step - loss: 2.2539 - accuracy: 0.1417\n",
      "Epoch 88/100\n",
      "19800/19800 [==============================] - 1s 34us/step - loss: 2.2524 - accuracy: 0.1307\n",
      "Epoch 89/100\n",
      "19800/19800 [==============================] - 1s 34us/step - loss: 2.2507 - accuracy: 0.1377\n",
      "Epoch 90/100\n",
      "19800/19800 [==============================] - 1s 33us/step - loss: 2.2490 - accuracy: 0.1647\n",
      "Epoch 91/100\n",
      "19800/19800 [==============================] - 1s 34us/step - loss: 2.2472 - accuracy: 0.1954\n",
      "Epoch 92/100\n",
      "19800/19800 [==============================] - 1s 34us/step - loss: 2.2452 - accuracy: 0.1545\n",
      "Epoch 93/100\n",
      "19800/19800 [==============================] - 1s 34us/step - loss: 2.2433 - accuracy: 0.2246\n",
      "Epoch 94/100\n",
      "19800/19800 [==============================] - 1s 33us/step - loss: 2.2411 - accuracy: 0.2412\n",
      "Epoch 95/100\n",
      "19800/19800 [==============================] - 1s 33us/step - loss: 2.2389 - accuracy: 0.2135\n",
      "Epoch 96/100\n",
      "19800/19800 [==============================] - 1s 33us/step - loss: 2.2366 - accuracy: 0.2726\n",
      "Epoch 97/100\n",
      "19800/19800 [==============================] - 1s 34us/step - loss: 2.2341 - accuracy: 0.2581\n",
      "Epoch 98/100\n",
      "19800/19800 [==============================] - 1s 34us/step - loss: 2.2315 - accuracy: 0.3018\n",
      "Epoch 99/100\n",
      "19800/19800 [==============================] - 1s 33us/step - loss: 2.2287 - accuracy: 0.2826\n",
      "Epoch 100/100\n",
      "19800/19800 [==============================] - 1s 34us/step - loss: 2.2258 - accuracy: 0.2952\n",
      "Epoch 1/100\n",
      "19800/19800 [==============================] - 1s 36us/step - loss: 2.3638 - accuracy: 0.1032 0s - loss: 2.3878 - \n",
      "Epoch 2/100\n",
      "19800/19800 [==============================] - 1s 35us/step - loss: 2.3096 - accuracy: 0.1135\n",
      "Epoch 3/100\n",
      "19800/19800 [==============================] - 1s 35us/step - loss: 2.3018 - accuracy: 0.1135\n",
      "Epoch 4/100\n",
      "19800/19800 [==============================] - 1s 35us/step - loss: 2.3004 - accuracy: 0.1135\n",
      "Epoch 5/100\n",
      "19800/19800 [==============================] - 1s 35us/step - loss: 2.2999 - accuracy: 0.1135\n",
      "Epoch 6/100\n",
      "19800/19800 [==============================] - 1s 34us/step - loss: 2.2996 - accuracy: 0.1135\n",
      "Epoch 7/100\n",
      "19800/19800 [==============================] - 1s 35us/step - loss: 2.2992 - accuracy: 0.1135\n",
      "Epoch 8/100\n",
      "19800/19800 [==============================] - 1s 35us/step - loss: 2.2990 - accuracy: 0.1135\n",
      "Epoch 9/100\n",
      "19800/19800 [==============================] - 1s 35us/step - loss: 2.2986 - accuracy: 0.1135\n",
      "Epoch 10/100\n",
      "19800/19800 [==============================] - 1s 35us/step - loss: 2.2983 - accuracy: 0.1135\n",
      "Epoch 11/100\n",
      "19800/19800 [==============================] - 1s 35us/step - loss: 2.2980 - accuracy: 0.1135\n",
      "Epoch 12/100\n",
      "19800/19800 [==============================] - 1s 34us/step - loss: 2.2977 - accuracy: 0.1135\n",
      "Epoch 13/100\n",
      "19800/19800 [==============================] - 1s 35us/step - loss: 2.2974 - accuracy: 0.1135\n",
      "Epoch 14/100\n",
      "19800/19800 [==============================] - 1s 34us/step - loss: 2.2971 - accuracy: 0.1135\n",
      "Epoch 15/100\n",
      "19800/19800 [==============================] - 1s 35us/step - loss: 2.2968 - accuracy: 0.1135\n",
      "Epoch 16/100\n",
      "19800/19800 [==============================] - 1s 35us/step - loss: 2.2965 - accuracy: 0.1135\n",
      "Epoch 17/100\n",
      "19800/19800 [==============================] - 1s 35us/step - loss: 2.2962 - accuracy: 0.1135\n",
      "Epoch 18/100\n",
      "19800/19800 [==============================] - 1s 34us/step - loss: 2.2959 - accuracy: 0.1135\n",
      "Epoch 19/100\n",
      "19800/19800 [==============================] - 1s 34us/step - loss: 2.2956 - accuracy: 0.1135\n",
      "Epoch 20/100\n",
      "19800/19800 [==============================] - 1s 35us/step - loss: 2.2953 - accuracy: 0.1135\n",
      "Epoch 21/100\n",
      "19800/19800 [==============================] - 1s 35us/step - loss: 2.2950 - accuracy: 0.1135\n",
      "Epoch 22/100\n",
      "19800/19800 [==============================] - 1s 35us/step - loss: 2.2948 - accuracy: 0.1135\n",
      "Epoch 23/100\n",
      "19800/19800 [==============================] - 1s 35us/step - loss: 2.2945 - accuracy: 0.1135\n",
      "Epoch 24/100\n",
      "19800/19800 [==============================] - 1s 35us/step - loss: 2.2942 - accuracy: 0.1135\n",
      "Epoch 25/100\n",
      "19800/19800 [==============================] - 1s 35us/step - loss: 2.2939 - accuracy: 0.1135\n",
      "Epoch 26/100\n",
      "19800/19800 [==============================] - 1s 36us/step - loss: 2.2936 - accuracy: 0.1135\n",
      "Epoch 27/100\n",
      "19800/19800 [==============================] - 1s 35us/step - loss: 2.2933 - accuracy: 0.1135\n",
      "Epoch 28/100\n",
      "19800/19800 [==============================] - 1s 35us/step - loss: 2.2930 - accuracy: 0.1135\n",
      "Epoch 29/100\n",
      "19800/19800 [==============================] - 1s 35us/step - loss: 2.2927 - accuracy: 0.1135\n",
      "Epoch 30/100\n",
      "19800/19800 [==============================] - 1s 35us/step - loss: 2.2924 - accuracy: 0.1135\n",
      "Epoch 31/100\n",
      "19800/19800 [==============================] - 1s 35us/step - loss: 2.2921 - accuracy: 0.1135\n",
      "Epoch 32/100\n",
      "19800/19800 [==============================] - 1s 35us/step - loss: 2.2918 - accuracy: 0.1135\n",
      "Epoch 33/100\n",
      "19800/19800 [==============================] - 1s 35us/step - loss: 2.2915 - accuracy: 0.1135 0s - loss: 2.291\n",
      "Epoch 34/100\n",
      "19800/19800 [==============================] - 1s 34us/step - loss: 2.2912 - accuracy: 0.1135\n",
      "Epoch 35/100\n",
      "19800/19800 [==============================] - 1s 35us/step - loss: 2.2909 - accuracy: 0.1135\n",
      "Epoch 36/100\n",
      "19800/19800 [==============================] - 1s 34us/step - loss: 2.2906 - accuracy: 0.1135\n",
      "Epoch 37/100\n",
      "19800/19800 [==============================] - 1s 34us/step - loss: 2.2902 - accuracy: 0.1135\n",
      "Epoch 38/100\n",
      "19800/19800 [==============================] - 1s 35us/step - loss: 2.2899 - accuracy: 0.1135\n",
      "Epoch 39/100\n",
      "19800/19800 [==============================] - 1s 34us/step - loss: 2.2895 - accuracy: 0.1135\n",
      "Epoch 40/100\n",
      "19800/19800 [==============================] - 1s 35us/step - loss: 2.2892 - accuracy: 0.1135\n",
      "Epoch 41/100\n",
      "19800/19800 [==============================] - 1s 34us/step - loss: 2.2888 - accuracy: 0.1135\n",
      "Epoch 42/100\n",
      "19800/19800 [==============================] - 1s 34us/step - loss: 2.2885 - accuracy: 0.1135\n",
      "Epoch 43/100\n",
      "19800/19800 [==============================] - 1s 35us/step - loss: 2.2881 - accuracy: 0.1135\n",
      "Epoch 44/100\n",
      "19800/19800 [==============================] - 1s 35us/step - loss: 2.2877 - accuracy: 0.1135\n",
      "Epoch 45/100\n",
      "19800/19800 [==============================] - 1s 35us/step - loss: 2.2873 - accuracy: 0.1135\n",
      "Epoch 46/100\n",
      "19800/19800 [==============================] - 1s 35us/step - loss: 2.2870 - accuracy: 0.1135\n",
      "Epoch 47/100\n",
      "19800/19800 [==============================] - 1s 35us/step - loss: 2.2865 - accuracy: 0.1135\n",
      "Epoch 48/100\n",
      "19800/19800 [==============================] - 1s 35us/step - loss: 2.2861 - accuracy: 0.1135\n",
      "Epoch 49/100\n",
      "19800/19800 [==============================] - 1s 35us/step - loss: 2.2857 - accuracy: 0.1135\n",
      "Epoch 50/100\n",
      "19800/19800 [==============================] - 1s 35us/step - loss: 2.2853 - accuracy: 0.1135\n",
      "Epoch 51/100\n",
      "19800/19800 [==============================] - 1s 34us/step - loss: 2.2849 - accuracy: 0.1135\n",
      "Epoch 52/100\n",
      "19800/19800 [==============================] - 1s 35us/step - loss: 2.2844 - accuracy: 0.1135\n",
      "Epoch 53/100\n",
      "19800/19800 [==============================] - 1s 35us/step - loss: 2.2840 - accuracy: 0.1135\n",
      "Epoch 54/100\n",
      "19800/19800 [==============================] - 1s 35us/step - loss: 2.2835 - accuracy: 0.1135\n",
      "Epoch 55/100\n",
      "19800/19800 [==============================] - 1s 35us/step - loss: 2.2830 - accuracy: 0.1136\n",
      "Epoch 56/100\n",
      "19800/19800 [==============================] - 1s 34us/step - loss: 2.2825 - accuracy: 0.1135\n",
      "Epoch 57/100\n",
      "19800/19800 [==============================] - 1s 34us/step - loss: 2.2820 - accuracy: 0.1135\n",
      "Epoch 58/100\n",
      "19800/19800 [==============================] - 1s 34us/step - loss: 2.2815 - accuracy: 0.1140\n",
      "Epoch 59/100\n",
      "19800/19800 [==============================] - 1s 34us/step - loss: 2.2810 - accuracy: 0.1139\n",
      "Epoch 60/100\n",
      "19800/19800 [==============================] - 1s 35us/step - loss: 2.2805 - accuracy: 0.1135\n",
      "Epoch 61/100\n",
      "19800/19800 [==============================] - 1s 35us/step - loss: 2.2799 - accuracy: 0.1136\n",
      "Epoch 62/100\n",
      "19800/19800 [==============================] - 1s 35us/step - loss: 2.2794 - accuracy: 0.1136\n",
      "Epoch 63/100\n",
      "19800/19800 [==============================] - 1s 34us/step - loss: 2.2788 - accuracy: 0.1139\n",
      "Epoch 64/100\n",
      "19800/19800 [==============================] - 1s 35us/step - loss: 2.2782 - accuracy: 0.1149\n",
      "Epoch 65/100\n",
      "19800/19800 [==============================] - 1s 35us/step - loss: 2.2775 - accuracy: 0.1153\n",
      "Epoch 66/100\n",
      "19800/19800 [==============================] - 1s 37us/step - loss: 2.2769 - accuracy: 0.1140\n",
      "Epoch 67/100\n",
      "19800/19800 [==============================] - 1s 37us/step - loss: 2.2762 - accuracy: 0.1218\n",
      "Epoch 68/100\n",
      "19800/19800 [==============================] - 1s 34us/step - loss: 2.2755 - accuracy: 0.1159\n",
      "Epoch 69/100\n",
      "19800/19800 [==============================] - 1s 35us/step - loss: 2.2748 - accuracy: 0.1156\n",
      "Epoch 70/100\n",
      "19800/19800 [==============================] - 1s 35us/step - loss: 2.2741 - accuracy: 0.1210\n",
      "Epoch 71/100\n",
      "19800/19800 [==============================] - 1s 34us/step - loss: 2.2733 - accuracy: 0.1220\n",
      "Epoch 72/100\n",
      "19800/19800 [==============================] - 1s 34us/step - loss: 2.2725 - accuracy: 0.1188\n",
      "Epoch 73/100\n",
      "19800/19800 [==============================] - 1s 35us/step - loss: 2.2717 - accuracy: 0.1362\n",
      "Epoch 74/100\n",
      "19800/19800 [==============================] - 1s 34us/step - loss: 2.2709 - accuracy: 0.1211\n",
      "Epoch 75/100\n",
      "19800/19800 [==============================] - 1s 35us/step - loss: 2.2700 - accuracy: 0.1333\n",
      "Epoch 76/100\n",
      "19800/19800 [==============================] - 1s 35us/step - loss: 2.2691 - accuracy: 0.1505\n",
      "Epoch 77/100\n",
      "19800/19800 [==============================] - 1s 34us/step - loss: 2.2682 - accuracy: 0.1554\n",
      "Epoch 78/100\n",
      "19800/19800 [==============================] - 1s 35us/step - loss: 2.2672 - accuracy: 0.1673\n",
      "Epoch 79/100\n",
      "19800/19800 [==============================] - 1s 35us/step - loss: 2.2663 - accuracy: 0.1537\n",
      "Epoch 80/100\n",
      "19800/19800 [==============================] - 1s 35us/step - loss: 2.2652 - accuracy: 0.1829\n",
      "Epoch 81/100\n",
      "19800/19800 [==============================] - 1s 35us/step - loss: 2.2642 - accuracy: 0.1727\n",
      "Epoch 82/100\n",
      "19800/19800 [==============================] - 1s 34us/step - loss: 2.2630 - accuracy: 0.1762\n",
      "Epoch 83/100\n",
      "19800/19800 [==============================] - 1s 35us/step - loss: 2.2619 - accuracy: 0.1965\n",
      "Epoch 84/100\n",
      "19800/19800 [==============================] - 1s 35us/step - loss: 2.2607 - accuracy: 0.2143\n",
      "Epoch 85/100\n",
      "19800/19800 [==============================] - 1s 35us/step - loss: 2.2594 - accuracy: 0.1959\n",
      "Epoch 86/100\n",
      "19800/19800 [==============================] - 1s 36us/step - loss: 2.2581 - accuracy: 0.1899\n",
      "Epoch 87/100\n",
      "19800/19800 [==============================] - 1s 34us/step - loss: 2.2568 - accuracy: 0.2360\n",
      "Epoch 88/100\n",
      "19800/19800 [==============================] - 1s 34us/step - loss: 2.2554 - accuracy: 0.2029\n",
      "Epoch 89/100\n",
      "19800/19800 [==============================] - 1s 35us/step - loss: 2.2539 - accuracy: 0.2185\n",
      "Epoch 90/100\n",
      "19800/19800 [==============================] - 1s 41us/step - loss: 2.2523 - accuracy: 0.2411\n",
      "Epoch 91/100\n",
      "19800/19800 [==============================] - 1s 38us/step - loss: 2.2507 - accuracy: 0.2391\n",
      "Epoch 92/100\n",
      "19800/19800 [==============================] - 1s 36us/step - loss: 2.2490 - accuracy: 0.2379\n",
      "Epoch 93/100\n",
      "19800/19800 [==============================] - 1s 34us/step - loss: 2.2473 - accuracy: 0.2485\n",
      "Epoch 94/100\n",
      "19800/19800 [==============================] - 1s 34us/step - loss: 2.2454 - accuracy: 0.2187\n",
      "Epoch 95/100\n",
      "19800/19800 [==============================] - 1s 34us/step - loss: 2.2435 - accuracy: 0.2349\n",
      "Epoch 96/100\n",
      "19800/19800 [==============================] - 1s 35us/step - loss: 2.2414 - accuracy: 0.2602\n",
      "Epoch 97/100\n",
      "19800/19800 [==============================] - 1s 35us/step - loss: 2.2393 - accuracy: 0.2746\n",
      "Epoch 98/100\n",
      "19800/19800 [==============================] - 1s 34us/step - loss: 2.2370 - accuracy: 0.2387\n",
      "Epoch 99/100\n",
      "19800/19800 [==============================] - 1s 36us/step - loss: 2.2347 - accuracy: 0.2712\n",
      "Epoch 100/100\n",
      "19800/19800 [==============================] - 1s 36us/step - loss: 2.2322 - accuracy: 0.2989\n"
     ]
    },
    {
     "data": {
      "text/plain": [
       "VotingClassifier(estimators=[('model1',\n",
       "                              <keras.wrappers.scikit_learn.KerasClassifier object at 0x000001F76919D148>),\n",
       "                             ('model2',\n",
       "                              <keras.wrappers.scikit_learn.KerasClassifier object at 0x000001F76919DA88>),\n",
       "                             ('model3',\n",
       "                              <keras.wrappers.scikit_learn.KerasClassifier object at 0x000001F76919D188>)],\n",
       "                 flatten_transform=True, n_jobs=None, voting='soft',\n",
       "                 weights=None)"
      ]
     },
     "execution_count": 15,
     "metadata": {},
     "output_type": "execute_result"
    }
   ],
   "source": [
    "ensemble_clf.fit(X_train, y_train)"
   ]
  },
  {
   "cell_type": "markdown",
   "metadata": {},
   "source": [
    "---"
   ]
  },
  {
   "cell_type": "markdown",
   "metadata": {},
   "source": [
    "# Advanced MLP - 2\n",
    "    - More training set\n",
    "    - Weight Initialization scheme\n",
    "    - Nonlinearity (Activation function)\n",
    "    - Optimizers: adaptvie\n",
    "    - Batch Normalization\n",
    "    - Dropout (Regularization)\n",
    "    - Model Ensemble"
   ]
  },
  {
   "cell_type": "code",
   "execution_count": 16,
   "metadata": {
    "ExecuteTime": {
     "end_time": "2020-01-21T06:58:35.609012Z",
     "start_time": "2020-01-21T06:58:35.399571Z"
    }
   },
   "outputs": [
    {
     "name": "stdout",
     "output_type": "stream",
     "text": [
      "(60000, 784)\n",
      "(10000, 784)\n",
      "(60000,)\n",
      "(10000,)\n"
     ]
    }
   ],
   "source": [
    "(X_train, y_train), (X_test, y_test) = mnist.load_data()\n",
    "# reshaping X data: (n, 28, 28) => (n, 784)\n",
    "X_train = X_train.reshape((X_train.shape[0], X_train.shape[1] * X_train.shape[2]))\n",
    "X_test = X_test.reshape((X_test.shape[0], X_test.shape[1] * X_test.shape[2]))\n",
    "# We use all training data and validate on all test data\n",
    "print(X_train.shape)\n",
    "print(X_test.shape)\n",
    "print(y_train.shape)\n",
    "print(y_test.shape)"
   ]
  },
  {
   "cell_type": "code",
   "execution_count": 17,
   "metadata": {
    "ExecuteTime": {
     "end_time": "2020-01-21T06:58:35.705282Z",
     "start_time": "2020-01-21T06:58:35.698300Z"
    }
   },
   "outputs": [],
   "source": [
    "def mlp_model():\n",
    "    model = Sequential()\n",
    "    \n",
    "    model.add(Dense(50, input_shape = (784, ), kernel_initializer='he_normal'))\n",
    "    model.add(BatchNormalization())\n",
    "    model.add(Activation('relu'))\n",
    "    model.add(Dropout(0.2))\n",
    "    model.add(Dense(50, kernel_initializer='he_normal'))\n",
    "    model.add(BatchNormalization())\n",
    "    model.add(Activation('relu'))    \n",
    "    model.add(Dropout(0.2))\n",
    "    model.add(Dense(50, kernel_initializer='he_normal'))\n",
    "    model.add(BatchNormalization())\n",
    "    model.add(Activation('relu'))\n",
    "    model.add(Dropout(0.2))\n",
    "    model.add(Dense(50, kernel_initializer='he_normal'))\n",
    "    model.add(BatchNormalization())\n",
    "    model.add(Activation('relu'))\n",
    "    model.add(Dropout(0.2))\n",
    "    model.add(Dense(10, kernel_initializer='he_normal'))\n",
    "    model.add(Activation('softmax'))\n",
    "    \n",
    "    adam = optimizers.Adam(lr = 0.001)\n",
    "    model.compile(optimizer = adam, loss = 'categorical_crossentropy', metrics = ['accuracy'])\n",
    "    \n",
    "    return model"
   ]
  },
  {
   "cell_type": "code",
   "execution_count": 26,
   "metadata": {
    "ExecuteTime": {
     "end_time": "2020-01-21T07:02:22.954890Z",
     "start_time": "2020-01-21T07:02:22.947797Z"
    }
   },
   "outputs": [],
   "source": [
    "# create 5 models to ensemble\n",
    "from keras.callbacks import LambdaCallback\n",
    "from keras.callbacks import EarlyStopping\n",
    "from keras.layers import LeakyReLU\n",
    "\n",
    "\n",
    "def lambdaf_(epoch, logs, step) : \n",
    "    if epoch % step == 0 : print(f\"{epoch} => {logs}\")                \n",
    "        \n",
    "def printepoch(step) :   \n",
    "    return LambdaCallback(on_epoch_end=lambda epoch, logs: lambdaf_(epoch, logs, step)  )\n",
    "\n",
    "model1 = KerasClassifier(build_fn = mlp_model, epochs = 100)\n",
    "model2 = KerasClassifier(build_fn = mlp_model, epochs = 100)\n",
    "model3 = KerasClassifier(build_fn = mlp_model, epochs = 100)\n",
    "model4 = KerasClassifier(build_fn = mlp_model, epochs = 100)\n",
    "model5 = KerasClassifier(build_fn = mlp_model, epochs = 100)\n",
    "\n"
   ]
  },
  {
   "cell_type": "code",
   "execution_count": 27,
   "metadata": {
    "ExecuteTime": {
     "end_time": "2020-01-21T07:02:23.263832Z",
     "start_time": "2020-01-21T07:02:23.259842Z"
    }
   },
   "outputs": [],
   "source": [
    "#ensemble_clf = VotingClassifier(estimators = [('model1', model1), ('model2', model2), ('model3', model3), ('model4', model4), ('model5', model5)], voting = 'soft')\n",
    "ensemble_clf = VotingClassifier(estimators = [('model1', model1), \n",
    "                                              ('model2', model2), \n",
    "                                              ('model3', model3), \n",
    "                                              ('model4', model4), \n",
    "                                              ('model5', model5)], \n",
    "                                voting = 'soft')"
   ]
  },
  {
   "cell_type": "code",
   "execution_count": 28,
   "metadata": {
    "ExecuteTime": {
     "end_time": "2020-01-21T07:36:22.611269Z",
     "start_time": "2020-01-21T07:02:23.851821Z"
    }
   },
   "outputs": [
    {
     "name": "stdout",
     "output_type": "stream",
     "text": [
      "Epoch 1/100\n",
      "60000/60000 [==============================] - 5s 76us/step - loss: 0.7676 - accuracy: 0.7629\n",
      "Epoch 2/100\n",
      "60000/60000 [==============================] - 4s 71us/step - loss: 0.4351 - accuracy: 0.8752\n",
      "Epoch 3/100\n",
      "60000/60000 [==============================] - 4s 69us/step - loss: 0.3672 - accuracy: 0.8946\n",
      "Epoch 4/100\n",
      "60000/60000 [==============================] - 4s 71us/step - loss: 0.3217 - accuracy: 0.9076\n",
      "Epoch 5/100\n",
      "60000/60000 [==============================] - 4s 69us/step - loss: 0.3009 - accuracy: 0.9145\n",
      "Epoch 6/100\n",
      "60000/60000 [==============================] - 4s 68us/step - loss: 0.2813 - accuracy: 0.9194\n",
      "Epoch 7/100\n",
      "60000/60000 [==============================] - 4s 69us/step - loss: 0.2689 - accuracy: 0.9246\n",
      "Epoch 8/100\n",
      "60000/60000 [==============================] - 4s 68us/step - loss: 0.2601 - accuracy: 0.9262\n",
      "Epoch 9/100\n",
      "60000/60000 [==============================] - 4s 67us/step - loss: 0.2502 - accuracy: 0.9288\n",
      "Epoch 10/100\n",
      "60000/60000 [==============================] - 4s 68us/step - loss: 0.2382 - accuracy: 0.9325\n",
      "Epoch 11/100\n",
      "60000/60000 [==============================] - 4s 68us/step - loss: 0.2306 - accuracy: 0.9339\n",
      "Epoch 12/100\n",
      "60000/60000 [==============================] - 4s 68us/step - loss: 0.2235 - accuracy: 0.9359\n",
      "Epoch 13/100\n",
      "60000/60000 [==============================] - 4s 67us/step - loss: 0.2214 - accuracy: 0.9370\n",
      "Epoch 14/100\n",
      "60000/60000 [==============================] - 4s 69us/step - loss: 0.2155 - accuracy: 0.9386\n",
      "Epoch 15/100\n",
      "60000/60000 [==============================] - 4s 69us/step - loss: 0.2129 - accuracy: 0.9391\n",
      "Epoch 16/100\n",
      "60000/60000 [==============================] - 4s 68us/step - loss: 0.2139 - accuracy: 0.9390\n",
      "Epoch 17/100\n",
      "60000/60000 [==============================] - 4s 68us/step - loss: 0.2079 - accuracy: 0.9401\n",
      "Epoch 18/100\n",
      "60000/60000 [==============================] - 4s 67us/step - loss: 0.2074 - accuracy: 0.9409\n",
      "Epoch 19/100\n",
      "60000/60000 [==============================] - 4s 67us/step - loss: 0.2010 - accuracy: 0.9428\n",
      "Epoch 20/100\n",
      "60000/60000 [==============================] - 4s 66us/step - loss: 0.2033 - accuracy: 0.9417\n",
      "Epoch 21/100\n",
      "60000/60000 [==============================] - 4s 67us/step - loss: 0.1913 - accuracy: 0.9457\n",
      "Epoch 22/100\n",
      "60000/60000 [==============================] - 4s 68us/step - loss: 0.1946 - accuracy: 0.9443\n",
      "Epoch 23/100\n",
      "60000/60000 [==============================] - 4s 66us/step - loss: 0.1911 - accuracy: 0.9451\n",
      "Epoch 24/100\n",
      "60000/60000 [==============================] - 4s 67us/step - loss: 0.1887 - accuracy: 0.9472\n",
      "Epoch 25/100\n",
      "60000/60000 [==============================] - 4s 67us/step - loss: 0.1905 - accuracy: 0.9456\n",
      "Epoch 26/100\n",
      "60000/60000 [==============================] - 4s 67us/step - loss: 0.1878 - accuracy: 0.9463\n",
      "Epoch 27/100\n",
      "60000/60000 [==============================] - 4s 67us/step - loss: 0.1820 - accuracy: 0.9476\n",
      "Epoch 28/100\n",
      "60000/60000 [==============================] - 4s 67us/step - loss: 0.1839 - accuracy: 0.9463\n",
      "Epoch 29/100\n",
      "60000/60000 [==============================] - 4s 67us/step - loss: 0.1803 - accuracy: 0.9476\n",
      "Epoch 30/100\n",
      "60000/60000 [==============================] - 4s 67us/step - loss: 0.1807 - accuracy: 0.9477 0s - loss: 0.1791 - accuracy: \n",
      "Epoch 31/100\n",
      "60000/60000 [==============================] - 4s 67us/step - loss: 0.1783 - accuracy: 0.9489\n",
      "Epoch 32/100\n",
      "60000/60000 [==============================] - 4s 66us/step - loss: 0.1728 - accuracy: 0.9510 0s - loss: 0.1724 - accuracy: \n",
      "Epoch 33/100\n",
      "60000/60000 [==============================] - 4s 67us/step - loss: 0.1733 - accuracy: 0.9499\n",
      "Epoch 34/100\n",
      "60000/60000 [==============================] - 4s 67us/step - loss: 0.1749 - accuracy: 0.9499\n",
      "Epoch 35/100\n",
      "60000/60000 [==============================] - 4s 67us/step - loss: 0.1758 - accuracy: 0.9487\n",
      "Epoch 36/100\n",
      "60000/60000 [==============================] - 4s 67us/step - loss: 0.1682 - accuracy: 0.9510\n",
      "Epoch 37/100\n",
      "60000/60000 [==============================] - 4s 67us/step - loss: 0.1741 - accuracy: 0.9503\n",
      "Epoch 38/100\n",
      "60000/60000 [==============================] - 4s 67us/step - loss: 0.1684 - accuracy: 0.9515\n",
      "Epoch 39/100\n",
      "60000/60000 [==============================] - 4s 67us/step - loss: 0.1709 - accuracy: 0.9508\n",
      "Epoch 40/100\n",
      "60000/60000 [==============================] - 4s 67us/step - loss: 0.1667 - accuracy: 0.9522\n",
      "Epoch 41/100\n",
      "60000/60000 [==============================] - 4s 67us/step - loss: 0.1666 - accuracy: 0.9519\n",
      "Epoch 42/100\n",
      "60000/60000 [==============================] - 4s 67us/step - loss: 0.1650 - accuracy: 0.9522\n",
      "Epoch 43/100\n",
      "60000/60000 [==============================] - 4s 66us/step - loss: 0.1653 - accuracy: 0.9521\n",
      "Epoch 44/100\n",
      "60000/60000 [==============================] - 4s 67us/step - loss: 0.1628 - accuracy: 0.9521\n",
      "Epoch 45/100\n",
      "60000/60000 [==============================] - 4s 66us/step - loss: 0.1693 - accuracy: 0.9518\n",
      "Epoch 46/100\n",
      "60000/60000 [==============================] - 4s 67us/step - loss: 0.1623 - accuracy: 0.9533 0s - loss: 0.1623 - accuracy: 0.95\n",
      "Epoch 47/100\n",
      "60000/60000 [==============================] - 4s 67us/step - loss: 0.1635 - accuracy: 0.9521\n",
      "Epoch 48/100\n",
      "60000/60000 [==============================] - 4s 67us/step - loss: 0.1644 - accuracy: 0.9523\n",
      "Epoch 49/100\n",
      "60000/60000 [==============================] - 4s 68us/step - loss: 0.1608 - accuracy: 0.9528\n",
      "Epoch 50/100\n",
      "60000/60000 [==============================] - 4s 74us/step - loss: 0.1613 - accuracy: 0.9534\n",
      "Epoch 51/100\n",
      "60000/60000 [==============================] - 4s 69us/step - loss: 0.1612 - accuracy: 0.9521\n",
      "Epoch 52/100\n",
      "60000/60000 [==============================] - 4s 69us/step - loss: 0.1607 - accuracy: 0.9532\n",
      "Epoch 53/100\n",
      "60000/60000 [==============================] - 4s 68us/step - loss: 0.1583 - accuracy: 0.9543\n",
      "Epoch 54/100\n",
      "60000/60000 [==============================] - 4s 69us/step - loss: 0.1599 - accuracy: 0.9531\n",
      "Epoch 55/100\n",
      "60000/60000 [==============================] - 4s 66us/step - loss: 0.1525 - accuracy: 0.9560\n",
      "Epoch 56/100\n",
      "60000/60000 [==============================] - 4s 68us/step - loss: 0.1545 - accuracy: 0.9552\n",
      "Epoch 57/100\n",
      "60000/60000 [==============================] - 4s 68us/step - loss: 0.1583 - accuracy: 0.9545\n",
      "Epoch 58/100\n",
      "60000/60000 [==============================] - 4s 68us/step - loss: 0.1557 - accuracy: 0.9560\n",
      "Epoch 59/100\n",
      "60000/60000 [==============================] - 4s 75us/step - loss: 0.1582 - accuracy: 0.9548\n",
      "Epoch 60/100\n",
      "60000/60000 [==============================] - 5s 76us/step - loss: 0.1576 - accuracy: 0.9543\n",
      "Epoch 61/100\n",
      "60000/60000 [==============================] - 5s 77us/step - loss: 0.1549 - accuracy: 0.9557\n",
      "Epoch 62/100\n",
      "60000/60000 [==============================] - 5s 80us/step - loss: 0.1556 - accuracy: 0.9550\n",
      "Epoch 63/100\n",
      "60000/60000 [==============================] - 5s 78us/step - loss: 0.1516 - accuracy: 0.9548\n",
      "Epoch 64/100\n",
      "60000/60000 [==============================] - 5s 78us/step - loss: 0.1533 - accuracy: 0.9563\n",
      "Epoch 65/100\n",
      "60000/60000 [==============================] - 5s 79us/step - loss: 0.1504 - accuracy: 0.9564\n",
      "Epoch 66/100\n",
      "60000/60000 [==============================] - 5s 80us/step - loss: 0.1504 - accuracy: 0.9570\n",
      "Epoch 67/100\n",
      "60000/60000 [==============================] - 4s 70us/step - loss: 0.1510 - accuracy: 0.9564\n",
      "Epoch 68/100\n",
      "60000/60000 [==============================] - 4s 67us/step - loss: 0.1529 - accuracy: 0.9558\n",
      "Epoch 69/100\n",
      "60000/60000 [==============================] - 4s 67us/step - loss: 0.1509 - accuracy: 0.9560\n",
      "Epoch 70/100\n",
      "60000/60000 [==============================] - 5s 80us/step - loss: 0.1509 - accuracy: 0.9568\n",
      "Epoch 71/100\n",
      "60000/60000 [==============================] - 5s 82us/step - loss: 0.1501 - accuracy: 0.9556\n",
      "Epoch 72/100\n",
      "60000/60000 [==============================] - 5s 79us/step - loss: 0.1486 - accuracy: 0.9569\n",
      "Epoch 73/100\n",
      "60000/60000 [==============================] - 4s 71us/step - loss: 0.1484 - accuracy: 0.9562\n",
      "Epoch 74/100\n",
      "60000/60000 [==============================] - 4s 67us/step - loss: 0.1527 - accuracy: 0.9553\n",
      "Epoch 75/100\n",
      "60000/60000 [==============================] - 4s 67us/step - loss: 0.1478 - accuracy: 0.9570\n",
      "Epoch 76/100\n",
      "60000/60000 [==============================] - 4s 68us/step - loss: 0.1444 - accuracy: 0.9579\n",
      "Epoch 77/100\n",
      "60000/60000 [==============================] - 4s 65us/step - loss: 0.1479 - accuracy: 0.9567\n",
      "Epoch 78/100\n",
      "60000/60000 [==============================] - 4s 66us/step - loss: 0.1477 - accuracy: 0.9585\n",
      "Epoch 79/100\n",
      "60000/60000 [==============================] - 4s 73us/step - loss: 0.1478 - accuracy: 0.9571\n",
      "Epoch 80/100\n",
      "60000/60000 [==============================] - 4s 75us/step - loss: 0.1434 - accuracy: 0.9582\n",
      "Epoch 81/100\n",
      "60000/60000 [==============================] - 4s 69us/step - loss: 0.1488 - accuracy: 0.9580\n",
      "Epoch 82/100\n",
      "60000/60000 [==============================] - 4s 66us/step - loss: 0.1433 - accuracy: 0.9576\n",
      "Epoch 83/100\n",
      "60000/60000 [==============================] - 4s 66us/step - loss: 0.1461 - accuracy: 0.9575\n",
      "Epoch 84/100\n",
      "60000/60000 [==============================] - 4s 67us/step - loss: 0.1428 - accuracy: 0.9583\n",
      "Epoch 85/100\n",
      "60000/60000 [==============================] - 4s 67us/step - loss: 0.1459 - accuracy: 0.9567\n",
      "Epoch 86/100\n",
      "60000/60000 [==============================] - 4s 66us/step - loss: 0.1472 - accuracy: 0.9564\n",
      "Epoch 87/100\n",
      "60000/60000 [==============================] - 4s 65us/step - loss: 0.1437 - accuracy: 0.9584\n",
      "Epoch 88/100\n",
      "60000/60000 [==============================] - 4s 65us/step - loss: 0.1468 - accuracy: 0.9567\n",
      "Epoch 89/100\n",
      "60000/60000 [==============================] - 4s 65us/step - loss: 0.1424 - accuracy: 0.9584\n",
      "Epoch 90/100\n",
      "60000/60000 [==============================] - 4s 65us/step - loss: 0.1433 - accuracy: 0.9588\n",
      "Epoch 91/100\n",
      "60000/60000 [==============================] - 4s 65us/step - loss: 0.1436 - accuracy: 0.9575\n",
      "Epoch 92/100\n",
      "60000/60000 [==============================] - 4s 65us/step - loss: 0.1451 - accuracy: 0.9577\n",
      "Epoch 93/100\n",
      "60000/60000 [==============================] - 4s 65us/step - loss: 0.1426 - accuracy: 0.9583\n",
      "Epoch 94/100\n",
      "60000/60000 [==============================] - 4s 65us/step - loss: 0.1463 - accuracy: 0.9563\n",
      "Epoch 95/100\n",
      "60000/60000 [==============================] - 4s 65us/step - loss: 0.1437 - accuracy: 0.9585\n",
      "Epoch 96/100\n",
      "60000/60000 [==============================] - 4s 65us/step - loss: 0.1445 - accuracy: 0.9578\n",
      "Epoch 97/100\n",
      "60000/60000 [==============================] - 4s 65us/step - loss: 0.1466 - accuracy: 0.9573\n",
      "Epoch 98/100\n",
      "60000/60000 [==============================] - 4s 65us/step - loss: 0.1427 - accuracy: 0.9584\n",
      "Epoch 99/100\n",
      "60000/60000 [==============================] - 4s 65us/step - loss: 0.1405 - accuracy: 0.9601\n",
      "Epoch 100/100\n",
      "60000/60000 [==============================] - 4s 65us/step - loss: 0.1415 - accuracy: 0.9588\n",
      "Epoch 1/100\n",
      "60000/60000 [==============================] - 4s 66us/step - loss: 0.7709 - accuracy: 0.7653\n",
      "Epoch 2/100\n",
      "60000/60000 [==============================] - 4s 64us/step - loss: 0.4451 - accuracy: 0.8718\n",
      "Epoch 3/100\n",
      "60000/60000 [==============================] - 4s 64us/step - loss: 0.3756 - accuracy: 0.8926 0s - loss: 0\n",
      "Epoch 4/100\n",
      "60000/60000 [==============================] - 4s 68us/step - loss: 0.3352 - accuracy: 0.9034\n",
      "Epoch 5/100\n",
      "60000/60000 [==============================] - 4s 67us/step - loss: 0.3019 - accuracy: 0.9143\n",
      "Epoch 6/100\n",
      "60000/60000 [==============================] - 4s 67us/step - loss: 0.2859 - accuracy: 0.9182\n",
      "Epoch 7/100\n",
      "60000/60000 [==============================] - 4s 66us/step - loss: 0.2733 - accuracy: 0.9222\n",
      "Epoch 8/100\n",
      "60000/60000 [==============================] - 4s 68us/step - loss: 0.2642 - accuracy: 0.9240\n",
      "Epoch 9/100\n",
      "60000/60000 [==============================] - 4s 66us/step - loss: 0.2496 - accuracy: 0.9281\n",
      "Epoch 10/100\n",
      "60000/60000 [==============================] - 4s 67us/step - loss: 0.2398 - accuracy: 0.9309\n",
      "Epoch 11/100\n",
      "60000/60000 [==============================] - 4s 66us/step - loss: 0.2396 - accuracy: 0.9317\n",
      "Epoch 12/100\n",
      "60000/60000 [==============================] - 4s 67us/step - loss: 0.2262 - accuracy: 0.9336\n",
      "Epoch 13/100\n",
      "60000/60000 [==============================] - 4s 66us/step - loss: 0.2292 - accuracy: 0.9337\n",
      "Epoch 14/100\n",
      "60000/60000 [==============================] - 4s 66us/step - loss: 0.2193 - accuracy: 0.9372\n",
      "Epoch 15/100\n",
      "60000/60000 [==============================] - 4s 66us/step - loss: 0.2149 - accuracy: 0.9392\n",
      "Epoch 16/100\n",
      "60000/60000 [==============================] - 4s 66us/step - loss: 0.2120 - accuracy: 0.9389\n",
      "Epoch 17/100\n",
      "60000/60000 [==============================] - 4s 66us/step - loss: 0.2082 - accuracy: 0.9405\n",
      "Epoch 18/100\n",
      "60000/60000 [==============================] - 4s 66us/step - loss: 0.2064 - accuracy: 0.9405\n",
      "Epoch 19/100\n",
      "60000/60000 [==============================] - 4s 67us/step - loss: 0.2044 - accuracy: 0.9413\n",
      "Epoch 20/100\n",
      "60000/60000 [==============================] - 4s 67us/step - loss: 0.1991 - accuracy: 0.9433\n",
      "Epoch 21/100\n",
      "60000/60000 [==============================] - 4s 66us/step - loss: 0.1962 - accuracy: 0.9436\n",
      "Epoch 22/100\n",
      "60000/60000 [==============================] - 4s 67us/step - loss: 0.1956 - accuracy: 0.9430\n",
      "Epoch 23/100\n",
      "60000/60000 [==============================] - 4s 68us/step - loss: 0.1919 - accuracy: 0.9437\n",
      "Epoch 24/100\n",
      "60000/60000 [==============================] - 4s 67us/step - loss: 0.1876 - accuracy: 0.9453\n",
      "Epoch 25/100\n",
      "60000/60000 [==============================] - 4s 67us/step - loss: 0.1843 - accuracy: 0.9465\n",
      "Epoch 26/100\n",
      "60000/60000 [==============================] - 4s 66us/step - loss: 0.1861 - accuracy: 0.9461\n",
      "Epoch 27/100\n",
      "60000/60000 [==============================] - 4s 68us/step - loss: 0.1804 - accuracy: 0.9482\n",
      "Epoch 28/100\n",
      "60000/60000 [==============================] - 4s 66us/step - loss: 0.1842 - accuracy: 0.9466\n",
      "Epoch 29/100\n",
      "60000/60000 [==============================] - 4s 68us/step - loss: 0.1823 - accuracy: 0.9467\n",
      "Epoch 30/100\n",
      "60000/60000 [==============================] - 4s 66us/step - loss: 0.1780 - accuracy: 0.9485\n",
      "Epoch 31/100\n",
      "60000/60000 [==============================] - 4s 66us/step - loss: 0.1768 - accuracy: 0.9485\n",
      "Epoch 32/100\n",
      "60000/60000 [==============================] - 4s 66us/step - loss: 0.1750 - accuracy: 0.9487\n",
      "Epoch 33/100\n",
      "60000/60000 [==============================] - 4s 66us/step - loss: 0.1775 - accuracy: 0.9499\n",
      "Epoch 34/100\n",
      "60000/60000 [==============================] - 4s 67us/step - loss: 0.1775 - accuracy: 0.9494\n",
      "Epoch 35/100\n",
      "60000/60000 [==============================] - 4s 68us/step - loss: 0.1792 - accuracy: 0.9485\n",
      "Epoch 36/100\n",
      "60000/60000 [==============================] - 4s 67us/step - loss: 0.1728 - accuracy: 0.9501\n",
      "Epoch 37/100\n",
      "60000/60000 [==============================] - 4s 68us/step - loss: 0.1698 - accuracy: 0.9501\n",
      "Epoch 38/100\n",
      "60000/60000 [==============================] - 4s 70us/step - loss: 0.1703 - accuracy: 0.9509 0s - loss: 0.1709 - accu\n",
      "Epoch 39/100\n",
      "60000/60000 [==============================] - 4s 66us/step - loss: 0.1675 - accuracy: 0.9508\n",
      "Epoch 40/100\n",
      "60000/60000 [==============================] - 4s 68us/step - loss: 0.1714 - accuracy: 0.9502\n",
      "Epoch 41/100\n",
      "60000/60000 [==============================] - 4s 67us/step - loss: 0.1688 - accuracy: 0.9516\n",
      "Epoch 42/100\n",
      "60000/60000 [==============================] - 4s 67us/step - loss: 0.1689 - accuracy: 0.9510\n",
      "Epoch 43/100\n",
      "60000/60000 [==============================] - 4s 67us/step - loss: 0.1638 - accuracy: 0.9524\n",
      "Epoch 44/100\n",
      "60000/60000 [==============================] - 4s 67us/step - loss: 0.1693 - accuracy: 0.9510 0s\n",
      "Epoch 45/100\n",
      "60000/60000 [==============================] - 4s 67us/step - loss: 0.1652 - accuracy: 0.9531\n",
      "Epoch 46/100\n",
      "60000/60000 [==============================] - 4s 66us/step - loss: 0.1653 - accuracy: 0.9518\n",
      "Epoch 47/100\n",
      "60000/60000 [==============================] - 4s 67us/step - loss: 0.1625 - accuracy: 0.9525\n",
      "Epoch 48/100\n",
      "60000/60000 [==============================] - 4s 67us/step - loss: 0.1628 - accuracy: 0.9521\n",
      "Epoch 49/100\n",
      "60000/60000 [==============================] - 4s 67us/step - loss: 0.1609 - accuracy: 0.9535\n",
      "Epoch 50/100\n",
      "60000/60000 [==============================] - 4s 67us/step - loss: 0.1606 - accuracy: 0.9538\n",
      "Epoch 51/100\n",
      "60000/60000 [==============================] - 4s 67us/step - loss: 0.1649 - accuracy: 0.9523\n",
      "Epoch 52/100\n"
     ]
    },
    {
     "name": "stdout",
     "output_type": "stream",
     "text": [
      "60000/60000 [==============================] - 4s 65us/step - loss: 0.1601 - accuracy: 0.9536\n",
      "Epoch 53/100\n",
      "60000/60000 [==============================] - 4s 65us/step - loss: 0.1562 - accuracy: 0.9534\n",
      "Epoch 54/100\n",
      "60000/60000 [==============================] - 4s 66us/step - loss: 0.1595 - accuracy: 0.9534\n",
      "Epoch 55/100\n",
      "60000/60000 [==============================] - 4s 65us/step - loss: 0.1586 - accuracy: 0.9540\n",
      "Epoch 56/100\n",
      "60000/60000 [==============================] - 4s 65us/step - loss: 0.1571 - accuracy: 0.9555\n",
      "Epoch 57/100\n",
      "60000/60000 [==============================] - 4s 66us/step - loss: 0.1585 - accuracy: 0.9541\n",
      "Epoch 58/100\n",
      "60000/60000 [==============================] - 4s 66us/step - loss: 0.1592 - accuracy: 0.9544\n",
      "Epoch 59/100\n",
      "60000/60000 [==============================] - 4s 68us/step - loss: 0.1563 - accuracy: 0.9547\n",
      "Epoch 60/100\n",
      "60000/60000 [==============================] - 4s 67us/step - loss: 0.1550 - accuracy: 0.9549\n",
      "Epoch 61/100\n",
      "60000/60000 [==============================] - 4s 66us/step - loss: 0.1501 - accuracy: 0.9561\n",
      "Epoch 62/100\n",
      "60000/60000 [==============================] - 4s 65us/step - loss: 0.1540 - accuracy: 0.9549\n",
      "Epoch 63/100\n",
      "60000/60000 [==============================] - 4s 66us/step - loss: 0.1532 - accuracy: 0.9547\n",
      "Epoch 64/100\n",
      "60000/60000 [==============================] - 4s 66us/step - loss: 0.1563 - accuracy: 0.9542\n",
      "Epoch 65/100\n",
      "60000/60000 [==============================] - 4s 66us/step - loss: 0.1502 - accuracy: 0.9571\n",
      "Epoch 66/100\n",
      "60000/60000 [==============================] - 4s 66us/step - loss: 0.1532 - accuracy: 0.9561\n",
      "Epoch 67/100\n",
      "60000/60000 [==============================] - 4s 66us/step - loss: 0.1556 - accuracy: 0.9540\n",
      "Epoch 68/100\n",
      "60000/60000 [==============================] - 4s 66us/step - loss: 0.1531 - accuracy: 0.9550\n",
      "Epoch 69/100\n",
      "60000/60000 [==============================] - 4s 66us/step - loss: 0.1518 - accuracy: 0.9560\n",
      "Epoch 70/100\n",
      "60000/60000 [==============================] - 4s 69us/step - loss: 0.1506 - accuracy: 0.9564\n",
      "Epoch 71/100\n",
      "60000/60000 [==============================] - 4s 66us/step - loss: 0.1521 - accuracy: 0.9555\n",
      "Epoch 72/100\n",
      "60000/60000 [==============================] - 4s 66us/step - loss: 0.1537 - accuracy: 0.9547\n",
      "Epoch 73/100\n",
      "60000/60000 [==============================] - 4s 66us/step - loss: 0.1499 - accuracy: 0.9564\n",
      "Epoch 74/100\n",
      "60000/60000 [==============================] - 4s 67us/step - loss: 0.1549 - accuracy: 0.9539\n",
      "Epoch 75/100\n",
      "60000/60000 [==============================] - 4s 66us/step - loss: 0.1528 - accuracy: 0.9558\n",
      "Epoch 76/100\n",
      "60000/60000 [==============================] - 4s 66us/step - loss: 0.1516 - accuracy: 0.9557\n",
      "Epoch 77/100\n",
      "60000/60000 [==============================] - 4s 67us/step - loss: 0.1470 - accuracy: 0.9573\n",
      "Epoch 78/100\n",
      "60000/60000 [==============================] - 4s 67us/step - loss: 0.1496 - accuracy: 0.9565\n",
      "Epoch 79/100\n",
      "60000/60000 [==============================] - 4s 66us/step - loss: 0.1554 - accuracy: 0.9553\n",
      "Epoch 80/100\n",
      "60000/60000 [==============================] - 4s 66us/step - loss: 0.1501 - accuracy: 0.9561\n",
      "Epoch 81/100\n",
      "60000/60000 [==============================] - 4s 66us/step - loss: 0.1489 - accuracy: 0.9566\n",
      "Epoch 82/100\n",
      "60000/60000 [==============================] - 4s 67us/step - loss: 0.1506 - accuracy: 0.9566\n",
      "Epoch 83/100\n",
      "60000/60000 [==============================] - 4s 66us/step - loss: 0.1464 - accuracy: 0.9573\n",
      "Epoch 84/100\n",
      "60000/60000 [==============================] - 4s 67us/step - loss: 0.1448 - accuracy: 0.9571\n",
      "Epoch 85/100\n",
      "60000/60000 [==============================] - 4s 66us/step - loss: 0.1481 - accuracy: 0.9575\n",
      "Epoch 86/100\n",
      "60000/60000 [==============================] - 4s 67us/step - loss: 0.1475 - accuracy: 0.9572\n",
      "Epoch 87/100\n",
      "60000/60000 [==============================] - 4s 65us/step - loss: 0.1505 - accuracy: 0.9568\n",
      "Epoch 88/100\n",
      "60000/60000 [==============================] - 4s 66us/step - loss: 0.1473 - accuracy: 0.9573\n",
      "Epoch 89/100\n",
      "60000/60000 [==============================] - 4s 68us/step - loss: 0.1456 - accuracy: 0.9582\n",
      "Epoch 90/100\n",
      "60000/60000 [==============================] - 4s 67us/step - loss: 0.1472 - accuracy: 0.9575\n",
      "Epoch 91/100\n",
      "60000/60000 [==============================] - 4s 65us/step - loss: 0.1407 - accuracy: 0.9589\n",
      "Epoch 92/100\n",
      "60000/60000 [==============================] - 4s 65us/step - loss: 0.1487 - accuracy: 0.9568\n",
      "Epoch 93/100\n",
      "60000/60000 [==============================] - 4s 66us/step - loss: 0.1426 - accuracy: 0.9584\n",
      "Epoch 94/100\n",
      "60000/60000 [==============================] - 4s 66us/step - loss: 0.1435 - accuracy: 0.9582\n",
      "Epoch 95/100\n",
      "60000/60000 [==============================] - 4s 66us/step - loss: 0.1419 - accuracy: 0.9584\n",
      "Epoch 96/100\n",
      "60000/60000 [==============================] - 4s 66us/step - loss: 0.1426 - accuracy: 0.9588\n",
      "Epoch 97/100\n",
      "60000/60000 [==============================] - 4s 66us/step - loss: 0.1440 - accuracy: 0.9574\n",
      "Epoch 98/100\n",
      "60000/60000 [==============================] - 4s 67us/step - loss: 0.1441 - accuracy: 0.9578\n",
      "Epoch 99/100\n",
      "60000/60000 [==============================] - 4s 66us/step - loss: 0.1424 - accuracy: 0.9579 0s - loss: 0.1418 - accura\n",
      "Epoch 100/100\n",
      "60000/60000 [==============================] - 4s 68us/step - loss: 0.1436 - accuracy: 0.9582\n",
      "Epoch 1/100\n",
      "60000/60000 [==============================] - 5s 76us/step - loss: 0.7337 - accuracy: 0.7740\n",
      "Epoch 2/100\n",
      "60000/60000 [==============================] - 4s 69us/step - loss: 0.4271 - accuracy: 0.8779\n",
      "Epoch 3/100\n",
      "60000/60000 [==============================] - 4s 67us/step - loss: 0.3626 - accuracy: 0.8956\n",
      "Epoch 4/100\n",
      "60000/60000 [==============================] - 4s 70us/step - loss: 0.3290 - accuracy: 0.9053\n",
      "Epoch 5/100\n",
      "60000/60000 [==============================] - 4s 70us/step - loss: 0.2963 - accuracy: 0.9147\n",
      "Epoch 6/100\n",
      "60000/60000 [==============================] - 4s 73us/step - loss: 0.2803 - accuracy: 0.9199\n",
      "Epoch 7/100\n",
      "60000/60000 [==============================] - 4s 74us/step - loss: 0.2661 - accuracy: 0.9244\n",
      "Epoch 8/100\n",
      "60000/60000 [==============================] - 4s 70us/step - loss: 0.2592 - accuracy: 0.9258\n",
      "Epoch 9/100\n",
      "60000/60000 [==============================] - 4s 68us/step - loss: 0.2513 - accuracy: 0.9286 0s - l\n",
      "Epoch 10/100\n",
      "60000/60000 [==============================] - 4s 69us/step - loss: 0.2404 - accuracy: 0.9308\n",
      "Epoch 11/100\n",
      "60000/60000 [==============================] - 4s 71us/step - loss: 0.2394 - accuracy: 0.9313\n",
      "Epoch 12/100\n",
      "60000/60000 [==============================] - 4s 70us/step - loss: 0.2276 - accuracy: 0.9346\n",
      "Epoch 13/100\n",
      "60000/60000 [==============================] - 4s 70us/step - loss: 0.2184 - accuracy: 0.9378\n",
      "Epoch 14/100\n",
      "60000/60000 [==============================] - 5s 78us/step - loss: 0.2152 - accuracy: 0.9381\n",
      "Epoch 15/100\n",
      "60000/60000 [==============================] - 5s 76us/step - loss: 0.2193 - accuracy: 0.9371\n",
      "Epoch 16/100\n",
      "60000/60000 [==============================] - 4s 75us/step - loss: 0.2107 - accuracy: 0.9387\n",
      "Epoch 17/100\n",
      "60000/60000 [==============================] - 4s 71us/step - loss: 0.2052 - accuracy: 0.9400\n",
      "Epoch 18/100\n",
      "60000/60000 [==============================] - 4s 73us/step - loss: 0.2085 - accuracy: 0.9401\n",
      "Epoch 19/100\n",
      "60000/60000 [==============================] - 4s 68us/step - loss: 0.2038 - accuracy: 0.9412\n",
      "Epoch 20/100\n",
      "60000/60000 [==============================] - 4s 67us/step - loss: 0.2036 - accuracy: 0.9416\n",
      "Epoch 21/100\n",
      "60000/60000 [==============================] - 4s 69us/step - loss: 0.2028 - accuracy: 0.9416\n",
      "Epoch 22/100\n",
      "60000/60000 [==============================] - 4s 67us/step - loss: 0.1951 - accuracy: 0.9434\n",
      "Epoch 23/100\n",
      "60000/60000 [==============================] - 4s 72us/step - loss: 0.1923 - accuracy: 0.9450\n",
      "Epoch 24/100\n",
      "60000/60000 [==============================] - 4s 67us/step - loss: 0.1886 - accuracy: 0.9455\n",
      "Epoch 25/100\n",
      "60000/60000 [==============================] - 4s 68us/step - loss: 0.1919 - accuracy: 0.9449\n",
      "Epoch 26/100\n",
      "60000/60000 [==============================] - 4s 73us/step - loss: 0.1860 - accuracy: 0.9454\n",
      "Epoch 27/100\n",
      "60000/60000 [==============================] - 4s 70us/step - loss: 0.1856 - accuracy: 0.9467\n",
      "Epoch 28/100\n",
      "60000/60000 [==============================] - 4s 68us/step - loss: 0.1813 - accuracy: 0.9474\n",
      "Epoch 29/100\n",
      "60000/60000 [==============================] - 4s 69us/step - loss: 0.1828 - accuracy: 0.9469\n",
      "Epoch 30/100\n",
      "60000/60000 [==============================] - 4s 69us/step - loss: 0.1803 - accuracy: 0.9471\n",
      "Epoch 31/100\n",
      "60000/60000 [==============================] - 4s 66us/step - loss: 0.1751 - accuracy: 0.9493\n",
      "Epoch 32/100\n",
      "60000/60000 [==============================] - 4s 67us/step - loss: 0.1770 - accuracy: 0.9482\n",
      "Epoch 33/100\n",
      "60000/60000 [==============================] - 4s 66us/step - loss: 0.1762 - accuracy: 0.9491\n",
      "Epoch 34/100\n",
      "60000/60000 [==============================] - 4s 67us/step - loss: 0.1796 - accuracy: 0.9485\n",
      "Epoch 35/100\n",
      "60000/60000 [==============================] - 4s 66us/step - loss: 0.1766 - accuracy: 0.9471\n",
      "Epoch 36/100\n",
      "60000/60000 [==============================] - 4s 66us/step - loss: 0.1753 - accuracy: 0.9498\n",
      "Epoch 37/100\n",
      "60000/60000 [==============================] - 4s 67us/step - loss: 0.1737 - accuracy: 0.9494\n",
      "Epoch 38/100\n",
      "60000/60000 [==============================] - 4s 67us/step - loss: 0.1716 - accuracy: 0.9503\n",
      "Epoch 39/100\n",
      "60000/60000 [==============================] - 4s 67us/step - loss: 0.1685 - accuracy: 0.9511\n",
      "Epoch 40/100\n",
      "60000/60000 [==============================] - 4s 67us/step - loss: 0.1680 - accuracy: 0.9511\n",
      "Epoch 41/100\n",
      "60000/60000 [==============================] - 4s 67us/step - loss: 0.1682 - accuracy: 0.9513\n",
      "Epoch 42/100\n",
      "60000/60000 [==============================] - 4s 67us/step - loss: 0.1685 - accuracy: 0.9515\n",
      "Epoch 43/100\n",
      "60000/60000 [==============================] - 4s 68us/step - loss: 0.1708 - accuracy: 0.9506\n",
      "Epoch 44/100\n",
      "60000/60000 [==============================] - 4s 68us/step - loss: 0.1656 - accuracy: 0.9532\n",
      "Epoch 45/100\n",
      "60000/60000 [==============================] - 4s 67us/step - loss: 0.1644 - accuracy: 0.9510\n",
      "Epoch 46/100\n",
      "60000/60000 [==============================] - 4s 67us/step - loss: 0.1654 - accuracy: 0.9516\n",
      "Epoch 47/100\n",
      "60000/60000 [==============================] - 4s 67us/step - loss: 0.1678 - accuracy: 0.9509\n",
      "Epoch 48/100\n",
      "60000/60000 [==============================] - 4s 66us/step - loss: 0.1606 - accuracy: 0.9522\n",
      "Epoch 49/100\n",
      "60000/60000 [==============================] - 4s 68us/step - loss: 0.1659 - accuracy: 0.9514\n",
      "Epoch 50/100\n",
      "60000/60000 [==============================] - 4s 67us/step - loss: 0.1647 - accuracy: 0.9506\n",
      "Epoch 51/100\n",
      "60000/60000 [==============================] - 4s 69us/step - loss: 0.1599 - accuracy: 0.9530\n",
      "Epoch 52/100\n",
      "60000/60000 [==============================] - 4s 67us/step - loss: 0.1612 - accuracy: 0.9533\n",
      "Epoch 53/100\n",
      "60000/60000 [==============================] - 4s 67us/step - loss: 0.1571 - accuracy: 0.9537\n",
      "Epoch 54/100\n",
      "60000/60000 [==============================] - 4s 66us/step - loss: 0.1625 - accuracy: 0.9528\n",
      "Epoch 55/100\n",
      "60000/60000 [==============================] - 4s 67us/step - loss: 0.1542 - accuracy: 0.9548\n",
      "Epoch 56/100\n",
      "60000/60000 [==============================] - 4s 73us/step - loss: 0.1616 - accuracy: 0.9531\n",
      "Epoch 57/100\n",
      "60000/60000 [==============================] - 4s 68us/step - loss: 0.1594 - accuracy: 0.9543\n",
      "Epoch 58/100\n",
      "60000/60000 [==============================] - 4s 68us/step - loss: 0.1574 - accuracy: 0.9535\n",
      "Epoch 59/100\n",
      "60000/60000 [==============================] - 4s 68us/step - loss: 0.1572 - accuracy: 0.9533\n",
      "Epoch 60/100\n",
      "60000/60000 [==============================] - 5s 77us/step - loss: 0.1564 - accuracy: 0.9539\n",
      "Epoch 61/100\n",
      "60000/60000 [==============================] - 5s 77us/step - loss: 0.1577 - accuracy: 0.9544\n",
      "Epoch 62/100\n",
      "60000/60000 [==============================] - 5s 77us/step - loss: 0.1549 - accuracy: 0.9547\n",
      "Epoch 63/100\n",
      "60000/60000 [==============================] - 5s 79us/step - loss: 0.1564 - accuracy: 0.9543\n",
      "Epoch 64/100\n",
      "60000/60000 [==============================] - 5s 77us/step - loss: 0.1513 - accuracy: 0.9551\n",
      "Epoch 65/100\n",
      "60000/60000 [==============================] - 4s 67us/step - loss: 0.1560 - accuracy: 0.9546\n",
      "Epoch 66/100\n",
      "60000/60000 [==============================] - 4s 67us/step - loss: 0.1531 - accuracy: 0.9550\n",
      "Epoch 67/100\n",
      "60000/60000 [==============================] - 4s 67us/step - loss: 0.1549 - accuracy: 0.9542\n",
      "Epoch 68/100\n",
      "60000/60000 [==============================] - 4s 67us/step - loss: 0.1554 - accuracy: 0.9551\n",
      "Epoch 69/100\n",
      "60000/60000 [==============================] - 4s 70us/step - loss: 0.1537 - accuracy: 0.9554\n",
      "Epoch 70/100\n",
      "60000/60000 [==============================] - 4s 68us/step - loss: 0.1476 - accuracy: 0.9568\n",
      "Epoch 71/100\n",
      "60000/60000 [==============================] - 4s 67us/step - loss: 0.1501 - accuracy: 0.9560\n",
      "Epoch 72/100\n",
      "60000/60000 [==============================] - 4s 68us/step - loss: 0.1533 - accuracy: 0.9561\n",
      "Epoch 73/100\n",
      "60000/60000 [==============================] - 4s 69us/step - loss: 0.1525 - accuracy: 0.9546\n",
      "Epoch 74/100\n",
      "60000/60000 [==============================] - 4s 68us/step - loss: 0.1502 - accuracy: 0.9560\n",
      "Epoch 75/100\n",
      "60000/60000 [==============================] - 4s 69us/step - loss: 0.1510 - accuracy: 0.9551\n",
      "Epoch 76/100\n",
      "60000/60000 [==============================] - 4s 68us/step - loss: 0.1503 - accuracy: 0.9566\n",
      "Epoch 77/100\n",
      "60000/60000 [==============================] - 4s 67us/step - loss: 0.1509 - accuracy: 0.9549\n",
      "Epoch 78/100\n",
      "60000/60000 [==============================] - 4s 67us/step - loss: 0.1504 - accuracy: 0.9556\n",
      "Epoch 79/100\n",
      "60000/60000 [==============================] - 4s 68us/step - loss: 0.1491 - accuracy: 0.9559\n",
      "Epoch 80/100\n",
      "60000/60000 [==============================] - 4s 69us/step - loss: 0.1468 - accuracy: 0.9564\n",
      "Epoch 81/100\n",
      "60000/60000 [==============================] - 5s 76us/step - loss: 0.1482 - accuracy: 0.9569\n",
      "Epoch 82/100\n",
      "60000/60000 [==============================] - 4s 67us/step - loss: 0.1493 - accuracy: 0.9562\n",
      "Epoch 83/100\n",
      "60000/60000 [==============================] - 4s 74us/step - loss: 0.1487 - accuracy: 0.9561\n",
      "Epoch 84/100\n",
      "60000/60000 [==============================] - 4s 71us/step - loss: 0.1460 - accuracy: 0.9557\n",
      "Epoch 85/100\n",
      "60000/60000 [==============================] - 4s 68us/step - loss: 0.1508 - accuracy: 0.9551\n",
      "Epoch 86/100\n",
      "60000/60000 [==============================] - 4s 68us/step - loss: 0.1474 - accuracy: 0.9573\n",
      "Epoch 87/100\n",
      "60000/60000 [==============================] - 4s 68us/step - loss: 0.1476 - accuracy: 0.9563\n",
      "Epoch 88/100\n",
      "60000/60000 [==============================] - 4s 67us/step - loss: 0.1466 - accuracy: 0.9575\n",
      "Epoch 89/100\n",
      "60000/60000 [==============================] - 4s 67us/step - loss: 0.1476 - accuracy: 0.9570\n",
      "Epoch 90/100\n",
      "60000/60000 [==============================] - 4s 67us/step - loss: 0.1471 - accuracy: 0.9563\n",
      "Epoch 91/100\n",
      "60000/60000 [==============================] - 4s 67us/step - loss: 0.1451 - accuracy: 0.9590\n",
      "Epoch 92/100\n",
      "60000/60000 [==============================] - 4s 66us/step - loss: 0.1428 - accuracy: 0.9579\n",
      "Epoch 93/100\n",
      "60000/60000 [==============================] - 4s 67us/step - loss: 0.1439 - accuracy: 0.9568\n",
      "Epoch 94/100\n",
      "60000/60000 [==============================] - 4s 68us/step - loss: 0.1443 - accuracy: 0.9575\n",
      "Epoch 95/100\n",
      "60000/60000 [==============================] - 4s 67us/step - loss: 0.1427 - accuracy: 0.9579 0s - loss: 0.1431 - accuracy: 0.\n",
      "Epoch 96/100\n",
      "60000/60000 [==============================] - 4s 67us/step - loss: 0.1430 - accuracy: 0.9584\n",
      "Epoch 97/100\n",
      "60000/60000 [==============================] - 4s 69us/step - loss: 0.1423 - accuracy: 0.9579\n",
      "Epoch 98/100\n",
      "60000/60000 [==============================] - 4s 67us/step - loss: 0.1426 - accuracy: 0.9574\n",
      "Epoch 99/100\n",
      "60000/60000 [==============================] - 4s 67us/step - loss: 0.1429 - accuracy: 0.9580\n",
      "Epoch 100/100\n",
      "60000/60000 [==============================] - 4s 68us/step - loss: 0.1451 - accuracy: 0.9588\n",
      "Epoch 1/100\n",
      "60000/60000 [==============================] - 4s 75us/step - loss: 0.7662 - accuracy: 0.7679\n",
      "Epoch 2/100\n",
      "60000/60000 [==============================] - 5s 76us/step - loss: 0.4340 - accuracy: 0.8759\n",
      "Epoch 3/100\n",
      "60000/60000 [==============================] - 4s 71us/step - loss: 0.3649 - accuracy: 0.8965\n",
      "Epoch 4/100\n"
     ]
    },
    {
     "name": "stdout",
     "output_type": "stream",
     "text": [
      "60000/60000 [==============================] - ETA: 0s - loss: 0.3249 - accuracy: 0.90 - 4s 68us/step - loss: 0.3244 - accuracy: 0.9081\n",
      "Epoch 5/100\n",
      "60000/60000 [==============================] - 4s 66us/step - loss: 0.2994 - accuracy: 0.9141\n",
      "Epoch 6/100\n",
      "60000/60000 [==============================] - 4s 66us/step - loss: 0.2814 - accuracy: 0.9192\n",
      "Epoch 7/100\n",
      "60000/60000 [==============================] - 4s 66us/step - loss: 0.2673 - accuracy: 0.9245\n",
      "Epoch 8/100\n",
      "60000/60000 [==============================] - 4s 66us/step - loss: 0.2540 - accuracy: 0.9270\n",
      "Epoch 9/100\n",
      "60000/60000 [==============================] - 4s 67us/step - loss: 0.2491 - accuracy: 0.9294\n",
      "Epoch 10/100\n",
      "60000/60000 [==============================] - 4s 66us/step - loss: 0.2383 - accuracy: 0.9315\n",
      "Epoch 11/100\n",
      "60000/60000 [==============================] - 4s 67us/step - loss: 0.2334 - accuracy: 0.9344\n",
      "Epoch 12/100\n",
      "60000/60000 [==============================] - 4s 67us/step - loss: 0.2241 - accuracy: 0.9348\n",
      "Epoch 13/100\n",
      "60000/60000 [==============================] - 4s 67us/step - loss: 0.2183 - accuracy: 0.9364\n",
      "Epoch 14/100\n",
      "60000/60000 [==============================] - 4s 67us/step - loss: 0.2150 - accuracy: 0.9379\n",
      "Epoch 15/100\n",
      "60000/60000 [==============================] - 4s 67us/step - loss: 0.2157 - accuracy: 0.9379\n",
      "Epoch 16/100\n",
      "60000/60000 [==============================] - 4s 67us/step - loss: 0.2108 - accuracy: 0.9392\n",
      "Epoch 17/100\n",
      "60000/60000 [==============================] - 4s 67us/step - loss: 0.2059 - accuracy: 0.9402\n",
      "Epoch 18/100\n",
      "60000/60000 [==============================] - 4s 67us/step - loss: 0.2043 - accuracy: 0.9411\n",
      "Epoch 19/100\n",
      "60000/60000 [==============================] - 4s 67us/step - loss: 0.2017 - accuracy: 0.9413\n",
      "Epoch 20/100\n",
      "60000/60000 [==============================] - 4s 67us/step - loss: 0.1954 - accuracy: 0.9431\n",
      "Epoch 21/100\n",
      "60000/60000 [==============================] - 4s 67us/step - loss: 0.1993 - accuracy: 0.9420\n",
      "Epoch 22/100\n",
      "60000/60000 [==============================] - 4s 67us/step - loss: 0.1934 - accuracy: 0.9446\n",
      "Epoch 23/100\n",
      "60000/60000 [==============================] - 4s 66us/step - loss: 0.1925 - accuracy: 0.9454\n",
      "Epoch 24/100\n",
      "60000/60000 [==============================] - 4s 66us/step - loss: 0.1910 - accuracy: 0.9441\n",
      "Epoch 25/100\n",
      "60000/60000 [==============================] - 4s 67us/step - loss: 0.1890 - accuracy: 0.9459\n",
      "Epoch 26/100\n",
      "60000/60000 [==============================] - 4s 67us/step - loss: 0.1854 - accuracy: 0.9472\n",
      "Epoch 27/100\n",
      "60000/60000 [==============================] - 4s 67us/step - loss: 0.1849 - accuracy: 0.9465\n",
      "Epoch 28/100\n",
      "60000/60000 [==============================] - 4s 68us/step - loss: 0.1855 - accuracy: 0.9467\n",
      "Epoch 29/100\n",
      "60000/60000 [==============================] - 4s 67us/step - loss: 0.1793 - accuracy: 0.9472\n",
      "Epoch 30/100\n",
      "60000/60000 [==============================] - 4s 70us/step - loss: 0.1824 - accuracy: 0.9477\n",
      "Epoch 31/100\n",
      "60000/60000 [==============================] - 4s 69us/step - loss: 0.1807 - accuracy: 0.9470\n",
      "Epoch 32/100\n",
      "60000/60000 [==============================] - 4s 70us/step - loss: 0.1808 - accuracy: 0.9473\n",
      "Epoch 33/100\n",
      "60000/60000 [==============================] - 4s 70us/step - loss: 0.1758 - accuracy: 0.9483\n",
      "Epoch 34/100\n",
      "60000/60000 [==============================] - 4s 70us/step - loss: 0.1725 - accuracy: 0.9494\n",
      "Epoch 35/100\n",
      "60000/60000 [==============================] - 4s 67us/step - loss: 0.1756 - accuracy: 0.9487\n",
      "Epoch 36/100\n",
      "60000/60000 [==============================] - 4s 67us/step - loss: 0.1763 - accuracy: 0.9488\n",
      "Epoch 37/100\n",
      "60000/60000 [==============================] - 4s 68us/step - loss: 0.1739 - accuracy: 0.9493\n",
      "Epoch 38/100\n",
      "60000/60000 [==============================] - 4s 68us/step - loss: 0.1726 - accuracy: 0.9499\n",
      "Epoch 39/100\n",
      "60000/60000 [==============================] - 4s 67us/step - loss: 0.1723 - accuracy: 0.9505\n",
      "Epoch 40/100\n",
      "60000/60000 [==============================] - 4s 68us/step - loss: 0.1688 - accuracy: 0.9514\n",
      "Epoch 41/100\n",
      "60000/60000 [==============================] - 4s 67us/step - loss: 0.1673 - accuracy: 0.9510\n",
      "Epoch 42/100\n",
      "60000/60000 [==============================] - 4s 68us/step - loss: 0.1674 - accuracy: 0.9509\n",
      "Epoch 43/100\n",
      "60000/60000 [==============================] - 4s 69us/step - loss: 0.1695 - accuracy: 0.9509\n",
      "Epoch 44/100\n",
      "60000/60000 [==============================] - 4s 68us/step - loss: 0.1685 - accuracy: 0.9516\n",
      "Epoch 45/100\n",
      "60000/60000 [==============================] - 4s 69us/step - loss: 0.1653 - accuracy: 0.9527\n",
      "Epoch 46/100\n",
      "60000/60000 [==============================] - 4s 69us/step - loss: 0.1656 - accuracy: 0.9513\n",
      "Epoch 47/100\n",
      "60000/60000 [==============================] - 4s 69us/step - loss: 0.1659 - accuracy: 0.9518\n",
      "Epoch 48/100\n",
      "60000/60000 [==============================] - 4s 68us/step - loss: 0.1676 - accuracy: 0.9513\n",
      "Epoch 49/100\n",
      "60000/60000 [==============================] - 4s 69us/step - loss: 0.1681 - accuracy: 0.9518\n",
      "Epoch 50/100\n",
      "60000/60000 [==============================] - 4s 68us/step - loss: 0.1571 - accuracy: 0.9541\n",
      "Epoch 51/100\n",
      "60000/60000 [==============================] - 4s 67us/step - loss: 0.1603 - accuracy: 0.9538\n",
      "Epoch 52/100\n",
      "60000/60000 [==============================] - 4s 67us/step - loss: 0.1636 - accuracy: 0.9524\n",
      "Epoch 53/100\n",
      "60000/60000 [==============================] - 4s 67us/step - loss: 0.1589 - accuracy: 0.9542\n",
      "Epoch 54/100\n",
      "60000/60000 [==============================] - 4s 68us/step - loss: 0.1574 - accuracy: 0.9533\n",
      "Epoch 55/100\n",
      "60000/60000 [==============================] - 4s 68us/step - loss: 0.1622 - accuracy: 0.9531 0s - l\n",
      "Epoch 56/100\n",
      "60000/60000 [==============================] - 4s 68us/step - loss: 0.1590 - accuracy: 0.9529\n",
      "Epoch 57/100\n",
      "60000/60000 [==============================] - 4s 70us/step - loss: 0.1578 - accuracy: 0.9546\n",
      "Epoch 58/100\n",
      "60000/60000 [==============================] - 4s 68us/step - loss: 0.1590 - accuracy: 0.9542\n",
      "Epoch 59/100\n",
      "60000/60000 [==============================] - 4s 67us/step - loss: 0.1585 - accuracy: 0.9539\n",
      "Epoch 60/100\n",
      "60000/60000 [==============================] - 4s 67us/step - loss: 0.1540 - accuracy: 0.9543\n",
      "Epoch 61/100\n",
      "60000/60000 [==============================] - 4s 70us/step - loss: 0.1558 - accuracy: 0.9534\n",
      "Epoch 62/100\n",
      "60000/60000 [==============================] - 4s 68us/step - loss: 0.1588 - accuracy: 0.9530\n",
      "Epoch 63/100\n",
      "60000/60000 [==============================] - 4s 68us/step - loss: 0.1540 - accuracy: 0.9551\n",
      "Epoch 64/100\n",
      "60000/60000 [==============================] - 4s 68us/step - loss: 0.1548 - accuracy: 0.9549\n",
      "Epoch 65/100\n",
      "60000/60000 [==============================] - 4s 68us/step - loss: 0.1574 - accuracy: 0.9538\n",
      "Epoch 66/100\n",
      "60000/60000 [==============================] - 4s 68us/step - loss: 0.1533 - accuracy: 0.9546\n",
      "Epoch 67/100\n",
      "60000/60000 [==============================] - 4s 68us/step - loss: 0.1542 - accuracy: 0.9542\n",
      "Epoch 68/100\n",
      "60000/60000 [==============================] - 4s 68us/step - loss: 0.1551 - accuracy: 0.9537\n",
      "Epoch 69/100\n",
      "60000/60000 [==============================] - 4s 67us/step - loss: 0.1515 - accuracy: 0.9556\n",
      "Epoch 70/100\n",
      "60000/60000 [==============================] - 4s 68us/step - loss: 0.1533 - accuracy: 0.9544\n",
      "Epoch 71/100\n",
      "60000/60000 [==============================] - 4s 67us/step - loss: 0.1493 - accuracy: 0.9560 \n",
      "Epoch 72/100\n",
      "60000/60000 [==============================] - 4s 68us/step - loss: 0.1471 - accuracy: 0.9569\n",
      "Epoch 73/100\n",
      "60000/60000 [==============================] - 4s 68us/step - loss: 0.1512 - accuracy: 0.9547\n",
      "Epoch 74/100\n",
      "60000/60000 [==============================] - 4s 69us/step - loss: 0.1517 - accuracy: 0.9554\n",
      "Epoch 75/100\n",
      "60000/60000 [==============================] - 4s 68us/step - loss: 0.1503 - accuracy: 0.9570\n",
      "Epoch 76/100\n",
      "60000/60000 [==============================] - 4s 68us/step - loss: 0.1473 - accuracy: 0.9560\n",
      "Epoch 77/100\n",
      "60000/60000 [==============================] - 4s 68us/step - loss: 0.1473 - accuracy: 0.9561\n",
      "Epoch 78/100\n",
      "60000/60000 [==============================] - 4s 68us/step - loss: 0.1494 - accuracy: 0.9559\n",
      "Epoch 79/100\n",
      "60000/60000 [==============================] - 4s 68us/step - loss: 0.1510 - accuracy: 0.9561\n",
      "Epoch 80/100\n",
      "60000/60000 [==============================] - 4s 67us/step - loss: 0.1527 - accuracy: 0.9557\n",
      "Epoch 81/100\n",
      "60000/60000 [==============================] - 4s 67us/step - loss: 0.1485 - accuracy: 0.9561\n",
      "Epoch 82/100\n",
      "60000/60000 [==============================] - 4s 67us/step - loss: 0.1501 - accuracy: 0.9568 0s - loss: 0.1499 - accuracy: \n",
      "Epoch 83/100\n",
      "60000/60000 [==============================] - 4s 66us/step - loss: 0.1460 - accuracy: 0.9568\n",
      "Epoch 84/100\n",
      "60000/60000 [==============================] - 4s 67us/step - loss: 0.1455 - accuracy: 0.9573\n",
      "Epoch 85/100\n",
      "60000/60000 [==============================] - 4s 67us/step - loss: 0.1511 - accuracy: 0.9560\n",
      "Epoch 86/100\n",
      "60000/60000 [==============================] - 5s 76us/step - loss: 0.1472 - accuracy: 0.9574\n",
      "Epoch 87/100\n",
      "60000/60000 [==============================] - 4s 67us/step - loss: 0.1503 - accuracy: 0.9556 0s - l\n",
      "Epoch 88/100\n",
      "60000/60000 [==============================] - 4s 67us/step - loss: 0.1513 - accuracy: 0.9560\n",
      "Epoch 89/100\n",
      "60000/60000 [==============================] - 4s 67us/step - loss: 0.1451 - accuracy: 0.9571\n",
      "Epoch 90/100\n",
      "60000/60000 [==============================] - 4s 68us/step - loss: 0.1437 - accuracy: 0.9573\n",
      "Epoch 91/100\n",
      "60000/60000 [==============================] - 4s 67us/step - loss: 0.1417 - accuracy: 0.9584\n",
      "Epoch 92/100\n",
      "60000/60000 [==============================] - 4s 70us/step - loss: 0.1446 - accuracy: 0.9585\n",
      "Epoch 93/100\n",
      "60000/60000 [==============================] - 4s 67us/step - loss: 0.1452 - accuracy: 0.9577\n",
      "Epoch 94/100\n",
      "60000/60000 [==============================] - 4s 67us/step - loss: 0.1481 - accuracy: 0.9567\n",
      "Epoch 95/100\n",
      "60000/60000 [==============================] - 4s 67us/step - loss: 0.1468 - accuracy: 0.9567\n",
      "Epoch 96/100\n",
      "60000/60000 [==============================] - 4s 66us/step - loss: 0.1464 - accuracy: 0.9575\n",
      "Epoch 97/100\n",
      "60000/60000 [==============================] - 4s 74us/step - loss: 0.1451 - accuracy: 0.9567\n",
      "Epoch 98/100\n",
      "60000/60000 [==============================] - 5s 81us/step - loss: 0.1420 - accuracy: 0.9582\n",
      "Epoch 99/100\n",
      "60000/60000 [==============================] - 5s 79us/step - loss: 0.1489 - accuracy: 0.9576\n",
      "Epoch 100/100\n",
      "60000/60000 [==============================] - 4s 70us/step - loss: 0.1433 - accuracy: 0.9581\n",
      "Epoch 1/100\n",
      "60000/60000 [==============================] - 5s 78us/step - loss: 0.7770 - accuracy: 0.7653\n",
      "Epoch 2/100\n",
      "60000/60000 [==============================] - 4s 65us/step - loss: 0.4385 - accuracy: 0.8753\n",
      "Epoch 3/100\n",
      "60000/60000 [==============================] - 4s 71us/step - loss: 0.3643 - accuracy: 0.8954\n",
      "Epoch 4/100\n",
      "60000/60000 [==============================] - 4s 68us/step - loss: 0.3312 - accuracy: 0.9051\n",
      "Epoch 5/100\n",
      "60000/60000 [==============================] - 4s 67us/step - loss: 0.2998 - accuracy: 0.9150\n",
      "Epoch 6/100\n",
      "60000/60000 [==============================] - 4s 67us/step - loss: 0.2859 - accuracy: 0.9169\n",
      "Epoch 7/100\n",
      "60000/60000 [==============================] - 4s 71us/step - loss: 0.2680 - accuracy: 0.9236\n",
      "Epoch 8/100\n",
      "60000/60000 [==============================] - 4s 68us/step - loss: 0.2549 - accuracy: 0.9263\n",
      "Epoch 9/100\n",
      "60000/60000 [==============================] - 4s 74us/step - loss: 0.2466 - accuracy: 0.9299\n",
      "Epoch 10/100\n",
      "60000/60000 [==============================] - 4s 65us/step - loss: 0.2357 - accuracy: 0.9314\n",
      "Epoch 11/100\n",
      "60000/60000 [==============================] - 4s 66us/step - loss: 0.2377 - accuracy: 0.9325\n",
      "Epoch 12/100\n",
      "60000/60000 [==============================] - 4s 71us/step - loss: 0.2255 - accuracy: 0.9353\n",
      "Epoch 13/100\n",
      "60000/60000 [==============================] - 4s 64us/step - loss: 0.2265 - accuracy: 0.9356\n",
      "Epoch 14/100\n",
      "60000/60000 [==============================] - 4s 70us/step - loss: 0.2188 - accuracy: 0.9370\n",
      "Epoch 15/100\n",
      "60000/60000 [==============================] - 4s 65us/step - loss: 0.2160 - accuracy: 0.9384\n",
      "Epoch 16/100\n",
      "60000/60000 [==============================] - 4s 64us/step - loss: 0.2167 - accuracy: 0.9371 0s - loss: 0.2\n",
      "Epoch 17/100\n",
      "60000/60000 [==============================] - 4s 64us/step - loss: 0.2110 - accuracy: 0.9392\n",
      "Epoch 18/100\n",
      "60000/60000 [==============================] - 4s 64us/step - loss: 0.2079 - accuracy: 0.9401\n",
      "Epoch 19/100\n",
      "60000/60000 [==============================] - 4s 64us/step - loss: 0.2039 - accuracy: 0.9415\n",
      "Epoch 20/100\n",
      "60000/60000 [==============================] - 4s 69us/step - loss: 0.1989 - accuracy: 0.9433\n",
      "Epoch 21/100\n",
      "60000/60000 [==============================] - 5s 80us/step - loss: 0.1960 - accuracy: 0.9440\n",
      "Epoch 22/100\n",
      "60000/60000 [==============================] - 5s 79us/step - loss: 0.1980 - accuracy: 0.9433\n",
      "Epoch 23/100\n",
      "60000/60000 [==============================] - 4s 67us/step - loss: 0.1871 - accuracy: 0.9458\n",
      "Epoch 24/100\n",
      "60000/60000 [==============================] - 4s 66us/step - loss: 0.1928 - accuracy: 0.9451\n",
      "Epoch 25/100\n",
      "60000/60000 [==============================] - 4s 66us/step - loss: 0.1881 - accuracy: 0.9461\n",
      "Epoch 26/100\n",
      "60000/60000 [==============================] - 4s 66us/step - loss: 0.1888 - accuracy: 0.9456\n",
      "Epoch 27/100\n",
      "60000/60000 [==============================] - 4s 67us/step - loss: 0.1876 - accuracy: 0.9462\n",
      "Epoch 28/100\n",
      "60000/60000 [==============================] - 4s 70us/step - loss: 0.1886 - accuracy: 0.9451\n",
      "Epoch 29/100\n",
      "60000/60000 [==============================] - 5s 78us/step - loss: 0.1845 - accuracy: 0.9463\n",
      "Epoch 30/100\n",
      "60000/60000 [==============================] - 5s 75us/step - loss: 0.1769 - accuracy: 0.9493\n",
      "Epoch 31/100\n",
      "60000/60000 [==============================] - 4s 68us/step - loss: 0.1808 - accuracy: 0.9472\n",
      "Epoch 32/100\n",
      "60000/60000 [==============================] - 4s 68us/step - loss: 0.1778 - accuracy: 0.9484\n",
      "Epoch 33/100\n",
      "60000/60000 [==============================] - 4s 65us/step - loss: 0.1785 - accuracy: 0.9485\n",
      "Epoch 34/100\n",
      "60000/60000 [==============================] - 4s 67us/step - loss: 0.1775 - accuracy: 0.9491\n",
      "Epoch 35/100\n",
      "60000/60000 [==============================] - 4s 68us/step - loss: 0.1750 - accuracy: 0.9504\n",
      "Epoch 36/100\n",
      "60000/60000 [==============================] - 5s 76us/step - loss: 0.1756 - accuracy: 0.9499\n",
      "Epoch 37/100\n",
      "60000/60000 [==============================] - 4s 66us/step - loss: 0.1754 - accuracy: 0.9488\n",
      "Epoch 38/100\n",
      "60000/60000 [==============================] - 4s 66us/step - loss: 0.1714 - accuracy: 0.9502\n",
      "Epoch 39/100\n",
      "60000/60000 [==============================] - 4s 64us/step - loss: 0.1705 - accuracy: 0.9503\n",
      "Epoch 40/100\n",
      "60000/60000 [==============================] - 4s 64us/step - loss: 0.1711 - accuracy: 0.9505\n",
      "Epoch 41/100\n",
      "60000/60000 [==============================] - 4s 66us/step - loss: 0.1702 - accuracy: 0.9504\n",
      "Epoch 42/100\n",
      "60000/60000 [==============================] - 4s 73us/step - loss: 0.1690 - accuracy: 0.9506\n",
      "Epoch 43/100\n",
      "60000/60000 [==============================] - 4s 66us/step - loss: 0.1656 - accuracy: 0.9518\n",
      "Epoch 44/100\n",
      "60000/60000 [==============================] - 4s 67us/step - loss: 0.1690 - accuracy: 0.9513\n",
      "Epoch 45/100\n",
      "60000/60000 [==============================] - 4s 68us/step - loss: 0.1661 - accuracy: 0.9515\n",
      "Epoch 46/100\n",
      "60000/60000 [==============================] - 4s 65us/step - loss: 0.1645 - accuracy: 0.9520\n",
      "Epoch 47/100\n",
      "60000/60000 [==============================] - 4s 63us/step - loss: 0.1622 - accuracy: 0.9526\n",
      "Epoch 48/100\n",
      "60000/60000 [==============================] - 4s 64us/step - loss: 0.1621 - accuracy: 0.9534\n",
      "Epoch 49/100\n",
      "60000/60000 [==============================] - 4s 64us/step - loss: 0.1664 - accuracy: 0.9522\n",
      "Epoch 50/100\n",
      "60000/60000 [==============================] - 4s 64us/step - loss: 0.1613 - accuracy: 0.9538\n",
      "Epoch 51/100\n",
      "60000/60000 [==============================] - 4s 64us/step - loss: 0.1600 - accuracy: 0.9539\n",
      "Epoch 52/100\n",
      "60000/60000 [==============================] - 4s 64us/step - loss: 0.1648 - accuracy: 0.9534\n",
      "Epoch 53/100\n",
      "60000/60000 [==============================] - 4s 64us/step - loss: 0.1605 - accuracy: 0.9534\n",
      "Epoch 54/100\n",
      "60000/60000 [==============================] - 4s 64us/step - loss: 0.1620 - accuracy: 0.9526\n",
      "Epoch 55/100\n",
      "60000/60000 [==============================] - 4s 64us/step - loss: 0.1571 - accuracy: 0.9544\n",
      "Epoch 56/100\n"
     ]
    },
    {
     "name": "stdout",
     "output_type": "stream",
     "text": [
      "60000/60000 [==============================] - 4s 64us/step - loss: 0.1559 - accuracy: 0.9535\n",
      "Epoch 57/100\n",
      "60000/60000 [==============================] - 4s 64us/step - loss: 0.1548 - accuracy: 0.9551\n",
      "Epoch 58/100\n",
      "60000/60000 [==============================] - 4s 64us/step - loss: 0.1579 - accuracy: 0.9542\n",
      "Epoch 59/100\n",
      "60000/60000 [==============================] - 4s 66us/step - loss: 0.1554 - accuracy: 0.9551\n",
      "Epoch 60/100\n",
      "60000/60000 [==============================] - 4s 68us/step - loss: 0.1576 - accuracy: 0.9538\n",
      "Epoch 61/100\n",
      "60000/60000 [==============================] - 4s 67us/step - loss: 0.1577 - accuracy: 0.9541\n",
      "Epoch 62/100\n",
      "60000/60000 [==============================] - 4s 67us/step - loss: 0.1561 - accuracy: 0.9538\n",
      "Epoch 63/100\n",
      "60000/60000 [==============================] - 4s 66us/step - loss: 0.1570 - accuracy: 0.9530\n",
      "Epoch 64/100\n",
      "60000/60000 [==============================] - 4s 65us/step - loss: 0.1567 - accuracy: 0.9544\n",
      "Epoch 65/100\n",
      "60000/60000 [==============================] - 4s 66us/step - loss: 0.1529 - accuracy: 0.9559\n",
      "Epoch 66/100\n",
      "60000/60000 [==============================] - 4s 65us/step - loss: 0.1527 - accuracy: 0.9554\n",
      "Epoch 67/100\n",
      "60000/60000 [==============================] - 4s 64us/step - loss: 0.1590 - accuracy: 0.9540\n",
      "Epoch 68/100\n",
      "60000/60000 [==============================] - 4s 64us/step - loss: 0.1546 - accuracy: 0.9550\n",
      "Epoch 69/100\n",
      "60000/60000 [==============================] - 4s 64us/step - loss: 0.1511 - accuracy: 0.9559\n",
      "Epoch 70/100\n",
      "60000/60000 [==============================] - 4s 64us/step - loss: 0.1549 - accuracy: 0.9556\n",
      "Epoch 71/100\n",
      "60000/60000 [==============================] - 4s 64us/step - loss: 0.1523 - accuracy: 0.9560\n",
      "Epoch 72/100\n",
      "60000/60000 [==============================] - 4s 64us/step - loss: 0.1511 - accuracy: 0.9562\n",
      "Epoch 73/100\n",
      "60000/60000 [==============================] - 4s 65us/step - loss: 0.1491 - accuracy: 0.9565\n",
      "Epoch 74/100\n",
      "60000/60000 [==============================] - 4s 65us/step - loss: 0.1527 - accuracy: 0.9553 0s\n",
      "Epoch 75/100\n",
      "60000/60000 [==============================] - 4s 64us/step - loss: 0.1520 - accuracy: 0.9560\n",
      "Epoch 76/100\n",
      "60000/60000 [==============================] - 4s 66us/step - loss: 0.1510 - accuracy: 0.9560\n",
      "Epoch 77/100\n",
      "60000/60000 [==============================] - 4s 66us/step - loss: 0.1496 - accuracy: 0.9559\n",
      "Epoch 78/100\n",
      "60000/60000 [==============================] - 4s 64us/step - loss: 0.1495 - accuracy: 0.9567 0s - loss: 0.1493 - accuracy\n",
      "Epoch 79/100\n",
      "60000/60000 [==============================] - 4s 64us/step - loss: 0.1484 - accuracy: 0.9565\n",
      "Epoch 80/100\n",
      "60000/60000 [==============================] - 4s 65us/step - loss: 0.1533 - accuracy: 0.9557\n",
      "Epoch 81/100\n",
      "60000/60000 [==============================] - 4s 64us/step - loss: 0.1524 - accuracy: 0.9565\n",
      "Epoch 82/100\n",
      "60000/60000 [==============================] - 4s 64us/step - loss: 0.1478 - accuracy: 0.9561\n",
      "Epoch 83/100\n",
      "60000/60000 [==============================] - 4s 65us/step - loss: 0.1481 - accuracy: 0.9574\n",
      "Epoch 84/100\n",
      "60000/60000 [==============================] - 4s 64us/step - loss: 0.1488 - accuracy: 0.9566\n",
      "Epoch 85/100\n",
      "60000/60000 [==============================] - 4s 64us/step - loss: 0.1501 - accuracy: 0.9559 0s - loss: 0.1505 - accuracy\n",
      "Epoch 86/100\n",
      "60000/60000 [==============================] - 4s 64us/step - loss: 0.1434 - accuracy: 0.9578\n",
      "Epoch 87/100\n",
      "60000/60000 [==============================] - 4s 64us/step - loss: 0.1446 - accuracy: 0.9575 0s - loss: 0.1444 - accuracy\n",
      "Epoch 88/100\n",
      "60000/60000 [==============================] - 4s 65us/step - loss: 0.1458 - accuracy: 0.9573\n",
      "Epoch 89/100\n",
      "60000/60000 [==============================] - 4s 64us/step - loss: 0.1473 - accuracy: 0.9565 0s - loss: 0.1\n",
      "Epoch 90/100\n",
      "60000/60000 [==============================] - 4s 64us/step - loss: 0.1445 - accuracy: 0.9581\n",
      "Epoch 91/100\n",
      "60000/60000 [==============================] - 4s 69us/step - loss: 0.1469 - accuracy: 0.9573\n",
      "Epoch 92/100\n",
      "60000/60000 [==============================] - 4s 65us/step - loss: 0.1423 - accuracy: 0.9585\n",
      "Epoch 93/100\n",
      "60000/60000 [==============================] - 4s 66us/step - loss: 0.1447 - accuracy: 0.9580\n",
      "Epoch 94/100\n",
      "60000/60000 [==============================] - 4s 65us/step - loss: 0.1444 - accuracy: 0.9576\n",
      "Epoch 95/100\n",
      "60000/60000 [==============================] - 4s 66us/step - loss: 0.1474 - accuracy: 0.9574\n",
      "Epoch 96/100\n",
      "60000/60000 [==============================] - 4s 65us/step - loss: 0.1467 - accuracy: 0.9572\n",
      "Epoch 97/100\n",
      "60000/60000 [==============================] - 4s 65us/step - loss: 0.1444 - accuracy: 0.9575\n",
      "Epoch 98/100\n",
      "60000/60000 [==============================] - 4s 67us/step - loss: 0.1426 - accuracy: 0.9582\n",
      "Epoch 99/100\n",
      "60000/60000 [==============================] - 4s 64us/step - loss: 0.1476 - accuracy: 0.9572\n",
      "Epoch 100/100\n",
      "60000/60000 [==============================] - 4s 64us/step - loss: 0.1449 - accuracy: 0.9579\n"
     ]
    },
    {
     "data": {
      "text/plain": [
       "VotingClassifier(estimators=[('model1',\n",
       "                              <keras.wrappers.scikit_learn.KerasClassifier object at 0x000001F765ADDB88>),\n",
       "                             ('model2',\n",
       "                              <keras.wrappers.scikit_learn.KerasClassifier object at 0x000001F765AF51C8>),\n",
       "                             ('model3',\n",
       "                              <keras.wrappers.scikit_learn.KerasClassifier object at 0x000001F768AD8C48>),\n",
       "                             ('model4',\n",
       "                              <keras.wrappers.scikit_learn.KerasClassifier object at 0x000001F768AD8C88>),\n",
       "                             ('model5',\n",
       "                              <keras.wrappers.scikit_learn.KerasClassifier object at 0x000001F765AF5108>)],\n",
       "                 flatten_transform=True, n_jobs=None, voting='soft',\n",
       "                 weights=None)"
      ]
     },
     "execution_count": 28,
     "metadata": {},
     "output_type": "execute_result"
    }
   ],
   "source": [
    "ensemble_clf.fit(X_train, y_train)"
   ]
  },
  {
   "cell_type": "code",
   "execution_count": 24,
   "metadata": {
    "ExecuteTime": {
     "end_time": "2020-01-21T07:01:31.939023Z",
     "start_time": "2020-01-21T07:01:31.339845Z"
    }
   },
   "outputs": [],
   "source": [
    "y_pred = ensemble_clf.predict(X_test)"
   ]
  },
  {
   "cell_type": "code",
   "execution_count": 25,
   "metadata": {
    "ExecuteTime": {
     "end_time": "2020-01-21T07:01:31.950492Z",
     "start_time": "2020-01-21T07:01:31.945450Z"
    }
   },
   "outputs": [
    {
     "name": "stdout",
     "output_type": "stream",
     "text": [
      "Acc:  0.9614\n"
     ]
    }
   ],
   "source": [
    "print('Acc: ', accuracy_score(y_pred, y_test))"
   ]
  },
  {
   "cell_type": "code",
   "execution_count": null,
   "metadata": {},
   "outputs": [],
   "source": []
  },
  {
   "cell_type": "code",
   "execution_count": null,
   "metadata": {},
   "outputs": [],
   "source": []
  }
 ],
 "metadata": {
  "kernelspec": {
   "display_name": "Python 3",
   "language": "python",
   "name": "python3"
  },
  "language_info": {
   "codemirror_mode": {
    "name": "ipython",
    "version": 3
   },
   "file_extension": ".py",
   "mimetype": "text/x-python",
   "name": "python",
   "nbconvert_exporter": "python",
   "pygments_lexer": "ipython3",
   "version": "3.7.5"
  },
  "varInspector": {
   "cols": {
    "lenName": 16,
    "lenType": 16,
    "lenVar": 40
   },
   "kernels_config": {
    "python": {
     "delete_cmd_postfix": "",
     "delete_cmd_prefix": "del ",
     "library": "var_list.py",
     "varRefreshCmd": "print(var_dic_list())"
    },
    "r": {
     "delete_cmd_postfix": ") ",
     "delete_cmd_prefix": "rm(",
     "library": "var_list.r",
     "varRefreshCmd": "cat(var_dic_list()) "
    }
   },
   "types_to_exclude": [
    "module",
    "function",
    "builtin_function_or_method",
    "instance",
    "_Feature"
   ],
   "window_display": false
  }
 },
 "nbformat": 4,
 "nbformat_minor": 2
}
