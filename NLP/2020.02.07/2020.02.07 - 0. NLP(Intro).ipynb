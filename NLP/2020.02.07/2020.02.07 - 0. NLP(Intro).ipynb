{
 "cells": [
  {
   "cell_type": "markdown",
   "metadata": {},
   "source": [
    "## 자연어처리업무(NLP : Natural Language Processing)\n",
    "### 1. 쉬움\n",
    "- 스펠링 체크\n",
    "- 키워드 검사\n",
    "- 유사어 감지\n",
    "\n",
    "### 2. 중간\n",
    "- 웹사이트 및 서류의 형태 해석\n",
    "- 구문 해석 etc\n",
    "\n",
    "### 3. 어려움\n",
    "- 기계번역\n",
    "- 감정분석\n",
    "- 질의응답 시스텝"
   ]
  },
  {
   "cell_type": "markdown",
   "metadata": {},
   "source": [
    "## What we should learn\n",
    "### 1. 기계번역\n",
    "\n",
    "\n",
    "### 2. 감정분석\n",
    "> 문장으로부터 감정을 판단\n",
    "\n",
    "### 3. 질문응답 시스템(QA시스템)\n",
    "closed domain : 정해진 답이 있는 분야\n",
    "open domain : 딱히 답이 정해져 있지 않은 분야"
   ]
  },
  {
   "cell_type": "markdown",
   "metadata": {},
   "source": [
    "## NLP의 어려움\n",
    "\n",
    "1. 언어, 상황, 환경, 지각, 지식의 학습 및 표현의 복잡함\n",
    "    - ex) Rule 기반만으로는 무리인가?\n",
    "\n",
    "\n",
    "2. DNN은 분산표현의 장점으로 인해 모호하지만 풍부한 정보를 얻을 수 있다.\n",
    "    - 단어의 벡터화로부터 시작"
   ]
  },
  {
   "cell_type": "markdown",
   "metadata": {},
   "source": [
    "## 언어 데이터의 특성 \n",
    "### 1. 불연속적인 시몰의 계열(Sequence)\n",
    "- 계열 길이가 샘플에 따라 다름\n",
    "\n",
    "### 2. 계층적, 재귀적(Recursive)인 구조를 지님\n",
    "- 문자, 단어"
   ]
  },
  {
   "cell_type": "markdown",
   "metadata": {},
   "source": [
    "## 단어의 국소표현\n",
    "예를 들어,\n",
    "- 고양이 : [1,0,0,0,0,0]\n",
    "- 사람 : [0,1,0,0,0,0]\n",
    "- 개 : [0,0,1,0,0,0]\n",
    "\n",
    "이렇게 표현하는 것만으로는 부족 --> **단어를 벡터로 표현하는 방법에 대해서 고민 시작**"
   ]
  },
  {
   "cell_type": "markdown",
   "metadata": {},
   "source": [
    "## Count-based vs Predictive methods\n",
    "> 분포가설에 기반한 방법은 크게 2종류로 나뉜다.\n",
    "\n",
    "- **count-based methods**\n",
    "    - 예 : SVD(LSA), HAL etc\n",
    "    - 단어 문맥을의 출현 횟수를 세는 방법\n",
    "    \n",
    "- **Predictive methods**\n",
    "    - 단어에서 문맥 혹은 문맥에서 단어를 예측하는 방법"
   ]
  }
 ],
 "metadata": {
  "kernelspec": {
   "display_name": "Python 3",
   "language": "python",
   "name": "python3"
  },
  "language_info": {
   "codemirror_mode": {
    "name": "ipython",
    "version": 3
   },
   "file_extension": ".py",
   "mimetype": "text/x-python",
   "name": "python",
   "nbconvert_exporter": "python",
   "pygments_lexer": "ipython3",
   "version": "3.7.5"
  },
  "varInspector": {
   "cols": {
    "lenName": 16,
    "lenType": 16,
    "lenVar": 40
   },
   "kernels_config": {
    "python": {
     "delete_cmd_postfix": "",
     "delete_cmd_prefix": "del ",
     "library": "var_list.py",
     "varRefreshCmd": "print(var_dic_list())"
    },
    "r": {
     "delete_cmd_postfix": ") ",
     "delete_cmd_prefix": "rm(",
     "library": "var_list.r",
     "varRefreshCmd": "cat(var_dic_list()) "
    }
   },
   "types_to_exclude": [
    "module",
    "function",
    "builtin_function_or_method",
    "instance",
    "_Feature"
   ],
   "window_display": false
  }
 },
 "nbformat": 4,
 "nbformat_minor": 2
}
