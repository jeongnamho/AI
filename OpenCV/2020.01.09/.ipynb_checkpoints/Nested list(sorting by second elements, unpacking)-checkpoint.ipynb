{
 "cells": [
  {
   "cell_type": "markdown",
   "metadata": {},
   "source": [
    "## Nested list\n",
    "\n",
    "a = [[1,5], [3,4]] 같은 리스트 안에 리스트가 있는 형태를 Nested list라고 부름"
   ]
  },
  {
   "cell_type": "markdown",
   "metadata": {},
   "source": [
    "## Sorting a nested lists by second elements of each sub_list"
   ]
  },
  {
   "cell_type": "code",
   "execution_count": 1,
   "metadata": {
    "ExecuteTime": {
     "end_time": "2020-01-18T07:30:40.702448Z",
     "start_time": "2020-01-18T07:30:40.695469Z"
    }
   },
   "outputs": [
    {
     "name": "stdout",
     "output_type": "stream",
     "text": [
      "[[1, 5], [3, 4]]\n"
     ]
    }
   ],
   "source": [
    "# 아래의 코드를 실행시키면 sublist들의 첫번째 성분을 기준으로 정렬함\n",
    "a = [[1,5], [3,4]]\n",
    "a.sort()\n",
    "print(a)"
   ]
  },
  {
   "cell_type": "code",
   "execution_count": 2,
   "metadata": {
    "ExecuteTime": {
     "end_time": "2020-01-18T07:30:40.714415Z",
     "start_time": "2020-01-18T07:30:40.703445Z"
    }
   },
   "outputs": [
    {
     "data": {
      "text/plain": [
       "[[3, 4], [1, 5]]"
      ]
     },
     "execution_count": 2,
     "metadata": {},
     "output_type": "execute_result"
    }
   ],
   "source": [
    "# 두번째 성분들 (5, 4)를 기준으로 정렬시키는 방법1\n",
    "def Sort(sub_li): \n",
    "    sub_li.sort(key = lambda x: x[1]) \n",
    "    return sub_li\n",
    "\n",
    "Sort(a)"
   ]
  },
  {
   "cell_type": "code",
   "execution_count": 3,
   "metadata": {
    "ExecuteTime": {
     "end_time": "2020-01-18T07:30:40.721396Z",
     "start_time": "2020-01-18T07:30:40.716410Z"
    }
   },
   "outputs": [
    {
     "data": {
      "text/plain": [
       "[[3, 4], [1, 5]]"
      ]
     },
     "execution_count": 3,
     "metadata": {},
     "output_type": "execute_result"
    }
   ],
   "source": [
    "# 두번째 성분들 (5, 4)를 기준으로 정렬시키는 방법2\n",
    "\n",
    "from operator import itemgetter, attrgetter\n",
    "\n",
    "sorted(a, key=itemgetter(1))"
   ]
  },
  {
   "cell_type": "markdown",
   "metadata": {},
   "source": [
    "---"
   ]
  },
  {
   "cell_type": "markdown",
   "metadata": {},
   "source": [
    "## Nested list unpacking\n",
    "\n",
    "- a = [[[1,5]], [[3,4]]] 같은 리스트에서  [[1,5],[3,4]]로 만드는 법.\n",
    "- **unpacking**은 임의로 만든 표현입니다."
   ]
  },
  {
   "cell_type": "code",
   "execution_count": 4,
   "metadata": {
    "ExecuteTime": {
     "end_time": "2020-01-18T07:30:40.807166Z",
     "start_time": "2020-01-18T07:30:40.722393Z"
    }
   },
   "outputs": [],
   "source": [
    "import numpy as np"
   ]
  },
  {
   "cell_type": "code",
   "execution_count": 5,
   "metadata": {
    "ExecuteTime": {
     "end_time": "2020-01-18T07:30:40.813149Z",
     "start_time": "2020-01-18T07:30:40.808163Z"
    }
   },
   "outputs": [
    {
     "name": "stdout",
     "output_type": "stream",
     "text": [
      "[[1, 2], [3, 4]]\n"
     ]
    }
   ],
   "source": [
    "a = [[[1,2]], [[3,4]]]\n",
    "\n",
    "\n",
    "y=[]\n",
    "for i in range(len(a)):\n",
    "    y.append(a[i][0])\n",
    "    \n",
    "print(y)"
   ]
  },
  {
   "cell_type": "code",
   "execution_count": 6,
   "metadata": {
    "ExecuteTime": {
     "end_time": "2020-01-18T07:30:40.819134Z",
     "start_time": "2020-01-18T07:30:40.814147Z"
    }
   },
   "outputs": [
    {
     "name": "stdout",
     "output_type": "stream",
     "text": [
      "[[1, 2], [3, 4]]\n"
     ]
    }
   ],
   "source": [
    "# 이건 그냥 함수를 정의하였음\n",
    "def unpacking(x):\n",
    "    y = []\n",
    "    for i in range(len(x)):\n",
    "        y.append(x[i][0])\n",
    "    print(y)\n",
    "    \n",
    "unpacking(a)"
   ]
  }
 ],
 "metadata": {
  "kernelspec": {
   "display_name": "Python 3",
   "language": "python",
   "name": "python3"
  },
  "language_info": {
   "codemirror_mode": {
    "name": "ipython",
    "version": 3
   },
   "file_extension": ".py",
   "mimetype": "text/x-python",
   "name": "python",
   "nbconvert_exporter": "python",
   "pygments_lexer": "ipython3",
   "version": "3.7.5"
  },
  "varInspector": {
   "cols": {
    "lenName": 16,
    "lenType": 16,
    "lenVar": 40
   },
   "kernels_config": {
    "python": {
     "delete_cmd_postfix": "",
     "delete_cmd_prefix": "del ",
     "library": "var_list.py",
     "varRefreshCmd": "print(var_dic_list())"
    },
    "r": {
     "delete_cmd_postfix": ") ",
     "delete_cmd_prefix": "rm(",
     "library": "var_list.r",
     "varRefreshCmd": "cat(var_dic_list()) "
    }
   },
   "types_to_exclude": [
    "module",
    "function",
    "builtin_function_or_method",
    "instance",
    "_Feature"
   ],
   "window_display": false
  }
 },
 "nbformat": 4,
 "nbformat_minor": 2
}
