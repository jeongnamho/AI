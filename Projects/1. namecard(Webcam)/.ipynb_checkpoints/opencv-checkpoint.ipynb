{
 "cells": [
  {
   "cell_type": "code",
   "execution_count": 8,
   "metadata": {
    "ExecuteTime": {
     "end_time": "2020-04-02T12:19:52.998047Z",
     "start_time": "2020-04-02T12:19:52.904287Z"
    }
   },
   "outputs": [],
   "source": [
    "import numpy as np\n",
    "import cv2"
   ]
  },
  {
   "cell_type": "code",
   "execution_count": 9,
   "metadata": {
    "ExecuteTime": {
     "end_time": "2020-04-02T12:19:53.416919Z",
     "start_time": "2020-04-02T12:19:53.397969Z"
    }
   },
   "outputs": [],
   "source": [
    "def order_points(pts):\n",
    "    rect = np.zeros((4,2), dtype=\"float\")\n",
    "    \n",
    "    s = pts.sum(axis=1)\n",
    "    rect[0] = pts[np.argmin(s)]\n",
    "    rect[2] = pts[np.argmax(s)]\n",
    "    \n",
    "    diff = np.diff(pts, axis=1)\n",
    "    rect[1] = pts[np.argmin(diff)]\n",
    "    rect[3] = pts[np.argmax(diff)]\n",
    "    \n",
    "    return rect"
   ]
  },
  {
   "cell_type": "code",
   "execution_count": 14,
   "metadata": {
    "ExecuteTime": {
     "end_time": "2020-04-02T12:25:49.040482Z",
     "start_time": "2020-04-02T12:24:57.062834Z"
    },
    "scrolled": true
   },
   "outputs": [
    {
     "name": "stdout",
     "output_type": "stream",
     "text": [
      "STEP1 : Edge Detection\n",
      "39390.0\n",
      "307200\n",
      "0.12822265625\n",
      "STEP 2 : Find Contours of paper\n",
      "149 267\n",
      "[[ 9.95366285e-01 -6.38536862e-02 -2.25572537e+02]\n",
      " [ 7.22249060e-02  9.78319181e-01 -1.29407334e+02]\n",
      " [ 3.98167070e-05 -8.08863864e-05  1.00000000e+00]]\n",
      "Step 3 : Apply perspective trainsform\n",
      "STEP 4 : Apply Adaptive Threshold\n"
     ]
    }
   ],
   "source": [
    "\n",
    "def auto_scan_image_via_webcam():\n",
    "    \n",
    "    try : \n",
    "        cap = cv2.VideoCapture(0)\n",
    "    except :\n",
    "        print(\"cannot load camera!\")\n",
    "        return\n",
    "    \n",
    "    while True:\n",
    "        ret, frame = cap.read()\n",
    "        if not ret:\n",
    "            print(\"cannot load camera!\")\n",
    "            break\n",
    "        k = cv2.waitKey(10)\n",
    "        if k == 27:\n",
    "            break\n",
    "        \n",
    "        gray = cv2.cvtColor(frame, cv2.COLOR_BGR2GRAY)\n",
    "        gray = cv2.GaussianBlur(gray, (3,3), 0)\n",
    "        edged = cv2.Canny(gray, 75, 200)\n",
    "\n",
    "        print(\"STEP1 : Edge Detection\")\n",
    "\n",
    "        (cnts, _) = cv2.findContours(edged.copy(), cv2.RETR_LIST, cv2.CHAIN_APPROX_SIMPLE)\n",
    "        cnts = sorted(cnts, key=cv2.contourArea, reverse = True)[:5]\n",
    "\n",
    "        for c in cnts :\n",
    "            peri = cv2.arcLength(c, True)\n",
    "            approx = cv2.approxPolyDP(c, 0.02*peri, True)\n",
    "            screenCnt = []\n",
    "\n",
    "            if len(approx) == 4:\n",
    "                contourSize = cv2.contourArea(approx)\n",
    "                camSize = frame.shape[0] * frame.shape[1]\n",
    "                ratio = contourSize / camSize\n",
    "                print(contourSize)\n",
    "                print(camSize)\n",
    "                print(ratio)\n",
    "\n",
    "                if ratio > 0.1:\n",
    "                    screenCnt = approx\n",
    "                break\n",
    "\n",
    "        if len(screenCnt) == 0:\n",
    "            cv2.imshow(\"WebCam\", frame)\n",
    "            continue\n",
    "\n",
    "        else:\n",
    "            print(\"STEP 2 : Find Contours of paper\")\n",
    "\n",
    "            cv2.drawContours(frame, [screenCnt], -1, (0,255,0), 2)\n",
    "            cv2.imshow(\"WebCam\", frame)\n",
    "\n",
    "            rect = order_points(screenCnt.reshape(4,2))\n",
    "            (topLeft, topRight, bottomRight, bottomLeft) = rect\n",
    "\n",
    "            w1 = abs(bottomRight[0] - bottomLeft[0])\n",
    "            w2 = abs(topRight[0] - topLeft[0])\n",
    "            h1 = abs(topRight[1] - bottomRight[1])\n",
    "            h2 = abs(topLeft[1] - bottomLeft[1])\n",
    "            maxWidth = max([w1, w2]).astype(int)\n",
    "            maxHeight = max([h1, h2]).astype(int)\n",
    "            print(maxWidth, maxHeight)\n",
    "\n",
    "            dst = np.array([[0,0], [maxWidth-1, 0],\n",
    "                             [maxWidth - 1, maxHeight-1], [0, maxHeight-1]], np.float32 )\n",
    "\n",
    "            M = cv2.getPerspectiveTransform(rect.astype(np.float32), dst)\n",
    "            print(M)\n",
    "            warped = cv2.warpPerspective(frame, M, (maxWidth, maxHeight))\n",
    "\n",
    "            print(\"Step 3 : Apply perspective trainsform\")\n",
    "\n",
    "            warped = cv2.cvtColor(warped, cv2.COLOR_BGR2GRAY)\n",
    "            warped = cv2.adaptiveThreshold(warped, 255, cv2.ADAPTIVE_THRESH_MEAN_C, cv2.THRESH_BINARY, 21, 10)\n",
    "\n",
    "            print(\"STEP 4 : Apply Adaptive Threshold\")\n",
    "\n",
    "            break\n",
    "            \n",
    "    cap.release()\n",
    "    cv2.destroyAllWindows()\n",
    "    cv2.waitKey(1)\n",
    "    \n",
    "    cv2.imshow(\"Scanned\", warped)\n",
    "    cv2.waitKey(0)\n",
    "    cv2.destroyAllWindows()\n",
    "    cv2.waitKey(1)\n",
    "    \n",
    "    \n",
    "if __name__ == '__main__':\n",
    "    auto_scan_image_via_webcam()"
   ]
  },
  {
   "cell_type": "code",
   "execution_count": null,
   "metadata": {},
   "outputs": [],
   "source": []
  },
  {
   "cell_type": "code",
   "execution_count": null,
   "metadata": {},
   "outputs": [],
   "source": []
  },
  {
   "cell_type": "code",
   "execution_count": null,
   "metadata": {},
   "outputs": [],
   "source": []
  },
  {
   "cell_type": "code",
   "execution_count": null,
   "metadata": {},
   "outputs": [],
   "source": []
  },
  {
   "cell_type": "code",
   "execution_count": null,
   "metadata": {},
   "outputs": [],
   "source": []
  }
 ],
 "metadata": {
  "kernelspec": {
   "display_name": "Python 3",
   "language": "python",
   "name": "python3"
  },
  "language_info": {
   "codemirror_mode": {
    "name": "ipython",
    "version": 3
   },
   "file_extension": ".py",
   "mimetype": "text/x-python",
   "name": "python",
   "nbconvert_exporter": "python",
   "pygments_lexer": "ipython3",
   "version": "3.6.10"
  },
  "varInspector": {
   "cols": {
    "lenName": 16,
    "lenType": 16,
    "lenVar": 40
   },
   "kernels_config": {
    "python": {
     "delete_cmd_postfix": "",
     "delete_cmd_prefix": "del ",
     "library": "var_list.py",
     "varRefreshCmd": "print(var_dic_list())"
    },
    "r": {
     "delete_cmd_postfix": ") ",
     "delete_cmd_prefix": "rm(",
     "library": "var_list.r",
     "varRefreshCmd": "cat(var_dic_list()) "
    }
   },
   "types_to_exclude": [
    "module",
    "function",
    "builtin_function_or_method",
    "instance",
    "_Feature"
   ],
   "window_display": false
  }
 },
 "nbformat": 4,
 "nbformat_minor": 2
}
