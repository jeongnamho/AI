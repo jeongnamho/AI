{
 "cells": [
  {
   "cell_type": "code",
   "execution_count": null,
   "metadata": {},
   "outputs": [],
   "source": []
  },
  {
   "cell_type": "code",
   "execution_count": null,
   "metadata": {},
   "outputs": [],
   "source": [
    "dict = [\n",
    "    {\"name\":\"홍길동\", \"data\":\"2020.02.17\", \n",
    "     \"product\":[{\"품목\":\"사과\", \"price\":300, \"수량\":4}]\n",
    "    },\n",
    "    \n",
    "    {\"name\":\"이순신\", \"data\":\"2020.02.17\", \n",
    "     \"product\":[{\"품목\":\"사과\", \"price\":300, \"수량\":4}]\n",
    "    }\n",
    "]"
   ]
  },
  {
   "cell_type": "code",
   "execution_count": null,
   "metadata": {},
   "outputs": [],
   "source": []
  },
  {
   "cell_type": "markdown",
   "metadata": {},
   "source": [
    "1. cd\\AI\\Web\\Mysite로 디렉토리 이동하고 py36가상환경 돌린다음\n",
    "\n",
    "\n",
    "2. python manage.py runserver 입력해서 서버 돌리고 \n",
    "\n",
    "\n",
    "3. 12.0.0.1:8000/admin으로 가면 관리자 계정으로 로그인할 건지 창이 뜸\n",
    "\n",
    "\n",
    "4.  새로운 콘솔창을 하나 더 띄운 상태에서 py36가상환경으로 들어가서\n",
    "\n",
    "\n",
    "5.  python manage.py createsuperuser을 실행\n",
    "    - username : home\n",
    "    - password : abcd1234   로 설정하자\n",
    "    \n",
    "    \n",
    "6. 다시 127.0.0.1:8000/admin으로 가서 위의 아이디, 패스워드로 로그인하고\n",
    "\n",
    "\n",
    "7. users를 누르고 오른쪽 상단에 add users를 눌러서 이순신 추가\n",
    "    - pwd는 12home12로 했음\n",
    "\n",
    "\n",
    "8. https://sqlitebrowser.org/dl/에 가서 download로 간다음 자신의 컴퓨터 설정에 맞는 비트 수에 맞게 (DB Browser for SQLite - .zip (no installer) for 64-bit Windows) 다운로드 한다.\n",
    "\n",
    "\n",
    "9. 압축을 풀고 C:\\Users\\student\\Downloads\\DB.Browser.for.SQLite-3.11.2-win64\\DB Browser for SQLite로 디렉토리 이동한다음 DB Browser for SQLite.exe파일을 실행시키고 **데이터베이스 열기**한다음 AI\\Web\\Mysite에 있는 db.sqlite3을 선택해서 실행하기\n",
    "\n",
    "\n",
    "10. DB browser 파일을 실행시키고 프로그램의 <ins>데이터 보기</ins> 탭에서 이순신 레코드의 leess@gamil.com을 입력하고 상단의 변경사항 저장하기 클릭하면 1270.0.1:8000/admin 페이지에서 수정되었음을 확인할 수 있음"
   ]
  },
  {
   "cell_type": "markdown",
   "metadata": {
    "ExecuteTime": {
     "end_time": "2020-02-17T02:15:14.712174Z",
     "start_time": "2020-02-17T02:15:14.707163Z"
    }
   },
   "source": [
    "11. DB browser 프로그램에서 SQL실행 누르고 하단의 내용을 기입\n",
    "    - 한 번 만들어진 테이블은 수정 불가\n",
    "    - (지우고 다시 만들던가, 아니면 field를 수정하던가 해야함)"
   ]
  },
  {
   "cell_type": "code",
   "execution_count": null,
   "metadata": {},
   "outputs": [],
   "source": [
    "CREATE TABLE userTBL -- 회원 테이블 \n",
    "( userID CHAR(8) NOT NULL PRIMARY KEY, -- 사용자 아이디(PK) \n",
    "  userName VARCHAR(10) NOT NULL, -- 이름 \n",
    "  birthYear INT NOT NULL, -- 출생 연도 \n",
    "  addr CHAR(2) NOT NULL, -- 지역(경기, 서울, 경남 식으로 2글자만 입력) \n",
    "  mobile1 CHAR(3), -- 휴대폰의 국번(011, 016, 017, 018, 019, 010 등) \n",
    "  mobile2 CHAR(8), -- 휴대폰의 나머지 번호(하이픈 제외) \n",
    "  height SMALLINT, -- 키 \n",
    "  mDate DATE -- 회원 가입일\n",
    ");\n",
    "CREATE TABLE buyTBL -- 구매 테이블 \n",
    "( num INT AUTO_INCREMENT NOT NULL PRIMARY KEY, -- 순번(PK) \n",
    "  userID CHAR(8) NOT NULL, -- 아이디(FK) \n",
    "  prodName CHAR(6) NOT NULL, -- 물품 \n",
    "  groupName CHAR(4), -- 분류 \n",
    "  price INT NOT NULL, -- 단가 \n",
    "  amount SMALLINT NOT NULL, -- 수량 \n",
    "  FOREIGN KEY (userID) REFERENCES userTBL (userID)\n",
    ");\n"
   ]
  },
  {
   "cell_type": "markdown",
   "metadata": {
    "ExecuteTime": {
     "end_time": "2020-02-17T02:16:30.560356Z",
     "start_time": "2020-02-17T02:16:30.556399Z"
    }
   },
   "source": [
    "12. 재생버튼을 눌러서 실행시키고 **데이터 보기** 탭에서 테이블을 userTBL로 맞춰놓고 다음처럼 입력한다.\n",
    "     - userID : KHD\n",
    "     - userName : 강호동\n",
    "     - birthYear : 1970\n",
    "     - addr : 경북\n",
    "     - mobile1 : 011\n",
    "     - mobile2 :22222222\n",
    "     - height : 182\n",
    "     - mDate : 2007-7-7"
   ]
  },
  {
   "cell_type": "markdown",
   "metadata": {},
   "source": [
    "13. 다시 <ins>SQL 실행</ins> 탭에서 **INSERT INTO buyTBL VALUES (NULL, 'fef', '운동화', NULL, 30, 2);**을 입력하고 실행시켜보면 오류난다.\n",
    "    - 왜냐하면 우린 12에서 'KHD'만 정의했는데 'fef'라는 userID를 입력했기 때문이다.\n",
    "    - 여기서 처음의 NULL은 신경쓰지말자. 다른 문법으로 저장된 것을 SQLite3로 불러오려고 하는 과정인데 문법이 달라서 SQLite에 없는 것이기 때문에??\n",
    "    \n",
    "    \n",
    "14. <ins>SQL 실행</ins> 탭에서 다음과 같이 입력하고 실행하자"
   ]
  },
  {
   "cell_type": "code",
   "execution_count": null,
   "metadata": {},
   "outputs": [],
   "source": [
    "INSERT INTO userTBL VALUES ('KKJ', '김국진', 1965, '서울', '019', '33333333', 171, '2009-9-9');\n",
    "INSERT INTO userTBL VALUES ('KYM', '김용만', 1967, '서울', '010', '44444444', 177, '2015-5-5');\n",
    "INSERT INTO userTBL VALUES ('KJD', '김제동', 1974, '경남', NULL , NULL, 173, '2013-3-3');\n",
    "INSERT INTO userTBL VALUES ('NHS', '남희석', 1971, '충남', '016', '66666666', 180, '2017-4-4');\n",
    "INSERT INTO userTBL VALUES ('SDY', '신동엽', 1971, '경기', NULL, NULL, 176, '2008-10-10');\n",
    "INSERT INTO userTBL VALUES ('LHJ', '이휘재', 1972, '경기', '011', '88888888', 180, '2006-4-4');\n",
    "INSERT INTO userTBL VALUES ('LKK', '이경규', 1960, '경남', '018', '99999999', 170, '2004-12-12');\n",
    "INSERT INTO userTBL VALUES ('PSH', '박수홍', 1970, '서울', '010', '00000000', 183, '2012-5-5');\n",
    "INSERT INTO buyTBL VALUES (1, 'KHD', '운동화', NULL, 30, 2);\n",
    "INSERT INTO buyTBL VALUES (2, 'KHD', '노트북', '전자', 1000, 1);\n",
    "INSERT INTO buyTBL VALUES (3, 'KYM', '모니터', '전자', 200, 1);\n",
    "INSERT INTO buyTBL VALUES (4, 'PSH', '모니터', '전자', 200, 5);\n",
    "INSERT INTO buyTBL VALUES (5, 'KHD', '청바지', '의류', 50, 3);\n",
    "INSERT INTO buyTBL VALUES (6, 'PSH', '메모리', '전자', 80, 10);\n",
    "INSERT INTO buyTBL VALUES (7, 'KJD', '책', '서적', 15, 5);\n",
    "INSERT INTO buyTBL VALUES (8, 'LHJ', '책', '서적', 15, 2);\n",
    "INSERT INTO buyTBL VALUES (9, 'LHJ', '청바지', '의류', 50, 1);\n",
    "INSERT INTO buyTBL VALUES (10, 'PSH', '운동화', NULL, 30, 2);\n",
    "INSERT INTO buyTBL VALUES (11, 'LHJ', '책', '서적', 15, 1);\n",
    "INSERT INTO buyTBL VALUES (12, 'PSH', '운동화', NULL, 30, 2);"
   ]
  },
  {
   "cell_type": "markdown",
   "metadata": {},
   "source": [
    "15. 유저별로 각자의 지출할 돈 계산하기\n",
    "\n",
    "SELECT userid, sum(price*amount)\n",
    "from buyTBL\n",
    "group by userid\n"
   ]
  },
  {
   "cell_type": "markdown",
   "metadata": {},
   "source": [
    "---"
   ]
  },
  {
   "cell_type": "markdown",
   "metadata": {},
   "source": [
    "**drop TABLE 테이블명**\n",
    "> 테이블 지우기임"
   ]
  },
  {
   "cell_type": "markdown",
   "metadata": {},
   "source": [
    "---"
   ]
  },
  {
   "cell_type": "markdown",
   "metadata": {},
   "source": [
    "### JOIN"
   ]
  },
  {
   "cell_type": "markdown",
   "metadata": {},
   "source": [
    "16. **SELECT * from userTBL, buyTBL**을 SQL실행하면 두 테이블을 연결함\n",
    "    - 하지만 필요없는 정보도 있음(Why? <ins>userTBL에서 강호동과 buyTBL에서의 KYM등이 결합되어 있는 것도 결과로 나와있기 때문</ins>)\n",
    "    \n",
    "    \n",
    "17. 각자 유저들이 구매한 내역을 보고 싶다면 아래 셀과 같이 SQL실행을 해야한다."
   ]
  },
  {
   "cell_type": "code",
   "execution_count": null,
   "metadata": {},
   "outputs": [],
   "source": [
    "SELECT * from userTBL, buyTBL\n",
    "WHERE userTBL.userID = buyTBL.userID"
   ]
  },
  {
   "cell_type": "markdown",
   "metadata": {},
   "source": [
    "18. 각 유저마다 총 몇개나 구입했고 총 얼마를 지불해야하는지 알기 위해서 다음 셀과 같이 입력하여 SQL실행한다.\n",
    "\n",
    "    - 여기서, userid는 userTBL에도 있고 buyTBL에도 있기 때문에 <ins>**꼭 소속을 밝혀주기 위해서**</ins> userTBL.userid 혹은 buyTBL.userid이라고 명시해줘야 한다."
   ]
  },
  {
   "cell_type": "code",
   "execution_count": null,
   "metadata": {},
   "outputs": [],
   "source": [
    "SELECT userTBL.userid, username, sum(amount), sum(amount*price)\n",
    "from userTBL, buyTBL\n",
    "WHERE userTBL.userid=buyTBL.userID\n",
    "group by userTBL.userid, username"
   ]
  },
  {
   "cell_type": "markdown",
   "metadata": {
    "ExecuteTime": {
     "end_time": "2020-02-17T04:28:43.688719Z",
     "start_time": "2020-02-17T04:28:43.683732Z"
    }
   },
   "source": [
    "<img src=1.png?11 width=500>"
   ]
  },
  {
   "cell_type": "markdown",
   "metadata": {},
   "source": [
    "19. 여기서 sum(amount*price)같은 걸로 ordering하고 싶을 때 컬럼명을 정하고 싶다면 as를 이용해서 다음과 같이 나타내거나 as를 생략해도 됀다.\n",
    "    - sum(amount*price) as total\n",
    "    - sum(amount*price) toal"
   ]
  },
  {
   "cell_type": "markdown",
   "metadata": {},
   "source": [
    "<img src=2.png width=500>"
   ]
  },
  {
   "cell_type": "markdown",
   "metadata": {},
   "source": [
    "20. 다음의 셀은 \n",
    "\n",
    "    1) addr, sum(amount), sum(amount*price) as total, count(*) 등을 포함하는 정보를 표시하고(첫번째 줄)\n",
    "    \n",
    "    2) u.user = b.userid는 각 테이블의 유저들을 일치시켜줘서 의미있는 정보를 추출하는 것\n",
    "    \n",
    "    3) 지역으로 묶었었을때(group by addr)\n",
    "    \n",
    "    4) 지역의 total값이 170보다 크고 \n",
    "    \n",
    "    5) total을 기준으로 정렬해놓은 것이다(Oder by total)\n"
   ]
  },
  {
   "cell_type": "code",
   "execution_count": null,
   "metadata": {},
   "outputs": [],
   "source": [
    "SELECT addr, sum(amount), sum(amount*price) as total, count(*)\n",
    "from userTBL u, buyTBL b \n",
    "WHERE u.userid=b.userID\n",
    "group by addr\n",
    "having total > 170\n",
    "Order by total"
   ]
  },
  {
   "cell_type": "markdown",
   "metadata": {},
   "source": [
    "---"
   ]
  },
  {
   "cell_type": "markdown",
   "metadata": {},
   "source": [
    "## ORM(Object Relation Mapping)"
   ]
  },
  {
   "cell_type": "markdown",
   "metadata": {},
   "source": [
    "<img src=3.png width=500>"
   ]
  },
  {
   "cell_type": "markdown",
   "metadata": {},
   "source": [
    "### 테이블 생성\n",
    "\n",
    "- 관리자 및 user생성\n",
    "    - python manage.py createsuperuser\n",
    "\n",
    "- install app 설정(mysite/settings.py)\n",
    "    - INSTALLED_APPS = ['polls,apps.PollsConfig ' , ... #앱명.apps.앱명Config\n",
    "    \n",
    "- db관련 설정은 app 별로 설정\n",
    "\n",
    "\n",
    "- Model 클래스 생성\n",
    "     - class Post(models.Model)\n",
    "\n",
    "- admin.py 수정\n",
    "    - from django.contribimport admin\n",
    "    - from .models import Post\n",
    "    - admin.site.register(Post)\n",
    "    \n",
    "- DB변경사항반영\n",
    "    - python manage.py makemigrationsmyapp     # 이건 변경사항 확인만 하라는거\n",
    "    - python manage.py migrate            # 이게 반영하는 것!\n",
    "    \n",
    "   "
   ]
  },
  {
   "cell_type": "markdown",
   "metadata": {},
   "source": [
    "21. web>mysite>mysite>settings.py에서 INSTALLED_APPS에 'myapp'을 추가한다.\n",
    "\n",
    "\n",
    "22. web>mysite>myapp>apps.py에서 다음의 클래스가 정의되어 있는지 확인한다."
   ]
  },
  {
   "cell_type": "code",
   "execution_count": null,
   "metadata": {},
   "outputs": [],
   "source": [
    "class MyappConfig(AppConfig):\n",
    "    name = 'myapp'"
   ]
  },
  {
   "cell_type": "markdown",
   "metadata": {},
   "source": [
    "23. web>mysite>myapp>models.py에서 다음 셀의 내용을 기입한다."
   ]
  },
  {
   "cell_type": "code",
   "execution_count": null,
   "metadata": {},
   "outputs": [],
   "source": [
    "from django.db import models\n",
    "from django.utils import timezone\n",
    "\n",
    "class User(models.Model):\n",
    "    userid = models.CharField(max_length=10, primary_key=True)\n",
    "    name = models.CharField(max_length=10)\n",
    "    age = models.IntegerField()\n",
    "    hobby = models.CharField(max_length=20)\n",
    "\n",
    "    def __str__(self):\n",
    "        #return self.userid + '/' + self.name + '/' + self.age\n",
    "        return f\"{self.userid} + '/' + {self.name} + '/' + {self.age}\""
   ]
  },
  {
   "cell_type": "markdown",
   "metadata": {},
   "source": [
    "23. web>mysite>myapp>admin.py에서 다음 셀의 내용을 기입한다.(사실 테이블 하나 만들때마다 만들어야함)"
   ]
  },
  {
   "cell_type": "code",
   "execution_count": null,
   "metadata": {},
   "outputs": [],
   "source": [
    "from django.contrib import admin\n",
    "from myapp.models import User #, Post, Question, Choice, Order, Product\n",
    "\n",
    "# Register your models here.\n",
    "admin.site.register(User)\n"
   ]
  },
  {
   "cell_type": "markdown",
   "metadata": {},
   "source": [
    "24. DB브라우저를 끄고 나서 새로운 콘솔창을 열어서 \n",
    "    - **python manage.py makemigrations myapp**를 실행시키면 변경사항을 <ins>확인만</ins> 할 수 있다.\n",
    "    - **python manage.py migrate**을 실행시키면 변경사항을 <ins>반영</ins>한다.\n",
    "    \n",
    "   \n",
    "25. 크롬 브라우저에서 127.0.0.1:8000/admin 페이지에 가서 보면 MYAPP이란 것이 새로 생겼고 Users에서 **add user**를 눌러서 아래와 같이 기입해보자\n",
    "    - userid : kim\n",
    "    - Name : 김유신\n",
    "    - age : 24\n",
    "    - Hobby : Napping"
   ]
  },
  {
   "cell_type": "markdown",
   "metadata": {},
   "source": []
  },
  {
   "cell_type": "markdown",
   "metadata": {},
   "source": [
    "26. 새로운 콘솔창에서 cd\\AI\\Web\\mysite로 디렉토리 이동 후, python manage.py shell을 입력하면 녹색 글씨가 뜨는데 다음의 사항을 차례로 한 줄씩 입력하면서 결과를 확인하자\n",
    "    - from myapp.models import User\n",
    "    - datas = User.objects.all()\n",
    "    - print(datas)\n",
    "    - for d in datas : print(d)\n",
    "    - for d in datas : print(d.age)\n",
    "    - u = User(userid='lee', name = \"임꺽정\", age=40, hobby = \"봉사\")\n",
    "    - u.save()   # 업데이트 하는 것임\n",
    "    - datas = User.objects.all()\n",
    "    - print(datas)"
   ]
  },
  {
   "cell_type": "markdown",
   "metadata": {},
   "source": [
    "27. 26에 계속해서 다음 사항을 입력하면 임꺽정에 대한 내용이 바뀐다.\n",
    "    - u.name = \"임꺽정3\"\n",
    "    - u.age = 30\n",
    "    - u.save()\n",
    "\n",
    "\n",
    "28. 다음을 입력하면 user가 지워진다.\n",
    "    - u.delete()\n",
    "    - output은 지워진 객체를 의미한다.\n",
    "    \n",
    "    \n",
    "29. 28처럼 지우고 나서 print(datas)를 실행하면 실제로 지워졌음을 알 수 있다. 이제 quit을 입력하고 실행하면 다시 콘솔창이 원래대로 돌아온다."
   ]
  },
  {
   "cell_type": "markdown",
   "metadata": {},
   "source": [
    "---"
   ]
  },
  {
   "cell_type": "markdown",
   "metadata": {},
   "source": [
    "30. django를 2.0 으로 다운그레이드 시켜야 해서 콘솔창에서 py36 가상환경에서 pip install django==2.0 을 실행시킨다."
   ]
  },
  {
   "cell_type": "markdown",
   "metadata": {},
   "source": [
    "31. 다음을 순서대로 하자\n",
    "    - mysite>mysite>settings.py에서 INSTALLED_APPS에서 'django_extensions'를 추가하고 \n",
    "    - 콘솔창에서 pip install django-extensions을 실행시켜 설치하고\n",
    "    - **python manage.py shell_plus --notebook** 실행시키면 장고랑 주피터 노트북을 연결해서 쓸수 있음\n",
    "    \n",
    "    \n",
    "32. 주피터창이 뜨면 `New`탭에서 Django Shell-Plus를 눌러서 해야 함(그냥 Python3하면 안됌!!!!!)"
   ]
  },
  {
   "cell_type": "markdown",
   "metadata": {},
   "source": [
    "- Model Manager\n",
    "    - .objects\n",
    "    - 데이터베이스 질의 인터페이스를 제공\n",
    "    - 디폴트 Manager로서 모델클래스.objects 가 제공된다.\n",
    "    - Model Manager를 통해 해당 모델클래스의 DB 데이터를 추가, 조회, 수정, 삭제(CRUD)가가능하다.\n",
    "\n",
    "- QuerySet\n",
    "    - SQL을 생성해주는 인터페이스\n",
    "    - .objects.all()\n",
    "    - objects.create() :\n",
    "    - Chaining을 지원\n",
    "    - connection 모듈을 통해 queryset으로 만들어진 실제sql문을 shell에서 확인\n",
    "    - .objects.filter(title__icontains='1').filter(title__endswith='3')"
   ]
  },
  {
   "cell_type": "code",
   "execution_count": 3,
   "metadata": {
    "ExecuteTime": {
     "end_time": "2020-02-17T06:31:54.178819Z",
     "start_time": "2020-02-17T06:31:54.116871Z"
    }
   },
   "outputs": [
    {
     "ename": "NameError",
     "evalue": "name 'ModelCls' is not defined",
     "output_type": "error",
     "traceback": [
      "\u001b[1;31m---------------------------------------------------------------------------\u001b[0m",
      "\u001b[1;31mNameError\u001b[0m                                 Traceback (most recent call last)",
      "\u001b[1;32m<ipython-input-3-bc3f0d366288>\u001b[0m in \u001b[0;36m<module>\u001b[1;34m\u001b[0m\n\u001b[0;32m      1\u001b[0m \u001b[1;32mfrom\u001b[0m \u001b[0mdjango\u001b[0m\u001b[1;33m.\u001b[0m\u001b[0mdb\u001b[0m \u001b[1;32mimport\u001b[0m \u001b[0mconnection\u001b[0m\u001b[1;33m\u001b[0m\u001b[1;33m\u001b[0m\u001b[0m\n\u001b[1;32m----> 2\u001b[1;33m \u001b[0mModelCls\u001b[0m\u001b[1;33m.\u001b[0m\u001b[0mobjects\u001b[0m\u001b[1;33m.\u001b[0m\u001b[0mall\u001b[0m\u001b[1;33m(\u001b[0m\u001b[1;33m)\u001b[0m\u001b[1;33m.\u001b[0m\u001b[0morder_by\u001b[0m\u001b[1;33m(\u001b[0m\u001b[1;34m'-id'\u001b[0m\u001b[1;33m)\u001b[0m\u001b[1;33m[\u001b[0m\u001b[1;33m:\u001b[0m\u001b[1;36m10\u001b[0m\u001b[1;33m]\u001b[0m\u001b[1;33m\u001b[0m\u001b[1;33m\u001b[0m\u001b[0m\n\u001b[0m\u001b[0;32m      3\u001b[0m \u001b[0mconnection\u001b[0m\u001b[1;33m.\u001b[0m\u001b[0mqueries\u001b[0m\u001b[1;33m[\u001b[0m\u001b[1;33m-\u001b[0m\u001b[1;36m1\u001b[0m\u001b[1;33m]\u001b[0m\u001b[1;33m\u001b[0m\u001b[1;33m\u001b[0m\u001b[0m\n",
      "\u001b[1;31mNameError\u001b[0m: name 'ModelCls' is not defined"
     ]
    }
   ],
   "source": []
  },
  {
   "cell_type": "code",
   "execution_count": null,
   "metadata": {
    "ExecuteTime": {
     "end_time": "2020-02-17T06:38:01.125021Z",
     "start_time": "2020-02-17T06:38:01.117968Z"
    }
   },
   "outputs": [],
   "source": [
    "from myapp.models import User"
   ]
  },
  {
   "cell_type": "code",
   "execution_count": null,
   "metadata": {},
   "outputs": [],
   "source": [
    "data = User.objects.all()"
   ]
  },
  {
   "cell_type": "code",
   "execution_count": null,
   "metadata": {},
   "outputs": [],
   "source": [
    "print(data)\n",
    "print('\\n')\n",
    "print(data[0])"
   ]
  },
  {
   "cell_type": "code",
   "execution_count": null,
   "metadata": {},
   "outputs": [],
   "source": [
    "for d in data:\n",
    "    if d.age>60 : print(d)"
   ]
  },
  {
   "cell_type": "code",
   "execution_count": null,
   "metadata": {},
   "outputs": [],
   "source": [
    "# 나이가 24 이상인 사람들 다 뽑아오기(query식 문장)\n",
    "print(data.filter(age__gte=24))"
   ]
  },
  {
   "cell_type": "code",
   "execution_count": null,
   "metadata": {},
   "outputs": [],
   "source": [
    "# 이름이 김유신이고 나이가 24 이상인 사람들 다 뽑아오기\n",
    "print(data.filter(name = '김유신', age__gte=24))\n",
    "\n",
    "#print(data.filter(name='김유신').filter(age_gte=24)) 위에꺼랑 같은 코드"
   ]
  },
  {
   "cell_type": "code",
   "execution_count": null,
   "metadata": {},
   "outputs": [],
   "source": [
    "# 이름에 '김'을 포함하는 데이터들 다 가져오기\n",
    "data.filter(name__contains = '김')"
   ]
  },
  {
   "cell_type": "code",
   "execution_count": null,
   "metadata": {},
   "outputs": [],
   "source": [
    "# 이름에 '김'을 포함하돼, 대소문자 구분은 무시한다.(i는 ignore의 약자)\n",
    "data.filter(name__icontains = '김')"
   ]
  },
  {
   "cell_type": "code",
   "execution_count": null,
   "metadata": {},
   "outputs": [],
   "source": [
    "from django.db.models import Q\n",
    "\n",
    "# 여기서 Q문 사이의 |는 or를 의미한다.\n",
    "data.filter( Q(age__gte=61) | Q( name__contains='김'))"
   ]
  },
  {
   "cell_type": "markdown",
   "metadata": {},
   "source": [
    "33. mysite>myapp>views.py에서 listUser 함수를 다음 셀과 같이 추가한다."
   ]
  },
  {
   "cell_type": "code",
   "execution_count": null,
   "metadata": {},
   "outputs": [],
   "source": [
    "def listUser(request) :\n",
    "    return render(request, 'template2.html', {\"data\":User.objects.all()})"
   ]
  },
  {
   "cell_type": "markdown",
   "metadata": {},
   "source": [
    "34. mysite>templates폴더에서 template2.html파일을 하나 만들고 다음의 사항을 저장한다."
   ]
  },
  {
   "cell_type": "code",
   "execution_count": null,
   "metadata": {},
   "outputs": [],
   "source": [
    "user List <br>\n",
    "\n",
    "{% for d in data %}\n",
    "    이름 {{d.name}}   age {{d.age}} <br>\n",
    "\n",
    "{% endfor %}"
   ]
  },
  {
   "cell_type": "markdown",
   "metadata": {},
   "source": [
    "35. mysite>myapp>urls.py에서 path를 하나 더 추가한다.\n",
    "    - path(\"listuser', views.listUser)\n",
    "    \n",
    "\n",
    "36. 새로운 콘솔창을 열어서 python manage.py runserver를 실행해서 서버를 열고 URL 127.0.0.1:8000/listuser로 이동해서 결과를 본다.\n",
    "\n",
    "\n",
    "37. mysite>myapp>views.py에서 listUser함수를 다음과 같이 수정한다."
   ]
  },
  {
   "cell_type": "code",
   "execution_count": null,
   "metadata": {},
   "outputs": [],
   "source": [
    "def listUser(request) :\n",
    "    q = request.get(\"q\", \"\")\n",
    "    if q == \"\":\n",
    "        data = User.objects.all()\n",
    "    else :\n",
    "        data = User.objects.all().filter(name__condtains=q)\n",
    "\n",
    "    # return render(request, 'template2.html', {\"data\":User.objects.all()})\n",
    "    return render(request, 'template2.html', {\"data\":data})"
   ]
  },
  {
   "cell_type": "markdown",
   "metadata": {},
   "source": [
    "38. 34번의 template2.html을 다음 셀과 같이 수정한다."
   ]
  },
  {
   "cell_type": "code",
   "execution_count": null,
   "metadata": {},
   "outputs": [],
   "source": [
    "user List <br>\n",
    "\n",
    "{% for d in data %}\n",
    "\n",
    "    이름 {{d.name}}   age {{d.age}} <br>\n",
    "\n",
    "{% endfor %}\n",
    "\n",
    "\n",
    "\n",
    "<form action=\"\">\n",
    "    <input type=\"text\" name=\"q\">\n",
    "    <input type=\"submit\" value=\"검색\">\n",
    "</form>"
   ]
  },
  {
   "cell_type": "markdown",
   "metadata": {},
   "source": [
    "39. 127.0.0.1:8000/listuser 로 다시 가서 보면 입력하는 칸이 나오는데 '유신'이라고 입력하고 버튼 누르면 유신이 들어간 이름을 전부 출력해주는 것을 확인할 수 있다."
   ]
  },
  {
   "cell_type": "markdown",
   "metadata": {},
   "source": [
    "----"
   ]
  },
  {
   "cell_type": "markdown",
   "metadata": {},
   "source": [
    "40. 34번의 template2.html을 다음 셀과 같이 다시 수정한다."
   ]
  },
  {
   "cell_type": "code",
   "execution_count": null,
   "metadata": {},
   "outputs": [],
   "source": [
    "<script src=\"http://code.jquery.com/jquery-1.11.3.min.js\"></script>\n",
    "\n",
    "user List <button id =\"add\">+</button> <br>\n",
    "\n",
    "{% for d in data %}\n",
    "\n",
    "    이름 {{d.name}}   age {{d.age}} <a href=\"/listuser?userid={{d.userid}}\">삭제</a> <br>\n",
    "\n",
    "{% endfor %}\n",
    "\n",
    "\n",
    "\n",
    "<form action=\"\">\n",
    "    <input type=\"text\" name=\"q\">\n",
    "    <input type=\"submit\" value=\"검색\">\n",
    "</form>\n",
    "\n",
    "\n",
    "<div id=layer>\n",
    "    <form action=\"\" method=\"post\">\n",
    "        {% csrf_token %}\n",
    "        <input type=\"text\" name=\"userid\">\n",
    "        <input type=\"text\" name=\"name\">\n",
    "        <input type=\"text\" name=\"age\">\n",
    "        <input type=\"text\" name=\"hobby\">\n",
    "        <input type=\"submit\" value=\"Add\">\n",
    "    </form>\n",
    "</div>\n",
    "\n",
    "<script>\n",
    "    $(\"#layer\").hide()\n",
    "    $(\"#add\").click( function() {\n",
    "        $(\"#layer\").toggle()\n",
    "    });\n",
    "</script>"
   ]
  },
  {
   "cell_type": "code",
   "execution_count": null,
   "metadata": {},
   "outputs": [],
   "source": [
    "def listUser(request) :\n",
    "\n",
    "    if request.method == \"GET\" :\n",
    "        userid = request.GET.get(\"userid\",\"\")\n",
    "        if userid != \"\":  # userid가 아무것도 없는 것을 삭제할 수 없으니까\n",
    "            User.objects.all().get(userid=userid).delete()\n",
    "            return redirect(\"/listuser\")\n",
    "\n",
    "        q = request.GET.get(\"q\", \"\")\n",
    "        data = User.objects.all()\n",
    "        if q != \"\":\n",
    "            data = data.filter(name__contains=q)\n",
    "        return render(request, 'template2.html', {\"data\": data})\n",
    "    else :\n",
    "        userid = request.POST[\"userid\"] #request.POST.get(\"userid\")를 써도 됌!\n",
    "        name = request.POST[\"name\"]\n",
    "        age = request.POST['age']\n",
    "        hobby = request.POST[\"hobby\"]\n",
    "\n",
    "\n",
    "        # u = User(userid=userid, name=name, age=age, hobby=hobby).save()\n",
    "        User.objects.create(userid=userid, name=name, age=age, hobby=hobby)  #이렇게 하면 굳이 윗 줄처럼 수정이 필요없다. 저절로 save가 되니까!\n",
    "\n",
    "        return redirect(\"/listuser\")"
   ]
  },
  {
   "cell_type": "markdown",
   "metadata": {},
   "source": [
    "41. 127.0.0.1:8000/listuser 페이지에서 자유롭게 추가, 삭제 해보자"
   ]
  },
  {
   "cell_type": "code",
   "execution_count": null,
   "metadata": {},
   "outputs": [],
   "source": []
  },
  {
   "cell_type": "code",
   "execution_count": null,
   "metadata": {},
   "outputs": [],
   "source": []
  }
 ],
 "metadata": {
  "kernelspec": {
   "display_name": "Python 3",
   "language": "python",
   "name": "python3"
  },
  "language_info": {
   "codemirror_mode": {
    "name": "ipython",
    "version": 3
   },
   "file_extension": ".py",
   "mimetype": "text/x-python",
   "name": "python",
   "nbconvert_exporter": "python",
   "pygments_lexer": "ipython3",
   "version": "3.7.5"
  },
  "varInspector": {
   "cols": {
    "lenName": 16,
    "lenType": 16,
    "lenVar": 40
   },
   "kernels_config": {
    "python": {
     "delete_cmd_postfix": "",
     "delete_cmd_prefix": "del ",
     "library": "var_list.py",
     "varRefreshCmd": "print(var_dic_list())"
    },
    "r": {
     "delete_cmd_postfix": ") ",
     "delete_cmd_prefix": "rm(",
     "library": "var_list.r",
     "varRefreshCmd": "cat(var_dic_list()) "
    }
   },
   "types_to_exclude": [
    "module",
    "function",
    "builtin_function_or_method",
    "instance",
    "_Feature"
   ],
   "window_display": false
  }
 },
 "nbformat": 4,
 "nbformat_minor": 4
}
