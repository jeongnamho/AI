{
 "cells": [
  {
   "cell_type": "code",
   "execution_count": 1,
   "metadata": {
    "ExecuteTime": {
     "end_time": "2020-02-21T00:18:18.061670Z",
     "start_time": "2020-02-21T00:18:18.059666Z"
    }
   },
   "outputs": [],
   "source": [
    "from django.db import connection \n",
    "from django.contrib.auth.models import User\n",
    "from myboard import models"
   ]
  },
  {
   "cell_type": "code",
   "execution_count": 2,
   "metadata": {
    "ExecuteTime": {
     "end_time": "2020-02-21T00:18:19.996132Z",
     "start_time": "2020-02-21T00:18:19.993131Z"
    }
   },
   "outputs": [],
   "source": [
    "data = User.objects.all()"
   ]
  },
  {
   "cell_type": "code",
   "execution_count": 3,
   "metadata": {
    "ExecuteTime": {
     "end_time": "2020-02-21T00:18:40.261660Z",
     "start_time": "2020-02-21T00:18:40.218073Z"
    }
   },
   "outputs": [],
   "source": [
    "models.Board??"
   ]
  },
  {
   "cell_type": "code",
   "execution_count": 7,
   "metadata": {
    "ExecuteTime": {
     "end_time": "2020-02-21T00:19:24.301995Z",
     "start_time": "2020-02-21T00:19:24.297992Z"
    }
   },
   "outputs": [
    {
     "data": {
      "text/plain": [
       "{'sql': 'SELECT \"auth_user\".\"id\", \"auth_user\".\"password\", \"auth_user\".\"last_login\", \"auth_user\".\"is_superuser\", \"auth_user\".\"username\", \"auth_user\".\"first_name\", \"auth_user\".\"last_name\", \"auth_user\".\"email\", \"auth_user\".\"is_staff\", \"auth_user\".\"is_active\", \"auth_user\".\"date_joined\" FROM \"auth_user\" LIMIT 21',\n",
       " 'time': '0.000'}"
      ]
     },
     "execution_count": 7,
     "metadata": {},
     "output_type": "execute_result"
    }
   ],
   "source": [
    "connection.queries[-1]"
   ]
  },
  {
   "cell_type": "code",
   "execution_count": 69,
   "metadata": {},
   "outputs": [
    {
     "data": {
      "text/plain": [
       "<RawQuerySet: SELECT max(age ) FROM myapp_user>"
      ]
     },
     "execution_count": 69,
     "metadata": {},
     "output_type": "execute_result"
    }
   ],
   "source": [
    "User.objects.raw('SELECT max(age ) FROM myapp_user')"
   ]
  },
  {
   "cell_type": "code",
   "execution_count": 8,
   "metadata": {
    "ExecuteTime": {
     "end_time": "2020-02-21T00:25:33.541712Z",
     "start_time": "2020-02-21T00:25:33.537692Z"
    }
   },
   "outputs": [
    {
     "name": "stdout",
     "output_type": "stream",
     "text": [
      "None\n"
     ]
    }
   ],
   "source": [
    "cursor = connection.cursor()\n",
    "cursor.execute('SELECT max(age) from myapp_user')\n",
    "max_value = cursor.fetchone()[0]\n",
    "\n",
    "print(max_value)"
   ]
  },
  {
   "cell_type": "code",
   "execution_count": 11,
   "metadata": {
    "ExecuteTime": {
     "end_time": "2020-02-21T00:30:04.500867Z",
     "start_time": "2020-02-21T00:30:04.495830Z"
    }
   },
   "outputs": [],
   "source": [
    "cursor = connection.cursor()\n",
    "cursor.execute('SELECT id, title, cnt from myboard_board')\n",
    "results = cursor.fetchall()"
   ]
  },
  {
   "cell_type": "code",
   "execution_count": 11,
   "metadata": {
    "ExecuteTime": {
     "end_time": "2020-02-20T23:43:21.556048Z",
     "start_time": "2020-02-20T23:43:21.552046Z"
    }
   },
   "outputs": [
    {
     "name": "stdout",
     "output_type": "stream",
     "text": [
      "<class 'list'>\n"
     ]
    }
   ],
   "source": [
    "print(type(results))"
   ]
  },
  {
   "cell_type": "code",
   "execution_count": 12,
   "metadata": {
    "ExecuteTime": {
     "end_time": "2020-02-21T00:30:09.988411Z",
     "start_time": "2020-02-21T00:30:09.983437Z"
    }
   },
   "outputs": [
    {
     "data": {
      "text/plain": [
       "(1, '자동차 검출44343', 5)"
      ]
     },
     "execution_count": 12,
     "metadata": {},
     "output_type": "execute_result"
    }
   ],
   "source": [
    "results[0]"
   ]
  },
  {
   "cell_type": "code",
   "execution_count": 13,
   "metadata": {
    "ExecuteTime": {
     "end_time": "2020-02-20T23:43:32.213553Z",
     "start_time": "2020-02-20T23:43:32.209504Z"
    }
   },
   "outputs": [
    {
     "name": "stdout",
     "output_type": "stream",
     "text": [
      "(1, '자동차 검출44343', 'fweew\\r\\n\\r\\nfwef\\r\\newew\\r\\nfwwe\\r\\nefwe\\r\\nf\\r\\newf\\r\\newfewfwefew', datetime.datetime(2020, 2, 19, 5, 8, 56, 774872), 5, None, 'common', 1)\n",
      "(2, '32321321', '312312312', datetime.datetime(2020, 2, 19, 7, 39, 27, 299571), 0, None, 'common', 1)\n",
      "(3, '32312323123', '32132133', datetime.datetime(2020, 2, 19, 7, 39, 54, 356455), 0, None, 'common', 1)\n",
      "(4, '32312323123', '32132133', datetime.datetime(2020, 2, 19, 7, 39, 57, 463012), 0, None, 'common', 1)\n",
      "(5, '3231231321', '3213123131231', datetime.datetime(2020, 2, 19, 7, 40, 10, 419637), 0, None, 'common', 1)\n",
      "(6, '2424423424', '4242424\\r\\n24\\r\\n2\\r\\n42\\r\\n42\\r\\n4\\r\\n2', datetime.datetime(2020, 2, 19, 7, 47, 27, 154877), 0, None, 'common', 1)\n",
      "(7, 'nnnbnnnnn', 'nnnnnn', datetime.datetime(2020, 2, 19, 7, 47, 59, 290686), 0, None, 'common', 1)\n",
      "(8, '000000000000', '000000000\\r\\n0\\r\\n0\\r\\n0\\r\\n\\r\\n007777', datetime.datetime(2020, 2, 19, 7, 49, 9, 50042), 2, None, 'data', 1)\n"
     ]
    }
   ],
   "source": [
    "for r in results :\n",
    "    print(r)"
   ]
  },
  {
   "cell_type": "code",
   "execution_count": 13,
   "metadata": {
    "ExecuteTime": {
     "end_time": "2020-02-21T00:49:34.216661Z",
     "start_time": "2020-02-21T00:49:34.211662Z"
    }
   },
   "outputs": [
    {
     "data": {
      "text/plain": [
       "<django.db.backends.sqlite3.base.SQLiteCursorWrapper at 0x1eebb3b3798>"
      ]
     },
     "execution_count": 13,
     "metadata": {},
     "output_type": "execute_result"
    }
   ],
   "source": [
    "cursor.execute(\"\"\"\n",
    "select b.id, title, cnt, username \n",
    "from myboard_board b , auth_user u\n",
    "where b.author_id = u.id and username = 'home'\n",
    "\"\"\")"
   ]
  },
  {
   "cell_type": "code",
   "execution_count": 14,
   "metadata": {
    "ExecuteTime": {
     "end_time": "2020-02-21T00:49:42.678681Z",
     "start_time": "2020-02-21T00:49:42.675722Z"
    }
   },
   "outputs": [],
   "source": [
    "r = cursor.fetchone()"
   ]
  },
  {
   "cell_type": "code",
   "execution_count": 15,
   "metadata": {
    "ExecuteTime": {
     "end_time": "2020-02-21T00:49:47.511246Z",
     "start_time": "2020-02-21T00:49:47.507299Z"
    }
   },
   "outputs": [
    {
     "name": "stdout",
     "output_type": "stream",
     "text": [
      "(1, '자동차 검출44343', 5, 'home')\n"
     ]
    }
   ],
   "source": [
    "print(r)"
   ]
  },
  {
   "cell_type": "code",
   "execution_count": 16,
   "metadata": {
    "ExecuteTime": {
     "end_time": "2020-02-21T00:50:30.631583Z",
     "start_time": "2020-02-21T00:50:30.627625Z"
    }
   },
   "outputs": [
    {
     "name": "stdout",
     "output_type": "stream",
     "text": [
      "(2, '32321321', 0, 'home')\n"
     ]
    }
   ],
   "source": [
    "r = cursor.fetchone()\n",
    "print(r)"
   ]
  },
  {
   "cell_type": "code",
   "execution_count": 18,
   "metadata": {
    "ExecuteTime": {
     "end_time": "2020-02-21T00:54:37.462993Z",
     "start_time": "2020-02-21T00:54:37.458987Z"
    }
   },
   "outputs": [
    {
     "name": "stdout",
     "output_type": "stream",
     "text": [
      "[]\n"
     ]
    }
   ],
   "source": [
    "r = cursor.fetchall()\n",
    "print(r)\n"
   ]
  },
  {
   "cell_type": "code",
   "execution_count": 22,
   "metadata": {
    "ExecuteTime": {
     "end_time": "2020-02-21T01:18:35.723044Z",
     "start_time": "2020-02-21T01:18:35.720066Z"
    }
   },
   "outputs": [],
   "source": [
    "cursor.execute(\"\"\"\n",
    "select b.id, title, cnt, username \n",
    "from myboard_board b , auth_user u\n",
    "where b.author_id = u.id and username = 'home'\n",
    "\"\"\")\n",
    "result = cursor.fetchall()"
   ]
  },
  {
   "cell_type": "code",
   "execution_count": 23,
   "metadata": {
    "ExecuteTime": {
     "end_time": "2020-02-21T01:18:40.394993Z",
     "start_time": "2020-02-21T01:18:40.391012Z"
    }
   },
   "outputs": [
    {
     "name": "stdout",
     "output_type": "stream",
     "text": [
      "자동차 검출44343\n",
      "32321321\n",
      "32312323123\n",
      "32312323123\n",
      "3231231321\n",
      "2424423424\n",
      "nnnbnnnnn\n",
      "000000000000\n"
     ]
    }
   ],
   "source": [
    "for r in result :\n",
    "    print(r[1])"
   ]
  },
  {
   "cell_type": "code",
   "execution_count": 24,
   "metadata": {
    "ExecuteTime": {
     "end_time": "2020-02-21T01:19:47.715532Z",
     "start_time": "2020-02-21T01:19:47.710542Z"
    }
   },
   "outputs": [
    {
     "data": {
      "text/plain": [
       "(('id', None, None, None, None, None, None),\n",
       " ('title', None, None, None, None, None, None),\n",
       " ('cnt', None, None, None, None, None, None),\n",
       " ('username', None, None, None, None, None, None))"
      ]
     },
     "execution_count": 24,
     "metadata": {},
     "output_type": "execute_result"
    }
   ],
   "source": [
    "cursor.description"
   ]
  },
  {
   "cell_type": "code",
   "execution_count": 25,
   "metadata": {
    "ExecuteTime": {
     "end_time": "2020-02-21T01:22:34.962388Z",
     "start_time": "2020-02-21T01:22:34.958389Z"
    }
   },
   "outputs": [
    {
     "name": "stdout",
     "output_type": "stream",
     "text": [
      "{'a': 1, 'b': 2}\n"
     ]
    }
   ],
   "source": [
    "d = dict(zip(['a', 'b'],  (1,2) ))\n",
    "print(d)"
   ]
  },
  {
   "cell_type": "code",
   "execution_count": 33,
   "metadata": {
    "ExecuteTime": {
     "end_time": "2020-02-21T01:28:35.809565Z",
     "start_time": "2020-02-21T01:28:35.805540Z"
    }
   },
   "outputs": [
    {
     "name": "stdout",
     "output_type": "stream",
     "text": [
      "('a', 1)\n",
      "('b', 2)\n"
     ]
    }
   ],
   "source": [
    "z = zip(['a', 'b'],  (1,2) )\n",
    "for v in z : \n",
    "    print(v)"
   ]
  },
  {
   "cell_type": "code",
   "execution_count": 27,
   "metadata": {
    "ExecuteTime": {
     "end_time": "2020-02-21T01:25:35.088701Z",
     "start_time": "2020-02-21T01:25:35.085709Z"
    }
   },
   "outputs": [
    {
     "name": "stdout",
     "output_type": "stream",
     "text": [
      "{'id': 1, 'title': '자동차 검출44343', 'cnt': 5, 'userame': 'home'}\n"
     ]
    }
   ],
   "source": [
    "d = dict(zip(['id', 'title', 'cnt', 'userame'],  result[0]  ))\n",
    "print(d)"
   ]
  },
  {
   "cell_type": "code",
   "execution_count": 34,
   "metadata": {
    "ExecuteTime": {
     "end_time": "2020-02-21T01:32:10.792631Z",
     "start_time": "2020-02-21T01:32:10.788633Z"
    }
   },
   "outputs": [],
   "source": [
    "def dictfetchall(cursor):    \n",
    "    desc = cursor.description\n",
    "    return [\n",
    "        dict(zip([col[0] for col in desc], row))\n",
    "        for row in cursor.fetchall()\n",
    "    ]"
   ]
  },
  {
   "cell_type": "code",
   "execution_count": 37,
   "metadata": {
    "ExecuteTime": {
     "end_time": "2020-02-21T01:32:38.843831Z",
     "start_time": "2020-02-21T01:32:38.839831Z"
    }
   },
   "outputs": [
    {
     "name": "stdout",
     "output_type": "stream",
     "text": [
      "자동차 검출44343\n"
     ]
    }
   ],
   "source": [
    "cursor = connection.cursor()\n",
    "cursor.execute('SELECT * from myboard_board')\n",
    "d = dictfetchall(cursor)\n",
    "print(d[0][\"title\"])\n"
   ]
  },
  {
   "cell_type": "code",
   "execution_count": 38,
   "metadata": {
    "ExecuteTime": {
     "end_time": "2020-02-21T01:52:40.092266Z",
     "start_time": "2020-02-21T01:52:40.089249Z"
    }
   },
   "outputs": [],
   "source": [
    "category = 'common'\n",
    "page = 2\n",
    "username = 'home'\n",
    "\n",
    "\n",
    "#render(requst,  \"myboard/list3.html\", context)\n"
   ]
  },
  {
   "cell_type": "code",
   "execution_count": null,
   "metadata": {},
   "outputs": [],
   "source": []
  },
  {
   "cell_type": "code",
   "execution_count": 30,
   "metadata": {},
   "outputs": [],
   "source": [
    "from django.test import RequestFactory\n",
    "rf =  RequestFactory()\n",
    "url = '/detailpost?pk=14'\n",
    "my_request = rf.get(url)"
   ]
  },
  {
   "cell_type": "code",
   "execution_count": 31,
   "metadata": {},
   "outputs": [],
   "source": [
    "from myapp import views\n",
    "response = views.index(my_request)"
   ]
  },
  {
   "cell_type": "code",
   "execution_count": 34,
   "metadata": {},
   "outputs": [
    {
     "name": "stdout",
     "output_type": "stream",
     "text": [
      "<class 'django.http.response.HttpResponse'>\n"
     ]
    }
   ],
   "source": [
    "print(type(response))\n"
   ]
  },
  {
   "cell_type": "code",
   "execution_count": 37,
   "metadata": {},
   "outputs": [
    {
     "name": "stdout",
     "output_type": "stream",
     "text": [
      "tempalte h1^^^\n",
      "\n",
      "<form action=/myformviewg2 method=post >\n",
      "  <input type='hidden' name='csrfmiddlewaretoken' value='BzH4lfVleGfHTJTWJ59dlfYXZrtviUNfENNwqbhcM7mI9XD1VhOpJgFB3DeaIvA4' />\n",
      "  <table>\n",
      "  <tr><th><label for=\"id_age\">나이:</label></th><td><input type=\"text\" name=\"age\" maxlength=\"3\" required id=\"id_age\" /></td></tr>\n",
      "<tr><th><label for=\"id_memo\">메모:</label></th><td><textarea name=\"memo\" cols=\"40\" rows=\"10\" required id=\"id_memo\">\n",
      "</textarea></td></tr>\n",
      "<tr><th><label for=\"id_hobby\">취미:</label></th><td><input type=\"text\" name=\"hobby\" maxlength=\"4\" required id=\"id_hobby\" /></td></tr>\n",
      "  </table>\n",
      "  <input type=submit name=id value=\"ok\">\n",
      "</form>\n",
      "\n"
     ]
    }
   ],
   "source": [
    "print(response.content.decode())"
   ]
  }
 ],
 "metadata": {
  "kernelspec": {
   "display_name": "Django Shell-Plus",
   "language": "python",
   "name": "django_extensions"
  },
  "language_info": {
   "codemirror_mode": {
    "name": "ipython",
    "version": 3
   },
   "file_extension": ".py",
   "mimetype": "text/x-python",
   "name": "python",
   "nbconvert_exporter": "python",
   "pygments_lexer": "ipython3",
   "version": "3.6.10"
  },
  "varInspector": {
   "cols": {
    "lenName": 16,
    "lenType": 16,
    "lenVar": 40
   },
   "kernels_config": {
    "python": {
     "delete_cmd_postfix": "",
     "delete_cmd_prefix": "del ",
     "library": "var_list.py",
     "varRefreshCmd": "print(var_dic_list())"
    },
    "r": {
     "delete_cmd_postfix": ") ",
     "delete_cmd_prefix": "rm(",
     "library": "var_list.r",
     "varRefreshCmd": "cat(var_dic_list()) "
    }
   },
   "types_to_exclude": [
    "module",
    "function",
    "builtin_function_or_method",
    "instance",
    "_Feature"
   ],
   "window_display": false
  }
 },
 "nbformat": 4,
 "nbformat_minor": 2
}
