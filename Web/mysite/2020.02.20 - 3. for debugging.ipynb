{
 "cells": [
  {
   "cell_type": "markdown",
   "metadata": {},
   "source": [
    "# The request factory\n",
    "### class <font color=red>RequestFactory</font>\n",
    "The **RequestFactory** shares the same API as the test client. However, instead of behaving like a browser, the RequestFactory provides a way to generate a request instance that can be used as the first argument to any view. This means you can test a view function the same way as you would test any other function – as a black box, with exactly known inputs, testing for specific outputs.\n",
    "\n",
    "The API for the RequestFactory is a slightly restricted subset of the test client API:\n",
    "\n",
    "It only has access to the HTTP methods get(), post(), put(), delete(), head(), options(), and trace().\n",
    "These methods accept all the same arguments except for follow. Since this is just a factory for producing requests, it’s up to you to handle the response.\n",
    "It does not support middleware. Session and authentication attributes must be supplied by the test itself if required for the view to function properly.\n",
    "\n",
    "**Ref :** <br>\n",
    "https://docs.djangoproject.com/en/3.0/topics/testing/advanced/"
   ]
  },
  {
   "cell_type": "code",
   "execution_count": null,
   "metadata": {
    "ExecuteTime": {
     "end_time": "2020-02-20T08:08:46.067298Z",
     "start_time": "2020-02-20T08:08:46.063314Z"
    }
   },
   "outputs": [],
   "source": [
    "from django.test import RequestFactory\n",
    "from myboard import models\n",
    "rf = RequestFactory()"
   ]
  },
  {
   "cell_type": "code",
   "execution_count": 12,
   "metadata": {
    "ExecuteTime": {
     "end_time": "2020-02-20T08:08:46.067298Z",
     "start_time": "2020-02-20T08:08:46.063314Z"
    }
   },
   "outputs": [],
   "source": [
    "# 가짜 URL\n",
    "url = '/myboard/ajaxget?page=1'\n",
    "request = rf.get(url)"
   ]
  },
  {
   "cell_type": "code",
   "execution_count": 13,
   "metadata": {
    "ExecuteTime": {
     "end_time": "2020-02-20T08:08:47.515952Z",
     "start_time": "2020-02-20T08:08:47.511963Z"
    }
   },
   "outputs": [
    {
     "name": "stdout",
     "output_type": "stream",
     "text": [
      "1\n"
     ]
    }
   ],
   "source": [
    "page = request.GET.get(\"page\", 1)\n",
    "print(page)"
   ]
  },
  {
   "cell_type": "code",
   "execution_count": 14,
   "metadata": {
    "ExecuteTime": {
     "end_time": "2020-02-20T08:08:47.758400Z",
     "start_time": "2020-02-20T08:08:47.751419Z"
    }
   },
   "outputs": [
    {
     "name": "stdout",
     "output_type": "stream",
     "text": [
      "<QuerySet [<Board: 까만색칠판>, <Board: asfasfasdfasfdas>, <Board: ㄱㄱㄱㄱㄱㄱㄱ>, <Board: postit>, <Board: adfasfasfasfasdfasfd>, <Board: 1254456956945735>]>\n"
     ]
    }
   ],
   "source": [
    "datas = models.Board.objects.all().filter(category='common')\n",
    "page = int(page)\n",
    "print(datas)"
   ]
  },
  {
   "cell_type": "code",
   "execution_count": 15,
   "metadata": {
    "ExecuteTime": {
     "end_time": "2020-02-20T08:08:50.020614Z",
     "start_time": "2020-02-20T08:08:50.015679Z"
    }
   },
   "outputs": [
    {
     "name": "stdout",
     "output_type": "stream",
     "text": [
      "<QuerySet [<Board: 까만색칠판>, <Board: asfasfasdfasfdas>, <Board: ㄱㄱㄱㄱㄱㄱㄱ>, <Board: postit>]>\n"
     ]
    }
   ],
   "source": [
    "subs = datas[(page-1)*4:page*4]\n",
    "print(subs)"
   ]
  },
  {
   "cell_type": "code",
   "execution_count": 16,
   "metadata": {
    "ExecuteTime": {
     "end_time": "2020-02-20T08:08:50.827703Z",
     "start_time": "2020-02-20T08:08:50.822717Z"
    }
   },
   "outputs": [],
   "source": [
    "datas = {'datas': [{\"pk\":data.pk, \"title\":data.title, \"cnt\":data.cnt} for data in subs]}"
   ]
  },
  {
   "cell_type": "code",
   "execution_count": 17,
   "metadata": {
    "ExecuteTime": {
     "end_time": "2020-02-20T08:08:51.226682Z",
     "start_time": "2020-02-20T08:08:51.222693Z"
    }
   },
   "outputs": [],
   "source": [
    "from myboard import views"
   ]
  },
  {
   "cell_type": "code",
   "execution_count": 19,
   "metadata": {
    "ExecuteTime": {
     "end_time": "2020-02-20T08:08:58.708291Z",
     "start_time": "2020-02-20T08:08:58.703304Z"
    }
   },
   "outputs": [
    {
     "name": "stdout",
     "output_type": "stream",
     "text": [
      "<JsonResponse status_code=200, \"application/json\">\n",
      "{\"datas\": [{\"pk\": 3, \"title\": \"까만색칠판\", \"cnt\": 2}, {\"pk\": 12, \"title\": \"asfasfasdfasfdas\", \"cnt\": 0}, {\"pk\": 13, \"title\": \"ㄱㄱㄱㄱㄱㄱㄱ\", \"cnt\": 0}]}\n"
     ]
    }
   ],
   "source": [
    "response = views.ajaxget(request)\n",
    "print(response)\n",
    "print(response.content.decode())"
   ]
  },
  {
   "cell_type": "code",
   "execution_count": 26,
   "metadata": {
    "ExecuteTime": {
     "end_time": "2020-02-20T08:32:04.180243Z",
     "start_time": "2020-02-20T08:32:04.168219Z"
    }
   },
   "outputs": [],
   "source": [
    "from django.core.paginator import Paginator\n",
    "from django.shortcuts import render\n",
    "\n",
    "datas = [{'id': 1, 'name':  '홍길동1'},\n",
    "        {'id': 2, 'name':  '홍길동2'},\n",
    "        {'id': 3, 'name':  '홍길동3'},\n",
    "        {'id': 4, 'name':  '홍길동4'},\n",
    "        {'id': 5, 'name':  '홍길동5'},\n",
    "        {'id': 6, 'name':  '홍길동6'},\n",
    "        {'id': 7, 'name':  '홍길동7'},\n",
    "        ]\n",
    "\n",
    "page = request.GET.get('page', 1)  #default: 1\n",
    "p = Paginator(datas, 3)# collections 형태의 데이터,  # 한 페이지에 보여줄 데이터 개수\n",
    "sub = p.page(page) # 몇번째 페이지를 가지고 올 지 \n",
    "                # 슬라이싱의 개념과 같음\n",
    "\n",
    "response = render(request, 'myboard/page.html', {'datas': sub})"
   ]
  },
  {
   "cell_type": "code",
   "execution_count": 28,
   "metadata": {
    "ExecuteTime": {
     "end_time": "2020-02-20T08:32:24.219148Z",
     "start_time": "2020-02-20T08:32:24.215140Z"
    }
   },
   "outputs": [
    {
     "name": "stdout",
     "output_type": "stream",
     "text": [
      "<HttpResponse status_code=200, \"text/html; charset=utf-8\">\n",
      "------------------------\n",
      "\n",
      "\n",
      "   1  / 홍길동1  <br>\n",
      "\n",
      "\n",
      "\n",
      "   2  / 홍길동2  <br>\n",
      "\n",
      "\n",
      "\n",
      "   3  / 홍길동3  <br>\n",
      "\n",
      "\n",
      "\n",
      "\n",
      "        \n",
      "          <span>&laquo;</span>\n",
      "        \n",
      "\n",
      "        \n",
      "          \n",
      "            <span>1 </span>\n",
      "          \n",
      "        \n",
      "          \n",
      "            <a href=\"?page=2\">2</a>\n",
      "          \n",
      "        \n",
      "          \n",
      "            <a href=\"?page=3\">3</a>\n",
      "          \n",
      "        \n",
      "        \n",
      "            <a href=\"?page=2\">&raquo;</a>\n",
      "        \n",
      "    \n",
      "\n"
     ]
    }
   ],
   "source": [
    "print(response)\n",
    "print(\"------------------------\")\n",
    "print(response.content.decode())"
   ]
  }
 ],
 "metadata": {
  "kernelspec": {
   "display_name": "Django Shell-Plus",
   "language": "python",
   "name": "django_extensions"
  },
  "language_info": {
   "codemirror_mode": {
    "name": "ipython",
    "version": 3
   },
   "file_extension": ".py",
   "mimetype": "text/x-python",
   "name": "python",
   "nbconvert_exporter": "python",
   "pygments_lexer": "ipython3",
   "version": "3.6.10"
  },
  "varInspector": {
   "cols": {
    "lenName": 16,
    "lenType": 16,
    "lenVar": 40
   },
   "kernels_config": {
    "python": {
     "delete_cmd_postfix": "",
     "delete_cmd_prefix": "del ",
     "library": "var_list.py",
     "varRefreshCmd": "print(var_dic_list())"
    },
    "r": {
     "delete_cmd_postfix": ") ",
     "delete_cmd_prefix": "rm(",
     "library": "var_list.r",
     "varRefreshCmd": "cat(var_dic_list()) "
    }
   },
   "types_to_exclude": [
    "module",
    "function",
    "builtin_function_or_method",
    "instance",
    "_Feature"
   ],
   "window_display": false
  }
 },
 "nbformat": 4,
 "nbformat_minor": 4
}
