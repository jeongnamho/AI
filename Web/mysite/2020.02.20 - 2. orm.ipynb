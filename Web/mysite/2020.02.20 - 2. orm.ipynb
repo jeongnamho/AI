{
 "cells": [
  {
   "cell_type": "code",
   "execution_count": 1,
   "metadata": {
    "ExecuteTime": {
     "end_time": "2020-02-20T02:33:07.892857Z",
     "start_time": "2020-02-20T02:33:07.889904Z"
    }
   },
   "outputs": [],
   "source": [
    "from myboard import models"
   ]
  },
  {
   "cell_type": "code",
   "execution_count": 18,
   "metadata": {
    "ExecuteTime": {
     "end_time": "2020-02-20T02:44:37.322278Z",
     "start_time": "2020-02-20T02:44:37.317300Z"
    }
   },
   "outputs": [
    {
     "name": "stdout",
     "output_type": "stream",
     "text": [
      "<QuerySet [<Board: 까만색칠판>, <Board: 파이썬 프로그래밍>, <Board: ㄱㄱㄱㄱㄱㄱㄱ>, <Board: ㄱㄱㄱㄱㄱㄱㄱㄱㄱㄱㄱㄱㄱㄱㄱㄱㄱㄱㄱㄱㄱ>, <Board: ㅁ ㅣㅜ댜줃럊두ㅑㅜ>, <Board: 2345678>, <Board: 5316816131>, <Board: 휴대폰성지>]>\n"
     ]
    }
   ],
   "source": [
    "datas = models.Board.objects.all().filter(category='common')\n",
    "print(datas)"
   ]
  },
  {
   "cell_type": "code",
   "execution_count": 19,
   "metadata": {
    "ExecuteTime": {
     "end_time": "2020-02-20T02:44:37.754805Z",
     "start_time": "2020-02-20T02:44:37.749771Z"
    }
   },
   "outputs": [
    {
     "name": "stdout",
     "output_type": "stream",
     "text": [
      "<QuerySet [<Board: 5316816131>, <Board: 휴대폰성지>]>\n"
     ]
    }
   ],
   "source": [
    "page = 3\n",
    "subs = datas[(page-1)*3:page*3]\n",
    "print(subs)"
   ]
  },
  {
   "cell_type": "code",
   "execution_count": 21,
   "metadata": {
    "ExecuteTime": {
     "end_time": "2020-02-20T02:49:17.407488Z",
     "start_time": "2020-02-20T02:49:17.402502Z"
    }
   },
   "outputs": [
    {
     "name": "stdout",
     "output_type": "stream",
     "text": [
      "{'pk': 10, 'title': '5316816131', 'cnt': 0}\n",
      "{'pk': 11, 'title': '휴대폰성지', 'cnt': 0}\n",
      "[{'pk': 10, 'title': '5316816131', 'cnt': 0}, {'pk': 11, 'title': '휴대폰성지', 'cnt': 0}]\n",
      "{'datas': [{'pk': 10, 'title': '5316816131', 'cnt': 0}, {'pk': 11, 'title': '휴대폰성지', 'cnt': 0}]}\n"
     ]
    }
   ],
   "source": [
    "datas=[]\n",
    "for data in subs :\n",
    "    print({\"pk\":data.pk, 'title':data.title, \"cnt\":data.cnt})\n",
    "    datas.append({\"pk\":data.pk, 'title':data.title, \"cnt\":data.cnt})\n",
    "print(datas)\n",
    "datas = {\"datas\":datas}\n",
    "print(datas)"
   ]
  },
  {
   "cell_type": "code",
   "execution_count": null,
   "metadata": {},
   "outputs": [],
   "source": []
  },
  {
   "cell_type": "code",
   "execution_count": null,
   "metadata": {},
   "outputs": [],
   "source": []
  },
  {
   "cell_type": "code",
   "execution_count": null,
   "metadata": {},
   "outputs": [],
   "source": []
  },
  {
   "cell_type": "code",
   "execution_count": null,
   "metadata": {},
   "outputs": [],
   "source": []
  },
  {
   "cell_type": "code",
   "execution_count": null,
   "metadata": {},
   "outputs": [],
   "source": []
  },
  {
   "cell_type": "code",
   "execution_count": null,
   "metadata": {},
   "outputs": [],
   "source": []
  },
  {
   "cell_type": "code",
   "execution_count": null,
   "metadata": {},
   "outputs": [],
   "source": []
  },
  {
   "cell_type": "code",
   "execution_count": null,
   "metadata": {},
   "outputs": [],
   "source": []
  },
  {
   "cell_type": "code",
   "execution_count": null,
   "metadata": {},
   "outputs": [],
   "source": []
  }
 ],
 "metadata": {
  "kernelspec": {
   "display_name": "Django Shell-Plus",
   "language": "python",
   "name": "django_extensions"
  },
  "language_info": {
   "codemirror_mode": {
    "name": "ipython",
    "version": 3
   },
   "file_extension": ".py",
   "mimetype": "text/x-python",
   "name": "python",
   "nbconvert_exporter": "python",
   "pygments_lexer": "ipython3",
   "version": "3.6.10"
  },
  "varInspector": {
   "cols": {
    "lenName": 16,
    "lenType": 16,
    "lenVar": 40
   },
   "kernels_config": {
    "python": {
     "delete_cmd_postfix": "",
     "delete_cmd_prefix": "del ",
     "library": "var_list.py",
     "varRefreshCmd": "print(var_dic_list())"
    },
    "r": {
     "delete_cmd_postfix": ") ",
     "delete_cmd_prefix": "rm(",
     "library": "var_list.r",
     "varRefreshCmd": "cat(var_dic_list()) "
    }
   },
   "types_to_exclude": [
    "module",
    "function",
    "builtin_function_or_method",
    "instance",
    "_Feature"
   ],
   "window_display": false
  }
 },
 "nbformat": 4,
 "nbformat_minor": 4
}
