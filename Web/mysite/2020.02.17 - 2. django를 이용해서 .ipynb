{
 "cells": [
  {
   "cell_type": "code",
   "execution_count": 1,
   "metadata": {
    "ExecuteTime": {
     "end_time": "2020-02-17T06:56:23.449532Z",
     "start_time": "2020-02-17T06:56:23.445543Z"
    }
   },
   "outputs": [],
   "source": [
    "from myapp.models import User"
   ]
  },
  {
   "cell_type": "code",
   "execution_count": 2,
   "metadata": {
    "ExecuteTime": {
     "end_time": "2020-02-17T06:56:24.040332Z",
     "start_time": "2020-02-17T06:56:24.036343Z"
    }
   },
   "outputs": [],
   "source": [
    "data = User.objects.all()"
   ]
  },
  {
   "cell_type": "code",
   "execution_count": 5,
   "metadata": {
    "ExecuteTime": {
     "end_time": "2020-02-17T06:56:48.401042Z",
     "start_time": "2020-02-17T06:56:48.396088Z"
    }
   },
   "outputs": [
    {
     "name": "stdout",
     "output_type": "stream",
     "text": [
      "<QuerySet [<User: kim  /  김유신  /  24>, <User: lee  /  이순신  /  60>, <User: Ryu  /  유성룡  /  61>]>\n",
      "\n",
      "\n",
      "kim  /  김유신  /  24\n"
     ]
    }
   ],
   "source": [
    "print(data)\n",
    "print('\\n')\n",
    "print(data[0])"
   ]
  },
  {
   "cell_type": "code",
   "execution_count": 4,
   "metadata": {
    "ExecuteTime": {
     "end_time": "2020-02-17T06:56:26.817239Z",
     "start_time": "2020-02-17T06:56:26.812298Z"
    }
   },
   "outputs": [
    {
     "name": "stdout",
     "output_type": "stream",
     "text": [
      "kim  /  김유신  /  24\n",
      "lee  /  이순신  /  60\n",
      "Ryu  /  유성룡  /  61\n"
     ]
    }
   ],
   "source": [
    "for d in data:\n",
    "    if d.age>20 : print(d)"
   ]
  },
  {
   "cell_type": "code",
   "execution_count": 8,
   "metadata": {
    "ExecuteTime": {
     "end_time": "2020-02-17T06:58:02.944521Z",
     "start_time": "2020-02-17T06:58:02.939534Z"
    }
   },
   "outputs": [
    {
     "name": "stdout",
     "output_type": "stream",
     "text": [
      "<QuerySet [<User: kim  /  김유신  /  24>, <User: lee  /  이순신  /  60>, <User: Ryu  /  유성룡  /  61>]>\n"
     ]
    }
   ],
   "source": [
    "# 나이가 24 이상인 사람들 다 뽑아오기(query식 문장)\n",
    "print(data.filter(age__gte=24))"
   ]
  },
  {
   "cell_type": "code",
   "execution_count": 13,
   "metadata": {
    "ExecuteTime": {
     "end_time": "2020-02-17T06:44:28.250248Z",
     "start_time": "2020-02-17T06:44:28.244265Z"
    }
   },
   "outputs": [
    {
     "name": "stdout",
     "output_type": "stream",
     "text": [
      "<QuerySet []>\n"
     ]
    }
   ],
   "source": [
    "# 이름이 김유신이고 나이가 24 이상인 사람들 다 뽑아오기\n",
    "print(data.filter(name = '김유신', age__gte=24))\n",
    "\n",
    "#print(data.filter(name='김유신').filter(age_gte=24)) 위에꺼랑 같은 코드"
   ]
  },
  {
   "cell_type": "code",
   "execution_count": 14,
   "metadata": {
    "ExecuteTime": {
     "end_time": "2020-02-17T06:44:47.082316Z",
     "start_time": "2020-02-17T06:44:47.076333Z"
    },
    "scrolled": true
   },
   "outputs": [
    {
     "data": {
      "text/plain": [
       "<QuerySet [<User: \"kim\" + / + \"김유신\" + / + 24>]>"
      ]
     },
     "execution_count": 14,
     "metadata": {},
     "output_type": "execute_result"
    }
   ],
   "source": [
    "# 이름에 '김'을 포함하는 데이터들 다 가져오기\n",
    "data.filter(name__contains = '김')"
   ]
  },
  {
   "cell_type": "code",
   "execution_count": 9,
   "metadata": {
    "ExecuteTime": {
     "end_time": "2020-02-17T06:59:24.653078Z",
     "start_time": "2020-02-17T06:59:24.644148Z"
    }
   },
   "outputs": [
    {
     "data": {
      "text/plain": [
       "<QuerySet [<User: kim  /  김유신  /  24>]>"
      ]
     },
     "execution_count": 9,
     "metadata": {},
     "output_type": "execute_result"
    }
   ],
   "source": [
    "# 이름에 '김'을 포함하돼, 대소문자 구분은 무시한다.(i는 ignore의 약자)\n",
    "data.filter(name__icontains = '김')"
   ]
  },
  {
   "cell_type": "code",
   "execution_count": 13,
   "metadata": {
    "ExecuteTime": {
     "end_time": "2020-02-17T07:01:34.098058Z",
     "start_time": "2020-02-17T07:01:34.092074Z"
    }
   },
   "outputs": [
    {
     "data": {
      "text/plain": [
       "<QuerySet [<User: kim  /  김유신  /  24>, <User: Ryu  /  유성룡  /  61>]>"
      ]
     },
     "execution_count": 13,
     "metadata": {},
     "output_type": "execute_result"
    }
   ],
   "source": [
    "from django.db.models import Q\n",
    "\n",
    "# 여기서 Q문 사이의 |는 or를 의미한다.\n",
    "data.filter( Q(age__gte=61) | Q( name__contains='김'))"
   ]
  },
  {
   "cell_type": "code",
   "execution_count": null,
   "metadata": {},
   "outputs": [],
   "source": []
  },
  {
   "cell_type": "code",
   "execution_count": null,
   "metadata": {},
   "outputs": [],
   "source": []
  },
  {
   "cell_type": "code",
   "execution_count": null,
   "metadata": {},
   "outputs": [],
   "source": []
  },
  {
   "cell_type": "code",
   "execution_count": null,
   "metadata": {},
   "outputs": [],
   "source": []
  },
  {
   "cell_type": "code",
   "execution_count": null,
   "metadata": {},
   "outputs": [],
   "source": []
  },
  {
   "cell_type": "code",
   "execution_count": null,
   "metadata": {},
   "outputs": [],
   "source": []
  }
 ],
 "metadata": {
  "kernelspec": {
   "display_name": "Django Shell-Plus",
   "language": "python",
   "name": "django_extensions"
  },
  "language_info": {
   "codemirror_mode": {
    "name": "ipython",
    "version": 3
   },
   "file_extension": ".py",
   "mimetype": "text/x-python",
   "name": "python",
   "nbconvert_exporter": "python",
   "pygments_lexer": "ipython3",
   "version": "3.6.10"
  },
  "varInspector": {
   "cols": {
    "lenName": 16,
    "lenType": 16,
    "lenVar": 40
   },
   "kernels_config": {
    "python": {
     "delete_cmd_postfix": "",
     "delete_cmd_prefix": "del ",
     "library": "var_list.py",
     "varRefreshCmd": "print(var_dic_list())"
    },
    "r": {
     "delete_cmd_postfix": ") ",
     "delete_cmd_prefix": "rm(",
     "library": "var_list.r",
     "varRefreshCmd": "cat(var_dic_list()) "
    }
   },
   "types_to_exclude": [
    "module",
    "function",
    "builtin_function_or_method",
    "instance",
    "_Feature"
   ],
   "window_display": false
  }
 },
 "nbformat": 4,
 "nbformat_minor": 4
}
