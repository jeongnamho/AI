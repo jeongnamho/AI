{
 "cells": [
  {
   "cell_type": "code",
   "execution_count": 17,
   "metadata": {
    "ExecuteTime": {
     "end_time": "2020-02-21T00:26:52.265286Z",
     "start_time": "2020-02-21T00:26:52.262041Z"
    }
   },
   "outputs": [],
   "source": [
    "from django.db import connection\n",
    "from django.contrib.auth.models import User\n",
    "from myboard import models"
   ]
  },
  {
   "cell_type": "code",
   "execution_count": 3,
   "metadata": {
    "ExecuteTime": {
     "end_time": "2020-02-21T00:16:18.946552Z",
     "start_time": "2020-02-21T00:16:18.942563Z"
    }
   },
   "outputs": [],
   "source": [
    "data = User.objects.all()"
   ]
  },
  {
   "cell_type": "code",
   "execution_count": 6,
   "metadata": {
    "ExecuteTime": {
     "end_time": "2020-02-21T00:17:09.582771Z",
     "start_time": "2020-02-21T00:17:09.573794Z"
    }
   },
   "outputs": [],
   "source": [
    "# model이 정확히 어떤 클래스 혹은 함수를 가지고 있는지 보고 싶으면 ?? 이용하자\n",
    "models.Board??"
   ]
  },
  {
   "cell_type": "code",
   "execution_count": 8,
   "metadata": {
    "ExecuteTime": {
     "end_time": "2020-02-21T00:19:40.052822Z",
     "start_time": "2020-02-21T00:19:40.047885Z"
    }
   },
   "outputs": [
    {
     "data": {
      "text/plain": [
       "{'sql': 'SELECT \"auth_user\".\"id\", \"auth_user\".\"password\", \"auth_user\".\"last_login\", \"auth_user\".\"is_superuser\", \"auth_user\".\"username\", \"auth_user\".\"first_name\", \"auth_user\".\"last_name\", \"auth_user\".\"email\", \"auth_user\".\"is_staff\", \"auth_user\".\"is_active\", \"auth_user\".\"date_joined\" FROM \"auth_user\" LIMIT 21',\n",
       " 'time': '0.000'}"
      ]
     },
     "execution_count": 8,
     "metadata": {},
     "output_type": "execute_result"
    }
   ],
   "source": [
    "# 실행한 query의 history를 보여주는데 시간순대로 index를 매긴다. / -1은 가장 최근을 의미\n",
    "# connection.queries[0]\n",
    "connection.queries[-1]"
   ]
  },
  {
   "cell_type": "code",
   "execution_count": 9,
   "metadata": {
    "ExecuteTime": {
     "end_time": "2020-02-21T00:20:38.587295Z",
     "start_time": "2020-02-21T00:20:38.584325Z"
    }
   },
   "outputs": [
    {
     "data": {
      "text/plain": [
       "<RawQuerySet: SELECT max(age) FROM myapp_user>"
      ]
     },
     "execution_count": 9,
     "metadata": {},
     "output_type": "execute_result"
    }
   ],
   "source": [
    "# 바람직한 방법은 아님.... use랑 전혀 상관없는 sql문장이 옴... 다음 셀의 방법이 더 정상적임\n",
    "User.objects.raw('SELECT max(age) FROM myapp_user')"
   ]
  },
  {
   "cell_type": "code",
   "execution_count": 10,
   "metadata": {
    "ExecuteTime": {
     "end_time": "2020-02-21T00:21:46.330383Z",
     "start_time": "2020-02-21T00:21:46.326360Z"
    }
   },
   "outputs": [
    {
     "name": "stdout",
     "output_type": "stream",
     "text": [
      "70\n"
     ]
    }
   ],
   "source": [
    "cursor = connection.cursor()\n",
    "cursor.execute(\"SELECT max(age) from myapp_user\") # sql문장의 결과값을 실행시킴.. but 바로 가져오진 않음.. 그래서 밑의 줄이 더 필요\n",
    "max_value = cursor.fetchone()[0]  # 데이터 하나만을 가져오는 것이 fetchone\n",
    "\n",
    "print(max_value)"
   ]
  },
  {
   "cell_type": "code",
   "execution_count": 26,
   "metadata": {
    "ExecuteTime": {
     "end_time": "2020-02-21T00:29:30.108793Z",
     "start_time": "2020-02-21T00:29:30.102801Z"
    }
   },
   "outputs": [
    {
     "name": "stdout",
     "output_type": "stream",
     "text": [
      "<class 'tuple'>\n"
     ]
    },
    {
     "data": {
      "text/plain": [
       "(1,\n",
       " '정남호ㅋㅋ',\n",
       " 'ㅋㅋㅋㅋㅋㅋㅋㅋㅋㅋㅋㅋㅋㅋㅋㅋㅋㅋㅋㅋㅋㅋㅋㅋㅋㅋㅋㅋㅋㅋㅋㅋㅋㅋㅋㅋㅋㅋㅋㅋㅋㅋㅋㅋㅋㅋㅋㅋㅋㅋ',\n",
       " datetime.datetime(2020, 2, 19, 5, 33, 15, 546472),\n",
       " 36,\n",
       " None,\n",
       " 'data',\n",
       " 1)"
      ]
     },
     "execution_count": 26,
     "metadata": {},
     "output_type": "execute_result"
    }
   ],
   "source": [
    "cursor = connection.cursor()\n",
    "cursor.execute(\"SELECT * from myboard_board\")   # *(all을 의미)는 보안에 취약해서 db의 사용의미를 퇴색시킴....\n",
    "results = cursor.fetchall()  # 모든 데이터를 다 가져오는 것이 fetchall()  # 그렇기 때문에 데이터가 적을 때 사용해야 한다.\n",
    "\n",
    "print(type(results[0]))\n",
    "results[0]"
   ]
  },
  {
   "cell_type": "code",
   "execution_count": null,
   "metadata": {},
   "outputs": [],
   "source": [
    "# 위의 셀에서 *의 단점 때문에 아래처럼 id, title, cnt만 따로 써서 보여주자\n",
    "cursor = connection.cursor()\n",
    "cursor.execute(\"SELECT id, title, cnt from myboard_board\")\n",
    "results = cursor.fetchall()  # 모든 데이터를 다 가져오는 것이 fetchall()  # 그렇기 때문에 데이터가 적을 때 사용해야 한다.\n",
    "\n",
    "print(type(results[0]))\n",
    "results[0]"
   ]
  },
  {
   "cell_type": "markdown",
   "metadata": {},
   "source": [
    "### 1. DB Browser for SQLite3를 열어보자\n",
    "이후 `데이터 베이스 열기` 탭을 누르고 Web>mysite>db.sqlite3를 열어서 실행시키고 `데이터보기`탭에서 **myboard_board**을 보자"
   ]
  },
  {
   "cell_type": "markdown",
   "metadata": {},
   "source": [
    "---"
   ]
  },
  {
   "cell_type": "markdown",
   "metadata": {},
   "source": [
    "## username이 'home'인 사람이 쓴 모든 글을 보는 방법"
   ]
  },
  {
   "cell_type": "markdown",
   "metadata": {},
   "source": [
    "2. 방법1) `SQL 실행`탭으로 가서 다음 셀과 같이 입력해보고 결과를 출력해보자. "
   ]
  },
  {
   "cell_type": "code",
   "execution_count": null,
   "metadata": {},
   "outputs": [],
   "source": [
    "SELECT id, title, cnt\n",
    "from myboard_board\n",
    "where author_id = (\n",
    "SELECT id from auth_user where username ='home')"
   ]
  },
  {
   "cell_type": "markdown",
   "metadata": {},
   "source": [
    "3. 방법2) **Join**을 통해서 붙여넣는 방법\n",
    "    -  `SQL 실행`탭으로 가서 다음 셀과 같이 입력해보고 결과를 출력해보자.\n",
    "    - 이 방법은 Username을 직접 알려주기 때문에 더 <font color=red>**좋은**</font> 방법이다."
   ]
  },
  {
   "cell_type": "code",
   "execution_count": null,
   "metadata": {},
   "outputs": [],
   "source": [
    "SELECT b.id, title, cnt, username\n",
    "from myboard_board b, auth_user u\n",
    "where b.author_id = u.id and username='home'"
   ]
  },
  {
   "cell_type": "markdown",
   "metadata": {},
   "source": [
    "------"
   ]
  },
  {
   "cell_type": "code",
   "execution_count": 135,
   "metadata": {
    "ExecuteTime": {
     "end_time": "2020-02-21T03:36:53.026689Z",
     "start_time": "2020-02-21T03:36:53.021702Z"
    }
   },
   "outputs": [],
   "source": [
    "sql = \"\"\"\n",
    "SELECT b.id, title, cnt, username\n",
    "from myboard_board b, auth_user u\n",
    "where b.author_id = u.id and username='home'\n",
    "\"\"\"\n",
    "\n",
    "cursor = connection.cursor()\n",
    "cursor.execute(sql)\n",
    "r = cursor.fetchone()[0]"
   ]
  },
  {
   "cell_type": "code",
   "execution_count": 136,
   "metadata": {
    "ExecuteTime": {
     "end_time": "2020-02-21T03:36:53.474601Z",
     "start_time": "2020-02-21T03:36:53.471608Z"
    }
   },
   "outputs": [
    {
     "name": "stdout",
     "output_type": "stream",
     "text": [
      "1\n"
     ]
    }
   ],
   "source": [
    "print(r)"
   ]
  },
  {
   "cell_type": "code",
   "execution_count": 137,
   "metadata": {
    "ExecuteTime": {
     "end_time": "2020-02-21T03:36:53.979987Z",
     "start_time": "2020-02-21T03:36:53.976043Z"
    }
   },
   "outputs": [
    {
     "name": "stdout",
     "output_type": "stream",
     "text": [
      "(2, 'Benope', 6, 'home')\n"
     ]
    }
   ],
   "source": [
    "r = cursor.fetchone()\n",
    "print(r)"
   ]
  },
  {
   "cell_type": "code",
   "execution_count": 138,
   "metadata": {
    "ExecuteTime": {
     "end_time": "2020-02-21T03:36:54.443345Z",
     "start_time": "2020-02-21T03:36:54.439356Z"
    }
   },
   "outputs": [
    {
     "name": "stdout",
     "output_type": "stream",
     "text": [
      "[(3, '까만색칠판', 2, 'home'), (5, '카페테리아', 2, 'home'), (12, 'asfasfasdfasfdas', 0, 'home'), (13, 'ㄱㄱㄱㄱㄱㄱㄱ', 0, 'home'), (14, 'postit', 0, 'home'), (15, 'adfasfasfasfasdfasfd', 0, 'home'), (16, '1254456956945735', 0, 'home')]\n"
     ]
    }
   ],
   "source": [
    "# 커서는 마지막에 가져올 것이 없다!\n",
    "r = cursor.fetchall()\n",
    "print(r)"
   ]
  },
  {
   "cell_type": "markdown",
   "metadata": {},
   "source": [
    "#### 전부다 보고 싶다면 아래 셀처럼 해야함"
   ]
  },
  {
   "cell_type": "code",
   "execution_count": 139,
   "metadata": {
    "ExecuteTime": {
     "end_time": "2020-02-21T03:36:55.612445Z",
     "start_time": "2020-02-21T03:36:55.607445Z"
    }
   },
   "outputs": [
    {
     "name": "stdout",
     "output_type": "stream",
     "text": [
      "(1, '정남호ㅋㅋ', 36, 'home')\n",
      "(2, 'Benope', 6, 'home')\n",
      "(3, '까만색칠판', 2, 'home')\n",
      "(5, '카페테리아', 2, 'home')\n",
      "(12, 'asfasfasdfasfdas', 0, 'home')\n",
      "(13, 'ㄱㄱㄱㄱㄱㄱㄱ', 0, 'home')\n",
      "(14, 'postit', 0, 'home')\n",
      "(15, 'adfasfasfasfasdfasfd', 0, 'home')\n",
      "(16, '1254456956945735', 0, 'home')\n",
      "\n",
      "\n",
      "정남호ㅋㅋ\n",
      "Benope\n",
      "까만색칠판\n",
      "카페테리아\n",
      "asfasfasdfasfdas\n",
      "ㄱㄱㄱㄱㄱㄱㄱ\n",
      "postit\n",
      "adfasfasfasfasdfasfd\n",
      "1254456956945735\n"
     ]
    }
   ],
   "source": [
    "cursor.execute(sql) # connection.cursor는 이미 위에서 한 번 선언해서 안해도 됌\n",
    "result = cursor.fetchall() # 이렇게 미리 result를 지정하면 커서의 위치가 처음으로 못 박기 때문에 아래처럼 모든 record들을 언제나 불러올 수 있다.\n",
    "for r in result :\n",
    "    print(r)\n",
    "print('\\n')\n",
    "for r in result :\n",
    "    print(r[1])"
   ]
  },
  {
   "cell_type": "markdown",
   "metadata": {},
   "source": [
    "---"
   ]
  },
  {
   "cell_type": "code",
   "execution_count": 140,
   "metadata": {
    "ExecuteTime": {
     "end_time": "2020-02-21T03:36:59.532610Z",
     "start_time": "2020-02-21T03:36:59.527624Z"
    }
   },
   "outputs": [
    {
     "data": {
      "text/plain": [
       "(('id', None, None, None, None, None, None),\n",
       " ('title', None, None, None, None, None, None),\n",
       " ('cnt', None, None, None, None, None, None),\n",
       " ('username', None, None, None, None, None, None))"
      ]
     },
     "execution_count": 140,
     "metadata": {},
     "output_type": "execute_result"
    }
   ],
   "source": [
    "cursor.description"
   ]
  },
  {
   "cell_type": "code",
   "execution_count": 141,
   "metadata": {
    "ExecuteTime": {
     "end_time": "2020-02-21T03:37:02.140088Z",
     "start_time": "2020-02-21T03:37:02.135102Z"
    }
   },
   "outputs": [
    {
     "name": "stdout",
     "output_type": "stream",
     "text": [
      "<zip object at 0x0000025772351548>\n",
      "{'a': 1, 'b': 2}\n"
     ]
    }
   ],
   "source": [
    "#  연습!!\n",
    "print(zip(['a','b'], (1,2))) # 이건 zip object로만 나옴.... 결과물을 출력하려면 list, dict, set와 같은 것으로 묶어야 함\n",
    "d = dict( zip(['a','b'], (1,2) ) )\n",
    "print(d)"
   ]
  },
  {
   "cell_type": "code",
   "execution_count": 142,
   "metadata": {
    "ExecuteTime": {
     "end_time": "2020-02-21T03:37:04.610867Z",
     "start_time": "2020-02-21T03:37:04.606904Z"
    }
   },
   "outputs": [
    {
     "name": "stdout",
     "output_type": "stream",
     "text": [
      "{'id': 1, 'title': '정남호ㅋㅋ', 'cnt': 36, 'username': 'home'}\n"
     ]
    }
   ],
   "source": [
    "d = dict(zip(['id', 'title', 'cnt', 'username'], result[0]))\n",
    "print(d)"
   ]
  },
  {
   "cell_type": "code",
   "execution_count": 145,
   "metadata": {
    "ExecuteTime": {
     "end_time": "2020-02-21T03:38:25.201752Z",
     "start_time": "2020-02-21T03:38:25.198759Z"
    }
   },
   "outputs": [],
   "source": [
    "def dictfetchall(cursor):\n",
    "    desc = cursor.description\n",
    "    return[\n",
    "        dict(zip([col[0] for col in desc], row )) \n",
    "        for row in cursor.fetchall()\n",
    "    ]"
   ]
  },
  {
   "cell_type": "code",
   "execution_count": 146,
   "metadata": {
    "ExecuteTime": {
     "end_time": "2020-02-21T03:38:26.027041Z",
     "start_time": "2020-02-21T03:38:26.023068Z"
    }
   },
   "outputs": [
    {
     "name": "stdout",
     "output_type": "stream",
     "text": [
      "정남호ㅋㅋ\n"
     ]
    }
   ],
   "source": [
    "cursor = connection.cursor()\n",
    "cursor.execute('SELECT * from myboard_board')\n",
    "d = dictfetchall(cursor)\n",
    "print(d[0][\"title\"])"
   ]
  },
  {
   "cell_type": "markdown",
   "metadata": {},
   "source": [
    "---"
   ]
  },
  {
   "cell_type": "markdown",
   "metadata": {},
   "source": [
    "# Exercise1\n",
    "1. 게시판 출력(category, username, page) --> 리스트만 출력하면 됌\n",
    "2. page navigator 안써도 됌\n",
    "3. models.py에 있는 클래스 쓰지 말야야 하고, views.py에 있는 함수는 이용해도 파일 전체를 이용하면 안됌"
   ]
  },
  {
   "cell_type": "code",
   "execution_count": 117,
   "metadata": {
    "ExecuteTime": {
     "end_time": "2020-02-21T02:24:07.694060Z",
     "start_time": "2020-02-21T02:24:07.691040Z"
    }
   },
   "outputs": [],
   "source": [
    "from django.db import connection\n",
    "from django.test import RequestFactory\n",
    "from django.db import models\n",
    "\n",
    "rf = RequestFactory()\n",
    "\n"
   ]
  },
  {
   "cell_type": "code",
   "execution_count": 120,
   "metadata": {
    "ExecuteTime": {
     "end_time": "2020-02-21T02:25:23.603548Z",
     "start_time": "2020-02-21T02:25:23.599556Z"
    }
   },
   "outputs": [],
   "source": [
    "# 가짜 URL\n",
    "url = '/myboard/ajaxget?page=1&category=\"common\"&username=\"home\"'\n",
    "request = rf.get(url)"
   ]
  },
  {
   "cell_type": "code",
   "execution_count": 121,
   "metadata": {
    "ExecuteTime": {
     "end_time": "2020-02-21T02:25:24.628810Z",
     "start_time": "2020-02-21T02:25:24.622826Z"
    },
    "scrolled": true
   },
   "outputs": [
    {
     "name": "stdout",
     "output_type": "stream",
     "text": [
      "1\n",
      "\"common\"\n",
      "\"home\"\n"
     ]
    }
   ],
   "source": [
    "page = request.GET.get(\"page\", 1)\n",
    "print(page)\n",
    "category = request.GET.get(\"category\", \"etc\")\n",
    "print(category)\n",
    "username = request.GET.get(\"username\",'lee')\n",
    "print(username)"
   ]
  },
  {
   "cell_type": "code",
   "execution_count": null,
   "metadata": {
    "ExecuteTime": {
     "end_time": "2020-02-21T02:11:59.703444Z",
     "start_time": "2020-02-21T02:11:59.687487Z"
    }
   },
   "outputs": [],
   "source": [
    "# datas = models.Board.objects.all().filter(category='common', page=2, username = 'home')\n",
    "# page = int(page)\n",
    "# print(datas)"
   ]
  },
  {
   "cell_type": "code",
   "execution_count": 133,
   "metadata": {
    "ExecuteTime": {
     "end_time": "2020-02-21T02:37:58.043602Z",
     "start_time": "2020-02-21T02:37:58.038598Z"
    }
   },
   "outputs": [
    {
     "name": "stdout",
     "output_type": "stream",
     "text": [
      "1\n",
      "\n",
      "\n",
      "\"common\"\n",
      "\n",
      "\n",
      "\"home\"\n"
     ]
    }
   ],
   "source": [
    "url = '/myboard/ajaxget?page=1&category=\"common\"&username=\"home\"'\n",
    "request = rf.get(url)\n",
    "\n",
    "page = request.GET.get(\"page\", 1)\n",
    "print(page)\n",
    "print('\\n')\n",
    "\n",
    "category = request.GET.get(\"category\", \"etc\")\n",
    "print(category)\n",
    "print('\\n')\n",
    "\n",
    "username = request.GET.get(\"username\",'lee')\n",
    "print(username)"
   ]
  },
  {
   "cell_type": "code",
   "execution_count": 149,
   "metadata": {
    "ExecuteTime": {
     "end_time": "2020-02-21T04:27:55.587665Z",
     "start_time": "2020-02-21T04:27:55.583677Z"
    }
   },
   "outputs": [],
   "source": [
    "category = 'common'\n",
    "page = 2\n",
    "username = 'home'\n",
    "sql = f\"\"\"\n",
    "SELECT b.id, title, cnt, username\n",
    "from myboard_board b, auth_user u\n",
    "where b.author_id = u.id and username='{username}' and category='{category}'\n",
    "\"\"\"\n",
    "\n",
    "# print(sql)\n",
    "\n",
    "cursor = connection.cursor()\n",
    "cursor.execute(sql)\n",
    "\n",
    "data = dictfetchall(cursor)\n",
    "data = data[(page-1)*3: (page*3)]\n",
    "\n",
    "context = {\"data\":data}\n",
    "\n",
    "return render(request, 'myboard/list.html', context)"
   ]
  },
  {
   "cell_type": "code",
   "execution_count": 152,
   "metadata": {
    "ExecuteTime": {
     "end_time": "2020-02-21T04:29:46.851196Z",
     "start_time": "2020-02-21T04:29:46.846253Z"
    }
   },
   "outputs": [],
   "source": [
    "context = {\"data\":data}"
   ]
  },
  {
   "cell_type": "code",
   "execution_count": null,
   "metadata": {},
   "outputs": [],
   "source": []
  },
  {
   "cell_type": "code",
   "execution_count": null,
   "metadata": {},
   "outputs": [],
   "source": []
  },
  {
   "cell_type": "code",
   "execution_count": null,
   "metadata": {},
   "outputs": [],
   "source": []
  },
  {
   "cell_type": "code",
   "execution_count": 153,
   "metadata": {
    "ExecuteTime": {
     "end_time": "2020-02-21T04:29:59.926488Z",
     "start_time": "2020-02-21T04:29:59.919489Z"
    }
   },
   "outputs": [
    {
     "name": "stdout",
     "output_type": "stream",
     "text": [
      "<JsonResponse status_code=200, \"application/json\">\n",
      "{\"datas\": [{\"pk\": 3, \"title\": \"까만색칠판\", \"cnt\": 2}, {\"pk\": 12, \"title\": \"asfasfasdfasfdas\", \"cnt\": 0}, {\"pk\": 13, \"title\": \"ㄱㄱㄱㄱㄱㄱㄱ\", \"cnt\": 0}]}\n"
     ]
    }
   ],
   "source": [
    "from myboard import views\n",
    "\n",
    "response = views.ajaxget(request)\n",
    "print(response)\n",
    "print(response.content.decode())"
   ]
  }
 ],
 "metadata": {
  "kernelspec": {
   "display_name": "Django Shell-Plus",
   "language": "python",
   "name": "django_extensions"
  },
  "language_info": {
   "codemirror_mode": {
    "name": "ipython",
    "version": 3
   },
   "file_extension": ".py",
   "mimetype": "text/x-python",
   "name": "python",
   "nbconvert_exporter": "python",
   "pygments_lexer": "ipython3",
   "version": "3.6.10"
  },
  "varInspector": {
   "cols": {
    "lenName": 16,
    "lenType": 16,
    "lenVar": 40
   },
   "kernels_config": {
    "python": {
     "delete_cmd_postfix": "",
     "delete_cmd_prefix": "del ",
     "library": "var_list.py",
     "varRefreshCmd": "print(var_dic_list())"
    },
    "r": {
     "delete_cmd_postfix": ") ",
     "delete_cmd_prefix": "rm(",
     "library": "var_list.r",
     "varRefreshCmd": "cat(var_dic_list()) "
    }
   },
   "types_to_exclude": [
    "module",
    "function",
    "builtin_function_or_method",
    "instance",
    "_Feature"
   ],
   "window_display": false
  }
 },
 "nbformat": 4,
 "nbformat_minor": 4
}
