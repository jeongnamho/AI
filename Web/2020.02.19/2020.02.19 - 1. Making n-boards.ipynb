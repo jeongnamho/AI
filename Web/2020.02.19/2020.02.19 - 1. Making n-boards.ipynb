{
 "cells": [
  {
   "cell_type": "markdown",
   "metadata": {
    "ExecuteTime": {
     "end_time": "2020-02-19T04:31:10.888615Z",
     "start_time": "2020-02-19T04:31:10.883629Z"
    }
   },
   "source": [
    "1. Web\\mysite에서 python manage.py startapp myboard 실행(py36가상환경 하에서)"
   ]
  },
  {
   "cell_type": "markdown",
   "metadata": {},
   "source": [
    "2. Web/mysite/blog에서 admin.py, forms.py, models.py, urls.py, views.py 등을 복사해서 Web/mysite/myboard 디렉토리에 붙여넣기 한다. (나중에 수정해서 쓰게)"
   ]
  },
  {
   "cell_type": "markdown",
   "metadata": {},
   "source": [
    "3. mysite>templates에서 myboard 폴더를 만들고 base.html, detail.html, edit.html, list.html, login.html을 복사해서 붙여넣기 "
   ]
  },
  {
   "cell_type": "markdown",
   "metadata": {},
   "source": [
    "4. mysite>mysite>settings.py 에서 INSTALLED_APPS에  'myboard'추가\n",
    "\n",
    "\n",
    "\n",
    "5. mysite>mysite>urls.py에서 path 추가\n",
    "    - path('myboard/', include('myboard.urls'))\n",
    "    \n",
    "    \n",
    "6. mysite>myboard>models.py를 다음 셀과 같이 작성"
   ]
  },
  {
   "cell_type": "code",
   "execution_count": null,
   "metadata": {},
   "outputs": [],
   "source": [
    "from django.db import models\n",
    "from django.utils import timezone\n",
    "\n",
    "\n",
    "# Create your models here.\n",
    "\n",
    "class Board(models.Model):\n",
    "    author = models.ForeignKey('auth.User', on_delete=models.CASCADE)  # 유저를 지울때 그 유저에 대한 정보를 다같이 지우라는 뜻\n",
    "    title = models.CharField(max_length=200)\n",
    "    text = models.TextField()  # 글자수에 제한 없는 텍스트\n",
    "    created_date = models.DateTimeField(\n",
    "        default=timezone.now)  # 날짜와 시간\n",
    "    cnt=models.IntegerField(default=0)\n",
    "    image = models.CharField(max_length=200, null=True, blank=True)\n",
    "    category = models.CharField(max_length = 10, default='common')\n",
    "\n",
    "\n",
    "    def __str__(self):\n",
    "        return self.title"
   ]
  },
  {
   "cell_type": "markdown",
   "metadata": {},
   "source": [
    "7. mysite>myboard>admins.py를 다음 셀과 같이 수정"
   ]
  },
  {
   "cell_type": "code",
   "execution_count": null,
   "metadata": {},
   "outputs": [],
   "source": [
    "from django.contrib import admin\n",
    "from . import models\n",
    "\n",
    "# Register your models here.\n",
    "\n",
    "admin.site.register(Board)"
   ]
  },
  {
   "cell_type": "markdown",
   "metadata": {},
   "source": [
    "8. mysite>myboard>forms.py를 다음 셀과 같이 수정"
   ]
  },
  {
   "cell_type": "code",
   "execution_count": null,
   "metadata": {},
   "outputs": [],
   "source": [
    "from django.forms import ValidationError\n",
    "from django import forms\n",
    "from . import models\n",
    "\n",
    "\n",
    "def validator(value) :\n",
    "    if len(value) < 5 : raise  ValidationError(\"길이가 너무 짧아요\");\n",
    "\n",
    "class BoardForm(forms.ModelForm):\n",
    "    class Meta:\n",
    "        model = models.Board\n",
    "        fields = ['title', 'text', 'category']\n",
    "\n",
    "    def __init__(self, *args, **kwargs):\n",
    "        super(BoardForm, self).__init__(*args, **kwargs)\n",
    "        self.fields['title'].validators = [validator]"
   ]
  },
  {
   "cell_type": "markdown",
   "metadata": {},
   "source": [
    "9. mysite>myboard>urls.py를 다음 셀과 같이 수정"
   ]
  },
  {
   "cell_type": "code",
   "execution_count": null,
   "metadata": {},
   "outputs": [],
   "source": [
    "from django.urls import path\n",
    "from . import views\n",
    "\n",
    "urlpatterns = [\n",
    "    path('<int:pk>/<mode>/', views.BoardView.as_view(), name='myboard'),\n",
    "]"
   ]
  },
  {
   "cell_type": "markdown",
   "metadata": {},
   "source": [
    "10. mysite>myboard>views.py를 다음과 같이 수정한다."
   ]
  },
  {
   "cell_type": "code",
   "execution_count": null,
   "metadata": {},
   "outputs": [],
   "source": [
    "from django.shortcuts import render, get_object_or_404,redirect\n",
    "from django.http import HttpResponse\n",
    "from django.views.generic import View\n",
    "from django.contrib.auth.models import User\n",
    "from . import forms\n",
    "from . import models\n",
    "\n",
    "\"\"\"\n",
    "def list(request) :\n",
    "    username = request.session[\"username\"]\n",
    "    user = User.objects.get(username=username)\n",
    "    data = models.Post.objects.all().filter(author=user)\n",
    "    context = {\"data\":data, \"username\":username}\n",
    "    return render(request, \"blog/list.html\", context)\n",
    "\n",
    "def detail(request, pk) :\n",
    "    p = get_object_or_404(models.Post, pk=pk)\n",
    "    return render(request, \"blog/detail.html\", {\"d\":p})\n",
    "\"\"\"\n",
    "\n",
    "\n",
    "class BoardView(View) :\n",
    "    def get(self, request, pk, mode):\n",
    "        # get 요청\n",
    "        # 0/list -> 리스트 출력\n",
    "        # 5/detail -> 5번 post를 보여줘\n",
    "        # 0/add -> 신규 데이터 작성 -> post 발생\n",
    "        # 5/edit -> 5번 post 수정\n",
    "        if mode == \"add\" :\n",
    "            form = forms.BoardForm()\n",
    "        elif mode == \"list\" :\n",
    "            username = request.session[\"username\"]\n",
    "            user = User.objects.get(username=username)\n",
    "            data = models.Board.objects.all().filter(author=user)\n",
    "            context = {\"data\": data, \"username\": username}\n",
    "            return render(request, \"myboard/list.html\", context)\n",
    "        elif mode == \"detail\" :\n",
    "            p = get_object_or_404(models.Board, pk=pk)\n",
    "            p.cnt += 1\n",
    "            p.save()\n",
    "            return render(request, \"myboard/detail.html\", {\"d\": p})\n",
    "        elif mode == \"edit\" :\n",
    "            post = get_object_or_404(models.Board, pk=pk)\n",
    "            form = forms.BoardForm(instance = post)\n",
    "        else :\n",
    "            return HttpResponse(\"error page\")\n",
    "\n",
    "        return render(request, \"myboard/edit.html\", {\"form\":form})\n",
    "\n",
    "\n",
    "    def post(self, request, pk, mode):\n",
    "        username = request.session[\"username\"]\n",
    "        user = User.objects.get(username=username)\n",
    "\n",
    "        if pk == 0:\n",
    "            form = forms.BoardForm(request.POST)\n",
    "        else:\n",
    "            post = get_object_or_404(models.Board, pk=pk)\n",
    "            form = forms.BoardForm(request.POST, instance=post)\n",
    "\n",
    "        if form.is_valid():\n",
    "            post = form.save(commit=False)\n",
    "            if pk == 0:\n",
    "                post.author = user\n",
    "            post.save()\n",
    "            return redirect(\"myboard\", 0, 'list')\n",
    "        return render(request, \"myboard/edit.html\", {\"form\": form})\n",
    "\n",
    "\n",
    "class LoginView(View) :\n",
    "    def get(self, request):\n",
    "        return render(request, \"myboard/login.html\")\n",
    "\n",
    "    def post(self, request):\n",
    "        username = request.POST.get(\"username\")\n",
    "        password = request.POST.get(\"password\")\n",
    "\n",
    "        user = authenticate(username=username, password=password)\n",
    "        if user == None :\n",
    "            return redirect(\"login\")\n",
    "        request.session[\"username\"] = username\n",
    "        return redirect(\"list\")"
   ]
  },
  {
   "cell_type": "markdown",
   "metadata": {},
   "source": [
    "10. 수정 다 하다고 \n",
    "    - python manage.py makemigrations\n",
    "    - python manage.py migrate 실행"
   ]
  },
  {
   "cell_type": "markdown",
   "metadata": {},
   "source": [
    "11. mysite>templates>myboard>edit.html을 다음과 같이 수정"
   ]
  },
  {
   "cell_type": "code",
   "execution_count": null,
   "metadata": {},
   "outputs": [],
   "source": [
    "{% extends 'blog/base.html' %}\n",
    "\n",
    "게시물 보기 <br>\n",
    "\n",
    "{% block content %}\n",
    "\n",
    "\n",
    "    {{d.title}}  <br>\n",
    "    {{d.text|linebreaks}}    <!--'|linebreaks' : enter를 인식 못해서 이걸 자동적으로 <br>로 바꿔줌-->\n",
    "\n",
    "    <a href=\"{% url 'myboard' d.pk 'edit' %}\">수정</a>\n",
    "{% endblock %}\n",
    "\n"
   ]
  },
  {
   "cell_type": "markdown",
   "metadata": {},
   "source": [
    "12. mysite>templates>myboard>list.html를 다음과 같이 수정"
   ]
  },
  {
   "cell_type": "code",
   "execution_count": null,
   "metadata": {},
   "outputs": [],
   "source": [
    "{% extends 'myboard/base.html' %}   <!-- 파이썬에서 import 하는 개념이라고 생각하면 됌-->\n",
    "\n",
    "{% block content %}\n",
    "<a href = \"{% url 'myboard' 0 'add'%}\">Add</a> <br>\n",
    "{% for d in data %}\n",
    "<a href=\"{% url 'myboard' d.pk 'detail' %}\"> {{d.title}} </a> <br>\n",
    "{% endfor%}\n",
    "\n",
    "{% endblock %}\n",
    "\n"
   ]
  },
  {
   "cell_type": "code",
   "execution_count": null,
   "metadata": {},
   "outputs": [],
   "source": []
  },
  {
   "cell_type": "code",
   "execution_count": null,
   "metadata": {},
   "outputs": [],
   "source": []
  },
  {
   "cell_type": "code",
   "execution_count": null,
   "metadata": {},
   "outputs": [],
   "source": []
  },
  {
   "cell_type": "code",
   "execution_count": null,
   "metadata": {},
   "outputs": [],
   "source": []
  }
 ],
 "metadata": {
  "kernelspec": {
   "display_name": "Python 3",
   "language": "python",
   "name": "python3"
  },
  "language_info": {
   "codemirror_mode": {
    "name": "ipython",
    "version": 3
   },
   "file_extension": ".py",
   "mimetype": "text/x-python",
   "name": "python",
   "nbconvert_exporter": "python",
   "pygments_lexer": "ipython3",
   "version": "3.7.5"
  },
  "varInspector": {
   "cols": {
    "lenName": 16,
    "lenType": 16,
    "lenVar": 40
   },
   "kernels_config": {
    "python": {
     "delete_cmd_postfix": "",
     "delete_cmd_prefix": "del ",
     "library": "var_list.py",
     "varRefreshCmd": "print(var_dic_list())"
    },
    "r": {
     "delete_cmd_postfix": ") ",
     "delete_cmd_prefix": "rm(",
     "library": "var_list.r",
     "varRefreshCmd": "cat(var_dic_list()) "
    }
   },
   "types_to_exclude": [
    "module",
    "function",
    "builtin_function_or_method",
    "instance",
    "_Feature"
   ],
   "window_display": false
  }
 },
 "nbformat": 4,
 "nbformat_minor": 4
}
