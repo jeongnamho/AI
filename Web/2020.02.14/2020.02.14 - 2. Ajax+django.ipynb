{
 "cells": [
  {
   "cell_type": "markdown",
   "metadata": {},
   "source": [
    "1. activate py36 으로 ㄱㄱ\n",
    "\n",
    "\n",
    "2. django-admin startproject mysite(**어제 만들었던 것에 할거면 안해도 됌**)\n",
    "\n",
    "\n",
    "3. cd\\AI\\Web\\mysite 후 python manage.py startapp ajax (**ajax라는 폴더 만들어짐**--> **dir**을 콘솔창에 입력해서 확인가능)\n",
    "\n",
    "\n",
    "4. mysite>ajax가서 urls.py 파일을 만들어서 다음 셀을 입력"
   ]
  },
  {
   "cell_type": "code",
   "execution_count": null,
   "metadata": {},
   "outputs": [],
   "source": [
    "from django.urls import path\n",
    "from . import views\n",
    " \n",
    "urlpatterns = [\n",
    "    path('', views.index),\n",
    "    path('calcform', views.calcForm),\n",
    "]"
   ]
  },
  {
   "cell_type": "markdown",
   "metadata": {},
   "source": [
    "5. mysite>mysite>urls.py로 가서 \n",
    "path(\"ajax/', include(\"ajax.urls\")) 를 추가한다.\n",
    "\n",
    "\n",
    "6. mysite>ajax>views.py 파일을 다음 셀의 내용으로 수정한다."
   ]
  },
  {
   "cell_type": "code",
   "execution_count": null,
   "metadata": {},
   "outputs": [],
   "source": [
    "from django.shortcuts import render\n",
    "from django.http import HttpResponse\n",
    "\n",
    "\n",
    "def index(request) :\n",
    "    return HttpResponse(\"Hello ajax~~~\")\n",
    "\n",
    "def calcForm(request) :\n",
    "    return render(request, \"ajax/calc.html\")"
   ]
  },
  {
   "cell_type": "markdown",
   "metadata": {},
   "source": [
    "7. python manage.py runserver 실행\n",
    "\n",
    "\n",
    "8. mysite>templates>ajax에서 calc.html이란 파일을 만들고 다음 셀의 내용을 넣는다.(**동기식임** -> `<form>`이 있어서)"
   ]
  },
  {
   "cell_type": "code",
   "execution_count": null,
   "metadata": {},
   "outputs": [],
   "source": [
    "<form  action=\"calc\" >\n",
    "<input type=text name=op1 id=\"op1\">  + <input type=text name=op2 id=\"op2\">\n",
    "<button id=\"btnCalc\">=</button> <input type=text name=\"result\" id=\"result\">\n",
    "</form>"
   ]
  },
  {
   "cell_type": "markdown",
   "metadata": {},
   "source": [
    "9. 127.0.0.1:8000/ajax/calcform으로 웹브라우저의 URL에 입력해서 페이지로 이동한다. 그러면 밑의 사진이 뜰것이다.(근데 첫 두개의 창에 숫자 아무렇게 넣고 등호 버튼을 누르면 오류뜸)"
   ]
  },
  {
   "attachments": {
    "3.PNG": {
     "image/png": "[encoded data removed]"
    }
   },
   "cell_type": "markdown",
   "metadata": {},
   "source": [
    "![3.PNG](attachment:3.PNG)"
   ]
  },
  {
   "cell_type": "markdown",
   "metadata": {},
   "source": [
    "### 실제로 덧셈하기\n",
    "\n",
    "10. mysite>ajax>urls.py 파일에서 path하나 더 추가한다.\n",
    "    - path('calc', views.calc)\n",
    "\n",
    "\n",
    "11. 덧셈을 실제로 하기 위해서 mysite>ajax>views.py라는 파일에 다음 함수를 하나 더 추가한다."
   ]
  },
  {
   "cell_type": "code",
   "execution_count": null,
   "metadata": {},
   "outputs": [],
   "source": [
    "def calc(request):\n",
    "    op1 = int(request.GET[\"op1\"])\n",
    "    op2 = int(request.GET[\"op2\"])\n",
    "    result = op1 + op2\n",
    "    return HttpResponse(f\"result = {result}\")"
   ]
  },
  {
   "cell_type": "markdown",
   "metadata": {},
   "source": [
    "12. 그러면 127.0.0.1:8000/ajax/calcform에서 첫 두개의 창에 숫자 아무렇게 넣고 등호 버튼을 누르면 실제로 계산이 됌을 알 수 있다.\n",
    "\n",
    "\n",
    "13. mysite>templates>ajax>calc.html파일의 내용 전체를 다음과 같이 수정한다."
   ]
  },
  {
   "cell_type": "code",
   "execution_count": null,
   "metadata": {},
   "outputs": [],
   "source": [
    "<script src=\"http://code.jquery.com/jquery-1.11.3.min.js\"></script>\n",
    "<script src=\"http://code.jquery.com/jquery-migrate-1.2.1.min.js\"></script>\n",
    "\n",
    "\n",
    "<form  action=\"calc\" >\n",
    "<input type=text name=op1 id=\"op1\" value=\"5\">  + <input type=text name=op2 id=\"op2\">\n",
    "<button id=\"btnCalc\">=</button> <input type=text name=\"result\" id=\"result\">\n",
    "</form>\n",
    "\n",
    "<script>\n",
    "     op1 = document.getElementById(\"op1\");\n",
    "     op1.value = 20;\n",
    "     alert(op1.value);\n",
    "</script>"
   ]
  },
  {
   "cell_type": "markdown",
   "metadata": {
    "ExecuteTime": {
     "end_time": "2020-02-14T02:25:55.045495Z",
     "start_time": "2020-02-14T02:25:55.040508Z"
    }
   },
   "source": [
    "14. 다시 웹브라우저의 127.0.0.1:8000/ajax/calcform에서 아무 숫자나 넣고 결과 확인해보자"
   ]
  },
  {
   "cell_type": "markdown",
   "metadata": {},
   "source": [
    "---"
   ]
  },
  {
   "cell_type": "markdown",
   "metadata": {},
   "source": [
    "## 비동기식 방식"
   ]
  },
  {
   "cell_type": "markdown",
   "metadata": {},
   "source": [
    "15. site>templates>ajax>calc.html파일의 내용 전체를 다음과 같이 수정한다."
   ]
  },
  {
   "cell_type": "code",
   "execution_count": null,
   "metadata": {},
   "outputs": [],
   "source": [
    "<script src=\"http://code.jquery.com/jquery-1.11.3.min.js\"></script>\n",
    "<script src=\"http://code.jquery.com/jquery-migrate-1.2.1.min.js\"></script>\n",
    "\n",
    "\n",
    "\n",
    "<input type=text name=op1 id=\"op1\" value=\"5\">  + <input type=text name=op2 id=\"op2\">\n",
    "<button id=\"btnCalc\">=</button> <input type=text name=\"result\" id=\"result\">\n",
    "\n",
    "\n",
    "<script>\n",
    "    /* 여긴 주석처리\n",
    "     op1 = document.getElementById(\"op1\");\n",
    "     op1.value = 20;\n",
    "     alert(op1.value);\n",
    "\n",
    "     $(\"#op1\").val(40);  #은 id를 의미, val은 value임\n",
    "     alert($(\"#op1\").val()  );\n",
    "     */\n",
    "\n",
    "     $(\"#btnCalc\").click( function() {\n",
    "        /*\n",
    "        op1 = parseInt($(\"#op1\").val());\n",
    "        op2 = parseInt($(\"#op2\").val());\n",
    "        $(\"#result\").val(op1 + op2));\n",
    "        */\n",
    "\n",
    "        var param = {op1:$(\"#op1\").val(), op2:$(\"#op2\").val()};\n",
    "        $.get(\"/ajax/calc\", param, function(data) {       // 여긴 그냥 http의 get방식으로 가져온다는 소리\n",
    "         alert(JSON.stringify(data));\n",
    "         $(\"#result\").val(data.result);\n",
    "        });\n",
    "\n",
    "      });\n",
    "</script>"
   ]
  },
  {
   "cell_type": "markdown",
   "metadata": {},
   "source": [
    "16. mysite>ajax>views.py에서 calc함수를 다음과 같이 고친다."
   ]
  },
  {
   "cell_type": "code",
   "execution_count": null,
   "metadata": {},
   "outputs": [],
   "source": [
    "def calc(request):\n",
    "    op1 = int(request.GET[\"op1\"])\n",
    "    op2 = int(request.GET[\"op2\"])\n",
    "    result = op1 + op2\n",
    "    # return HttpResponse(f\"결과 = {result}\")\n",
    "    # return HttpResponse(\"{'result':\" + str(result) + \"}\")\n",
    "    return JsonResponse({'error':0  'result':result}) # Json형태로 리턴해줌"
   ]
  },
  {
   "cell_type": "markdown",
   "metadata": {},
   "source": [
    "17. 그럼 결과를 알려주는 알림이 잠깐 뜨고 결과창에 결과도 나온다."
   ]
  },
  {
   "cell_type": "markdown",
   "metadata": {},
   "source": [
    "---"
   ]
  },
  {
   "cell_type": "markdown",
   "metadata": {
    "ExecuteTime": {
     "end_time": "2020-02-14T05:11:41.880674Z",
     "start_time": "2020-02-14T05:11:41.877747Z"
    }
   },
   "source": [
    "### 로그인 성공하면 화면 전환하고 실패하면 다시 원래 로그인 하는 페이지로 돌아가기"
   ]
  },
  {
   "cell_type": "markdown",
   "metadata": {},
   "source": [
    "18. mysite>ajax>urls.py에서 path를 추가한다.\n",
    "    - path('login', views.login)\n",
    "    \n",
    "    \n",
    "19. mysite>ajax>views.py에서 다음의 login함수를 추가한다."
   ]
  },
  {
   "cell_type": "code",
   "execution_count": null,
   "metadata": {},
   "outputs": [],
   "source": [
    "def login(request):\n",
    "    id = request.GET[\"id\"]\n",
    "    pwd = request.GET[\"pwd\"]\n",
    "    if id == pwd :\n",
    "        request.session[\"user\"] = id\n",
    "        return JsonResponse({'error':0})\n",
    "    return Jsonresponse({'error':-1, 'message':'id/pwd를 확인해주세요'})"
   ]
  },
  {
   "cell_type": "markdown",
   "metadata": {},
   "source": [
    "20. mysite>templates>ajax에서 login.html파일을 하나 만든 후, 같은 디렉토리에 있는 calc.html을 복사해서 수정을 한다. login.html파일의 내용은 다음 셀과 같다."
   ]
  },
  {
   "cell_type": "code",
   "execution_count": null,
   "metadata": {},
   "outputs": [],
   "source": [
    "<script src=\"http://code.jquery.com/jquery-1.11.3.min.js\"></script>\n",
    "<script src=\"http://code.jquery.com/jquery-migrate-1.2.1.min.js\"></script>\n",
    "\n",
    "<input type=text name=id id=\"id\">  <br>\n",
    "<input type=password name=pwd id=\"pwd\"> <br>\n",
    "<button id=\"btnCalc\">로그인</button>\n",
    "\n",
    "\n",
    "<script>\n",
    "     $(\"#btnCalc\").click( function() {\n",
    "        var param = {id:$(\"#id\").val(), pwd:$(\"#pwd\").val()};\n",
    "        $.get(\"/ajax/login\", param, function(data) {       // 여긴 그냥 http의 get방식으로 가져온다는 소리\n",
    "         console.log(JSON.stringify(data));\n",
    "         if ( data.error == 0) location.href = \"/ajax\"\n",
    "         else {\n",
    "            $(\"#id\").focus();\n",
    "            $(\"#id\").val(\"\");  // id를 리셋함\n",
    "            $(\"#pwd\").val(\"\");   // pwd를 리셋함\n",
    "            alert(data.message);\n",
    "            }\n",
    "        });\n",
    "      });\n",
    "</script>"
   ]
  },
  {
   "cell_type": "markdown",
   "metadata": {},
   "source": [
    "21. mysite>ajax>urls.py에서 path를 추가한다.\n",
    "    - path('loginform', views.loginFrom)\n",
    "    \n",
    "    \n",
    "22. mysite>ajax>views.py에서 다음 셀과 같이 loginForm이라는 함수를 추가한다."
   ]
  },
  {
   "cell_type": "code",
   "execution_count": null,
   "metadata": {},
   "outputs": [],
   "source": [
    "def loginForm(request):\n",
    "    return render(request, \"ajax/login.html\")"
   ]
  },
  {
   "cell_type": "markdown",
   "metadata": {},
   "source": [
    "23. 이제 127.0.0.1:8000/ajax/loginform에서 id=pwd인 경우와 id!=pwd인 경우를 직접 입력해서 결과를 보자"
   ]
  },
  {
   "cell_type": "markdown",
   "metadata": {},
   "source": [
    "---"
   ]
  },
  {
   "cell_type": "markdown",
   "metadata": {},
   "source": [
    "24. mysite>templates>ajax에 upload.html파일을 만들고 다음 셀과 같은 내용을 입력한다."
   ]
  },
  {
   "cell_type": "code",
   "execution_count": null,
   "metadata": {},
   "outputs": [],
   "source": [
    "<html>\n",
    "<head>\n",
    "  <meta charset=\"utf-8\">\n",
    "  <meta name=\"viewport\" content=\"width=device-width, initial-scale=1.0\">\n",
    "</head>\n",
    "\n",
    "<style>\n",
    "  .progress { position:relative; width:400px; border: 1px solid #ddd; padding: 1px; border-radius: 3px; }\n",
    "  .bar { background-color: #B4F5B4; width:0%; height:20px; border-radius: 3px; }\n",
    "  .percent { position:absolute; display:inline-block; top:3px; left:48%; }\n",
    "</style>\n",
    "\n",
    "<script src=\"https://code.jquery.com/jquery-3.3.1.min.js\"></script>\n",
    "<script src=\"http://malsup.github.com/jquery.form.js\"></script>\n",
    "\n",
    "\n",
    "\n",
    "<form action=\"upload\" enctype=\"multipart/form-data\" method=\"POST\">\n",
    "      <input name=\"title\" value=\"테스트1\"/>\n",
    "      <input name=\"contents\" value=\"테스트 자료입니다.\"/>\n",
    "      <input type=\"file\" name=\"file1\"/>\n",
    "      <input type=\"submit\" value=\"upload\">\n",
    "</form>\n",
    "\n",
    "\n",
    "\n",
    "\n",
    "<div class=\"progress\">  // progress라는 class는 논리적으로 bar라는 class와 percent라는 class를 묶어주기 위해서 있다고 생각\n",
    "    <div class=\"bar\"></div>\n",
    "    <div class=\"percent\">0%</div>\n",
    "</div>\n",
    "<div id=\"status\"></div>\n",
    "\n",
    "\n",
    "<script>\n",
    "$(function() {\n",
    "    var bar = $('.bar');  //$는 jquery라는 함수로서 .을 이용해 'bar'라는 class를 찾는 것!\n",
    "    var percent = $('.percent');  // 'percent'라는 class를 찾음\n",
    "    var status = $('#status');\n",
    "    $('form').ajaxForm({\n",
    "        beforeSend: function() {      // 보내기 전. beforeSend라는 함수 실행\n",
    "            status.empty();\n",
    "            var percentVal = '0%';\n",
    "            bar.width(percentVal);\n",
    "            percent.html(percentVal);\n",
    "        },\n",
    "        uploadProgress: function(event, position, total, percentComplete) {     //보내는 중. uploadProgress라는 함수를 실행\n",
    "            var percentVal = percentComplete + '%';\n",
    "            bar.width(percentVal);\n",
    "            percent.html(percentVal);\n",
    "        },\n",
    "        complete: function(xhr) {       // 업로드 끝났을 때. complete라는 함수 실행\n",
    "           status.html(\"성공\")\n",
    "        },\n",
    "       error:function(e){          // 업로드 실패했을 때. error라는 함수 실행\n",
    "          status.html(\"실패\")\n",
    "       }\n",
    "\n",
    "    });\n",
    "});\n",
    "\n",
    " </script>"
   ]
  },
  {
   "cell_type": "markdown",
   "metadata": {},
   "source": [
    "25. mysite>ajax>views.py에서 path 2개를 더 추가한다.\n",
    "    - path('uploadform', views.uploadForm),\n",
    "    - path('upload', views.upload)\n",
    "    \n",
    "\n",
    "26. mysite>ajax>views.py에 uploadForm, upload 두 개의 함수를 다음 셀과 같이 추가한다."
   ]
  },
  {
   "cell_type": "code",
   "execution_count": null,
   "metadata": {},
   "outputs": [],
   "source": [
    "def uploadForm(request):\n",
    "    return render(request, \"ajax/upload.html\")\n",
    "\n",
    "def upload(request) :\n",
    "\n",
    "    file = request.FILES['file1']\n",
    "    filename = file._name\n",
    "    fp = open(settings.BASE_DIR + \"/static/\" + filename, \"wb\")\n",
    "    for chunk in file.chunks() :\n",
    "        fp.write(chunk)\n",
    "    fp.close()\n",
    "    return HttpResponse(\"upload~\")"
   ]
  },
  {
   "cell_type": "markdown",
   "metadata": {},
   "source": [
    "27. 127.0.0.1:8000/ajax/uploadform에서 아무거나 업로드 해보기(세세한 부분사항은 mysite>templates>ajax>upload.html파일을 참고하며 이해하기)"
   ]
  },
  {
   "cell_type": "markdown",
   "metadata": {},
   "source": [
    "---"
   ]
  },
  {
   "cell_type": "markdown",
   "metadata": {},
   "source": [
    "28. {%crsf_token%} 이 뭘까...."
   ]
  },
  {
   "cell_type": "markdown",
   "metadata": {},
   "source": [
    "---"
   ]
  },
  {
   "cell_type": "markdown",
   "metadata": {},
   "source": [
    "## 주피터 노트북 비스무리한거 만들어보기"
   ]
  },
  {
   "cell_type": "markdown",
   "metadata": {},
   "source": [
    "29. 주피터노트북도 생각해보면 비동기방식.. mysite>templates>ajax에서 runpython.html을 만들고 다음 셀의 내용을 입력하자"
   ]
  },
  {
   "cell_type": "code",
   "execution_count": null,
   "metadata": {},
   "outputs": [],
   "source": [
    "<script src=\"http://code.jquery.com/jquery-1.11.3.min.js\"></script>\n",
    "<script src=\"http://code.jquery.com/jquery-migrate-1.2.1.min.js\"></script>\n",
    "\n",
    "\n",
    "<div>\n",
    "    <textarea rows=\"20\" cols=\"40\" id=\"code\"> </textarea>\n",
    "    <button id=\"btnRun\">실행</button>\n",
    "    <div id=\"result\">result</div>\n",
    "</div>\n",
    "\n",
    "\n",
    "<script>\n",
    "     $(\"#btnRun\").click( function() {\n",
    "           var param = {code:$(\"#code\").val()};\n",
    "           $.get(\"/ajax/runpython\", param, function(data) {\n",
    "             $(\"#result\").html(data)\n",
    "             }\n",
    "           });\n",
    "     });\n",
    "</script>"
   ]
  },
  {
   "cell_type": "markdown",
   "metadata": {},
   "source": [
    "30. mysite>templates>ajax로 직접 폴더 열고 들어가서 runpython.html을 직접 실행시켜보자"
   ]
  },
  {
   "cell_type": "markdown",
   "metadata": {},
   "source": [
    "31. mysite>ajax>views.py에서 runpythonForm, runpython이라는 함수 2개를 다음 셀과 같이 만들자"
   ]
  },
  {
   "cell_type": "code",
   "execution_count": null,
   "metadata": {},
   "outputs": [],
   "source": [
    "def runpythonForm(request):\n",
    "    return render(request, \"ajax/runpython.html\")\n",
    "\n",
    "def runpython(request) :\n",
    "    return HttpResponse(\"code ~~~~~\")"
   ]
  },
  {
   "cell_type": "markdown",
   "metadata": {},
   "source": [
    "32. mysite>ajax>urls.py에서 path 2개를 추가하자\n",
    "    - path('runpythonform', views.runpythonForm),\n",
    "    - path('runpython', views.runpython)"
   ]
  },
  {
   "cell_type": "markdown",
   "metadata": {},
   "source": [
    "33. mysite>ajax>views.py에서 다음의 사항을 추가하자\n",
    "    - 패키지 추가\n",
    "        - import sys\n",
    "        - from io import StringIO\n",
    "        \n",
    "    - runpython 함수를 다음 셀처럼 수정"
   ]
  },
  {
   "cell_type": "code",
   "execution_count": null,
   "metadata": {},
   "outputs": [],
   "source": [
    "glo = {}\n",
    "loc = {}\n",
    "\n",
    "def runpython(request) :\n",
    "    code = request.GET[\"code\"]\n",
    "\n",
    "    original_stdout = sys.stdout\n",
    "    sys.stdout = StringIO()\n",
    "    exec(code, glo, loc)\n",
    "    contents = sys.stdout.getvalue()\n",
    "    sys.stdout = original_stdout\n",
    "    contents = contents.replace(\"\\n\", \"<br>\")\n",
    "\n",
    "    contents = \"<font color=red>result</font><br>\" + contents\n",
    "    return HttpResponse(contents)"
   ]
  },
  {
   "cell_type": "markdown",
   "metadata": {},
   "source": [
    "34. 127.0.0.1:8000/ajax/runpythonform 으로 가서 다음 셀처럼 입력해보고 실행시켜보자. 결과가 웹브라우저창에 바로 나옴을 알 수 있다."
   ]
  },
  {
   "cell_type": "code",
   "execution_count": null,
   "metadata": {},
   "outputs": [],
   "source": [
    "a = 20\n",
    "print(a)\n",
    "print(\"^^^^^^^^^\")\n",
    "print(\"==========\")"
   ]
  },
  {
   "cell_type": "markdown",
   "metadata": {},
   "source": [
    "35. mysite>templates>ajax>runpython.html를 다음과 같이 수정한다."
   ]
  },
  {
   "cell_type": "code",
   "execution_count": null,
   "metadata": {},
   "outputs": [],
   "source": [
    "<script src=\"http://code.jquery.com/jquery-1.11.3.min.js\"></script>\n",
    "<script src=\"http://code.jquery.com/jquery-migrate-1.2.1.min.js\"></script>\n",
    "\n",
    "<button id=\"btnAdd\">add cell</button>\n",
    "<div id=\"cells\" >\n",
    "<div id=\"cell\">\n",
    "    <textarea rows=\"10\" cols=\"40\" id=\"code\"> </textarea>\n",
    "    <button id=\"btnRun\">실행</button>\n",
    "    <div id=\"result\">result</div>\n",
    "</div>\n",
    "</div>\n",
    "\n",
    "<script>\n",
    "     $(\"#btnRun\").click( function() {\n",
    "           var param = {code:$(\"#code\").val()};\n",
    "           $.get(\"/ajax/runpython\", param, function(data) {\n",
    "             $(\"#result\").html(data)\n",
    "           });\n",
    "     });\n",
    "    $(\"#btnAdd\").click( function() {\n",
    "      $(\"#cells\").append($(\"#cell\").clone())\n",
    "      });\n",
    "\n",
    "</script>"
   ]
  },
  {
   "cell_type": "markdown",
   "metadata": {},
   "source": [
    "36. 웹브라우저 127.0.0.1:8000/ajax/runpythonform 페이지에서 "
   ]
  },
  {
   "cell_type": "markdown",
   "metadata": {},
   "source": []
  },
  {
   "cell_type": "markdown",
   "metadata": {},
   "source": []
  },
  {
   "cell_type": "markdown",
   "metadata": {},
   "source": []
  },
  {
   "cell_type": "markdown",
   "metadata": {},
   "source": []
  },
  {
   "cell_type": "markdown",
   "metadata": {},
   "source": []
  },
  {
   "cell_type": "markdown",
   "metadata": {},
   "source": []
  }
 ],
 "metadata": {
  "kernelspec": {
   "display_name": "Python 3",
   "language": "python",
   "name": "python3"
  },
  "language_info": {
   "codemirror_mode": {
    "name": "ipython",
    "version": 3
   },
   "file_extension": ".py",
   "mimetype": "text/x-python",
   "name": "python",
   "nbconvert_exporter": "python",
   "pygments_lexer": "ipython3",
   "version": "3.7.5"
  },
  "varInspector": {
   "cols": {
    "lenName": 16,
    "lenType": 16,
    "lenVar": 40
   },
   "kernels_config": {
    "python": {
     "delete_cmd_postfix": "",
     "delete_cmd_prefix": "del ",
     "library": "var_list.py",
     "varRefreshCmd": "print(var_dic_list())"
    },
    "r": {
     "delete_cmd_postfix": ") ",
     "delete_cmd_prefix": "rm(",
     "library": "var_list.r",
     "varRefreshCmd": "cat(var_dic_list()) "
    }
   },
   "types_to_exclude": [
    "module",
    "function",
    "builtin_function_or_method",
    "instance",
    "_Feature"
   ],
   "window_display": false
  }
 },
 "nbformat": 4,
 "nbformat_minor": 4
}
