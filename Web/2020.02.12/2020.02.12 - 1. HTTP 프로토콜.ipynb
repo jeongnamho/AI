{
 "cells": [
  {
   "cell_type": "markdown",
   "metadata": {},
   "source": [
    "### HTTP\n",
    "- 웹에서 정보를 주고 받을 수 있는 가장 기본적인 프로토콜(1996)\n",
    "- HTML 포맷을 사용한 text 및 멀티미디어 자료 공유\n",
    "- TCP(80번 port) 프로토콜을 사용한 응용 계층\n",
    "- http:로 시작하는 URL을 접속"
   ]
  },
  {
   "cell_type": "markdown",
   "metadata": {},
   "source": [
    "- 웹서버에서 요청하는 방식\n",
    "    - 웹서버에 클라이언트의 data를 전송하기 위한 전송 방법\n",
    "    - Get과 POST는 전달하는 방식에서 차이가 있음"
   ]
  },
  {
   "cell_type": "markdown",
   "metadata": {},
   "source": [
    "### HTML\n",
    "- 많은 수의 문서를 하이퍼 링크로 서로 연결시킬 수 있는 문서의 구조\n",
    "- **참조(하이퍼링크)를 통해 한 문서에서 다른 문서로 즉시 접근할 수 있는 텍스트**\n",
    "- 하이퍼텍스트 1960년대 컴퓨터 개척자이지 철학자인 테드 넬슨이 처음 고안"
   ]
  },
  {
   "attachments": {},
   "cell_type": "markdown",
   "metadata": {},
   "source": [
    "<img src=\"1.jpg\" width=500>"
   ]
  },
  {
   "cell_type": "markdown",
   "metadata": {},
   "source": [
    "- 웹 프로그래밍 괜찮은 자료\n",
    "\n",
    "http://cris.joongbu.ac.kr/course/2017-1/wp/ppt.html"
   ]
  },
  {
   "cell_type": "code",
   "execution_count": null,
   "metadata": {},
   "outputs": [],
   "source": []
  },
  {
   "cell_type": "markdown",
   "metadata": {},
   "source": [
    "### Flask 폴더 기본 구조\n",
    "\n",
    "- 루트 폴더 : app\n",
    "- 정적파일 폴더 : app/static\n",
    "    - 하위에 css, img, js 폴더 생성\n",
    "- 템플릿 폴더 : app/templates\n",
    "\n",
    "### python 코드는 루트 폴더에 작성"
   ]
  }
 ],
 "metadata": {
  "kernelspec": {
   "display_name": "Python 3",
   "language": "python",
   "name": "python3"
  },
  "language_info": {
   "codemirror_mode": {
    "name": "ipython",
    "version": 3
   },
   "file_extension": ".py",
   "mimetype": "text/x-python",
   "name": "python",
   "nbconvert_exporter": "python",
   "pygments_lexer": "ipython3",
   "version": "3.7.5"
  },
  "varInspector": {
   "cols": {
    "lenName": 16,
    "lenType": 16,
    "lenVar": 40
   },
   "kernels_config": {
    "python": {
     "delete_cmd_postfix": "",
     "delete_cmd_prefix": "del ",
     "library": "var_list.py",
     "varRefreshCmd": "print(var_dic_list())"
    },
    "r": {
     "delete_cmd_postfix": ") ",
     "delete_cmd_prefix": "rm(",
     "library": "var_list.r",
     "varRefreshCmd": "cat(var_dic_list()) "
    }
   },
   "types_to_exclude": [
    "module",
    "function",
    "builtin_function_or_method",
    "instance",
    "_Feature"
   ],
   "window_display": false
  }
 },
 "nbformat": 4,
 "nbformat_minor": 4
}
