{
 "cells": [
  {
   "cell_type": "markdown",
   "metadata": {},
   "source": [
    "### HTML 동적으로 만드는 컨셉"
   ]
  },
  {
   "cell_type": "markdown",
   "metadata": {},
   "source": [
    "1. mysite>static에 jquerytest.html이라는 파일을 만들고 다음 셀의 내용을 넣는다."
   ]
  },
  {
   "cell_type": "code",
   "execution_count": null,
   "metadata": {},
   "outputs": [],
   "source": [
    "<script src=\"http://code.jquery.com/jquery-1.11.3.min.js\"></script>\n",
    "<script src=\"http://code.jquery.com/jquery-migrate-1.2.1.min.js\"></script>\n",
    "\n",
    "<button id=\"btnCalc\">로그인</button>\n",
    "\n",
    "<div id=\"view\">\n",
    "    <a href=list?id=4>  데이터1 </a> <br>\n",
    "</div>\n",
    "\n",
    "<script>\n",
    "\n",
    "    $(\"#view\").append(\"<a href=fefef>데이터2</a> <br>\")\n",
    "    $(\"#view\").append(\"<a href=fefef>데이터3</a> <br>\")\n",
    "\n",
    "</script>"
   ]
  },
  {
   "cell_type": "markdown",
   "metadata": {},
   "source": [
    "2. mysite>static 폴더에 있는 jquerytest.html을 실행시키면 다음과 같이 브라우저에 결과가 나타난다."
   ]
  },
  {
   "cell_type": "markdown",
   "metadata": {},
   "source": [
    "<img src=1.png width=400>"
   ]
  },
  {
   "cell_type": "markdown",
   "metadata": {
    "ExecuteTime": {
     "end_time": "2020-02-20T04:33:11.554148Z",
     "start_time": "2020-02-20T04:33:11.549161Z"
    }
   },
   "source": [
    "3. jquerytest.html의 내용을 다음 셀과 같이 수정한다(btnCalc에서 btnAdd로 수정)"
   ]
  },
  {
   "cell_type": "code",
   "execution_count": null,
   "metadata": {},
   "outputs": [],
   "source": [
    "<script src=\"http://code.jquery.com/jquery-1.11.3.min.js\"></script>\n",
    "<script src=\"http://code.jquery.com/jquery-migrate-1.2.1.min.js\"></script>\n",
    "\n",
    "<button id=\"btnAdd\">Add</button>\n",
    "\n",
    "<div id=\"view\">\n",
    "    <a href=list?id=4>  데이터1 </a> <br>\n",
    "</div>\n",
    "\n",
    "<script>\n",
    "\n",
    "    $(\"#view\").append(\"<a href=fefef>데이터2</a> <br>\")\n",
    "    $(\"#view\").append(\"<a href=fefef>데이터3</a> <br>\")\n",
    "\n",
    "    $(\"#btnAdd\").click(fucntion() {\n",
    "        $(\"#view\").append(\"a href=fefef>데이터2</a><br>\")\n",
    "        });\n",
    "</script>"
   ]
  },
  {
   "cell_type": "markdown",
   "metadata": {},
   "source": [
    "4. mysite>static 폴더에 있는 jquerytest.html을 실행시키면 브라우저에 Add버튼이 나타나면서 누르면 데이터2가 추가되는 결과가 나타난다."
   ]
  },
  {
   "cell_type": "code",
   "execution_count": null,
   "metadata": {},
   "outputs": [],
   "source": []
  },
  {
   "cell_type": "markdown",
   "metadata": {},
   "source": [
    "5. jquerytest.html을 다음과 같이 수정하고 다시 파일을 실행시켜보자"
   ]
  },
  {
   "cell_type": "code",
   "execution_count": null,
   "metadata": {},
   "outputs": [],
   "source": [
    "<script src=\"http://code.jquery.com/jquery-1.11.3.min.js\"></script>\n",
    "<script src=\"http://code.jquery.com/jquery-migrate-1.2.1.min.js\"></script>\n",
    "\n",
    "<button id=\"btnAdd\">Add</button>\n",
    "\n",
    "<div id=\"view\">\n",
    "    <div id=\"item\">\n",
    "        <a href=list?id=4> <span id=title> 제목 </span> </a>\n",
    "        조회수 <span id=cnt> 5 </span>\n",
    "        <br>\n",
    "    </div>\n",
    "    <a href=list?id=4>  데이터1 </a> <br>\n",
    "</div>\n",
    "\n",
    "<script>\n",
    "\n",
    "    //$(\"#view\").append(\"<a href=fefef>데이터2</a> <br>\");\n",
    "    //$(\"#view\").append(\"<a href=fefef>데이터3</a> <br>\");\n",
    "    //$(\"#title\").html(\"제목1\");\n",
    "    //$(\"#cnt\").text(\"10\");\n",
    "\n",
    "    $(\"#item\").hide();\n",
    "\n",
    "    /*\n",
    "    item = $(\"#item\").clone();\n",
    "    $(\"#title\", item).html(\"제목1\");\n",
    "    $(\"#cnt\", item).text(\"10\");\n",
    "    $(\"#view\").append(item);\n",
    "    */\n",
    "\n",
    "    var index = 0;\n",
    "\n",
    "\n",
    "    $(\"#btnAdd\").click(function() {\n",
    "\n",
    "        json = {\"datas\":[{\"pk\":1, \"title\":\"자동차 검출44343\", \"cnt\":5}, {\"pk\":2, \"title\":\"zzzz\", \"cnt\":0}]}\n",
    "\n",
    "        for (i = 0; i<json.datas.length; i++) {\n",
    "            //console.log(json.datas[i].title);\n",
    "            item= $(\"#item\").clone();\n",
    "            item.show();\n",
    "            $(\"#title\", item).html(json.datas[i].title);\n",
    "            $(\"#cnt\", item).text(json.datas[i].cnt);\n",
    "            $(\"#view\").append(item);\n",
    "        }\n",
    "\n",
    "/*\n",
    "        item= $(\"#item\").clone();\n",
    "        item.show();\n",
    "        $(\"#title\", item).html(\"제목\" + index);\n",
    "        $(\"#cnt\", item).text(\"10\");\n",
    "        $(\"#view\").append(item);\n",
    "        index++;\n",
    "*/\n",
    "        });\n",
    "</script>\n"
   ]
  },
  {
   "cell_type": "code",
   "execution_count": null,
   "metadata": {},
   "outputs": [],
   "source": []
  },
  {
   "cell_type": "code",
   "execution_count": null,
   "metadata": {},
   "outputs": [],
   "source": []
  },
  {
   "cell_type": "code",
   "execution_count": null,
   "metadata": {},
   "outputs": [],
   "source": []
  }
 ],
 "metadata": {
  "kernelspec": {
   "display_name": "Python 3",
   "language": "python",
   "name": "python3"
  },
  "language_info": {
   "codemirror_mode": {
    "name": "ipython",
    "version": 3
   },
   "file_extension": ".py",
   "mimetype": "text/x-python",
   "name": "python",
   "nbconvert_exporter": "python",
   "pygments_lexer": "ipython3",
   "version": "3.7.5"
  },
  "varInspector": {
   "cols": {
    "lenName": 16,
    "lenType": 16,
    "lenVar": 40
   },
   "kernels_config": {
    "python": {
     "delete_cmd_postfix": "",
     "delete_cmd_prefix": "del ",
     "library": "var_list.py",
     "varRefreshCmd": "print(var_dic_list())"
    },
    "r": {
     "delete_cmd_postfix": ") ",
     "delete_cmd_prefix": "rm(",
     "library": "var_list.r",
     "varRefreshCmd": "cat(var_dic_list()) "
    }
   },
   "types_to_exclude": [
    "module",
    "function",
    "builtin_function_or_method",
    "instance",
    "_Feature"
   ],
   "window_display": false
  }
 },
 "nbformat": 4,
 "nbformat_minor": 4
}
