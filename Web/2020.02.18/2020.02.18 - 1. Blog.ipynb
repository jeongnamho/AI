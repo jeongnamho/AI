{
 "cells": [
  {
   "cell_type": "markdown",
   "metadata": {},
   "source": [
    "1. 콘솔창에서 AI>Web>mysite로 디렉토리 옮기고 python manage.py startapp blog 입력 후 실행(그럼 해당 디렉토리에 blog 폴더 생김)\n",
    "\n",
    "\n",
    "2. mysite>mysite>settings.py에서 INSTALLED_APPS에서 'blog'를 추가\n",
    "\n",
    "\n",
    "3. mysite>blog>models.py에서 다음의 셀의 내용들로 채워넣고 저장"
   ]
  },
  {
   "cell_type": "code",
   "execution_count": null,
   "metadata": {},
   "outputs": [],
   "source": [
    "from django.db import models\n",
    "from django.utils import timezone\n",
    "\n",
    "\n",
    "# Create your models here.\n",
    "\n",
    "class Post(models.Model):\n",
    "    author = models.ForeignKey('auth.User', on_delete=models.CASCADE)  # 유저를 지울때 그 유저에 대한 정보를 다같이 지우라는 뜻\n",
    "    title = models.CharField(max_length=200)\n",
    "    text = models.TextField()  # 글자수에 제한 없는 텍스트\n",
    "    created_date = models.DateTimeField(\n",
    "        default=timezone.now)  # 날짜와 시간\n",
    "    published_date = models.DateTimeField(\n",
    "        blank=True, null=True) #  필드가 폼에서 빈 채로 저장되는 것을 허용\n",
    "\n",
    "    def publish(self):\n",
    "        self.published_date = timezone.now()\n",
    "        self.save()\n",
    "\n",
    "    def __str__(self):\n",
    "        return self.title"
   ]
  },
  {
   "cell_type": "markdown",
   "metadata": {},
   "source": [
    "4. mysite>blog>admin.py에서 다음 셀의 사항을 저장한다."
   ]
  },
  {
   "cell_type": "code",
   "execution_count": null,
   "metadata": {},
   "outputs": [],
   "source": [
    "from django.contrib import admin\n",
    "from blog.models import Post\n",
    "\n",
    "# Register your models here.\n",
    "\n",
    "admin.site.register(Post)"
   ]
  },
  {
   "cell_type": "markdown",
   "metadata": {},
   "source": [
    "5. 다시 콘솔창에서 (py36 가상환경 하에) python manage.py makemigrations을 실행하고\n",
    "\n",
    "\n",
    "6. python manage.py migrate을 통해 변경사항을 반영한다.\n",
    "\n",
    "\n",
    "7. python manage.py runserver를 실행시키고 웹브라우저에서 127.0.0.1:8000/admin으로 페이지 이동"
   ]
  },
  {
   "cell_type": "markdown",
   "metadata": {},
   "source": [
    "8. HOME > AUTHENTICATION AND AUTHORIZATION > Users에서 이순신이란 username을 lee로 바꿔준다.\n",
    "\n",
    "\n",
    "9. HOME > Blog > Posts > ADD Post 에서 다음 처럼 입력한다."
   ]
  },
  {
   "cell_type": "markdown",
   "metadata": {},
   "source": [
    "<img src=1.png width=400>"
   ]
  },
  {
   "cell_type": "markdown",
   "metadata": {
    "ExecuteTime": {
     "end_time": "2020-02-18T00:44:10.457170Z",
     "start_time": "2020-02-18T00:44:10.453154Z"
    }
   },
   "source": [
    "10. 9와 같은 방식으로 두개 더 만든다."
   ]
  },
  {
   "cell_type": "markdown",
   "metadata": {
    "ExecuteTime": {
     "end_time": "2020-02-18T00:46:00.702762Z",
     "start_time": "2020-02-18T00:46:00.698738Z"
    }
   },
   "source": [
    "<img src=2.png width=400>"
   ]
  },
  {
   "cell_type": "markdown",
   "metadata": {},
   "source": [
    "<img src=3.png width=400>"
   ]
  },
  {
   "cell_type": "markdown",
   "metadata": {},
   "source": [
    "11. DB browser for SQLite3 프로그램을 열어서 **데이터베이스 열기** 후 Web>mysite 디렉토리에 있는 db.sqlite3을 선택해서 실행한다.\n",
    "\n",
    "\n",
    "12. 이후 **데이터 구조** 탭에서 blog_post라는 테이블이 생성된 것을 확인할 수 있다.\n",
    "\n",
    "\n",
    "13. mysite>blog>models.py에서 Post 클래스에서 만들라고 한 것들(author, title, text, created_date, published_data)과 DB에서 **데이터보기** 탭의 항목들을 비교해보자. 있는 것도 있고 없는 것도 있을 것이다.\n",
    "\n",
    "\n",
    "14. DB Browser에서 author id 항목은 auth_user 테이블에서의 아이디 값을 의미한다.\n",
    "\n",
    "\n",
    "15. 콘솔창을 새로 하나 열어서 web>mysite 디렉토리로 경로 변경 후, py36가상환경에 들어간다. 마지막으로 python manage.py shell_plus --notebook을 입력, 실행하여 shell_plus 노트북을 연다.\n",
    "\n",
    "\n",
    "16. 주피터창이 뜨면 mysite 디렉토리 안에서 New탭을 누르고 Django Shell-Plus를 눌러서 해야 함(그냥 Python3하면 안됌!!!!!)--> 이때 새로 만든 노트북 파일은 blog.ipynb로 네임명을 바꿔주기"
   ]
  },
  {
   "cell_type": "markdown",
   "metadata": {},
   "source": [
    "17. 이후부턴 mysite> blog.ipynb에 있음"
   ]
  },
  {
   "cell_type": "markdown",
   "metadata": {},
   "source": []
  },
  {
   "cell_type": "markdown",
   "metadata": {},
   "source": []
  },
  {
   "cell_type": "markdown",
   "metadata": {},
   "source": []
  },
  {
   "cell_type": "markdown",
   "metadata": {},
   "source": []
  },
  {
   "cell_type": "markdown",
   "metadata": {},
   "source": []
  },
  {
   "cell_type": "markdown",
   "metadata": {},
   "source": []
  },
  {
   "cell_type": "markdown",
   "metadata": {},
   "source": []
  },
  {
   "cell_type": "markdown",
   "metadata": {},
   "source": []
  },
  {
   "cell_type": "markdown",
   "metadata": {},
   "source": []
  },
  {
   "cell_type": "code",
   "execution_count": null,
   "metadata": {},
   "outputs": [],
   "source": []
  },
  {
   "cell_type": "code",
   "execution_count": null,
   "metadata": {},
   "outputs": [],
   "source": []
  },
  {
   "cell_type": "code",
   "execution_count": null,
   "metadata": {},
   "outputs": [],
   "source": []
  },
  {
   "cell_type": "code",
   "execution_count": null,
   "metadata": {},
   "outputs": [],
   "source": []
  },
  {
   "cell_type": "code",
   "execution_count": null,
   "metadata": {},
   "outputs": [],
   "source": []
  },
  {
   "cell_type": "code",
   "execution_count": null,
   "metadata": {},
   "outputs": [],
   "source": []
  },
  {
   "cell_type": "code",
   "execution_count": null,
   "metadata": {},
   "outputs": [],
   "source": []
  },
  {
   "cell_type": "code",
   "execution_count": null,
   "metadata": {},
   "outputs": [],
   "source": []
  },
  {
   "cell_type": "code",
   "execution_count": null,
   "metadata": {},
   "outputs": [],
   "source": []
  },
  {
   "cell_type": "code",
   "execution_count": null,
   "metadata": {},
   "outputs": [],
   "source": []
  },
  {
   "cell_type": "code",
   "execution_count": null,
   "metadata": {},
   "outputs": [],
   "source": []
  },
  {
   "cell_type": "code",
   "execution_count": null,
   "metadata": {},
   "outputs": [],
   "source": []
  },
  {
   "cell_type": "code",
   "execution_count": null,
   "metadata": {},
   "outputs": [],
   "source": []
  },
  {
   "cell_type": "code",
   "execution_count": null,
   "metadata": {},
   "outputs": [],
   "source": []
  },
  {
   "cell_type": "code",
   "execution_count": null,
   "metadata": {},
   "outputs": [],
   "source": []
  }
 ],
 "metadata": {
  "kernelspec": {
   "display_name": "Python 3",
   "language": "python",
   "name": "python3"
  },
  "language_info": {
   "codemirror_mode": {
    "name": "ipython",
    "version": 3
   },
   "file_extension": ".py",
   "mimetype": "text/x-python",
   "name": "python",
   "nbconvert_exporter": "python",
   "pygments_lexer": "ipython3",
   "version": "3.7.5"
  },
  "varInspector": {
   "cols": {
    "lenName": 16,
    "lenType": 16,
    "lenVar": 40
   },
   "kernels_config": {
    "python": {
     "delete_cmd_postfix": "",
     "delete_cmd_prefix": "del ",
     "library": "var_list.py",
     "varRefreshCmd": "print(var_dic_list())"
    },
    "r": {
     "delete_cmd_postfix": ") ",
     "delete_cmd_prefix": "rm(",
     "library": "var_list.r",
     "varRefreshCmd": "cat(var_dic_list()) "
    }
   },
   "types_to_exclude": [
    "module",
    "function",
    "builtin_function_or_method",
    "instance",
    "_Feature"
   ],
   "window_display": false
  }
 },
 "nbformat": 4,
 "nbformat_minor": 4
}
